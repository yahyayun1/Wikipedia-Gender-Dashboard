{
 "cells": [
  {
   "cell_type": "code",
   "execution_count": 1,
   "id": "ddc5c2e0-ed79-4e0f-9b24-9f3b1e8fe5af",
   "metadata": {
    "tags": []
   },
   "outputs": [
    {
     "name": "stdout",
     "output_type": "stream",
     "text": [
      "Requirement already satisfied: pandas in /home/ec2-user/anaconda3/envs/tensorflow2_p310/lib/python3.10/site-packages (1.5.3)\n",
      "Requirement already satisfied: python-dateutil>=2.8.1 in /home/ec2-user/anaconda3/envs/tensorflow2_p310/lib/python3.10/site-packages (from pandas) (2.9.0)\n",
      "Requirement already satisfied: pytz>=2020.1 in /home/ec2-user/anaconda3/envs/tensorflow2_p310/lib/python3.10/site-packages (from pandas) (2024.1)\n",
      "Requirement already satisfied: numpy>=1.21.0 in /home/ec2-user/anaconda3/envs/tensorflow2_p310/lib/python3.10/site-packages (from pandas) (1.26.4)\n",
      "Requirement already satisfied: six>=1.5 in /home/ec2-user/anaconda3/envs/tensorflow2_p310/lib/python3.10/site-packages (from python-dateutil>=2.8.1->pandas) (1.16.0)\n",
      "Requirement already satisfied: rdflib in /home/ec2-user/anaconda3/envs/tensorflow2_p310/lib/python3.10/site-packages (7.0.0)\n",
      "Requirement already satisfied: isodate<0.7.0,>=0.6.0 in /home/ec2-user/anaconda3/envs/tensorflow2_p310/lib/python3.10/site-packages (from rdflib) (0.6.1)\n",
      "Requirement already satisfied: pyparsing<4,>=2.1.0 in /home/ec2-user/anaconda3/envs/tensorflow2_p310/lib/python3.10/site-packages (from rdflib) (3.1.2)\n",
      "Requirement already satisfied: six in /home/ec2-user/anaconda3/envs/tensorflow2_p310/lib/python3.10/site-packages (from isodate<0.7.0,>=0.6.0->rdflib) (1.16.0)\n",
      "Requirement already satisfied: SPARQLWrapper in /home/ec2-user/anaconda3/envs/tensorflow2_p310/lib/python3.10/site-packages (2.0.0)\n",
      "Requirement already satisfied: rdflib>=6.1.1 in /home/ec2-user/anaconda3/envs/tensorflow2_p310/lib/python3.10/site-packages (from SPARQLWrapper) (7.0.0)\n",
      "Requirement already satisfied: isodate<0.7.0,>=0.6.0 in /home/ec2-user/anaconda3/envs/tensorflow2_p310/lib/python3.10/site-packages (from rdflib>=6.1.1->SPARQLWrapper) (0.6.1)\n",
      "Requirement already satisfied: pyparsing<4,>=2.1.0 in /home/ec2-user/anaconda3/envs/tensorflow2_p310/lib/python3.10/site-packages (from rdflib>=6.1.1->SPARQLWrapper) (3.1.2)\n",
      "Requirement already satisfied: six in /home/ec2-user/anaconda3/envs/tensorflow2_p310/lib/python3.10/site-packages (from isodate<0.7.0,>=0.6.0->rdflib>=6.1.1->SPARQLWrapper) (1.16.0)\n"
     ]
    }
   ],
   "source": [
    "!pip install pandas\n",
    "!pip install rdflib\n",
    "!pip install SPARQLWrapper"
   ]
  },
  {
   "cell_type": "code",
   "execution_count": 2,
   "id": "0651c6ca-1db3-41a4-a5da-53ba7d8c8dc8",
   "metadata": {
    "tags": []
   },
   "outputs": [],
   "source": [
    "# import pandas library using alias pd\n",
    "import pandas as pd\n",
    "from SPARQLWrapper import SPARQLWrapper, JSON\n",
    "import numpy as np\n",
    "import time\n",
    "from tqdm import tqdm\n",
    "import pickle"
   ]
  },
  {
   "cell_type": "code",
   "execution_count": 3,
   "id": "dbf00027-aa00-4cf6-9f4a-e376fafacec8",
   "metadata": {},
   "outputs": [],
   "source": [
    "import time\n",
    "import datetime\n",
    "import logging\n",
    "\n",
    "\n",
    "# Set Logger so that we can track the progress even when the kernel is not reponding    \n",
    "logger = logging.getLogger()\n",
    "    \n",
    "def setup_file_logger(log_file):\n",
    "    hdlr = logging.FileHandler(log_file)\n",
    "    formatter = logging.Formatter('%(asctime)s %(levelname)s %(message)s')\n",
    "    hdlr.setFormatter(formatter)\n",
    "    logger.addHandler(hdlr) \n",
    "    logger.setLevel(logging.INFO)\n",
    "    \n",
    "def log(message):\n",
    "    #outputs to Jupyter console\n",
    "    print('{} {}'.format(datetime.datetime.now(), message))\n",
    "    #outputs to file\n",
    "    logger.info(message)\n",
    "    \n",
    "setup_file_logger('out.log')"
   ]
  },
  {
   "cell_type": "markdown",
   "id": "36651732-cdad-49b8-aea2-7532b9d91bc6",
   "metadata": {},
   "source": [
    "## 1) Data Preparation"
   ]
  },
  {
   "cell_type": "markdown",
   "id": "cfcaa14a-7467-46f5-b304-10f8d0be9d37",
   "metadata": {},
   "source": [
    "### 1.1 Get List of subclasses and the number of instance for each of them"
   ]
  },
  {
   "cell_type": "code",
   "execution_count": 4,
   "id": "79dc8e64-e304-493d-91c6-4675676d5394",
   "metadata": {
    "tags": []
   },
   "outputs": [],
   "source": [
    "# Initialize SPARQL endpoint\n",
    "dbpedia_sparql = SPARQLWrapper(\"https://dbpedia.org/sparql\")\n",
    "\n",
    "# Define the SPARQL query\n",
    "dbpedia_sparql.setQuery(\"\"\"\n",
    "   SELECT ?subclass (COUNT(DISTINCT ?instance) AS ?count)\n",
    "   WHERE {\n",
    "     ?instance a ?subclass.\n",
    "     ?subclass rdfs:subClassOf dbo:Person.\n",
    "     FILTER (?subclass != dbo:Person)\n",
    "   }\n",
    "   GROUP BY ?subclass\n",
    "   ORDER BY ASC(?count)\n",
    "\"\"\")\n",
    "\n",
    "# Set return format to JSON\n",
    "dbpedia_sparql.setReturnFormat(JSON)\n",
    "\n",
    "# Execute the query and process the results\n",
    "results = dbpedia_sparql.query().convert()\n",
    "\n",
    "subclasses = {}\n",
    "for result in results[\"results\"][\"bindings\"]:\n",
    "    subclass_uri = result[\"subclass\"][\"value\"]\n",
    "    count = result[\"count\"][\"value\"]\n",
    "    subclass = subclass_uri.replace(\"http://dbpedia.org/ontology/\", \"\")\n",
    "    subclasses[subclass] = int(count)  # Convert count to integer"
   ]
  },
  {
   "cell_type": "code",
   "execution_count": 5,
   "id": "1d89a6d4-2705-4b38-9c3f-eb7b0c74eaa7",
   "metadata": {
    "tags": []
   },
   "outputs": [
    {
     "data": {
      "text/plain": [
       "{'Judge': 124,\n",
       " 'Monarch': 245,\n",
       " 'Spy': 261,\n",
       " 'AmericanLeader': 264,\n",
       " 'Pilot': 286,\n",
       " 'HorseTrainer': 355,\n",
       " 'PoliceOfficer': 413,\n",
       " 'Presenter': 670,\n",
       " 'BusinessPerson': 691,\n",
       " 'Astronaut': 738,\n",
       " 'Engineer': 885,\n",
       " 'Chef': 897,\n",
       " 'Youtuber': 900,\n",
       " 'PlayboyPlaymate': 979,\n",
       " 'Economist': 1720,\n",
       " 'Journalist': 1858,\n",
       " 'Model': 2045,\n",
       " 'BeautyQueen': 2987,\n",
       " 'Philosopher': 2987,\n",
       " 'Religious': 4832,\n",
       " 'Architect': 5574,\n",
       " 'Criminal': 6081,\n",
       " 'Noble': 7949,\n",
       " 'Academic': 10663,\n",
       " 'Coach': 10954,\n",
       " 'Royalty': 22720,\n",
       " 'Cleric': 25434,\n",
       " 'SportsManager': 29156,\n",
       " 'MilitaryPerson': 50255,\n",
       " 'Writer': 51821,\n",
       " 'Scientist': 52119,\n",
       " 'OfficeHolder': 66597,\n",
       " 'Artist': 107644,\n",
       " 'Politician': 200848,\n",
       " 'OrganisationMember': 456914,\n",
       " 'Athlete': 578933}"
      ]
     },
     "execution_count": 5,
     "metadata": {},
     "output_type": "execute_result"
    }
   ],
   "source": [
    "subclasses"
   ]
  },
  {
   "cell_type": "code",
   "execution_count": 6,
   "id": "b031fec1-920b-4664-a6f1-6ec4ecb81c77",
   "metadata": {
    "tags": []
   },
   "outputs": [
    {
     "data": {
      "text/plain": [
       "124"
      ]
     },
     "execution_count": 6,
     "metadata": {},
     "output_type": "execute_result"
    }
   ],
   "source": [
    "subclasses.pop(\"Judge\")"
   ]
  },
  {
   "cell_type": "markdown",
   "id": "d3b20633-51cc-4d32-a8f9-6038b83a6347",
   "metadata": {},
   "source": [
    "### 1.2 Combine Collected Data into a Dataframe"
   ]
  },
  {
   "cell_type": "code",
   "execution_count": 7,
   "id": "ff928f2b-5f80-49ab-87d1-c8030b9735e9",
   "metadata": {
    "tags": []
   },
   "outputs": [
    {
     "name": "stdout",
     "output_type": "stream",
     "text": [
      "Academic/Academiciteration1.csv NOT FOUND\n",
      "Coach/Coachiteration2.csv NOT FOUND\n",
      "Royalty/Royaltyiteration3.csv NOT FOUND\n",
      "Cleric/Clericiteration3.csv NOT FOUND\n",
      "SportsManager/SportsManageriteration3.csv NOT FOUND\n",
      "MilitaryPerson/MilitaryPersoniteration6.csv NOT FOUND\n",
      "Writer/Writeriteration6.csv NOT FOUND\n",
      "Scientist/Scientistiteration7.csv NOT FOUND\n",
      "OfficeHolder/OfficeHolderiteration7.csv NOT FOUND\n",
      "Artist/Artistiteration12.csv NOT FOUND\n",
      "Politician/Politicianiteration20.csv NOT FOUND\n",
      "OrganisationMember/OrganisationMemberiteration0.csv NOT FOUND\n",
      "Athlete/Athleteiteration1.csv NOT FOUND\n"
     ]
    },
    {
     "data": {
      "text/plain": [
       "(979648, 7)"
      ]
     },
     "execution_count": 7,
     "metadata": {},
     "output_type": "execute_result"
    }
   ],
   "source": [
    "import math\n",
    "\n",
    "df = pd.read_csv('Judge.csv')\n",
    "\n",
    "# load the data\n",
    "for subclass, count in subclasses.items():\n",
    "    try:\n",
    "        if count < 10000:\n",
    "            temporary_df = pd.read_csv(f'{subclass}.csv')\n",
    "            df = pd.concat([df, temporary_df], ignore_index=True)\n",
    "        else:\n",
    "            for i in range(0, math.ceil(count / 10000) + 2):\n",
    "                temporary_df = pd.read_csv(f'{subclass}/{subclass}iteration{i}.csv')\n",
    "                df = pd.concat([df, temporary_df], ignore_index=True)\n",
    "    except FileNotFoundError:\n",
    "        print (f'{subclass}/{subclass}iteration{i}.csv NOT FOUND')\n",
    "    \n",
    "df.shape"
   ]
  },
  {
   "cell_type": "code",
   "execution_count": 8,
   "id": "bb527a4e-55f0-42e4-80eb-1ebb4f972be9",
   "metadata": {
    "tags": []
   },
   "outputs": [
    {
     "data": {
      "text/plain": [
       "Athlete            250573\n",
       "Politician         191191\n",
       "Artist             120000\n",
       "OfficeHolder        70000\n",
       "Scientist           70000\n",
       "Writer              60000\n",
       "MilitaryPerson      56218\n",
       "Cleric              30000\n",
       "SportsManager       29192\n",
       "Royalty             27736\n",
       "Coach               10958\n",
       "Academic            10000\n",
       "Noble               10000\n",
       "Philosopher          8875\n",
       "Criminal             7076\n",
       "Architect            5590\n",
       "Religious            4868\n",
       "BeautyQueen          2992\n",
       "Economist            2738\n",
       "Model                2048\n",
       "Journalist           1865\n",
       "PlayboyPlaymate       979\n",
       "Youtuber              901\n",
       "Chef                  899\n",
       "Engineer              891\n",
       "Astronaut             742\n",
       "BusinessPerson        691\n",
       "Presenter             671\n",
       "PoliceOfficer         413\n",
       "HorseTrainer          358\n",
       "Pilot                 286\n",
       "AmericanLeader        265\n",
       "Spy                   261\n",
       "Monarch               247\n",
       "Judge                 124\n",
       "Name: subclass, dtype: int64"
      ]
     },
     "execution_count": 8,
     "metadata": {},
     "output_type": "execute_result"
    }
   ],
   "source": [
    "# Check if all the subclasses are present in the dataframe to be preprocessed\n",
    "df['subclass'].value_counts()"
   ]
  },
  {
   "cell_type": "code",
   "execution_count": 9,
   "id": "daa8a5ab-c0e3-4546-a12a-f1c44e2f0a34",
   "metadata": {
    "tags": []
   },
   "outputs": [
    {
     "name": "stdout",
     "output_type": "stream",
     "text": [
      "<class 'pandas.core.frame.DataFrame'>\n",
      "RangeIndex: 979648 entries, 0 to 979647\n",
      "Data columns (total 7 columns):\n",
      " #   Column            Non-Null Count   Dtype  \n",
      "---  ------            --------------   -----  \n",
      " 0   subclass          979648 non-null  object \n",
      " 1   instance          979648 non-null  object \n",
      " 2   wikiDataID        948740 non-null  object \n",
      " 3   gender            926522 non-null  object \n",
      " 4   age               979648 non-null  int64  \n",
      " 5   birthYear         250573 non-null  float64\n",
      " 6   publication_year  957813 non-null  float64\n",
      "dtypes: float64(2), int64(1), object(4)\n",
      "memory usage: 52.3+ MB\n"
     ]
    }
   ],
   "source": [
    "df.info()"
   ]
  },
  {
   "cell_type": "markdown",
   "id": "49f9cf5f-c76c-45f3-8b68-08a99f6ce1ea",
   "metadata": {},
   "source": [
    "From above, it can be seen that the wikiDataID, , gender, birthYear and publication_year column has some null values."
   ]
  },
  {
   "cell_type": "markdown",
   "id": "cace1e76-333a-4a51-951a-2f11120327fa",
   "metadata": {},
   "source": [
    "### 1.3 Removing Duplicated Rows"
   ]
  },
  {
   "cell_type": "markdown",
   "id": "56083815-d671-4918-beb4-5eb75c66b869",
   "metadata": {},
   "source": [
    "#### 1.3.1 Removing Duplicated Instance and WikidataID "
   ]
  },
  {
   "cell_type": "code",
   "execution_count": 10,
   "id": "86c1fe98-cfea-473d-a0c7-79d7860d31df",
   "metadata": {
    "tags": []
   },
   "outputs": [
    {
     "data": {
      "text/html": [
       "<div>\n",
       "<style scoped>\n",
       "    .dataframe tbody tr th:only-of-type {\n",
       "        vertical-align: middle;\n",
       "    }\n",
       "\n",
       "    .dataframe tbody tr th {\n",
       "        vertical-align: top;\n",
       "    }\n",
       "\n",
       "    .dataframe thead th {\n",
       "        text-align: right;\n",
       "    }\n",
       "</style>\n",
       "<table border=\"1\" class=\"dataframe\">\n",
       "  <thead>\n",
       "    <tr style=\"text-align: right;\">\n",
       "      <th></th>\n",
       "      <th>subclass</th>\n",
       "      <th>instance</th>\n",
       "      <th>wikiDataID</th>\n",
       "      <th>gender</th>\n",
       "      <th>age</th>\n",
       "      <th>birthYear</th>\n",
       "      <th>publication_year</th>\n",
       "    </tr>\n",
       "  </thead>\n",
       "  <tbody>\n",
       "    <tr>\n",
       "      <th>537892</th>\n",
       "      <td>Politician</td>\n",
       "      <td>100th_Delaware_General_Assembly</td>\n",
       "      <td>Q4546229</td>\n",
       "      <td>NaN</td>\n",
       "      <td>0</td>\n",
       "      <td>NaN</td>\n",
       "      <td>2009.0</td>\n",
       "    </tr>\n",
       "    <tr>\n",
       "      <th>347886</th>\n",
       "      <td>OfficeHolder</td>\n",
       "      <td>100th_Delaware_General_Assembly</td>\n",
       "      <td>Q4546229</td>\n",
       "      <td>NaN</td>\n",
       "      <td>0</td>\n",
       "      <td>NaN</td>\n",
       "      <td>2009.0</td>\n",
       "    </tr>\n",
       "    <tr>\n",
       "      <th>537893</th>\n",
       "      <td>Politician</td>\n",
       "      <td>101st_Delaware_General_Assembly</td>\n",
       "      <td>Q4546348</td>\n",
       "      <td>NaN</td>\n",
       "      <td>0</td>\n",
       "      <td>NaN</td>\n",
       "      <td>2009.0</td>\n",
       "    </tr>\n",
       "    <tr>\n",
       "      <th>347888</th>\n",
       "      <td>OfficeHolder</td>\n",
       "      <td>101st_Delaware_General_Assembly</td>\n",
       "      <td>Q4546348</td>\n",
       "      <td>NaN</td>\n",
       "      <td>0</td>\n",
       "      <td>NaN</td>\n",
       "      <td>2009.0</td>\n",
       "    </tr>\n",
       "    <tr>\n",
       "      <th>537894</th>\n",
       "      <td>Politician</td>\n",
       "      <td>102nd_Delaware_General_Assembly</td>\n",
       "      <td>Q4546419</td>\n",
       "      <td>NaN</td>\n",
       "      <td>0</td>\n",
       "      <td>NaN</td>\n",
       "      <td>2009.0</td>\n",
       "    </tr>\n",
       "    <tr>\n",
       "      <th>...</th>\n",
       "      <td>...</td>\n",
       "      <td>...</td>\n",
       "      <td>...</td>\n",
       "      <td>...</td>\n",
       "      <td>...</td>\n",
       "      <td>...</td>\n",
       "      <td>...</td>\n",
       "    </tr>\n",
       "    <tr>\n",
       "      <th>728981</th>\n",
       "      <td>Politician</td>\n",
       "      <td>Ōyama_Iwao</td>\n",
       "      <td>Q359819</td>\n",
       "      <td>male</td>\n",
       "      <td>74</td>\n",
       "      <td>NaN</td>\n",
       "      <td>2003.0</td>\n",
       "    </tr>\n",
       "    <tr>\n",
       "      <th>217876</th>\n",
       "      <td>MilitaryPerson</td>\n",
       "      <td>Živko_Budimir</td>\n",
       "      <td>Q2478723</td>\n",
       "      <td>male</td>\n",
       "      <td>62</td>\n",
       "      <td>NaN</td>\n",
       "      <td>2011.0</td>\n",
       "    </tr>\n",
       "    <tr>\n",
       "      <th>729044</th>\n",
       "      <td>Politician</td>\n",
       "      <td>Živko_Budimir</td>\n",
       "      <td>Q2478723</td>\n",
       "      <td>male</td>\n",
       "      <td>62</td>\n",
       "      <td>NaN</td>\n",
       "      <td>2011.0</td>\n",
       "    </tr>\n",
       "    <tr>\n",
       "      <th>729047</th>\n",
       "      <td>Politician</td>\n",
       "      <td>Živojin_Mišić</td>\n",
       "      <td>Q1138038</td>\n",
       "      <td>male</td>\n",
       "      <td>66</td>\n",
       "      <td>NaN</td>\n",
       "      <td>2003.0</td>\n",
       "    </tr>\n",
       "    <tr>\n",
       "      <th>217879</th>\n",
       "      <td>MilitaryPerson</td>\n",
       "      <td>Živojin_Mišić</td>\n",
       "      <td>Q1138038</td>\n",
       "      <td>male</td>\n",
       "      <td>66</td>\n",
       "      <td>NaN</td>\n",
       "      <td>2003.0</td>\n",
       "    </tr>\n",
       "  </tbody>\n",
       "</table>\n",
       "<p>134353 rows × 7 columns</p>\n",
       "</div>"
      ],
      "text/plain": [
       "              subclass                         instance wikiDataID gender  \\\n",
       "537892      Politician  100th_Delaware_General_Assembly   Q4546229    NaN   \n",
       "347886    OfficeHolder  100th_Delaware_General_Assembly   Q4546229    NaN   \n",
       "537893      Politician  101st_Delaware_General_Assembly   Q4546348    NaN   \n",
       "347888    OfficeHolder  101st_Delaware_General_Assembly   Q4546348    NaN   \n",
       "537894      Politician  102nd_Delaware_General_Assembly   Q4546419    NaN   \n",
       "...                ...                              ...        ...    ...   \n",
       "728981      Politician                       Ōyama_Iwao    Q359819   male   \n",
       "217876  MilitaryPerson                    Živko_Budimir   Q2478723   male   \n",
       "729044      Politician                    Živko_Budimir   Q2478723   male   \n",
       "729047      Politician                    Živojin_Mišić   Q1138038   male   \n",
       "217879  MilitaryPerson                    Živojin_Mišić   Q1138038   male   \n",
       "\n",
       "        age  birthYear  publication_year  \n",
       "537892    0        NaN            2009.0  \n",
       "347886    0        NaN            2009.0  \n",
       "537893    0        NaN            2009.0  \n",
       "347888    0        NaN            2009.0  \n",
       "537894    0        NaN            2009.0  \n",
       "...     ...        ...               ...  \n",
       "728981   74        NaN            2003.0  \n",
       "217876   62        NaN            2011.0  \n",
       "729044   62        NaN            2011.0  \n",
       "729047   66        NaN            2003.0  \n",
       "217879   66        NaN            2003.0  \n",
       "\n",
       "[134353 rows x 7 columns]"
      ]
     },
     "execution_count": 10,
     "metadata": {},
     "output_type": "execute_result"
    }
   ],
   "source": [
    "duplicated_rows = df[df.duplicated(subset=['instance', 'wikiDataID'], keep=False)].sort_values(by=['instance'])\n",
    "duplicated_rows"
   ]
  },
  {
   "cell_type": "markdown",
   "id": "c273e5c8-8f16-4441-ae3b-9327f2717871",
   "metadata": {},
   "source": [
    "We can see above that there are 134,353 rows that have duplicated instance and wikiDataID, sicne we only need one rows of these duplicated rows, we wil keep only the first rows of such."
   ]
  },
  {
   "cell_type": "code",
   "execution_count": 11,
   "id": "9b0b7c23-26d8-4faa-9c92-08074df6984b",
   "metadata": {
    "tags": []
   },
   "outputs": [
    {
     "name": "stdout",
     "output_type": "stream",
     "text": [
      "<class 'pandas.core.frame.DataFrame'>\n",
      "Int64Index: 911850 entries, 0 to 979647\n",
      "Data columns (total 7 columns):\n",
      " #   Column            Non-Null Count   Dtype  \n",
      "---  ------            --------------   -----  \n",
      " 0   subclass          911850 non-null  object \n",
      " 1   instance          911850 non-null  object \n",
      " 2   wikiDataID        880999 non-null  object \n",
      " 3   gender            859866 non-null  object \n",
      " 4   age               911850 non-null  int64  \n",
      " 5   birthYear         245539 non-null  float64\n",
      " 6   publication_year  890068 non-null  float64\n",
      "dtypes: float64(2), int64(1), object(4)\n",
      "memory usage: 55.7+ MB\n"
     ]
    }
   ],
   "source": [
    "df1 = df.drop_duplicates(subset=['instance', 'wikiDataID'], keep='first')\n",
    "df1.info()"
   ]
  },
  {
   "cell_type": "markdown",
   "id": "eee6d170-a177-40f6-ad08-311124cd9bfc",
   "metadata": {},
   "source": [
    "#### 1.3.2 Removing Duplicated Instance and WikidataID = Removing All Duplicated Rows"
   ]
  },
  {
   "cell_type": "code",
   "execution_count": 12,
   "id": "c5cbe50a-9d84-4087-95ec-19736acb3a15",
   "metadata": {
    "tags": []
   },
   "outputs": [
    {
     "data": {
      "text/plain": [
       "0"
      ]
     },
     "execution_count": 12,
     "metadata": {},
     "output_type": "execute_result"
    }
   ],
   "source": [
    "df1.duplicated().sum() "
   ]
  },
  {
   "cell_type": "markdown",
   "id": "14824f1f-fae8-43c3-a612-e762960cdb09",
   "metadata": {},
   "source": [
    "After dropping all the duplicates, we can infer that there are 979648 - 911850 = 67,798 rows that have duplicated instance and wikiDataID and have been removed."
   ]
  },
  {
   "cell_type": "markdown",
   "id": "77f6c4f9-6929-4225-979a-7540c6dafcf2",
   "metadata": {},
   "source": [
    "#### 1.3.3 Duplicated WikidataID (which should be unique for each instance)"
   ]
  },
  {
   "cell_type": "code",
   "execution_count": 13,
   "id": "bd9238b6-8eee-4e72-aac5-945257af7fe2",
   "metadata": {
    "tags": []
   },
   "outputs": [
    {
     "data": {
      "text/plain": [
       "148921"
      ]
     },
     "execution_count": 13,
     "metadata": {},
     "output_type": "execute_result"
    }
   ],
   "source": [
    "df1['wikiDataID'].duplicated().sum()"
   ]
  },
  {
   "cell_type": "markdown",
   "id": "82070314-2087-4725-844c-4702dbcb7f32",
   "metadata": {},
   "source": [
    "However, the WikiDataID columns still shows some duplication which should not happpened since we have deleted all the duplicates and since wikiDataID is unique. Thus, I think this happened for some error when collecting the data through the API's where two or more same instance might have been represented by mutiple wikiDataID but only one of them is correct"
   ]
  },
  {
   "cell_type": "code",
   "execution_count": 14,
   "id": "7f064a4e-a615-453e-a2ef-ba97387221a0",
   "metadata": {
    "tags": []
   },
   "outputs": [
    {
     "data": {
      "text/html": [
       "<div>\n",
       "<style scoped>\n",
       "    .dataframe tbody tr th:only-of-type {\n",
       "        vertical-align: middle;\n",
       "    }\n",
       "\n",
       "    .dataframe tbody tr th {\n",
       "        vertical-align: top;\n",
       "    }\n",
       "\n",
       "    .dataframe thead th {\n",
       "        text-align: right;\n",
       "    }\n",
       "</style>\n",
       "<table border=\"1\" class=\"dataframe\">\n",
       "  <thead>\n",
       "    <tr style=\"text-align: right;\">\n",
       "      <th></th>\n",
       "      <th>subclass</th>\n",
       "      <th>instance</th>\n",
       "      <th>wikiDataID</th>\n",
       "      <th>gender</th>\n",
       "      <th>age</th>\n",
       "      <th>birthYear</th>\n",
       "      <th>publication_year</th>\n",
       "    </tr>\n",
       "  </thead>\n",
       "  <tbody>\n",
       "    <tr>\n",
       "      <th>41338</th>\n",
       "      <td>Criminal</td>\n",
       "      <td>2016_St._Cloud,_Minnesota_knife_attack</td>\n",
       "      <td>Q42915632</td>\n",
       "      <td>NaN</td>\n",
       "      <td>-8</td>\n",
       "      <td>NaN</td>\n",
       "      <td>2016.0</td>\n",
       "    </tr>\n",
       "    <tr>\n",
       "      <th>41337</th>\n",
       "      <td>Criminal</td>\n",
       "      <td>2016_St._Cloud,_Minnesota_knife_attack</td>\n",
       "      <td>Q26933993</td>\n",
       "      <td>NaN</td>\n",
       "      <td>-8</td>\n",
       "      <td>NaN</td>\n",
       "      <td>2016.0</td>\n",
       "    </tr>\n",
       "    <tr>\n",
       "      <th>349407</th>\n",
       "      <td>OfficeHolder</td>\n",
       "      <td>A._K._Fazlul_Huq</td>\n",
       "      <td>Q3242246</td>\n",
       "      <td>male</td>\n",
       "      <td>89</td>\n",
       "      <td>NaN</td>\n",
       "      <td>2005.0</td>\n",
       "    </tr>\n",
       "    <tr>\n",
       "      <th>349408</th>\n",
       "      <td>OfficeHolder</td>\n",
       "      <td>A._K._Fazlul_Huq</td>\n",
       "      <td>Q9258264</td>\n",
       "      <td>NaN</td>\n",
       "      <td>89</td>\n",
       "      <td>NaN</td>\n",
       "      <td>2005.0</td>\n",
       "    </tr>\n",
       "    <tr>\n",
       "      <th>217955</th>\n",
       "      <td>Writer</td>\n",
       "      <td>A._L._Kennedy</td>\n",
       "      <td>Q278872</td>\n",
       "      <td>female</td>\n",
       "      <td>59</td>\n",
       "      <td>NaN</td>\n",
       "      <td>2004.0</td>\n",
       "    </tr>\n",
       "    <tr>\n",
       "      <th>...</th>\n",
       "      <td>...</td>\n",
       "      <td>...</td>\n",
       "      <td>...</td>\n",
       "      <td>...</td>\n",
       "      <td>...</td>\n",
       "      <td>...</td>\n",
       "      <td>...</td>\n",
       "    </tr>\n",
       "    <tr>\n",
       "      <th>728657</th>\n",
       "      <td>Politician</td>\n",
       "      <td>Éric_Dupond-Moretti</td>\n",
       "      <td>Q93228978</td>\n",
       "      <td>male</td>\n",
       "      <td>63</td>\n",
       "      <td>NaN</td>\n",
       "      <td>2017.0</td>\n",
       "    </tr>\n",
       "    <tr>\n",
       "      <th>728831</th>\n",
       "      <td>Politician</td>\n",
       "      <td>Ömer_Çelik</td>\n",
       "      <td>Q91468051</td>\n",
       "      <td>male</td>\n",
       "      <td>56</td>\n",
       "      <td>NaN</td>\n",
       "      <td>2013.0</td>\n",
       "    </tr>\n",
       "    <tr>\n",
       "      <th>728830</th>\n",
       "      <td>Politician</td>\n",
       "      <td>Ömer_Çelik</td>\n",
       "      <td>Q297516</td>\n",
       "      <td>male</td>\n",
       "      <td>56</td>\n",
       "      <td>NaN</td>\n",
       "      <td>2013.0</td>\n",
       "    </tr>\n",
       "    <tr>\n",
       "      <th>102404</th>\n",
       "      <td>Royalty</td>\n",
       "      <td>Şehzade_Kasım</td>\n",
       "      <td>Q21523791</td>\n",
       "      <td>male</td>\n",
       "      <td>0</td>\n",
       "      <td>NaN</td>\n",
       "      <td>2022.0</td>\n",
       "    </tr>\n",
       "    <tr>\n",
       "      <th>102403</th>\n",
       "      <td>Royalty</td>\n",
       "      <td>Şehzade_Kasım</td>\n",
       "      <td>Q11929686</td>\n",
       "      <td>male</td>\n",
       "      <td>0</td>\n",
       "      <td>NaN</td>\n",
       "      <td>2022.0</td>\n",
       "    </tr>\n",
       "  </tbody>\n",
       "</table>\n",
       "<p>123471 rows × 7 columns</p>\n",
       "</div>"
      ],
      "text/plain": [
       "            subclass                                instance wikiDataID  \\\n",
       "41338       Criminal  2016_St._Cloud,_Minnesota_knife_attack  Q42915632   \n",
       "41337       Criminal  2016_St._Cloud,_Minnesota_knife_attack  Q26933993   \n",
       "349407  OfficeHolder                        A._K._Fazlul_Huq   Q3242246   \n",
       "349408  OfficeHolder                        A._K._Fazlul_Huq   Q9258264   \n",
       "217955        Writer                           A._L._Kennedy    Q278872   \n",
       "...              ...                                     ...        ...   \n",
       "728657    Politician                     Éric_Dupond-Moretti  Q93228978   \n",
       "728831    Politician                              Ömer_Çelik  Q91468051   \n",
       "728830    Politician                              Ömer_Çelik    Q297516   \n",
       "102404       Royalty                           Şehzade_Kasım  Q21523791   \n",
       "102403       Royalty                           Şehzade_Kasım  Q11929686   \n",
       "\n",
       "        gender  age  birthYear  publication_year  \n",
       "41338      NaN   -8        NaN            2016.0  \n",
       "41337      NaN   -8        NaN            2016.0  \n",
       "349407    male   89        NaN            2005.0  \n",
       "349408     NaN   89        NaN            2005.0  \n",
       "217955  female   59        NaN            2004.0  \n",
       "...        ...  ...        ...               ...  \n",
       "728657    male   63        NaN            2017.0  \n",
       "728831    male   56        NaN            2013.0  \n",
       "728830    male   56        NaN            2013.0  \n",
       "102404    male    0        NaN            2022.0  \n",
       "102403    male    0        NaN            2022.0  \n",
       "\n",
       "[123471 rows x 7 columns]"
      ]
     },
     "execution_count": 14,
     "metadata": {},
     "output_type": "execute_result"
    }
   ],
   "source": [
    "duplicated_wikidata = df1[df1.duplicated(subset=['subclass', 'instance'], keep=False)].sort_values(by=['instance'])\n",
    "duplicated_wikidata"
   ]
  },
  {
   "cell_type": "markdown",
   "id": "6aa38501-669e-4f12-b3f3-8606b439625b",
   "metadata": {},
   "source": [
    "After some initial observation, it is found that my intuation is correct, for example the instance Ömer_Çelik have two wikiDataID but only one is correct which is Q297516. Meanwhile, the wikiDataID = Q91468051 associated with him deos not exists. I plan to run a sparql query in wikidata to get the actual wikidataId for each of these instances and replace them in the df"
   ]
  },
  {
   "cell_type": "code",
   "execution_count": 15,
   "id": "6314165e-f01a-4de4-9021-35ca2bf16a7a",
   "metadata": {
    "tags": []
   },
   "outputs": [
    {
     "data": {
      "text/plain": [
       "subclass  instance         \n",
       "Academic  Alan_Martin_Boase                               [Q18917167, Q19258718]\n",
       "          Albert_Elsen                                    [Q59628885, Q19753752]\n",
       "          Andre_Franke                                   [Q67470670, Q114345084]\n",
       "          Andrew_Lambert                                   [Q4757681, Q60103671]\n",
       "          Autumn_Stanley       [Q95682724, Q95680876, Q95637638, Q95336311, Q...\n",
       "                                                     ...                        \n",
       "Writer    Max_Müller                                         [Q60074, Q55068911]\n",
       "          Mbongeni_Ngema                                   [Q10327912, Q6799750]\n",
       "          Mel_Odom_(author)                                 [Q4331780, Q6810802]\n",
       "          Melinda_Metz         [Q22107416, Q238361, Q23780935, Q2375655, Q237...\n",
       "Youtuber  TimTheTatman                                   [Q61789029, Q111584802]\n",
       "Name: wikiDataID, Length: 2625, dtype: object"
      ]
     },
     "execution_count": 15,
     "metadata": {},
     "output_type": "execute_result"
    }
   ],
   "source": [
    "instances_with_multiple_ids = duplicated_wikidata.groupby(['subclass', 'instance'])['wikiDataID'].unique()\n",
    "instances_with_multiple_ids"
   ]
  },
  {
   "cell_type": "code",
   "execution_count": 16,
   "id": "a80eb69f-383d-434b-bb2c-f656a7bec2a5",
   "metadata": {
    "tags": []
   },
   "outputs": [
    {
     "data": {
      "text/html": [
       "<div>\n",
       "<style scoped>\n",
       "    .dataframe tbody tr th:only-of-type {\n",
       "        vertical-align: middle;\n",
       "    }\n",
       "\n",
       "    .dataframe tbody tr th {\n",
       "        vertical-align: top;\n",
       "    }\n",
       "\n",
       "    .dataframe thead th {\n",
       "        text-align: right;\n",
       "    }\n",
       "</style>\n",
       "<table border=\"1\" class=\"dataframe\">\n",
       "  <thead>\n",
       "    <tr style=\"text-align: right;\">\n",
       "      <th></th>\n",
       "      <th>subclass</th>\n",
       "      <th>instance</th>\n",
       "      <th>wikiDataID</th>\n",
       "      <th>gender</th>\n",
       "      <th>age</th>\n",
       "      <th>birthYear</th>\n",
       "      <th>publication_year</th>\n",
       "    </tr>\n",
       "  </thead>\n",
       "  <tbody>\n",
       "    <tr>\n",
       "      <th>417884</th>\n",
       "      <td>Artist</td>\n",
       "      <td>!PAUS3</td>\n",
       "      <td>Q3466056</td>\n",
       "      <td>male</td>\n",
       "      <td>43</td>\n",
       "      <td>NaN</td>\n",
       "      <td>2011.0</td>\n",
       "    </tr>\n",
       "    <tr>\n",
       "      <th>417885</th>\n",
       "      <td>Artist</td>\n",
       "      <td>$pacely</td>\n",
       "      <td>Q73507574</td>\n",
       "      <td>male</td>\n",
       "      <td>32</td>\n",
       "      <td>NaN</td>\n",
       "      <td>2018.0</td>\n",
       "    </tr>\n",
       "    <tr>\n",
       "      <th>38134</th>\n",
       "      <td>Criminal</td>\n",
       "      <td>%22Baby_Lollipops%22_murder</td>\n",
       "      <td>Q64875934</td>\n",
       "      <td>NaN</td>\n",
       "      <td>63</td>\n",
       "      <td>NaN</td>\n",
       "      <td>2023.0</td>\n",
       "    </tr>\n",
       "    <tr>\n",
       "      <th>417886</th>\n",
       "      <td>Artist</td>\n",
       "      <td>%22Bassy%22_Bob_Brockmann</td>\n",
       "      <td>Q13416958</td>\n",
       "      <td>male</td>\n",
       "      <td>62</td>\n",
       "      <td>NaN</td>\n",
       "      <td>2013.0</td>\n",
       "    </tr>\n",
       "    <tr>\n",
       "      <th>537884</th>\n",
       "      <td>Politician</td>\n",
       "      <td>%22Big%22_Donnie_MacLeod</td>\n",
       "      <td>Q18645783</td>\n",
       "      <td>male</td>\n",
       "      <td>75</td>\n",
       "      <td>NaN</td>\n",
       "      <td>2014.0</td>\n",
       "    </tr>\n",
       "    <tr>\n",
       "      <th>...</th>\n",
       "      <td>...</td>\n",
       "      <td>...</td>\n",
       "      <td>...</td>\n",
       "      <td>...</td>\n",
       "      <td>...</td>\n",
       "      <td>...</td>\n",
       "      <td>...</td>\n",
       "    </tr>\n",
       "    <tr>\n",
       "      <th>102470</th>\n",
       "      <td>Royalty</td>\n",
       "      <td>Ḫarapšili</td>\n",
       "      <td>Q742087</td>\n",
       "      <td>female</td>\n",
       "      <td>0</td>\n",
       "      <td>NaN</td>\n",
       "      <td>2012.0</td>\n",
       "    </tr>\n",
       "    <tr>\n",
       "      <th>102471</th>\n",
       "      <td>Royalty</td>\n",
       "      <td>Ḫattušili_III</td>\n",
       "      <td>Q297588</td>\n",
       "      <td>male</td>\n",
       "      <td>0</td>\n",
       "      <td>NaN</td>\n",
       "      <td>2004.0</td>\n",
       "    </tr>\n",
       "    <tr>\n",
       "      <th>26705</th>\n",
       "      <td>Religious</td>\n",
       "      <td>Ṭhānissaro_Bhikkhu</td>\n",
       "      <td>Q7710407</td>\n",
       "      <td>male</td>\n",
       "      <td>75</td>\n",
       "      <td>NaN</td>\n",
       "      <td>2006.0</td>\n",
       "    </tr>\n",
       "    <tr>\n",
       "      <th>102472</th>\n",
       "      <td>Royalty</td>\n",
       "      <td>Ỷ_Lan</td>\n",
       "      <td>Q10843033</td>\n",
       "      <td>female</td>\n",
       "      <td>0</td>\n",
       "      <td>NaN</td>\n",
       "      <td>2010.0</td>\n",
       "    </tr>\n",
       "    <tr>\n",
       "      <th>102473</th>\n",
       "      <td>Royalty</td>\n",
       "      <td>‘Ulayya_bint_al-Mahdī</td>\n",
       "      <td>NaN</td>\n",
       "      <td>NaN</td>\n",
       "      <td>0</td>\n",
       "      <td>NaN</td>\n",
       "      <td>2019.0</td>\n",
       "    </tr>\n",
       "  </tbody>\n",
       "</table>\n",
       "<p>791004 rows × 7 columns</p>\n",
       "</div>"
      ],
      "text/plain": [
       "          subclass                     instance wikiDataID  gender  age  \\\n",
       "417884      Artist                       !PAUS3   Q3466056    male   43   \n",
       "417885      Artist                      $pacely  Q73507574    male   32   \n",
       "38134     Criminal  %22Baby_Lollipops%22_murder  Q64875934     NaN   63   \n",
       "417886      Artist    %22Bassy%22_Bob_Brockmann  Q13416958    male   62   \n",
       "537884  Politician     %22Big%22_Donnie_MacLeod  Q18645783    male   75   \n",
       "...            ...                          ...        ...     ...  ...   \n",
       "102470     Royalty                    Ḫarapšili    Q742087  female    0   \n",
       "102471     Royalty                Ḫattušili_III    Q297588    male    0   \n",
       "26705    Religious           Ṭhānissaro_Bhikkhu   Q7710407    male   75   \n",
       "102472     Royalty                        Ỷ_Lan  Q10843033  female    0   \n",
       "102473     Royalty        ‘Ulayya_bint_al-Mahdī        NaN     NaN    0   \n",
       "\n",
       "        birthYear  publication_year  \n",
       "417884        NaN            2011.0  \n",
       "417885        NaN            2018.0  \n",
       "38134         NaN            2023.0  \n",
       "417886        NaN            2013.0  \n",
       "537884        NaN            2014.0  \n",
       "...           ...               ...  \n",
       "102470        NaN            2012.0  \n",
       "102471        NaN            2004.0  \n",
       "26705         NaN            2006.0  \n",
       "102472        NaN            2010.0  \n",
       "102473        NaN            2019.0  \n",
       "\n",
       "[791004 rows x 7 columns]"
      ]
     },
     "execution_count": 16,
     "metadata": {},
     "output_type": "execute_result"
    }
   ],
   "source": [
    "df2 = df1[~df1.duplicated(subset=['subclass', 'instance'], keep='first')].sort_values(by=['instance'])\n",
    "df2"
   ]
  },
  {
   "cell_type": "code",
   "execution_count": 17,
   "id": "33daa771-b7fd-4f13-b028-7e664eca7d61",
   "metadata": {
    "tags": []
   },
   "outputs": [
    {
     "name": "stdout",
     "output_type": "stream",
     "text": [
      "<class 'pandas.core.frame.DataFrame'>\n",
      "Int64Index: 791004 entries, 417884 to 102473\n",
      "Data columns (total 7 columns):\n",
      " #   Column            Non-Null Count   Dtype  \n",
      "---  ------            --------------   -----  \n",
      " 0   subclass          791004 non-null  object \n",
      " 1   instance          791004 non-null  object \n",
      " 2   wikiDataID        760153 non-null  object \n",
      " 3   gender            743194 non-null  object \n",
      " 4   age               791004 non-null  int64  \n",
      " 5   birthYear         242387 non-null  float64\n",
      " 6   publication_year  769224 non-null  float64\n",
      "dtypes: float64(2), int64(1), object(4)\n",
      "memory usage: 48.3+ MB\n"
     ]
    }
   ],
   "source": [
    "df2.info()"
   ]
  },
  {
   "cell_type": "markdown",
   "id": "8069cdbe-6de2-474e-832f-a2408bb5e5f9",
   "metadata": {},
   "source": [
    "Actual df = 911850, duplicated wikiDataID = 123471, unique wikidataid from the duplicated = 2625; Cleaned df = 911850 - 123471 + 2625 = **791004** which is consistent with the information above."
   ]
  },
  {
   "cell_type": "code",
   "execution_count": 18,
   "id": "8eeb1011-9824-4b2f-b734-871592d8d727",
   "metadata": {
    "tags": []
   },
   "outputs": [
    {
     "name": "stdout",
     "output_type": "stream",
     "text": [
      "144\n"
     ]
    }
   ],
   "source": [
    "i=0\n",
    "for (subclass, instance), ids in instances_with_multiple_ids.items():\n",
    "    if len(ids) > 5:\n",
    "        i+=1\n",
    "print(i)"
   ]
  },
  {
   "cell_type": "markdown",
   "id": "e3bf739a-4230-4660-a9d0-1e86aa071264",
   "metadata": {},
   "source": [
    "After a few tries, I found that some of the instances with multiple WikidataID have more than 5 wikidataID attached to it with some reaching to more than 50 wikidataID. Additionally, out of the more than 50 WikidataID, none of them are correct. Moreover, those with less than 5 wikidataID have more tendency to contain the actual wikidataID. Therefore, I decided to only iterate through those instances with less than or equal to 5. I think it is also reasonabel to remove those instance with wikidataid more than 5 since there's only 144 of them out of 2625 instances which is only about  5.5% of the whole instances with multiple WikidataID."
   ]
  },
  {
   "cell_type": "code",
   "execution_count": 19,
   "id": "b7e65560-d99c-4511-b55b-3b76d91c8c96",
   "metadata": {
    "tags": []
   },
   "outputs": [],
   "source": [
    "def get_instance_from_dbpedia(wikidata_id):\n",
    "    # Initialize the SPARQL wrapper\n",
    "    dbpedia_sparql = SPARQLWrapper('https://dbpedia.org/sparql')\n",
    "\n",
    "    # Define the query to get the DBpedia resource URI\n",
    "    query = f\"\"\"\n",
    "    PREFIX owl: <http://www.w3.org/2002/07/owl#>\n",
    "    PREFIX wd: <http://www.wikidata.org/entity/>\n",
    "\n",
    "    SELECT ?instance WHERE {{\n",
    "      ?instance owl:sameAs wd:{wikidata_id}.\n",
    "    }}\n",
    "    \"\"\"\n",
    "    \n",
    "    dbpedia_sparql.setQuery(query)\n",
    "    dbpedia_sparql.setReturnFormat(JSON)\n",
    "    \n",
    "    while True:\n",
    "        try:\n",
    "            # Execute the query and fetch results\n",
    "            results = dbpedia_sparql.query().convert()\n",
    "                \n",
    "            if results[\"results\"][\"bindings\"]:\n",
    "                instance = results[\"results\"][\"bindings\"][0][\"instance\"][\"value\"]\n",
    "                return instance.replace(\"http://dbpedia.org/resource/\", \"\")\n",
    "            else:\n",
    "                return None\n",
    "        \n",
    "        except Exception as e:\n",
    "            print(f\"Error: {e}. Retrying after 2 seconds...\")\n",
    "            time.sleep(2)\n",
    "            get_instance_from_dbpedia(wikidata_id)\n",
    "\n",
    "def get_correct_wikidata_ids(instances_with_multiple_ids):\n",
    "    mapping = {}\n",
    "    total_instances = len(instances_with_multiple_ids)\n",
    "    \n",
    "    with tqdm(total=total_instances, desc='Processing Instances') as pbar:\n",
    "        for (subclass, instance), ids in instances_with_multiple_ids.items():\n",
    "            if len(ids) <= 5:\n",
    "                for wikidata_id in ids:\n",
    "                    name = get_instance_from_dbpedia(wikidata_id)\n",
    "                    if instance == name:\n",
    "                        mapping[(subclass, instance)] = wikidata_id\n",
    "                        break\n",
    "            else: \n",
    "                mapping[(subclass, instance)] = None\n",
    "            pbar.update(1)\n",
    "                \n",
    "    return mapping\n",
    "\n",
    "# Example usage:\n",
    "# Assuming `instances_with_multiple_ids` is defined somewhere\n",
    "# wikidata_mapping = get_correct_wikidata_ids(instances_with_multiple_ids)"
   ]
  },
  {
   "cell_type": "code",
   "execution_count": 20,
   "id": "755d069d-b8b3-4f70-80d5-2bcd49443c93",
   "metadata": {
    "tags": []
   },
   "outputs": [],
   "source": [
    "# wikidata_mapping = get_correct_wikidata_ids(instances_with_multiple_ids)"
   ]
  },
  {
   "cell_type": "markdown",
   "id": "0cbb9e10-fda4-4ea1-8e2d-f289a63292b6",
   "metadata": {},
   "source": [
    "The above code gets the correct, single Wikidata ID or None for each instances with multiple WikidataID in the orginal dataframe"
   ]
  },
  {
   "cell_type": "code",
   "execution_count": 21,
   "id": "768ce6de-e561-45bd-b123-173ec464c602",
   "metadata": {},
   "outputs": [],
   "source": [
    "# wikidata_mapping"
   ]
  },
  {
   "cell_type": "code",
   "execution_count": 22,
   "id": "b4ed4a3a-23f2-466d-b605-eaf5965c3f75",
   "metadata": {
    "tags": []
   },
   "outputs": [],
   "source": [
    "# # Specify the path where you want to save the pickle file\n",
    "# file_path = \"wikidata_mapping.pkl\"\n",
    "\n",
    "# # Open the file in write-binary mode and save the dictionary\n",
    "# with open(file_path, 'wb') as file:\n",
    "#     pickle.dump(wikidata_mapping, file)\n",
    "\n",
    "# print(\"Dictionary saved to file using pickle.\")"
   ]
  },
  {
   "cell_type": "code",
   "execution_count": 23,
   "id": "9c71a51f-414b-4ccc-93c2-a92f91aad957",
   "metadata": {
    "tags": []
   },
   "outputs": [
    {
     "name": "stdout",
     "output_type": "stream",
     "text": [
      "Dictionary loaded from file using pickle.\n"
     ]
    }
   ],
   "source": [
    "# # Specify the path of the file you want to read\n",
    "file_path = \"wikidata_mapping.pkl\"\n",
    "\n",
    "# Open the file in read-binary mode and load the dictionary\n",
    "with open(file_path, 'rb') as file:\n",
    "    wikidata_mapping = pickle.load(file)\n",
    "\n",
    "print(\"Dictionary loaded from file using pickle.\")"
   ]
  },
  {
   "cell_type": "code",
   "execution_count": 24,
   "id": "6ebd2c3e-d006-4e83-a808-cc2ba9adca15",
   "metadata": {
    "tags": []
   },
   "outputs": [
    {
     "data": {
      "text/plain": [
       "31641"
      ]
     },
     "execution_count": 24,
     "metadata": {},
     "output_type": "execute_result"
    }
   ],
   "source": [
    "df2['wikiDataID'].duplicated().sum()"
   ]
  },
  {
   "cell_type": "code",
   "execution_count": 25,
   "id": "23f81eab-8571-4192-8732-2858e881e521",
   "metadata": {
    "tags": []
   },
   "outputs": [
    {
     "name": "stdout",
     "output_type": "stream",
     "text": [
      "Updated df2 with Correct WikiDataID:\n"
     ]
    },
    {
     "data": {
      "text/html": [
       "<div>\n",
       "<style scoped>\n",
       "    .dataframe tbody tr th:only-of-type {\n",
       "        vertical-align: middle;\n",
       "    }\n",
       "\n",
       "    .dataframe tbody tr th {\n",
       "        vertical-align: top;\n",
       "    }\n",
       "\n",
       "    .dataframe thead th {\n",
       "        text-align: right;\n",
       "    }\n",
       "</style>\n",
       "<table border=\"1\" class=\"dataframe\">\n",
       "  <thead>\n",
       "    <tr style=\"text-align: right;\">\n",
       "      <th></th>\n",
       "      <th>subclass</th>\n",
       "      <th>instance</th>\n",
       "      <th>gender</th>\n",
       "      <th>age</th>\n",
       "      <th>birthYear</th>\n",
       "      <th>publication_year</th>\n",
       "      <th>wikiDataID</th>\n",
       "    </tr>\n",
       "  </thead>\n",
       "  <tbody>\n",
       "    <tr>\n",
       "      <th>417884</th>\n",
       "      <td>Artist</td>\n",
       "      <td>!PAUS3</td>\n",
       "      <td>male</td>\n",
       "      <td>43</td>\n",
       "      <td>NaN</td>\n",
       "      <td>2011.0</td>\n",
       "      <td>Q3466056</td>\n",
       "    </tr>\n",
       "    <tr>\n",
       "      <th>417885</th>\n",
       "      <td>Artist</td>\n",
       "      <td>$pacely</td>\n",
       "      <td>male</td>\n",
       "      <td>32</td>\n",
       "      <td>NaN</td>\n",
       "      <td>2018.0</td>\n",
       "      <td>Q73507574</td>\n",
       "    </tr>\n",
       "    <tr>\n",
       "      <th>38134</th>\n",
       "      <td>Criminal</td>\n",
       "      <td>%22Baby_Lollipops%22_murder</td>\n",
       "      <td>NaN</td>\n",
       "      <td>63</td>\n",
       "      <td>NaN</td>\n",
       "      <td>2023.0</td>\n",
       "      <td>Q64875934</td>\n",
       "    </tr>\n",
       "    <tr>\n",
       "      <th>417886</th>\n",
       "      <td>Artist</td>\n",
       "      <td>%22Bassy%22_Bob_Brockmann</td>\n",
       "      <td>male</td>\n",
       "      <td>62</td>\n",
       "      <td>NaN</td>\n",
       "      <td>2013.0</td>\n",
       "      <td>Q13416958</td>\n",
       "    </tr>\n",
       "    <tr>\n",
       "      <th>537884</th>\n",
       "      <td>Politician</td>\n",
       "      <td>%22Big%22_Donnie_MacLeod</td>\n",
       "      <td>male</td>\n",
       "      <td>75</td>\n",
       "      <td>NaN</td>\n",
       "      <td>2014.0</td>\n",
       "      <td>Q18645783</td>\n",
       "    </tr>\n",
       "    <tr>\n",
       "      <th>...</th>\n",
       "      <td>...</td>\n",
       "      <td>...</td>\n",
       "      <td>...</td>\n",
       "      <td>...</td>\n",
       "      <td>...</td>\n",
       "      <td>...</td>\n",
       "      <td>...</td>\n",
       "    </tr>\n",
       "    <tr>\n",
       "      <th>102470</th>\n",
       "      <td>Royalty</td>\n",
       "      <td>Ḫarapšili</td>\n",
       "      <td>female</td>\n",
       "      <td>0</td>\n",
       "      <td>NaN</td>\n",
       "      <td>2012.0</td>\n",
       "      <td>Q742087</td>\n",
       "    </tr>\n",
       "    <tr>\n",
       "      <th>102471</th>\n",
       "      <td>Royalty</td>\n",
       "      <td>Ḫattušili_III</td>\n",
       "      <td>male</td>\n",
       "      <td>0</td>\n",
       "      <td>NaN</td>\n",
       "      <td>2004.0</td>\n",
       "      <td>Q297588</td>\n",
       "    </tr>\n",
       "    <tr>\n",
       "      <th>26705</th>\n",
       "      <td>Religious</td>\n",
       "      <td>Ṭhānissaro_Bhikkhu</td>\n",
       "      <td>male</td>\n",
       "      <td>75</td>\n",
       "      <td>NaN</td>\n",
       "      <td>2006.0</td>\n",
       "      <td>Q7710407</td>\n",
       "    </tr>\n",
       "    <tr>\n",
       "      <th>102472</th>\n",
       "      <td>Royalty</td>\n",
       "      <td>Ỷ_Lan</td>\n",
       "      <td>female</td>\n",
       "      <td>0</td>\n",
       "      <td>NaN</td>\n",
       "      <td>2010.0</td>\n",
       "      <td>Q10843033</td>\n",
       "    </tr>\n",
       "    <tr>\n",
       "      <th>102473</th>\n",
       "      <td>Royalty</td>\n",
       "      <td>‘Ulayya_bint_al-Mahdī</td>\n",
       "      <td>NaN</td>\n",
       "      <td>0</td>\n",
       "      <td>NaN</td>\n",
       "      <td>2019.0</td>\n",
       "      <td>NaN</td>\n",
       "    </tr>\n",
       "  </tbody>\n",
       "</table>\n",
       "<p>791004 rows × 7 columns</p>\n",
       "</div>"
      ],
      "text/plain": [
       "          subclass                     instance  gender  age  birthYear  \\\n",
       "417884      Artist                       !PAUS3    male   43        NaN   \n",
       "417885      Artist                      $pacely    male   32        NaN   \n",
       "38134     Criminal  %22Baby_Lollipops%22_murder     NaN   63        NaN   \n",
       "417886      Artist    %22Bassy%22_Bob_Brockmann    male   62        NaN   \n",
       "537884  Politician     %22Big%22_Donnie_MacLeod    male   75        NaN   \n",
       "...            ...                          ...     ...  ...        ...   \n",
       "102470     Royalty                    Ḫarapšili  female    0        NaN   \n",
       "102471     Royalty                Ḫattušili_III    male    0        NaN   \n",
       "26705    Religious           Ṭhānissaro_Bhikkhu    male   75        NaN   \n",
       "102472     Royalty                        Ỷ_Lan  female    0        NaN   \n",
       "102473     Royalty        ‘Ulayya_bint_al-Mahdī     NaN    0        NaN   \n",
       "\n",
       "        publication_year wikiDataID  \n",
       "417884            2011.0   Q3466056  \n",
       "417885            2018.0  Q73507574  \n",
       "38134             2023.0  Q64875934  \n",
       "417886            2013.0  Q13416958  \n",
       "537884            2014.0  Q18645783  \n",
       "...                  ...        ...  \n",
       "102470            2012.0    Q742087  \n",
       "102471            2004.0    Q297588  \n",
       "26705             2006.0   Q7710407  \n",
       "102472            2010.0  Q10843033  \n",
       "102473            2019.0        NaN  \n",
       "\n",
       "[791004 rows x 7 columns]"
      ]
     },
     "execution_count": 25,
     "metadata": {},
     "output_type": "execute_result"
    }
   ],
   "source": [
    "# Define function to get the correct wikiDataID from the mapping\n",
    "def get_correct_wikidata_id(row, mapping):\n",
    "    key = (row['subclass'], row['instance'])\n",
    "    return mapping.get(key, row['wikiDataID'])  # Fallback to the original wikiDataID if no mapping is found\n",
    "\n",
    "# Update df2 with the correct wikiDataID\n",
    "df2['correct_wikiDataID'] = df2.apply(lambda row: get_correct_wikidata_id(row, wikidata_mapping), axis=1)\n",
    "\n",
    "# Drop the old wikiDataID column and rename new column\n",
    "df2 = df2.drop(columns='wikiDataID')\n",
    "df2 = df2.rename(columns={'correct_wikiDataID': 'wikiDataID'})\n",
    "\n",
    "print(\"Updated df2 with Correct WikiDataID:\")\n",
    "df2"
   ]
  },
  {
   "cell_type": "code",
   "execution_count": 26,
   "id": "cc784808-b121-4b5f-97b1-0597492deaf5",
   "metadata": {
    "tags": []
   },
   "outputs": [
    {
     "data": {
      "text/plain": [
       "31578"
      ]
     },
     "execution_count": 26,
     "metadata": {},
     "output_type": "execute_result"
    }
   ],
   "source": [
    "df2['wikiDataID'].duplicated().sum()"
   ]
  },
  {
   "cell_type": "markdown",
   "id": "20dfad62-9216-4073-a01f-e6a263dfa1b2",
   "metadata": {},
   "source": [
    "The duplicated WkiDataID has reduced from 148921 to 31758 which is about 79% reduction in duplicated WikiDataID"
   ]
  },
  {
   "cell_type": "markdown",
   "id": "f4582051-f24a-464f-9d00-dfd9047c0b41",
   "metadata": {},
   "source": [
    "### 1.4 Handling Missing Data "
   ]
  },
  {
   "cell_type": "markdown",
   "id": "296cd241-2449-4ef0-8d40-5f2bc58d0eef",
   "metadata": {},
   "source": [
    "#### 1.4.1 Identify the Number of Missing Values "
   ]
  },
  {
   "cell_type": "code",
   "execution_count": 27,
   "id": "c6b14561-5b08-45fc-b7ac-2c3721e3e9a8",
   "metadata": {
    "tags": []
   },
   "outputs": [
    {
     "data": {
      "text/plain": [
       "subclass                 0\n",
       "instance                 0\n",
       "gender               47810\n",
       "age                      0\n",
       "birthYear           548617\n",
       "publication_year     21780\n",
       "wikiDataID           30995\n",
       "dtype: int64"
      ]
     },
     "execution_count": 27,
     "metadata": {},
     "output_type": "execute_result"
    }
   ],
   "source": [
    "df2.isna().sum()"
   ]
  },
  {
   "cell_type": "markdown",
   "id": "7fcadce8-be7b-45d3-93ae-288c31acadcf",
   "metadata": {},
   "source": [
    "We can observe that the subclass, instance, and age column has no missing data. All other columns have missing data that we need to handle to ensure the data quality. Just to be sure, we will roughly look at the subclass, instance and age column to make sure they have no hidden missing values."
   ]
  },
  {
   "cell_type": "markdown",
   "id": "bec593b7-e664-495d-849e-ea8f6d1befc9",
   "metadata": {},
   "source": [
    "#### a) Subclass column"
   ]
  },
  {
   "cell_type": "code",
   "execution_count": 28,
   "id": "e28541bb-df12-4d51-8802-c6e5c0d727ec",
   "metadata": {
    "tags": []
   },
   "outputs": [
    {
     "data": {
      "text/plain": [
       "count      791004\n",
       "unique         35\n",
       "top       Athlete\n",
       "freq       242387\n",
       "Name: subclass, dtype: object"
      ]
     },
     "execution_count": 28,
     "metadata": {},
     "output_type": "execute_result"
    }
   ],
   "source": [
    "df2['subclass'].describe()"
   ]
  },
  {
   "cell_type": "code",
   "execution_count": 29,
   "id": "cdd33ebb-20bf-4bb7-8966-701074576c83",
   "metadata": {
    "tags": []
   },
   "outputs": [
    {
     "data": {
      "text/plain": [
       "Athlete            242387\n",
       "Politician         128305\n",
       "Artist              93129\n",
       "OfficeHolder        59516\n",
       "Scientist           50400\n",
       "MilitaryPerson      49965\n",
       "Writer              33520\n",
       "SportsManager       29155\n",
       "Cleric              24009\n",
       "Royalty             22024\n",
       "Coach               10954\n",
       "Noble                7037\n",
       "Criminal             6079\n",
       "Architect            5560\n",
       "Academic             4920\n",
       "Religious            4816\n",
       "Philosopher          2987\n",
       "BeautyQueen          2910\n",
       "Model                2045\n",
       "Journalist           1858\n",
       "Economist            1720\n",
       "PlayboyPlaymate       979\n",
       "Youtuber              900\n",
       "Chef                  897\n",
       "Engineer              885\n",
       "Astronaut             738\n",
       "BusinessPerson        691\n",
       "Presenter             670\n",
       "PoliceOfficer         413\n",
       "HorseTrainer          355\n",
       "Pilot                 286\n",
       "AmericanLeader        264\n",
       "Spy                   261\n",
       "Monarch               245\n",
       "Judge                 124\n",
       "Name: subclass, dtype: int64"
      ]
     },
     "execution_count": 29,
     "metadata": {},
     "output_type": "execute_result"
    }
   ],
   "source": [
    "df2['subclass'].value_counts()"
   ]
  },
  {
   "cell_type": "markdown",
   "id": "600b6a7a-db1e-480d-96f3-2ce4e983b43e",
   "metadata": {},
   "source": [
    "#### b) Instance column"
   ]
  },
  {
   "cell_type": "code",
   "execution_count": 30,
   "id": "37f665b2-bdd0-4af7-bc9a-474249d9e74a",
   "metadata": {
    "tags": []
   },
   "outputs": [
    {
     "data": {
      "text/plain": [
       "791004"
      ]
     },
     "execution_count": 30,
     "metadata": {},
     "output_type": "execute_result"
    }
   ],
   "source": [
    "len(df2['instance'].unique())"
   ]
  },
  {
   "cell_type": "markdown",
   "id": "b5c71c6a-d83b-4d8f-9234-3b38a63e1d3c",
   "metadata": {},
   "source": [
    "#### c) Age column"
   ]
  },
  {
   "cell_type": "code",
   "execution_count": 31,
   "id": "f351e914-519b-4d97-8f99-e083be94d3ca",
   "metadata": {
    "tags": []
   },
   "outputs": [
    {
     "data": {
      "text/plain": [
       "count    791004.000000\n",
       "mean         36.583676\n",
       "std          80.368008\n",
       "min       -3395.000000\n",
       "25%           0.000000\n",
       "50%          44.000000\n",
       "75%          70.000000\n",
       "max        4431.000000\n",
       "Name: age, dtype: float64"
      ]
     },
     "execution_count": 31,
     "metadata": {},
     "output_type": "execute_result"
    }
   ],
   "source": [
    "df2['age'].describe()"
   ]
  },
  {
   "cell_type": "markdown",
   "id": "bed0c80b-2f37-4076-b0d5-9a715bc5758b",
   "metadata": {},
   "source": [
    "We can see that the minimum value for age is -3395 which is not possible in the real world. Thus, we will be taking the age column into account whie handling the missing values"
   ]
  },
  {
   "cell_type": "markdown",
   "id": "5cfe9932-eb03-40c5-bde1-a7a2186ac90d",
   "metadata": {},
   "source": [
    "#### d) Missing columns to be solved"
   ]
  },
  {
   "cell_type": "markdown",
   "id": "48097d31-d7f6-4297-9ecf-43f8ffce207f",
   "metadata": {},
   "source": [
    "From above, we can conclude that only the instance and subclass column does not have any missing values. Thus, we will try to handle the missing values for all the other columns to prevent data quality issues."
   ]
  },
  {
   "cell_type": "markdown",
   "id": "95723505-259d-4aca-8cbc-3c88412fac2e",
   "metadata": {},
   "source": [
    "#### 1.4.2 Missing Data: Gender Column"
   ]
  },
  {
   "cell_type": "code",
   "execution_count": 32,
   "id": "aec6aee7-3905-4b3d-af95-e275fdae06be",
   "metadata": {
    "tags": []
   },
   "outputs": [
    {
     "data": {
      "text/plain": [
       "count     743194\n",
       "unique        52\n",
       "top         male\n",
       "freq      615154\n",
       "Name: gender, dtype: object"
      ]
     },
     "execution_count": 32,
     "metadata": {},
     "output_type": "execute_result"
    }
   ],
   "source": [
    "# summarization of Culmen length (mm) before imputation\n",
    "df2[\"gender\"].describe()"
   ]
  },
  {
   "cell_type": "code",
   "execution_count": 33,
   "id": "4e47529d-b957-4a23-99d7-fe8e7b582167",
   "metadata": {
    "tags": []
   },
   "outputs": [
    {
     "data": {
      "text/plain": [
       "male                                                                          615154\n",
       "female                                                                        127442\n",
       "trans woman                                                                      225\n",
       "non-binary                                                                       158\n",
       "trans man                                                                         54\n",
       "male organism                                                                     30\n",
       "genderfluid                                                                       17\n",
       "eunuch                                                                            16\n",
       "intersex woman                                                                    15\n",
       "intersex man                                                                      10\n",
       "genderqueer                                                                        7\n",
       "transgender                                                                        7\n",
       "intersex                                                                           6\n",
       "two-spirit                                                                         5\n",
       "transmasculine                                                                     4\n",
       "agender                                                                            4\n",
       "female organism                                                                    4\n",
       "cisgender woman                                                                    2\n",
       "androgynos                                                                         1\n",
       "http://www.wikidata.org/.well-known/genid/9c0b5bebce2d1bff63aa0763b1fa19db         1\n",
       "http://www.wikidata.org/.well-known/genid/7ef2d131e7c47832a556029bb0923d58         1\n",
       "bigender                                                                           1\n",
       "http://www.wikidata.org/.well-known/genid/ab5d4aedd9ba034e73160849ee80afed         1\n",
       "http://www.wikidata.org/.well-known/genid/ae33a05c57f8e7ff5d41b023e32b26c1         1\n",
       "cisgender man                                                                      1\n",
       "http://www.wikidata.org/.well-known/genid/ebbbd6599c004380043ea866fa33bab6         1\n",
       "http://www.wikidata.org/.well-known/genid/ed55392f46b48a8d4e291ef9180e510e         1\n",
       "http://www.wikidata.org/.well-known/genid/e3af423ca25239afdec4fdeefa52f34d         1\n",
       "travesti                                                                           1\n",
       "http://www.wikidata.org/.well-known/genid/393a5bdab2ad4c66773c0a21f70419c0         1\n",
       "http://www.wikidata.org/.well-known/genid/c81a0c81e2ff8efef355d9a5064e4bdc         1\n",
       "http://www.wikidata.org/.well-known/genid/9f8243585ab30773bfe29ba80268e985         1\n",
       "http://www.wikidata.org/.well-known/genid/ed31a0d505571ff0c8615201fa02616f         1\n",
       "http://www.wikidata.org/.well-known/genid/dcd4088849cc1d204d645b67b3008c7a         1\n",
       "http://www.wikidata.org/.well-known/genid/c456c9c8f2aadd0bd06995d9ada0e62a         1\n",
       "http://www.wikidata.org/.well-known/genid/abb37c6d8954c035e73eca8056d58b38         1\n",
       "http://www.wikidata.org/.well-known/genid/874bf8334c4aab0d6cfd74a4932f5098         1\n",
       "http://www.wikidata.org/.well-known/genid/ec27199998276ba57f7e22b3a24d39bf         1\n",
       "http://www.wikidata.org/.well-known/genid/e288f64435fcd74a0889d64ba9b4dc1d         1\n",
       "faʻafafine                                                                         1\n",
       "undisclosed gender                                                                 1\n",
       "http://www.wikidata.org/.well-known/genid/4c6b1394f262a4df9db43434980688a2         1\n",
       "http://www.wikidata.org/.well-known/genid/a74c7cebeef6b8b0f8db0348aeac2066         1\n",
       "http://www.wikidata.org/.well-known/genid/d27735d84edf04c8d57d567a4d20c85e         1\n",
       "http://www.wikidata.org/.well-known/genid/1bc67f47860f3afd835d8d218683587e         1\n",
       "http://www.wikidata.org/.well-known/genid/3dfdf04289b25e8387ff90360c1dd060         1\n",
       "http://www.wikidata.org/.well-known/genid/9d3887ab4b162fd91759804f70454f73         1\n",
       "http://www.wikidata.org/.well-known/genid/fff7757c92d3ed448966f80f6f0acaaf         1\n",
       "http://www.wikidata.org/.well-known/genid/d33b6fa8eb65aeffdf0b5bfa826edebd         1\n",
       "http://www.wikidata.org/.well-known/genid/049933859592216ef357052e54bfdeb3         1\n",
       "http://www.wikidata.org/.well-known/genid/edf1b1d1846916eb2c9aaec5da866e29         1\n",
       "http://www.wikidata.org/.well-known/genid/508662fab59938313a4eba0de5f03e17         1\n",
       "Name: gender, dtype: int64"
      ]
     },
     "execution_count": 33,
     "metadata": {},
     "output_type": "execute_result"
    }
   ],
   "source": [
    "gender_distribution_count = df2[\"gender\"].value_counts()\n",
    "gender_distribution_count"
   ]
  },
  {
   "cell_type": "markdown",
   "id": "0535c5b2-f428-41e2-b7ed-8ce21657a57a",
   "metadata": {},
   "source": [
    "There are 52 unique values for the gender column, with male being the majority gender for the instances. There are also 53,078 instances that are not assigned to a gender which we need to handle later. There are also some unwanted values that can be seem to be starting with a common link which is \"http://www.wikidata.org/.well-known/genid\". We will start by replacing those values (associated to 28 rows) with null before deciding what to do with the null values "
   ]
  },
  {
   "cell_type": "code",
   "execution_count": 34,
   "id": "895c8900-a1bd-499e-b597-96f955e7e703",
   "metadata": {
    "tags": []
   },
   "outputs": [
    {
     "data": {
      "text/plain": [
       "28"
      ]
     },
     "execution_count": 34,
     "metadata": {},
     "output_type": "execute_result"
    }
   ],
   "source": [
    "# Replace NaN values with an empty string temporarily\n",
    "s1 = df2['gender'].fillna('')\n",
    "\n",
    "# Create a boolean mask for unwanted gender values\n",
    "unwanted_gender_mask = s1.str.contains('http://www.wikidata.org/.well-known/genid', regex=False)\n",
    "\n",
    "# Count the unwanted gender values\n",
    "unwanted_gender_count = unwanted_gender_mask.sum()\n",
    "\n",
    "# Replace unwanted gender values with NaN\n",
    "df2.loc[unwanted_gender_mask, 'gender'] = np.nan\n",
    "\n",
    "# Output the count of unwanted gender values\n",
    "unwanted_gender_count"
   ]
  },
  {
   "cell_type": "code",
   "execution_count": 35,
   "id": "57cf990a-3959-4f8f-85f1-274c3b6b9a7a",
   "metadata": {
    "tags": []
   },
   "outputs": [
    {
     "data": {
      "text/plain": [
       "male                  615154\n",
       "female                127442\n",
       "trans woman              225\n",
       "non-binary               158\n",
       "trans man                 54\n",
       "male organism             30\n",
       "genderfluid               17\n",
       "eunuch                    16\n",
       "intersex woman            15\n",
       "intersex man              10\n",
       "transgender                7\n",
       "genderqueer                7\n",
       "intersex                   6\n",
       "two-spirit                 5\n",
       "female organism            4\n",
       "agender                    4\n",
       "transmasculine             4\n",
       "cisgender woman            2\n",
       "androgynos                 1\n",
       "bigender                   1\n",
       "travesti                   1\n",
       "cisgender man              1\n",
       "faʻafafine                 1\n",
       "undisclosed gender         1\n",
       "Name: gender, dtype: int64"
      ]
     },
     "execution_count": 35,
     "metadata": {},
     "output_type": "execute_result"
    }
   ],
   "source": [
    "gender_distribution_count = df2[\"gender\"].value_counts()\n",
    "gender_distribution_count"
   ]
  },
  {
   "cell_type": "code",
   "execution_count": 36,
   "id": "d312422e-e537-4c73-a69e-efffa26df97a",
   "metadata": {
    "tags": []
   },
   "outputs": [
    {
     "data": {
      "text/plain": [
       "count     743166\n",
       "unique        24\n",
       "top         male\n",
       "freq      615154\n",
       "Name: gender, dtype: object"
      ]
     },
     "execution_count": 36,
     "metadata": {},
     "output_type": "execute_result"
    }
   ],
   "source": [
    "# summarization of Culmen length (mm) before imputation\n",
    "df2[\"gender\"].describe()"
   ]
  },
  {
   "cell_type": "code",
   "execution_count": 37,
   "id": "c1f1fee4-b166-4fa3-aafc-6d8aa2759357",
   "metadata": {
    "tags": []
   },
   "outputs": [
    {
     "data": {
      "text/plain": [
       "47838"
      ]
     },
     "execution_count": 37,
     "metadata": {},
     "output_type": "execute_result"
    }
   ],
   "source": [
    "df2['gender'].isna().sum()"
   ]
  },
  {
   "cell_type": "markdown",
   "id": "d098dd30-d7aa-4668-90b4-1d731b50fe03",
   "metadata": {},
   "source": [
    "#### 1.4.3 Missing Data: Age Column"
   ]
  },
  {
   "cell_type": "code",
   "execution_count": 38,
   "id": "737d3b7a-b414-423d-b3c0-e93285d5760f",
   "metadata": {
    "tags": []
   },
   "outputs": [
    {
     "data": {
      "text/plain": [
       "count    791004.000000\n",
       "mean         36.583676\n",
       "std          80.368008\n",
       "min       -3395.000000\n",
       "25%           0.000000\n",
       "50%          44.000000\n",
       "75%          70.000000\n",
       "max        4431.000000\n",
       "Name: age, dtype: float64"
      ]
     },
     "execution_count": 38,
     "metadata": {},
     "output_type": "execute_result"
    }
   ],
   "source": [
    "df2['age'].describe()"
   ]
  },
  {
   "cell_type": "markdown",
   "id": "2fc62a1d-693b-4f0a-94c5-8fe8292080b4",
   "metadata": {},
   "source": [
    "As we have observed that -3395 which is not possible in the real world. Thus, we will inspect further and get all rows with age less than and equal to 0."
   ]
  },
  {
   "cell_type": "code",
   "execution_count": 39,
   "id": "607deb2f-642f-4977-b10a-a853e4f725a7",
   "metadata": {
    "tags": []
   },
   "outputs": [
    {
     "data": {
      "text/html": [
       "<div>\n",
       "<style scoped>\n",
       "    .dataframe tbody tr th:only-of-type {\n",
       "        vertical-align: middle;\n",
       "    }\n",
       "\n",
       "    .dataframe tbody tr th {\n",
       "        vertical-align: top;\n",
       "    }\n",
       "\n",
       "    .dataframe thead th {\n",
       "        text-align: right;\n",
       "    }\n",
       "</style>\n",
       "<table border=\"1\" class=\"dataframe\">\n",
       "  <thead>\n",
       "    <tr style=\"text-align: right;\">\n",
       "      <th></th>\n",
       "      <th>subclass</th>\n",
       "      <th>instance</th>\n",
       "      <th>gender</th>\n",
       "      <th>age</th>\n",
       "      <th>birthYear</th>\n",
       "      <th>publication_year</th>\n",
       "      <th>wikiDataID</th>\n",
       "    </tr>\n",
       "  </thead>\n",
       "  <tbody>\n",
       "    <tr>\n",
       "      <th>537885</th>\n",
       "      <td>Politician</td>\n",
       "      <td>%22Bulldog%22_Ben_Robinson</td>\n",
       "      <td>male</td>\n",
       "      <td>0</td>\n",
       "      <td>NaN</td>\n",
       "      <td>2022.0</td>\n",
       "      <td>Q112440117</td>\n",
       "    </tr>\n",
       "    <tr>\n",
       "      <th>417888</th>\n",
       "      <td>Artist</td>\n",
       "      <td>%22Frantic%22_Fay_Thomas</td>\n",
       "      <td>female</td>\n",
       "      <td>-46</td>\n",
       "      <td>NaN</td>\n",
       "      <td>2020.0</td>\n",
       "      <td>Q101445578</td>\n",
       "    </tr>\n",
       "    <tr>\n",
       "      <th>161666</th>\n",
       "      <td>MilitaryPerson</td>\n",
       "      <td>%60Adnan_%60Uqla</td>\n",
       "      <td>NaN</td>\n",
       "      <td>0</td>\n",
       "      <td>NaN</td>\n",
       "      <td>2019.0</td>\n",
       "      <td>NaN</td>\n",
       "    </tr>\n",
       "    <tr>\n",
       "      <th>347884</th>\n",
       "      <td>OfficeHolder</td>\n",
       "      <td>''Congregatio_Immaculati_Cordis_Mariae''</td>\n",
       "      <td>NaN</td>\n",
       "      <td>0</td>\n",
       "      <td>NaN</td>\n",
       "      <td>NaN</td>\n",
       "      <td>NaN</td>\n",
       "    </tr>\n",
       "    <tr>\n",
       "      <th>74738</th>\n",
       "      <td>Royalty</td>\n",
       "      <td>'Abd_Allah_II_ibn_'Ali_'Abd_ash-Shakur</td>\n",
       "      <td>male</td>\n",
       "      <td>0</td>\n",
       "      <td>NaN</td>\n",
       "      <td>2005.0</td>\n",
       "      <td>Q2820897</td>\n",
       "    </tr>\n",
       "    <tr>\n",
       "      <th>...</th>\n",
       "      <td>...</td>\n",
       "      <td>...</td>\n",
       "      <td>...</td>\n",
       "      <td>...</td>\n",
       "      <td>...</td>\n",
       "      <td>...</td>\n",
       "      <td>...</td>\n",
       "    </tr>\n",
       "    <tr>\n",
       "      <th>27093</th>\n",
       "      <td>Religious</td>\n",
       "      <td>Ḥayyim_Yitzḥak_Mussafia</td>\n",
       "      <td>male</td>\n",
       "      <td>0</td>\n",
       "      <td>NaN</td>\n",
       "      <td>2020.0</td>\n",
       "      <td>Q104528636</td>\n",
       "    </tr>\n",
       "    <tr>\n",
       "      <th>102470</th>\n",
       "      <td>Royalty</td>\n",
       "      <td>Ḫarapšili</td>\n",
       "      <td>female</td>\n",
       "      <td>0</td>\n",
       "      <td>NaN</td>\n",
       "      <td>2012.0</td>\n",
       "      <td>Q742087</td>\n",
       "    </tr>\n",
       "    <tr>\n",
       "      <th>102471</th>\n",
       "      <td>Royalty</td>\n",
       "      <td>Ḫattušili_III</td>\n",
       "      <td>male</td>\n",
       "      <td>0</td>\n",
       "      <td>NaN</td>\n",
       "      <td>2004.0</td>\n",
       "      <td>Q297588</td>\n",
       "    </tr>\n",
       "    <tr>\n",
       "      <th>102472</th>\n",
       "      <td>Royalty</td>\n",
       "      <td>Ỷ_Lan</td>\n",
       "      <td>female</td>\n",
       "      <td>0</td>\n",
       "      <td>NaN</td>\n",
       "      <td>2010.0</td>\n",
       "      <td>Q10843033</td>\n",
       "    </tr>\n",
       "    <tr>\n",
       "      <th>102473</th>\n",
       "      <td>Royalty</td>\n",
       "      <td>‘Ulayya_bint_al-Mahdī</td>\n",
       "      <td>NaN</td>\n",
       "      <td>0</td>\n",
       "      <td>NaN</td>\n",
       "      <td>2019.0</td>\n",
       "      <td>NaN</td>\n",
       "    </tr>\n",
       "  </tbody>\n",
       "</table>\n",
       "<p>237923 rows × 7 columns</p>\n",
       "</div>"
      ],
      "text/plain": [
       "              subclass                                  instance  gender  age  \\\n",
       "537885      Politician                %22Bulldog%22_Ben_Robinson    male    0   \n",
       "417888          Artist                  %22Frantic%22_Fay_Thomas  female  -46   \n",
       "161666  MilitaryPerson                          %60Adnan_%60Uqla     NaN    0   \n",
       "347884    OfficeHolder  ''Congregatio_Immaculati_Cordis_Mariae''     NaN    0   \n",
       "74738          Royalty    'Abd_Allah_II_ibn_'Ali_'Abd_ash-Shakur    male    0   \n",
       "...                ...                                       ...     ...  ...   \n",
       "27093        Religious                   Ḥayyim_Yitzḥak_Mussafia    male    0   \n",
       "102470         Royalty                                 Ḫarapšili  female    0   \n",
       "102471         Royalty                             Ḫattušili_III    male    0   \n",
       "102472         Royalty                                     Ỷ_Lan  female    0   \n",
       "102473         Royalty                     ‘Ulayya_bint_al-Mahdī     NaN    0   \n",
       "\n",
       "        birthYear  publication_year  wikiDataID  \n",
       "537885        NaN            2022.0  Q112440117  \n",
       "417888        NaN            2020.0  Q101445578  \n",
       "161666        NaN            2019.0         NaN  \n",
       "347884        NaN               NaN         NaN  \n",
       "74738         NaN            2005.0    Q2820897  \n",
       "...           ...               ...         ...  \n",
       "27093         NaN            2020.0  Q104528636  \n",
       "102470        NaN            2012.0     Q742087  \n",
       "102471        NaN            2004.0     Q297588  \n",
       "102472        NaN            2010.0   Q10843033  \n",
       "102473        NaN            2019.0         NaN  \n",
       "\n",
       "[237923 rows x 7 columns]"
      ]
     },
     "execution_count": 39,
     "metadata": {},
     "output_type": "execute_result"
    }
   ],
   "source": [
    "df2.loc[df2['age'] <= 0] "
   ]
  },
  {
   "cell_type": "markdown",
   "id": "3c3cf0ac-233c-4c39-b996-a16ab9c0790f",
   "metadata": {},
   "source": [
    "There are 276,088 rows with age <= 0. We could try using the wikidata api to retrieve the value for age since we have only used dbpedia to retrieve the age before. To do that, we still need the wikiDataID of the instances. Thus, we will make sure that majority of the instances with age<=0 does have wikiDataID as some of them might have null values."
   ]
  },
  {
   "cell_type": "markdown",
   "id": "10a81c12-95fe-46fd-b2e8-aed88a825aa8",
   "metadata": {
    "tags": []
   },
   "source": [
    "##### 1.4.3.1 Case 1: Age <=0 "
   ]
  },
  {
   "cell_type": "code",
   "execution_count": 40,
   "id": "4f74edaf-e83a-4ad6-ae7a-c8e967873164",
   "metadata": {
    "tags": []
   },
   "outputs": [
    {
     "data": {
      "text/html": [
       "<div>\n",
       "<style scoped>\n",
       "    .dataframe tbody tr th:only-of-type {\n",
       "        vertical-align: middle;\n",
       "    }\n",
       "\n",
       "    .dataframe tbody tr th {\n",
       "        vertical-align: top;\n",
       "    }\n",
       "\n",
       "    .dataframe thead th {\n",
       "        text-align: right;\n",
       "    }\n",
       "</style>\n",
       "<table border=\"1\" class=\"dataframe\">\n",
       "  <thead>\n",
       "    <tr style=\"text-align: right;\">\n",
       "      <th></th>\n",
       "      <th>subclass</th>\n",
       "      <th>instance</th>\n",
       "      <th>gender</th>\n",
       "      <th>age</th>\n",
       "      <th>birthYear</th>\n",
       "      <th>publication_year</th>\n",
       "      <th>wikiDataID</th>\n",
       "    </tr>\n",
       "  </thead>\n",
       "  <tbody>\n",
       "    <tr>\n",
       "      <th>161666</th>\n",
       "      <td>MilitaryPerson</td>\n",
       "      <td>%60Adnan_%60Uqla</td>\n",
       "      <td>NaN</td>\n",
       "      <td>0</td>\n",
       "      <td>NaN</td>\n",
       "      <td>2019.0</td>\n",
       "      <td>NaN</td>\n",
       "    </tr>\n",
       "    <tr>\n",
       "      <th>347884</th>\n",
       "      <td>OfficeHolder</td>\n",
       "      <td>''Congregatio_Immaculati_Cordis_Mariae''</td>\n",
       "      <td>NaN</td>\n",
       "      <td>0</td>\n",
       "      <td>NaN</td>\n",
       "      <td>NaN</td>\n",
       "      <td>NaN</td>\n",
       "    </tr>\n",
       "    <tr>\n",
       "      <th>26240</th>\n",
       "      <td>Philosopher</td>\n",
       "      <td>'Abd_al-Haqq_al-Dehlawi__1</td>\n",
       "      <td>NaN</td>\n",
       "      <td>0</td>\n",
       "      <td>NaN</td>\n",
       "      <td>NaN</td>\n",
       "      <td>NaN</td>\n",
       "    </tr>\n",
       "    <tr>\n",
       "      <th>161667</th>\n",
       "      <td>MilitaryPerson</td>\n",
       "      <td>'Ali_ibn_Aban_al-Muhallabi</td>\n",
       "      <td>NaN</td>\n",
       "      <td>0</td>\n",
       "      <td>NaN</td>\n",
       "      <td>NaN</td>\n",
       "      <td>NaN</td>\n",
       "    </tr>\n",
       "    <tr>\n",
       "      <th>161668</th>\n",
       "      <td>MilitaryPerson</td>\n",
       "      <td>'Ali_ibn_Muhammad_(Zanj_leader)</td>\n",
       "      <td>NaN</td>\n",
       "      <td>0</td>\n",
       "      <td>NaN</td>\n",
       "      <td>NaN</td>\n",
       "      <td>NaN</td>\n",
       "    </tr>\n",
       "    <tr>\n",
       "      <th>...</th>\n",
       "      <td>...</td>\n",
       "      <td>...</td>\n",
       "      <td>...</td>\n",
       "      <td>...</td>\n",
       "      <td>...</td>\n",
       "      <td>...</td>\n",
       "      <td>...</td>\n",
       "    </tr>\n",
       "    <tr>\n",
       "      <th>102435</th>\n",
       "      <td>Royalty</td>\n",
       "      <td>Şehzade_Sultan</td>\n",
       "      <td>NaN</td>\n",
       "      <td>0</td>\n",
       "      <td>NaN</td>\n",
       "      <td>NaN</td>\n",
       "      <td>NaN</td>\n",
       "    </tr>\n",
       "    <tr>\n",
       "      <th>102441</th>\n",
       "      <td>Royalty</td>\n",
       "      <td>Şemsiruhsar_Hatun</td>\n",
       "      <td>NaN</td>\n",
       "      <td>0</td>\n",
       "      <td>NaN</td>\n",
       "      <td>2014.0</td>\n",
       "      <td>NaN</td>\n",
       "    </tr>\n",
       "    <tr>\n",
       "      <th>217870</th>\n",
       "      <td>MilitaryPerson</td>\n",
       "      <td>Žanis_Bļumbergs</td>\n",
       "      <td>NaN</td>\n",
       "      <td>0</td>\n",
       "      <td>NaN</td>\n",
       "      <td>2020.0</td>\n",
       "      <td>NaN</td>\n",
       "    </tr>\n",
       "    <tr>\n",
       "      <th>217874</th>\n",
       "      <td>MilitaryPerson</td>\n",
       "      <td>Željko_Ražnatović</td>\n",
       "      <td>NaN</td>\n",
       "      <td>0</td>\n",
       "      <td>NaN</td>\n",
       "      <td>2020.0</td>\n",
       "      <td>NaN</td>\n",
       "    </tr>\n",
       "    <tr>\n",
       "      <th>102473</th>\n",
       "      <td>Royalty</td>\n",
       "      <td>‘Ulayya_bint_al-Mahdī</td>\n",
       "      <td>NaN</td>\n",
       "      <td>0</td>\n",
       "      <td>NaN</td>\n",
       "      <td>2019.0</td>\n",
       "      <td>NaN</td>\n",
       "    </tr>\n",
       "  </tbody>\n",
       "</table>\n",
       "<p>24753 rows × 7 columns</p>\n",
       "</div>"
      ],
      "text/plain": [
       "              subclass                                  instance gender  age  \\\n",
       "161666  MilitaryPerson                          %60Adnan_%60Uqla    NaN    0   \n",
       "347884    OfficeHolder  ''Congregatio_Immaculati_Cordis_Mariae''    NaN    0   \n",
       "26240      Philosopher                'Abd_al-Haqq_al-Dehlawi__1    NaN    0   \n",
       "161667  MilitaryPerson                'Ali_ibn_Aban_al-Muhallabi    NaN    0   \n",
       "161668  MilitaryPerson           'Ali_ibn_Muhammad_(Zanj_leader)    NaN    0   \n",
       "...                ...                                       ...    ...  ...   \n",
       "102435         Royalty                            Şehzade_Sultan    NaN    0   \n",
       "102441         Royalty                         Şemsiruhsar_Hatun    NaN    0   \n",
       "217870  MilitaryPerson                           Žanis_Bļumbergs    NaN    0   \n",
       "217874  MilitaryPerson                         Željko_Ražnatović    NaN    0   \n",
       "102473         Royalty                     ‘Ulayya_bint_al-Mahdī    NaN    0   \n",
       "\n",
       "        birthYear  publication_year wikiDataID  \n",
       "161666        NaN            2019.0        NaN  \n",
       "347884        NaN               NaN        NaN  \n",
       "26240         NaN               NaN        NaN  \n",
       "161667        NaN               NaN        NaN  \n",
       "161668        NaN               NaN        NaN  \n",
       "...           ...               ...        ...  \n",
       "102435        NaN               NaN        NaN  \n",
       "102441        NaN            2014.0        NaN  \n",
       "217870        NaN            2020.0        NaN  \n",
       "217874        NaN            2020.0        NaN  \n",
       "102473        NaN            2019.0        NaN  \n",
       "\n",
       "[24753 rows x 7 columns]"
      ]
     },
     "execution_count": 40,
     "metadata": {},
     "output_type": "execute_result"
    }
   ],
   "source": [
    "df2.loc[((df2['age'] <= 0) & (df2['wikiDataID'].isna()))]"
   ]
  },
  {
   "cell_type": "code",
   "execution_count": 41,
   "id": "b799aa34-76f3-4b2e-8523-cb060fe0802c",
   "metadata": {
    "tags": []
   },
   "outputs": [
    {
     "data": {
      "text/plain": [
       "213170"
      ]
     },
     "execution_count": 41,
     "metadata": {},
     "output_type": "execute_result"
    }
   ],
   "source": [
    "wrong_age_subset = df2.loc[((df2['age'] <= 0) & (df2['wikiDataID'].notna())), ['instance', 'wikiDataID', 'age']].values.tolist()\n",
    "len(wrong_age_subset)"
   ]
  },
  {
   "cell_type": "markdown",
   "id": "013e6cd9-0948-4e67-bf7a-f0e8180187e2",
   "metadata": {},
   "source": [
    "Out of all 237,923 instances that has age <=0, there are 213,170 instances that have the wikidataID and 24,753 instances without wikidataID. We will try to get the age of those instances with wikidataID as they have more counts. After that, we will decide what to do with those without wikidataID"
   ]
  },
  {
   "cell_type": "code",
   "execution_count": 42,
   "id": "73703ffa-fe87-4dfd-ad06-b067cd001b9c",
   "metadata": {
    "tags": []
   },
   "outputs": [],
   "source": [
    "import time\n",
    "from tqdm import tqdm\n",
    "\n",
    "def get_age_from_wikidata(wikidata_id):\n",
    "    \"\"\"\n",
    "    Fetches the age of an individual from Wikidata using their Wikidata ID.\n",
    "    \n",
    "    Args:\n",
    "        wikidata_id (str): The Wikidata ID of the individual.\n",
    "    \n",
    "    Returns:\n",
    "        int or None: The calculated age if found, otherwise None.\n",
    "    \"\"\"\n",
    "    from SPARQLWrapper import SPARQLWrapper, JSON\n",
    "    \n",
    "    # Initialize the SPARQL wrapper\n",
    "    wikidata_sparql = SPARQLWrapper('https://query.wikidata.org/sparql')\n",
    "\n",
    "    # Define the SPARQL query to get birth and death dates\n",
    "    query = f\"\"\"\n",
    "    SELECT ?birthDate ?deathDate (YEAR(COALESCE(?deathDate, NOW())) - YEAR(?birthDate) AS ?age)\n",
    "    WHERE {{\n",
    "        wd:{wikidata_id} wdt:P569 ?birthDate.  # Date of birth\n",
    "        OPTIONAL {{ wd:{wikidata_id} wdt:P570 ?deathDate. }}  # Date of death (optional)\n",
    "    }}\n",
    "    \"\"\"\n",
    "    \n",
    "    wikidata_sparql.setQuery(query)\n",
    "    wikidata_sparql.setReturnFormat(JSON)\n",
    "    \n",
    "    max_retries = 3\n",
    "    retries = 0\n",
    "\n",
    "    while retries < max_retries:\n",
    "        try:\n",
    "            # Execute the query and fetch results\n",
    "            results = wikidata_sparql.query().convert()\n",
    "            \n",
    "            if results[\"results\"][\"bindings\"]:\n",
    "                # Fetch age from results\n",
    "                age = results[\"results\"][\"bindings\"][0][\"age\"][\"value\"]\n",
    "                return int(age)\n",
    "            else:\n",
    "                return None\n",
    "        \n",
    "        except Exception as e:\n",
    "            print(f\"Error: {e}. Retrying after 2 seconds...\")\n",
    "            retries += 1\n",
    "            time.sleep(3)\n",
    "    \n",
    "    print(\"Max retries reached. Could not fetch data.\")\n",
    "    return None\n",
    "\n",
    "def subset_get_age(wrong_age_subset, log_file=\"age0_processed_instances.txt\"):\n",
    "    mapping = {}\n",
    "    total_instances = len(wrong_age_subset)\n",
    "    \n",
    "    # Read the log file to find already processed instances\n",
    "    processed = set()\n",
    "    try:\n",
    "        with open(log_file, 'r') as f:\n",
    "            for line in f:\n",
    "                instance, wikidata_id, age = line.strip().split('\\t')\n",
    "                processed.add((instance, wikidata_id))\n",
    "                mapping[(instance, wikidata_id)] = int(age)\n",
    "    except FileNotFoundError:\n",
    "        pass\n",
    "    \n",
    "    with tqdm(total=total_instances, desc='Processing Instances') as pbar, open(log_file, 'a') as f:\n",
    "        for instance, wikidata_id, _ in wrong_age_subset:\n",
    "            if (instance, wikidata_id) in processed:\n",
    "                pbar.update(1)\n",
    "                continue\n",
    "            \n",
    "            age = get_age_from_wikidata(wikidata_id)\n",
    "            mapping[(instance, wikidata_id)] = age\n",
    "            \n",
    "            # Log the instance to the file\n",
    "            f.write(f\"{instance}\\t{wikidata_id}\\t{age}\\n\")\n",
    "            f.flush()  # Ensure the data is written to the file immediately\n",
    "            \n",
    "            pbar.update(1)\n",
    "    \n",
    "    return mapping\n",
    "\n",
    "# Example usage:\n",
    "# wrong_age_subset = [(\"Instance1\", \"Q42\", 42), (\"Instance2\", \"Q123\", 36), ...]\n",
    "# subset_get_age(wrong_age_subset)"
   ]
  },
  {
   "cell_type": "code",
   "execution_count": 43,
   "id": "b3b5937a-fb3b-448d-b409-af2077ea7714",
   "metadata": {
    "tags": []
   },
   "outputs": [],
   "source": [
    "def age_txt_to_dict(filename): \n",
    "    age_mapping = {} \n",
    "    with open(filename, 'r') as f:\n",
    "        for line in f:\n",
    "            instance, wikidata_id, age = line.strip().split('\\t')\n",
    "            if age and age != 'None':  # Ensure age is neither empty nor 'None'\n",
    "                age_mapping[(instance, wikidata_id)] = int(age)\n",
    "            else: \n",
    "                age_mapping[(instance, wikidata_id)] = None\n",
    "    return age_mapping"
   ]
  },
  {
   "cell_type": "code",
   "execution_count": 44,
   "id": "832b47f4-ab13-414f-9905-94e1a59fdd66",
   "metadata": {
    "tags": []
   },
   "outputs": [],
   "source": [
    "# age_mapping = subset_get_age(wrong_age_subset)\n",
    "age_mapping = age_txt_to_dict('age0_processed_instances')"
   ]
  },
  {
   "cell_type": "code",
   "execution_count": 45,
   "id": "4dcc83d7-34c8-4ff7-a75f-1060e34b1cc7",
   "metadata": {
    "tags": []
   },
   "outputs": [
    {
     "data": {
      "text/plain": [
       "213170"
      ]
     },
     "execution_count": 45,
     "metadata": {},
     "output_type": "execute_result"
    }
   ],
   "source": [
    "len(age_mapping)"
   ]
  },
  {
   "cell_type": "code",
   "execution_count": 46,
   "id": "ad12f0db-2128-423c-84c9-c9a90f120e5d",
   "metadata": {
    "tags": []
   },
   "outputs": [
    {
     "data": {
      "text/html": [
       "<div>\n",
       "<style scoped>\n",
       "    .dataframe tbody tr th:only-of-type {\n",
       "        vertical-align: middle;\n",
       "    }\n",
       "\n",
       "    .dataframe tbody tr th {\n",
       "        vertical-align: top;\n",
       "    }\n",
       "\n",
       "    .dataframe thead th {\n",
       "        text-align: right;\n",
       "    }\n",
       "</style>\n",
       "<table border=\"1\" class=\"dataframe\">\n",
       "  <thead>\n",
       "    <tr style=\"text-align: right;\">\n",
       "      <th></th>\n",
       "      <th>subclass</th>\n",
       "      <th>instance</th>\n",
       "      <th>gender</th>\n",
       "      <th>age</th>\n",
       "      <th>birthYear</th>\n",
       "      <th>publication_year</th>\n",
       "      <th>wikiDataID</th>\n",
       "    </tr>\n",
       "  </thead>\n",
       "  <tbody>\n",
       "    <tr>\n",
       "      <th>417884</th>\n",
       "      <td>Artist</td>\n",
       "      <td>!PAUS3</td>\n",
       "      <td>male</td>\n",
       "      <td>43.0</td>\n",
       "      <td>NaN</td>\n",
       "      <td>2011.0</td>\n",
       "      <td>Q3466056</td>\n",
       "    </tr>\n",
       "    <tr>\n",
       "      <th>417885</th>\n",
       "      <td>Artist</td>\n",
       "      <td>$pacely</td>\n",
       "      <td>male</td>\n",
       "      <td>32.0</td>\n",
       "      <td>NaN</td>\n",
       "      <td>2018.0</td>\n",
       "      <td>Q73507574</td>\n",
       "    </tr>\n",
       "    <tr>\n",
       "      <th>38134</th>\n",
       "      <td>Criminal</td>\n",
       "      <td>%22Baby_Lollipops%22_murder</td>\n",
       "      <td>NaN</td>\n",
       "      <td>63.0</td>\n",
       "      <td>NaN</td>\n",
       "      <td>2023.0</td>\n",
       "      <td>Q64875934</td>\n",
       "    </tr>\n",
       "    <tr>\n",
       "      <th>417886</th>\n",
       "      <td>Artist</td>\n",
       "      <td>%22Bassy%22_Bob_Brockmann</td>\n",
       "      <td>male</td>\n",
       "      <td>62.0</td>\n",
       "      <td>NaN</td>\n",
       "      <td>2013.0</td>\n",
       "      <td>Q13416958</td>\n",
       "    </tr>\n",
       "    <tr>\n",
       "      <th>537884</th>\n",
       "      <td>Politician</td>\n",
       "      <td>%22Big%22_Donnie_MacLeod</td>\n",
       "      <td>male</td>\n",
       "      <td>75.0</td>\n",
       "      <td>NaN</td>\n",
       "      <td>2014.0</td>\n",
       "      <td>Q18645783</td>\n",
       "    </tr>\n",
       "    <tr>\n",
       "      <th>...</th>\n",
       "      <td>...</td>\n",
       "      <td>...</td>\n",
       "      <td>...</td>\n",
       "      <td>...</td>\n",
       "      <td>...</td>\n",
       "      <td>...</td>\n",
       "      <td>...</td>\n",
       "    </tr>\n",
       "    <tr>\n",
       "      <th>102470</th>\n",
       "      <td>Royalty</td>\n",
       "      <td>Ḫarapšili</td>\n",
       "      <td>female</td>\n",
       "      <td>3574.0</td>\n",
       "      <td>NaN</td>\n",
       "      <td>2012.0</td>\n",
       "      <td>Q742087</td>\n",
       "    </tr>\n",
       "    <tr>\n",
       "      <th>102471</th>\n",
       "      <td>Royalty</td>\n",
       "      <td>Ḫattušili_III</td>\n",
       "      <td>male</td>\n",
       "      <td>0.0</td>\n",
       "      <td>NaN</td>\n",
       "      <td>2004.0</td>\n",
       "      <td>Q297588</td>\n",
       "    </tr>\n",
       "    <tr>\n",
       "      <th>26705</th>\n",
       "      <td>Religious</td>\n",
       "      <td>Ṭhānissaro_Bhikkhu</td>\n",
       "      <td>male</td>\n",
       "      <td>75.0</td>\n",
       "      <td>NaN</td>\n",
       "      <td>2006.0</td>\n",
       "      <td>Q7710407</td>\n",
       "    </tr>\n",
       "    <tr>\n",
       "      <th>102472</th>\n",
       "      <td>Royalty</td>\n",
       "      <td>Ỷ_Lan</td>\n",
       "      <td>female</td>\n",
       "      <td>67.0</td>\n",
       "      <td>NaN</td>\n",
       "      <td>2010.0</td>\n",
       "      <td>Q10843033</td>\n",
       "    </tr>\n",
       "    <tr>\n",
       "      <th>102473</th>\n",
       "      <td>Royalty</td>\n",
       "      <td>‘Ulayya_bint_al-Mahdī</td>\n",
       "      <td>NaN</td>\n",
       "      <td>-1.0</td>\n",
       "      <td>NaN</td>\n",
       "      <td>2019.0</td>\n",
       "      <td>NaN</td>\n",
       "    </tr>\n",
       "  </tbody>\n",
       "</table>\n",
       "<p>791004 rows × 7 columns</p>\n",
       "</div>"
      ],
      "text/plain": [
       "          subclass                     instance  gender     age  birthYear  \\\n",
       "417884      Artist                       !PAUS3    male    43.0        NaN   \n",
       "417885      Artist                      $pacely    male    32.0        NaN   \n",
       "38134     Criminal  %22Baby_Lollipops%22_murder     NaN    63.0        NaN   \n",
       "417886      Artist    %22Bassy%22_Bob_Brockmann    male    62.0        NaN   \n",
       "537884  Politician     %22Big%22_Donnie_MacLeod    male    75.0        NaN   \n",
       "...            ...                          ...     ...     ...        ...   \n",
       "102470     Royalty                    Ḫarapšili  female  3574.0        NaN   \n",
       "102471     Royalty                Ḫattušili_III    male     0.0        NaN   \n",
       "26705    Religious           Ṭhānissaro_Bhikkhu    male    75.0        NaN   \n",
       "102472     Royalty                        Ỷ_Lan  female    67.0        NaN   \n",
       "102473     Royalty        ‘Ulayya_bint_al-Mahdī     NaN    -1.0        NaN   \n",
       "\n",
       "        publication_year wikiDataID  \n",
       "417884            2011.0   Q3466056  \n",
       "417885            2018.0  Q73507574  \n",
       "38134             2023.0  Q64875934  \n",
       "417886            2013.0  Q13416958  \n",
       "537884            2014.0  Q18645783  \n",
       "...                  ...        ...  \n",
       "102470            2012.0    Q742087  \n",
       "102471            2004.0    Q297588  \n",
       "26705             2006.0   Q7710407  \n",
       "102472            2010.0  Q10843033  \n",
       "102473            2019.0        NaN  \n",
       "\n",
       "[791004 rows x 7 columns]"
      ]
     },
     "execution_count": 46,
     "metadata": {},
     "output_type": "execute_result"
    }
   ],
   "source": [
    "# Define function to get the correct age using WikidataID\n",
    "def get_correct_age(row, mapping):\n",
    "    key = (row['instance'], row['wikiDataID'])\n",
    "    if row['age'] == 0:\n",
    "        row['age'] = -1      #reassign all age == 0 in the initial df to -1 so that we can distigush distinguish intances with actual age = 0\n",
    "    return mapping.get(key, row['age'])  # Fallback to the original wikiDataID if no mapping is found\n",
    "\n",
    "# Create a copy of df2 to keep the original data intact\n",
    "df3 = df2.copy()\n",
    "\n",
    "# Apply the function to update the 'age' column in the new DataFrame with a progress bar\n",
    "df3['age'] = df3.apply(lambda row: get_correct_age(row, age_mapping), axis=1)\n",
    "\n",
    "# The df3 DataFrame now has the updated 'age' column with fetched data from Wikidata where applicable\n",
    "df3"
   ]
  },
  {
   "cell_type": "markdown",
   "id": "fc3e9b4e-28d3-4a4b-bcec-d38a8aa55439",
   "metadata": {},
   "source": [
    "All the above codes are used to cross-reference the age from original dataset (retireved from DBpedia) to the age from WikiData for the same instance. Those with null values are recorded as null"
   ]
  },
  {
   "cell_type": "code",
   "execution_count": 47,
   "id": "55b6866e-c0ff-49f1-b694-0dc866d15956",
   "metadata": {
    "tags": []
   },
   "outputs": [
    {
     "data": {
      "text/plain": [
       "subclass                 0\n",
       "instance                 0\n",
       "gender               47838\n",
       "age                  58765\n",
       "birthYear           548617\n",
       "publication_year     21780\n",
       "wikiDataID           30995\n",
       "dtype: int64"
      ]
     },
     "execution_count": 47,
     "metadata": {},
     "output_type": "execute_result"
    }
   ],
   "source": [
    "df3.isna().sum()"
   ]
  },
  {
   "cell_type": "code",
   "execution_count": 48,
   "id": "648737c4-3e7a-40a8-b2fb-faa37aeca9f0",
   "metadata": {
    "tags": []
   },
   "outputs": [
    {
     "data": {
      "text/html": [
       "<div>\n",
       "<style scoped>\n",
       "    .dataframe tbody tr th:only-of-type {\n",
       "        vertical-align: middle;\n",
       "    }\n",
       "\n",
       "    .dataframe tbody tr th {\n",
       "        vertical-align: top;\n",
       "    }\n",
       "\n",
       "    .dataframe thead th {\n",
       "        text-align: right;\n",
       "    }\n",
       "</style>\n",
       "<table border=\"1\" class=\"dataframe\">\n",
       "  <thead>\n",
       "    <tr style=\"text-align: right;\">\n",
       "      <th></th>\n",
       "      <th>subclass</th>\n",
       "      <th>instance</th>\n",
       "      <th>gender</th>\n",
       "      <th>age</th>\n",
       "      <th>birthYear</th>\n",
       "      <th>publication_year</th>\n",
       "      <th>wikiDataID</th>\n",
       "    </tr>\n",
       "  </thead>\n",
       "  <tbody>\n",
       "    <tr>\n",
       "      <th>418092</th>\n",
       "      <td>Artist</td>\n",
       "      <td>A_Ge</td>\n",
       "      <td>female</td>\n",
       "      <td>0.0</td>\n",
       "      <td>NaN</td>\n",
       "      <td>2011.0</td>\n",
       "      <td>Q4656945</td>\n",
       "    </tr>\n",
       "    <tr>\n",
       "      <th>74759</th>\n",
       "      <td>Royalty</td>\n",
       "      <td>Abalgamash</td>\n",
       "      <td>male</td>\n",
       "      <td>0.0</td>\n",
       "      <td>NaN</td>\n",
       "      <td>2020.0</td>\n",
       "      <td>Q305264</td>\n",
       "    </tr>\n",
       "    <tr>\n",
       "      <th>102508</th>\n",
       "      <td>Cleric</td>\n",
       "      <td>Abaskhiron_the_Soldier</td>\n",
       "      <td>male</td>\n",
       "      <td>0.0</td>\n",
       "      <td>NaN</td>\n",
       "      <td>2013.0</td>\n",
       "      <td>Q16965864</td>\n",
       "    </tr>\n",
       "    <tr>\n",
       "      <th>102549</th>\n",
       "      <td>Cleric</td>\n",
       "      <td>Abercius_of_Hieropolis</td>\n",
       "      <td>male</td>\n",
       "      <td>0.0</td>\n",
       "      <td>NaN</td>\n",
       "      <td>2007.0</td>\n",
       "      <td>Q319319</td>\n",
       "    </tr>\n",
       "    <tr>\n",
       "      <th>102603</th>\n",
       "      <td>Cleric</td>\n",
       "      <td>Abraham_of_Egypt</td>\n",
       "      <td>male</td>\n",
       "      <td>0.0</td>\n",
       "      <td>NaN</td>\n",
       "      <td>2007.0</td>\n",
       "      <td>Q4055992</td>\n",
       "    </tr>\n",
       "    <tr>\n",
       "      <th>...</th>\n",
       "      <td>...</td>\n",
       "      <td>...</td>\n",
       "      <td>...</td>\n",
       "      <td>...</td>\n",
       "      <td>...</td>\n",
       "      <td>...</td>\n",
       "      <td>...</td>\n",
       "    </tr>\n",
       "    <tr>\n",
       "      <th>102017</th>\n",
       "      <td>Royalty</td>\n",
       "      <td>Zabibe</td>\n",
       "      <td>female</td>\n",
       "      <td>0.0</td>\n",
       "      <td>NaN</td>\n",
       "      <td>2006.0</td>\n",
       "      <td>Q8063479</td>\n",
       "    </tr>\n",
       "    <tr>\n",
       "      <th>102020</th>\n",
       "      <td>Royalty</td>\n",
       "      <td>Zacharias_III_of_Makuria</td>\n",
       "      <td>male</td>\n",
       "      <td>0.0</td>\n",
       "      <td>NaN</td>\n",
       "      <td>2005.0</td>\n",
       "      <td>Q139495</td>\n",
       "    </tr>\n",
       "    <tr>\n",
       "      <th>102200</th>\n",
       "      <td>Royalty</td>\n",
       "      <td>Zhuozi_(Jin)</td>\n",
       "      <td>male</td>\n",
       "      <td>0.0</td>\n",
       "      <td>NaN</td>\n",
       "      <td>2012.0</td>\n",
       "      <td>Q870356</td>\n",
       "    </tr>\n",
       "    <tr>\n",
       "      <th>102304</th>\n",
       "      <td>Royalty</td>\n",
       "      <td>Æthelflæd_of_Damerham</td>\n",
       "      <td>female</td>\n",
       "      <td>0.0</td>\n",
       "      <td>NaN</td>\n",
       "      <td>2007.0</td>\n",
       "      <td>Q4129783</td>\n",
       "    </tr>\n",
       "    <tr>\n",
       "      <th>102471</th>\n",
       "      <td>Royalty</td>\n",
       "      <td>Ḫattušili_III</td>\n",
       "      <td>male</td>\n",
       "      <td>0.0</td>\n",
       "      <td>NaN</td>\n",
       "      <td>2004.0</td>\n",
       "      <td>Q297588</td>\n",
       "    </tr>\n",
       "  </tbody>\n",
       "</table>\n",
       "<p>510 rows × 7 columns</p>\n",
       "</div>"
      ],
      "text/plain": [
       "       subclass                  instance  gender  age  birthYear  \\\n",
       "418092   Artist                      A_Ge  female  0.0        NaN   \n",
       "74759   Royalty                Abalgamash    male  0.0        NaN   \n",
       "102508   Cleric    Abaskhiron_the_Soldier    male  0.0        NaN   \n",
       "102549   Cleric    Abercius_of_Hieropolis    male  0.0        NaN   \n",
       "102603   Cleric          Abraham_of_Egypt    male  0.0        NaN   \n",
       "...         ...                       ...     ...  ...        ...   \n",
       "102017  Royalty                    Zabibe  female  0.0        NaN   \n",
       "102020  Royalty  Zacharias_III_of_Makuria    male  0.0        NaN   \n",
       "102200  Royalty              Zhuozi_(Jin)    male  0.0        NaN   \n",
       "102304  Royalty     Æthelflæd_of_Damerham  female  0.0        NaN   \n",
       "102471  Royalty             Ḫattušili_III    male  0.0        NaN   \n",
       "\n",
       "        publication_year wikiDataID  \n",
       "418092            2011.0   Q4656945  \n",
       "74759             2020.0    Q305264  \n",
       "102508            2013.0  Q16965864  \n",
       "102549            2007.0    Q319319  \n",
       "102603            2007.0   Q4055992  \n",
       "...                  ...        ...  \n",
       "102017            2006.0   Q8063479  \n",
       "102020            2005.0    Q139495  \n",
       "102200            2012.0    Q870356  \n",
       "102304            2007.0   Q4129783  \n",
       "102471            2004.0    Q297588  \n",
       "\n",
       "[510 rows x 7 columns]"
      ]
     },
     "execution_count": 48,
     "metadata": {},
     "output_type": "execute_result"
    }
   ],
   "source": [
    "df3.loc[((df3['age'] == 0) & (df3['wikiDataID'].notna()))]"
   ]
  },
  {
   "cell_type": "markdown",
   "id": "7012e6d4-5dca-4c89-a2c3-ae7d13b8219f",
   "metadata": {},
   "source": [
    "There are 510 rows of data that has the age of 0 from the wikidata api and dbpedia api. Thus, we will assume they have the correct age value of 0."
   ]
  },
  {
   "cell_type": "code",
   "execution_count": 49,
   "id": "f5132a5b-c496-4990-ba97-0a8063d87029",
   "metadata": {
    "tags": []
   },
   "outputs": [
    {
     "data": {
      "text/html": [
       "<div>\n",
       "<style scoped>\n",
       "    .dataframe tbody tr th:only-of-type {\n",
       "        vertical-align: middle;\n",
       "    }\n",
       "\n",
       "    .dataframe tbody tr th {\n",
       "        vertical-align: top;\n",
       "    }\n",
       "\n",
       "    .dataframe thead th {\n",
       "        text-align: right;\n",
       "    }\n",
       "</style>\n",
       "<table border=\"1\" class=\"dataframe\">\n",
       "  <thead>\n",
       "    <tr style=\"text-align: right;\">\n",
       "      <th></th>\n",
       "      <th>subclass</th>\n",
       "      <th>instance</th>\n",
       "      <th>gender</th>\n",
       "      <th>age</th>\n",
       "      <th>birthYear</th>\n",
       "      <th>publication_year</th>\n",
       "      <th>wikiDataID</th>\n",
       "    </tr>\n",
       "  </thead>\n",
       "  <tbody>\n",
       "    <tr>\n",
       "      <th>74817</th>\n",
       "      <td>Royalty</td>\n",
       "      <td>Abd_al-Rahman_ibn_Rustam</td>\n",
       "      <td>male</td>\n",
       "      <td>-12.0</td>\n",
       "      <td>NaN</td>\n",
       "      <td>2012.0</td>\n",
       "      <td>Q3147457</td>\n",
       "    </tr>\n",
       "    <tr>\n",
       "      <th>162049</th>\n",
       "      <td>MilitaryPerson</td>\n",
       "      <td>Abdallah_al-Battal</td>\n",
       "      <td>male</td>\n",
       "      <td>-10.0</td>\n",
       "      <td>NaN</td>\n",
       "      <td>2012.0</td>\n",
       "      <td>Q576613</td>\n",
       "    </tr>\n",
       "    <tr>\n",
       "      <th>74876</th>\n",
       "      <td>Royalty</td>\n",
       "      <td>Abdul_Kahar</td>\n",
       "      <td>male</td>\n",
       "      <td>-22.0</td>\n",
       "      <td>NaN</td>\n",
       "      <td>2007.0</td>\n",
       "      <td>Q31865</td>\n",
       "    </tr>\n",
       "    <tr>\n",
       "      <th>349785</th>\n",
       "      <td>OfficeHolder</td>\n",
       "      <td>Abdullah_Bughra</td>\n",
       "      <td>male</td>\n",
       "      <td>-16.0</td>\n",
       "      <td>NaN</td>\n",
       "      <td>2010.0</td>\n",
       "      <td>Q4665976</td>\n",
       "    </tr>\n",
       "    <tr>\n",
       "      <th>74986</th>\n",
       "      <td>Royalty</td>\n",
       "      <td>Abhaya_of_Tambapanni</td>\n",
       "      <td>male</td>\n",
       "      <td>-50.0</td>\n",
       "      <td>NaN</td>\n",
       "      <td>2008.0</td>\n",
       "      <td>Q4667353</td>\n",
       "    </tr>\n",
       "    <tr>\n",
       "      <th>...</th>\n",
       "      <td>...</td>\n",
       "      <td>...</td>\n",
       "      <td>...</td>\n",
       "      <td>...</td>\n",
       "      <td>...</td>\n",
       "      <td>...</td>\n",
       "      <td>...</td>\n",
       "    </tr>\n",
       "    <tr>\n",
       "      <th>51694</th>\n",
       "      <td>Noble</td>\n",
       "      <td>Éverard_III_of_Puiset,_Viscount_of_Chartres</td>\n",
       "      <td>male</td>\n",
       "      <td>-1.0</td>\n",
       "      <td>NaN</td>\n",
       "      <td>2016.0</td>\n",
       "      <td>Q731373</td>\n",
       "    </tr>\n",
       "    <tr>\n",
       "      <th>102338</th>\n",
       "      <td>Royalty</td>\n",
       "      <td>Ímar</td>\n",
       "      <td>male</td>\n",
       "      <td>-27.0</td>\n",
       "      <td>NaN</td>\n",
       "      <td>2008.0</td>\n",
       "      <td>Q3156264</td>\n",
       "    </tr>\n",
       "    <tr>\n",
       "      <th>30978</th>\n",
       "      <td>Religious</td>\n",
       "      <td>Śākaṭāyana</td>\n",
       "      <td>male</td>\n",
       "      <td>-1614.0</td>\n",
       "      <td>NaN</td>\n",
       "      <td>2005.0</td>\n",
       "      <td>Q355329</td>\n",
       "    </tr>\n",
       "    <tr>\n",
       "      <th>102449</th>\n",
       "      <td>Royalty</td>\n",
       "      <td>Šćepan_Mali</td>\n",
       "      <td>male</td>\n",
       "      <td>-27.0</td>\n",
       "      <td>NaN</td>\n",
       "      <td>2006.0</td>\n",
       "      <td>Q392845</td>\n",
       "    </tr>\n",
       "    <tr>\n",
       "      <th>102453</th>\n",
       "      <td>Royalty</td>\n",
       "      <td>Ștefan_Petriceicu</td>\n",
       "      <td>male</td>\n",
       "      <td>-10.0</td>\n",
       "      <td>NaN</td>\n",
       "      <td>2012.0</td>\n",
       "      <td>Q1163334</td>\n",
       "    </tr>\n",
       "  </tbody>\n",
       "</table>\n",
       "<p>777 rows × 7 columns</p>\n",
       "</div>"
      ],
      "text/plain": [
       "              subclass                                     instance gender  \\\n",
       "74817          Royalty                     Abd_al-Rahman_ibn_Rustam   male   \n",
       "162049  MilitaryPerson                           Abdallah_al-Battal   male   \n",
       "74876          Royalty                                  Abdul_Kahar   male   \n",
       "349785    OfficeHolder                              Abdullah_Bughra   male   \n",
       "74986          Royalty                         Abhaya_of_Tambapanni   male   \n",
       "...                ...                                          ...    ...   \n",
       "51694            Noble  Éverard_III_of_Puiset,_Viscount_of_Chartres   male   \n",
       "102338         Royalty                                         Ímar   male   \n",
       "30978        Religious                                   Śākaṭāyana   male   \n",
       "102449         Royalty                                  Šćepan_Mali   male   \n",
       "102453         Royalty                            Ștefan_Petriceicu   male   \n",
       "\n",
       "           age  birthYear  publication_year wikiDataID  \n",
       "74817    -12.0        NaN            2012.0   Q3147457  \n",
       "162049   -10.0        NaN            2012.0    Q576613  \n",
       "74876    -22.0        NaN            2007.0     Q31865  \n",
       "349785   -16.0        NaN            2010.0   Q4665976  \n",
       "74986    -50.0        NaN            2008.0   Q4667353  \n",
       "...        ...        ...               ...        ...  \n",
       "51694     -1.0        NaN            2016.0    Q731373  \n",
       "102338   -27.0        NaN            2008.0   Q3156264  \n",
       "30978  -1614.0        NaN            2005.0    Q355329  \n",
       "102449   -27.0        NaN            2006.0    Q392845  \n",
       "102453   -10.0        NaN            2012.0   Q1163334  \n",
       "\n",
       "[777 rows x 7 columns]"
      ]
     },
     "execution_count": 49,
     "metadata": {},
     "output_type": "execute_result"
    }
   ],
   "source": [
    "df3.loc[((df3['age'] < 0) & (df3['wikiDataID'].notna()))]"
   ]
  },
  {
   "cell_type": "markdown",
   "id": "99c67e79-c2a5-4dfb-bb20-382b2be97929",
   "metadata": {},
   "source": [
    "There are 777 rows that have values of age < 0 which we don't know exactly why as the age is negative for both dbpedia and wikidata api."
   ]
  },
  {
   "cell_type": "code",
   "execution_count": 50,
   "id": "5fdb4790-ffcd-4fc5-be80-99ef1f84d01c",
   "metadata": {
    "tags": []
   },
   "outputs": [
    {
     "data": {
      "text/html": [
       "<div>\n",
       "<style scoped>\n",
       "    .dataframe tbody tr th:only-of-type {\n",
       "        vertical-align: middle;\n",
       "    }\n",
       "\n",
       "    .dataframe tbody tr th {\n",
       "        vertical-align: top;\n",
       "    }\n",
       "\n",
       "    .dataframe thead th {\n",
       "        text-align: right;\n",
       "    }\n",
       "</style>\n",
       "<table border=\"1\" class=\"dataframe\">\n",
       "  <thead>\n",
       "    <tr style=\"text-align: right;\">\n",
       "      <th></th>\n",
       "      <th>subclass</th>\n",
       "      <th>instance</th>\n",
       "      <th>gender</th>\n",
       "      <th>age</th>\n",
       "      <th>birthYear</th>\n",
       "      <th>publication_year</th>\n",
       "      <th>wikiDataID</th>\n",
       "    </tr>\n",
       "  </thead>\n",
       "  <tbody>\n",
       "  </tbody>\n",
       "</table>\n",
       "</div>"
      ],
      "text/plain": [
       "Empty DataFrame\n",
       "Columns: [subclass, instance, gender, age, birthYear, publication_year, wikiDataID]\n",
       "Index: []"
      ]
     },
     "execution_count": 50,
     "metadata": {},
     "output_type": "execute_result"
    }
   ],
   "source": [
    "df3.loc[((df3['age'] == 0) & (df3['wikiDataID'].isna()))]"
   ]
  },
  {
   "cell_type": "markdown",
   "id": "77525353-6dbf-4140-8fc4-d9279fb3d1bc",
   "metadata": {},
   "source": [
    "There are no rows with age=0 that are not doubled checked by wikidata api. Thus, we can guarantee that all instances with age = 0 is correct as it was cross-referenced with wikidata api."
   ]
  },
  {
   "cell_type": "code",
   "execution_count": 51,
   "id": "5285a3e6-adde-4048-87c3-59e6f98aec9a",
   "metadata": {
    "tags": []
   },
   "outputs": [
    {
     "data": {
      "text/html": [
       "<div>\n",
       "<style scoped>\n",
       "    .dataframe tbody tr th:only-of-type {\n",
       "        vertical-align: middle;\n",
       "    }\n",
       "\n",
       "    .dataframe tbody tr th {\n",
       "        vertical-align: top;\n",
       "    }\n",
       "\n",
       "    .dataframe thead th {\n",
       "        text-align: right;\n",
       "    }\n",
       "</style>\n",
       "<table border=\"1\" class=\"dataframe\">\n",
       "  <thead>\n",
       "    <tr style=\"text-align: right;\">\n",
       "      <th></th>\n",
       "      <th>subclass</th>\n",
       "      <th>instance</th>\n",
       "      <th>gender</th>\n",
       "      <th>age</th>\n",
       "      <th>birthYear</th>\n",
       "      <th>publication_year</th>\n",
       "      <th>wikiDataID</th>\n",
       "    </tr>\n",
       "  </thead>\n",
       "  <tbody>\n",
       "    <tr>\n",
       "      <th>161666</th>\n",
       "      <td>MilitaryPerson</td>\n",
       "      <td>%60Adnan_%60Uqla</td>\n",
       "      <td>NaN</td>\n",
       "      <td>-1.0</td>\n",
       "      <td>NaN</td>\n",
       "      <td>2019.0</td>\n",
       "      <td>NaN</td>\n",
       "    </tr>\n",
       "    <tr>\n",
       "      <th>347884</th>\n",
       "      <td>OfficeHolder</td>\n",
       "      <td>''Congregatio_Immaculati_Cordis_Mariae''</td>\n",
       "      <td>NaN</td>\n",
       "      <td>-1.0</td>\n",
       "      <td>NaN</td>\n",
       "      <td>NaN</td>\n",
       "      <td>NaN</td>\n",
       "    </tr>\n",
       "    <tr>\n",
       "      <th>26240</th>\n",
       "      <td>Philosopher</td>\n",
       "      <td>'Abd_al-Haqq_al-Dehlawi__1</td>\n",
       "      <td>NaN</td>\n",
       "      <td>-1.0</td>\n",
       "      <td>NaN</td>\n",
       "      <td>NaN</td>\n",
       "      <td>NaN</td>\n",
       "    </tr>\n",
       "    <tr>\n",
       "      <th>161667</th>\n",
       "      <td>MilitaryPerson</td>\n",
       "      <td>'Ali_ibn_Aban_al-Muhallabi</td>\n",
       "      <td>NaN</td>\n",
       "      <td>-1.0</td>\n",
       "      <td>NaN</td>\n",
       "      <td>NaN</td>\n",
       "      <td>NaN</td>\n",
       "    </tr>\n",
       "    <tr>\n",
       "      <th>161668</th>\n",
       "      <td>MilitaryPerson</td>\n",
       "      <td>'Ali_ibn_Muhammad_(Zanj_leader)</td>\n",
       "      <td>NaN</td>\n",
       "      <td>-1.0</td>\n",
       "      <td>NaN</td>\n",
       "      <td>NaN</td>\n",
       "      <td>NaN</td>\n",
       "    </tr>\n",
       "    <tr>\n",
       "      <th>...</th>\n",
       "      <td>...</td>\n",
       "      <td>...</td>\n",
       "      <td>...</td>\n",
       "      <td>...</td>\n",
       "      <td>...</td>\n",
       "      <td>...</td>\n",
       "      <td>...</td>\n",
       "    </tr>\n",
       "    <tr>\n",
       "      <th>102435</th>\n",
       "      <td>Royalty</td>\n",
       "      <td>Şehzade_Sultan</td>\n",
       "      <td>NaN</td>\n",
       "      <td>-1.0</td>\n",
       "      <td>NaN</td>\n",
       "      <td>NaN</td>\n",
       "      <td>NaN</td>\n",
       "    </tr>\n",
       "    <tr>\n",
       "      <th>102441</th>\n",
       "      <td>Royalty</td>\n",
       "      <td>Şemsiruhsar_Hatun</td>\n",
       "      <td>NaN</td>\n",
       "      <td>-1.0</td>\n",
       "      <td>NaN</td>\n",
       "      <td>2014.0</td>\n",
       "      <td>NaN</td>\n",
       "    </tr>\n",
       "    <tr>\n",
       "      <th>217870</th>\n",
       "      <td>MilitaryPerson</td>\n",
       "      <td>Žanis_Bļumbergs</td>\n",
       "      <td>NaN</td>\n",
       "      <td>-1.0</td>\n",
       "      <td>NaN</td>\n",
       "      <td>2020.0</td>\n",
       "      <td>NaN</td>\n",
       "    </tr>\n",
       "    <tr>\n",
       "      <th>217874</th>\n",
       "      <td>MilitaryPerson</td>\n",
       "      <td>Željko_Ražnatović</td>\n",
       "      <td>NaN</td>\n",
       "      <td>-1.0</td>\n",
       "      <td>NaN</td>\n",
       "      <td>2020.0</td>\n",
       "      <td>NaN</td>\n",
       "    </tr>\n",
       "    <tr>\n",
       "      <th>102473</th>\n",
       "      <td>Royalty</td>\n",
       "      <td>‘Ulayya_bint_al-Mahdī</td>\n",
       "      <td>NaN</td>\n",
       "      <td>-1.0</td>\n",
       "      <td>NaN</td>\n",
       "      <td>2019.0</td>\n",
       "      <td>NaN</td>\n",
       "    </tr>\n",
       "  </tbody>\n",
       "</table>\n",
       "<p>24753 rows × 7 columns</p>\n",
       "</div>"
      ],
      "text/plain": [
       "              subclass                                  instance gender  age  \\\n",
       "161666  MilitaryPerson                          %60Adnan_%60Uqla    NaN -1.0   \n",
       "347884    OfficeHolder  ''Congregatio_Immaculati_Cordis_Mariae''    NaN -1.0   \n",
       "26240      Philosopher                'Abd_al-Haqq_al-Dehlawi__1    NaN -1.0   \n",
       "161667  MilitaryPerson                'Ali_ibn_Aban_al-Muhallabi    NaN -1.0   \n",
       "161668  MilitaryPerson           'Ali_ibn_Muhammad_(Zanj_leader)    NaN -1.0   \n",
       "...                ...                                       ...    ...  ...   \n",
       "102435         Royalty                            Şehzade_Sultan    NaN -1.0   \n",
       "102441         Royalty                         Şemsiruhsar_Hatun    NaN -1.0   \n",
       "217870  MilitaryPerson                           Žanis_Bļumbergs    NaN -1.0   \n",
       "217874  MilitaryPerson                         Željko_Ražnatović    NaN -1.0   \n",
       "102473         Royalty                     ‘Ulayya_bint_al-Mahdī    NaN -1.0   \n",
       "\n",
       "        birthYear  publication_year wikiDataID  \n",
       "161666        NaN            2019.0        NaN  \n",
       "347884        NaN               NaN        NaN  \n",
       "26240         NaN               NaN        NaN  \n",
       "161667        NaN               NaN        NaN  \n",
       "161668        NaN               NaN        NaN  \n",
       "...           ...               ...        ...  \n",
       "102435        NaN               NaN        NaN  \n",
       "102441        NaN            2014.0        NaN  \n",
       "217870        NaN            2020.0        NaN  \n",
       "217874        NaN            2020.0        NaN  \n",
       "102473        NaN            2019.0        NaN  \n",
       "\n",
       "[24753 rows x 7 columns]"
      ]
     },
     "execution_count": 51,
     "metadata": {},
     "output_type": "execute_result"
    }
   ],
   "source": [
    "df3.loc[(df3['age'] < 0)& (df3['wikiDataID'].isna())] "
   ]
  },
  {
   "cell_type": "markdown",
   "id": "7cba892c-e32f-4ae4-a29f-ad81e0970ef0",
   "metadata": {},
   "source": [
    "As mentioned before, these 24,753 rows of instances has no way to confirm its value since it has negative age in dbpedia and they have no wikidataid associated to them."
   ]
  },
  {
   "cell_type": "code",
   "execution_count": 52,
   "id": "10da9ba5-9f7c-4016-8182-61957546e523",
   "metadata": {
    "tags": []
   },
   "outputs": [
    {
     "data": {
      "text/html": [
       "<div>\n",
       "<style scoped>\n",
       "    .dataframe tbody tr th:only-of-type {\n",
       "        vertical-align: middle;\n",
       "    }\n",
       "\n",
       "    .dataframe tbody tr th {\n",
       "        vertical-align: top;\n",
       "    }\n",
       "\n",
       "    .dataframe thead th {\n",
       "        text-align: right;\n",
       "    }\n",
       "</style>\n",
       "<table border=\"1\" class=\"dataframe\">\n",
       "  <thead>\n",
       "    <tr style=\"text-align: right;\">\n",
       "      <th></th>\n",
       "      <th>subclass</th>\n",
       "      <th>instance</th>\n",
       "      <th>gender</th>\n",
       "      <th>age</th>\n",
       "      <th>birthYear</th>\n",
       "      <th>publication_year</th>\n",
       "      <th>wikiDataID</th>\n",
       "    </tr>\n",
       "  </thead>\n",
       "  <tbody>\n",
       "    <tr>\n",
       "      <th>161666</th>\n",
       "      <td>MilitaryPerson</td>\n",
       "      <td>%60Adnan_%60Uqla</td>\n",
       "      <td>NaN</td>\n",
       "      <td>-1.0</td>\n",
       "      <td>NaN</td>\n",
       "      <td>2019.0</td>\n",
       "      <td>NaN</td>\n",
       "    </tr>\n",
       "    <tr>\n",
       "      <th>347884</th>\n",
       "      <td>OfficeHolder</td>\n",
       "      <td>''Congregatio_Immaculati_Cordis_Mariae''</td>\n",
       "      <td>NaN</td>\n",
       "      <td>-1.0</td>\n",
       "      <td>NaN</td>\n",
       "      <td>NaN</td>\n",
       "      <td>NaN</td>\n",
       "    </tr>\n",
       "    <tr>\n",
       "      <th>26240</th>\n",
       "      <td>Philosopher</td>\n",
       "      <td>'Abd_al-Haqq_al-Dehlawi__1</td>\n",
       "      <td>NaN</td>\n",
       "      <td>-1.0</td>\n",
       "      <td>NaN</td>\n",
       "      <td>NaN</td>\n",
       "      <td>NaN</td>\n",
       "    </tr>\n",
       "    <tr>\n",
       "      <th>161667</th>\n",
       "      <td>MilitaryPerson</td>\n",
       "      <td>'Ali_ibn_Aban_al-Muhallabi</td>\n",
       "      <td>NaN</td>\n",
       "      <td>-1.0</td>\n",
       "      <td>NaN</td>\n",
       "      <td>NaN</td>\n",
       "      <td>NaN</td>\n",
       "    </tr>\n",
       "    <tr>\n",
       "      <th>161668</th>\n",
       "      <td>MilitaryPerson</td>\n",
       "      <td>'Ali_ibn_Muhammad_(Zanj_leader)</td>\n",
       "      <td>NaN</td>\n",
       "      <td>-1.0</td>\n",
       "      <td>NaN</td>\n",
       "      <td>NaN</td>\n",
       "      <td>NaN</td>\n",
       "    </tr>\n",
       "    <tr>\n",
       "      <th>...</th>\n",
       "      <td>...</td>\n",
       "      <td>...</td>\n",
       "      <td>...</td>\n",
       "      <td>...</td>\n",
       "      <td>...</td>\n",
       "      <td>...</td>\n",
       "      <td>...</td>\n",
       "    </tr>\n",
       "    <tr>\n",
       "      <th>102449</th>\n",
       "      <td>Royalty</td>\n",
       "      <td>Šćepan_Mali</td>\n",
       "      <td>male</td>\n",
       "      <td>-27.0</td>\n",
       "      <td>NaN</td>\n",
       "      <td>2006.0</td>\n",
       "      <td>Q392845</td>\n",
       "    </tr>\n",
       "    <tr>\n",
       "      <th>217870</th>\n",
       "      <td>MilitaryPerson</td>\n",
       "      <td>Žanis_Bļumbergs</td>\n",
       "      <td>NaN</td>\n",
       "      <td>-1.0</td>\n",
       "      <td>NaN</td>\n",
       "      <td>2020.0</td>\n",
       "      <td>NaN</td>\n",
       "    </tr>\n",
       "    <tr>\n",
       "      <th>217874</th>\n",
       "      <td>MilitaryPerson</td>\n",
       "      <td>Željko_Ražnatović</td>\n",
       "      <td>NaN</td>\n",
       "      <td>-1.0</td>\n",
       "      <td>NaN</td>\n",
       "      <td>2020.0</td>\n",
       "      <td>NaN</td>\n",
       "    </tr>\n",
       "    <tr>\n",
       "      <th>102453</th>\n",
       "      <td>Royalty</td>\n",
       "      <td>Ștefan_Petriceicu</td>\n",
       "      <td>male</td>\n",
       "      <td>-10.0</td>\n",
       "      <td>NaN</td>\n",
       "      <td>2012.0</td>\n",
       "      <td>Q1163334</td>\n",
       "    </tr>\n",
       "    <tr>\n",
       "      <th>102473</th>\n",
       "      <td>Royalty</td>\n",
       "      <td>‘Ulayya_bint_al-Mahdī</td>\n",
       "      <td>NaN</td>\n",
       "      <td>-1.0</td>\n",
       "      <td>NaN</td>\n",
       "      <td>2019.0</td>\n",
       "      <td>NaN</td>\n",
       "    </tr>\n",
       "  </tbody>\n",
       "</table>\n",
       "<p>25530 rows × 7 columns</p>\n",
       "</div>"
      ],
      "text/plain": [
       "              subclass                                  instance gender   age  \\\n",
       "161666  MilitaryPerson                          %60Adnan_%60Uqla    NaN  -1.0   \n",
       "347884    OfficeHolder  ''Congregatio_Immaculati_Cordis_Mariae''    NaN  -1.0   \n",
       "26240      Philosopher                'Abd_al-Haqq_al-Dehlawi__1    NaN  -1.0   \n",
       "161667  MilitaryPerson                'Ali_ibn_Aban_al-Muhallabi    NaN  -1.0   \n",
       "161668  MilitaryPerson           'Ali_ibn_Muhammad_(Zanj_leader)    NaN  -1.0   \n",
       "...                ...                                       ...    ...   ...   \n",
       "102449         Royalty                               Šćepan_Mali   male -27.0   \n",
       "217870  MilitaryPerson                           Žanis_Bļumbergs    NaN  -1.0   \n",
       "217874  MilitaryPerson                         Željko_Ražnatović    NaN  -1.0   \n",
       "102453         Royalty                         Ștefan_Petriceicu   male -10.0   \n",
       "102473         Royalty                     ‘Ulayya_bint_al-Mahdī    NaN  -1.0   \n",
       "\n",
       "        birthYear  publication_year wikiDataID  \n",
       "161666        NaN            2019.0        NaN  \n",
       "347884        NaN               NaN        NaN  \n",
       "26240         NaN               NaN        NaN  \n",
       "161667        NaN               NaN        NaN  \n",
       "161668        NaN               NaN        NaN  \n",
       "...           ...               ...        ...  \n",
       "102449        NaN            2006.0    Q392845  \n",
       "217870        NaN            2020.0        NaN  \n",
       "217874        NaN            2020.0        NaN  \n",
       "102453        NaN            2012.0   Q1163334  \n",
       "102473        NaN            2019.0        NaN  \n",
       "\n",
       "[25530 rows x 7 columns]"
      ]
     },
     "execution_count": 52,
     "metadata": {},
     "output_type": "execute_result"
    }
   ],
   "source": [
    "df3.loc[((df3['age'] < 0))] "
   ]
  },
  {
   "cell_type": "markdown",
   "id": "3d6c2daa-0e8a-4840-903d-b0a6ca581cbb",
   "metadata": {},
   "source": [
    "There are total of 25,530 (24753 + 777) rows that have age < 0 which is not possible to get, thus we will convert them into null. "
   ]
  },
  {
   "cell_type": "code",
   "execution_count": 53,
   "id": "f76c9e92-2ac6-4bc6-a7b1-7f675406368b",
   "metadata": {
    "tags": []
   },
   "outputs": [],
   "source": [
    "# extract the index of rows having age < 0 in the age column\n",
    "convert_null_index = df3.loc[df3[\"age\"] < 0, \"age\"].index"
   ]
  },
  {
   "cell_type": "code",
   "execution_count": 54,
   "id": "e6cdf081-7a09-4e3c-a07c-5180282c2b7b",
   "metadata": {
    "tags": []
   },
   "outputs": [
    {
     "data": {
      "text/plain": [
       "25530"
      ]
     },
     "execution_count": 54,
     "metadata": {},
     "output_type": "execute_result"
    }
   ],
   "source": [
    "len(convert_null_index)"
   ]
  },
  {
   "cell_type": "markdown",
   "id": "64ab6e0e-d3db-42ce-b034-3f423810c7ea",
   "metadata": {},
   "source": [
    "Just to make sure we are converting the correct rows' age into null, we checked the total rows to be converted. The count of rows to be converted (25530) seems correct since age < 0 for rows that have wikidata and cross-referenced is 777 and age < 0 for rows that does not have wikidata is 24,753. Addition of them both produces 25,530 as we expected."
   ]
  },
  {
   "cell_type": "code",
   "execution_count": 55,
   "id": "79483ac6-98d6-4e3c-a9a6-f92f2ddca67e",
   "metadata": {
    "tags": []
   },
   "outputs": [],
   "source": [
    "df4 = df3.copy()\n",
    "# change the value of \"-1\" to null/nan\n",
    "df4.loc[convert_null_index, \"age\"] = np.nan"
   ]
  },
  {
   "cell_type": "code",
   "execution_count": 56,
   "id": "b0ac2d0c-bb94-49ef-bd11-39d0e87e309f",
   "metadata": {
    "tags": []
   },
   "outputs": [
    {
     "data": {
      "text/plain": [
       "subclass                 0\n",
       "instance                 0\n",
       "gender               47838\n",
       "age                  84295\n",
       "birthYear           548617\n",
       "publication_year     21780\n",
       "wikiDataID           30995\n",
       "dtype: int64"
      ]
     },
     "execution_count": 56,
     "metadata": {},
     "output_type": "execute_result"
    }
   ],
   "source": [
    "df4.isna().sum()"
   ]
  },
  {
   "cell_type": "markdown",
   "id": "e0c5bbae-38c7-4b2d-a8e1-3da252facce7",
   "metadata": {},
   "source": [
    "##### 1.4.3.2 Case 2: Age >= 100 "
   ]
  },
  {
   "cell_type": "code",
   "execution_count": 61,
   "id": "370ddfed-f9fa-4f66-bb04-6f2caf0a55e9",
   "metadata": {
    "tags": []
   },
   "outputs": [
    {
     "data": {
      "text/html": [
       "<div>\n",
       "<style scoped>\n",
       "    .dataframe tbody tr th:only-of-type {\n",
       "        vertical-align: middle;\n",
       "    }\n",
       "\n",
       "    .dataframe tbody tr th {\n",
       "        vertical-align: top;\n",
       "    }\n",
       "\n",
       "    .dataframe thead th {\n",
       "        text-align: right;\n",
       "    }\n",
       "</style>\n",
       "<table border=\"1\" class=\"dataframe\">\n",
       "  <thead>\n",
       "    <tr style=\"text-align: right;\">\n",
       "      <th></th>\n",
       "      <th>subclass</th>\n",
       "      <th>instance</th>\n",
       "      <th>gender</th>\n",
       "      <th>age</th>\n",
       "      <th>birthYear</th>\n",
       "      <th>publication_year</th>\n",
       "      <th>wikiDataID</th>\n",
       "    </tr>\n",
       "  </thead>\n",
       "  <tbody>\n",
       "    <tr>\n",
       "      <th>28501</th>\n",
       "      <td>Religious</td>\n",
       "      <td>6th_Dalai_Lama</td>\n",
       "      <td>male</td>\n",
       "      <td>341.0</td>\n",
       "      <td>NaN</td>\n",
       "      <td>2004.0</td>\n",
       "      <td>Q25251</td>\n",
       "    </tr>\n",
       "    <tr>\n",
       "      <th>538089</th>\n",
       "      <td>Politician</td>\n",
       "      <td>A._Andrews</td>\n",
       "      <td>male</td>\n",
       "      <td>206.0</td>\n",
       "      <td>NaN</td>\n",
       "      <td>2012.0</td>\n",
       "      <td>Q4647512</td>\n",
       "    </tr>\n",
       "    <tr>\n",
       "      <th>538102</th>\n",
       "      <td>Politician</td>\n",
       "      <td>A._B._Comfort</td>\n",
       "      <td>male</td>\n",
       "      <td>140.0</td>\n",
       "      <td>NaN</td>\n",
       "      <td>2015.0</td>\n",
       "      <td>Q19560274</td>\n",
       "    </tr>\n",
       "    <tr>\n",
       "      <th>418002</th>\n",
       "      <td>Artist</td>\n",
       "      <td>A._B._S._Sprigge</td>\n",
       "      <td>female</td>\n",
       "      <td>118.0</td>\n",
       "      <td>NaN</td>\n",
       "      <td>2020.0</td>\n",
       "      <td>Q87647587</td>\n",
       "    </tr>\n",
       "    <tr>\n",
       "      <th>538123</th>\n",
       "      <td>Politician</td>\n",
       "      <td>A._C._Benson</td>\n",
       "      <td>male</td>\n",
       "      <td>162.0</td>\n",
       "      <td>NaN</td>\n",
       "      <td>2004.0</td>\n",
       "      <td>Q708934</td>\n",
       "    </tr>\n",
       "    <tr>\n",
       "      <th>...</th>\n",
       "      <td>...</td>\n",
       "      <td>...</td>\n",
       "      <td>...</td>\n",
       "      <td>...</td>\n",
       "      <td>...</td>\n",
       "      <td>...</td>\n",
       "      <td>...</td>\n",
       "    </tr>\n",
       "    <tr>\n",
       "      <th>728891</th>\n",
       "      <td>Politician</td>\n",
       "      <td>Đorđe_Simić</td>\n",
       "      <td>male</td>\n",
       "      <td>181.0</td>\n",
       "      <td>NaN</td>\n",
       "      <td>2009.0</td>\n",
       "      <td>Q2072737</td>\n",
       "    </tr>\n",
       "    <tr>\n",
       "      <th>728983</th>\n",
       "      <td>Politician</td>\n",
       "      <td>Ōzato_Chōkyō</td>\n",
       "      <td>male</td>\n",
       "      <td>208.0</td>\n",
       "      <td>NaN</td>\n",
       "      <td>2017.0</td>\n",
       "      <td>Q31290446</td>\n",
       "    </tr>\n",
       "    <tr>\n",
       "      <th>102445</th>\n",
       "      <td>Royalty</td>\n",
       "      <td>Şivekar_Sultan</td>\n",
       "      <td>female</td>\n",
       "      <td>389.0</td>\n",
       "      <td>NaN</td>\n",
       "      <td>2020.0</td>\n",
       "      <td>Q25477824</td>\n",
       "    </tr>\n",
       "    <tr>\n",
       "      <th>729054</th>\n",
       "      <td>Politician</td>\n",
       "      <td>Ștefan_Foriș</td>\n",
       "      <td>male</td>\n",
       "      <td>132.0</td>\n",
       "      <td>NaN</td>\n",
       "      <td>2006.0</td>\n",
       "      <td>Q838826</td>\n",
       "    </tr>\n",
       "    <tr>\n",
       "      <th>102470</th>\n",
       "      <td>Royalty</td>\n",
       "      <td>Ḫarapšili</td>\n",
       "      <td>female</td>\n",
       "      <td>3574.0</td>\n",
       "      <td>NaN</td>\n",
       "      <td>2012.0</td>\n",
       "      <td>Q742087</td>\n",
       "    </tr>\n",
       "  </tbody>\n",
       "</table>\n",
       "<p>14995 rows × 7 columns</p>\n",
       "</div>"
      ],
      "text/plain": [
       "          subclass          instance  gender     age  birthYear  \\\n",
       "28501    Religious    6th_Dalai_Lama    male   341.0        NaN   \n",
       "538089  Politician        A._Andrews    male   206.0        NaN   \n",
       "538102  Politician     A._B._Comfort    male   140.0        NaN   \n",
       "418002      Artist  A._B._S._Sprigge  female   118.0        NaN   \n",
       "538123  Politician      A._C._Benson    male   162.0        NaN   \n",
       "...            ...               ...     ...     ...        ...   \n",
       "728891  Politician       Đorđe_Simić    male   181.0        NaN   \n",
       "728983  Politician      Ōzato_Chōkyō    male   208.0        NaN   \n",
       "102445     Royalty    Şivekar_Sultan  female   389.0        NaN   \n",
       "729054  Politician      Ștefan_Foriș    male   132.0        NaN   \n",
       "102470     Royalty         Ḫarapšili  female  3574.0        NaN   \n",
       "\n",
       "        publication_year wikiDataID  \n",
       "28501             2004.0     Q25251  \n",
       "538089            2012.0   Q4647512  \n",
       "538102            2015.0  Q19560274  \n",
       "418002            2020.0  Q87647587  \n",
       "538123            2004.0    Q708934  \n",
       "...                  ...        ...  \n",
       "728891            2009.0   Q2072737  \n",
       "728983            2017.0  Q31290446  \n",
       "102445            2020.0  Q25477824  \n",
       "729054            2006.0    Q838826  \n",
       "102470            2012.0    Q742087  \n",
       "\n",
       "[14995 rows x 7 columns]"
      ]
     },
     "execution_count": 61,
     "metadata": {},
     "output_type": "execute_result"
    }
   ],
   "source": [
    "df4.loc[(df4['age'] >= 116)]"
   ]
  },
  {
   "cell_type": "code",
   "execution_count": 59,
   "id": "8fcdef13-2097-4674-8552-bdc105011970",
   "metadata": {
    "tags": []
   },
   "outputs": [
    {
     "data": {
      "text/html": [
       "<div>\n",
       "<style scoped>\n",
       "    .dataframe tbody tr th:only-of-type {\n",
       "        vertical-align: middle;\n",
       "    }\n",
       "\n",
       "    .dataframe tbody tr th {\n",
       "        vertical-align: top;\n",
       "    }\n",
       "\n",
       "    .dataframe thead th {\n",
       "        text-align: right;\n",
       "    }\n",
       "</style>\n",
       "<table border=\"1\" class=\"dataframe\">\n",
       "  <thead>\n",
       "    <tr style=\"text-align: right;\">\n",
       "      <th></th>\n",
       "      <th>subclass</th>\n",
       "      <th>instance</th>\n",
       "      <th>gender</th>\n",
       "      <th>age</th>\n",
       "      <th>birthYear</th>\n",
       "      <th>publication_year</th>\n",
       "      <th>wikiDataID</th>\n",
       "    </tr>\n",
       "  </thead>\n",
       "  <tbody>\n",
       "    <tr>\n",
       "      <th>28501</th>\n",
       "      <td>Religious</td>\n",
       "      <td>6th_Dalai_Lama</td>\n",
       "      <td>male</td>\n",
       "      <td>341.0</td>\n",
       "      <td>NaN</td>\n",
       "      <td>2004.0</td>\n",
       "      <td>Q25251</td>\n",
       "    </tr>\n",
       "    <tr>\n",
       "      <th>74753</th>\n",
       "      <td>Royalty</td>\n",
       "      <td>A'annepada</td>\n",
       "      <td>male</td>\n",
       "      <td>100.0</td>\n",
       "      <td>NaN</td>\n",
       "      <td>2020.0</td>\n",
       "      <td>Q277645</td>\n",
       "    </tr>\n",
       "    <tr>\n",
       "      <th>28222</th>\n",
       "      <td>Religious</td>\n",
       "      <td>A'isha_bint_Talha</td>\n",
       "      <td>female</td>\n",
       "      <td>100.0</td>\n",
       "      <td>NaN</td>\n",
       "      <td>2006.0</td>\n",
       "      <td>Q4646815</td>\n",
       "    </tr>\n",
       "    <tr>\n",
       "      <th>538089</th>\n",
       "      <td>Politician</td>\n",
       "      <td>A._Andrews</td>\n",
       "      <td>male</td>\n",
       "      <td>206.0</td>\n",
       "      <td>NaN</td>\n",
       "      <td>2012.0</td>\n",
       "      <td>Q4647512</td>\n",
       "    </tr>\n",
       "    <tr>\n",
       "      <th>538102</th>\n",
       "      <td>Politician</td>\n",
       "      <td>A._B._Comfort</td>\n",
       "      <td>male</td>\n",
       "      <td>140.0</td>\n",
       "      <td>NaN</td>\n",
       "      <td>2015.0</td>\n",
       "      <td>Q19560274</td>\n",
       "    </tr>\n",
       "    <tr>\n",
       "      <th>...</th>\n",
       "      <td>...</td>\n",
       "      <td>...</td>\n",
       "      <td>...</td>\n",
       "      <td>...</td>\n",
       "      <td>...</td>\n",
       "      <td>...</td>\n",
       "      <td>...</td>\n",
       "    </tr>\n",
       "    <tr>\n",
       "      <th>102445</th>\n",
       "      <td>Royalty</td>\n",
       "      <td>Şivekar_Sultan</td>\n",
       "      <td>female</td>\n",
       "      <td>389.0</td>\n",
       "      <td>NaN</td>\n",
       "      <td>2020.0</td>\n",
       "      <td>Q25477824</td>\n",
       "    </tr>\n",
       "    <tr>\n",
       "      <th>27207</th>\n",
       "      <td>Religious</td>\n",
       "      <td>Şükrullah</td>\n",
       "      <td>male</td>\n",
       "      <td>100.0</td>\n",
       "      <td>NaN</td>\n",
       "      <td>2013.0</td>\n",
       "      <td>Q16854270</td>\n",
       "    </tr>\n",
       "    <tr>\n",
       "      <th>729002</th>\n",
       "      <td>Politician</td>\n",
       "      <td>Şükrü_Elekdağ</td>\n",
       "      <td>male</td>\n",
       "      <td>100.0</td>\n",
       "      <td>NaN</td>\n",
       "      <td>2011.0</td>\n",
       "      <td>Q4353302</td>\n",
       "    </tr>\n",
       "    <tr>\n",
       "      <th>729054</th>\n",
       "      <td>Politician</td>\n",
       "      <td>Ștefan_Foriș</td>\n",
       "      <td>male</td>\n",
       "      <td>132.0</td>\n",
       "      <td>NaN</td>\n",
       "      <td>2006.0</td>\n",
       "      <td>Q838826</td>\n",
       "    </tr>\n",
       "    <tr>\n",
       "      <th>102470</th>\n",
       "      <td>Royalty</td>\n",
       "      <td>Ḫarapšili</td>\n",
       "      <td>female</td>\n",
       "      <td>3574.0</td>\n",
       "      <td>NaN</td>\n",
       "      <td>2012.0</td>\n",
       "      <td>Q742087</td>\n",
       "    </tr>\n",
       "  </tbody>\n",
       "</table>\n",
       "<p>22962 rows × 7 columns</p>\n",
       "</div>"
      ],
      "text/plain": [
       "          subclass           instance  gender     age  birthYear  \\\n",
       "28501    Religious     6th_Dalai_Lama    male   341.0        NaN   \n",
       "74753      Royalty         A'annepada    male   100.0        NaN   \n",
       "28222    Religious  A'isha_bint_Talha  female   100.0        NaN   \n",
       "538089  Politician         A._Andrews    male   206.0        NaN   \n",
       "538102  Politician      A._B._Comfort    male   140.0        NaN   \n",
       "...            ...                ...     ...     ...        ...   \n",
       "102445     Royalty     Şivekar_Sultan  female   389.0        NaN   \n",
       "27207    Religious          Şükrullah    male   100.0        NaN   \n",
       "729002  Politician      Şükrü_Elekdağ    male   100.0        NaN   \n",
       "729054  Politician       Ștefan_Foriș    male   132.0        NaN   \n",
       "102470     Royalty          Ḫarapšili  female  3574.0        NaN   \n",
       "\n",
       "        publication_year wikiDataID  \n",
       "28501             2004.0     Q25251  \n",
       "74753             2020.0    Q277645  \n",
       "28222             2006.0   Q4646815  \n",
       "538089            2012.0   Q4647512  \n",
       "538102            2015.0  Q19560274  \n",
       "...                  ...        ...  \n",
       "102445            2020.0  Q25477824  \n",
       "27207             2013.0  Q16854270  \n",
       "729002            2011.0   Q4353302  \n",
       "729054            2006.0    Q838826  \n",
       "102470            2012.0    Q742087  \n",
       "\n",
       "[22962 rows x 7 columns]"
      ]
     },
     "execution_count": 59,
     "metadata": {},
     "output_type": "execute_result"
    }
   ],
   "source": [
    "df4.loc[(df4['age'] >= 100)]"
   ]
  },
  {
   "cell_type": "markdown",
   "id": "e704bed3-b900-4137-b72f-6fbaf63edd73",
   "metadata": {},
   "source": [
    "We now want to check of another edge case, since we have explored age < 0, and based on the Wikipedia page https://en.wikipedia.org/wiki/List_of_the_verified_oldest_people#:~:text=The%20oldest%20known%20living%20person,than%20the%20100%20oldest%20men., the oldest verified human is Tomiko Itooka of Japan, aged 116 years. Since, we are using data from Wikipedia, the data should be consistent with this upper limit. As can be seen above, there are  14995 rows woth age >=116. \n",
    "\n",
    "To clean this edge case, we will set a threshold value for age to cross check with wikdata using wikidataid. Since the maximum age should be 16, we will take a smaller threshold which would be 100 years. Thus, all instances with age >=100 will be cross-checked with wikidata if they have wikidata id. If intsances with age >=100 does not have wikidataid, we will assume they have the wrong age and we will change their recorded age to null."
   ]
  },
  {
   "cell_type": "code",
   "execution_count": 62,
   "id": "d6cbb40f-ae90-4534-9a12-752efc4ff6d2",
   "metadata": {
    "tags": []
   },
   "outputs": [
    {
     "data": {
      "text/html": [
       "<div>\n",
       "<style scoped>\n",
       "    .dataframe tbody tr th:only-of-type {\n",
       "        vertical-align: middle;\n",
       "    }\n",
       "\n",
       "    .dataframe tbody tr th {\n",
       "        vertical-align: top;\n",
       "    }\n",
       "\n",
       "    .dataframe thead th {\n",
       "        text-align: right;\n",
       "    }\n",
       "</style>\n",
       "<table border=\"1\" class=\"dataframe\">\n",
       "  <thead>\n",
       "    <tr style=\"text-align: right;\">\n",
       "      <th></th>\n",
       "      <th>subclass</th>\n",
       "      <th>instance</th>\n",
       "      <th>gender</th>\n",
       "      <th>age</th>\n",
       "      <th>birthYear</th>\n",
       "      <th>publication_year</th>\n",
       "      <th>wikiDataID</th>\n",
       "    </tr>\n",
       "  </thead>\n",
       "  <tbody>\n",
       "    <tr>\n",
       "      <th>538346</th>\n",
       "      <td>Politician</td>\n",
       "      <td>A._N._Ray__Ajit_Ray__1</td>\n",
       "      <td>NaN</td>\n",
       "      <td>112.0</td>\n",
       "      <td>NaN</td>\n",
       "      <td>NaN</td>\n",
       "      <td>NaN</td>\n",
       "    </tr>\n",
       "    <tr>\n",
       "      <th>278115</th>\n",
       "      <td>Scientist</td>\n",
       "      <td>Abraham_Colles__Abraham_Colles__1</td>\n",
       "      <td>NaN</td>\n",
       "      <td>251.0</td>\n",
       "      <td>NaN</td>\n",
       "      <td>NaN</td>\n",
       "      <td>NaN</td>\n",
       "    </tr>\n",
       "    <tr>\n",
       "      <th>542012</th>\n",
       "      <td>Politician</td>\n",
       "      <td>Ahmed_Mohiuddin_(politician)__Ahmed_Mohiuddin__1</td>\n",
       "      <td>NaN</td>\n",
       "      <td>126.0</td>\n",
       "      <td>NaN</td>\n",
       "      <td>NaN</td>\n",
       "      <td>NaN</td>\n",
       "    </tr>\n",
       "    <tr>\n",
       "      <th>74297</th>\n",
       "      <td>Coach</td>\n",
       "      <td>Albert_Hansen__Albert_Hansen__1</td>\n",
       "      <td>NaN</td>\n",
       "      <td>153.0</td>\n",
       "      <td>NaN</td>\n",
       "      <td>NaN</td>\n",
       "      <td>NaN</td>\n",
       "    </tr>\n",
       "    <tr>\n",
       "      <th>420285</th>\n",
       "      <td>Artist</td>\n",
       "      <td>Alberto_Zayas</td>\n",
       "      <td>male</td>\n",
       "      <td>116.0</td>\n",
       "      <td>NaN</td>\n",
       "      <td>2015.0</td>\n",
       "      <td>None</td>\n",
       "    </tr>\n",
       "    <tr>\n",
       "      <th>...</th>\n",
       "      <td>...</td>\n",
       "      <td>...</td>\n",
       "      <td>...</td>\n",
       "      <td>...</td>\n",
       "      <td>...</td>\n",
       "      <td>...</td>\n",
       "      <td>...</td>\n",
       "    </tr>\n",
       "    <tr>\n",
       "      <th>973809</th>\n",
       "      <td>Athlete</td>\n",
       "      <td>Willie_Birrell__Willie_Birrell__1</td>\n",
       "      <td>NaN</td>\n",
       "      <td>131.0</td>\n",
       "      <td>1893.0</td>\n",
       "      <td>NaN</td>\n",
       "      <td>NaN</td>\n",
       "    </tr>\n",
       "    <tr>\n",
       "      <th>973971</th>\n",
       "      <td>Athlete</td>\n",
       "      <td>Willie_Hunter_(footballer,_born_1880)__Willie_...</td>\n",
       "      <td>NaN</td>\n",
       "      <td>144.0</td>\n",
       "      <td>1880.0</td>\n",
       "      <td>NaN</td>\n",
       "      <td>NaN</td>\n",
       "    </tr>\n",
       "    <tr>\n",
       "      <th>974421</th>\n",
       "      <td>Athlete</td>\n",
       "      <td>Willy_Völker__Willy_Völker__1</td>\n",
       "      <td>NaN</td>\n",
       "      <td>135.0</td>\n",
       "      <td>1889.0</td>\n",
       "      <td>NaN</td>\n",
       "      <td>NaN</td>\n",
       "    </tr>\n",
       "    <tr>\n",
       "      <th>30542</th>\n",
       "      <td>Religious</td>\n",
       "      <td>Yaakov_Dovid_Wilovsky__Yaakov_Dovid_Wilovsky__1</td>\n",
       "      <td>NaN</td>\n",
       "      <td>179.0</td>\n",
       "      <td>NaN</td>\n",
       "      <td>NaN</td>\n",
       "      <td>NaN</td>\n",
       "    </tr>\n",
       "    <tr>\n",
       "      <th>29801</th>\n",
       "      <td>Religious</td>\n",
       "      <td>Yosef_Yitzchak_Schneersohn__Yosef_Yitzchak_Sch...</td>\n",
       "      <td>NaN</td>\n",
       "      <td>144.0</td>\n",
       "      <td>NaN</td>\n",
       "      <td>NaN</td>\n",
       "      <td>NaN</td>\n",
       "    </tr>\n",
       "  </tbody>\n",
       "</table>\n",
       "<p>151 rows × 7 columns</p>\n",
       "</div>"
      ],
      "text/plain": [
       "          subclass                                           instance gender  \\\n",
       "538346  Politician                             A._N._Ray__Ajit_Ray__1    NaN   \n",
       "278115   Scientist                  Abraham_Colles__Abraham_Colles__1    NaN   \n",
       "542012  Politician   Ahmed_Mohiuddin_(politician)__Ahmed_Mohiuddin__1    NaN   \n",
       "74297        Coach                    Albert_Hansen__Albert_Hansen__1    NaN   \n",
       "420285      Artist                                      Alberto_Zayas   male   \n",
       "...            ...                                                ...    ...   \n",
       "973809     Athlete                  Willie_Birrell__Willie_Birrell__1    NaN   \n",
       "973971     Athlete  Willie_Hunter_(footballer,_born_1880)__Willie_...    NaN   \n",
       "974421     Athlete                      Willy_Völker__Willy_Völker__1    NaN   \n",
       "30542    Religious    Yaakov_Dovid_Wilovsky__Yaakov_Dovid_Wilovsky__1    NaN   \n",
       "29801    Religious  Yosef_Yitzchak_Schneersohn__Yosef_Yitzchak_Sch...    NaN   \n",
       "\n",
       "          age  birthYear  publication_year wikiDataID  \n",
       "538346  112.0        NaN               NaN        NaN  \n",
       "278115  251.0        NaN               NaN        NaN  \n",
       "542012  126.0        NaN               NaN        NaN  \n",
       "74297   153.0        NaN               NaN        NaN  \n",
       "420285  116.0        NaN            2015.0       None  \n",
       "...       ...        ...               ...        ...  \n",
       "973809  131.0     1893.0               NaN        NaN  \n",
       "973971  144.0     1880.0               NaN        NaN  \n",
       "974421  135.0     1889.0               NaN        NaN  \n",
       "30542   179.0        NaN               NaN        NaN  \n",
       "29801   144.0        NaN               NaN        NaN  \n",
       "\n",
       "[151 rows x 7 columns]"
      ]
     },
     "execution_count": 62,
     "metadata": {},
     "output_type": "execute_result"
    }
   ],
   "source": [
    "df4.loc[((df4['age'] >= 100) & (df4['wikiDataID'].isna()))]"
   ]
  },
  {
   "cell_type": "markdown",
   "id": "0963ba0e-48e9-41cf-875c-6bdbe377dfa5",
   "metadata": {
    "tags": []
   },
   "source": [
    "There are 151 rows with no associated wikidata to them and age >= 100. Since the number of such rows is small and we can't cross-check with wikidata, we will convert them into null."
   ]
  },
  {
   "cell_type": "code",
   "execution_count": 63,
   "id": "9b3e12a6-c132-4b50-ac77-abe2ed10d688",
   "metadata": {
    "tags": []
   },
   "outputs": [
    {
     "data": {
      "text/plain": [
       "151"
      ]
     },
     "execution_count": 63,
     "metadata": {},
     "output_type": "execute_result"
    }
   ],
   "source": [
    "# extract the index of rows having age < 0 in the age column\n",
    "convert_null_index = df4.loc[((df4['age'] >= 100) & (df4['wikiDataID'].isna())), \"age\"].index\n",
    "len(convert_null_index)"
   ]
  },
  {
   "cell_type": "code",
   "execution_count": 64,
   "id": "f455f13f-4e2f-418f-9a1d-1e3dc178988a",
   "metadata": {
    "tags": []
   },
   "outputs": [],
   "source": [
    "df5 = df4.copy()\n",
    "# change the value of \"-1\" to null/nan\n",
    "df5.loc[convert_null_index, \"age\"] = np.nan"
   ]
  },
  {
   "cell_type": "markdown",
   "id": "9ab6af27-81f2-4a63-9a93-0a4acc254fc8",
   "metadata": {
    "tags": []
   },
   "source": [
    "Now, we check all the rows with age >=100 and have wikidata id which will be cross-checked with wikidata api to get a more precise value."
   ]
  },
  {
   "cell_type": "code",
   "execution_count": 65,
   "id": "5c1e50cd-8b49-451a-871d-3a7c38f4a70f",
   "metadata": {
    "tags": []
   },
   "outputs": [
    {
     "data": {
      "text/plain": [
       "subclass                 0\n",
       "instance                 0\n",
       "gender               47838\n",
       "age                  84446\n",
       "birthYear           548617\n",
       "publication_year     21780\n",
       "wikiDataID           30995\n",
       "dtype: int64"
      ]
     },
     "execution_count": 65,
     "metadata": {},
     "output_type": "execute_result"
    }
   ],
   "source": [
    "df5.isna().sum()"
   ]
  },
  {
   "cell_type": "code",
   "execution_count": 66,
   "id": "4cb6d07d-082a-4361-9ff1-f36c6459e718",
   "metadata": {
    "tags": []
   },
   "outputs": [
    {
     "data": {
      "text/html": [
       "<div>\n",
       "<style scoped>\n",
       "    .dataframe tbody tr th:only-of-type {\n",
       "        vertical-align: middle;\n",
       "    }\n",
       "\n",
       "    .dataframe tbody tr th {\n",
       "        vertical-align: top;\n",
       "    }\n",
       "\n",
       "    .dataframe thead th {\n",
       "        text-align: right;\n",
       "    }\n",
       "</style>\n",
       "<table border=\"1\" class=\"dataframe\">\n",
       "  <thead>\n",
       "    <tr style=\"text-align: right;\">\n",
       "      <th></th>\n",
       "      <th>subclass</th>\n",
       "      <th>instance</th>\n",
       "      <th>gender</th>\n",
       "      <th>age</th>\n",
       "      <th>birthYear</th>\n",
       "      <th>publication_year</th>\n",
       "      <th>wikiDataID</th>\n",
       "    </tr>\n",
       "  </thead>\n",
       "  <tbody>\n",
       "    <tr>\n",
       "      <th>28501</th>\n",
       "      <td>Religious</td>\n",
       "      <td>6th_Dalai_Lama</td>\n",
       "      <td>male</td>\n",
       "      <td>341.0</td>\n",
       "      <td>NaN</td>\n",
       "      <td>2004.0</td>\n",
       "      <td>Q25251</td>\n",
       "    </tr>\n",
       "    <tr>\n",
       "      <th>74753</th>\n",
       "      <td>Royalty</td>\n",
       "      <td>A'annepada</td>\n",
       "      <td>male</td>\n",
       "      <td>100.0</td>\n",
       "      <td>NaN</td>\n",
       "      <td>2020.0</td>\n",
       "      <td>Q277645</td>\n",
       "    </tr>\n",
       "    <tr>\n",
       "      <th>28222</th>\n",
       "      <td>Religious</td>\n",
       "      <td>A'isha_bint_Talha</td>\n",
       "      <td>female</td>\n",
       "      <td>100.0</td>\n",
       "      <td>NaN</td>\n",
       "      <td>2006.0</td>\n",
       "      <td>Q4646815</td>\n",
       "    </tr>\n",
       "    <tr>\n",
       "      <th>538089</th>\n",
       "      <td>Politician</td>\n",
       "      <td>A._Andrews</td>\n",
       "      <td>male</td>\n",
       "      <td>206.0</td>\n",
       "      <td>NaN</td>\n",
       "      <td>2012.0</td>\n",
       "      <td>Q4647512</td>\n",
       "    </tr>\n",
       "    <tr>\n",
       "      <th>538102</th>\n",
       "      <td>Politician</td>\n",
       "      <td>A._B._Comfort</td>\n",
       "      <td>male</td>\n",
       "      <td>140.0</td>\n",
       "      <td>NaN</td>\n",
       "      <td>2015.0</td>\n",
       "      <td>Q19560274</td>\n",
       "    </tr>\n",
       "    <tr>\n",
       "      <th>...</th>\n",
       "      <td>...</td>\n",
       "      <td>...</td>\n",
       "      <td>...</td>\n",
       "      <td>...</td>\n",
       "      <td>...</td>\n",
       "      <td>...</td>\n",
       "      <td>...</td>\n",
       "    </tr>\n",
       "    <tr>\n",
       "      <th>102445</th>\n",
       "      <td>Royalty</td>\n",
       "      <td>Şivekar_Sultan</td>\n",
       "      <td>female</td>\n",
       "      <td>389.0</td>\n",
       "      <td>NaN</td>\n",
       "      <td>2020.0</td>\n",
       "      <td>Q25477824</td>\n",
       "    </tr>\n",
       "    <tr>\n",
       "      <th>27207</th>\n",
       "      <td>Religious</td>\n",
       "      <td>Şükrullah</td>\n",
       "      <td>male</td>\n",
       "      <td>100.0</td>\n",
       "      <td>NaN</td>\n",
       "      <td>2013.0</td>\n",
       "      <td>Q16854270</td>\n",
       "    </tr>\n",
       "    <tr>\n",
       "      <th>729002</th>\n",
       "      <td>Politician</td>\n",
       "      <td>Şükrü_Elekdağ</td>\n",
       "      <td>male</td>\n",
       "      <td>100.0</td>\n",
       "      <td>NaN</td>\n",
       "      <td>2011.0</td>\n",
       "      <td>Q4353302</td>\n",
       "    </tr>\n",
       "    <tr>\n",
       "      <th>729054</th>\n",
       "      <td>Politician</td>\n",
       "      <td>Ștefan_Foriș</td>\n",
       "      <td>male</td>\n",
       "      <td>132.0</td>\n",
       "      <td>NaN</td>\n",
       "      <td>2006.0</td>\n",
       "      <td>Q838826</td>\n",
       "    </tr>\n",
       "    <tr>\n",
       "      <th>102470</th>\n",
       "      <td>Royalty</td>\n",
       "      <td>Ḫarapšili</td>\n",
       "      <td>female</td>\n",
       "      <td>3574.0</td>\n",
       "      <td>NaN</td>\n",
       "      <td>2012.0</td>\n",
       "      <td>Q742087</td>\n",
       "    </tr>\n",
       "  </tbody>\n",
       "</table>\n",
       "<p>22811 rows × 7 columns</p>\n",
       "</div>"
      ],
      "text/plain": [
       "          subclass           instance  gender     age  birthYear  \\\n",
       "28501    Religious     6th_Dalai_Lama    male   341.0        NaN   \n",
       "74753      Royalty         A'annepada    male   100.0        NaN   \n",
       "28222    Religious  A'isha_bint_Talha  female   100.0        NaN   \n",
       "538089  Politician         A._Andrews    male   206.0        NaN   \n",
       "538102  Politician      A._B._Comfort    male   140.0        NaN   \n",
       "...            ...                ...     ...     ...        ...   \n",
       "102445     Royalty     Şivekar_Sultan  female   389.0        NaN   \n",
       "27207    Religious          Şükrullah    male   100.0        NaN   \n",
       "729002  Politician      Şükrü_Elekdağ    male   100.0        NaN   \n",
       "729054  Politician       Ștefan_Foriș    male   132.0        NaN   \n",
       "102470     Royalty          Ḫarapšili  female  3574.0        NaN   \n",
       "\n",
       "        publication_year wikiDataID  \n",
       "28501             2004.0     Q25251  \n",
       "74753             2020.0    Q277645  \n",
       "28222             2006.0   Q4646815  \n",
       "538089            2012.0   Q4647512  \n",
       "538102            2015.0  Q19560274  \n",
       "...                  ...        ...  \n",
       "102445            2020.0  Q25477824  \n",
       "27207             2013.0  Q16854270  \n",
       "729002            2011.0   Q4353302  \n",
       "729054            2006.0    Q838826  \n",
       "102470            2012.0    Q742087  \n",
       "\n",
       "[22811 rows x 7 columns]"
      ]
     },
     "execution_count": 66,
     "metadata": {},
     "output_type": "execute_result"
    }
   ],
   "source": [
    "df5.loc[((df5['age'] >= 100) & (df5['wikiDataID'].notna()))]"
   ]
  },
  {
   "cell_type": "markdown",
   "id": "54ead4ba-9295-43e1-940b-deffbbeacf26",
   "metadata": {},
   "source": [
    "We can observe that there are 22,811 rows having age >= 100 which will be cross-checked with wikidata api"
   ]
  },
  {
   "cell_type": "code",
   "execution_count": 67,
   "id": "9526fd22-08ee-43bc-a68a-3032c08cf2e9",
   "metadata": {
    "tags": []
   },
   "outputs": [
    {
     "data": {
      "text/plain": [
       "22811"
      ]
     },
     "execution_count": 67,
     "metadata": {},
     "output_type": "execute_result"
    }
   ],
   "source": [
    "age100_subset = df5.loc[((df5['age'] >= 100) & (df5['wikiDataID'].notna())), ['instance', 'wikiDataID', 'age']].values.tolist()\n",
    "len(age100_subset)"
   ]
  },
  {
   "cell_type": "code",
   "execution_count": 68,
   "id": "143cd389-67b5-49da-89f4-6e794c8e69ec",
   "metadata": {
    "tags": []
   },
   "outputs": [],
   "source": [
    "# age100_mapping = subset_get_age(age100_subset, 'age100_processed_instances')\n",
    "age100_mapping = age_txt_to_dict('age100_processed_instances')"
   ]
  },
  {
   "cell_type": "code",
   "execution_count": 69,
   "id": "303d7ff9-170a-4969-aee9-6966eb321947",
   "metadata": {
    "tags": []
   },
   "outputs": [
    {
     "data": {
      "text/html": [
       "<div>\n",
       "<style scoped>\n",
       "    .dataframe tbody tr th:only-of-type {\n",
       "        vertical-align: middle;\n",
       "    }\n",
       "\n",
       "    .dataframe tbody tr th {\n",
       "        vertical-align: top;\n",
       "    }\n",
       "\n",
       "    .dataframe thead th {\n",
       "        text-align: right;\n",
       "    }\n",
       "</style>\n",
       "<table border=\"1\" class=\"dataframe\">\n",
       "  <thead>\n",
       "    <tr style=\"text-align: right;\">\n",
       "      <th></th>\n",
       "      <th>subclass</th>\n",
       "      <th>instance</th>\n",
       "      <th>gender</th>\n",
       "      <th>age</th>\n",
       "      <th>birthYear</th>\n",
       "      <th>publication_year</th>\n",
       "      <th>wikiDataID</th>\n",
       "    </tr>\n",
       "  </thead>\n",
       "  <tbody>\n",
       "    <tr>\n",
       "      <th>417884</th>\n",
       "      <td>Artist</td>\n",
       "      <td>!PAUS3</td>\n",
       "      <td>male</td>\n",
       "      <td>43.0</td>\n",
       "      <td>NaN</td>\n",
       "      <td>2011.0</td>\n",
       "      <td>Q3466056</td>\n",
       "    </tr>\n",
       "    <tr>\n",
       "      <th>417885</th>\n",
       "      <td>Artist</td>\n",
       "      <td>$pacely</td>\n",
       "      <td>male</td>\n",
       "      <td>32.0</td>\n",
       "      <td>NaN</td>\n",
       "      <td>2018.0</td>\n",
       "      <td>Q73507574</td>\n",
       "    </tr>\n",
       "    <tr>\n",
       "      <th>38134</th>\n",
       "      <td>Criminal</td>\n",
       "      <td>%22Baby_Lollipops%22_murder</td>\n",
       "      <td>NaN</td>\n",
       "      <td>63.0</td>\n",
       "      <td>NaN</td>\n",
       "      <td>2023.0</td>\n",
       "      <td>Q64875934</td>\n",
       "    </tr>\n",
       "    <tr>\n",
       "      <th>417886</th>\n",
       "      <td>Artist</td>\n",
       "      <td>%22Bassy%22_Bob_Brockmann</td>\n",
       "      <td>male</td>\n",
       "      <td>62.0</td>\n",
       "      <td>NaN</td>\n",
       "      <td>2013.0</td>\n",
       "      <td>Q13416958</td>\n",
       "    </tr>\n",
       "    <tr>\n",
       "      <th>537884</th>\n",
       "      <td>Politician</td>\n",
       "      <td>%22Big%22_Donnie_MacLeod</td>\n",
       "      <td>male</td>\n",
       "      <td>75.0</td>\n",
       "      <td>NaN</td>\n",
       "      <td>2014.0</td>\n",
       "      <td>Q18645783</td>\n",
       "    </tr>\n",
       "    <tr>\n",
       "      <th>...</th>\n",
       "      <td>...</td>\n",
       "      <td>...</td>\n",
       "      <td>...</td>\n",
       "      <td>...</td>\n",
       "      <td>...</td>\n",
       "      <td>...</td>\n",
       "      <td>...</td>\n",
       "    </tr>\n",
       "    <tr>\n",
       "      <th>102470</th>\n",
       "      <td>Royalty</td>\n",
       "      <td>Ḫarapšili</td>\n",
       "      <td>female</td>\n",
       "      <td>3574.0</td>\n",
       "      <td>NaN</td>\n",
       "      <td>2012.0</td>\n",
       "      <td>Q742087</td>\n",
       "    </tr>\n",
       "    <tr>\n",
       "      <th>102471</th>\n",
       "      <td>Royalty</td>\n",
       "      <td>Ḫattušili_III</td>\n",
       "      <td>male</td>\n",
       "      <td>-1.0</td>\n",
       "      <td>NaN</td>\n",
       "      <td>2004.0</td>\n",
       "      <td>Q297588</td>\n",
       "    </tr>\n",
       "    <tr>\n",
       "      <th>26705</th>\n",
       "      <td>Religious</td>\n",
       "      <td>Ṭhānissaro_Bhikkhu</td>\n",
       "      <td>male</td>\n",
       "      <td>75.0</td>\n",
       "      <td>NaN</td>\n",
       "      <td>2006.0</td>\n",
       "      <td>Q7710407</td>\n",
       "    </tr>\n",
       "    <tr>\n",
       "      <th>102472</th>\n",
       "      <td>Royalty</td>\n",
       "      <td>Ỷ_Lan</td>\n",
       "      <td>female</td>\n",
       "      <td>67.0</td>\n",
       "      <td>NaN</td>\n",
       "      <td>2010.0</td>\n",
       "      <td>Q10843033</td>\n",
       "    </tr>\n",
       "    <tr>\n",
       "      <th>102473</th>\n",
       "      <td>Royalty</td>\n",
       "      <td>‘Ulayya_bint_al-Mahdī</td>\n",
       "      <td>NaN</td>\n",
       "      <td>NaN</td>\n",
       "      <td>NaN</td>\n",
       "      <td>2019.0</td>\n",
       "      <td>NaN</td>\n",
       "    </tr>\n",
       "  </tbody>\n",
       "</table>\n",
       "<p>791004 rows × 7 columns</p>\n",
       "</div>"
      ],
      "text/plain": [
       "          subclass                     instance  gender     age  birthYear  \\\n",
       "417884      Artist                       !PAUS3    male    43.0        NaN   \n",
       "417885      Artist                      $pacely    male    32.0        NaN   \n",
       "38134     Criminal  %22Baby_Lollipops%22_murder     NaN    63.0        NaN   \n",
       "417886      Artist    %22Bassy%22_Bob_Brockmann    male    62.0        NaN   \n",
       "537884  Politician     %22Big%22_Donnie_MacLeod    male    75.0        NaN   \n",
       "...            ...                          ...     ...     ...        ...   \n",
       "102470     Royalty                    Ḫarapšili  female  3574.0        NaN   \n",
       "102471     Royalty                Ḫattušili_III    male    -1.0        NaN   \n",
       "26705    Religious           Ṭhānissaro_Bhikkhu    male    75.0        NaN   \n",
       "102472     Royalty                        Ỷ_Lan  female    67.0        NaN   \n",
       "102473     Royalty        ‘Ulayya_bint_al-Mahdī     NaN     NaN        NaN   \n",
       "\n",
       "        publication_year wikiDataID  \n",
       "417884            2011.0   Q3466056  \n",
       "417885            2018.0  Q73507574  \n",
       "38134             2023.0  Q64875934  \n",
       "417886            2013.0  Q13416958  \n",
       "537884            2014.0  Q18645783  \n",
       "...                  ...        ...  \n",
       "102470            2012.0    Q742087  \n",
       "102471            2004.0    Q297588  \n",
       "26705             2006.0   Q7710407  \n",
       "102472            2010.0  Q10843033  \n",
       "102473            2019.0        NaN  \n",
       "\n",
       "[791004 rows x 7 columns]"
      ]
     },
     "execution_count": 69,
     "metadata": {},
     "output_type": "execute_result"
    }
   ],
   "source": [
    "# Define function to get the correct age using WikidataID\n",
    "def get_correct_age2(row, mapping):\n",
    "    key = (row['instance'], row['wikiDataID'])\n",
    "    return mapping.get(key, row['age'])  # Fallback to the original wikiDataID if no mapping is found\n",
    "\n",
    "# Create a copy of df2 to keep the original data intact\n",
    "df6 = df5.copy()\n",
    "\n",
    "# Apply the function to update the 'age' column in the new DataFrame with a progress bar\n",
    "df6['age'] = df5.apply(lambda row: get_correct_age(row, age100_mapping), axis=1)\n",
    "\n",
    "# The df3 DataFrame now has the updated 'age' column with fetched data from Wikidata where applicable\n",
    "df6"
   ]
  },
  {
   "cell_type": "code",
   "execution_count": 70,
   "id": "753e840c-7f0a-45ff-9e50-20af17195917",
   "metadata": {
    "tags": []
   },
   "outputs": [
    {
     "data": {
      "text/plain": [
       "8910"
      ]
     },
     "execution_count": 70,
     "metadata": {},
     "output_type": "execute_result"
    }
   ],
   "source": [
    "age100_truesubset = df6.loc[((df6['age'] >= 100) & (df6['wikiDataID'].notna())), ['instance', 'wikiDataID', 'age']].values.tolist()\n",
    "len(age100_truesubset)"
   ]
  },
  {
   "cell_type": "markdown",
   "id": "b41cf9d6-5ea3-437b-a751-34ee078c6de6",
   "metadata": {},
   "source": [
    "After checking with Wikidata api, only 8910 out of 22,811 actually have age >=100"
   ]
  },
  {
   "cell_type": "code",
   "execution_count": 71,
   "id": "04a52e30-1b34-42db-8965-2358dcc3c661",
   "metadata": {
    "tags": []
   },
   "outputs": [
    {
     "data": {
      "text/plain": [
       "subclass                 0\n",
       "instance                 0\n",
       "gender               47838\n",
       "age                  85028\n",
       "birthYear           548617\n",
       "publication_year     21780\n",
       "wikiDataID           30995\n",
       "dtype: int64"
      ]
     },
     "execution_count": 71,
     "metadata": {},
     "output_type": "execute_result"
    }
   ],
   "source": [
    "df6.isna().sum()"
   ]
  },
  {
   "cell_type": "code",
   "execution_count": 72,
   "id": "0958a190-6111-4699-b963-6a66f95ac5ba",
   "metadata": {
    "tags": []
   },
   "outputs": [
    {
     "data": {
      "text/plain": [
       "513"
      ]
     },
     "execution_count": 72,
     "metadata": {},
     "output_type": "execute_result"
    }
   ],
   "source": [
    "subset_less0 = df6.loc[(df6['age'] < 0) , ['instance', 'wikiDataID', 'age']].values.tolist()\n",
    "len(subset_less0)"
   ]
  },
  {
   "cell_type": "markdown",
   "id": "101de3ba-ba03-4c7c-91e4-b6ae51fb2024",
   "metadata": {},
   "source": [
    "Out of the 22,811 rows that have age >=100 from original dataset, 513 are less than 0 in wikidata id. Since these instances values are seem to be incnsistent, we will mark these intances as null."
   ]
  },
  {
   "cell_type": "code",
   "execution_count": 73,
   "id": "2e7334f6-0b5a-45ea-a926-65a06f83bf93",
   "metadata": {
    "tags": []
   },
   "outputs": [],
   "source": [
    "# extract the index of age < 0 in the age column\n",
    "convert_null_index = df6.loc[df6[\"age\"] < 0, \"age\"].index"
   ]
  },
  {
   "cell_type": "code",
   "execution_count": 74,
   "id": "3ba0d267-d92c-4bc1-b7c8-b6bbd7ce35e3",
   "metadata": {
    "tags": []
   },
   "outputs": [
    {
     "data": {
      "text/plain": [
       "513"
      ]
     },
     "execution_count": 74,
     "metadata": {},
     "output_type": "execute_result"
    }
   ],
   "source": [
    "len(convert_null_index)"
   ]
  },
  {
   "cell_type": "code",
   "execution_count": 75,
   "id": "d25893e1-4f54-4c23-a170-e880e2486c38",
   "metadata": {
    "tags": []
   },
   "outputs": [],
   "source": [
    "# change the value of \"-1\" to null/nan\n",
    "df6.loc[convert_null_index, \"age\"] = np.nan"
   ]
  },
  {
   "cell_type": "code",
   "execution_count": 76,
   "id": "fc40109c-8df0-44b0-96ab-e8ab0bd28236",
   "metadata": {
    "tags": []
   },
   "outputs": [
    {
     "data": {
      "text/plain": [
       "subclass                 0\n",
       "instance                 0\n",
       "gender               47838\n",
       "age                  85541\n",
       "birthYear           548617\n",
       "publication_year     21780\n",
       "wikiDataID           30995\n",
       "dtype: int64"
      ]
     },
     "execution_count": 76,
     "metadata": {},
     "output_type": "execute_result"
    }
   ],
   "source": [
    "df6.isna().sum()"
   ]
  },
  {
   "cell_type": "code",
   "execution_count": 77,
   "id": "fa67225b-4721-4fb0-a2b8-a84180c5bf67",
   "metadata": {
    "tags": []
   },
   "outputs": [
    {
     "data": {
      "text/plain": [
       "0"
      ]
     },
     "execution_count": 77,
     "metadata": {},
     "output_type": "execute_result"
    }
   ],
   "source": [
    "check_null_index = df6.loc[df6[\"age\"] < 0, \"age\"].index\n",
    "len(check_null_index)"
   ]
  },
  {
   "cell_type": "code",
   "execution_count": 78,
   "id": "f56bbd8e-b9f7-439c-aed7-f4900de5d380",
   "metadata": {
    "tags": []
   },
   "outputs": [
    {
     "name": "stdout",
     "output_type": "stream",
     "text": [
      "Articles of Normal Age (0-99):  12875\n",
      "Actual Articles having age >=100:  39.060102582087595\n",
      "Actual Articles having age < 100:  2.248914997150498\n",
      "Actual Articles having age = None:  2.248914997150498\n",
      "Actual Articles having Normal Age (0-99):  56.44206742361142\n"
     ]
    }
   ],
   "source": [
    "original_age100 = 22811\n",
    "actual_age100 = 8910\n",
    "actual_age_less0 = 513\n",
    "actual_null_age= 85541 - 85028\n",
    "\n",
    "normal_age_subset = original_age100 - actual_age100 - actual_age_less0 - actual_null_age\n",
    "print(\"Articles of Normal Age (0-99): \", normal_age_subset)\n",
    "\n",
    "print(\"Actual Articles having age >=100: \", actual_age100 / original_age100 *100)\n",
    "print(\"Actual Articles having age < 100: \", actual_age_less0 / original_age100 *100)\n",
    "print(\"Actual Articles having age = None: \", actual_null_age / original_age100 *100)\n",
    "print(\"Actual Articles having Normal Age (0-99): \", normal_age_subset / original_age100 *100)"
   ]
  },
  {
   "cell_type": "markdown",
   "id": "0628972f-fa2a-43a1-944e-bfcd79cdf5b7",
   "metadata": {},
   "source": [
    "Thus, for the rows that have age >= 100 in the original dataset: </n>\n",
    "<ul>\n",
    "    <li>39% actually have age >=100</li>\n",
    "    <li>56.44% have age between 0 and 100</li>\n",
    "    <li>2.25% have unknown age</li>\n",
    "    <li>2.25% have age less than 0</li>\n",
    "</ul>\n",
    "Considering we remove the unknown age and age < 0, we have succesfully retrieve the age from wikidata for 95.5% of the data having original age >= 100"
   ]
  },
  {
   "cell_type": "code",
   "execution_count": 79,
   "id": "9df73060-f1a0-4d52-ba78-b70b29aa8020",
   "metadata": {
    "tags": []
   },
   "outputs": [
    {
     "data": {
      "text/plain": [
       "count    705463.000000\n",
       "mean         62.205914\n",
       "std          56.942406\n",
       "min           0.000000\n",
       "25%          44.000000\n",
       "50%          62.000000\n",
       "75%          77.000000\n",
       "max        6226.000000\n",
       "Name: age, dtype: float64"
      ]
     },
     "execution_count": 79,
     "metadata": {},
     "output_type": "execute_result"
    }
   ],
   "source": [
    "df6['age'].describe()"
   ]
  },
  {
   "cell_type": "code",
   "execution_count": 81,
   "id": "b77a0985-f603-48ce-a726-acca71641f68",
   "metadata": {
    "tags": []
   },
   "outputs": [
    {
     "data": {
      "text/html": [
       "<div>\n",
       "<style scoped>\n",
       "    .dataframe tbody tr th:only-of-type {\n",
       "        vertical-align: middle;\n",
       "    }\n",
       "\n",
       "    .dataframe tbody tr th {\n",
       "        vertical-align: top;\n",
       "    }\n",
       "\n",
       "    .dataframe thead th {\n",
       "        text-align: right;\n",
       "    }\n",
       "</style>\n",
       "<table border=\"1\" class=\"dataframe\">\n",
       "  <thead>\n",
       "    <tr style=\"text-align: right;\">\n",
       "      <th></th>\n",
       "      <th>subclass</th>\n",
       "      <th>instance</th>\n",
       "      <th>gender</th>\n",
       "      <th>age</th>\n",
       "      <th>birthYear</th>\n",
       "      <th>publication_year</th>\n",
       "      <th>wikiDataID</th>\n",
       "    </tr>\n",
       "  </thead>\n",
       "  <tbody>\n",
       "    <tr>\n",
       "      <th>538089</th>\n",
       "      <td>Politician</td>\n",
       "      <td>A._Andrews</td>\n",
       "      <td>male</td>\n",
       "      <td>206.0</td>\n",
       "      <td>NaN</td>\n",
       "      <td>2012.0</td>\n",
       "      <td>Q4647512</td>\n",
       "    </tr>\n",
       "    <tr>\n",
       "      <th>538157</th>\n",
       "      <td>Politician</td>\n",
       "      <td>A._Dash_Wilson</td>\n",
       "      <td>male</td>\n",
       "      <td>126.0</td>\n",
       "      <td>NaN</td>\n",
       "      <td>2010.0</td>\n",
       "      <td>Q4647688</td>\n",
       "    </tr>\n",
       "    <tr>\n",
       "      <th>69405</th>\n",
       "      <td>Coach</td>\n",
       "      <td>A._F._Holste</td>\n",
       "      <td>male</td>\n",
       "      <td>150.0</td>\n",
       "      <td>NaN</td>\n",
       "      <td>2007.0</td>\n",
       "      <td>Q4647751</td>\n",
       "    </tr>\n",
       "    <tr>\n",
       "      <th>69408</th>\n",
       "      <td>Coach</td>\n",
       "      <td>A._P._Hall_Jr.</td>\n",
       "      <td>male</td>\n",
       "      <td>144.0</td>\n",
       "      <td>NaN</td>\n",
       "      <td>2013.0</td>\n",
       "      <td>Q16066964</td>\n",
       "    </tr>\n",
       "    <tr>\n",
       "      <th>538443</th>\n",
       "      <td>Politician</td>\n",
       "      <td>A._Sivasunderam</td>\n",
       "      <td>male</td>\n",
       "      <td>120.0</td>\n",
       "      <td>NaN</td>\n",
       "      <td>2013.0</td>\n",
       "      <td>Q16228457</td>\n",
       "    </tr>\n",
       "    <tr>\n",
       "      <th>...</th>\n",
       "      <td>...</td>\n",
       "      <td>...</td>\n",
       "      <td>...</td>\n",
       "      <td>...</td>\n",
       "      <td>...</td>\n",
       "      <td>...</td>\n",
       "      <td>...</td>\n",
       "    </tr>\n",
       "    <tr>\n",
       "      <th>728768</th>\n",
       "      <td>Politician</td>\n",
       "      <td>Ísak_Guttormsson</td>\n",
       "      <td>male</td>\n",
       "      <td>424.0</td>\n",
       "      <td>NaN</td>\n",
       "      <td>2008.0</td>\n",
       "      <td>Q291790</td>\n",
       "    </tr>\n",
       "    <tr>\n",
       "      <th>52162</th>\n",
       "      <td>Noble</td>\n",
       "      <td>Íñigo_López_de_Mendoza,_Lord_of_Llodio</td>\n",
       "      <td>male</td>\n",
       "      <td>150.0</td>\n",
       "      <td>NaN</td>\n",
       "      <td>2015.0</td>\n",
       "      <td>Q5489781</td>\n",
       "    </tr>\n",
       "    <tr>\n",
       "      <th>102342</th>\n",
       "      <td>Royalty</td>\n",
       "      <td>Óengus_I</td>\n",
       "      <td>male</td>\n",
       "      <td>160.0</td>\n",
       "      <td>NaN</td>\n",
       "      <td>2005.0</td>\n",
       "      <td>Q292929</td>\n",
       "    </tr>\n",
       "    <tr>\n",
       "      <th>102445</th>\n",
       "      <td>Royalty</td>\n",
       "      <td>Şivekar_Sultan</td>\n",
       "      <td>female</td>\n",
       "      <td>389.0</td>\n",
       "      <td>NaN</td>\n",
       "      <td>2020.0</td>\n",
       "      <td>Q25477824</td>\n",
       "    </tr>\n",
       "    <tr>\n",
       "      <th>102470</th>\n",
       "      <td>Royalty</td>\n",
       "      <td>Ḫarapšili</td>\n",
       "      <td>female</td>\n",
       "      <td>3574.0</td>\n",
       "      <td>NaN</td>\n",
       "      <td>2012.0</td>\n",
       "      <td>Q742087</td>\n",
       "    </tr>\n",
       "  </tbody>\n",
       "</table>\n",
       "<p>4662 rows × 7 columns</p>\n",
       "</div>"
      ],
      "text/plain": [
       "          subclass                                instance  gender     age  \\\n",
       "538089  Politician                              A._Andrews    male   206.0   \n",
       "538157  Politician                          A._Dash_Wilson    male   126.0   \n",
       "69405        Coach                            A._F._Holste    male   150.0   \n",
       "69408        Coach                          A._P._Hall_Jr.    male   144.0   \n",
       "538443  Politician                         A._Sivasunderam    male   120.0   \n",
       "...            ...                                     ...     ...     ...   \n",
       "728768  Politician                        Ísak_Guttormsson    male   424.0   \n",
       "52162        Noble  Íñigo_López_de_Mendoza,_Lord_of_Llodio    male   150.0   \n",
       "102342     Royalty                                Óengus_I    male   160.0   \n",
       "102445     Royalty                          Şivekar_Sultan  female   389.0   \n",
       "102470     Royalty                               Ḫarapšili  female  3574.0   \n",
       "\n",
       "        birthYear  publication_year wikiDataID  \n",
       "538089        NaN            2012.0   Q4647512  \n",
       "538157        NaN            2010.0   Q4647688  \n",
       "69405         NaN            2007.0   Q4647751  \n",
       "69408         NaN            2013.0  Q16066964  \n",
       "538443        NaN            2013.0  Q16228457  \n",
       "...           ...               ...        ...  \n",
       "728768        NaN            2008.0    Q291790  \n",
       "52162         NaN            2015.0   Q5489781  \n",
       "102342        NaN            2005.0    Q292929  \n",
       "102445        NaN            2020.0  Q25477824  \n",
       "102470        NaN            2012.0    Q742087  \n",
       "\n",
       "[4662 rows x 7 columns]"
      ]
     },
     "execution_count": 81,
     "metadata": {},
     "output_type": "execute_result"
    }
   ],
   "source": [
    "df6.loc[df6[\"age\"] >= 116]"
   ]
  },
  {
   "cell_type": "markdown",
   "id": "d7c4d8b8-52b8-4108-a0ed-d72e1cf563b3",
   "metadata": {},
   "source": [
    "Now, we can see that there are still 4662 rows of instances with age >= 116. We can also observe from above that there ae some instances with non-logical age such as the instanace \"102470\tRoyalty\tḪarapšili\tfemale\t3574.0\tNaN\t2012.0\tQ742087\". We can see from the wikidata link for the instance here https://www.wikidata.org/wiki/Q742087 , where there are no date of death recorded in wikidata for the instance but there are place of death whicb means that the insatnce is actually dead.\n",
    "\n",
    "Thus, it is impossible to get the age of some instance that has already died but it has not been recorded in Wikidata of their date of death. One way to solve this is by checking all intances if they have died or not and flag then as unknown age. However, some instance might not have death of date and place of death but might already died.Thus, we concluded to use average age to remove all age values above 73.1 to null to conter the effect of insatnces that are dead but assumed to be still alive"
   ]
  },
  {
   "cell_type": "markdown",
   "id": "02f61e03-2b62-4f8c-9dfc-9510cb91f267",
   "metadata": {},
   "source": [
    "##### 1.4.3.3 Case 3: Crossed Checked with Wikidata for Age > 73"
   ]
  },
  {
   "cell_type": "code",
   "execution_count": 82,
   "id": "36dd3cad-cbe3-47fe-bf27-ff82529b7255",
   "metadata": {
    "tags": []
   },
   "outputs": [
    {
     "data": {
      "text/plain": [
       "229005"
      ]
     },
     "execution_count": 82,
     "metadata": {},
     "output_type": "execute_result"
    }
   ],
   "source": [
    "# extract the index of age >= 117 in the age column\n",
    "convert_null_index = df6.loc[df6[\"age\"] >= 73, \"age\"].index\n",
    "len(convert_null_index)"
   ]
  },
  {
   "cell_type": "code",
   "execution_count": 83,
   "id": "4b9c98b1-c2c3-4e38-aea0-e4ddee5db903",
   "metadata": {
    "tags": []
   },
   "outputs": [],
   "source": [
    "# change the value of \"-1\" to null/nan\n",
    "df6.loc[convert_null_index, \"age\"] = np.nan"
   ]
  },
  {
   "cell_type": "code",
   "execution_count": 84,
   "id": "5412bf8f-f739-428e-a741-d10000541675",
   "metadata": {
    "tags": []
   },
   "outputs": [
    {
     "data": {
      "text/plain": [
       "subclass                 0\n",
       "instance                 0\n",
       "gender               47838\n",
       "age                 314546\n",
       "birthYear           548617\n",
       "publication_year     21780\n",
       "wikiDataID           30995\n",
       "dtype: int64"
      ]
     },
     "execution_count": 84,
     "metadata": {},
     "output_type": "execute_result"
    }
   ],
   "source": [
    "df6.isna().sum()"
   ]
  },
  {
   "cell_type": "markdown",
   "id": "9cac3614-5c89-4369-9299-1bfa45905d9a",
   "metadata": {},
   "source": [
    "### 1.5 Handling Null Values"
   ]
  },
  {
   "cell_type": "markdown",
   "id": "e27a44e2-a1de-4b58-8b53-e3bcb462176e",
   "metadata": {},
   "source": [
    "#### 1.5.1 Removing Rows with Null Gender"
   ]
  },
  {
   "cell_type": "code",
   "execution_count": 85,
   "id": "4f939ed4-0b8d-4600-823c-d924f9ae2c8a",
   "metadata": {
    "tags": []
   },
   "outputs": [],
   "source": [
    "df7 = df6.dropna(subset=['gender'])"
   ]
  },
  {
   "cell_type": "markdown",
   "id": "bc953a52-9fb8-4a98-9583-c8d3225e0e16",
   "metadata": {},
   "source": [
    "Since there is only 47838 rows having null gender, we will remove the rows. We could imputate the values using some libraries but those libraries only imputate to male or female. Since, we do not only collect binary genders, we will not use the library to honour the inclusicity of other genders."
   ]
  },
  {
   "cell_type": "code",
   "execution_count": 86,
   "id": "73d6867a-b5fd-4d12-979f-b19a827970d1",
   "metadata": {
    "tags": []
   },
   "outputs": [
    {
     "name": "stdout",
     "output_type": "stream",
     "text": [
      "<class 'pandas.core.frame.DataFrame'>\n",
      "Int64Index: 743166 entries, 417884 to 102472\n",
      "Data columns (total 7 columns):\n",
      " #   Column            Non-Null Count   Dtype  \n",
      "---  ------            --------------   -----  \n",
      " 0   subclass          743166 non-null  object \n",
      " 1   instance          743166 non-null  object \n",
      " 2   gender            743166 non-null  object \n",
      " 3   age               467436 non-null  float64\n",
      " 4   birthYear         239532 non-null  float64\n",
      " 5   publication_year  740524 non-null  float64\n",
      " 6   wikiDataID        743025 non-null  object \n",
      "dtypes: float64(3), object(4)\n",
      "memory usage: 45.4+ MB\n"
     ]
    }
   ],
   "source": [
    "df7.info()"
   ]
  },
  {
   "cell_type": "code",
   "execution_count": 87,
   "id": "a1b29d3d-cef6-4726-b024-7e8ba6249878",
   "metadata": {
    "tags": []
   },
   "outputs": [
    {
     "data": {
      "text/plain": [
       "subclass                 0\n",
       "instance                 0\n",
       "gender                   0\n",
       "age                 275730\n",
       "birthYear           503634\n",
       "publication_year      2642\n",
       "wikiDataID             141\n",
       "dtype: int64"
      ]
     },
     "execution_count": 87,
     "metadata": {},
     "output_type": "execute_result"
    }
   ],
   "source": [
    "df7.isna().sum()"
   ]
  },
  {
   "cell_type": "markdown",
   "id": "58f82dd3-b232-4b3c-8c43-a516cea9585f",
   "metadata": {},
   "source": [
    "There are 90126 - 55490 = 34,636 rows that have both null gender and age."
   ]
  },
  {
   "cell_type": "markdown",
   "id": "0b4d8e0a-be15-4733-843a-c6b9e979cb18",
   "metadata": {},
   "source": [
    "#### 1.5.2 Removing Rows with Null Publication Year"
   ]
  },
  {
   "cell_type": "code",
   "execution_count": 88,
   "id": "76533890-7e42-4194-8253-3bb11d4e4453",
   "metadata": {
    "tags": []
   },
   "outputs": [
    {
     "data": {
      "text/html": [
       "<div>\n",
       "<style scoped>\n",
       "    .dataframe tbody tr th:only-of-type {\n",
       "        vertical-align: middle;\n",
       "    }\n",
       "\n",
       "    .dataframe tbody tr th {\n",
       "        vertical-align: top;\n",
       "    }\n",
       "\n",
       "    .dataframe thead th {\n",
       "        text-align: right;\n",
       "    }\n",
       "</style>\n",
       "<table border=\"1\" class=\"dataframe\">\n",
       "  <thead>\n",
       "    <tr style=\"text-align: right;\">\n",
       "      <th></th>\n",
       "      <th>subclass</th>\n",
       "      <th>instance</th>\n",
       "      <th>gender</th>\n",
       "      <th>age</th>\n",
       "      <th>birthYear</th>\n",
       "      <th>publication_year</th>\n",
       "      <th>wikiDataID</th>\n",
       "    </tr>\n",
       "  </thead>\n",
       "  <tbody>\n",
       "    <tr>\n",
       "      <th>417975</th>\n",
       "      <td>Artist</td>\n",
       "      <td>A+_(rapper)</td>\n",
       "      <td>male</td>\n",
       "      <td>43.0</td>\n",
       "      <td>NaN</td>\n",
       "      <td>NaN</td>\n",
       "      <td>Q277707</td>\n",
       "    </tr>\n",
       "    <tr>\n",
       "      <th>417990</th>\n",
       "      <td>Artist</td>\n",
       "      <td>A.J._Applegate</td>\n",
       "      <td>female</td>\n",
       "      <td>35.0</td>\n",
       "      <td>NaN</td>\n",
       "      <td>NaN</td>\n",
       "      <td>Q16442092</td>\n",
       "    </tr>\n",
       "    <tr>\n",
       "      <th>418075</th>\n",
       "      <td>Artist</td>\n",
       "      <td>ARACARA</td>\n",
       "      <td>female</td>\n",
       "      <td>32.0</td>\n",
       "      <td>NaN</td>\n",
       "      <td>NaN</td>\n",
       "      <td>Q16727629</td>\n",
       "    </tr>\n",
       "    <tr>\n",
       "      <th>729543</th>\n",
       "      <td>Athlete</td>\n",
       "      <td>Aaron_Lewicki</td>\n",
       "      <td>male</td>\n",
       "      <td>37.0</td>\n",
       "      <td>1987.0</td>\n",
       "      <td>NaN</td>\n",
       "      <td>Q4662202</td>\n",
       "    </tr>\n",
       "    <tr>\n",
       "      <th>41071</th>\n",
       "      <td>Criminal</td>\n",
       "      <td>Aaron_Saucedo</td>\n",
       "      <td>male</td>\n",
       "      <td>30.0</td>\n",
       "      <td>NaN</td>\n",
       "      <td>NaN</td>\n",
       "      <td>Q27629577</td>\n",
       "    </tr>\n",
       "    <tr>\n",
       "      <th>...</th>\n",
       "      <td>...</td>\n",
       "      <td>...</td>\n",
       "      <td>...</td>\n",
       "      <td>...</td>\n",
       "      <td>...</td>\n",
       "      <td>...</td>\n",
       "      <td>...</td>\n",
       "    </tr>\n",
       "    <tr>\n",
       "      <th>979524</th>\n",
       "      <td>Athlete</td>\n",
       "      <td>Zica_Manuhi</td>\n",
       "      <td>male</td>\n",
       "      <td>31.0</td>\n",
       "      <td>1993.0</td>\n",
       "      <td>NaN</td>\n",
       "      <td>Q23771723</td>\n",
       "    </tr>\n",
       "    <tr>\n",
       "      <th>979530</th>\n",
       "      <td>Athlete</td>\n",
       "      <td>Zico_Phillips</td>\n",
       "      <td>male</td>\n",
       "      <td>33.0</td>\n",
       "      <td>1991.0</td>\n",
       "      <td>NaN</td>\n",
       "      <td>Q84724945</td>\n",
       "    </tr>\n",
       "    <tr>\n",
       "      <th>979575</th>\n",
       "      <td>Athlete</td>\n",
       "      <td>Zin_Phyo_Aung</td>\n",
       "      <td>male</td>\n",
       "      <td>29.0</td>\n",
       "      <td>1995.0</td>\n",
       "      <td>NaN</td>\n",
       "      <td>Q24852555</td>\n",
       "    </tr>\n",
       "    <tr>\n",
       "      <th>979594</th>\n",
       "      <td>Athlete</td>\n",
       "      <td>Zineddine_Debieb</td>\n",
       "      <td>male</td>\n",
       "      <td>34.0</td>\n",
       "      <td>1990.0</td>\n",
       "      <td>NaN</td>\n",
       "      <td>Q8072364</td>\n",
       "    </tr>\n",
       "    <tr>\n",
       "      <th>979604</th>\n",
       "      <td>Athlete</td>\n",
       "      <td>Zingisa_April</td>\n",
       "      <td>male</td>\n",
       "      <td>34.0</td>\n",
       "      <td>1990.0</td>\n",
       "      <td>NaN</td>\n",
       "      <td>Q21620754</td>\n",
       "    </tr>\n",
       "  </tbody>\n",
       "</table>\n",
       "<p>2642 rows × 7 columns</p>\n",
       "</div>"
      ],
      "text/plain": [
       "        subclass          instance  gender   age  birthYear  publication_year  \\\n",
       "417975    Artist       A+_(rapper)    male  43.0        NaN               NaN   \n",
       "417990    Artist    A.J._Applegate  female  35.0        NaN               NaN   \n",
       "418075    Artist           ARACARA  female  32.0        NaN               NaN   \n",
       "729543   Athlete     Aaron_Lewicki    male  37.0     1987.0               NaN   \n",
       "41071   Criminal     Aaron_Saucedo    male  30.0        NaN               NaN   \n",
       "...          ...               ...     ...   ...        ...               ...   \n",
       "979524   Athlete       Zica_Manuhi    male  31.0     1993.0               NaN   \n",
       "979530   Athlete     Zico_Phillips    male  33.0     1991.0               NaN   \n",
       "979575   Athlete     Zin_Phyo_Aung    male  29.0     1995.0               NaN   \n",
       "979594   Athlete  Zineddine_Debieb    male  34.0     1990.0               NaN   \n",
       "979604   Athlete     Zingisa_April    male  34.0     1990.0               NaN   \n",
       "\n",
       "       wikiDataID  \n",
       "417975    Q277707  \n",
       "417990  Q16442092  \n",
       "418075  Q16727629  \n",
       "729543   Q4662202  \n",
       "41071   Q27629577  \n",
       "...           ...  \n",
       "979524  Q23771723  \n",
       "979530  Q84724945  \n",
       "979575  Q24852555  \n",
       "979594   Q8072364  \n",
       "979604  Q21620754  \n",
       "\n",
       "[2642 rows x 7 columns]"
      ]
     },
     "execution_count": 88,
     "metadata": {},
     "output_type": "execute_result"
    }
   ],
   "source": [
    "df7.loc[df7['publication_year'].isna()]"
   ]
  },
  {
   "cell_type": "markdown",
   "id": "0c046b48-47a4-4fbb-ac3b-2cff99371bdb",
   "metadata": {},
   "source": [
    "I tried to search the Wikipedia for a few of the values diplayed above and most of the artciles are not available in the english Wikipedia or there is no way of getting the publication date for the instances. Since there are only 2,642 rows that are missing the publication date, I think its best to remove those lines than finding other wasy to get their publication date"
   ]
  },
  {
   "cell_type": "code",
   "execution_count": 89,
   "id": "b9b37d99-dad2-4238-9b0a-e1e0ec9c0719",
   "metadata": {
    "tags": []
   },
   "outputs": [
    {
     "data": {
      "text/html": [
       "<div>\n",
       "<style scoped>\n",
       "    .dataframe tbody tr th:only-of-type {\n",
       "        vertical-align: middle;\n",
       "    }\n",
       "\n",
       "    .dataframe tbody tr th {\n",
       "        vertical-align: top;\n",
       "    }\n",
       "\n",
       "    .dataframe thead th {\n",
       "        text-align: right;\n",
       "    }\n",
       "</style>\n",
       "<table border=\"1\" class=\"dataframe\">\n",
       "  <thead>\n",
       "    <tr style=\"text-align: right;\">\n",
       "      <th></th>\n",
       "      <th>subclass</th>\n",
       "      <th>instance</th>\n",
       "      <th>gender</th>\n",
       "      <th>age</th>\n",
       "      <th>birthYear</th>\n",
       "      <th>publication_year</th>\n",
       "      <th>wikiDataID</th>\n",
       "    </tr>\n",
       "  </thead>\n",
       "  <tbody>\n",
       "    <tr>\n",
       "      <th>417884</th>\n",
       "      <td>Artist</td>\n",
       "      <td>!PAUS3</td>\n",
       "      <td>male</td>\n",
       "      <td>43.0</td>\n",
       "      <td>NaN</td>\n",
       "      <td>2011.0</td>\n",
       "      <td>Q3466056</td>\n",
       "    </tr>\n",
       "    <tr>\n",
       "      <th>417885</th>\n",
       "      <td>Artist</td>\n",
       "      <td>$pacely</td>\n",
       "      <td>male</td>\n",
       "      <td>32.0</td>\n",
       "      <td>NaN</td>\n",
       "      <td>2018.0</td>\n",
       "      <td>Q73507574</td>\n",
       "    </tr>\n",
       "    <tr>\n",
       "      <th>417886</th>\n",
       "      <td>Artist</td>\n",
       "      <td>%22Bassy%22_Bob_Brockmann</td>\n",
       "      <td>male</td>\n",
       "      <td>62.0</td>\n",
       "      <td>NaN</td>\n",
       "      <td>2013.0</td>\n",
       "      <td>Q13416958</td>\n",
       "    </tr>\n",
       "    <tr>\n",
       "      <th>537884</th>\n",
       "      <td>Politician</td>\n",
       "      <td>%22Big%22_Donnie_MacLeod</td>\n",
       "      <td>male</td>\n",
       "      <td>NaN</td>\n",
       "      <td>NaN</td>\n",
       "      <td>2014.0</td>\n",
       "      <td>Q18645783</td>\n",
       "    </tr>\n",
       "    <tr>\n",
       "      <th>537885</th>\n",
       "      <td>Politician</td>\n",
       "      <td>%22Bulldog%22_Ben_Robinson</td>\n",
       "      <td>male</td>\n",
       "      <td>NaN</td>\n",
       "      <td>NaN</td>\n",
       "      <td>2022.0</td>\n",
       "      <td>Q112440117</td>\n",
       "    </tr>\n",
       "    <tr>\n",
       "      <th>...</th>\n",
       "      <td>...</td>\n",
       "      <td>...</td>\n",
       "      <td>...</td>\n",
       "      <td>...</td>\n",
       "      <td>...</td>\n",
       "      <td>...</td>\n",
       "      <td>...</td>\n",
       "    </tr>\n",
       "    <tr>\n",
       "      <th>27093</th>\n",
       "      <td>Religious</td>\n",
       "      <td>Ḥayyim_Yitzḥak_Mussafia</td>\n",
       "      <td>male</td>\n",
       "      <td>NaN</td>\n",
       "      <td>NaN</td>\n",
       "      <td>2020.0</td>\n",
       "      <td>Q104528636</td>\n",
       "    </tr>\n",
       "    <tr>\n",
       "      <th>102470</th>\n",
       "      <td>Royalty</td>\n",
       "      <td>Ḫarapšili</td>\n",
       "      <td>female</td>\n",
       "      <td>NaN</td>\n",
       "      <td>NaN</td>\n",
       "      <td>2012.0</td>\n",
       "      <td>Q742087</td>\n",
       "    </tr>\n",
       "    <tr>\n",
       "      <th>102471</th>\n",
       "      <td>Royalty</td>\n",
       "      <td>Ḫattušili_III</td>\n",
       "      <td>male</td>\n",
       "      <td>NaN</td>\n",
       "      <td>NaN</td>\n",
       "      <td>2004.0</td>\n",
       "      <td>Q297588</td>\n",
       "    </tr>\n",
       "    <tr>\n",
       "      <th>26705</th>\n",
       "      <td>Religious</td>\n",
       "      <td>Ṭhānissaro_Bhikkhu</td>\n",
       "      <td>male</td>\n",
       "      <td>NaN</td>\n",
       "      <td>NaN</td>\n",
       "      <td>2006.0</td>\n",
       "      <td>Q7710407</td>\n",
       "    </tr>\n",
       "    <tr>\n",
       "      <th>102472</th>\n",
       "      <td>Royalty</td>\n",
       "      <td>Ỷ_Lan</td>\n",
       "      <td>female</td>\n",
       "      <td>67.0</td>\n",
       "      <td>NaN</td>\n",
       "      <td>2010.0</td>\n",
       "      <td>Q10843033</td>\n",
       "    </tr>\n",
       "  </tbody>\n",
       "</table>\n",
       "<p>740524 rows × 7 columns</p>\n",
       "</div>"
      ],
      "text/plain": [
       "          subclass                    instance  gender   age  birthYear  \\\n",
       "417884      Artist                      !PAUS3    male  43.0        NaN   \n",
       "417885      Artist                     $pacely    male  32.0        NaN   \n",
       "417886      Artist   %22Bassy%22_Bob_Brockmann    male  62.0        NaN   \n",
       "537884  Politician    %22Big%22_Donnie_MacLeod    male   NaN        NaN   \n",
       "537885  Politician  %22Bulldog%22_Ben_Robinson    male   NaN        NaN   \n",
       "...            ...                         ...     ...   ...        ...   \n",
       "27093    Religious     Ḥayyim_Yitzḥak_Mussafia    male   NaN        NaN   \n",
       "102470     Royalty                   Ḫarapšili  female   NaN        NaN   \n",
       "102471     Royalty               Ḫattušili_III    male   NaN        NaN   \n",
       "26705    Religious          Ṭhānissaro_Bhikkhu    male   NaN        NaN   \n",
       "102472     Royalty                       Ỷ_Lan  female  67.0        NaN   \n",
       "\n",
       "        publication_year  wikiDataID  \n",
       "417884            2011.0    Q3466056  \n",
       "417885            2018.0   Q73507574  \n",
       "417886            2013.0   Q13416958  \n",
       "537884            2014.0   Q18645783  \n",
       "537885            2022.0  Q112440117  \n",
       "...                  ...         ...  \n",
       "27093             2020.0  Q104528636  \n",
       "102470            2012.0     Q742087  \n",
       "102471            2004.0     Q297588  \n",
       "26705             2006.0    Q7710407  \n",
       "102472            2010.0   Q10843033  \n",
       "\n",
       "[740524 rows x 7 columns]"
      ]
     },
     "execution_count": 89,
     "metadata": {},
     "output_type": "execute_result"
    }
   ],
   "source": [
    "df8 = df7.dropna(subset=['publication_year'])\n",
    "df8"
   ]
  },
  {
   "cell_type": "code",
   "execution_count": 90,
   "id": "e6e5f27e-3c90-46b3-94cd-672c5e103e1a",
   "metadata": {
    "tags": []
   },
   "outputs": [
    {
     "name": "stdout",
     "output_type": "stream",
     "text": [
      "<class 'pandas.core.frame.DataFrame'>\n",
      "Int64Index: 740524 entries, 417884 to 102472\n",
      "Data columns (total 7 columns):\n",
      " #   Column            Non-Null Count   Dtype  \n",
      "---  ------            --------------   -----  \n",
      " 0   subclass          740524 non-null  object \n",
      " 1   instance          740524 non-null  object \n",
      " 2   gender            740524 non-null  object \n",
      " 3   age               465414 non-null  float64\n",
      " 4   birthYear         237949 non-null  float64\n",
      " 5   publication_year  740524 non-null  float64\n",
      " 6   wikiDataID        740383 non-null  object \n",
      "dtypes: float64(3), object(4)\n",
      "memory usage: 45.2+ MB\n"
     ]
    }
   ],
   "source": [
    "df8.info()"
   ]
  },
  {
   "cell_type": "code",
   "execution_count": 91,
   "id": "3134200f-5821-4e30-aaac-281fc8c15dc8",
   "metadata": {
    "tags": []
   },
   "outputs": [
    {
     "data": {
      "text/plain": [
       "subclass                 0\n",
       "instance                 0\n",
       "gender                   0\n",
       "age                 275110\n",
       "birthYear           502575\n",
       "publication_year         0\n",
       "wikiDataID             141\n",
       "dtype: int64"
      ]
     },
     "execution_count": 91,
     "metadata": {},
     "output_type": "execute_result"
    }
   ],
   "source": [
    "df8.isna().sum()"
   ]
  },
  {
   "cell_type": "markdown",
   "id": "0428f199-c8d6-4ab1-8316-3bb9f2f732ed",
   "metadata": {
    "tags": []
   },
   "source": [
    "There are 55490 - 55194 = 296 rows that have both null gender and age"
   ]
  },
  {
   "cell_type": "markdown",
   "id": "7025607a-f5d5-43a9-8702-9ba8698dc3b7",
   "metadata": {},
   "source": [
    "#### 1.5.3 Handling Rows with Null Age"
   ]
  },
  {
   "cell_type": "code",
   "execution_count": 92,
   "id": "5f77dbbc-c162-43b1-be52-43dedf20f73a",
   "metadata": {
    "tags": []
   },
   "outputs": [
    {
     "data": {
      "text/html": [
       "<div>\n",
       "<style scoped>\n",
       "    .dataframe tbody tr th:only-of-type {\n",
       "        vertical-align: middle;\n",
       "    }\n",
       "\n",
       "    .dataframe tbody tr th {\n",
       "        vertical-align: top;\n",
       "    }\n",
       "\n",
       "    .dataframe thead th {\n",
       "        text-align: right;\n",
       "    }\n",
       "</style>\n",
       "<table border=\"1\" class=\"dataframe\">\n",
       "  <thead>\n",
       "    <tr style=\"text-align: right;\">\n",
       "      <th></th>\n",
       "      <th>subclass</th>\n",
       "      <th>instance</th>\n",
       "      <th>gender</th>\n",
       "      <th>age</th>\n",
       "      <th>birthYear</th>\n",
       "      <th>publication_year</th>\n",
       "      <th>wikiDataID</th>\n",
       "    </tr>\n",
       "  </thead>\n",
       "  <tbody>\n",
       "    <tr>\n",
       "      <th>537884</th>\n",
       "      <td>Politician</td>\n",
       "      <td>%22Big%22_Donnie_MacLeod</td>\n",
       "      <td>male</td>\n",
       "      <td>NaN</td>\n",
       "      <td>NaN</td>\n",
       "      <td>2014.0</td>\n",
       "      <td>Q18645783</td>\n",
       "    </tr>\n",
       "    <tr>\n",
       "      <th>537885</th>\n",
       "      <td>Politician</td>\n",
       "      <td>%22Bulldog%22_Ben_Robinson</td>\n",
       "      <td>male</td>\n",
       "      <td>NaN</td>\n",
       "      <td>NaN</td>\n",
       "      <td>2022.0</td>\n",
       "      <td>Q112440117</td>\n",
       "    </tr>\n",
       "    <tr>\n",
       "      <th>417887</th>\n",
       "      <td>Artist</td>\n",
       "      <td>%22Country%22_Johnny_Mathis</td>\n",
       "      <td>male</td>\n",
       "      <td>NaN</td>\n",
       "      <td>NaN</td>\n",
       "      <td>2008.0</td>\n",
       "      <td>Q1702358</td>\n",
       "    </tr>\n",
       "    <tr>\n",
       "      <th>417889</th>\n",
       "      <td>Artist</td>\n",
       "      <td>%22King%22_Bennie_Nawahi</td>\n",
       "      <td>male</td>\n",
       "      <td>NaN</td>\n",
       "      <td>NaN</td>\n",
       "      <td>2004.0</td>\n",
       "      <td>Q1742005</td>\n",
       "    </tr>\n",
       "    <tr>\n",
       "      <th>1981</th>\n",
       "      <td>Presenter</td>\n",
       "      <td>%22Sunshine%22_Sonny_Payne</td>\n",
       "      <td>male</td>\n",
       "      <td>NaN</td>\n",
       "      <td>NaN</td>\n",
       "      <td>2010.0</td>\n",
       "      <td>Q4540317</td>\n",
       "    </tr>\n",
       "    <tr>\n",
       "      <th>...</th>\n",
       "      <td>...</td>\n",
       "      <td>...</td>\n",
       "      <td>...</td>\n",
       "      <td>...</td>\n",
       "      <td>...</td>\n",
       "      <td>...</td>\n",
       "      <td>...</td>\n",
       "    </tr>\n",
       "    <tr>\n",
       "      <th>27150</th>\n",
       "      <td>Religious</td>\n",
       "      <td>Ḥayyim_Shabbethai</td>\n",
       "      <td>male</td>\n",
       "      <td>NaN</td>\n",
       "      <td>NaN</td>\n",
       "      <td>2020.0</td>\n",
       "      <td>Q25492841</td>\n",
       "    </tr>\n",
       "    <tr>\n",
       "      <th>27093</th>\n",
       "      <td>Religious</td>\n",
       "      <td>Ḥayyim_Yitzḥak_Mussafia</td>\n",
       "      <td>male</td>\n",
       "      <td>NaN</td>\n",
       "      <td>NaN</td>\n",
       "      <td>2020.0</td>\n",
       "      <td>Q104528636</td>\n",
       "    </tr>\n",
       "    <tr>\n",
       "      <th>102470</th>\n",
       "      <td>Royalty</td>\n",
       "      <td>Ḫarapšili</td>\n",
       "      <td>female</td>\n",
       "      <td>NaN</td>\n",
       "      <td>NaN</td>\n",
       "      <td>2012.0</td>\n",
       "      <td>Q742087</td>\n",
       "    </tr>\n",
       "    <tr>\n",
       "      <th>102471</th>\n",
       "      <td>Royalty</td>\n",
       "      <td>Ḫattušili_III</td>\n",
       "      <td>male</td>\n",
       "      <td>NaN</td>\n",
       "      <td>NaN</td>\n",
       "      <td>2004.0</td>\n",
       "      <td>Q297588</td>\n",
       "    </tr>\n",
       "    <tr>\n",
       "      <th>26705</th>\n",
       "      <td>Religious</td>\n",
       "      <td>Ṭhānissaro_Bhikkhu</td>\n",
       "      <td>male</td>\n",
       "      <td>NaN</td>\n",
       "      <td>NaN</td>\n",
       "      <td>2006.0</td>\n",
       "      <td>Q7710407</td>\n",
       "    </tr>\n",
       "  </tbody>\n",
       "</table>\n",
       "<p>275110 rows × 7 columns</p>\n",
       "</div>"
      ],
      "text/plain": [
       "          subclass                     instance  gender  age  birthYear  \\\n",
       "537884  Politician     %22Big%22_Donnie_MacLeod    male  NaN        NaN   \n",
       "537885  Politician   %22Bulldog%22_Ben_Robinson    male  NaN        NaN   \n",
       "417887      Artist  %22Country%22_Johnny_Mathis    male  NaN        NaN   \n",
       "417889      Artist     %22King%22_Bennie_Nawahi    male  NaN        NaN   \n",
       "1981     Presenter   %22Sunshine%22_Sonny_Payne    male  NaN        NaN   \n",
       "...            ...                          ...     ...  ...        ...   \n",
       "27150    Religious            Ḥayyim_Shabbethai    male  NaN        NaN   \n",
       "27093    Religious      Ḥayyim_Yitzḥak_Mussafia    male  NaN        NaN   \n",
       "102470     Royalty                    Ḫarapšili  female  NaN        NaN   \n",
       "102471     Royalty                Ḫattušili_III    male  NaN        NaN   \n",
       "26705    Religious           Ṭhānissaro_Bhikkhu    male  NaN        NaN   \n",
       "\n",
       "        publication_year  wikiDataID  \n",
       "537884            2014.0   Q18645783  \n",
       "537885            2022.0  Q112440117  \n",
       "417887            2008.0    Q1702358  \n",
       "417889            2004.0    Q1742005  \n",
       "1981              2010.0    Q4540317  \n",
       "...                  ...         ...  \n",
       "27150             2020.0   Q25492841  \n",
       "27093             2020.0  Q104528636  \n",
       "102470            2012.0     Q742087  \n",
       "102471            2004.0     Q297588  \n",
       "26705             2006.0    Q7710407  \n",
       "\n",
       "[275110 rows x 7 columns]"
      ]
     },
     "execution_count": 92,
     "metadata": {},
     "output_type": "execute_result"
    }
   ],
   "source": [
    "df8.loc[df8['age'].isna()]"
   ]
  },
  {
   "cell_type": "code",
   "execution_count": 93,
   "id": "0879b5d8-08dd-4a83-8a70-44e23bad7994",
   "metadata": {
    "tags": []
   },
   "outputs": [],
   "source": [
    "null_age = df8.loc[df8['age'].isna()]"
   ]
  },
  {
   "cell_type": "code",
   "execution_count": 94,
   "id": "87c52a9b-c21c-44c4-921e-da8cddee27f5",
   "metadata": {
    "tags": []
   },
   "outputs": [
    {
     "data": {
      "text/plain": [
       "Politician         60693\n",
       "Athlete            43609\n",
       "Artist             31561\n",
       "Scientist          27560\n",
       "OfficeHolder       24151\n",
       "MilitaryPerson     21669\n",
       "Writer             14383\n",
       "Cleric             13187\n",
       "Royalty             8700\n",
       "SportsManager       6216\n",
       "Coach               5352\n",
       "Religious           2869\n",
       "Academic            2739\n",
       "Architect           2652\n",
       "Noble               2123\n",
       "Philosopher         1626\n",
       "Criminal            1294\n",
       "Journalist          1048\n",
       "Economist            940\n",
       "Engineer             494\n",
       "BusinessPerson       453\n",
       "Chef                 225\n",
       "Astronaut            206\n",
       "BeautyQueen          176\n",
       "Presenter            164\n",
       "PoliceOfficer        157\n",
       "AmericanLeader       144\n",
       "Spy                  132\n",
       "HorseTrainer         130\n",
       "Model                116\n",
       "Pilot                 97\n",
       "PlayboyPlaymate       78\n",
       "Monarch               75\n",
       "Judge                 46\n",
       "Youtuber              45\n",
       "Name: subclass, dtype: int64"
      ]
     },
     "execution_count": 94,
     "metadata": {},
     "output_type": "execute_result"
    }
   ],
   "source": [
    "null_age['subclass'].value_counts()"
   ]
  },
  {
   "cell_type": "code",
   "execution_count": 95,
   "id": "034206e1-1a84-478b-9355-44e9a5a987ad",
   "metadata": {
    "tags": []
   },
   "outputs": [
    {
     "data": {
      "image/png": "[encoded data removed]",
      "text/plain": [
       "<Figure size 640x480 with 1 Axes>"
      ]
     },
     "metadata": {},
     "output_type": "display_data"
    }
   ],
   "source": [
    "# make a pie chart\n",
    "subclass_null_age = null_age['subclass'].value_counts(dropna=False)\n",
    "subclass_null_age.plot.pie(autopct='%1.0f%%', pctdistance=0.8, radius=1, title=\"Subclass of Articles with Null Age\");"
   ]
  },
  {
   "cell_type": "code",
   "execution_count": 96,
   "id": "4c5e0af6-b357-43bc-8dfb-16a95dbf3e19",
   "metadata": {
    "tags": []
   },
   "outputs": [
    {
     "data": {
      "image/png": "[encoded data removed]",
      "text/plain": [
       "<Figure size 640x480 with 1 Axes>"
      ]
     },
     "metadata": {},
     "output_type": "display_data"
    }
   ],
   "source": [
    "# make a pie chart\n",
    "publication_null_age = null_age['publication_year'].value_counts()\n",
    "publication_null_age.plot.bar(title=\"Publication Year of Articles with Null Age\");"
   ]
  },
  {
   "cell_type": "code",
   "execution_count": 97,
   "id": "6f6733a1-c471-47bd-814e-33564d44c3d6",
   "metadata": {
    "tags": []
   },
   "outputs": [
    {
     "data": {
      "image/png": "[encoded data removed]",
      "text/plain": [
       "<Figure size 640x480 with 1 Axes>"
      ]
     },
     "metadata": {},
     "output_type": "display_data"
    }
   ],
   "source": [
    "# make a pie chart\n",
    "gender_null_age = null_age['gender'].value_counts()\n",
    "gender_null_age.plot.bar(title=\"Publication Year of Articles with Null Age\");"
   ]
  },
  {
   "cell_type": "markdown",
   "id": "603401a6-bd3d-46a2-b9bf-853a508a9d2e",
   "metadata": {},
   "source": [
    "#### Export Data to CSV file"
   ]
  },
  {
   "cell_type": "markdown",
   "id": "07fc222c-efd1-423c-8fe8-a8024915e501",
   "metadata": {},
   "source": [
    "<strong> a) Whole Dataset (for Main Dashboard) </strong>"
   ]
  },
  {
   "cell_type": "code",
   "execution_count": 98,
   "id": "b375eb54-b19b-4c32-81c8-f49542760aac",
   "metadata": {
    "tags": []
   },
   "outputs": [],
   "source": [
    "df9 = df8.drop(columns=['birthYear', 'wikiDataID'])"
   ]
  },
  {
   "cell_type": "code",
   "execution_count": 99,
   "id": "6a5dfd7d-c359-4384-ae4d-24f54a9c5b13",
   "metadata": {
    "tags": []
   },
   "outputs": [
    {
     "name": "stdout",
     "output_type": "stream",
     "text": [
      "<class 'pandas.core.frame.DataFrame'>\n",
      "Int64Index: 740524 entries, 417884 to 102472\n",
      "Data columns (total 5 columns):\n",
      " #   Column            Non-Null Count   Dtype  \n",
      "---  ------            --------------   -----  \n",
      " 0   subclass          740524 non-null  object \n",
      " 1   instance          740524 non-null  object \n",
      " 2   gender            740524 non-null  object \n",
      " 3   age               465414 non-null  float64\n",
      " 4   publication_year  740524 non-null  float64\n",
      "dtypes: float64(2), object(3)\n",
      "memory usage: 33.9+ MB\n"
     ]
    }
   ],
   "source": [
    "df9.info()"
   ]
  },
  {
   "cell_type": "code",
   "execution_count": 100,
   "id": "510e791a-4555-4267-b47f-7f9d72e31231",
   "metadata": {
    "tags": []
   },
   "outputs": [
    {
     "data": {
      "text/plain": [
       "subclass                 0\n",
       "instance                 0\n",
       "gender                   0\n",
       "age                 275110\n",
       "publication_year         0\n",
       "dtype: int64"
      ]
     },
     "execution_count": 100,
     "metadata": {},
     "output_type": "execute_result"
    }
   ],
   "source": [
    "df9.isna().sum()"
   ]
  },
  {
   "cell_type": "code",
   "execution_count": 101,
   "id": "b5b286ad-ef17-4f94-95d6-21bedec61471",
   "metadata": {
    "tags": []
   },
   "outputs": [],
   "source": [
    "# df9.to_csv(\"final_2.0.csv\", index=False)"
   ]
  },
  {
   "cell_type": "markdown",
   "id": "9e5a7ea1-85cb-4aea-acac-799d2917c6c5",
   "metadata": {
    "tags": []
   },
   "source": [
    "<strong> b) Non-Binary Dataset (for Non-Binary Dashboard) </strong>"
   ]
  },
  {
   "cell_type": "code",
   "execution_count": 102,
   "id": "5cf7ff27-f4a5-4e43-bbb3-1802f9122bcd",
   "metadata": {
    "tags": []
   },
   "outputs": [],
   "source": [
    "non_binary = df9.loc[~df['gender'].isin(['male', 'female'])] "
   ]
  },
  {
   "cell_type": "code",
   "execution_count": 103,
   "id": "9ccb02e4-f502-439c-9299-5e90f2e61c65",
   "metadata": {
    "tags": []
   },
   "outputs": [],
   "source": [
    "non_binary.to_csv(\"non_binary.csv\", index=False)"
   ]
  },
  {
   "cell_type": "markdown",
   "id": "2830a316-aac3-429a-842b-c207457a7883",
   "metadata": {},
   "source": [
    "<strong> c) Copy DataFrame for EDA </strong>"
   ]
  },
  {
   "cell_type": "code",
   "execution_count": 104,
   "id": "4edb8a15-094a-40b7-9896-07009f89edbf",
   "metadata": {},
   "outputs": [],
   "source": [
    "df10 = df9.copy()"
   ]
  },
  {
   "cell_type": "markdown",
   "id": "0a05cb42-27f2-4c79-81ab-dc9f88c47a5e",
   "metadata": {
    "tags": []
   },
   "source": [
    "## 2) Exploratory Data Analysis (EDA)"
   ]
  },
  {
   "cell_type": "markdown",
   "id": "20dbc226-8060-4de8-b2b3-12cdff18a520",
   "metadata": {},
   "source": [
    "### 2.1 Univariate EDA"
   ]
  },
  {
   "cell_type": "markdown",
   "id": "a505e65d-3741-4565-a265-6939498464d3",
   "metadata": {
    "tags": []
   },
   "source": [
    "#### 2.1.1 Column subclass"
   ]
  },
  {
   "cell_type": "code",
   "execution_count": 105,
   "id": "1bc1806e-bbf6-4ab2-a423-4a10e6d61bf2",
   "metadata": {
    "tags": []
   },
   "outputs": [
    {
     "data": {
      "text/plain": [
       "count      740524\n",
       "unique         35\n",
       "top       Athlete\n",
       "freq       237949\n",
       "Name: subclass, dtype: object"
      ]
     },
     "execution_count": 105,
     "metadata": {},
     "output_type": "execute_result"
    }
   ],
   "source": [
    "# summarize subclass\n",
    "df10[\"subclass\"].describe()"
   ]
  },
  {
   "cell_type": "code",
   "execution_count": 106,
   "id": "aa073ac5-de14-47f4-b2dc-39cfb6cf71e5",
   "metadata": {
    "tags": []
   },
   "outputs": [
    {
     "data": {
      "text/plain": [
       "Athlete            237949\n",
       "Politician         124494\n",
       "Artist              88273\n",
       "OfficeHolder        48601\n",
       "Scientist           45002\n",
       "MilitaryPerson      44349\n",
       "Writer              29610\n",
       "SportsManager       28515\n",
       "Cleric              22788\n",
       "Royalty             19845\n",
       "Coach               10037\n",
       "Noble                6609\n",
       "Criminal             5223\n",
       "Religious            4595\n",
       "Architect            4520\n",
       "Academic             4153\n",
       "Philosopher          2883\n",
       "BeautyQueen          2613\n",
       "Model                1923\n",
       "Journalist           1693\n",
       "Economist            1681\n",
       "Engineer              749\n",
       "Chef                  726\n",
       "Astronaut             601\n",
       "BusinessPerson        514\n",
       "Youtuber              508\n",
       "Presenter             504\n",
       "PoliceOfficer         310\n",
       "AmericanLeader        237\n",
       "Pilot                 226\n",
       "HorseTrainer          217\n",
       "Spy                   213\n",
       "PlayboyPlaymate       182\n",
       "Monarch               126\n",
       "Judge                  55\n",
       "Name: subclass, dtype: int64"
      ]
     },
     "execution_count": 106,
     "metadata": {},
     "output_type": "execute_result"
    }
   ],
   "source": [
    "# distribution of the 'subclass' column\n",
    "subclass_distribution = df10[\"subclass\"].value_counts()\n",
    "subclass_distribution"
   ]
  },
  {
   "cell_type": "code",
   "execution_count": 107,
   "id": "520c711c-4640-4c91-9ee2-662c28fdfac8",
   "metadata": {
    "tags": []
   },
   "outputs": [
    {
     "data": {
      "image/png": "[encoded data removed]",
      "text/plain": [
       "<Figure size 640x480 with 1 Axes>"
      ]
     },
     "metadata": {},
     "output_type": "display_data"
    }
   ],
   "source": [
    "# plot distribution of the 'subclass' column\n",
    "subclass_distribution.plot.bar(xlabel=\"Subclass\", ylabel=\"Number of Articles\", grid=True, title=\"Distribution of Subclass\");"
   ]
  },
  {
   "cell_type": "markdown",
   "id": "9c9db99d-25ba-4261-a175-bf9ee4f26edb",
   "metadata": {},
   "source": [
    "#### 2.1.2 Column Publication Year"
   ]
  },
  {
   "cell_type": "code",
   "execution_count": 108,
   "id": "df55a826-cbd3-4755-ab21-c09bfef1f802",
   "metadata": {
    "tags": []
   },
   "outputs": [
    {
     "data": {
      "text/plain": [
       "count    740524.000000\n",
       "mean       2012.196766\n",
       "std           5.669489\n",
       "min        2001.000000\n",
       "25%        2007.000000\n",
       "50%        2012.000000\n",
       "75%        2017.000000\n",
       "max        2024.000000\n",
       "Name: publication_year, dtype: float64"
      ]
     },
     "execution_count": 108,
     "metadata": {},
     "output_type": "execute_result"
    }
   ],
   "source": [
    "# summarize publication_year\n",
    "df10[\"publication_year\"].describe()"
   ]
  },
  {
   "cell_type": "code",
   "execution_count": 109,
   "id": "7037f791-b381-493a-bd57-5be36f2c41bf",
   "metadata": {
    "tags": []
   },
   "outputs": [
    {
     "data": {
      "text/plain": [
       "2006.0    60141\n",
       "2007.0    58381\n",
       "2008.0    47894\n",
       "2009.0    44248\n",
       "2005.0    43778\n",
       "2020.0    40637\n",
       "2016.0    36479\n",
       "2010.0    36249\n",
       "2019.0    35827\n",
       "2015.0    35282\n",
       "2018.0    34962\n",
       "2021.0    34134\n",
       "2011.0    33796\n",
       "2017.0    32795\n",
       "2012.0    32576\n",
       "2014.0    31034\n",
       "2013.0    28755\n",
       "2004.0    27521\n",
       "2022.0    20924\n",
       "2003.0    10201\n",
       "2023.0     5614\n",
       "2002.0     4495\n",
       "2024.0     3254\n",
       "2001.0     1547\n",
       "Name: publication_year, dtype: int64"
      ]
     },
     "execution_count": 109,
     "metadata": {},
     "output_type": "execute_result"
    }
   ],
   "source": [
    "# distribution of the 'publication_year' column\n",
    "publication_distribution = df10[\"publication_year\"].value_counts()\n",
    "publication_distribution"
   ]
  },
  {
   "cell_type": "code",
   "execution_count": 110,
   "id": "b5d6bb5d-cac0-448d-aef3-2546c1c0060e",
   "metadata": {
    "tags": []
   },
   "outputs": [
    {
     "data": {
      "image/png": "[encoded data removed]",
      "text/plain": [
       "<Figure size 640x480 with 1 Axes>"
      ]
     },
     "metadata": {},
     "output_type": "display_data"
    }
   ],
   "source": [
    "# plot distribution of the 'publication_year' column\n",
    "publication_distribution.plot.bar(xlabel=\"Publication Year\", ylabel=\"Number of Articles\", grid=True, title=\"Distribution of Publication Year\");"
   ]
  },
  {
   "cell_type": "markdown",
   "id": "1e81ca47-5d1e-4742-adde-2bd1d82521e4",
   "metadata": {
    "tags": []
   },
   "source": [
    "#### 2.1.3 Column Gender "
   ]
  },
  {
   "cell_type": "code",
   "execution_count": 111,
   "id": "4b3c590b-f478-4d86-a17c-d0a2e19fd246",
   "metadata": {
    "tags": []
   },
   "outputs": [
    {
     "data": {
      "text/plain": [
       "count     740524\n",
       "unique        24\n",
       "top         male\n",
       "freq      613106\n",
       "Name: gender, dtype: object"
      ]
     },
     "execution_count": 111,
     "metadata": {},
     "output_type": "execute_result"
    }
   ],
   "source": [
    "# summarize gender\n",
    "df10[\"gender\"].describe()"
   ]
  },
  {
   "cell_type": "code",
   "execution_count": 112,
   "id": "d094e245-b861-440f-8f11-d781b1ac7dc8",
   "metadata": {
    "tags": []
   },
   "outputs": [
    {
     "data": {
      "text/plain": [
       "male                  0.827935\n",
       "female                0.171296\n",
       "trans woman           0.000304\n",
       "non-binary            0.000212\n",
       "trans man             0.000073\n",
       "male organism         0.000041\n",
       "genderfluid           0.000023\n",
       "eunuch                0.000022\n",
       "intersex woman        0.000020\n",
       "intersex man          0.000014\n",
       "transgender           0.000009\n",
       "genderqueer           0.000009\n",
       "intersex              0.000008\n",
       "two-spirit            0.000007\n",
       "female organism       0.000005\n",
       "agender               0.000005\n",
       "transmasculine        0.000005\n",
       "cisgender woman       0.000003\n",
       "androgynos            0.000001\n",
       "bigender              0.000001\n",
       "travesti              0.000001\n",
       "cisgender man         0.000001\n",
       "faʻafafine            0.000001\n",
       "undisclosed gender    0.000001\n",
       "Name: gender, dtype: float64"
      ]
     },
     "execution_count": 112,
     "metadata": {},
     "output_type": "execute_result"
    }
   ],
   "source": [
    "# distribution of the 'gender' column\n",
    "gender_distribution = df10[\"gender\"].value_counts(dropna=False, normalize=True)\n",
    "gender_distribution"
   ]
  },
  {
   "cell_type": "code",
   "execution_count": 113,
   "id": "a7bc4b7d-86a5-4b8c-b8c7-9bcb3c43c100",
   "metadata": {
    "tags": []
   },
   "outputs": [
    {
     "data": {
      "image/png": "[encoded data removed]",
      "text/plain": [
       "<Figure size 640x480 with 1 Axes>"
      ]
     },
     "metadata": {},
     "output_type": "display_data"
    }
   ],
   "source": [
    "# make a pie chart\n",
    "gender_distribution.plot.pie(autopct='%1.0f%%', pctdistance=0.8, radius=1, title=\"Distribution of Gender\");"
   ]
  },
  {
   "cell_type": "markdown",
   "id": "a418e7af-ea26-4d4e-845b-42aa611f7453",
   "metadata": {
    "tags": []
   },
   "source": [
    "#### 2.1.3 Column Age"
   ]
  },
  {
   "cell_type": "code",
   "execution_count": 114,
   "id": "ef534f0a-4bd6-4adf-9160-36b81a9d1d49",
   "metadata": {
    "tags": []
   },
   "outputs": [
    {
     "data": {
      "text/plain": [
       "count    465414.000000\n",
       "mean         49.622012\n",
       "std          14.759712\n",
       "min           0.000000\n",
       "25%          37.000000\n",
       "50%          51.000000\n",
       "75%          63.000000\n",
       "max          72.000000\n",
       "Name: age, dtype: float64"
      ]
     },
     "execution_count": 114,
     "metadata": {},
     "output_type": "execute_result"
    }
   ],
   "source": [
    "# summarize age\n",
    "df10[\"age\"].describe()"
   ]
  },
  {
   "cell_type": "code",
   "execution_count": 115,
   "id": "a1ff2c73-1552-4fb5-a435-03965a8ec2b7",
   "metadata": {
    "tags": []
   },
   "outputs": [
    {
     "data": {
      "text/plain": [
       "72.0    12588\n",
       "71.0    12524\n",
       "70.0    12491\n",
       "69.0    11996\n",
       "68.0    11964\n",
       "        ...  \n",
       "8.0        67\n",
       "13.0       67\n",
       "5.0        63\n",
       "9.0        55\n",
       "0.0         1\n",
       "Name: age, Length: 73, dtype: int64"
      ]
     },
     "execution_count": 115,
     "metadata": {},
     "output_type": "execute_result"
    }
   ],
   "source": [
    "# distribution of the 'gender' column\n",
    "age_distribution = df10[\"age\"].value_counts(dropna=True)\n",
    "age_distribution"
   ]
  },
  {
   "cell_type": "code",
   "execution_count": 116,
   "id": "9e9fa823-483e-4409-af87-ae04ebb436bb",
   "metadata": {
    "tags": []
   },
   "outputs": [
    {
     "data": {
      "image/png": "[encoded data removed]",
      "text/plain": [
       "<Figure size 2000x1000 with 1 Axes>"
      ]
     },
     "metadata": {},
     "output_type": "display_data"
    }
   ],
   "source": [
    "# plot distribution of the 'publication_year' column\n",
    "age_distribution.plot.bar(xlabel=\"Age\", ylabel=\"Number of Articles\", figsize=(20,10), title=\"Distribution of Publication Year\");"
   ]
  },
  {
   "cell_type": "code",
   "execution_count": 117,
   "id": "6c04a1e3-3070-4e52-82c4-a7f9d8389124",
   "metadata": {
    "tags": []
   },
   "outputs": [
    {
     "data": {
      "image/png": "[encoded data removed]",
      "text/plain": [
       "<Figure size 640x480 with 1 Axes>"
      ]
     },
     "metadata": {},
     "output_type": "display_data"
    }
   ],
   "source": [
    "df10[\"age\"].plot.box(vert=False, title=\"Box Plot of Age\");"
   ]
  },
  {
   "cell_type": "code",
   "execution_count": 118,
   "id": "0a160c21-5f5b-4aa6-ade5-5f7b39c795d5",
   "metadata": {
    "tags": []
   },
   "outputs": [
    {
     "data": {
      "image/png": "[encoded data removed]",
      "text/plain": [
       "<Figure size 640x480 with 1 Axes>"
      ]
     },
     "metadata": {},
     "output_type": "display_data"
    }
   ],
   "source": [
    "# histogram of Culmen Length (mm)\n",
    "culmen_length_hist = df10[\"age\"].plot.hist(grid=False, bins=40, title=\"Distribution of Age\");"
   ]
  },
  {
   "cell_type": "markdown",
   "id": "cfe13795-05cd-4259-ba7f-ea832cb816a7",
   "metadata": {},
   "source": [
    "The histogram's pattern looks like a multimodal, so there might be a multiple factors such as gender, subclass or publication year that might influence the age data."
   ]
  },
  {
   "cell_type": "markdown",
   "id": "c1434ba3-666e-4e32-b200-78f1dfeedcba",
   "metadata": {},
   "source": [
    "### 2.2 Bivariate EDA"
   ]
  },
  {
   "cell_type": "code",
   "execution_count": 119,
   "id": "b04c7922-0908-49ca-9d0a-90823e6f8003",
   "metadata": {
    "tags": []
   },
   "outputs": [],
   "source": [
    "# !pip install seaborn\n",
    "import seaborn as sns\n",
    "from matplotlib import pyplot as plt"
   ]
  },
  {
   "cell_type": "markdown",
   "id": "901d9e93-50f7-4ad5-85ab-f29aae9fcc7f",
   "metadata": {
    "tags": []
   },
   "source": [
    "#### 2.2.1 Gender and..."
   ]
  },
  {
   "cell_type": "markdown",
   "id": "81f606eb-6e7a-4a67-bc05-4348a6a957df",
   "metadata": {
    "tags": []
   },
   "source": [
    "<strong>a) Age</strong>"
   ]
  },
  {
   "cell_type": "code",
   "execution_count": 120,
   "id": "5a8c6b06-646e-4586-ab26-7a52f26391d9",
   "metadata": {
    "tags": []
   },
   "outputs": [
    {
     "data": {
      "image/png": "[encoded data removed]",
      "text/plain": [
       "<Figure size 640x480 with 1 Axes>"
      ]
     },
     "metadata": {},
     "output_type": "display_data"
    }
   ],
   "source": [
    "# boxplot of culment length against species\n",
    "sns.boxplot(data=df10, x=\"age\", y=\"gender\", orient=\"h\")\n",
    "plt.title(\"Boxplot of age w.r.t gender\");"
   ]
  },
  {
   "cell_type": "markdown",
   "id": "5ca1c6b6-2e8b-4f4e-8d62-3032c53558b3",
   "metadata": {},
   "source": [
    " <strong>b) Publication Year</strong>"
   ]
  },
  {
   "cell_type": "code",
   "execution_count": 121,
   "id": "25ce4209-5b7a-44b3-a3ed-ba1127813386",
   "metadata": {
    "tags": []
   },
   "outputs": [
    {
     "data": {
      "image/png": "[encoded data removed]",
      "text/plain": [
       "<Figure size 640x480 with 1 Axes>"
      ]
     },
     "metadata": {},
     "output_type": "display_data"
    }
   ],
   "source": [
    "# boxplot of culment length against species\n",
    "sns.boxplot(data=df10, x=\"publication_year\", y=\"gender\", orient=\"h\")\n",
    "plt.title(\"Boxplot of publication_year w.r.t gender\");"
   ]
  },
  {
   "cell_type": "markdown",
   "id": "4a57dc57-9583-4e6a-a218-ff460a44dca3",
   "metadata": {},
   "source": [
    "#### 2.2.2 Subclass and..."
   ]
  },
  {
   "cell_type": "markdown",
   "id": "0bd14812-b28b-4ab5-9caf-d4264c65cfc1",
   "metadata": {
    "tags": []
   },
   "source": [
    "<strong>a) Age</strong>"
   ]
  },
  {
   "cell_type": "code",
   "execution_count": 122,
   "id": "20c1d600-db7c-4040-aec2-3a3f3ebe154d",
   "metadata": {
    "tags": []
   },
   "outputs": [
    {
     "data": {
      "image/png": "[encoded data removed]",
      "text/plain": [
       "<Figure size 640x480 with 1 Axes>"
      ]
     },
     "metadata": {},
     "output_type": "display_data"
    }
   ],
   "source": [
    "# boxplot of culment length against species\n",
    "sns.boxplot(data=df10, x=\"age\", y=\"subclass\", orient=\"h\")\n",
    "plt.title(\"Boxplot of age w.r.t subclass\");"
   ]
  },
  {
   "cell_type": "markdown",
   "id": "1d9d941e-7858-42e0-8c72-5b1d3372234f",
   "metadata": {},
   "source": [
    " <strong>b) Publication Year</strong>"
   ]
  },
  {
   "cell_type": "code",
   "execution_count": 123,
   "id": "b8adf0cf-66d3-48e8-b042-6f5a5680f0ec",
   "metadata": {
    "tags": []
   },
   "outputs": [
    {
     "data": {
      "image/png": "[encoded data removed]",
      "text/plain": [
       "<Figure size 640x480 with 1 Axes>"
      ]
     },
     "metadata": {},
     "output_type": "display_data"
    }
   ],
   "source": [
    "# boxplot of culment length against species\n",
    "sns.boxplot(data=df10, x=\"age\", y=\"subclass\", orient=\"h\")\n",
    "plt.title(\"Boxplot of age w.r.t subclass\");"
   ]
  },
  {
   "cell_type": "code",
   "execution_count": 124,
   "id": "d9fb0af5-625e-420e-b2c3-1dbdc85ecc2d",
   "metadata": {
    "tags": []
   },
   "outputs": [
    {
     "data": {
      "text/html": [
       "<div>\n",
       "<style scoped>\n",
       "    .dataframe tbody tr th:only-of-type {\n",
       "        vertical-align: middle;\n",
       "    }\n",
       "\n",
       "    .dataframe tbody tr th {\n",
       "        vertical-align: top;\n",
       "    }\n",
       "\n",
       "    .dataframe thead th {\n",
       "        text-align: right;\n",
       "    }\n",
       "</style>\n",
       "<table border=\"1\" class=\"dataframe\">\n",
       "  <thead>\n",
       "    <tr style=\"text-align: right;\">\n",
       "      <th></th>\n",
       "      <th>subclass</th>\n",
       "      <th>instance</th>\n",
       "      <th>gender</th>\n",
       "      <th>age</th>\n",
       "      <th>publication_year</th>\n",
       "    </tr>\n",
       "  </thead>\n",
       "  <tbody>\n",
       "  </tbody>\n",
       "</table>\n",
       "</div>"
      ],
      "text/plain": [
       "Empty DataFrame\n",
       "Columns: [subclass, instance, gender, age, publication_year]\n",
       "Index: []"
      ]
     },
     "execution_count": 124,
     "metadata": {},
     "output_type": "execute_result"
    }
   ],
   "source": [
    "df10.loc[df10['age']==116]"
   ]
  },
  {
   "cell_type": "code",
   "execution_count": 125,
   "id": "2fc87158-6e26-4dc6-8cac-bf0190d27c1a",
   "metadata": {
    "tags": []
   },
   "outputs": [
    {
     "data": {
      "text/html": [
       "<div>\n",
       "<style scoped>\n",
       "    .dataframe tbody tr th:only-of-type {\n",
       "        vertical-align: middle;\n",
       "    }\n",
       "\n",
       "    .dataframe tbody tr th {\n",
       "        vertical-align: top;\n",
       "    }\n",
       "\n",
       "    .dataframe thead th {\n",
       "        text-align: right;\n",
       "    }\n",
       "</style>\n",
       "<table border=\"1\" class=\"dataframe\">\n",
       "  <thead>\n",
       "    <tr style=\"text-align: right;\">\n",
       "      <th></th>\n",
       "      <th>subclass</th>\n",
       "      <th>instance</th>\n",
       "      <th>gender</th>\n",
       "      <th>age</th>\n",
       "      <th>birthYear</th>\n",
       "      <th>publication_year</th>\n",
       "      <th>wikiDataID</th>\n",
       "    </tr>\n",
       "  </thead>\n",
       "  <tbody>\n",
       "  </tbody>\n",
       "</table>\n",
       "</div>"
      ],
      "text/plain": [
       "Empty DataFrame\n",
       "Columns: [subclass, instance, gender, age, birthYear, publication_year, wikiDataID]\n",
       "Index: []"
      ]
     },
     "execution_count": 125,
     "metadata": {},
     "output_type": "execute_result"
    }
   ],
   "source": [
    "df7.loc[df7['age']==116]"
   ]
  },
  {
   "cell_type": "code",
   "execution_count": null,
   "id": "4754fdf6-84a5-4b59-8e34-a56abac2af75",
   "metadata": {},
   "outputs": [],
   "source": []
  }
 ],
 "metadata": {
  "kernelspec": {
   "display_name": "conda_tensorflow2_p310",
   "language": "python",
   "name": "conda_tensorflow2_p310"
  },
  "language_info": {
   "codemirror_mode": {
    "name": "ipython",
    "version": 3
   },
   "file_extension": ".py",
   "mimetype": "text/x-python",
   "name": "python",
   "nbconvert_exporter": "python",
   "pygments_lexer": "ipython3",
   "version": "3.10.14"
  }
 },
 "nbformat": 4,
 "nbformat_minor": 5
}
