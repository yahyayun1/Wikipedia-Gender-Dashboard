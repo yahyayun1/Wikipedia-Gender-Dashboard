{
 "cells": [
  {
   "cell_type": "code",
   "execution_count": 1,
   "id": "ddc5c2e0-ed79-4e0f-9b24-9f3b1e8fe5af",
   "metadata": {
    "tags": []
   },
   "outputs": [
    {
     "name": "stdout",
     "output_type": "stream",
     "text": [
      "Requirement already satisfied: pandas in /home/ec2-user/anaconda3/envs/tensorflow2_p310/lib/python3.10/site-packages (1.5.3)\n",
      "Requirement already satisfied: python-dateutil>=2.8.1 in /home/ec2-user/anaconda3/envs/tensorflow2_p310/lib/python3.10/site-packages (from pandas) (2.9.0)\n",
      "Requirement already satisfied: pytz>=2020.1 in /home/ec2-user/anaconda3/envs/tensorflow2_p310/lib/python3.10/site-packages (from pandas) (2024.1)\n",
      "Requirement already satisfied: numpy>=1.21.0 in /home/ec2-user/anaconda3/envs/tensorflow2_p310/lib/python3.10/site-packages (from pandas) (1.26.4)\n",
      "Requirement already satisfied: six>=1.5 in /home/ec2-user/anaconda3/envs/tensorflow2_p310/lib/python3.10/site-packages (from python-dateutil>=2.8.1->pandas) (1.16.0)\n",
      "Requirement already satisfied: rdflib in /home/ec2-user/anaconda3/envs/tensorflow2_p310/lib/python3.10/site-packages (7.0.0)\n",
      "Requirement already satisfied: isodate<0.7.0,>=0.6.0 in /home/ec2-user/anaconda3/envs/tensorflow2_p310/lib/python3.10/site-packages (from rdflib) (0.6.1)\n",
      "Requirement already satisfied: pyparsing<4,>=2.1.0 in /home/ec2-user/anaconda3/envs/tensorflow2_p310/lib/python3.10/site-packages (from rdflib) (3.1.2)\n",
      "Requirement already satisfied: six in /home/ec2-user/anaconda3/envs/tensorflow2_p310/lib/python3.10/site-packages (from isodate<0.7.0,>=0.6.0->rdflib) (1.16.0)\n",
      "Requirement already satisfied: SPARQLWrapper in /home/ec2-user/anaconda3/envs/tensorflow2_p310/lib/python3.10/site-packages (2.0.0)\n",
      "Requirement already satisfied: rdflib>=6.1.1 in /home/ec2-user/anaconda3/envs/tensorflow2_p310/lib/python3.10/site-packages (from SPARQLWrapper) (7.0.0)\n",
      "Requirement already satisfied: isodate<0.7.0,>=0.6.0 in /home/ec2-user/anaconda3/envs/tensorflow2_p310/lib/python3.10/site-packages (from rdflib>=6.1.1->SPARQLWrapper) (0.6.1)\n",
      "Requirement already satisfied: pyparsing<4,>=2.1.0 in /home/ec2-user/anaconda3/envs/tensorflow2_p310/lib/python3.10/site-packages (from rdflib>=6.1.1->SPARQLWrapper) (3.1.2)\n",
      "Requirement already satisfied: six in /home/ec2-user/anaconda3/envs/tensorflow2_p310/lib/python3.10/site-packages (from isodate<0.7.0,>=0.6.0->rdflib>=6.1.1->SPARQLWrapper) (1.16.0)\n"
     ]
    }
   ],
   "source": [
    "!pip install pandas\n",
    "!pip install rdflib\n",
    "!pip install SPARQLWrapper"
   ]
  },
  {
   "cell_type": "code",
   "execution_count": 2,
   "id": "0651c6ca-1db3-41a4-a5da-53ba7d8c8dc8",
   "metadata": {
    "tags": []
   },
   "outputs": [],
   "source": [
    "# import pandas library using alias pd\n",
    "import pandas as pd\n",
    "from SPARQLWrapper import SPARQLWrapper, JSON\n",
    "import numpy as np\n",
    "import time\n",
    "from tqdm import tqdm\n",
    "import pickle"
   ]
  },
  {
   "cell_type": "code",
   "execution_count": 61,
   "id": "dbf00027-aa00-4cf6-9f4a-e376fafacec8",
   "metadata": {},
   "outputs": [],
   "source": [
    "import time\n",
    "import datetime\n",
    "import logging\n",
    "    \n",
    "logger = logging.getLogger()\n",
    "    \n",
    "def setup_file_logger(log_file):\n",
    "    hdlr = logging.FileHandler(log_file)\n",
    "    formatter = logging.Formatter('%(asctime)s %(levelname)s %(message)s')\n",
    "    hdlr.setFormatter(formatter)\n",
    "    logger.addHandler(hdlr) \n",
    "    logger.setLevel(logging.INFO)\n",
    "    \n",
    "def log(message):\n",
    "    #outputs to Jupyter console\n",
    "    print('{} {}'.format(datetime.datetime.now(), message))\n",
    "    #outputs to file\n",
    "    logger.info(message)\n",
    "    \n",
    "setup_file_logger('out.log')"
   ]
  },
  {
   "cell_type": "markdown",
   "id": "36651732-cdad-49b8-aea2-7532b9d91bc6",
   "metadata": {},
   "source": [
    "## 1) Data Preparation"
   ]
  },
  {
   "cell_type": "markdown",
   "id": "cfcaa14a-7467-46f5-b304-10f8d0be9d37",
   "metadata": {},
   "source": [
    "#### 1.1 Get List of subclasses and the number of instance for each of them"
   ]
  },
  {
   "cell_type": "code",
   "execution_count": 4,
   "id": "79dc8e64-e304-493d-91c6-4675676d5394",
   "metadata": {
    "tags": []
   },
   "outputs": [],
   "source": [
    "# Initialize SPARQL endpoint\n",
    "dbpedia_sparql = SPARQLWrapper(\"https://dbpedia.org/sparql\")\n",
    "\n",
    "# Define the SPARQL query\n",
    "dbpedia_sparql.setQuery(\"\"\"\n",
    "   SELECT ?subclass (COUNT(DISTINCT ?instance) AS ?count)\n",
    "   WHERE {\n",
    "     ?instance a ?subclass.\n",
    "     ?subclass rdfs:subClassOf dbo:Person.\n",
    "     FILTER (?subclass != dbo:Person)\n",
    "   }\n",
    "   GROUP BY ?subclass\n",
    "   ORDER BY ASC(?count)\n",
    "\"\"\")\n",
    "\n",
    "# Set return format to JSON\n",
    "dbpedia_sparql.setReturnFormat(JSON)\n",
    "\n",
    "# Execute the query and process the results\n",
    "results = dbpedia_sparql.query().convert()\n",
    "\n",
    "subclasses = {}\n",
    "for result in results[\"results\"][\"bindings\"]:\n",
    "    subclass_uri = result[\"subclass\"][\"value\"]\n",
    "    count = result[\"count\"][\"value\"]\n",
    "    subclass = subclass_uri.replace(\"http://dbpedia.org/ontology/\", \"\")\n",
    "    subclasses[subclass] = int(count)  # Convert count to integer"
   ]
  },
  {
   "cell_type": "code",
   "execution_count": 5,
   "id": "1d89a6d4-2705-4b38-9c3f-eb7b0c74eaa7",
   "metadata": {
    "tags": []
   },
   "outputs": [
    {
     "data": {
      "text/plain": [
       "{'Judge': 124,\n",
       " 'Monarch': 245,\n",
       " 'Spy': 261,\n",
       " 'AmericanLeader': 264,\n",
       " 'Pilot': 286,\n",
       " 'HorseTrainer': 355,\n",
       " 'PoliceOfficer': 413,\n",
       " 'Presenter': 670,\n",
       " 'BusinessPerson': 691,\n",
       " 'Astronaut': 738,\n",
       " 'Engineer': 885,\n",
       " 'Chef': 897,\n",
       " 'Youtuber': 900,\n",
       " 'PlayboyPlaymate': 979,\n",
       " 'Economist': 1720,\n",
       " 'Journalist': 1858,\n",
       " 'Model': 2045,\n",
       " 'BeautyQueen': 2987,\n",
       " 'Philosopher': 2987,\n",
       " 'Religious': 4832,\n",
       " 'Architect': 5574,\n",
       " 'Criminal': 6081,\n",
       " 'Noble': 7949,\n",
       " 'Academic': 10663,\n",
       " 'Coach': 10954,\n",
       " 'Royalty': 22720,\n",
       " 'Cleric': 25434,\n",
       " 'SportsManager': 29156,\n",
       " 'MilitaryPerson': 50255,\n",
       " 'Writer': 51821,\n",
       " 'Scientist': 52119,\n",
       " 'OfficeHolder': 66597,\n",
       " 'Artist': 107644,\n",
       " 'Politician': 200848,\n",
       " 'OrganisationMember': 456914,\n",
       " 'Athlete': 578933}"
      ]
     },
     "execution_count": 5,
     "metadata": {},
     "output_type": "execute_result"
    }
   ],
   "source": [
    "subclasses"
   ]
  },
  {
   "cell_type": "code",
   "execution_count": 6,
   "id": "b031fec1-920b-4664-a6f1-6ec4ecb81c77",
   "metadata": {
    "tags": []
   },
   "outputs": [
    {
     "data": {
      "text/plain": [
       "124"
      ]
     },
     "execution_count": 6,
     "metadata": {},
     "output_type": "execute_result"
    }
   ],
   "source": [
    "subclasses.pop(\"Judge\")"
   ]
  },
  {
   "cell_type": "markdown",
   "id": "d3b20633-51cc-4d32-a8f9-6038b83a6347",
   "metadata": {},
   "source": [
    "#### 1.2 Combine Collected Data into a Dataframe"
   ]
  },
  {
   "cell_type": "code",
   "execution_count": 7,
   "id": "ff928f2b-5f80-49ab-87d1-c8030b9735e9",
   "metadata": {
    "tags": []
   },
   "outputs": [
    {
     "name": "stdout",
     "output_type": "stream",
     "text": [
      "Academic/Academiciteration1.csv NOT FOUND\n",
      "Coach/Coachiteration2.csv NOT FOUND\n",
      "Royalty/Royaltyiteration3.csv NOT FOUND\n",
      "Cleric/Clericiteration3.csv NOT FOUND\n",
      "SportsManager/SportsManageriteration3.csv NOT FOUND\n",
      "MilitaryPerson/MilitaryPersoniteration6.csv NOT FOUND\n",
      "Writer/Writeriteration6.csv NOT FOUND\n",
      "Scientist/Scientistiteration7.csv NOT FOUND\n",
      "OfficeHolder/OfficeHolderiteration7.csv NOT FOUND\n",
      "Artist/Artistiteration12.csv NOT FOUND\n",
      "Politician/Politicianiteration20.csv NOT FOUND\n",
      "OrganisationMember/OrganisationMemberiteration0.csv NOT FOUND\n",
      "Athlete/Athleteiteration1.csv NOT FOUND\n"
     ]
    },
    {
     "data": {
      "text/plain": [
       "(979648, 7)"
      ]
     },
     "execution_count": 7,
     "metadata": {},
     "output_type": "execute_result"
    }
   ],
   "source": [
    "import math\n",
    "\n",
    "df = pd.read_csv('Judge.csv')\n",
    "\n",
    "# load the data\n",
    "for subclass, count in subclasses.items():\n",
    "    try:\n",
    "        if count < 10000:\n",
    "            temporary_df = pd.read_csv(f'{subclass}.csv')\n",
    "            df = pd.concat([df, temporary_df], ignore_index=True)\n",
    "        else:\n",
    "            for i in range(0, math.ceil(count / 10000) + 2):\n",
    "                temporary_df = pd.read_csv(f'{subclass}/{subclass}iteration{i}.csv')\n",
    "                df = pd.concat([df, temporary_df], ignore_index=True)\n",
    "    except FileNotFoundError:\n",
    "        print (f'{subclass}/{subclass}iteration{i}.csv NOT FOUND')\n",
    "    \n",
    "df.shape"
   ]
  },
  {
   "cell_type": "code",
   "execution_count": 8,
   "id": "bb527a4e-55f0-42e4-80eb-1ebb4f972be9",
   "metadata": {
    "tags": []
   },
   "outputs": [
    {
     "data": {
      "text/plain": [
       "Athlete            250573\n",
       "Politician         191191\n",
       "Artist             120000\n",
       "OfficeHolder        70000\n",
       "Scientist           70000\n",
       "Writer              60000\n",
       "MilitaryPerson      56218\n",
       "Cleric              30000\n",
       "SportsManager       29192\n",
       "Royalty             27736\n",
       "Coach               10958\n",
       "Academic            10000\n",
       "Noble               10000\n",
       "Philosopher          8875\n",
       "Criminal             7076\n",
       "Architect            5590\n",
       "Religious            4868\n",
       "BeautyQueen          2992\n",
       "Economist            2738\n",
       "Model                2048\n",
       "Journalist           1865\n",
       "PlayboyPlaymate       979\n",
       "Youtuber              901\n",
       "Chef                  899\n",
       "Engineer              891\n",
       "Astronaut             742\n",
       "BusinessPerson        691\n",
       "Presenter             671\n",
       "PoliceOfficer         413\n",
       "HorseTrainer          358\n",
       "Pilot                 286\n",
       "AmericanLeader        265\n",
       "Spy                   261\n",
       "Monarch               247\n",
       "Judge                 124\n",
       "Name: subclass, dtype: int64"
      ]
     },
     "execution_count": 8,
     "metadata": {},
     "output_type": "execute_result"
    }
   ],
   "source": [
    "# Check if all the subclasses are present in the dataframe to be preprocessed\n",
    "df['subclass'].value_counts()"
   ]
  },
  {
   "cell_type": "code",
   "execution_count": 9,
   "id": "daa8a5ab-c0e3-4546-a12a-f1c44e2f0a34",
   "metadata": {
    "tags": []
   },
   "outputs": [
    {
     "name": "stdout",
     "output_type": "stream",
     "text": [
      "<class 'pandas.core.frame.DataFrame'>\n",
      "RangeIndex: 979648 entries, 0 to 979647\n",
      "Data columns (total 7 columns):\n",
      " #   Column            Non-Null Count   Dtype  \n",
      "---  ------            --------------   -----  \n",
      " 0   subclass          979648 non-null  object \n",
      " 1   instance          979648 non-null  object \n",
      " 2   wikiDataID        948740 non-null  object \n",
      " 3   gender            926522 non-null  object \n",
      " 4   age               979648 non-null  int64  \n",
      " 5   birthYear         250573 non-null  float64\n",
      " 6   publication_year  957813 non-null  float64\n",
      "dtypes: float64(2), int64(1), object(4)\n",
      "memory usage: 52.3+ MB\n"
     ]
    }
   ],
   "source": [
    "df.info()"
   ]
  },
  {
   "cell_type": "markdown",
   "id": "49f9cf5f-c76c-45f3-8b68-08a99f6ce1ea",
   "metadata": {},
   "source": [
    "From above, it can be seen that the wikiDataID, , gender, birthYear and publication_year column has some null values."
   ]
  },
  {
   "cell_type": "markdown",
   "id": "cace1e76-333a-4a51-951a-2f11120327fa",
   "metadata": {},
   "source": [
    "#### 1.3 Removing Duplicated Rows"
   ]
  },
  {
   "cell_type": "code",
   "execution_count": 10,
   "id": "86c1fe98-cfea-473d-a0c7-79d7860d31df",
   "metadata": {
    "tags": []
   },
   "outputs": [
    {
     "data": {
      "text/html": [
       "<div>\n",
       "<style scoped>\n",
       "    .dataframe tbody tr th:only-of-type {\n",
       "        vertical-align: middle;\n",
       "    }\n",
       "\n",
       "    .dataframe tbody tr th {\n",
       "        vertical-align: top;\n",
       "    }\n",
       "\n",
       "    .dataframe thead th {\n",
       "        text-align: right;\n",
       "    }\n",
       "</style>\n",
       "<table border=\"1\" class=\"dataframe\">\n",
       "  <thead>\n",
       "    <tr style=\"text-align: right;\">\n",
       "      <th></th>\n",
       "      <th>subclass</th>\n",
       "      <th>instance</th>\n",
       "      <th>wikiDataID</th>\n",
       "      <th>gender</th>\n",
       "      <th>age</th>\n",
       "      <th>birthYear</th>\n",
       "      <th>publication_year</th>\n",
       "    </tr>\n",
       "  </thead>\n",
       "  <tbody>\n",
       "    <tr>\n",
       "      <th>537892</th>\n",
       "      <td>Politician</td>\n",
       "      <td>100th_Delaware_General_Assembly</td>\n",
       "      <td>Q4546229</td>\n",
       "      <td>NaN</td>\n",
       "      <td>0</td>\n",
       "      <td>NaN</td>\n",
       "      <td>2009.0</td>\n",
       "    </tr>\n",
       "    <tr>\n",
       "      <th>347886</th>\n",
       "      <td>OfficeHolder</td>\n",
       "      <td>100th_Delaware_General_Assembly</td>\n",
       "      <td>Q4546229</td>\n",
       "      <td>NaN</td>\n",
       "      <td>0</td>\n",
       "      <td>NaN</td>\n",
       "      <td>2009.0</td>\n",
       "    </tr>\n",
       "    <tr>\n",
       "      <th>537893</th>\n",
       "      <td>Politician</td>\n",
       "      <td>101st_Delaware_General_Assembly</td>\n",
       "      <td>Q4546348</td>\n",
       "      <td>NaN</td>\n",
       "      <td>0</td>\n",
       "      <td>NaN</td>\n",
       "      <td>2009.0</td>\n",
       "    </tr>\n",
       "    <tr>\n",
       "      <th>347888</th>\n",
       "      <td>OfficeHolder</td>\n",
       "      <td>101st_Delaware_General_Assembly</td>\n",
       "      <td>Q4546348</td>\n",
       "      <td>NaN</td>\n",
       "      <td>0</td>\n",
       "      <td>NaN</td>\n",
       "      <td>2009.0</td>\n",
       "    </tr>\n",
       "    <tr>\n",
       "      <th>537894</th>\n",
       "      <td>Politician</td>\n",
       "      <td>102nd_Delaware_General_Assembly</td>\n",
       "      <td>Q4546419</td>\n",
       "      <td>NaN</td>\n",
       "      <td>0</td>\n",
       "      <td>NaN</td>\n",
       "      <td>2009.0</td>\n",
       "    </tr>\n",
       "    <tr>\n",
       "      <th>...</th>\n",
       "      <td>...</td>\n",
       "      <td>...</td>\n",
       "      <td>...</td>\n",
       "      <td>...</td>\n",
       "      <td>...</td>\n",
       "      <td>...</td>\n",
       "      <td>...</td>\n",
       "    </tr>\n",
       "    <tr>\n",
       "      <th>728981</th>\n",
       "      <td>Politician</td>\n",
       "      <td>Ōyama_Iwao</td>\n",
       "      <td>Q359819</td>\n",
       "      <td>male</td>\n",
       "      <td>74</td>\n",
       "      <td>NaN</td>\n",
       "      <td>2003.0</td>\n",
       "    </tr>\n",
       "    <tr>\n",
       "      <th>217876</th>\n",
       "      <td>MilitaryPerson</td>\n",
       "      <td>Živko_Budimir</td>\n",
       "      <td>Q2478723</td>\n",
       "      <td>male</td>\n",
       "      <td>62</td>\n",
       "      <td>NaN</td>\n",
       "      <td>2011.0</td>\n",
       "    </tr>\n",
       "    <tr>\n",
       "      <th>729044</th>\n",
       "      <td>Politician</td>\n",
       "      <td>Živko_Budimir</td>\n",
       "      <td>Q2478723</td>\n",
       "      <td>male</td>\n",
       "      <td>62</td>\n",
       "      <td>NaN</td>\n",
       "      <td>2011.0</td>\n",
       "    </tr>\n",
       "    <tr>\n",
       "      <th>729047</th>\n",
       "      <td>Politician</td>\n",
       "      <td>Živojin_Mišić</td>\n",
       "      <td>Q1138038</td>\n",
       "      <td>male</td>\n",
       "      <td>66</td>\n",
       "      <td>NaN</td>\n",
       "      <td>2003.0</td>\n",
       "    </tr>\n",
       "    <tr>\n",
       "      <th>217879</th>\n",
       "      <td>MilitaryPerson</td>\n",
       "      <td>Živojin_Mišić</td>\n",
       "      <td>Q1138038</td>\n",
       "      <td>male</td>\n",
       "      <td>66</td>\n",
       "      <td>NaN</td>\n",
       "      <td>2003.0</td>\n",
       "    </tr>\n",
       "  </tbody>\n",
       "</table>\n",
       "<p>134353 rows × 7 columns</p>\n",
       "</div>"
      ],
      "text/plain": [
       "              subclass                         instance wikiDataID gender  \\\n",
       "537892      Politician  100th_Delaware_General_Assembly   Q4546229    NaN   \n",
       "347886    OfficeHolder  100th_Delaware_General_Assembly   Q4546229    NaN   \n",
       "537893      Politician  101st_Delaware_General_Assembly   Q4546348    NaN   \n",
       "347888    OfficeHolder  101st_Delaware_General_Assembly   Q4546348    NaN   \n",
       "537894      Politician  102nd_Delaware_General_Assembly   Q4546419    NaN   \n",
       "...                ...                              ...        ...    ...   \n",
       "728981      Politician                       Ōyama_Iwao    Q359819   male   \n",
       "217876  MilitaryPerson                    Živko_Budimir   Q2478723   male   \n",
       "729044      Politician                    Živko_Budimir   Q2478723   male   \n",
       "729047      Politician                    Živojin_Mišić   Q1138038   male   \n",
       "217879  MilitaryPerson                    Živojin_Mišić   Q1138038   male   \n",
       "\n",
       "        age  birthYear  publication_year  \n",
       "537892    0        NaN            2009.0  \n",
       "347886    0        NaN            2009.0  \n",
       "537893    0        NaN            2009.0  \n",
       "347888    0        NaN            2009.0  \n",
       "537894    0        NaN            2009.0  \n",
       "...     ...        ...               ...  \n",
       "728981   74        NaN            2003.0  \n",
       "217876   62        NaN            2011.0  \n",
       "729044   62        NaN            2011.0  \n",
       "729047   66        NaN            2003.0  \n",
       "217879   66        NaN            2003.0  \n",
       "\n",
       "[134353 rows x 7 columns]"
      ]
     },
     "execution_count": 10,
     "metadata": {},
     "output_type": "execute_result"
    }
   ],
   "source": [
    "duplicated_rows = df[df.duplicated(subset=['instance', 'wikiDataID'], keep=False)].sort_values(by=['instance'])\n",
    "duplicated_rows"
   ]
  },
  {
   "cell_type": "markdown",
   "id": "c273e5c8-8f16-4441-ae3b-9327f2717871",
   "metadata": {},
   "source": [
    "We can see above that there are 134,353 rows that have duplicated instance and wikiDataID, sicne we only need one rows of these duplicated rows, we wil kepp only the first rows of such."
   ]
  },
  {
   "cell_type": "code",
   "execution_count": 11,
   "id": "9b0b7c23-26d8-4faa-9c92-08074df6984b",
   "metadata": {
    "tags": []
   },
   "outputs": [
    {
     "name": "stdout",
     "output_type": "stream",
     "text": [
      "<class 'pandas.core.frame.DataFrame'>\n",
      "Int64Index: 911850 entries, 0 to 979647\n",
      "Data columns (total 7 columns):\n",
      " #   Column            Non-Null Count   Dtype  \n",
      "---  ------            --------------   -----  \n",
      " 0   subclass          911850 non-null  object \n",
      " 1   instance          911850 non-null  object \n",
      " 2   wikiDataID        880999 non-null  object \n",
      " 3   gender            859866 non-null  object \n",
      " 4   age               911850 non-null  int64  \n",
      " 5   birthYear         245539 non-null  float64\n",
      " 6   publication_year  890068 non-null  float64\n",
      "dtypes: float64(2), int64(1), object(4)\n",
      "memory usage: 55.7+ MB\n"
     ]
    }
   ],
   "source": [
    "df1 = df.drop_duplicates(subset=['instance', 'wikiDataID'], keep='first')\n",
    "df1.info()"
   ]
  },
  {
   "cell_type": "code",
   "execution_count": 12,
   "id": "c5cbe50a-9d84-4087-95ec-19736acb3a15",
   "metadata": {
    "tags": []
   },
   "outputs": [
    {
     "data": {
      "text/plain": [
       "0"
      ]
     },
     "execution_count": 12,
     "metadata": {},
     "output_type": "execute_result"
    }
   ],
   "source": [
    "df1.duplicated().sum() "
   ]
  },
  {
   "cell_type": "markdown",
   "id": "14824f1f-fae8-43c3-a612-e762960cdb09",
   "metadata": {},
   "source": [
    "After dropping all the duplicates, we can infer that there are 979648 - 911850 = 67,798 rows that have duplicated insatnce and wikiDataID and have been removed."
   ]
  },
  {
   "cell_type": "code",
   "execution_count": 13,
   "id": "bd9238b6-8eee-4e72-aac5-945257af7fe2",
   "metadata": {
    "tags": []
   },
   "outputs": [
    {
     "data": {
      "text/plain": [
       "148921"
      ]
     },
     "execution_count": 13,
     "metadata": {},
     "output_type": "execute_result"
    }
   ],
   "source": [
    "df1['wikiDataID'].duplicated().sum()"
   ]
  },
  {
   "cell_type": "markdown",
   "id": "82070314-2087-4725-844c-4702dbcb7f32",
   "metadata": {},
   "source": [
    "However, the WikiDataID columns still shows some duplication which should not happpened sicne we have deleted all the duplicates and since wikiDataID is unique. Thus, I think this happened for some error when collecting the data through the API's where two or more same instance might have been represented by mutiple wikiDataID but only one of them is correct"
   ]
  },
  {
   "cell_type": "code",
   "execution_count": 14,
   "id": "7f064a4e-a615-453e-a2ef-ba97387221a0",
   "metadata": {
    "tags": []
   },
   "outputs": [
    {
     "data": {
      "text/html": [
       "<div>\n",
       "<style scoped>\n",
       "    .dataframe tbody tr th:only-of-type {\n",
       "        vertical-align: middle;\n",
       "    }\n",
       "\n",
       "    .dataframe tbody tr th {\n",
       "        vertical-align: top;\n",
       "    }\n",
       "\n",
       "    .dataframe thead th {\n",
       "        text-align: right;\n",
       "    }\n",
       "</style>\n",
       "<table border=\"1\" class=\"dataframe\">\n",
       "  <thead>\n",
       "    <tr style=\"text-align: right;\">\n",
       "      <th></th>\n",
       "      <th>subclass</th>\n",
       "      <th>instance</th>\n",
       "      <th>wikiDataID</th>\n",
       "      <th>gender</th>\n",
       "      <th>age</th>\n",
       "      <th>birthYear</th>\n",
       "      <th>publication_year</th>\n",
       "    </tr>\n",
       "  </thead>\n",
       "  <tbody>\n",
       "    <tr>\n",
       "      <th>41338</th>\n",
       "      <td>Criminal</td>\n",
       "      <td>2016_St._Cloud,_Minnesota_knife_attack</td>\n",
       "      <td>Q42915632</td>\n",
       "      <td>NaN</td>\n",
       "      <td>-8</td>\n",
       "      <td>NaN</td>\n",
       "      <td>2016.0</td>\n",
       "    </tr>\n",
       "    <tr>\n",
       "      <th>41337</th>\n",
       "      <td>Criminal</td>\n",
       "      <td>2016_St._Cloud,_Minnesota_knife_attack</td>\n",
       "      <td>Q26933993</td>\n",
       "      <td>NaN</td>\n",
       "      <td>-8</td>\n",
       "      <td>NaN</td>\n",
       "      <td>2016.0</td>\n",
       "    </tr>\n",
       "    <tr>\n",
       "      <th>349407</th>\n",
       "      <td>OfficeHolder</td>\n",
       "      <td>A._K._Fazlul_Huq</td>\n",
       "      <td>Q3242246</td>\n",
       "      <td>male</td>\n",
       "      <td>89</td>\n",
       "      <td>NaN</td>\n",
       "      <td>2005.0</td>\n",
       "    </tr>\n",
       "    <tr>\n",
       "      <th>349408</th>\n",
       "      <td>OfficeHolder</td>\n",
       "      <td>A._K._Fazlul_Huq</td>\n",
       "      <td>Q9258264</td>\n",
       "      <td>NaN</td>\n",
       "      <td>89</td>\n",
       "      <td>NaN</td>\n",
       "      <td>2005.0</td>\n",
       "    </tr>\n",
       "    <tr>\n",
       "      <th>217955</th>\n",
       "      <td>Writer</td>\n",
       "      <td>A._L._Kennedy</td>\n",
       "      <td>Q278872</td>\n",
       "      <td>female</td>\n",
       "      <td>59</td>\n",
       "      <td>NaN</td>\n",
       "      <td>2004.0</td>\n",
       "    </tr>\n",
       "    <tr>\n",
       "      <th>...</th>\n",
       "      <td>...</td>\n",
       "      <td>...</td>\n",
       "      <td>...</td>\n",
       "      <td>...</td>\n",
       "      <td>...</td>\n",
       "      <td>...</td>\n",
       "      <td>...</td>\n",
       "    </tr>\n",
       "    <tr>\n",
       "      <th>728657</th>\n",
       "      <td>Politician</td>\n",
       "      <td>Éric_Dupond-Moretti</td>\n",
       "      <td>Q93228978</td>\n",
       "      <td>male</td>\n",
       "      <td>63</td>\n",
       "      <td>NaN</td>\n",
       "      <td>2017.0</td>\n",
       "    </tr>\n",
       "    <tr>\n",
       "      <th>728831</th>\n",
       "      <td>Politician</td>\n",
       "      <td>Ömer_Çelik</td>\n",
       "      <td>Q91468051</td>\n",
       "      <td>male</td>\n",
       "      <td>56</td>\n",
       "      <td>NaN</td>\n",
       "      <td>2013.0</td>\n",
       "    </tr>\n",
       "    <tr>\n",
       "      <th>728830</th>\n",
       "      <td>Politician</td>\n",
       "      <td>Ömer_Çelik</td>\n",
       "      <td>Q297516</td>\n",
       "      <td>male</td>\n",
       "      <td>56</td>\n",
       "      <td>NaN</td>\n",
       "      <td>2013.0</td>\n",
       "    </tr>\n",
       "    <tr>\n",
       "      <th>102404</th>\n",
       "      <td>Royalty</td>\n",
       "      <td>Şehzade_Kasım</td>\n",
       "      <td>Q21523791</td>\n",
       "      <td>male</td>\n",
       "      <td>0</td>\n",
       "      <td>NaN</td>\n",
       "      <td>2022.0</td>\n",
       "    </tr>\n",
       "    <tr>\n",
       "      <th>102403</th>\n",
       "      <td>Royalty</td>\n",
       "      <td>Şehzade_Kasım</td>\n",
       "      <td>Q11929686</td>\n",
       "      <td>male</td>\n",
       "      <td>0</td>\n",
       "      <td>NaN</td>\n",
       "      <td>2022.0</td>\n",
       "    </tr>\n",
       "  </tbody>\n",
       "</table>\n",
       "<p>123471 rows × 7 columns</p>\n",
       "</div>"
      ],
      "text/plain": [
       "            subclass                                instance wikiDataID  \\\n",
       "41338       Criminal  2016_St._Cloud,_Minnesota_knife_attack  Q42915632   \n",
       "41337       Criminal  2016_St._Cloud,_Minnesota_knife_attack  Q26933993   \n",
       "349407  OfficeHolder                        A._K._Fazlul_Huq   Q3242246   \n",
       "349408  OfficeHolder                        A._K._Fazlul_Huq   Q9258264   \n",
       "217955        Writer                           A._L._Kennedy    Q278872   \n",
       "...              ...                                     ...        ...   \n",
       "728657    Politician                     Éric_Dupond-Moretti  Q93228978   \n",
       "728831    Politician                              Ömer_Çelik  Q91468051   \n",
       "728830    Politician                              Ömer_Çelik    Q297516   \n",
       "102404       Royalty                           Şehzade_Kasım  Q21523791   \n",
       "102403       Royalty                           Şehzade_Kasım  Q11929686   \n",
       "\n",
       "        gender  age  birthYear  publication_year  \n",
       "41338      NaN   -8        NaN            2016.0  \n",
       "41337      NaN   -8        NaN            2016.0  \n",
       "349407    male   89        NaN            2005.0  \n",
       "349408     NaN   89        NaN            2005.0  \n",
       "217955  female   59        NaN            2004.0  \n",
       "...        ...  ...        ...               ...  \n",
       "728657    male   63        NaN            2017.0  \n",
       "728831    male   56        NaN            2013.0  \n",
       "728830    male   56        NaN            2013.0  \n",
       "102404    male    0        NaN            2022.0  \n",
       "102403    male    0        NaN            2022.0  \n",
       "\n",
       "[123471 rows x 7 columns]"
      ]
     },
     "execution_count": 14,
     "metadata": {},
     "output_type": "execute_result"
    }
   ],
   "source": [
    "duplicated_wikidata = df1[df1.duplicated(subset=['subclass', 'instance'], keep=False)].sort_values(by=['instance'])\n",
    "duplicated_wikidata"
   ]
  },
  {
   "cell_type": "markdown",
   "id": "6aa38501-669e-4f12-b3f3-8606b439625b",
   "metadata": {},
   "source": [
    "After some initial observation, it is found that my intuation is correct, for example the instance Ömer_Çelik have two wikiDataID but only one is correct which is Q297516. Meanwhile, the wikiDataID = Q91468051 associated with him deos not exists. I plan to run a sparql query in wikidata to get the actual wikidataId for each of these instances and replace them in the df"
   ]
  },
  {
   "cell_type": "code",
   "execution_count": 15,
   "id": "6314165e-f01a-4de4-9021-35ca2bf16a7a",
   "metadata": {
    "tags": []
   },
   "outputs": [
    {
     "data": {
      "text/plain": [
       "subclass  instance         \n",
       "Academic  Alan_Martin_Boase                               [Q18917167, Q19258718]\n",
       "          Albert_Elsen                                    [Q59628885, Q19753752]\n",
       "          Andre_Franke                                   [Q67470670, Q114345084]\n",
       "          Andrew_Lambert                                   [Q4757681, Q60103671]\n",
       "          Autumn_Stanley       [Q95682724, Q95680876, Q95637638, Q95336311, Q...\n",
       "                                                     ...                        \n",
       "Writer    Max_Müller                                         [Q60074, Q55068911]\n",
       "          Mbongeni_Ngema                                   [Q10327912, Q6799750]\n",
       "          Mel_Odom_(author)                                 [Q4331780, Q6810802]\n",
       "          Melinda_Metz         [Q22107416, Q238361, Q23780935, Q2375655, Q237...\n",
       "Youtuber  TimTheTatman                                   [Q61789029, Q111584802]\n",
       "Name: wikiDataID, Length: 2625, dtype: object"
      ]
     },
     "execution_count": 15,
     "metadata": {},
     "output_type": "execute_result"
    }
   ],
   "source": [
    "instances_with_multiple_ids = duplicated_wikidata.groupby(['subclass', 'instance'])['wikiDataID'].unique()\n",
    "instances_with_multiple_ids"
   ]
  },
  {
   "cell_type": "code",
   "execution_count": 16,
   "id": "a80eb69f-383d-434b-bb2c-f656a7bec2a5",
   "metadata": {
    "tags": []
   },
   "outputs": [
    {
     "data": {
      "text/html": [
       "<div>\n",
       "<style scoped>\n",
       "    .dataframe tbody tr th:only-of-type {\n",
       "        vertical-align: middle;\n",
       "    }\n",
       "\n",
       "    .dataframe tbody tr th {\n",
       "        vertical-align: top;\n",
       "    }\n",
       "\n",
       "    .dataframe thead th {\n",
       "        text-align: right;\n",
       "    }\n",
       "</style>\n",
       "<table border=\"1\" class=\"dataframe\">\n",
       "  <thead>\n",
       "    <tr style=\"text-align: right;\">\n",
       "      <th></th>\n",
       "      <th>subclass</th>\n",
       "      <th>instance</th>\n",
       "      <th>wikiDataID</th>\n",
       "      <th>gender</th>\n",
       "      <th>age</th>\n",
       "      <th>birthYear</th>\n",
       "      <th>publication_year</th>\n",
       "    </tr>\n",
       "  </thead>\n",
       "  <tbody>\n",
       "    <tr>\n",
       "      <th>417884</th>\n",
       "      <td>Artist</td>\n",
       "      <td>!PAUS3</td>\n",
       "      <td>Q3466056</td>\n",
       "      <td>male</td>\n",
       "      <td>43</td>\n",
       "      <td>NaN</td>\n",
       "      <td>2011.0</td>\n",
       "    </tr>\n",
       "    <tr>\n",
       "      <th>417885</th>\n",
       "      <td>Artist</td>\n",
       "      <td>$pacely</td>\n",
       "      <td>Q73507574</td>\n",
       "      <td>male</td>\n",
       "      <td>32</td>\n",
       "      <td>NaN</td>\n",
       "      <td>2018.0</td>\n",
       "    </tr>\n",
       "    <tr>\n",
       "      <th>38134</th>\n",
       "      <td>Criminal</td>\n",
       "      <td>%22Baby_Lollipops%22_murder</td>\n",
       "      <td>Q64875934</td>\n",
       "      <td>NaN</td>\n",
       "      <td>63</td>\n",
       "      <td>NaN</td>\n",
       "      <td>2023.0</td>\n",
       "    </tr>\n",
       "    <tr>\n",
       "      <th>417886</th>\n",
       "      <td>Artist</td>\n",
       "      <td>%22Bassy%22_Bob_Brockmann</td>\n",
       "      <td>Q13416958</td>\n",
       "      <td>male</td>\n",
       "      <td>62</td>\n",
       "      <td>NaN</td>\n",
       "      <td>2013.0</td>\n",
       "    </tr>\n",
       "    <tr>\n",
       "      <th>537884</th>\n",
       "      <td>Politician</td>\n",
       "      <td>%22Big%22_Donnie_MacLeod</td>\n",
       "      <td>Q18645783</td>\n",
       "      <td>male</td>\n",
       "      <td>75</td>\n",
       "      <td>NaN</td>\n",
       "      <td>2014.0</td>\n",
       "    </tr>\n",
       "    <tr>\n",
       "      <th>...</th>\n",
       "      <td>...</td>\n",
       "      <td>...</td>\n",
       "      <td>...</td>\n",
       "      <td>...</td>\n",
       "      <td>...</td>\n",
       "      <td>...</td>\n",
       "      <td>...</td>\n",
       "    </tr>\n",
       "    <tr>\n",
       "      <th>102470</th>\n",
       "      <td>Royalty</td>\n",
       "      <td>Ḫarapšili</td>\n",
       "      <td>Q742087</td>\n",
       "      <td>female</td>\n",
       "      <td>0</td>\n",
       "      <td>NaN</td>\n",
       "      <td>2012.0</td>\n",
       "    </tr>\n",
       "    <tr>\n",
       "      <th>102471</th>\n",
       "      <td>Royalty</td>\n",
       "      <td>Ḫattušili_III</td>\n",
       "      <td>Q297588</td>\n",
       "      <td>male</td>\n",
       "      <td>0</td>\n",
       "      <td>NaN</td>\n",
       "      <td>2004.0</td>\n",
       "    </tr>\n",
       "    <tr>\n",
       "      <th>26705</th>\n",
       "      <td>Religious</td>\n",
       "      <td>Ṭhānissaro_Bhikkhu</td>\n",
       "      <td>Q7710407</td>\n",
       "      <td>male</td>\n",
       "      <td>75</td>\n",
       "      <td>NaN</td>\n",
       "      <td>2006.0</td>\n",
       "    </tr>\n",
       "    <tr>\n",
       "      <th>102472</th>\n",
       "      <td>Royalty</td>\n",
       "      <td>Ỷ_Lan</td>\n",
       "      <td>Q10843033</td>\n",
       "      <td>female</td>\n",
       "      <td>0</td>\n",
       "      <td>NaN</td>\n",
       "      <td>2010.0</td>\n",
       "    </tr>\n",
       "    <tr>\n",
       "      <th>102473</th>\n",
       "      <td>Royalty</td>\n",
       "      <td>‘Ulayya_bint_al-Mahdī</td>\n",
       "      <td>NaN</td>\n",
       "      <td>NaN</td>\n",
       "      <td>0</td>\n",
       "      <td>NaN</td>\n",
       "      <td>2019.0</td>\n",
       "    </tr>\n",
       "  </tbody>\n",
       "</table>\n",
       "<p>791004 rows × 7 columns</p>\n",
       "</div>"
      ],
      "text/plain": [
       "          subclass                     instance wikiDataID  gender  age  \\\n",
       "417884      Artist                       !PAUS3   Q3466056    male   43   \n",
       "417885      Artist                      $pacely  Q73507574    male   32   \n",
       "38134     Criminal  %22Baby_Lollipops%22_murder  Q64875934     NaN   63   \n",
       "417886      Artist    %22Bassy%22_Bob_Brockmann  Q13416958    male   62   \n",
       "537884  Politician     %22Big%22_Donnie_MacLeod  Q18645783    male   75   \n",
       "...            ...                          ...        ...     ...  ...   \n",
       "102470     Royalty                    Ḫarapšili    Q742087  female    0   \n",
       "102471     Royalty                Ḫattušili_III    Q297588    male    0   \n",
       "26705    Religious           Ṭhānissaro_Bhikkhu   Q7710407    male   75   \n",
       "102472     Royalty                        Ỷ_Lan  Q10843033  female    0   \n",
       "102473     Royalty        ‘Ulayya_bint_al-Mahdī        NaN     NaN    0   \n",
       "\n",
       "        birthYear  publication_year  \n",
       "417884        NaN            2011.0  \n",
       "417885        NaN            2018.0  \n",
       "38134         NaN            2023.0  \n",
       "417886        NaN            2013.0  \n",
       "537884        NaN            2014.0  \n",
       "...           ...               ...  \n",
       "102470        NaN            2012.0  \n",
       "102471        NaN            2004.0  \n",
       "26705         NaN            2006.0  \n",
       "102472        NaN            2010.0  \n",
       "102473        NaN            2019.0  \n",
       "\n",
       "[791004 rows x 7 columns]"
      ]
     },
     "execution_count": 16,
     "metadata": {},
     "output_type": "execute_result"
    }
   ],
   "source": [
    "df2 = df1[~df1.duplicated(subset=['subclass', 'instance'], keep='first')].sort_values(by=['instance'])\n",
    "df2"
   ]
  },
  {
   "cell_type": "code",
   "execution_count": 17,
   "id": "33daa771-b7fd-4f13-b028-7e664eca7d61",
   "metadata": {
    "tags": []
   },
   "outputs": [
    {
     "name": "stdout",
     "output_type": "stream",
     "text": [
      "<class 'pandas.core.frame.DataFrame'>\n",
      "Int64Index: 791004 entries, 417884 to 102473\n",
      "Data columns (total 7 columns):\n",
      " #   Column            Non-Null Count   Dtype  \n",
      "---  ------            --------------   -----  \n",
      " 0   subclass          791004 non-null  object \n",
      " 1   instance          791004 non-null  object \n",
      " 2   wikiDataID        760153 non-null  object \n",
      " 3   gender            743194 non-null  object \n",
      " 4   age               791004 non-null  int64  \n",
      " 5   birthYear         242387 non-null  float64\n",
      " 6   publication_year  769224 non-null  float64\n",
      "dtypes: float64(2), int64(1), object(4)\n",
      "memory usage: 48.3+ MB\n"
     ]
    }
   ],
   "source": [
    "df2.info()"
   ]
  },
  {
   "cell_type": "markdown",
   "id": "8069cdbe-6de2-474e-832f-a2408bb5e5f9",
   "metadata": {},
   "source": [
    "Actual df = 911850, duplicated wikiDataID = 123471, unique wikidataid from the duplicated = 2625; Cleaned df = 911850 - 123471 + 2625 = **791004** which is consistent with the information above."
   ]
  },
  {
   "cell_type": "code",
   "execution_count": 18,
   "id": "8eeb1011-9824-4b2f-b734-871592d8d727",
   "metadata": {
    "tags": []
   },
   "outputs": [
    {
     "name": "stdout",
     "output_type": "stream",
     "text": [
      "144\n"
     ]
    }
   ],
   "source": [
    "i=0\n",
    "for (subclass, instance), ids in instances_with_multiple_ids.items():\n",
    "    if len(ids) > 5:\n",
    "        i+=1\n",
    "print(i)"
   ]
  },
  {
   "cell_type": "code",
   "execution_count": 19,
   "id": "b7e65560-d99c-4511-b55b-3b76d91c8c96",
   "metadata": {
    "tags": []
   },
   "outputs": [],
   "source": [
    "def get_instance_from_dbpedia(wikidata_id):\n",
    "    # Initialize the SPARQL wrapper\n",
    "    dbpedia_sparql = SPARQLWrapper('https://dbpedia.org/sparql')\n",
    "\n",
    "    # Define the query to get the DBpedia resource URI\n",
    "    query = f\"\"\"\n",
    "    PREFIX owl: <http://www.w3.org/2002/07/owl#>\n",
    "    PREFIX wd: <http://www.wikidata.org/entity/>\n",
    "\n",
    "    SELECT ?instance WHERE {{\n",
    "      ?instance owl:sameAs wd:{wikidata_id}.\n",
    "    }}\n",
    "    \"\"\"\n",
    "    \n",
    "    dbpedia_sparql.setQuery(query)\n",
    "    dbpedia_sparql.setReturnFormat(JSON)\n",
    "    \n",
    "    while True:\n",
    "        try:\n",
    "            # Execute the query and fetch results\n",
    "            results = dbpedia_sparql.query().convert()\n",
    "                \n",
    "            if results[\"results\"][\"bindings\"]:\n",
    "                instance = results[\"results\"][\"bindings\"][0][\"instance\"][\"value\"]\n",
    "                return instance.replace(\"http://dbpedia.org/resource/\", \"\")\n",
    "            else:\n",
    "                return None\n",
    "        \n",
    "        except Exception as e:\n",
    "            print(f\"Error: {e}. Retrying after 2 seconds...\")\n",
    "            time.sleep(2)\n",
    "            get_instance_from_dbpedia(wikidata_id)\n",
    "\n",
    "def get_correct_wikidata_ids(instances_with_multiple_ids):\n",
    "    mapping = {}\n",
    "    total_instances = len(instances_with_multiple_ids)\n",
    "    \n",
    "    with tqdm(total=total_instances, desc='Processing Instances') as pbar:\n",
    "        for (subclass, instance), ids in instances_with_multiple_ids.items():\n",
    "            if len(ids) <= 5:\n",
    "                for wikidata_id in ids:\n",
    "                    name = get_instance_from_dbpedia(wikidata_id)\n",
    "                    if instance == name:\n",
    "                        mapping[(subclass, instance)] = wikidata_id\n",
    "                        break\n",
    "            else: \n",
    "                mapping[(subclass, instance)] = None\n",
    "            pbar.update(1)\n",
    "                \n",
    "    return mapping\n",
    "\n",
    "# Example usage:\n",
    "# Assuming `instances_with_multiple_ids` is defined somewhere\n",
    "# wikidata_mapping = get_correct_wikidata_ids(instances_with_multiple_ids)"
   ]
  },
  {
   "cell_type": "code",
   "execution_count": 20,
   "id": "755d069d-b8b3-4f70-80d5-2bcd49443c93",
   "metadata": {
    "tags": []
   },
   "outputs": [],
   "source": [
    "# wikidata_mapping = get_correct_wikidata_ids(instances_with_multiple_ids)"
   ]
  },
  {
   "cell_type": "code",
   "execution_count": 21,
   "id": "768ce6de-e561-45bd-b123-173ec464c602",
   "metadata": {},
   "outputs": [],
   "source": [
    "# wikidata_mapping"
   ]
  },
  {
   "cell_type": "code",
   "execution_count": 22,
   "id": "b4ed4a3a-23f2-466d-b605-eaf5965c3f75",
   "metadata": {
    "tags": []
   },
   "outputs": [],
   "source": [
    "# # Specify the path where you want to save the pickle file\n",
    "# file_path = \"wikidata_mapping.pkl\"\n",
    "\n",
    "# # Open the file in write-binary mode and save the dictionary\n",
    "# with open(file_path, 'wb') as file:\n",
    "#     pickle.dump(wikidata_mapping, file)\n",
    "\n",
    "# print(\"Dictionary saved to file using pickle.\")"
   ]
  },
  {
   "cell_type": "code",
   "execution_count": 23,
   "id": "9c71a51f-414b-4ccc-93c2-a92f91aad957",
   "metadata": {
    "tags": []
   },
   "outputs": [
    {
     "name": "stdout",
     "output_type": "stream",
     "text": [
      "Dictionary loaded from file using pickle.\n"
     ]
    }
   ],
   "source": [
    "# # Specify the path of the file you want to read\n",
    "file_path = \"wikidata_mapping.pkl\"\n",
    "\n",
    "# Open the file in read-binary mode and load the dictionary\n",
    "with open(file_path, 'rb') as file:\n",
    "    wikidata_mapping = pickle.load(file)\n",
    "\n",
    "print(\"Dictionary loaded from file using pickle.\")"
   ]
  },
  {
   "cell_type": "code",
   "execution_count": 24,
   "id": "6ebd2c3e-d006-4e83-a808-cc2ba9adca15",
   "metadata": {
    "tags": []
   },
   "outputs": [
    {
     "data": {
      "text/plain": [
       "31641"
      ]
     },
     "execution_count": 24,
     "metadata": {},
     "output_type": "execute_result"
    }
   ],
   "source": [
    "df2['wikiDataID'].duplicated().sum()"
   ]
  },
  {
   "cell_type": "code",
   "execution_count": 25,
   "id": "23f81eab-8571-4192-8732-2858e881e521",
   "metadata": {
    "tags": []
   },
   "outputs": [
    {
     "name": "stdout",
     "output_type": "stream",
     "text": [
      "Updated df2 with Correct WikiDataID:\n"
     ]
    },
    {
     "data": {
      "text/html": [
       "<div>\n",
       "<style scoped>\n",
       "    .dataframe tbody tr th:only-of-type {\n",
       "        vertical-align: middle;\n",
       "    }\n",
       "\n",
       "    .dataframe tbody tr th {\n",
       "        vertical-align: top;\n",
       "    }\n",
       "\n",
       "    .dataframe thead th {\n",
       "        text-align: right;\n",
       "    }\n",
       "</style>\n",
       "<table border=\"1\" class=\"dataframe\">\n",
       "  <thead>\n",
       "    <tr style=\"text-align: right;\">\n",
       "      <th></th>\n",
       "      <th>subclass</th>\n",
       "      <th>instance</th>\n",
       "      <th>gender</th>\n",
       "      <th>age</th>\n",
       "      <th>birthYear</th>\n",
       "      <th>publication_year</th>\n",
       "      <th>wikiDataID</th>\n",
       "    </tr>\n",
       "  </thead>\n",
       "  <tbody>\n",
       "    <tr>\n",
       "      <th>417884</th>\n",
       "      <td>Artist</td>\n",
       "      <td>!PAUS3</td>\n",
       "      <td>male</td>\n",
       "      <td>43</td>\n",
       "      <td>NaN</td>\n",
       "      <td>2011.0</td>\n",
       "      <td>Q3466056</td>\n",
       "    </tr>\n",
       "    <tr>\n",
       "      <th>417885</th>\n",
       "      <td>Artist</td>\n",
       "      <td>$pacely</td>\n",
       "      <td>male</td>\n",
       "      <td>32</td>\n",
       "      <td>NaN</td>\n",
       "      <td>2018.0</td>\n",
       "      <td>Q73507574</td>\n",
       "    </tr>\n",
       "    <tr>\n",
       "      <th>38134</th>\n",
       "      <td>Criminal</td>\n",
       "      <td>%22Baby_Lollipops%22_murder</td>\n",
       "      <td>NaN</td>\n",
       "      <td>63</td>\n",
       "      <td>NaN</td>\n",
       "      <td>2023.0</td>\n",
       "      <td>Q64875934</td>\n",
       "    </tr>\n",
       "    <tr>\n",
       "      <th>417886</th>\n",
       "      <td>Artist</td>\n",
       "      <td>%22Bassy%22_Bob_Brockmann</td>\n",
       "      <td>male</td>\n",
       "      <td>62</td>\n",
       "      <td>NaN</td>\n",
       "      <td>2013.0</td>\n",
       "      <td>Q13416958</td>\n",
       "    </tr>\n",
       "    <tr>\n",
       "      <th>537884</th>\n",
       "      <td>Politician</td>\n",
       "      <td>%22Big%22_Donnie_MacLeod</td>\n",
       "      <td>male</td>\n",
       "      <td>75</td>\n",
       "      <td>NaN</td>\n",
       "      <td>2014.0</td>\n",
       "      <td>Q18645783</td>\n",
       "    </tr>\n",
       "    <tr>\n",
       "      <th>...</th>\n",
       "      <td>...</td>\n",
       "      <td>...</td>\n",
       "      <td>...</td>\n",
       "      <td>...</td>\n",
       "      <td>...</td>\n",
       "      <td>...</td>\n",
       "      <td>...</td>\n",
       "    </tr>\n",
       "    <tr>\n",
       "      <th>102470</th>\n",
       "      <td>Royalty</td>\n",
       "      <td>Ḫarapšili</td>\n",
       "      <td>female</td>\n",
       "      <td>0</td>\n",
       "      <td>NaN</td>\n",
       "      <td>2012.0</td>\n",
       "      <td>Q742087</td>\n",
       "    </tr>\n",
       "    <tr>\n",
       "      <th>102471</th>\n",
       "      <td>Royalty</td>\n",
       "      <td>Ḫattušili_III</td>\n",
       "      <td>male</td>\n",
       "      <td>0</td>\n",
       "      <td>NaN</td>\n",
       "      <td>2004.0</td>\n",
       "      <td>Q297588</td>\n",
       "    </tr>\n",
       "    <tr>\n",
       "      <th>26705</th>\n",
       "      <td>Religious</td>\n",
       "      <td>Ṭhānissaro_Bhikkhu</td>\n",
       "      <td>male</td>\n",
       "      <td>75</td>\n",
       "      <td>NaN</td>\n",
       "      <td>2006.0</td>\n",
       "      <td>Q7710407</td>\n",
       "    </tr>\n",
       "    <tr>\n",
       "      <th>102472</th>\n",
       "      <td>Royalty</td>\n",
       "      <td>Ỷ_Lan</td>\n",
       "      <td>female</td>\n",
       "      <td>0</td>\n",
       "      <td>NaN</td>\n",
       "      <td>2010.0</td>\n",
       "      <td>Q10843033</td>\n",
       "    </tr>\n",
       "    <tr>\n",
       "      <th>102473</th>\n",
       "      <td>Royalty</td>\n",
       "      <td>‘Ulayya_bint_al-Mahdī</td>\n",
       "      <td>NaN</td>\n",
       "      <td>0</td>\n",
       "      <td>NaN</td>\n",
       "      <td>2019.0</td>\n",
       "      <td>NaN</td>\n",
       "    </tr>\n",
       "  </tbody>\n",
       "</table>\n",
       "<p>791004 rows × 7 columns</p>\n",
       "</div>"
      ],
      "text/plain": [
       "          subclass                     instance  gender  age  birthYear  \\\n",
       "417884      Artist                       !PAUS3    male   43        NaN   \n",
       "417885      Artist                      $pacely    male   32        NaN   \n",
       "38134     Criminal  %22Baby_Lollipops%22_murder     NaN   63        NaN   \n",
       "417886      Artist    %22Bassy%22_Bob_Brockmann    male   62        NaN   \n",
       "537884  Politician     %22Big%22_Donnie_MacLeod    male   75        NaN   \n",
       "...            ...                          ...     ...  ...        ...   \n",
       "102470     Royalty                    Ḫarapšili  female    0        NaN   \n",
       "102471     Royalty                Ḫattušili_III    male    0        NaN   \n",
       "26705    Religious           Ṭhānissaro_Bhikkhu    male   75        NaN   \n",
       "102472     Royalty                        Ỷ_Lan  female    0        NaN   \n",
       "102473     Royalty        ‘Ulayya_bint_al-Mahdī     NaN    0        NaN   \n",
       "\n",
       "        publication_year wikiDataID  \n",
       "417884            2011.0   Q3466056  \n",
       "417885            2018.0  Q73507574  \n",
       "38134             2023.0  Q64875934  \n",
       "417886            2013.0  Q13416958  \n",
       "537884            2014.0  Q18645783  \n",
       "...                  ...        ...  \n",
       "102470            2012.0    Q742087  \n",
       "102471            2004.0    Q297588  \n",
       "26705             2006.0   Q7710407  \n",
       "102472            2010.0  Q10843033  \n",
       "102473            2019.0        NaN  \n",
       "\n",
       "[791004 rows x 7 columns]"
      ]
     },
     "execution_count": 25,
     "metadata": {},
     "output_type": "execute_result"
    }
   ],
   "source": [
    "# Define function to get the correct wikiDataID from the mapping\n",
    "def get_correct_wikidata_id(row, mapping):\n",
    "    key = (row['subclass'], row['instance'])\n",
    "    return mapping.get(key, row['wikiDataID'])  # Fallback to the original wikiDataID if no mapping is found\n",
    "\n",
    "# Update df2 with the correct wikiDataID\n",
    "df2['correct_wikiDataID'] = df2.apply(lambda row: get_correct_wikidata_id(row, wikidata_mapping), axis=1)\n",
    "\n",
    "# Drop the old wikiDataID column and rename new column\n",
    "df2 = df2.drop(columns='wikiDataID')\n",
    "df2 = df2.rename(columns={'correct_wikiDataID': 'wikiDataID'})\n",
    "\n",
    "print(\"Updated df2 with Correct WikiDataID:\")\n",
    "df2"
   ]
  },
  {
   "cell_type": "code",
   "execution_count": 26,
   "id": "cc784808-b121-4b5f-97b1-0597492deaf5",
   "metadata": {
    "tags": []
   },
   "outputs": [
    {
     "data": {
      "text/plain": [
       "31578"
      ]
     },
     "execution_count": 26,
     "metadata": {},
     "output_type": "execute_result"
    }
   ],
   "source": [
    "df2['wikiDataID'].duplicated().sum()"
   ]
  },
  {
   "cell_type": "code",
   "execution_count": 27,
   "id": "81f55a1a-1b8e-4621-a457-d20721e8dca6",
   "metadata": {
    "tags": []
   },
   "outputs": [],
   "source": [
    "#### Initial combined dataset (without prerpocessing/cleaning)\n",
    "# df1.to_csv(f\"tryfinal.csv\", index=False)"
   ]
  },
  {
   "cell_type": "markdown",
   "id": "f4582051-f24a-464f-9d00-dfd9047c0b41",
   "metadata": {},
   "source": [
    "## 2) Handling Missing Data "
   ]
  },
  {
   "cell_type": "markdown",
   "id": "296cd241-2449-4ef0-8d40-5f2bc58d0eef",
   "metadata": {},
   "source": [
    "<strong> Identify the Number of Missing Values </strong>"
   ]
  },
  {
   "cell_type": "code",
   "execution_count": 28,
   "id": "c6b14561-5b08-45fc-b7ac-2c3721e3e9a8",
   "metadata": {
    "tags": []
   },
   "outputs": [
    {
     "data": {
      "text/plain": [
       "subclass                 0\n",
       "instance                 0\n",
       "gender               47810\n",
       "age                      0\n",
       "birthYear           548617\n",
       "publication_year     21780\n",
       "wikiDataID           30995\n",
       "dtype: int64"
      ]
     },
     "execution_count": 28,
     "metadata": {},
     "output_type": "execute_result"
    }
   ],
   "source": [
    "df2.isna().sum()"
   ]
  },
  {
   "cell_type": "markdown",
   "id": "95723505-259d-4aca-8cbc-3c88412fac2e",
   "metadata": {},
   "source": [
    "#### 2.1 Missing Data: Gender Column"
   ]
  },
  {
   "cell_type": "code",
   "execution_count": 29,
   "id": "aec6aee7-3905-4b3d-af95-e275fdae06be",
   "metadata": {
    "tags": []
   },
   "outputs": [
    {
     "data": {
      "text/plain": [
       "count     743194\n",
       "unique        52\n",
       "top         male\n",
       "freq      615154\n",
       "Name: gender, dtype: object"
      ]
     },
     "execution_count": 29,
     "metadata": {},
     "output_type": "execute_result"
    }
   ],
   "source": [
    "# summarization of Culmen length (mm) before imputation\n",
    "df2[\"gender\"].describe()"
   ]
  },
  {
   "cell_type": "code",
   "execution_count": 30,
   "id": "4e47529d-b957-4a23-99d7-fe8e7b582167",
   "metadata": {
    "tags": []
   },
   "outputs": [
    {
     "data": {
      "text/plain": [
       "male                                                                          615154\n",
       "female                                                                        127442\n",
       "trans woman                                                                      225\n",
       "non-binary                                                                       158\n",
       "trans man                                                                         54\n",
       "male organism                                                                     30\n",
       "genderfluid                                                                       17\n",
       "eunuch                                                                            16\n",
       "intersex woman                                                                    15\n",
       "intersex man                                                                      10\n",
       "genderqueer                                                                        7\n",
       "transgender                                                                        7\n",
       "intersex                                                                           6\n",
       "two-spirit                                                                         5\n",
       "transmasculine                                                                     4\n",
       "agender                                                                            4\n",
       "female organism                                                                    4\n",
       "cisgender woman                                                                    2\n",
       "androgynos                                                                         1\n",
       "http://www.wikidata.org/.well-known/genid/9c0b5bebce2d1bff63aa0763b1fa19db         1\n",
       "http://www.wikidata.org/.well-known/genid/7ef2d131e7c47832a556029bb0923d58         1\n",
       "bigender                                                                           1\n",
       "http://www.wikidata.org/.well-known/genid/ab5d4aedd9ba034e73160849ee80afed         1\n",
       "http://www.wikidata.org/.well-known/genid/ae33a05c57f8e7ff5d41b023e32b26c1         1\n",
       "cisgender man                                                                      1\n",
       "http://www.wikidata.org/.well-known/genid/ebbbd6599c004380043ea866fa33bab6         1\n",
       "http://www.wikidata.org/.well-known/genid/ed55392f46b48a8d4e291ef9180e510e         1\n",
       "http://www.wikidata.org/.well-known/genid/e3af423ca25239afdec4fdeefa52f34d         1\n",
       "travesti                                                                           1\n",
       "http://www.wikidata.org/.well-known/genid/393a5bdab2ad4c66773c0a21f70419c0         1\n",
       "http://www.wikidata.org/.well-known/genid/c81a0c81e2ff8efef355d9a5064e4bdc         1\n",
       "http://www.wikidata.org/.well-known/genid/9f8243585ab30773bfe29ba80268e985         1\n",
       "http://www.wikidata.org/.well-known/genid/ed31a0d505571ff0c8615201fa02616f         1\n",
       "http://www.wikidata.org/.well-known/genid/dcd4088849cc1d204d645b67b3008c7a         1\n",
       "http://www.wikidata.org/.well-known/genid/c456c9c8f2aadd0bd06995d9ada0e62a         1\n",
       "http://www.wikidata.org/.well-known/genid/abb37c6d8954c035e73eca8056d58b38         1\n",
       "http://www.wikidata.org/.well-known/genid/874bf8334c4aab0d6cfd74a4932f5098         1\n",
       "http://www.wikidata.org/.well-known/genid/ec27199998276ba57f7e22b3a24d39bf         1\n",
       "http://www.wikidata.org/.well-known/genid/e288f64435fcd74a0889d64ba9b4dc1d         1\n",
       "faʻafafine                                                                         1\n",
       "undisclosed gender                                                                 1\n",
       "http://www.wikidata.org/.well-known/genid/4c6b1394f262a4df9db43434980688a2         1\n",
       "http://www.wikidata.org/.well-known/genid/a74c7cebeef6b8b0f8db0348aeac2066         1\n",
       "http://www.wikidata.org/.well-known/genid/d27735d84edf04c8d57d567a4d20c85e         1\n",
       "http://www.wikidata.org/.well-known/genid/1bc67f47860f3afd835d8d218683587e         1\n",
       "http://www.wikidata.org/.well-known/genid/3dfdf04289b25e8387ff90360c1dd060         1\n",
       "http://www.wikidata.org/.well-known/genid/9d3887ab4b162fd91759804f70454f73         1\n",
       "http://www.wikidata.org/.well-known/genid/fff7757c92d3ed448966f80f6f0acaaf         1\n",
       "http://www.wikidata.org/.well-known/genid/d33b6fa8eb65aeffdf0b5bfa826edebd         1\n",
       "http://www.wikidata.org/.well-known/genid/049933859592216ef357052e54bfdeb3         1\n",
       "http://www.wikidata.org/.well-known/genid/edf1b1d1846916eb2c9aaec5da866e29         1\n",
       "http://www.wikidata.org/.well-known/genid/508662fab59938313a4eba0de5f03e17         1\n",
       "Name: gender, dtype: int64"
      ]
     },
     "execution_count": 30,
     "metadata": {},
     "output_type": "execute_result"
    }
   ],
   "source": [
    "gender_distribution_count = df2[\"gender\"].value_counts()\n",
    "gender_distribution_count"
   ]
  },
  {
   "cell_type": "markdown",
   "id": "0535c5b2-f428-41e2-b7ed-8ce21657a57a",
   "metadata": {},
   "source": [
    "There are 52 unique values for the gender column, with male being the majority gender for the instances. There are also 53,078 instances that are not assigned to a gender which we need to handle later. There are also some unwanted values that can be seem to be starting with a common link which is \"http://www.wikidata.org/.well-known/genid\". We will start by replacing those values (associated to 28 rows) with null before deciding what to do with the null values "
   ]
  },
  {
   "cell_type": "code",
   "execution_count": 31,
   "id": "895c8900-a1bd-499e-b597-96f955e7e703",
   "metadata": {
    "tags": []
   },
   "outputs": [
    {
     "data": {
      "text/plain": [
       "28"
      ]
     },
     "execution_count": 31,
     "metadata": {},
     "output_type": "execute_result"
    }
   ],
   "source": [
    "# Replace NaN values with an empty string temporarily\n",
    "s1 = df2['gender'].fillna('')\n",
    "\n",
    "# Create a boolean mask for unwanted gender values\n",
    "unwanted_gender_mask = s1.str.contains('http://www.wikidata.org/.well-known/genid', regex=False)\n",
    "\n",
    "# Count the unwanted gender values\n",
    "unwanted_gender_count = unwanted_gender_mask.sum()\n",
    "\n",
    "# Replace unwanted gender values with NaN\n",
    "df2.loc[unwanted_gender_mask, 'gender'] = np.nan\n",
    "\n",
    "# Output the count of unwanted gender values\n",
    "unwanted_gender_count"
   ]
  },
  {
   "cell_type": "code",
   "execution_count": 32,
   "id": "57cf990a-3959-4f8f-85f1-274c3b6b9a7a",
   "metadata": {
    "tags": []
   },
   "outputs": [
    {
     "data": {
      "text/plain": [
       "male                  615154\n",
       "female                127442\n",
       "trans woman              225\n",
       "non-binary               158\n",
       "trans man                 54\n",
       "male organism             30\n",
       "genderfluid               17\n",
       "eunuch                    16\n",
       "intersex woman            15\n",
       "intersex man              10\n",
       "transgender                7\n",
       "genderqueer                7\n",
       "intersex                   6\n",
       "two-spirit                 5\n",
       "female organism            4\n",
       "agender                    4\n",
       "transmasculine             4\n",
       "cisgender woman            2\n",
       "androgynos                 1\n",
       "bigender                   1\n",
       "travesti                   1\n",
       "cisgender man              1\n",
       "faʻafafine                 1\n",
       "undisclosed gender         1\n",
       "Name: gender, dtype: int64"
      ]
     },
     "execution_count": 32,
     "metadata": {},
     "output_type": "execute_result"
    }
   ],
   "source": [
    "gender_distribution_count = df2[\"gender\"].value_counts()\n",
    "gender_distribution_count"
   ]
  },
  {
   "cell_type": "code",
   "execution_count": 33,
   "id": "d312422e-e537-4c73-a69e-efffa26df97a",
   "metadata": {
    "tags": []
   },
   "outputs": [
    {
     "data": {
      "text/plain": [
       "count     743166\n",
       "unique        24\n",
       "top         male\n",
       "freq      615154\n",
       "Name: gender, dtype: object"
      ]
     },
     "execution_count": 33,
     "metadata": {},
     "output_type": "execute_result"
    }
   ],
   "source": [
    "# summarization of Culmen length (mm) before imputation\n",
    "df2[\"gender\"].describe()"
   ]
  },
  {
   "cell_type": "code",
   "execution_count": 34,
   "id": "c1f1fee4-b166-4fa3-aafc-6d8aa2759357",
   "metadata": {
    "tags": []
   },
   "outputs": [
    {
     "data": {
      "text/plain": [
       "51984"
      ]
     },
     "execution_count": 34,
     "metadata": {},
     "output_type": "execute_result"
    }
   ],
   "source": [
    "df1['gender'].isna().sum()"
   ]
  },
  {
   "cell_type": "markdown",
   "id": "d098dd30-d7aa-4668-90b4-1d731b50fe03",
   "metadata": {},
   "source": [
    "#### 2.2 Missing Data: Age Column"
   ]
  },
  {
   "cell_type": "markdown",
   "id": "30b2a563-eb6f-4493-9f91-835212502160",
   "metadata": {},
   "source": [
    "There age column should not have any missing values. However, we will check if the age values make sense."
   ]
  },
  {
   "cell_type": "code",
   "execution_count": 35,
   "id": "737d3b7a-b414-423d-b3c0-e93285d5760f",
   "metadata": {
    "tags": []
   },
   "outputs": [
    {
     "data": {
      "text/plain": [
       "count    791004.000000\n",
       "mean         36.583676\n",
       "std          80.368008\n",
       "min       -3395.000000\n",
       "25%           0.000000\n",
       "50%          44.000000\n",
       "75%          70.000000\n",
       "max        4431.000000\n",
       "Name: age, dtype: float64"
      ]
     },
     "execution_count": 35,
     "metadata": {},
     "output_type": "execute_result"
    }
   ],
   "source": [
    "df2['age'].describe()"
   ]
  },
  {
   "cell_type": "markdown",
   "id": "2fc62a1d-693b-4f0a-94c5-8fe8292080b4",
   "metadata": {},
   "source": [
    "We can see that the minimum value for age is -3395 which is not possible in the real world. Thus, we will inspect further and get all rows with age less than and equal to 0."
   ]
  },
  {
   "cell_type": "code",
   "execution_count": 36,
   "id": "607deb2f-642f-4977-b10a-a853e4f725a7",
   "metadata": {
    "tags": []
   },
   "outputs": [
    {
     "data": {
      "text/html": [
       "<div>\n",
       "<style scoped>\n",
       "    .dataframe tbody tr th:only-of-type {\n",
       "        vertical-align: middle;\n",
       "    }\n",
       "\n",
       "    .dataframe tbody tr th {\n",
       "        vertical-align: top;\n",
       "    }\n",
       "\n",
       "    .dataframe thead th {\n",
       "        text-align: right;\n",
       "    }\n",
       "</style>\n",
       "<table border=\"1\" class=\"dataframe\">\n",
       "  <thead>\n",
       "    <tr style=\"text-align: right;\">\n",
       "      <th></th>\n",
       "      <th>subclass</th>\n",
       "      <th>instance</th>\n",
       "      <th>gender</th>\n",
       "      <th>age</th>\n",
       "      <th>birthYear</th>\n",
       "      <th>publication_year</th>\n",
       "      <th>wikiDataID</th>\n",
       "    </tr>\n",
       "  </thead>\n",
       "  <tbody>\n",
       "    <tr>\n",
       "      <th>537885</th>\n",
       "      <td>Politician</td>\n",
       "      <td>%22Bulldog%22_Ben_Robinson</td>\n",
       "      <td>male</td>\n",
       "      <td>0</td>\n",
       "      <td>NaN</td>\n",
       "      <td>2022.0</td>\n",
       "      <td>Q112440117</td>\n",
       "    </tr>\n",
       "    <tr>\n",
       "      <th>417888</th>\n",
       "      <td>Artist</td>\n",
       "      <td>%22Frantic%22_Fay_Thomas</td>\n",
       "      <td>female</td>\n",
       "      <td>-46</td>\n",
       "      <td>NaN</td>\n",
       "      <td>2020.0</td>\n",
       "      <td>Q101445578</td>\n",
       "    </tr>\n",
       "    <tr>\n",
       "      <th>161666</th>\n",
       "      <td>MilitaryPerson</td>\n",
       "      <td>%60Adnan_%60Uqla</td>\n",
       "      <td>NaN</td>\n",
       "      <td>0</td>\n",
       "      <td>NaN</td>\n",
       "      <td>2019.0</td>\n",
       "      <td>NaN</td>\n",
       "    </tr>\n",
       "    <tr>\n",
       "      <th>347884</th>\n",
       "      <td>OfficeHolder</td>\n",
       "      <td>''Congregatio_Immaculati_Cordis_Mariae''</td>\n",
       "      <td>NaN</td>\n",
       "      <td>0</td>\n",
       "      <td>NaN</td>\n",
       "      <td>NaN</td>\n",
       "      <td>NaN</td>\n",
       "    </tr>\n",
       "    <tr>\n",
       "      <th>74738</th>\n",
       "      <td>Royalty</td>\n",
       "      <td>'Abd_Allah_II_ibn_'Ali_'Abd_ash-Shakur</td>\n",
       "      <td>male</td>\n",
       "      <td>0</td>\n",
       "      <td>NaN</td>\n",
       "      <td>2005.0</td>\n",
       "      <td>Q2820897</td>\n",
       "    </tr>\n",
       "    <tr>\n",
       "      <th>...</th>\n",
       "      <td>...</td>\n",
       "      <td>...</td>\n",
       "      <td>...</td>\n",
       "      <td>...</td>\n",
       "      <td>...</td>\n",
       "      <td>...</td>\n",
       "      <td>...</td>\n",
       "    </tr>\n",
       "    <tr>\n",
       "      <th>27093</th>\n",
       "      <td>Religious</td>\n",
       "      <td>Ḥayyim_Yitzḥak_Mussafia</td>\n",
       "      <td>male</td>\n",
       "      <td>0</td>\n",
       "      <td>NaN</td>\n",
       "      <td>2020.0</td>\n",
       "      <td>Q104528636</td>\n",
       "    </tr>\n",
       "    <tr>\n",
       "      <th>102470</th>\n",
       "      <td>Royalty</td>\n",
       "      <td>Ḫarapšili</td>\n",
       "      <td>female</td>\n",
       "      <td>0</td>\n",
       "      <td>NaN</td>\n",
       "      <td>2012.0</td>\n",
       "      <td>Q742087</td>\n",
       "    </tr>\n",
       "    <tr>\n",
       "      <th>102471</th>\n",
       "      <td>Royalty</td>\n",
       "      <td>Ḫattušili_III</td>\n",
       "      <td>male</td>\n",
       "      <td>0</td>\n",
       "      <td>NaN</td>\n",
       "      <td>2004.0</td>\n",
       "      <td>Q297588</td>\n",
       "    </tr>\n",
       "    <tr>\n",
       "      <th>102472</th>\n",
       "      <td>Royalty</td>\n",
       "      <td>Ỷ_Lan</td>\n",
       "      <td>female</td>\n",
       "      <td>0</td>\n",
       "      <td>NaN</td>\n",
       "      <td>2010.0</td>\n",
       "      <td>Q10843033</td>\n",
       "    </tr>\n",
       "    <tr>\n",
       "      <th>102473</th>\n",
       "      <td>Royalty</td>\n",
       "      <td>‘Ulayya_bint_al-Mahdī</td>\n",
       "      <td>NaN</td>\n",
       "      <td>0</td>\n",
       "      <td>NaN</td>\n",
       "      <td>2019.0</td>\n",
       "      <td>NaN</td>\n",
       "    </tr>\n",
       "  </tbody>\n",
       "</table>\n",
       "<p>237923 rows × 7 columns</p>\n",
       "</div>"
      ],
      "text/plain": [
       "              subclass                                  instance  gender  age  \\\n",
       "537885      Politician                %22Bulldog%22_Ben_Robinson    male    0   \n",
       "417888          Artist                  %22Frantic%22_Fay_Thomas  female  -46   \n",
       "161666  MilitaryPerson                          %60Adnan_%60Uqla     NaN    0   \n",
       "347884    OfficeHolder  ''Congregatio_Immaculati_Cordis_Mariae''     NaN    0   \n",
       "74738          Royalty    'Abd_Allah_II_ibn_'Ali_'Abd_ash-Shakur    male    0   \n",
       "...                ...                                       ...     ...  ...   \n",
       "27093        Religious                   Ḥayyim_Yitzḥak_Mussafia    male    0   \n",
       "102470         Royalty                                 Ḫarapšili  female    0   \n",
       "102471         Royalty                             Ḫattušili_III    male    0   \n",
       "102472         Royalty                                     Ỷ_Lan  female    0   \n",
       "102473         Royalty                     ‘Ulayya_bint_al-Mahdī     NaN    0   \n",
       "\n",
       "        birthYear  publication_year  wikiDataID  \n",
       "537885        NaN            2022.0  Q112440117  \n",
       "417888        NaN            2020.0  Q101445578  \n",
       "161666        NaN            2019.0         NaN  \n",
       "347884        NaN               NaN         NaN  \n",
       "74738         NaN            2005.0    Q2820897  \n",
       "...           ...               ...         ...  \n",
       "27093         NaN            2020.0  Q104528636  \n",
       "102470        NaN            2012.0     Q742087  \n",
       "102471        NaN            2004.0     Q297588  \n",
       "102472        NaN            2010.0   Q10843033  \n",
       "102473        NaN            2019.0         NaN  \n",
       "\n",
       "[237923 rows x 7 columns]"
      ]
     },
     "execution_count": 36,
     "metadata": {},
     "output_type": "execute_result"
    }
   ],
   "source": [
    "df2.loc[df2['age'] <= 0] "
   ]
  },
  {
   "cell_type": "markdown",
   "id": "3c3cf0ac-233c-4c39-b996-a16ab9c0790f",
   "metadata": {},
   "source": [
    "There are 276,088 rows with age <= 0. We could try using the wikidata api to retrieve the value for age since we have only used dbpedia to retrieve the age before. To do that, we still need the wikiDataID of the instances. Thus, we will make sure that majority of the instances with age<=0 does have wikiDataID as some of them might have null values."
   ]
  },
  {
   "cell_type": "code",
   "execution_count": 37,
   "id": "4f74edaf-e83a-4ad6-ae7a-c8e967873164",
   "metadata": {
    "tags": []
   },
   "outputs": [
    {
     "data": {
      "text/html": [
       "<div>\n",
       "<style scoped>\n",
       "    .dataframe tbody tr th:only-of-type {\n",
       "        vertical-align: middle;\n",
       "    }\n",
       "\n",
       "    .dataframe tbody tr th {\n",
       "        vertical-align: top;\n",
       "    }\n",
       "\n",
       "    .dataframe thead th {\n",
       "        text-align: right;\n",
       "    }\n",
       "</style>\n",
       "<table border=\"1\" class=\"dataframe\">\n",
       "  <thead>\n",
       "    <tr style=\"text-align: right;\">\n",
       "      <th></th>\n",
       "      <th>subclass</th>\n",
       "      <th>instance</th>\n",
       "      <th>gender</th>\n",
       "      <th>age</th>\n",
       "      <th>birthYear</th>\n",
       "      <th>publication_year</th>\n",
       "      <th>wikiDataID</th>\n",
       "    </tr>\n",
       "  </thead>\n",
       "  <tbody>\n",
       "    <tr>\n",
       "      <th>161666</th>\n",
       "      <td>MilitaryPerson</td>\n",
       "      <td>%60Adnan_%60Uqla</td>\n",
       "      <td>NaN</td>\n",
       "      <td>0</td>\n",
       "      <td>NaN</td>\n",
       "      <td>2019.0</td>\n",
       "      <td>NaN</td>\n",
       "    </tr>\n",
       "    <tr>\n",
       "      <th>347884</th>\n",
       "      <td>OfficeHolder</td>\n",
       "      <td>''Congregatio_Immaculati_Cordis_Mariae''</td>\n",
       "      <td>NaN</td>\n",
       "      <td>0</td>\n",
       "      <td>NaN</td>\n",
       "      <td>NaN</td>\n",
       "      <td>NaN</td>\n",
       "    </tr>\n",
       "    <tr>\n",
       "      <th>26240</th>\n",
       "      <td>Philosopher</td>\n",
       "      <td>'Abd_al-Haqq_al-Dehlawi__1</td>\n",
       "      <td>NaN</td>\n",
       "      <td>0</td>\n",
       "      <td>NaN</td>\n",
       "      <td>NaN</td>\n",
       "      <td>NaN</td>\n",
       "    </tr>\n",
       "    <tr>\n",
       "      <th>161667</th>\n",
       "      <td>MilitaryPerson</td>\n",
       "      <td>'Ali_ibn_Aban_al-Muhallabi</td>\n",
       "      <td>NaN</td>\n",
       "      <td>0</td>\n",
       "      <td>NaN</td>\n",
       "      <td>NaN</td>\n",
       "      <td>NaN</td>\n",
       "    </tr>\n",
       "    <tr>\n",
       "      <th>161668</th>\n",
       "      <td>MilitaryPerson</td>\n",
       "      <td>'Ali_ibn_Muhammad_(Zanj_leader)</td>\n",
       "      <td>NaN</td>\n",
       "      <td>0</td>\n",
       "      <td>NaN</td>\n",
       "      <td>NaN</td>\n",
       "      <td>NaN</td>\n",
       "    </tr>\n",
       "    <tr>\n",
       "      <th>...</th>\n",
       "      <td>...</td>\n",
       "      <td>...</td>\n",
       "      <td>...</td>\n",
       "      <td>...</td>\n",
       "      <td>...</td>\n",
       "      <td>...</td>\n",
       "      <td>...</td>\n",
       "    </tr>\n",
       "    <tr>\n",
       "      <th>102435</th>\n",
       "      <td>Royalty</td>\n",
       "      <td>Şehzade_Sultan</td>\n",
       "      <td>NaN</td>\n",
       "      <td>0</td>\n",
       "      <td>NaN</td>\n",
       "      <td>NaN</td>\n",
       "      <td>NaN</td>\n",
       "    </tr>\n",
       "    <tr>\n",
       "      <th>102441</th>\n",
       "      <td>Royalty</td>\n",
       "      <td>Şemsiruhsar_Hatun</td>\n",
       "      <td>NaN</td>\n",
       "      <td>0</td>\n",
       "      <td>NaN</td>\n",
       "      <td>2014.0</td>\n",
       "      <td>NaN</td>\n",
       "    </tr>\n",
       "    <tr>\n",
       "      <th>217870</th>\n",
       "      <td>MilitaryPerson</td>\n",
       "      <td>Žanis_Bļumbergs</td>\n",
       "      <td>NaN</td>\n",
       "      <td>0</td>\n",
       "      <td>NaN</td>\n",
       "      <td>2020.0</td>\n",
       "      <td>NaN</td>\n",
       "    </tr>\n",
       "    <tr>\n",
       "      <th>217874</th>\n",
       "      <td>MilitaryPerson</td>\n",
       "      <td>Željko_Ražnatović</td>\n",
       "      <td>NaN</td>\n",
       "      <td>0</td>\n",
       "      <td>NaN</td>\n",
       "      <td>2020.0</td>\n",
       "      <td>NaN</td>\n",
       "    </tr>\n",
       "    <tr>\n",
       "      <th>102473</th>\n",
       "      <td>Royalty</td>\n",
       "      <td>‘Ulayya_bint_al-Mahdī</td>\n",
       "      <td>NaN</td>\n",
       "      <td>0</td>\n",
       "      <td>NaN</td>\n",
       "      <td>2019.0</td>\n",
       "      <td>NaN</td>\n",
       "    </tr>\n",
       "  </tbody>\n",
       "</table>\n",
       "<p>24753 rows × 7 columns</p>\n",
       "</div>"
      ],
      "text/plain": [
       "              subclass                                  instance gender  age  \\\n",
       "161666  MilitaryPerson                          %60Adnan_%60Uqla    NaN    0   \n",
       "347884    OfficeHolder  ''Congregatio_Immaculati_Cordis_Mariae''    NaN    0   \n",
       "26240      Philosopher                'Abd_al-Haqq_al-Dehlawi__1    NaN    0   \n",
       "161667  MilitaryPerson                'Ali_ibn_Aban_al-Muhallabi    NaN    0   \n",
       "161668  MilitaryPerson           'Ali_ibn_Muhammad_(Zanj_leader)    NaN    0   \n",
       "...                ...                                       ...    ...  ...   \n",
       "102435         Royalty                            Şehzade_Sultan    NaN    0   \n",
       "102441         Royalty                         Şemsiruhsar_Hatun    NaN    0   \n",
       "217870  MilitaryPerson                           Žanis_Bļumbergs    NaN    0   \n",
       "217874  MilitaryPerson                         Željko_Ražnatović    NaN    0   \n",
       "102473         Royalty                     ‘Ulayya_bint_al-Mahdī    NaN    0   \n",
       "\n",
       "        birthYear  publication_year wikiDataID  \n",
       "161666        NaN            2019.0        NaN  \n",
       "347884        NaN               NaN        NaN  \n",
       "26240         NaN               NaN        NaN  \n",
       "161667        NaN               NaN        NaN  \n",
       "161668        NaN               NaN        NaN  \n",
       "...           ...               ...        ...  \n",
       "102435        NaN               NaN        NaN  \n",
       "102441        NaN            2014.0        NaN  \n",
       "217870        NaN            2020.0        NaN  \n",
       "217874        NaN            2020.0        NaN  \n",
       "102473        NaN            2019.0        NaN  \n",
       "\n",
       "[24753 rows x 7 columns]"
      ]
     },
     "execution_count": 37,
     "metadata": {},
     "output_type": "execute_result"
    }
   ],
   "source": [
    "df2.loc[((df2['age'] <= 0) & (df2['wikiDataID'].isna()))]"
   ]
  },
  {
   "cell_type": "code",
   "execution_count": 95,
   "id": "b799aa34-76f3-4b2e-8523-cb060fe0802c",
   "metadata": {
    "tags": []
   },
   "outputs": [
    {
     "data": {
      "text/plain": [
       "213170"
      ]
     },
     "execution_count": 95,
     "metadata": {},
     "output_type": "execute_result"
    }
   ],
   "source": [
    "wrong_age_subset = df2.loc[((df2['age'] <= 0) & (df2['wikiDataID'].notna())), ['instance', 'wikiDataID', 'age']].values.tolist()\n",
    "len(wrong_age_subset)"
   ]
  },
  {
   "cell_type": "markdown",
   "id": "013e6cd9-0948-4e67-bf7a-f0e8180187e2",
   "metadata": {},
   "source": [
    "Out of all 237,923 instances that has age <=0, there are 213,170 instances that have the wikidataID and 24,753 instances without wikidataID. We will try to get the age of those instances with wikidataID as they have more counts. After that, we will decide what to do with those without wikidataID"
   ]
  },
  {
   "cell_type": "code",
   "execution_count": 63,
   "id": "73703ffa-fe87-4dfd-ad06-b067cd001b9c",
   "metadata": {},
   "outputs": [],
   "source": [
    "import time\n",
    "from tqdm import tqdm\n",
    "\n",
    "def get_age_from_wikidata(wikidata_id):\n",
    "    \"\"\"\n",
    "    Fetches the age of an individual from Wikidata using their Wikidata ID.\n",
    "    \n",
    "    Args:\n",
    "        wikidata_id (str): The Wikidata ID of the individual.\n",
    "    \n",
    "    Returns:\n",
    "        int or None: The calculated age if found, otherwise None.\n",
    "    \"\"\"\n",
    "    from SPARQLWrapper import SPARQLWrapper, JSON\n",
    "    \n",
    "    # Initialize the SPARQL wrapper\n",
    "    wikidata_sparql = SPARQLWrapper('https://query.wikidata.org/sparql')\n",
    "\n",
    "    # Define the SPARQL query to get birth and death dates\n",
    "    query = f\"\"\"\n",
    "    SELECT ?birthDate ?deathDate (YEAR(COALESCE(?deathDate, NOW())) - YEAR(?birthDate) AS ?age)\n",
    "    WHERE {{\n",
    "        wd:{wikidata_id} wdt:P569 ?birthDate.  # Date of birth\n",
    "        OPTIONAL {{ wd:{wikidata_id} wdt:P570 ?deathDate. }}  # Date of death (optional)\n",
    "    }}\n",
    "    \"\"\"\n",
    "    \n",
    "    wikidata_sparql.setQuery(query)\n",
    "    wikidata_sparql.setReturnFormat(JSON)\n",
    "    \n",
    "    max_retries = 3\n",
    "    retries = 0\n",
    "\n",
    "    while retries < max_retries:\n",
    "        try:\n",
    "            # Execute the query and fetch results\n",
    "            results = wikidata_sparql.query().convert()\n",
    "            \n",
    "            if results[\"results\"][\"bindings\"]:\n",
    "                # Fetch age from results\n",
    "                age = results[\"results\"][\"bindings\"][0][\"age\"][\"value\"]\n",
    "                return int(age)\n",
    "            else:\n",
    "                return None\n",
    "        \n",
    "        except Exception as e:\n",
    "            print(f\"Error: {e}. Retrying after 2 seconds...\")\n",
    "            retries += 1\n",
    "            time.sleep(3)\n",
    "    \n",
    "    print(\"Max retries reached. Could not fetch data.\")\n",
    "    return None\n",
    "\n",
    "def subset_get_age(wrong_age_subset, log_file=\"processed_instances.txt\"):\n",
    "    mapping = {}\n",
    "    total_instances = len(wrong_age_subset)\n",
    "    \n",
    "    # Read the log file to find already processed instances\n",
    "    processed = set()\n",
    "    try:\n",
    "        with open(log_file, 'r') as f:\n",
    "            for line in f:\n",
    "                instance, wikidata_id, age = line.strip().split('\\t')\n",
    "                processed.add((instance, wikidata_id))\n",
    "                mapping[(instance, wikidata_id)] = int(age)\n",
    "    except FileNotFoundError:\n",
    "        pass\n",
    "    \n",
    "    with tqdm(total=total_instances, desc='Processing Instances') as pbar, open(log_file, 'a') as f:\n",
    "        for instance, wikidata_id, _ in wrong_age_subset:\n",
    "            if (instance, wikidata_id) in processed:\n",
    "                pbar.update(1)\n",
    "                continue\n",
    "            \n",
    "            age = get_age_from_wikidata(wikidata_id)\n",
    "            mapping[(instance, wikidata_id)] = age\n",
    "            \n",
    "            # Log the instance to the file\n",
    "            f.write(f\"{instance}\\t{wikidata_id}\\t{age}\\n\")\n",
    "            f.flush()  # Ensure the data is written to the file immediately\n",
    "            \n",
    "            pbar.update(1)\n",
    "    \n",
    "    return mapping\n",
    "\n",
    "# Example usage:\n",
    "# wrong_age_subset = [(\"Instance1\", \"Q42\", 42), (\"Instance2\", \"Q123\", 36), ...]\n",
    "# subset_get_age(wrong_age_subset)"
   ]
  },
  {
   "cell_type": "code",
   "execution_count": null,
   "id": "832b47f4-ab13-414f-9905-94e1a59fdd66",
   "metadata": {
    "tags": []
   },
   "outputs": [
    {
     "name": "stderr",
     "output_type": "stream",
     "text": [
      "Processing Instances:   0%|          | 8/213170 [00:06<45:29:40,  1.30it/s]"
     ]
    },
    {
     "name": "stdout",
     "output_type": "stream",
     "text": [
      "Error: 'age'. Retrying after 2 seconds...\n",
      "Error: 'age'. Retrying after 2 seconds...\n",
      "Error: 'age'. Retrying after 2 seconds...\n"
     ]
    },
    {
     "name": "stderr",
     "output_type": "stream",
     "text": [
      "Processing Instances:   0%|          | 9/213170 [00:17<225:52:44,  3.81s/it]"
     ]
    },
    {
     "name": "stdout",
     "output_type": "stream",
     "text": [
      "Max retries reached. Could not fetch data.\n"
     ]
    },
    {
     "name": "stderr",
     "output_type": "stream",
     "text": [
      "Processing Instances:   1%|          | 1658/213170 [17:13<43:39:51,  1.35it/s]"
     ]
    },
    {
     "name": "stdout",
     "output_type": "stream",
     "text": [
      "Error: 'age'. Retrying after 2 seconds...\n",
      "Error: 'age'. Retrying after 2 seconds...\n",
      "Error: 'age'. Retrying after 2 seconds...\n"
     ]
    },
    {
     "name": "stderr",
     "output_type": "stream",
     "text": [
      "Processing Instances:   1%|          | 1659/213170 [17:23<216:18:58,  3.68s/it]"
     ]
    },
    {
     "name": "stdout",
     "output_type": "stream",
     "text": [
      "Max retries reached. Could not fetch data.\n"
     ]
    },
    {
     "name": "stderr",
     "output_type": "stream",
     "text": [
      "Processing Instances:   1%|          | 2146/213170 [22:27<35:32:42,  1.65it/s] "
     ]
    },
    {
     "name": "stdout",
     "output_type": "stream",
     "text": [
      "Error: 'age'. Retrying after 2 seconds...\n",
      "Error: 'age'. Retrying after 2 seconds...\n",
      "Error: 'age'. Retrying after 2 seconds...\n"
     ]
    },
    {
     "name": "stderr",
     "output_type": "stream",
     "text": [
      "Processing Instances:   1%|          | 2147/213170 [22:37<202:55:33,  3.46s/it]"
     ]
    },
    {
     "name": "stdout",
     "output_type": "stream",
     "text": [
      "Max retries reached. Could not fetch data.\n"
     ]
    },
    {
     "name": "stderr",
     "output_type": "stream",
     "text": [
      "Processing Instances:   1%|          | 2169/213170 [22:50<36:50:17,  1.59it/s] "
     ]
    },
    {
     "name": "stdout",
     "output_type": "stream",
     "text": [
      "Error: 'age'. Retrying after 2 seconds...\n",
      "Error: 'age'. Retrying after 2 seconds...\n",
      "Error: 'age'. Retrying after 2 seconds...\n"
     ]
    },
    {
     "name": "stderr",
     "output_type": "stream",
     "text": [
      "Processing Instances:   1%|          | 2170/213170 [23:00<203:40:32,  3.48s/it]"
     ]
    },
    {
     "name": "stdout",
     "output_type": "stream",
     "text": [
      "Max retries reached. Could not fetch data.\n"
     ]
    },
    {
     "name": "stderr",
     "output_type": "stream",
     "text": [
      "Processing Instances:   1%|          | 2172/213170 [23:01<115:27:08,  1.97s/it]"
     ]
    },
    {
     "name": "stdout",
     "output_type": "stream",
     "text": [
      "Error: 'age'. Retrying after 2 seconds...\n",
      "Error: 'age'. Retrying after 2 seconds...\n",
      "Error: 'age'. Retrying after 2 seconds...\n"
     ]
    },
    {
     "name": "stderr",
     "output_type": "stream",
     "text": [
      "Processing Instances:   1%|          | 2173/213170 [23:11<265:37:21,  4.53s/it]"
     ]
    },
    {
     "name": "stdout",
     "output_type": "stream",
     "text": [
      "Max retries reached. Could not fetch data.\n"
     ]
    },
    {
     "name": "stderr",
     "output_type": "stream",
     "text": [
      "Processing Instances:   1%|          | 2203/213170 [23:29<30:47:00,  1.90it/s] "
     ]
    },
    {
     "name": "stdout",
     "output_type": "stream",
     "text": [
      "Error: 'age'. Retrying after 2 seconds...\n",
      "Error: 'age'. Retrying after 2 seconds...\n",
      "Error: 'age'. Retrying after 2 seconds...\n"
     ]
    },
    {
     "name": "stderr",
     "output_type": "stream",
     "text": [
      "Processing Instances:   1%|          | 2204/213170 [23:39<199:38:01,  3.41s/it]"
     ]
    },
    {
     "name": "stdout",
     "output_type": "stream",
     "text": [
      "Max retries reached. Could not fetch data.\n"
     ]
    },
    {
     "name": "stderr",
     "output_type": "stream",
     "text": [
      "Processing Instances:   1%|          | 2264/213170 [24:19<38:51:21,  1.51it/s] "
     ]
    },
    {
     "name": "stdout",
     "output_type": "stream",
     "text": [
      "Error: 'age'. Retrying after 2 seconds...\n",
      "Error: 'age'. Retrying after 2 seconds...\n",
      "Error: 'age'. Retrying after 2 seconds...\n"
     ]
    },
    {
     "name": "stderr",
     "output_type": "stream",
     "text": [
      "Processing Instances:   1%|          | 2265/213170 [24:29<205:22:02,  3.51s/it]"
     ]
    },
    {
     "name": "stdout",
     "output_type": "stream",
     "text": [
      "Max retries reached. Could not fetch data.\n"
     ]
    },
    {
     "name": "stderr",
     "output_type": "stream",
     "text": [
      "Processing Instances:   1%|          | 2448/213170 [26:20<29:53:49,  1.96it/s] "
     ]
    },
    {
     "name": "stdout",
     "output_type": "stream",
     "text": [
      "Error: 'age'. Retrying after 2 seconds...\n",
      "Error: 'age'. Retrying after 2 seconds...\n",
      "Error: 'age'. Retrying after 2 seconds...\n"
     ]
    },
    {
     "name": "stderr",
     "output_type": "stream",
     "text": [
      "Processing Instances:   1%|          | 2449/213170 [26:30<198:25:23,  3.39s/it]"
     ]
    },
    {
     "name": "stdout",
     "output_type": "stream",
     "text": [
      "Max retries reached. Could not fetch data.\n"
     ]
    },
    {
     "name": "stderr",
     "output_type": "stream",
     "text": [
      "Processing Instances:   1%|          | 2478/213170 [26:49<39:52:45,  1.47it/s] "
     ]
    },
    {
     "name": "stdout",
     "output_type": "stream",
     "text": [
      "Error: 'age'. Retrying after 2 seconds...\n",
      "Error: 'age'. Retrying after 2 seconds...\n",
      "Error: 'age'. Retrying after 2 seconds...\n"
     ]
    },
    {
     "name": "stderr",
     "output_type": "stream",
     "text": [
      "Processing Instances:   1%|          | 2479/213170 [26:59<211:01:05,  3.61s/it]"
     ]
    },
    {
     "name": "stdout",
     "output_type": "stream",
     "text": [
      "Max retries reached. Could not fetch data.\n"
     ]
    },
    {
     "name": "stderr",
     "output_type": "stream",
     "text": [
      "Processing Instances:   1%|          | 2489/213170 [27:05<36:23:05,  1.61it/s] "
     ]
    },
    {
     "name": "stdout",
     "output_type": "stream",
     "text": [
      "Error: 'age'. Retrying after 2 seconds...\n",
      "Error: 'age'. Retrying after 2 seconds...\n",
      "Error: 'age'. Retrying after 2 seconds...\n"
     ]
    },
    {
     "name": "stderr",
     "output_type": "stream",
     "text": [
      "Processing Instances:   1%|          | 2490/213170 [27:15<203:09:07,  3.47s/it]"
     ]
    },
    {
     "name": "stdout",
     "output_type": "stream",
     "text": [
      "Max retries reached. Could not fetch data.\n"
     ]
    },
    {
     "name": "stderr",
     "output_type": "stream",
     "text": [
      "Processing Instances:   1%|          | 2587/213170 [28:09<30:27:21,  1.92it/s] "
     ]
    },
    {
     "name": "stdout",
     "output_type": "stream",
     "text": [
      "Error: 'age'. Retrying after 2 seconds...\n",
      "Error: 'age'. Retrying after 2 seconds...\n",
      "Error: 'age'. Retrying after 2 seconds...\n"
     ]
    },
    {
     "name": "stderr",
     "output_type": "stream",
     "text": [
      "Processing Instances:   1%|          | 2588/213170 [28:19<198:45:47,  3.40s/it]"
     ]
    },
    {
     "name": "stdout",
     "output_type": "stream",
     "text": [
      "Max retries reached. Could not fetch data.\n"
     ]
    },
    {
     "name": "stderr",
     "output_type": "stream",
     "text": [
      "Processing Instances:   1%|▏         | 3059/213170 [32:53<36:40:24,  1.59it/s] "
     ]
    },
    {
     "name": "stdout",
     "output_type": "stream",
     "text": [
      "Error: 'age'. Retrying after 2 seconds...\n",
      "Error: 'age'. Retrying after 2 seconds...\n",
      "Error: 'age'. Retrying after 2 seconds...\n"
     ]
    },
    {
     "name": "stderr",
     "output_type": "stream",
     "text": [
      "Processing Instances:   1%|▏         | 3060/213170 [33:03<202:50:53,  3.48s/it]"
     ]
    },
    {
     "name": "stdout",
     "output_type": "stream",
     "text": [
      "Max retries reached. Could not fetch data.\n"
     ]
    },
    {
     "name": "stderr",
     "output_type": "stream",
     "text": [
      "Processing Instances:   2%|▏         | 3375/213170 [36:14<30:51:55,  1.89it/s] "
     ]
    },
    {
     "name": "stdout",
     "output_type": "stream",
     "text": [
      "Error: 'age'. Retrying after 2 seconds...\n",
      "Error: 'age'. Retrying after 2 seconds...\n",
      "Error: 'age'. Retrying after 2 seconds...\n"
     ]
    },
    {
     "name": "stderr",
     "output_type": "stream",
     "text": [
      "Processing Instances:   2%|▏         | 3376/213170 [36:24<198:57:25,  3.41s/it]"
     ]
    },
    {
     "name": "stdout",
     "output_type": "stream",
     "text": [
      "Max retries reached. Could not fetch data.\n"
     ]
    },
    {
     "name": "stderr",
     "output_type": "stream",
     "text": [
      "Processing Instances:   2%|▏         | 3751/213170 [40:18<31:46:32,  1.83it/s] "
     ]
    },
    {
     "name": "stdout",
     "output_type": "stream",
     "text": [
      "Error: 'age'. Retrying after 2 seconds...\n",
      "Error: 'age'. Retrying after 2 seconds...\n",
      "Error: 'age'. Retrying after 2 seconds...\n"
     ]
    },
    {
     "name": "stderr",
     "output_type": "stream",
     "text": [
      "Processing Instances:   2%|▏         | 3752/213170 [40:28<199:04:35,  3.42s/it]"
     ]
    },
    {
     "name": "stdout",
     "output_type": "stream",
     "text": [
      "Max retries reached. Could not fetch data.\n"
     ]
    },
    {
     "name": "stderr",
     "output_type": "stream",
     "text": [
      "Processing Instances:   2%|▏         | 3896/213170 [42:00<38:08:42,  1.52it/s] "
     ]
    },
    {
     "name": "stdout",
     "output_type": "stream",
     "text": [
      "Error: 'age'. Retrying after 2 seconds...\n",
      "Error: 'age'. Retrying after 2 seconds...\n",
      "Error: 'age'. Retrying after 2 seconds...\n"
     ]
    },
    {
     "name": "stderr",
     "output_type": "stream",
     "text": [
      "Processing Instances:   2%|▏         | 3897/213170 [42:10<210:29:01,  3.62s/it]"
     ]
    },
    {
     "name": "stdout",
     "output_type": "stream",
     "text": [
      "Max retries reached. Could not fetch data.\n"
     ]
    },
    {
     "name": "stderr",
     "output_type": "stream",
     "text": [
      "Processing Instances:   2%|▏         | 3928/213170 [42:30<31:08:28,  1.87it/s] "
     ]
    },
    {
     "name": "stdout",
     "output_type": "stream",
     "text": [
      "Error: 'age'. Retrying after 2 seconds...\n",
      "Error: 'age'. Retrying after 2 seconds...\n",
      "Error: 'age'. Retrying after 2 seconds...\n"
     ]
    },
    {
     "name": "stderr",
     "output_type": "stream",
     "text": [
      "Processing Instances:   2%|▏         | 3929/213170 [42:40<198:28:35,  3.41s/it]"
     ]
    },
    {
     "name": "stdout",
     "output_type": "stream",
     "text": [
      "Max retries reached. Could not fetch data.\n"
     ]
    },
    {
     "name": "stderr",
     "output_type": "stream",
     "text": [
      "Processing Instances:   2%|▏         | 3972/213170 [43:09<42:25:13,  1.37it/s] "
     ]
    },
    {
     "name": "stdout",
     "output_type": "stream",
     "text": [
      "Error: 'age'. Retrying after 2 seconds...\n",
      "Error: 'age'. Retrying after 2 seconds...\n",
      "Error: 'age'. Retrying after 2 seconds...\n"
     ]
    },
    {
     "name": "stderr",
     "output_type": "stream",
     "text": [
      "Processing Instances:   2%|▏         | 3973/213170 [43:19<206:08:54,  3.55s/it]"
     ]
    },
    {
     "name": "stdout",
     "output_type": "stream",
     "text": [
      "Max retries reached. Could not fetch data.\n"
     ]
    },
    {
     "name": "stderr",
     "output_type": "stream",
     "text": [
      "Processing Instances:   2%|▏         | 3974/213170 [43:19<153:11:21,  2.64s/it]"
     ]
    },
    {
     "name": "stdout",
     "output_type": "stream",
     "text": [
      "Error: 'age'. Retrying after 2 seconds...\n",
      "Error: 'age'. Retrying after 2 seconds...\n",
      "Error: 'age'. Retrying after 2 seconds...\n"
     ]
    },
    {
     "name": "stderr",
     "output_type": "stream",
     "text": [
      "Processing Instances:   2%|▏         | 3975/213170 [43:30<284:12:35,  4.89s/it]"
     ]
    },
    {
     "name": "stdout",
     "output_type": "stream",
     "text": [
      "Max retries reached. Could not fetch data.\n"
     ]
    },
    {
     "name": "stderr",
     "output_type": "stream",
     "text": [
      "Processing Instances:   2%|▏         | 4026/213170 [44:02<38:38:52,  1.50it/s] "
     ]
    },
    {
     "name": "stdout",
     "output_type": "stream",
     "text": [
      "Error: 'age'. Retrying after 2 seconds...\n",
      "Error: 'age'. Retrying after 2 seconds...\n",
      "Error: 'age'. Retrying after 2 seconds...\n"
     ]
    },
    {
     "name": "stderr",
     "output_type": "stream",
     "text": [
      "Processing Instances:   2%|▏         | 4027/213170 [44:12<203:24:00,  3.50s/it]"
     ]
    },
    {
     "name": "stdout",
     "output_type": "stream",
     "text": [
      "Max retries reached. Could not fetch data.\n"
     ]
    },
    {
     "name": "stderr",
     "output_type": "stream",
     "text": [
      "Processing Instances:   2%|▏         | 4051/213170 [44:26<33:56:21,  1.71it/s] "
     ]
    },
    {
     "name": "stdout",
     "output_type": "stream",
     "text": [
      "Error: 'age'. Retrying after 2 seconds...\n",
      "Error: 'age'. Retrying after 2 seconds...\n",
      "Error: 'age'. Retrying after 2 seconds...\n"
     ]
    },
    {
     "name": "stderr",
     "output_type": "stream",
     "text": [
      "Processing Instances:   2%|▏         | 4052/213170 [44:36<200:02:41,  3.44s/it]"
     ]
    },
    {
     "name": "stdout",
     "output_type": "stream",
     "text": [
      "Max retries reached. Could not fetch data.\n"
     ]
    },
    {
     "name": "stderr",
     "output_type": "stream",
     "text": [
      "Processing Instances:   2%|▏         | 4082/213170 [44:56<30:39:44,  1.89it/s] "
     ]
    },
    {
     "name": "stdout",
     "output_type": "stream",
     "text": [
      "Error: 'age'. Retrying after 2 seconds...\n",
      "Error: 'age'. Retrying after 2 seconds...\n",
      "Error: 'age'. Retrying after 2 seconds...\n"
     ]
    },
    {
     "name": "stderr",
     "output_type": "stream",
     "text": [
      "Processing Instances:   2%|▏         | 4083/213170 [45:06<197:42:50,  3.40s/it]"
     ]
    },
    {
     "name": "stdout",
     "output_type": "stream",
     "text": [
      "Max retries reached. Could not fetch data.\n"
     ]
    },
    {
     "name": "stderr",
     "output_type": "stream",
     "text": [
      "Processing Instances:   2%|▏         | 4109/213170 [45:25<43:09:14,  1.35it/s] "
     ]
    },
    {
     "name": "stdout",
     "output_type": "stream",
     "text": [
      "Error: 'age'. Retrying after 2 seconds...\n",
      "Error: 'age'. Retrying after 2 seconds...\n",
      "Error: 'age'. Retrying after 2 seconds...\n"
     ]
    },
    {
     "name": "stderr",
     "output_type": "stream",
     "text": [
      "Processing Instances:   2%|▏         | 4110/213170 [45:35<213:03:12,  3.67s/it]"
     ]
    },
    {
     "name": "stdout",
     "output_type": "stream",
     "text": [
      "Max retries reached. Could not fetch data.\n"
     ]
    },
    {
     "name": "stderr",
     "output_type": "stream",
     "text": [
      "Processing Instances:   2%|▏         | 4218/213170 [46:45<38:16:36,  1.52it/s] "
     ]
    },
    {
     "name": "stdout",
     "output_type": "stream",
     "text": [
      "Error: 'age'. Retrying after 2 seconds...\n",
      "Error: 'age'. Retrying after 2 seconds...\n",
      "Error: 'age'. Retrying after 2 seconds...\n"
     ]
    },
    {
     "name": "stderr",
     "output_type": "stream",
     "text": [
      "Processing Instances:   2%|▏         | 4219/213170 [46:55<202:56:29,  3.50s/it]"
     ]
    },
    {
     "name": "stdout",
     "output_type": "stream",
     "text": [
      "Max retries reached. Could not fetch data.\n"
     ]
    },
    {
     "name": "stderr",
     "output_type": "stream",
     "text": [
      "Processing Instances:   2%|▏         | 4234/213170 [47:06<40:17:54,  1.44it/s] "
     ]
    },
    {
     "name": "stdout",
     "output_type": "stream",
     "text": [
      "Error: 'age'. Retrying after 2 seconds...\n",
      "Error: 'age'. Retrying after 2 seconds...\n",
      "Error: 'age'. Retrying after 2 seconds...\n"
     ]
    },
    {
     "name": "stderr",
     "output_type": "stream",
     "text": [
      "Processing Instances:   2%|▏         | 4235/213170 [47:16<204:15:37,  3.52s/it]"
     ]
    },
    {
     "name": "stdout",
     "output_type": "stream",
     "text": [
      "Max retries reached. Could not fetch data.\n"
     ]
    },
    {
     "name": "stderr",
     "output_type": "stream",
     "text": [
      "Processing Instances:   2%|▏         | 4274/213170 [47:42<35:10:21,  1.65it/s] "
     ]
    },
    {
     "name": "stdout",
     "output_type": "stream",
     "text": [
      "Error: 'age'. Retrying after 2 seconds...\n",
      "Error: 'age'. Retrying after 2 seconds...\n",
      "Error: 'age'. Retrying after 2 seconds...\n"
     ]
    },
    {
     "name": "stderr",
     "output_type": "stream",
     "text": [
      "Processing Instances:   2%|▏         | 4275/213170 [47:52<200:36:57,  3.46s/it]"
     ]
    },
    {
     "name": "stdout",
     "output_type": "stream",
     "text": [
      "Max retries reached. Could not fetch data.\n"
     ]
    },
    {
     "name": "stderr",
     "output_type": "stream",
     "text": [
      "Processing Instances:   2%|▏         | 4279/213170 [47:54<70:48:18,  1.22s/it] "
     ]
    },
    {
     "name": "stdout",
     "output_type": "stream",
     "text": [
      "Error: 'age'. Retrying after 2 seconds...\n",
      "Error: 'age'. Retrying after 2 seconds...\n",
      "Error: 'age'. Retrying after 2 seconds...\n"
     ]
    },
    {
     "name": "stderr",
     "output_type": "stream",
     "text": [
      "Processing Instances:   2%|▏         | 4280/213170 [48:04<225:55:01,  3.89s/it]"
     ]
    },
    {
     "name": "stdout",
     "output_type": "stream",
     "text": [
      "Max retries reached. Could not fetch data.\n"
     ]
    },
    {
     "name": "stderr",
     "output_type": "stream",
     "text": [
      "Processing Instances:   2%|▏         | 4282/213170 [48:05<125:42:32,  2.17s/it]"
     ]
    },
    {
     "name": "stdout",
     "output_type": "stream",
     "text": [
      "Error: 'age'. Retrying after 2 seconds...\n",
      "Error: 'age'. Retrying after 2 seconds...\n",
      "Error: 'age'. Retrying after 2 seconds...\n"
     ]
    },
    {
     "name": "stderr",
     "output_type": "stream",
     "text": [
      "Processing Instances:   2%|▏         | 4283/213170 [48:15<264:00:05,  4.55s/it]"
     ]
    },
    {
     "name": "stdout",
     "output_type": "stream",
     "text": [
      "Max retries reached. Could not fetch data.\n"
     ]
    },
    {
     "name": "stderr",
     "output_type": "stream",
     "text": [
      "Processing Instances:   2%|▏         | 4293/213170 [48:23<47:43:16,  1.22it/s] "
     ]
    },
    {
     "name": "stdout",
     "output_type": "stream",
     "text": [
      "Error: 'age'. Retrying after 2 seconds...\n",
      "Error: 'age'. Retrying after 2 seconds...\n",
      "Error: 'age'. Retrying after 2 seconds...\n"
     ]
    },
    {
     "name": "stderr",
     "output_type": "stream",
     "text": [
      "Processing Instances:   2%|▏         | 4294/213170 [48:33<209:30:45,  3.61s/it]"
     ]
    },
    {
     "name": "stdout",
     "output_type": "stream",
     "text": [
      "Max retries reached. Could not fetch data.\n"
     ]
    },
    {
     "name": "stderr",
     "output_type": "stream",
     "text": [
      "Processing Instances:   2%|▏         | 4315/213170 [48:48<42:52:54,  1.35it/s] "
     ]
    },
    {
     "name": "stdout",
     "output_type": "stream",
     "text": [
      "Error: 'age'. Retrying after 2 seconds...\n",
      "Error: 'age'. Retrying after 2 seconds...\n",
      "Error: 'age'. Retrying after 2 seconds...\n"
     ]
    },
    {
     "name": "stderr",
     "output_type": "stream",
     "text": [
      "Processing Instances:   2%|▏         | 4316/213170 [49:00<225:34:47,  3.89s/it]"
     ]
    },
    {
     "name": "stdout",
     "output_type": "stream",
     "text": [
      "Max retries reached. Could not fetch data.\n"
     ]
    },
    {
     "name": "stderr",
     "output_type": "stream",
     "text": [
      "Processing Instances:   2%|▏         | 4317/213170 [49:00<173:16:49,  2.99s/it]"
     ]
    },
    {
     "name": "stdout",
     "output_type": "stream",
     "text": [
      "Error: 'age'. Retrying after 2 seconds...\n",
      "Error: 'age'. Retrying after 2 seconds...\n",
      "Error: 'age'. Retrying after 2 seconds...\n"
     ]
    },
    {
     "name": "stderr",
     "output_type": "stream",
     "text": [
      "Processing Instances:   2%|▏         | 4318/213170 [49:11<297:19:21,  5.12s/it]"
     ]
    },
    {
     "name": "stdout",
     "output_type": "stream",
     "text": [
      "Max retries reached. Could not fetch data.\n"
     ]
    },
    {
     "name": "stderr",
     "output_type": "stream",
     "text": [
      "Processing Instances:   2%|▏         | 4389/213170 [50:01<40:28:01,  1.43it/s] "
     ]
    },
    {
     "name": "stdout",
     "output_type": "stream",
     "text": [
      "Error: 'age'. Retrying after 2 seconds...\n",
      "Error: 'age'. Retrying after 2 seconds...\n",
      "Error: 'age'. Retrying after 2 seconds...\n"
     ]
    },
    {
     "name": "stderr",
     "output_type": "stream",
     "text": [
      "Processing Instances:   2%|▏         | 4390/213170 [50:11<204:22:26,  3.52s/it]"
     ]
    },
    {
     "name": "stdout",
     "output_type": "stream",
     "text": [
      "Max retries reached. Could not fetch data.\n"
     ]
    },
    {
     "name": "stderr",
     "output_type": "stream",
     "text": [
      "Processing Instances:   2%|▏         | 4428/213170 [50:37<33:57:44,  1.71it/s] "
     ]
    },
    {
     "name": "stdout",
     "output_type": "stream",
     "text": [
      "Error: 'age'. Retrying after 2 seconds...\n",
      "Error: 'age'. Retrying after 2 seconds...\n",
      "Error: 'age'. Retrying after 2 seconds...\n"
     ]
    },
    {
     "name": "stderr",
     "output_type": "stream",
     "text": [
      "Processing Instances:   2%|▏         | 4429/213170 [50:48<212:19:30,  3.66s/it]"
     ]
    },
    {
     "name": "stdout",
     "output_type": "stream",
     "text": [
      "Max retries reached. Could not fetch data.\n"
     ]
    },
    {
     "name": "stderr",
     "output_type": "stream",
     "text": [
      "Processing Instances:   2%|▏         | 4444/213170 [50:59<44:38:03,  1.30it/s] "
     ]
    },
    {
     "name": "stdout",
     "output_type": "stream",
     "text": [
      "Error: 'age'. Retrying after 2 seconds...\n",
      "Error: 'age'. Retrying after 2 seconds...\n",
      "Error: 'age'. Retrying after 2 seconds...\n"
     ]
    },
    {
     "name": "stderr",
     "output_type": "stream",
     "text": [
      "Processing Instances:   2%|▏         | 4445/213170 [51:09<207:02:10,  3.57s/it]"
     ]
    },
    {
     "name": "stdout",
     "output_type": "stream",
     "text": [
      "Max retries reached. Could not fetch data.\n"
     ]
    },
    {
     "name": "stderr",
     "output_type": "stream",
     "text": [
      "Processing Instances:   2%|▏         | 4449/213170 [51:12<84:43:00,  1.46s/it] "
     ]
    },
    {
     "name": "stdout",
     "output_type": "stream",
     "text": [
      "Error: 'age'. Retrying after 2 seconds...\n",
      "Error: 'age'. Retrying after 2 seconds...\n",
      "Error: 'age'. Retrying after 2 seconds...\n"
     ]
    },
    {
     "name": "stderr",
     "output_type": "stream",
     "text": [
      "Processing Instances:   2%|▏         | 4450/213170 [51:22<247:46:52,  4.27s/it]"
     ]
    },
    {
     "name": "stdout",
     "output_type": "stream",
     "text": [
      "Max retries reached. Could not fetch data.\n"
     ]
    },
    {
     "name": "stderr",
     "output_type": "stream",
     "text": [
      "Processing Instances:   2%|▏         | 4452/213170 [51:24<141:23:19,  2.44s/it]"
     ]
    },
    {
     "name": "stdout",
     "output_type": "stream",
     "text": [
      "Error: 'age'. Retrying after 2 seconds...\n",
      "Error: 'age'. Retrying after 2 seconds...\n",
      "Error: 'age'. Retrying after 2 seconds...\n"
     ]
    },
    {
     "name": "stderr",
     "output_type": "stream",
     "text": [
      "Processing Instances:   2%|▏         | 4453/213170 [51:34<281:36:32,  4.86s/it]"
     ]
    },
    {
     "name": "stdout",
     "output_type": "stream",
     "text": [
      "Max retries reached. Could not fetch data.\n"
     ]
    },
    {
     "name": "stderr",
     "output_type": "stream",
     "text": [
      "Processing Instances:   2%|▏         | 4478/213170 [51:51<30:30:22,  1.90it/s] "
     ]
    },
    {
     "name": "stdout",
     "output_type": "stream",
     "text": [
      "Error: 'age'. Retrying after 2 seconds...\n",
      "Error: 'age'. Retrying after 2 seconds...\n",
      "Error: 'age'. Retrying after 2 seconds...\n"
     ]
    },
    {
     "name": "stderr",
     "output_type": "stream",
     "text": [
      "Processing Instances:   2%|▏         | 4479/213170 [52:01<197:00:26,  3.40s/it]"
     ]
    },
    {
     "name": "stdout",
     "output_type": "stream",
     "text": [
      "Max retries reached. Could not fetch data.\n"
     ]
    },
    {
     "name": "stderr",
     "output_type": "stream",
     "text": [
      "Processing Instances:   2%|▏         | 4483/213170 [52:04<79:34:45,  1.37s/it] "
     ]
    },
    {
     "name": "stdout",
     "output_type": "stream",
     "text": [
      "Error: 'age'. Retrying after 2 seconds...\n",
      "Error: 'age'. Retrying after 2 seconds...\n",
      "Error: 'age'. Retrying after 2 seconds...\n"
     ]
    },
    {
     "name": "stderr",
     "output_type": "stream",
     "text": [
      "Processing Instances:   2%|▏         | 4484/213170 [52:14<238:36:01,  4.12s/it]"
     ]
    },
    {
     "name": "stdout",
     "output_type": "stream",
     "text": [
      "Max retries reached. Could not fetch data.\n"
     ]
    },
    {
     "name": "stderr",
     "output_type": "stream",
     "text": [
      "Processing Instances:   2%|▏         | 4809/213170 [55:48<36:41:33,  1.58it/s] "
     ]
    },
    {
     "name": "stdout",
     "output_type": "stream",
     "text": [
      "Error: 'age'. Retrying after 2 seconds...\n",
      "Error: 'age'. Retrying after 2 seconds...\n",
      "Error: 'age'. Retrying after 2 seconds...\n"
     ]
    },
    {
     "name": "stderr",
     "output_type": "stream",
     "text": [
      "Processing Instances:   2%|▏         | 4810/213170 [55:58<201:20:12,  3.48s/it]"
     ]
    },
    {
     "name": "stdout",
     "output_type": "stream",
     "text": [
      "Max retries reached. Could not fetch data.\n"
     ]
    },
    {
     "name": "stderr",
     "output_type": "stream",
     "text": [
      "Processing Instances:   2%|▏         | 4902/213170 [56:54<40:39:36,  1.42it/s] "
     ]
    },
    {
     "name": "stdout",
     "output_type": "stream",
     "text": [
      "Error: 'age'. Retrying after 2 seconds...\n",
      "Error: 'age'. Retrying after 2 seconds...\n",
      "Error: 'age'. Retrying after 2 seconds...\n"
     ]
    },
    {
     "name": "stderr",
     "output_type": "stream",
     "text": [
      "Processing Instances:   2%|▏         | 4903/213170 [57:04<203:52:34,  3.52s/it]"
     ]
    },
    {
     "name": "stdout",
     "output_type": "stream",
     "text": [
      "Max retries reached. Could not fetch data.\n"
     ]
    },
    {
     "name": "stderr",
     "output_type": "stream",
     "text": [
      "Processing Instances:   2%|▏         | 4910/213170 [57:09<60:19:25,  1.04s/it] "
     ]
    },
    {
     "name": "stdout",
     "output_type": "stream",
     "text": [
      "Error: 'age'. Retrying after 2 seconds...\n",
      "Error: 'age'. Retrying after 2 seconds...\n",
      "Error: 'age'. Retrying after 2 seconds...\n"
     ]
    },
    {
     "name": "stderr",
     "output_type": "stream",
     "text": [
      "Processing Instances:   2%|▏         | 4911/213170 [57:19<217:32:30,  3.76s/it]"
     ]
    },
    {
     "name": "stdout",
     "output_type": "stream",
     "text": [
      "Max retries reached. Could not fetch data.\n"
     ]
    },
    {
     "name": "stderr",
     "output_type": "stream",
     "text": [
      "Processing Instances:   2%|▏         | 4955/213170 [57:49<39:49:01,  1.45it/s] "
     ]
    },
    {
     "name": "stdout",
     "output_type": "stream",
     "text": [
      "Error: 'age'. Retrying after 2 seconds...\n",
      "Error: 'age'. Retrying after 2 seconds...\n",
      "Error: 'age'. Retrying after 2 seconds...\n"
     ]
    },
    {
     "name": "stderr",
     "output_type": "stream",
     "text": [
      "Processing Instances:   2%|▏         | 4956/213170 [57:59<203:22:31,  3.52s/it]"
     ]
    },
    {
     "name": "stdout",
     "output_type": "stream",
     "text": [
      "Max retries reached. Could not fetch data.\n"
     ]
    },
    {
     "name": "stderr",
     "output_type": "stream",
     "text": [
      "Processing Instances:   2%|▏         | 4969/213170 [58:07<37:09:43,  1.56it/s] "
     ]
    },
    {
     "name": "stdout",
     "output_type": "stream",
     "text": [
      "Error: 'age'. Retrying after 2 seconds...\n",
      "Error: 'age'. Retrying after 2 seconds...\n",
      "Error: 'age'. Retrying after 2 seconds...\n"
     ]
    },
    {
     "name": "stderr",
     "output_type": "stream",
     "text": [
      "Processing Instances:   2%|▏         | 4970/213170 [58:17<201:29:57,  3.48s/it]"
     ]
    },
    {
     "name": "stdout",
     "output_type": "stream",
     "text": [
      "Max retries reached. Could not fetch data.\n"
     ]
    },
    {
     "name": "stderr",
     "output_type": "stream",
     "text": [
      "Processing Instances:   2%|▏         | 5011/213170 [58:46<38:33:59,  1.50it/s] "
     ]
    },
    {
     "name": "stdout",
     "output_type": "stream",
     "text": [
      "Error: 'age'. Retrying after 2 seconds...\n",
      "Error: 'age'. Retrying after 2 seconds...\n",
      "Error: 'age'. Retrying after 2 seconds...\n"
     ]
    },
    {
     "name": "stderr",
     "output_type": "stream",
     "text": [
      "Processing Instances:   2%|▏         | 5012/213170 [58:57<209:23:45,  3.62s/it]"
     ]
    },
    {
     "name": "stdout",
     "output_type": "stream",
     "text": [
      "Max retries reached. Could not fetch data.\n"
     ]
    },
    {
     "name": "stderr",
     "output_type": "stream",
     "text": [
      "Processing Instances:   2%|▏         | 5146/213170 [1:00:22<33:59:54,  1.70it/s]"
     ]
    },
    {
     "name": "stdout",
     "output_type": "stream",
     "text": [
      "Error: 'age'. Retrying after 2 seconds...\n",
      "Error: 'age'. Retrying after 2 seconds...\n",
      "Error: 'age'. Retrying after 2 seconds...\n"
     ]
    },
    {
     "name": "stderr",
     "output_type": "stream",
     "text": [
      "Processing Instances:   2%|▏         | 5147/213170 [1:00:32<199:12:56,  3.45s/it]"
     ]
    },
    {
     "name": "stdout",
     "output_type": "stream",
     "text": [
      "Max retries reached. Could not fetch data.\n"
     ]
    },
    {
     "name": "stderr",
     "output_type": "stream",
     "text": [
      "Processing Instances:   2%|▏         | 5171/213170 [1:00:48<40:44:59,  1.42it/s] "
     ]
    },
    {
     "name": "stdout",
     "output_type": "stream",
     "text": [
      "Error: 'age'. Retrying after 2 seconds...\n",
      "Error: 'age'. Retrying after 2 seconds...\n",
      "Error: 'age'. Retrying after 2 seconds...\n"
     ]
    },
    {
     "name": "stderr",
     "output_type": "stream",
     "text": [
      "Processing Instances:   2%|▏         | 5172/213170 [1:00:58<203:47:53,  3.53s/it]"
     ]
    },
    {
     "name": "stdout",
     "output_type": "stream",
     "text": [
      "Max retries reached. Could not fetch data.\n"
     ]
    },
    {
     "name": "stderr",
     "output_type": "stream",
     "text": [
      "Processing Instances:   3%|▎         | 5376/213170 [1:03:08<35:50:44,  1.61it/s] "
     ]
    },
    {
     "name": "stdout",
     "output_type": "stream",
     "text": [
      "Error: 'age'. Retrying after 2 seconds...\n",
      "Error: 'age'. Retrying after 2 seconds...\n",
      "Error: 'age'. Retrying after 2 seconds...\n"
     ]
    },
    {
     "name": "stderr",
     "output_type": "stream",
     "text": [
      "Processing Instances:   3%|▎         | 5377/213170 [1:03:18<200:17:38,  3.47s/it]"
     ]
    },
    {
     "name": "stdout",
     "output_type": "stream",
     "text": [
      "Max retries reached. Could not fetch data.\n"
     ]
    },
    {
     "name": "stderr",
     "output_type": "stream",
     "text": [
      "Processing Instances:   3%|▎         | 5533/213170 [1:04:53<38:12:07,  1.51it/s] "
     ]
    },
    {
     "name": "stdout",
     "output_type": "stream",
     "text": [
      "Error: 'age'. Retrying after 2 seconds...\n",
      "Error: 'age'. Retrying after 2 seconds...\n",
      "Error: 'age'. Retrying after 2 seconds...\n"
     ]
    },
    {
     "name": "stderr",
     "output_type": "stream",
     "text": [
      "Processing Instances:   3%|▎         | 5534/213170 [1:05:03<201:44:53,  3.50s/it]"
     ]
    },
    {
     "name": "stdout",
     "output_type": "stream",
     "text": [
      "Max retries reached. Could not fetch data.\n"
     ]
    },
    {
     "name": "stderr",
     "output_type": "stream",
     "text": [
      "Processing Instances:   3%|▎         | 5627/213170 [1:05:58<35:38:20,  1.62it/s] "
     ]
    },
    {
     "name": "stdout",
     "output_type": "stream",
     "text": [
      "Error: 'age'. Retrying after 2 seconds...\n",
      "Error: 'age'. Retrying after 2 seconds...\n",
      "Error: 'age'. Retrying after 2 seconds...\n"
     ]
    },
    {
     "name": "stderr",
     "output_type": "stream",
     "text": [
      "Processing Instances:   3%|▎         | 5628/213170 [1:06:09<199:41:14,  3.46s/it]"
     ]
    },
    {
     "name": "stdout",
     "output_type": "stream",
     "text": [
      "Max retries reached. Could not fetch data.\n"
     ]
    },
    {
     "name": "stderr",
     "output_type": "stream",
     "text": [
      "Processing Instances:   3%|▎         | 5739/213170 [1:07:16<36:16:12,  1.59it/s] "
     ]
    },
    {
     "name": "stdout",
     "output_type": "stream",
     "text": [
      "Error: 'age'. Retrying after 2 seconds...\n",
      "Error: 'age'. Retrying after 2 seconds...\n",
      "Error: 'age'. Retrying after 2 seconds...\n"
     ]
    },
    {
     "name": "stderr",
     "output_type": "stream",
     "text": [
      "Processing Instances:   3%|▎         | 5740/213170 [1:07:26<200:16:26,  3.48s/it]"
     ]
    },
    {
     "name": "stdout",
     "output_type": "stream",
     "text": [
      "Max retries reached. Could not fetch data.\n"
     ]
    },
    {
     "name": "stderr",
     "output_type": "stream",
     "text": [
      "Processing Instances:   3%|▎         | 5795/213170 [1:08:03<41:53:18,  1.38it/s] "
     ]
    },
    {
     "name": "stdout",
     "output_type": "stream",
     "text": [
      "Error: 'age'. Retrying after 2 seconds...\n",
      "Error: 'age'. Retrying after 2 seconds...\n",
      "Error: 'age'. Retrying after 2 seconds...\n"
     ]
    },
    {
     "name": "stderr",
     "output_type": "stream",
     "text": [
      "Processing Instances:   3%|▎         | 5796/213170 [1:08:13<204:11:37,  3.54s/it]"
     ]
    },
    {
     "name": "stdout",
     "output_type": "stream",
     "text": [
      "Max retries reached. Could not fetch data.\n"
     ]
    },
    {
     "name": "stderr",
     "output_type": "stream",
     "text": [
      "Processing Instances:   3%|▎         | 5848/213170 [1:08:46<34:26:13,  1.67it/s] "
     ]
    },
    {
     "name": "stdout",
     "output_type": "stream",
     "text": [
      "Error: 'age'. Retrying after 2 seconds...\n",
      "Error: 'age'. Retrying after 2 seconds...\n",
      "Error: 'age'. Retrying after 2 seconds...\n"
     ]
    },
    {
     "name": "stderr",
     "output_type": "stream",
     "text": [
      "Processing Instances:   3%|▎         | 5849/213170 [1:08:56<199:26:18,  3.46s/it]"
     ]
    },
    {
     "name": "stdout",
     "output_type": "stream",
     "text": [
      "Max retries reached. Could not fetch data.\n"
     ]
    },
    {
     "name": "stderr",
     "output_type": "stream",
     "text": [
      "Processing Instances:   3%|▎         | 5909/213170 [1:09:32<29:47:43,  1.93it/s] "
     ]
    },
    {
     "name": "stdout",
     "output_type": "stream",
     "text": [
      "Error: 'age'. Retrying after 2 seconds...\n",
      "Error: 'age'. Retrying after 2 seconds...\n",
      "Error: 'age'. Retrying after 2 seconds...\n"
     ]
    },
    {
     "name": "stderr",
     "output_type": "stream",
     "text": [
      "Processing Instances:   3%|▎         | 5910/213170 [1:09:42<195:27:42,  3.40s/it]"
     ]
    },
    {
     "name": "stdout",
     "output_type": "stream",
     "text": [
      "Max retries reached. Could not fetch data.\n"
     ]
    },
    {
     "name": "stderr",
     "output_type": "stream",
     "text": [
      "Processing Instances:   3%|▎         | 5912/213170 [1:09:43<110:45:36,  1.92s/it]"
     ]
    },
    {
     "name": "stdout",
     "output_type": "stream",
     "text": [
      "Error: 'age'. Retrying after 2 seconds...\n",
      "Error: 'age'. Retrying after 2 seconds...\n",
      "Error: 'age'. Retrying after 2 seconds...\n"
     ]
    },
    {
     "name": "stderr",
     "output_type": "stream",
     "text": [
      "Processing Instances:   3%|▎         | 5913/213170 [1:09:53<252:25:10,  4.38s/it]"
     ]
    },
    {
     "name": "stdout",
     "output_type": "stream",
     "text": [
      "Max retries reached. Could not fetch data.\n"
     ]
    },
    {
     "name": "stderr",
     "output_type": "stream",
     "text": [
      "Processing Instances:   3%|▎         | 5918/213170 [1:09:56<66:53:41,  1.16s/it] "
     ]
    },
    {
     "name": "stdout",
     "output_type": "stream",
     "text": [
      "Error: 'age'. Retrying after 2 seconds...\n",
      "Error: 'age'. Retrying after 2 seconds...\n",
      "Error: 'age'. Retrying after 2 seconds...\n"
     ]
    },
    {
     "name": "stderr",
     "output_type": "stream",
     "text": [
      "Processing Instances:   3%|▎         | 5919/213170 [1:10:06<230:33:13,  4.00s/it]"
     ]
    },
    {
     "name": "stdout",
     "output_type": "stream",
     "text": [
      "Max retries reached. Could not fetch data.\n"
     ]
    },
    {
     "name": "stderr",
     "output_type": "stream",
     "text": [
      "Processing Instances:   3%|▎         | 5977/213170 [1:10:41<34:39:45,  1.66it/s] "
     ]
    },
    {
     "name": "stdout",
     "output_type": "stream",
     "text": [
      "Error: 'age'. Retrying after 2 seconds...\n",
      "Error: 'age'. Retrying after 2 seconds...\n",
      "Error: 'age'. Retrying after 2 seconds...\n"
     ]
    },
    {
     "name": "stderr",
     "output_type": "stream",
     "text": [
      "Processing Instances:   3%|▎         | 5978/213170 [1:10:51<199:08:59,  3.46s/it]"
     ]
    },
    {
     "name": "stdout",
     "output_type": "stream",
     "text": [
      "Max retries reached. Could not fetch data.\n"
     ]
    },
    {
     "name": "stderr",
     "output_type": "stream",
     "text": [
      "Processing Instances:   3%|▎         | 5985/213170 [1:10:56<55:09:20,  1.04it/s] "
     ]
    },
    {
     "name": "stdout",
     "output_type": "stream",
     "text": [
      "Error: 'age'. Retrying after 2 seconds...\n",
      "Error: 'age'. Retrying after 2 seconds...\n",
      "Error: 'age'. Retrying after 2 seconds...\n"
     ]
    },
    {
     "name": "stderr",
     "output_type": "stream",
     "text": [
      "Processing Instances:   3%|▎         | 5986/213170 [1:11:06<213:24:16,  3.71s/it]"
     ]
    },
    {
     "name": "stdout",
     "output_type": "stream",
     "text": [
      "Max retries reached. Could not fetch data.\n"
     ]
    },
    {
     "name": "stderr",
     "output_type": "stream",
     "text": [
      "Processing Instances:   3%|▎         | 5990/213170 [1:11:09<80:13:54,  1.39s/it] "
     ]
    },
    {
     "name": "stdout",
     "output_type": "stream",
     "text": [
      "Error: 'age'. Retrying after 2 seconds...\n",
      "Error: 'age'. Retrying after 2 seconds...\n",
      "Error: 'age'. Retrying after 2 seconds...\n"
     ]
    },
    {
     "name": "stderr",
     "output_type": "stream",
     "text": [
      "Processing Instances:   3%|▎         | 5991/213170 [1:11:19<238:12:13,  4.14s/it]"
     ]
    },
    {
     "name": "stdout",
     "output_type": "stream",
     "text": [
      "Max retries reached. Could not fetch data.\n"
     ]
    },
    {
     "name": "stderr",
     "output_type": "stream",
     "text": [
      "Processing Instances:   3%|▎         | 5997/213170 [1:11:23<65:57:31,  1.15s/it] "
     ]
    },
    {
     "name": "stdout",
     "output_type": "stream",
     "text": [
      "Error: 'age'. Retrying after 2 seconds...\n",
      "Error: 'age'. Retrying after 2 seconds...\n",
      "Error: 'age'. Retrying after 2 seconds...\n"
     ]
    },
    {
     "name": "stderr",
     "output_type": "stream",
     "text": [
      "Processing Instances:   3%|▎         | 5998/213170 [1:11:33<221:10:03,  3.84s/it]"
     ]
    },
    {
     "name": "stdout",
     "output_type": "stream",
     "text": [
      "Max retries reached. Could not fetch data.\n"
     ]
    },
    {
     "name": "stderr",
     "output_type": "stream",
     "text": [
      "Processing Instances:   3%|▎         | 6005/213170 [1:11:39<55:41:44,  1.03it/s] "
     ]
    },
    {
     "name": "stdout",
     "output_type": "stream",
     "text": [
      "Error: 'age'. Retrying after 2 seconds...\n",
      "Error: 'age'. Retrying after 2 seconds...\n",
      "Error: 'age'. Retrying after 2 seconds...\n"
     ]
    },
    {
     "name": "stderr",
     "output_type": "stream",
     "text": [
      "Processing Instances:   3%|▎         | 6006/213170 [1:11:49<213:47:14,  3.72s/it]"
     ]
    },
    {
     "name": "stdout",
     "output_type": "stream",
     "text": [
      "Max retries reached. Could not fetch data.\n"
     ]
    },
    {
     "name": "stderr",
     "output_type": "stream",
     "text": [
      "Processing Instances:   3%|▎         | 6013/213170 [1:11:54<58:11:51,  1.01s/it] "
     ]
    },
    {
     "name": "stdout",
     "output_type": "stream",
     "text": [
      "Error: 'age'. Retrying after 2 seconds...\n",
      "Error: 'age'. Retrying after 2 seconds...\n",
      "Error: 'age'. Retrying after 2 seconds...\n"
     ]
    },
    {
     "name": "stderr",
     "output_type": "stream",
     "text": [
      "Processing Instances:   3%|▎         | 6014/213170 [1:12:04<215:21:26,  3.74s/it]"
     ]
    },
    {
     "name": "stdout",
     "output_type": "stream",
     "text": [
      "Max retries reached. Could not fetch data.\n"
     ]
    },
    {
     "name": "stderr",
     "output_type": "stream",
     "text": [
      "Processing Instances:   3%|▎         | 6111/213170 [1:13:12<36:58:11,  1.56it/s] "
     ]
    },
    {
     "name": "stdout",
     "output_type": "stream",
     "text": [
      "Error: 'age'. Retrying after 2 seconds...\n",
      "Error: 'age'. Retrying after 2 seconds...\n",
      "Error: 'age'. Retrying after 2 seconds...\n"
     ]
    },
    {
     "name": "stderr",
     "output_type": "stream",
     "text": [
      "Processing Instances:   3%|▎         | 6112/213170 [1:13:22<200:19:12,  3.48s/it]"
     ]
    },
    {
     "name": "stdout",
     "output_type": "stream",
     "text": [
      "Max retries reached. Could not fetch data.\n"
     ]
    },
    {
     "name": "stderr",
     "output_type": "stream",
     "text": [
      "Processing Instances:   3%|▎         | 6196/213170 [1:14:16<31:51:05,  1.81it/s] "
     ]
    },
    {
     "name": "stdout",
     "output_type": "stream",
     "text": [
      "Error: 'age'. Retrying after 2 seconds...\n",
      "Error: 'age'. Retrying after 2 seconds...\n",
      "Error: 'age'. Retrying after 2 seconds...\n"
     ]
    },
    {
     "name": "stderr",
     "output_type": "stream",
     "text": [
      "Processing Instances:   3%|▎         | 6197/213170 [1:14:26<196:41:30,  3.42s/it]"
     ]
    },
    {
     "name": "stdout",
     "output_type": "stream",
     "text": [
      "Max retries reached. Could not fetch data.\n"
     ]
    },
    {
     "name": "stderr",
     "output_type": "stream",
     "text": [
      "Processing Instances:   3%|▎         | 6384/213170 [1:16:29<30:45:39,  1.87it/s] "
     ]
    },
    {
     "name": "stdout",
     "output_type": "stream",
     "text": [
      "Error: 'age'. Retrying after 2 seconds...\n",
      "Error: 'age'. Retrying after 2 seconds...\n",
      "Error: 'age'. Retrying after 2 seconds...\n"
     ]
    },
    {
     "name": "stderr",
     "output_type": "stream",
     "text": [
      "Processing Instances:   3%|▎         | 6385/213170 [1:16:39<196:04:17,  3.41s/it]"
     ]
    },
    {
     "name": "stdout",
     "output_type": "stream",
     "text": [
      "Max retries reached. Could not fetch data.\n"
     ]
    },
    {
     "name": "stderr",
     "output_type": "stream",
     "text": [
      "Processing Instances:   3%|▎         | 6401/213170 [1:16:50<35:15:51,  1.63it/s] "
     ]
    },
    {
     "name": "stdout",
     "output_type": "stream",
     "text": [
      "Error: 'age'. Retrying after 2 seconds...\n",
      "Error: 'age'. Retrying after 2 seconds...\n",
      "Error: 'age'. Retrying after 2 seconds...\n"
     ]
    },
    {
     "name": "stderr",
     "output_type": "stream",
     "text": [
      "Processing Instances:   3%|▎         | 6402/213170 [1:17:00<198:52:15,  3.46s/it]"
     ]
    },
    {
     "name": "stdout",
     "output_type": "stream",
     "text": [
      "Max retries reached. Could not fetch data.\n"
     ]
    },
    {
     "name": "stderr",
     "output_type": "stream",
     "text": [
      "Processing Instances:   3%|▎         | 6503/213170 [1:18:04<43:37:21,  1.32it/s] "
     ]
    },
    {
     "name": "stdout",
     "output_type": "stream",
     "text": [
      "Error: 'age'. Retrying after 2 seconds...\n",
      "Error: 'age'. Retrying after 2 seconds...\n",
      "Error: 'age'. Retrying after 2 seconds...\n"
     ]
    },
    {
     "name": "stderr",
     "output_type": "stream",
     "text": [
      "Processing Instances:   3%|▎         | 6504/213170 [1:18:14<204:55:23,  3.57s/it]"
     ]
    },
    {
     "name": "stdout",
     "output_type": "stream",
     "text": [
      "Max retries reached. Could not fetch data.\n"
     ]
    },
    {
     "name": "stderr",
     "output_type": "stream",
     "text": [
      "Processing Instances:   3%|▎         | 6535/213170 [1:18:35<35:37:41,  1.61it/s] "
     ]
    },
    {
     "name": "stdout",
     "output_type": "stream",
     "text": [
      "Error: 'age'. Retrying after 2 seconds...\n",
      "Error: 'age'. Retrying after 2 seconds...\n",
      "Error: 'age'. Retrying after 2 seconds...\n"
     ]
    },
    {
     "name": "stderr",
     "output_type": "stream",
     "text": [
      "Processing Instances:   3%|▎         | 6536/213170 [1:18:45<199:04:02,  3.47s/it]"
     ]
    },
    {
     "name": "stdout",
     "output_type": "stream",
     "text": [
      "Max retries reached. Could not fetch data.\n"
     ]
    },
    {
     "name": "stderr",
     "output_type": "stream",
     "text": [
      "Processing Instances:   3%|▎         | 6600/213170 [1:19:22<29:14:39,  1.96it/s] "
     ]
    },
    {
     "name": "stdout",
     "output_type": "stream",
     "text": [
      "Error: 'age'. Retrying after 2 seconds...\n",
      "Error: 'age'. Retrying after 2 seconds...\n",
      "Error: 'age'. Retrying after 2 seconds...\n"
     ]
    },
    {
     "name": "stderr",
     "output_type": "stream",
     "text": [
      "Processing Instances:   3%|▎         | 6601/213170 [1:19:33<194:51:49,  3.40s/it]"
     ]
    },
    {
     "name": "stdout",
     "output_type": "stream",
     "text": [
      "Max retries reached. Could not fetch data.\n"
     ]
    },
    {
     "name": "stderr",
     "output_type": "stream",
     "text": [
      "Processing Instances:   3%|▎         | 6657/213170 [1:20:05<29:49:59,  1.92it/s] "
     ]
    },
    {
     "name": "stdout",
     "output_type": "stream",
     "text": [
      "Error: 'age'. Retrying after 2 seconds...\n",
      "Error: 'age'. Retrying after 2 seconds...\n",
      "Error: 'age'. Retrying after 2 seconds...\n"
     ]
    },
    {
     "name": "stderr",
     "output_type": "stream",
     "text": [
      "Processing Instances:   3%|▎         | 6658/213170 [1:20:16<201:24:51,  3.51s/it]"
     ]
    },
    {
     "name": "stdout",
     "output_type": "stream",
     "text": [
      "Max retries reached. Could not fetch data.\n"
     ]
    },
    {
     "name": "stderr",
     "output_type": "stream",
     "text": [
      "Processing Instances:   3%|▎         | 6800/213170 [1:21:42<33:08:16,  1.73it/s] "
     ]
    },
    {
     "name": "stdout",
     "output_type": "stream",
     "text": [
      "Error: 'age'. Retrying after 2 seconds...\n",
      "Error: 'age'. Retrying after 2 seconds...\n",
      "Error: 'age'. Retrying after 2 seconds...\n"
     ]
    },
    {
     "name": "stderr",
     "output_type": "stream",
     "text": [
      "Processing Instances:   3%|▎         | 6801/213170 [1:21:52<197:06:40,  3.44s/it]"
     ]
    },
    {
     "name": "stdout",
     "output_type": "stream",
     "text": [
      "Max retries reached. Could not fetch data.\n"
     ]
    },
    {
     "name": "stderr",
     "output_type": "stream",
     "text": [
      "Processing Instances:   3%|▎         | 6822/213170 [1:22:05<33:23:26,  1.72it/s] "
     ]
    },
    {
     "name": "stdout",
     "output_type": "stream",
     "text": [
      "Error: 'age'. Retrying after 2 seconds...\n",
      "Error: 'age'. Retrying after 2 seconds...\n",
      "Error: 'age'. Retrying after 2 seconds...\n"
     ]
    },
    {
     "name": "stderr",
     "output_type": "stream",
     "text": [
      "Processing Instances:   3%|▎         | 6823/213170 [1:22:15<197:18:34,  3.44s/it]"
     ]
    },
    {
     "name": "stdout",
     "output_type": "stream",
     "text": [
      "Max retries reached. Could not fetch data.\n"
     ]
    },
    {
     "name": "stderr",
     "output_type": "stream",
     "text": [
      "Processing Instances:   3%|▎         | 6863/213170 [1:22:42<33:42:39,  1.70it/s] "
     ]
    },
    {
     "name": "stdout",
     "output_type": "stream",
     "text": [
      "Error: 'age'. Retrying after 2 seconds...\n",
      "Error: 'age'. Retrying after 2 seconds...\n",
      "Error: 'age'. Retrying after 2 seconds...\n"
     ]
    },
    {
     "name": "stderr",
     "output_type": "stream",
     "text": [
      "Processing Instances:   3%|▎         | 6864/213170 [1:22:52<197:17:52,  3.44s/it]"
     ]
    },
    {
     "name": "stdout",
     "output_type": "stream",
     "text": [
      "Max retries reached. Could not fetch data.\n"
     ]
    },
    {
     "name": "stderr",
     "output_type": "stream",
     "text": [
      "Processing Instances:   3%|▎         | 6960/213170 [1:23:55<37:59:02,  1.51it/s] "
     ]
    },
    {
     "name": "stdout",
     "output_type": "stream",
     "text": [
      "Error: 'age'. Retrying after 2 seconds...\n",
      "Error: 'age'. Retrying after 2 seconds...\n",
      "Error: 'age'. Retrying after 2 seconds...\n"
     ]
    },
    {
     "name": "stderr",
     "output_type": "stream",
     "text": [
      "Processing Instances:   3%|▎         | 6961/213170 [1:24:05<200:18:52,  3.50s/it]"
     ]
    },
    {
     "name": "stdout",
     "output_type": "stream",
     "text": [
      "Max retries reached. Could not fetch data.\n"
     ]
    },
    {
     "name": "stderr",
     "output_type": "stream",
     "text": [
      "Processing Instances:   3%|▎         | 6967/213170 [1:24:10<59:11:51,  1.03s/it] "
     ]
    },
    {
     "name": "stdout",
     "output_type": "stream",
     "text": [
      "Error: 'age'. Retrying after 2 seconds...\n",
      "Error: 'age'. Retrying after 2 seconds...\n",
      "Error: 'age'. Retrying after 2 seconds...\n"
     ]
    },
    {
     "name": "stderr",
     "output_type": "stream",
     "text": [
      "Processing Instances:   3%|▎         | 6968/213170 [1:24:20<215:13:36,  3.76s/it]"
     ]
    },
    {
     "name": "stdout",
     "output_type": "stream",
     "text": [
      "Max retries reached. Could not fetch data.\n"
     ]
    },
    {
     "name": "stderr",
     "output_type": "stream",
     "text": [
      "Processing Instances:   3%|▎         | 6975/213170 [1:24:24<46:15:14,  1.24it/s] "
     ]
    },
    {
     "name": "stdout",
     "output_type": "stream",
     "text": [
      "Error: 'age'. Retrying after 2 seconds...\n",
      "Error: 'age'. Retrying after 2 seconds...\n",
      "Error: 'age'. Retrying after 2 seconds...\n"
     ]
    },
    {
     "name": "stderr",
     "output_type": "stream",
     "text": [
      "Processing Instances:   3%|▎         | 6976/213170 [1:24:34<212:43:57,  3.71s/it]"
     ]
    },
    {
     "name": "stdout",
     "output_type": "stream",
     "text": [
      "Max retries reached. Could not fetch data.\n"
     ]
    },
    {
     "name": "stderr",
     "output_type": "stream",
     "text": [
      "Processing Instances:   3%|▎         | 6979/213170 [1:24:36<98:45:58,  1.72s/it] "
     ]
    },
    {
     "name": "stdout",
     "output_type": "stream",
     "text": [
      "Error: 'age'. Retrying after 2 seconds...\n",
      "Error: 'age'. Retrying after 2 seconds...\n",
      "Error: 'age'. Retrying after 2 seconds...\n"
     ]
    },
    {
     "name": "stderr",
     "output_type": "stream",
     "text": [
      "Processing Instances:   3%|▎         | 6980/213170 [1:24:47<249:37:55,  4.36s/it]"
     ]
    },
    {
     "name": "stdout",
     "output_type": "stream",
     "text": [
      "Max retries reached. Could not fetch data.\n"
     ]
    },
    {
     "name": "stderr",
     "output_type": "stream",
     "text": [
      "Processing Instances:   3%|▎         | 7238/213170 [1:27:36<33:25:58,  1.71it/s] "
     ]
    },
    {
     "name": "stdout",
     "output_type": "stream",
     "text": [
      "Error: 'age'. Retrying after 2 seconds...\n",
      "Error: 'age'. Retrying after 2 seconds...\n",
      "Error: 'age'. Retrying after 2 seconds...\n"
     ]
    },
    {
     "name": "stderr",
     "output_type": "stream",
     "text": [
      "Processing Instances:   3%|▎         | 7239/213170 [1:27:47<197:26:16,  3.45s/it]"
     ]
    },
    {
     "name": "stdout",
     "output_type": "stream",
     "text": [
      "Max retries reached. Could not fetch data.\n"
     ]
    },
    {
     "name": "stderr",
     "output_type": "stream",
     "text": [
      "Processing Instances:   3%|▎         | 7277/213170 [1:28:10<31:28:26,  1.82it/s] "
     ]
    },
    {
     "name": "stdout",
     "output_type": "stream",
     "text": [
      "Error: 'age'. Retrying after 2 seconds...\n",
      "Error: 'age'. Retrying after 2 seconds...\n",
      "Error: 'age'. Retrying after 2 seconds...\n"
     ]
    },
    {
     "name": "stderr",
     "output_type": "stream",
     "text": [
      "Processing Instances:   3%|▎         | 7278/213170 [1:28:21<200:59:27,  3.51s/it]"
     ]
    },
    {
     "name": "stdout",
     "output_type": "stream",
     "text": [
      "Max retries reached. Could not fetch data.\n"
     ]
    },
    {
     "name": "stderr",
     "output_type": "stream",
     "text": [
      "Processing Instances:   3%|▎         | 7287/213170 [1:28:27<50:28:17,  1.13it/s] "
     ]
    },
    {
     "name": "stdout",
     "output_type": "stream",
     "text": [
      "Error: 'age'. Retrying after 2 seconds...\n",
      "Error: 'age'. Retrying after 2 seconds...\n",
      "Error: 'age'. Retrying after 2 seconds...\n"
     ]
    },
    {
     "name": "stderr",
     "output_type": "stream",
     "text": [
      "Processing Instances:   3%|▎         | 7288/213170 [1:28:37<208:58:27,  3.65s/it]"
     ]
    },
    {
     "name": "stdout",
     "output_type": "stream",
     "text": [
      "Max retries reached. Could not fetch data.\n"
     ]
    },
    {
     "name": "stderr",
     "output_type": "stream",
     "text": [
      "Processing Instances:   3%|▎         | 7302/213170 [1:28:47<36:20:22,  1.57it/s] "
     ]
    },
    {
     "name": "stdout",
     "output_type": "stream",
     "text": [
      "Error: 'age'. Retrying after 2 seconds...\n",
      "Error: 'age'. Retrying after 2 seconds...\n",
      "Error: 'age'. Retrying after 2 seconds...\n"
     ]
    },
    {
     "name": "stderr",
     "output_type": "stream",
     "text": [
      "Processing Instances:   3%|▎         | 7303/213170 [1:28:57<198:51:49,  3.48s/it]"
     ]
    },
    {
     "name": "stdout",
     "output_type": "stream",
     "text": [
      "Max retries reached. Could not fetch data.\n"
     ]
    },
    {
     "name": "stderr",
     "output_type": "stream",
     "text": [
      "Processing Instances:   3%|▎         | 7334/213170 [1:29:18<40:15:41,  1.42it/s] "
     ]
    },
    {
     "name": "stdout",
     "output_type": "stream",
     "text": [
      "Error: 'age'. Retrying after 2 seconds...\n",
      "Error: 'age'. Retrying after 2 seconds...\n",
      "Error: 'age'. Retrying after 2 seconds...\n"
     ]
    },
    {
     "name": "stderr",
     "output_type": "stream",
     "text": [
      "Processing Instances:   3%|▎         | 7335/213170 [1:29:28<208:07:17,  3.64s/it]"
     ]
    },
    {
     "name": "stdout",
     "output_type": "stream",
     "text": [
      "Max retries reached. Could not fetch data.\n",
      "Error: 'age'. Retrying after 2 seconds...\n",
      "Error: 'age'. Retrying after 2 seconds...\n",
      "Error: 'age'. Retrying after 2 seconds...\n"
     ]
    },
    {
     "name": "stderr",
     "output_type": "stream",
     "text": [
      "Processing Instances:   3%|▎         | 7336/213170 [1:29:38<318:57:07,  5.58s/it]"
     ]
    },
    {
     "name": "stdout",
     "output_type": "stream",
     "text": [
      "Max retries reached. Could not fetch data.\n"
     ]
    },
    {
     "name": "stderr",
     "output_type": "stream",
     "text": [
      "Processing Instances:   3%|▎         | 7345/213170 [1:29:44<43:24:07,  1.32it/s] "
     ]
    },
    {
     "name": "stdout",
     "output_type": "stream",
     "text": [
      "Error: 'age'. Retrying after 2 seconds...\n",
      "Error: 'age'. Retrying after 2 seconds...\n",
      "Error: 'age'. Retrying after 2 seconds...\n"
     ]
    },
    {
     "name": "stderr",
     "output_type": "stream",
     "text": [
      "Processing Instances:   3%|▎         | 7346/213170 [1:29:54<203:44:11,  3.56s/it]"
     ]
    },
    {
     "name": "stdout",
     "output_type": "stream",
     "text": [
      "Max retries reached. Could not fetch data.\n"
     ]
    },
    {
     "name": "stderr",
     "output_type": "stream",
     "text": [
      "Processing Instances:   3%|▎         | 7370/213170 [1:30:11<49:14:18,  1.16it/s] "
     ]
    },
    {
     "name": "stdout",
     "output_type": "stream",
     "text": [
      "Error: 'age'. Retrying after 2 seconds...\n",
      "Error: 'age'. Retrying after 2 seconds...\n",
      "Error: 'age'. Retrying after 2 seconds...\n"
     ]
    },
    {
     "name": "stderr",
     "output_type": "stream",
     "text": [
      "Processing Instances:   3%|▎         | 7371/213170 [1:30:22<220:45:39,  3.86s/it]"
     ]
    },
    {
     "name": "stdout",
     "output_type": "stream",
     "text": [
      "Max retries reached. Could not fetch data.\n"
     ]
    },
    {
     "name": "stderr",
     "output_type": "stream",
     "text": [
      "Processing Instances:   3%|▎         | 7395/213170 [1:30:40<42:31:04,  1.34it/s] "
     ]
    },
    {
     "name": "stdout",
     "output_type": "stream",
     "text": [
      "Error: 'age'. Retrying after 2 seconds...\n",
      "Error: 'age'. Retrying after 2 seconds...\n",
      "Error: 'age'. Retrying after 2 seconds...\n"
     ]
    },
    {
     "name": "stderr",
     "output_type": "stream",
     "text": [
      "Processing Instances:   3%|▎         | 7396/213170 [1:30:50<203:46:24,  3.56s/it]"
     ]
    },
    {
     "name": "stdout",
     "output_type": "stream",
     "text": [
      "Max retries reached. Could not fetch data.\n"
     ]
    },
    {
     "name": "stderr",
     "output_type": "stream",
     "text": [
      "Processing Instances:   3%|▎         | 7416/213170 [1:31:04<40:51:38,  1.40it/s] "
     ]
    },
    {
     "name": "stdout",
     "output_type": "stream",
     "text": [
      "Error: 'age'. Retrying after 2 seconds...\n",
      "Error: 'age'. Retrying after 2 seconds...\n",
      "Error: 'age'. Retrying after 2 seconds...\n"
     ]
    },
    {
     "name": "stderr",
     "output_type": "stream",
     "text": [
      "Processing Instances:   3%|▎         | 7417/213170 [1:31:14<202:04:22,  3.54s/it]"
     ]
    },
    {
     "name": "stdout",
     "output_type": "stream",
     "text": [
      "Max retries reached. Could not fetch data.\n"
     ]
    },
    {
     "name": "stderr",
     "output_type": "stream",
     "text": [
      "Processing Instances:   3%|▎         | 7435/213170 [1:31:26<43:54:30,  1.30it/s] "
     ]
    },
    {
     "name": "stdout",
     "output_type": "stream",
     "text": [
      "Error: 'age'. Retrying after 2 seconds...\n",
      "Error: 'age'. Retrying after 2 seconds...\n",
      "Error: 'age'. Retrying after 2 seconds...\n"
     ]
    },
    {
     "name": "stderr",
     "output_type": "stream",
     "text": [
      "Processing Instances:   3%|▎         | 7436/213170 [1:31:37<210:44:21,  3.69s/it]"
     ]
    },
    {
     "name": "stdout",
     "output_type": "stream",
     "text": [
      "Max retries reached. Could not fetch data.\n"
     ]
    },
    {
     "name": "stderr",
     "output_type": "stream",
     "text": [
      "Processing Instances:   4%|▎         | 7486/213170 [1:32:09<39:59:07,  1.43it/s] "
     ]
    },
    {
     "name": "stdout",
     "output_type": "stream",
     "text": [
      "Error: 'age'. Retrying after 2 seconds...\n",
      "Error: 'age'. Retrying after 2 seconds...\n",
      "Error: 'age'. Retrying after 2 seconds...\n"
     ]
    },
    {
     "name": "stderr",
     "output_type": "stream",
     "text": [
      "Processing Instances:   4%|▎         | 7487/213170 [1:32:20<202:05:35,  3.54s/it]"
     ]
    },
    {
     "name": "stdout",
     "output_type": "stream",
     "text": [
      "Max retries reached. Could not fetch data.\n"
     ]
    },
    {
     "name": "stderr",
     "output_type": "stream",
     "text": [
      "Processing Instances:   4%|▎         | 7579/213170 [1:33:19<32:53:53,  1.74it/s] "
     ]
    },
    {
     "name": "stdout",
     "output_type": "stream",
     "text": [
      "Error: 'age'. Retrying after 2 seconds...\n",
      "Error: 'age'. Retrying after 2 seconds...\n",
      "Error: 'age'. Retrying after 2 seconds...\n"
     ]
    },
    {
     "name": "stderr",
     "output_type": "stream",
     "text": [
      "Processing Instances:   4%|▎         | 7580/213170 [1:33:29<199:10:28,  3.49s/it]"
     ]
    },
    {
     "name": "stdout",
     "output_type": "stream",
     "text": [
      "Max retries reached. Could not fetch data.\n"
     ]
    },
    {
     "name": "stderr",
     "output_type": "stream",
     "text": [
      "Processing Instances:   4%|▎         | 7629/213170 [1:34:03<45:14:11,  1.26it/s] "
     ]
    },
    {
     "name": "stdout",
     "output_type": "stream",
     "text": [
      "Error: 'age'. Retrying after 2 seconds...\n",
      "Error: 'age'. Retrying after 2 seconds...\n",
      "Error: 'age'. Retrying after 2 seconds...\n"
     ]
    },
    {
     "name": "stderr",
     "output_type": "stream",
     "text": [
      "Processing Instances:   4%|▎         | 7630/213170 [1:34:13<204:46:46,  3.59s/it]"
     ]
    },
    {
     "name": "stdout",
     "output_type": "stream",
     "text": [
      "Max retries reached. Could not fetch data.\n"
     ]
    },
    {
     "name": "stderr",
     "output_type": "stream",
     "text": [
      "Processing Instances:   4%|▍         | 7995/213170 [1:38:00<32:20:11,  1.76it/s] "
     ]
    },
    {
     "name": "stdout",
     "output_type": "stream",
     "text": [
      "Error: 'age'. Retrying after 2 seconds...\n",
      "Error: 'age'. Retrying after 2 seconds...\n",
      "Error: 'age'. Retrying after 2 seconds...\n"
     ]
    },
    {
     "name": "stderr",
     "output_type": "stream",
     "text": [
      "Processing Instances:   4%|▍         | 7996/213170 [1:38:10<195:29:51,  3.43s/it]"
     ]
    },
    {
     "name": "stdout",
     "output_type": "stream",
     "text": [
      "Max retries reached. Could not fetch data.\n"
     ]
    },
    {
     "name": "stderr",
     "output_type": "stream",
     "text": [
      "Processing Instances:   4%|▍         | 8363/213170 [1:41:58<31:04:29,  1.83it/s] "
     ]
    },
    {
     "name": "stdout",
     "output_type": "stream",
     "text": [
      "Error: 'age'. Retrying after 2 seconds...\n",
      "Error: 'age'. Retrying after 2 seconds...\n",
      "Error: 'age'. Retrying after 2 seconds...\n"
     ]
    },
    {
     "name": "stderr",
     "output_type": "stream",
     "text": [
      "Processing Instances:   4%|▍         | 8364/213170 [1:42:08<194:15:45,  3.41s/it]"
     ]
    },
    {
     "name": "stdout",
     "output_type": "stream",
     "text": [
      "Max retries reached. Could not fetch data.\n"
     ]
    },
    {
     "name": "stderr",
     "output_type": "stream",
     "text": [
      "Processing Instances:   4%|▍         | 8372/213170 [1:42:13<42:31:05,  1.34it/s] "
     ]
    },
    {
     "name": "stdout",
     "output_type": "stream",
     "text": [
      "Error: 'age'. Retrying after 2 seconds...\n",
      "Error: 'age'. Retrying after 2 seconds...\n",
      "Error: 'age'. Retrying after 2 seconds...\n"
     ]
    },
    {
     "name": "stderr",
     "output_type": "stream",
     "text": [
      "Processing Instances:   4%|▍         | 8373/213170 [1:42:24<209:16:11,  3.68s/it]"
     ]
    },
    {
     "name": "stdout",
     "output_type": "stream",
     "text": [
      "Max retries reached. Could not fetch data.\n"
     ]
    },
    {
     "name": "stderr",
     "output_type": "stream",
     "text": [
      "Processing Instances:   4%|▍         | 8376/213170 [1:42:25<90:39:42,  1.59s/it] "
     ]
    },
    {
     "name": "stdout",
     "output_type": "stream",
     "text": [
      "Error: 'age'. Retrying after 2 seconds...\n",
      "Error: 'age'. Retrying after 2 seconds...\n",
      "Error: 'age'. Retrying after 2 seconds...\n"
     ]
    },
    {
     "name": "stderr",
     "output_type": "stream",
     "text": [
      "Processing Instances:   4%|▍         | 8377/213170 [1:42:35<237:10:03,  4.17s/it]"
     ]
    },
    {
     "name": "stdout",
     "output_type": "stream",
     "text": [
      "Max retries reached. Could not fetch data.\n"
     ]
    },
    {
     "name": "stderr",
     "output_type": "stream",
     "text": [
      "Processing Instances:   4%|▍         | 8763/213170 [1:46:35<36:55:42,  1.54it/s] "
     ]
    },
    {
     "name": "stdout",
     "output_type": "stream",
     "text": [
      "Error: 'age'. Retrying after 2 seconds...\n",
      "Error: 'age'. Retrying after 2 seconds...\n",
      "Error: 'age'. Retrying after 2 seconds...\n"
     ]
    },
    {
     "name": "stderr",
     "output_type": "stream",
     "text": [
      "Processing Instances:   4%|▍         | 8764/213170 [1:46:45<197:50:45,  3.48s/it]"
     ]
    },
    {
     "name": "stdout",
     "output_type": "stream",
     "text": [
      "Max retries reached. Could not fetch data.\n"
     ]
    },
    {
     "name": "stderr",
     "output_type": "stream",
     "text": [
      "Processing Instances:   4%|▍         | 9142/213170 [1:50:34<32:35:07,  1.74it/s] "
     ]
    },
    {
     "name": "stdout",
     "output_type": "stream",
     "text": [
      "Error: 'age'. Retrying after 2 seconds...\n",
      "Error: 'age'. Retrying after 2 seconds...\n",
      "Error: 'age'. Retrying after 2 seconds...\n"
     ]
    },
    {
     "name": "stderr",
     "output_type": "stream",
     "text": [
      "Processing Instances:   4%|▍         | 9143/213170 [1:50:44<194:40:29,  3.43s/it]"
     ]
    },
    {
     "name": "stdout",
     "output_type": "stream",
     "text": [
      "Max retries reached. Could not fetch data.\n"
     ]
    },
    {
     "name": "stderr",
     "output_type": "stream",
     "text": [
      "Processing Instances:   4%|▍         | 9184/213170 [1:51:08<29:27:13,  1.92it/s] "
     ]
    },
    {
     "name": "stdout",
     "output_type": "stream",
     "text": [
      "Error: 'age'. Retrying after 2 seconds...\n",
      "Error: 'age'. Retrying after 2 seconds...\n",
      "Error: 'age'. Retrying after 2 seconds...\n"
     ]
    },
    {
     "name": "stderr",
     "output_type": "stream",
     "text": [
      "Processing Instances:   4%|▍         | 9185/213170 [1:51:18<192:31:26,  3.40s/it]"
     ]
    },
    {
     "name": "stdout",
     "output_type": "stream",
     "text": [
      "Max retries reached. Could not fetch data.\n"
     ]
    },
    {
     "name": "stderr",
     "output_type": "stream",
     "text": [
      "Processing Instances:   4%|▍         | 9234/213170 [1:51:51<33:37:21,  1.68it/s] "
     ]
    },
    {
     "name": "stdout",
     "output_type": "stream",
     "text": [
      "Error: 'age'. Retrying after 2 seconds...\n",
      "Error: 'age'. Retrying after 2 seconds...\n",
      "Error: 'age'. Retrying after 2 seconds...\n"
     ]
    },
    {
     "name": "stderr",
     "output_type": "stream",
     "text": [
      "Processing Instances:   4%|▍         | 9235/213170 [1:52:01<195:15:29,  3.45s/it]"
     ]
    },
    {
     "name": "stdout",
     "output_type": "stream",
     "text": [
      "Max retries reached. Could not fetch data.\n"
     ]
    },
    {
     "name": "stderr",
     "output_type": "stream",
     "text": [
      "Processing Instances:   4%|▍         | 9256/213170 [1:52:14<32:29:11,  1.74it/s] "
     ]
    },
    {
     "name": "stdout",
     "output_type": "stream",
     "text": [
      "Error: 'age'. Retrying after 2 seconds...\n",
      "Error: 'age'. Retrying after 2 seconds...\n",
      "Error: 'age'. Retrying after 2 seconds...\n"
     ]
    },
    {
     "name": "stderr",
     "output_type": "stream",
     "text": [
      "Processing Instances:   4%|▍         | 9257/213170 [1:52:25<199:24:06,  3.52s/it]"
     ]
    },
    {
     "name": "stdout",
     "output_type": "stream",
     "text": [
      "Max retries reached. Could not fetch data.\n"
     ]
    },
    {
     "name": "stderr",
     "output_type": "stream",
     "text": [
      "Processing Instances:   4%|▍         | 9258/213170 [1:52:25<148:24:42,  2.62s/it]"
     ]
    },
    {
     "name": "stdout",
     "output_type": "stream",
     "text": [
      "Error: 'age'. Retrying after 2 seconds...\n",
      "Error: 'age'. Retrying after 2 seconds...\n",
      "Error: 'age'. Retrying after 2 seconds...\n"
     ]
    },
    {
     "name": "stderr",
     "output_type": "stream",
     "text": [
      "Processing Instances:   4%|▍         | 9259/213170 [1:52:35<275:47:59,  4.87s/it]"
     ]
    },
    {
     "name": "stdout",
     "output_type": "stream",
     "text": [
      "Max retries reached. Could not fetch data.\n"
     ]
    },
    {
     "name": "stderr",
     "output_type": "stream",
     "text": [
      "Processing Instances:   4%|▍         | 9579/213170 [1:56:00<29:19:21,  1.93it/s] "
     ]
    },
    {
     "name": "stdout",
     "output_type": "stream",
     "text": [
      "Error: 'age'. Retrying after 2 seconds...\n",
      "Error: 'age'. Retrying after 2 seconds...\n",
      "Error: 'age'. Retrying after 2 seconds...\n"
     ]
    },
    {
     "name": "stderr",
     "output_type": "stream",
     "text": [
      "Processing Instances:   4%|▍         | 9580/213170 [1:56:10<191:53:45,  3.39s/it]"
     ]
    },
    {
     "name": "stdout",
     "output_type": "stream",
     "text": [
      "Max retries reached. Could not fetch data.\n"
     ]
    },
    {
     "name": "stderr",
     "output_type": "stream",
     "text": [
      "Processing Instances:   5%|▍         | 9648/213170 [1:56:52<35:49:25,  1.58it/s] "
     ]
    },
    {
     "name": "stdout",
     "output_type": "stream",
     "text": [
      "Error: 'age'. Retrying after 2 seconds...\n",
      "Error: 'age'. Retrying after 2 seconds...\n",
      "Error: 'age'. Retrying after 2 seconds...\n"
     ]
    },
    {
     "name": "stderr",
     "output_type": "stream",
     "text": [
      "Processing Instances:   5%|▍         | 9649/213170 [1:57:02<196:36:39,  3.48s/it]"
     ]
    },
    {
     "name": "stdout",
     "output_type": "stream",
     "text": [
      "Max retries reached. Could not fetch data.\n"
     ]
    },
    {
     "name": "stderr",
     "output_type": "stream",
     "text": [
      "Processing Instances:   5%|▍         | 9777/213170 [1:58:22<35:21:52,  1.60it/s] "
     ]
    },
    {
     "name": "stdout",
     "output_type": "stream",
     "text": [
      "Error: 'age'. Retrying after 2 seconds...\n",
      "Error: 'age'. Retrying after 2 seconds...\n",
      "Error: 'age'. Retrying after 2 seconds...\n"
     ]
    },
    {
     "name": "stderr",
     "output_type": "stream",
     "text": [
      "Processing Instances:   5%|▍         | 9778/213170 [1:58:33<202:39:27,  3.59s/it]"
     ]
    },
    {
     "name": "stdout",
     "output_type": "stream",
     "text": [
      "Max retries reached. Could not fetch data.\n"
     ]
    },
    {
     "name": "stderr",
     "output_type": "stream",
     "text": [
      "Processing Instances:   5%|▍         | 9804/213170 [1:58:48<31:22:14,  1.80it/s] "
     ]
    },
    {
     "name": "stdout",
     "output_type": "stream",
     "text": [
      "Error: 'age'. Retrying after 2 seconds...\n",
      "Error: 'age'. Retrying after 2 seconds...\n",
      "Error: 'age'. Retrying after 2 seconds...\n"
     ]
    },
    {
     "name": "stderr",
     "output_type": "stream",
     "text": [
      "Processing Instances:   5%|▍         | 9805/213170 [1:58:59<200:09:53,  3.54s/it]"
     ]
    },
    {
     "name": "stdout",
     "output_type": "stream",
     "text": [
      "Max retries reached. Could not fetch data.\n"
     ]
    },
    {
     "name": "stderr",
     "output_type": "stream",
     "text": [
      "Processing Instances:   5%|▍         | 10354/213170 [2:04:34<38:32:11,  1.46it/s]"
     ]
    },
    {
     "name": "stdout",
     "output_type": "stream",
     "text": [
      "Error: 'age'. Retrying after 2 seconds...\n",
      "Error: 'age'. Retrying after 2 seconds...\n",
      "Error: 'age'. Retrying after 2 seconds...\n"
     ]
    },
    {
     "name": "stderr",
     "output_type": "stream",
     "text": [
      "Processing Instances:   5%|▍         | 10355/213170 [2:04:45<204:38:17,  3.63s/it]"
     ]
    },
    {
     "name": "stdout",
     "output_type": "stream",
     "text": [
      "Max retries reached. Could not fetch data.\n"
     ]
    },
    {
     "name": "stderr",
     "output_type": "stream",
     "text": [
      "Processing Instances:   5%|▍         | 10536/213170 [2:06:36<36:18:36,  1.55it/s] "
     ]
    },
    {
     "name": "stdout",
     "output_type": "stream",
     "text": [
      "Error: 'age'. Retrying after 2 seconds...\n",
      "Error: 'age'. Retrying after 2 seconds...\n",
      "Error: 'age'. Retrying after 2 seconds...\n"
     ]
    },
    {
     "name": "stderr",
     "output_type": "stream",
     "text": [
      "Processing Instances:   5%|▍         | 10537/213170 [2:06:46<196:10:41,  3.49s/it]"
     ]
    },
    {
     "name": "stdout",
     "output_type": "stream",
     "text": [
      "Max retries reached. Could not fetch data.\n"
     ]
    },
    {
     "name": "stderr",
     "output_type": "stream",
     "text": [
      "Processing Instances:   5%|▍         | 10540/213170 [2:06:48<97:03:38,  1.72s/it] "
     ]
    },
    {
     "name": "stdout",
     "output_type": "stream",
     "text": [
      "Error: 'age'. Retrying after 2 seconds...\n",
      "Error: 'age'. Retrying after 2 seconds...\n",
      "Error: 'age'. Retrying after 2 seconds...\n"
     ]
    },
    {
     "name": "stderr",
     "output_type": "stream",
     "text": [
      "Processing Instances:   5%|▍         | 10541/213170 [2:06:58<238:57:11,  4.25s/it]"
     ]
    },
    {
     "name": "stdout",
     "output_type": "stream",
     "text": [
      "Max retries reached. Could not fetch data.\n"
     ]
    },
    {
     "name": "stderr",
     "output_type": "stream",
     "text": [
      "Processing Instances:   5%|▍         | 10591/213170 [2:07:31<34:11:39,  1.65it/s] "
     ]
    },
    {
     "name": "stdout",
     "output_type": "stream",
     "text": [
      "Error: 'age'. Retrying after 2 seconds...\n",
      "Error: 'age'. Retrying after 2 seconds...\n",
      "Error: 'age'. Retrying after 2 seconds...\n"
     ]
    },
    {
     "name": "stderr",
     "output_type": "stream",
     "text": [
      "Processing Instances:   5%|▍         | 10592/213170 [2:07:42<201:18:00,  3.58s/it]"
     ]
    },
    {
     "name": "stdout",
     "output_type": "stream",
     "text": [
      "Max retries reached. Could not fetch data.\n"
     ]
    },
    {
     "name": "stderr",
     "output_type": "stream",
     "text": [
      "Processing Instances:   5%|▍         | 10633/213170 [2:08:05<29:16:50,  1.92it/s] "
     ]
    },
    {
     "name": "stdout",
     "output_type": "stream",
     "text": [
      "Error: 'age'. Retrying after 2 seconds...\n",
      "Error: 'age'. Retrying after 2 seconds...\n",
      "Error: 'age'. Retrying after 2 seconds...\n"
     ]
    },
    {
     "name": "stderr",
     "output_type": "stream",
     "text": [
      "Processing Instances:   5%|▍         | 10634/213170 [2:08:15<191:12:57,  3.40s/it]"
     ]
    },
    {
     "name": "stdout",
     "output_type": "stream",
     "text": [
      "Max retries reached. Could not fetch data.\n"
     ]
    },
    {
     "name": "stderr",
     "output_type": "stream",
     "text": [
      "Processing Instances:   5%|▌         | 10716/213170 [2:09:09<38:09:57,  1.47it/s] "
     ]
    },
    {
     "name": "stdout",
     "output_type": "stream",
     "text": [
      "Error: 'age'. Retrying after 2 seconds...\n",
      "Error: 'age'. Retrying after 2 seconds...\n",
      "Error: 'age'. Retrying after 2 seconds...\n"
     ]
    },
    {
     "name": "stderr",
     "output_type": "stream",
     "text": [
      "Processing Instances:   5%|▌         | 10717/213170 [2:09:20<197:25:24,  3.51s/it]"
     ]
    },
    {
     "name": "stdout",
     "output_type": "stream",
     "text": [
      "Max retries reached. Could not fetch data.\n"
     ]
    },
    {
     "name": "stderr",
     "output_type": "stream",
     "text": [
      "Processing Instances:   5%|▌         | 11143/213170 [2:13:43<37:27:05,  1.50it/s] "
     ]
    },
    {
     "name": "stdout",
     "output_type": "stream",
     "text": [
      "Error: 'age'. Retrying after 2 seconds...\n",
      "Error: 'age'. Retrying after 2 seconds...\n",
      "Error: 'age'. Retrying after 2 seconds...\n"
     ]
    },
    {
     "name": "stderr",
     "output_type": "stream",
     "text": [
      "Processing Instances:   5%|▌         | 11144/213170 [2:13:53<203:08:06,  3.62s/it]"
     ]
    },
    {
     "name": "stdout",
     "output_type": "stream",
     "text": [
      "Max retries reached. Could not fetch data.\n"
     ]
    },
    {
     "name": "stderr",
     "output_type": "stream",
     "text": [
      "Processing Instances:   5%|▌         | 11238/213170 [2:14:53<28:45:16,  1.95it/s] "
     ]
    },
    {
     "name": "stdout",
     "output_type": "stream",
     "text": [
      "Error: 'age'. Retrying after 2 seconds...\n",
      "Error: 'age'. Retrying after 2 seconds...\n",
      "Error: 'age'. Retrying after 2 seconds...\n"
     ]
    },
    {
     "name": "stderr",
     "output_type": "stream",
     "text": [
      "Processing Instances:   5%|▌         | 11239/213170 [2:15:03<190:20:42,  3.39s/it]"
     ]
    },
    {
     "name": "stdout",
     "output_type": "stream",
     "text": [
      "Max retries reached. Could not fetch data.\n"
     ]
    },
    {
     "name": "stderr",
     "output_type": "stream",
     "text": [
      "Processing Instances:   5%|▌         | 11312/213170 [2:15:51<29:27:35,  1.90it/s] "
     ]
    },
    {
     "name": "stdout",
     "output_type": "stream",
     "text": [
      "Error: 'age'. Retrying after 2 seconds...\n",
      "Error: 'age'. Retrying after 2 seconds...\n",
      "Error: 'age'. Retrying after 2 seconds...\n"
     ]
    },
    {
     "name": "stderr",
     "output_type": "stream",
     "text": [
      "Processing Instances:   5%|▌         | 11313/213170 [2:16:02<202:52:01,  3.62s/it]"
     ]
    },
    {
     "name": "stdout",
     "output_type": "stream",
     "text": [
      "Max retries reached. Could not fetch data.\n"
     ]
    },
    {
     "name": "stderr",
     "output_type": "stream",
     "text": [
      "Processing Instances:   5%|▌         | 11352/213170 [2:16:28<31:34:17,  1.78it/s] "
     ]
    },
    {
     "name": "stdout",
     "output_type": "stream",
     "text": [
      "Error: 'age'. Retrying after 2 seconds...\n",
      "Error: 'age'. Retrying after 2 seconds...\n",
      "Error: 'age'. Retrying after 2 seconds...\n"
     ]
    },
    {
     "name": "stderr",
     "output_type": "stream",
     "text": [
      "Processing Instances:   5%|▌         | 11353/213170 [2:16:38<192:25:18,  3.43s/it]"
     ]
    },
    {
     "name": "stdout",
     "output_type": "stream",
     "text": [
      "Max retries reached. Could not fetch data.\n"
     ]
    },
    {
     "name": "stderr",
     "output_type": "stream",
     "text": [
      "Processing Instances:   5%|▌         | 11467/213170 [2:17:48<42:19:11,  1.32it/s] "
     ]
    },
    {
     "name": "stdout",
     "output_type": "stream",
     "text": [
      "Error: 'age'. Retrying after 2 seconds...\n",
      "Error: 'age'. Retrying after 2 seconds...\n",
      "Error: 'age'. Retrying after 2 seconds...\n"
     ]
    },
    {
     "name": "stderr",
     "output_type": "stream",
     "text": [
      "Processing Instances:   5%|▌         | 11468/213170 [2:17:58<206:06:46,  3.68s/it]"
     ]
    },
    {
     "name": "stdout",
     "output_type": "stream",
     "text": [
      "Max retries reached. Could not fetch data.\n"
     ]
    },
    {
     "name": "stderr",
     "output_type": "stream",
     "text": [
      "Processing Instances:   6%|▌         | 11789/213170 [2:21:16<34:23:04,  1.63it/s] "
     ]
    },
    {
     "name": "stdout",
     "output_type": "stream",
     "text": [
      "Error: 'age'. Retrying after 2 seconds...\n",
      "Error: 'age'. Retrying after 2 seconds...\n",
      "Error: 'age'. Retrying after 2 seconds...\n"
     ]
    },
    {
     "name": "stderr",
     "output_type": "stream",
     "text": [
      "Processing Instances:   6%|▌         | 11790/213170 [2:21:27<193:49:41,  3.46s/it]"
     ]
    },
    {
     "name": "stdout",
     "output_type": "stream",
     "text": [
      "Max retries reached. Could not fetch data.\n"
     ]
    },
    {
     "name": "stderr",
     "output_type": "stream",
     "text": [
      "Processing Instances:   6%|▌         | 11791/213170 [2:21:27<150:47:41,  2.70s/it]"
     ]
    },
    {
     "name": "stdout",
     "output_type": "stream",
     "text": [
      "Error: 'age'. Retrying after 2 seconds...\n",
      "Error: 'age'. Retrying after 2 seconds...\n",
      "Error: 'age'. Retrying after 2 seconds...\n"
     ]
    },
    {
     "name": "stderr",
     "output_type": "stream",
     "text": [
      "Processing Instances:   6%|▌         | 11792/213170 [2:21:38<277:30:36,  4.96s/it]"
     ]
    },
    {
     "name": "stdout",
     "output_type": "stream",
     "text": [
      "Max retries reached. Could not fetch data.\n"
     ]
    },
    {
     "name": "stderr",
     "output_type": "stream",
     "text": [
      "Processing Instances:   6%|▌         | 11795/213170 [2:21:40<118:21:06,  2.12s/it]"
     ]
    },
    {
     "name": "stdout",
     "output_type": "stream",
     "text": [
      "Error: 'age'. Retrying after 2 seconds...\n",
      "Error: 'age'. Retrying after 2 seconds...\n",
      "Error: 'age'. Retrying after 2 seconds...\n"
     ]
    },
    {
     "name": "stderr",
     "output_type": "stream",
     "text": [
      "Processing Instances:   6%|▌         | 11796/213170 [2:21:50<259:00:50,  4.63s/it]"
     ]
    },
    {
     "name": "stdout",
     "output_type": "stream",
     "text": [
      "Max retries reached. Could not fetch data.\n"
     ]
    },
    {
     "name": "stderr",
     "output_type": "stream",
     "text": [
      "Processing Instances:   6%|▌         | 11797/213170 [2:21:51<189:43:39,  3.39s/it]"
     ]
    },
    {
     "name": "stdout",
     "output_type": "stream",
     "text": [
      "Error: 'age'. Retrying after 2 seconds...\n",
      "Error: 'age'. Retrying after 2 seconds...\n",
      "Error: 'age'. Retrying after 2 seconds...\n"
     ]
    },
    {
     "name": "stderr",
     "output_type": "stream",
     "text": [
      "Processing Instances:   6%|▌         | 11798/213170 [2:22:01<309:07:42,  5.53s/it]"
     ]
    },
    {
     "name": "stdout",
     "output_type": "stream",
     "text": [
      "Max retries reached. Could not fetch data.\n"
     ]
    },
    {
     "name": "stderr",
     "output_type": "stream",
     "text": [
      "Processing Instances:   6%|▌         | 12068/213170 [2:24:57<42:56:06,  1.30it/s] "
     ]
    },
    {
     "name": "stdout",
     "output_type": "stream",
     "text": [
      "Error: 'age'. Retrying after 2 seconds...\n",
      "Error: 'age'. Retrying after 2 seconds...\n",
      "Error: 'age'. Retrying after 2 seconds...\n"
     ]
    },
    {
     "name": "stderr",
     "output_type": "stream",
     "text": [
      "Processing Instances:   6%|▌         | 12069/213170 [2:25:08<213:07:22,  3.82s/it]"
     ]
    },
    {
     "name": "stdout",
     "output_type": "stream",
     "text": [
      "Max retries reached. Could not fetch data.\n"
     ]
    },
    {
     "name": "stderr",
     "output_type": "stream",
     "text": [
      "Processing Instances:   6%|▌         | 12515/213170 [2:29:33<30:03:51,  1.85it/s] "
     ]
    },
    {
     "name": "stdout",
     "output_type": "stream",
     "text": [
      "Error: 'age'. Retrying after 2 seconds...\n",
      "Error: 'age'. Retrying after 2 seconds...\n",
      "Error: 'age'. Retrying after 2 seconds...\n"
     ]
    },
    {
     "name": "stderr",
     "output_type": "stream",
     "text": [
      "Processing Instances:   6%|▌         | 12516/213170 [2:29:43<190:15:35,  3.41s/it]"
     ]
    },
    {
     "name": "stdout",
     "output_type": "stream",
     "text": [
      "Max retries reached. Could not fetch data.\n",
      "Error: 'age'. Retrying after 2 seconds...\n",
      "Error: 'age'. Retrying after 2 seconds...\n",
      "Error: 'age'. Retrying after 2 seconds...\n"
     ]
    },
    {
     "name": "stderr",
     "output_type": "stream",
     "text": [
      "Processing Instances:   6%|▌         | 12517/213170 [2:29:53<302:25:04,  5.43s/it]"
     ]
    },
    {
     "name": "stdout",
     "output_type": "stream",
     "text": [
      "Max retries reached. Could not fetch data.\n"
     ]
    },
    {
     "name": "stderr",
     "output_type": "stream",
     "text": [
      "Processing Instances:   6%|▌         | 12709/213170 [2:31:51<33:40:18,  1.65it/s] "
     ]
    },
    {
     "name": "stdout",
     "output_type": "stream",
     "text": [
      "Error: 'age'. Retrying after 2 seconds...\n",
      "Error: 'age'. Retrying after 2 seconds...\n",
      "Error: 'age'. Retrying after 2 seconds...\n"
     ]
    },
    {
     "name": "stderr",
     "output_type": "stream",
     "text": [
      "Processing Instances:   6%|▌         | 12710/213170 [2:32:01<192:19:12,  3.45s/it]"
     ]
    },
    {
     "name": "stdout",
     "output_type": "stream",
     "text": [
      "Max retries reached. Could not fetch data.\n"
     ]
    },
    {
     "name": "stderr",
     "output_type": "stream",
     "text": [
      "Processing Instances:   6%|▌         | 12720/213170 [2:32:07<37:31:54,  1.48it/s] "
     ]
    },
    {
     "name": "stdout",
     "output_type": "stream",
     "text": [
      "Error: 'age'. Retrying after 2 seconds...\n",
      "Error: 'age'. Retrying after 2 seconds...\n",
      "Error: 'age'. Retrying after 2 seconds...\n"
     ]
    },
    {
     "name": "stderr",
     "output_type": "stream",
     "text": [
      "Processing Instances:   6%|▌         | 12721/213170 [2:32:17<201:33:29,  3.62s/it]"
     ]
    },
    {
     "name": "stdout",
     "output_type": "stream",
     "text": [
      "Max retries reached. Could not fetch data.\n"
     ]
    },
    {
     "name": "stderr",
     "output_type": "stream",
     "text": [
      "Processing Instances:   6%|▌         | 12808/213170 [2:33:10<29:47:31,  1.87it/s] "
     ]
    },
    {
     "name": "stdout",
     "output_type": "stream",
     "text": [
      "Error: 'age'. Retrying after 2 seconds...\n",
      "Error: 'age'. Retrying after 2 seconds...\n",
      "Error: 'age'. Retrying after 2 seconds...\n"
     ]
    },
    {
     "name": "stderr",
     "output_type": "stream",
     "text": [
      "Processing Instances:   6%|▌         | 12809/213170 [2:33:20<189:39:18,  3.41s/it]"
     ]
    },
    {
     "name": "stdout",
     "output_type": "stream",
     "text": [
      "Max retries reached. Could not fetch data.\n"
     ]
    },
    {
     "name": "stderr",
     "output_type": "stream",
     "text": [
      "Processing Instances:   6%|▌         | 12851/213170 [2:33:48<33:46:46,  1.65it/s] "
     ]
    },
    {
     "name": "stdout",
     "output_type": "stream",
     "text": [
      "Error: 'age'. Retrying after 2 seconds...\n",
      "Error: 'age'. Retrying after 2 seconds...\n",
      "Error: 'age'. Retrying after 2 seconds...\n"
     ]
    },
    {
     "name": "stderr",
     "output_type": "stream",
     "text": [
      "Processing Instances:   6%|▌         | 12852/213170 [2:33:58<192:22:04,  3.46s/it]"
     ]
    },
    {
     "name": "stdout",
     "output_type": "stream",
     "text": [
      "Max retries reached. Could not fetch data.\n"
     ]
    },
    {
     "name": "stderr",
     "output_type": "stream",
     "text": [
      "Processing Instances:   6%|▌         | 12855/213170 [2:34:00<92:33:18,  1.66s/it] "
     ]
    },
    {
     "name": "stdout",
     "output_type": "stream",
     "text": [
      "Error: 'age'. Retrying after 2 seconds...\n",
      "Error: 'age'. Retrying after 2 seconds...\n",
      "Error: 'age'. Retrying after 2 seconds...\n"
     ]
    },
    {
     "name": "stderr",
     "output_type": "stream",
     "text": [
      "Processing Instances:   6%|▌         | 12856/213170 [2:34:11<233:36:34,  4.20s/it]"
     ]
    },
    {
     "name": "stdout",
     "output_type": "stream",
     "text": [
      "Max retries reached. Could not fetch data.\n"
     ]
    },
    {
     "name": "stderr",
     "output_type": "stream",
     "text": [
      "Processing Instances:   6%|▌         | 12857/213170 [2:34:11<171:57:44,  3.09s/it]"
     ]
    },
    {
     "name": "stdout",
     "output_type": "stream",
     "text": [
      "Error: 'age'. Retrying after 2 seconds...\n",
      "Error: 'age'. Retrying after 2 seconds...\n",
      "Error: 'age'. Retrying after 2 seconds...\n"
     ]
    },
    {
     "name": "stderr",
     "output_type": "stream",
     "text": [
      "Processing Instances:   6%|▌         | 12858/213170 [2:34:21<289:12:39,  5.20s/it]"
     ]
    },
    {
     "name": "stdout",
     "output_type": "stream",
     "text": [
      "Max retries reached. Could not fetch data.\n"
     ]
    },
    {
     "name": "stderr",
     "output_type": "stream",
     "text": [
      "Processing Instances:   6%|▌         | 13038/213170 [2:36:12<28:08:34,  1.98it/s] "
     ]
    },
    {
     "name": "stdout",
     "output_type": "stream",
     "text": [
      "Error: 'age'. Retrying after 2 seconds...\n",
      "Error: 'age'. Retrying after 2 seconds...\n",
      "Error: 'age'. Retrying after 2 seconds...\n"
     ]
    },
    {
     "name": "stderr",
     "output_type": "stream",
     "text": [
      "Processing Instances:   6%|▌         | 13039/213170 [2:36:22<190:28:04,  3.43s/it]"
     ]
    },
    {
     "name": "stdout",
     "output_type": "stream",
     "text": [
      "Max retries reached. Could not fetch data.\n"
     ]
    },
    {
     "name": "stderr",
     "output_type": "stream",
     "text": [
      "Processing Instances:   6%|▌         | 13151/213170 [2:37:31<33:58:18,  1.64it/s] "
     ]
    },
    {
     "name": "stdout",
     "output_type": "stream",
     "text": [
      "Error: 'age'. Retrying after 2 seconds...\n",
      "Error: 'age'. Retrying after 2 seconds...\n",
      "Error: 'age'. Retrying after 2 seconds...\n"
     ]
    },
    {
     "name": "stderr",
     "output_type": "stream",
     "text": [
      "Processing Instances:   6%|▌         | 13152/213170 [2:37:42<197:11:05,  3.55s/it]"
     ]
    },
    {
     "name": "stdout",
     "output_type": "stream",
     "text": [
      "Max retries reached. Could not fetch data.\n"
     ]
    },
    {
     "name": "stderr",
     "output_type": "stream",
     "text": [
      "Processing Instances:   6%|▌         | 13157/213170 [2:37:45<64:27:41,  1.16s/it] "
     ]
    },
    {
     "name": "stdout",
     "output_type": "stream",
     "text": [
      "Error: 'age'. Retrying after 2 seconds...\n",
      "Error: 'age'. Retrying after 2 seconds...\n",
      "Error: 'age'. Retrying after 2 seconds...\n"
     ]
    },
    {
     "name": "stderr",
     "output_type": "stream",
     "text": [
      "Processing Instances:   6%|▌         | 13158/213170 [2:37:56<220:18:40,  3.97s/it]"
     ]
    },
    {
     "name": "stdout",
     "output_type": "stream",
     "text": [
      "Max retries reached. Could not fetch data.\n"
     ]
    },
    {
     "name": "stderr",
     "output_type": "stream",
     "text": [
      "Processing Instances:   6%|▌         | 13276/213170 [2:39:12<38:49:12,  1.43it/s] "
     ]
    },
    {
     "name": "stdout",
     "output_type": "stream",
     "text": [
      "Error: 'age'. Retrying after 2 seconds...\n",
      "Error: 'age'. Retrying after 2 seconds...\n",
      "Error: 'age'. Retrying after 2 seconds...\n"
     ]
    },
    {
     "name": "stderr",
     "output_type": "stream",
     "text": [
      "Processing Instances:   6%|▌         | 13277/213170 [2:39:23<197:05:51,  3.55s/it]"
     ]
    },
    {
     "name": "stdout",
     "output_type": "stream",
     "text": [
      "Max retries reached. Could not fetch data.\n"
     ]
    },
    {
     "name": "stderr",
     "output_type": "stream",
     "text": [
      "Processing Instances:   6%|▌         | 13305/213170 [2:39:40<33:52:32,  1.64it/s] "
     ]
    },
    {
     "name": "stdout",
     "output_type": "stream",
     "text": [
      "Error: 'age'. Retrying after 2 seconds...\n",
      "Error: 'age'. Retrying after 2 seconds...\n",
      "Error: 'age'. Retrying after 2 seconds...\n"
     ]
    },
    {
     "name": "stderr",
     "output_type": "stream",
     "text": [
      "Processing Instances:   6%|▌         | 13306/213170 [2:39:50<192:20:05,  3.46s/it]"
     ]
    },
    {
     "name": "stdout",
     "output_type": "stream",
     "text": [
      "Max retries reached. Could not fetch data.\n"
     ]
    },
    {
     "name": "stderr",
     "output_type": "stream",
     "text": [
      "Processing Instances:   6%|▌         | 13312/213170 [2:39:55<60:27:11,  1.09s/it] "
     ]
    },
    {
     "name": "stdout",
     "output_type": "stream",
     "text": [
      "Error: 'age'. Retrying after 2 seconds...\n",
      "Error: 'age'. Retrying after 2 seconds...\n",
      "Error: 'age'. Retrying after 2 seconds...\n"
     ]
    },
    {
     "name": "stderr",
     "output_type": "stream",
     "text": [
      "Processing Instances:   6%|▌         | 13313/213170 [2:40:05<210:37:17,  3.79s/it]"
     ]
    },
    {
     "name": "stdout",
     "output_type": "stream",
     "text": [
      "Max retries reached. Could not fetch data.\n"
     ]
    },
    {
     "name": "stderr",
     "output_type": "stream",
     "text": [
      "Processing Instances:   6%|▋         | 13371/213170 [2:40:43<35:54:40,  1.55it/s] "
     ]
    },
    {
     "name": "stdout",
     "output_type": "stream",
     "text": [
      "Error: 'age'. Retrying after 2 seconds...\n",
      "Error: 'age'. Retrying after 2 seconds...\n",
      "Error: 'age'. Retrying after 2 seconds...\n"
     ]
    },
    {
     "name": "stderr",
     "output_type": "stream",
     "text": [
      "Processing Instances:   6%|▋         | 13372/213170 [2:40:54<200:15:43,  3.61s/it]"
     ]
    },
    {
     "name": "stdout",
     "output_type": "stream",
     "text": [
      "Max retries reached. Could not fetch data.\n"
     ]
    },
    {
     "name": "stderr",
     "output_type": "stream",
     "text": [
      "Processing Instances:   6%|▋         | 13656/213170 [2:43:54<36:12:09,  1.53it/s] "
     ]
    },
    {
     "name": "stdout",
     "output_type": "stream",
     "text": [
      "Error: 'age'. Retrying after 2 seconds...\n",
      "Error: 'age'. Retrying after 2 seconds...\n",
      "Error: 'age'. Retrying after 2 seconds...\n"
     ]
    },
    {
     "name": "stderr",
     "output_type": "stream",
     "text": [
      "Processing Instances:   6%|▋         | 13657/213170 [2:44:04<193:31:27,  3.49s/it]"
     ]
    },
    {
     "name": "stdout",
     "output_type": "stream",
     "text": [
      "Max retries reached. Could not fetch data.\n"
     ]
    },
    {
     "name": "stderr",
     "output_type": "stream",
     "text": [
      "Processing Instances:   6%|▋         | 13670/213170 [2:44:13<41:50:57,  1.32it/s] "
     ]
    },
    {
     "name": "stdout",
     "output_type": "stream",
     "text": [
      "Error: 'age'. Retrying after 2 seconds...\n",
      "Error: 'age'. Retrying after 2 seconds...\n",
      "Error: 'age'. Retrying after 2 seconds...\n"
     ]
    },
    {
     "name": "stderr",
     "output_type": "stream",
     "text": [
      "Processing Instances:   6%|▋         | 13671/213170 [2:44:23<197:56:07,  3.57s/it]"
     ]
    },
    {
     "name": "stdout",
     "output_type": "stream",
     "text": [
      "Max retries reached. Could not fetch data.\n"
     ]
    },
    {
     "name": "stderr",
     "output_type": "stream",
     "text": [
      "Processing Instances:   6%|▋         | 13691/213170 [2:44:36<37:46:24,  1.47it/s] "
     ]
    },
    {
     "name": "stdout",
     "output_type": "stream",
     "text": [
      "Error: 'age'. Retrying after 2 seconds...\n",
      "Error: 'age'. Retrying after 2 seconds...\n",
      "Error: 'age'. Retrying after 2 seconds...\n"
     ]
    },
    {
     "name": "stderr",
     "output_type": "stream",
     "text": [
      "Processing Instances:   6%|▋         | 13692/213170 [2:44:47<194:41:30,  3.51s/it]"
     ]
    },
    {
     "name": "stdout",
     "output_type": "stream",
     "text": [
      "Max retries reached. Could not fetch data.\n"
     ]
    },
    {
     "name": "stderr",
     "output_type": "stream",
     "text": [
      "Processing Instances:   6%|▋         | 13695/213170 [2:44:48<89:36:53,  1.62s/it] "
     ]
    },
    {
     "name": "stdout",
     "output_type": "stream",
     "text": [
      "Error: 'age'. Retrying after 2 seconds...\n",
      "Error: 'age'. Retrying after 2 seconds...\n",
      "Error: 'age'. Retrying after 2 seconds...\n"
     ]
    },
    {
     "name": "stderr",
     "output_type": "stream",
     "text": [
      "Processing Instances:   6%|▋         | 13696/213170 [2:44:59<230:49:50,  4.17s/it]"
     ]
    },
    {
     "name": "stdout",
     "output_type": "stream",
     "text": [
      "Max retries reached. Could not fetch data.\n"
     ]
    },
    {
     "name": "stderr",
     "output_type": "stream",
     "text": [
      "Processing Instances:   7%|▋         | 13868/213170 [2:46:49<37:45:29,  1.47it/s] "
     ]
    },
    {
     "name": "stdout",
     "output_type": "stream",
     "text": [
      "Error: 'age'. Retrying after 2 seconds...\n",
      "Error: 'age'. Retrying after 2 seconds...\n",
      "Error: 'age'. Retrying after 2 seconds...\n"
     ]
    },
    {
     "name": "stderr",
     "output_type": "stream",
     "text": [
      "Processing Instances:   7%|▋         | 13869/213170 [2:46:59<194:14:43,  3.51s/it]"
     ]
    },
    {
     "name": "stdout",
     "output_type": "stream",
     "text": [
      "Max retries reached. Could not fetch data.\n",
      "Error: 'age'. Retrying after 2 seconds...\n",
      "Error: 'age'. Retrying after 2 seconds...\n",
      "Error: 'age'. Retrying after 2 seconds...\n"
     ]
    },
    {
     "name": "stderr",
     "output_type": "stream",
     "text": [
      "Processing Instances:   7%|▋         | 13870/213170 [2:47:10<310:26:42,  5.61s/it]"
     ]
    },
    {
     "name": "stdout",
     "output_type": "stream",
     "text": [
      "Max retries reached. Could not fetch data.\n"
     ]
    },
    {
     "name": "stderr",
     "output_type": "stream",
     "text": [
      "Processing Instances:   7%|▋         | 13987/213170 [2:48:23<41:28:17,  1.33it/s] "
     ]
    },
    {
     "name": "stdout",
     "output_type": "stream",
     "text": [
      "Error: 'age'. Retrying after 2 seconds...\n",
      "Error: 'age'. Retrying after 2 seconds...\n",
      "Error: 'age'. Retrying after 2 seconds...\n"
     ]
    },
    {
     "name": "stderr",
     "output_type": "stream",
     "text": [
      "Processing Instances:   7%|▋         | 13988/213170 [2:48:33<203:19:26,  3.67s/it]"
     ]
    },
    {
     "name": "stdout",
     "output_type": "stream",
     "text": [
      "Max retries reached. Could not fetch data.\n"
     ]
    },
    {
     "name": "stderr",
     "output_type": "stream",
     "text": [
      "Processing Instances:   7%|▋         | 13994/213170 [2:48:37<58:21:50,  1.05s/it] "
     ]
    },
    {
     "name": "stdout",
     "output_type": "stream",
     "text": [
      "Error: 'age'. Retrying after 2 seconds...\n",
      "Error: 'age'. Retrying after 2 seconds...\n",
      "Error: 'age'. Retrying after 2 seconds...\n"
     ]
    },
    {
     "name": "stderr",
     "output_type": "stream",
     "text": [
      "Processing Instances:   7%|▋         | 13995/213170 [2:48:48<215:52:40,  3.90s/it]"
     ]
    },
    {
     "name": "stdout",
     "output_type": "stream",
     "text": [
      "Max retries reached. Could not fetch data.\n"
     ]
    },
    {
     "name": "stderr",
     "output_type": "stream",
     "text": [
      "Processing Instances:   7%|▋         | 14106/213170 [2:49:57<31:32:19,  1.75it/s] "
     ]
    },
    {
     "name": "stdout",
     "output_type": "stream",
     "text": [
      "Error: 'age'. Retrying after 2 seconds...\n",
      "Error: 'age'. Retrying after 2 seconds...\n",
      "Error: 'age'. Retrying after 2 seconds...\n"
     ]
    },
    {
     "name": "stderr",
     "output_type": "stream",
     "text": [
      "Processing Instances:   7%|▋         | 14107/213170 [2:50:07<189:52:57,  3.43s/it]"
     ]
    },
    {
     "name": "stdout",
     "output_type": "stream",
     "text": [
      "Max retries reached. Could not fetch data.\n"
     ]
    },
    {
     "name": "stderr",
     "output_type": "stream",
     "text": [
      "Processing Instances:   7%|▋         | 14120/213170 [2:50:16<38:44:22,  1.43it/s] "
     ]
    },
    {
     "name": "stdout",
     "output_type": "stream",
     "text": [
      "Error: 'age'. Retrying after 2 seconds...\n",
      "Error: 'age'. Retrying after 2 seconds...\n",
      "Error: 'age'. Retrying after 2 seconds...\n"
     ]
    },
    {
     "name": "stderr",
     "output_type": "stream",
     "text": [
      "Processing Instances:   7%|▋         | 14121/213170 [2:50:26<194:43:03,  3.52s/it]"
     ]
    },
    {
     "name": "stdout",
     "output_type": "stream",
     "text": [
      "Max retries reached. Could not fetch data.\n"
     ]
    },
    {
     "name": "stderr",
     "output_type": "stream",
     "text": [
      "Processing Instances:   7%|▋         | 14138/213170 [2:50:36<31:08:23,  1.78it/s] "
     ]
    },
    {
     "name": "stdout",
     "output_type": "stream",
     "text": [
      "Error: 'age'. Retrying after 2 seconds...\n",
      "Error: 'age'. Retrying after 2 seconds...\n",
      "Error: 'age'. Retrying after 2 seconds...\n"
     ]
    },
    {
     "name": "stderr",
     "output_type": "stream",
     "text": [
      "Processing Instances:   7%|▋         | 14139/213170 [2:50:47<199:13:34,  3.60s/it]"
     ]
    },
    {
     "name": "stdout",
     "output_type": "stream",
     "text": [
      "Max retries reached. Could not fetch data.\n"
     ]
    },
    {
     "name": "stderr",
     "output_type": "stream",
     "text": [
      "Processing Instances:   7%|▋         | 14145/213170 [2:50:51<54:48:03,  1.01it/s] "
     ]
    },
    {
     "name": "stdout",
     "output_type": "stream",
     "text": [
      "Error: 'age'. Retrying after 2 seconds...\n",
      "Error: 'age'. Retrying after 2 seconds...\n",
      "Error: 'age'. Retrying after 2 seconds...\n"
     ]
    },
    {
     "name": "stderr",
     "output_type": "stream",
     "text": [
      "Processing Instances:   7%|▋         | 14146/213170 [2:51:01<206:24:21,  3.73s/it]"
     ]
    },
    {
     "name": "stdout",
     "output_type": "stream",
     "text": [
      "Max retries reached. Could not fetch data.\n"
     ]
    },
    {
     "name": "stderr",
     "output_type": "stream",
     "text": [
      "Processing Instances:   7%|▋         | 14153/213170 [2:51:05<44:21:01,  1.25it/s] "
     ]
    },
    {
     "name": "stdout",
     "output_type": "stream",
     "text": [
      "Error: 'age'. Retrying after 2 seconds...\n",
      "Error: 'age'. Retrying after 2 seconds...\n",
      "Error: 'age'. Retrying after 2 seconds...\n"
     ]
    },
    {
     "name": "stderr",
     "output_type": "stream",
     "text": [
      "Processing Instances:   7%|▋         | 14154/213170 [2:51:15<198:48:02,  3.60s/it]"
     ]
    },
    {
     "name": "stdout",
     "output_type": "stream",
     "text": [
      "Max retries reached. Could not fetch data.\n"
     ]
    },
    {
     "name": "stderr",
     "output_type": "stream",
     "text": [
      "Processing Instances:   7%|▋         | 14234/213170 [2:52:09<34:20:42,  1.61it/s] "
     ]
    },
    {
     "name": "stdout",
     "output_type": "stream",
     "text": [
      "Error: 'age'. Retrying after 2 seconds...\n",
      "Error: 'age'. Retrying after 2 seconds...\n",
      "Error: 'age'. Retrying after 2 seconds...\n"
     ]
    },
    {
     "name": "stderr",
     "output_type": "stream",
     "text": [
      "Processing Instances:   7%|▋         | 14235/213170 [2:52:19<191:59:46,  3.47s/it]"
     ]
    },
    {
     "name": "stdout",
     "output_type": "stream",
     "text": [
      "Max retries reached. Could not fetch data.\n"
     ]
    },
    {
     "name": "stderr",
     "output_type": "stream",
     "text": [
      "Processing Instances:   7%|▋         | 14247/213170 [2:52:29<49:49:41,  1.11it/s] "
     ]
    },
    {
     "name": "stdout",
     "output_type": "stream",
     "text": [
      "Error: 'age'. Retrying after 2 seconds...\n",
      "Error: 'age'. Retrying after 2 seconds...\n",
      "Error: 'age'. Retrying after 2 seconds...\n"
     ]
    },
    {
     "name": "stderr",
     "output_type": "stream",
     "text": [
      "Processing Instances:   7%|▋         | 14248/213170 [2:52:39<202:28:37,  3.66s/it]"
     ]
    },
    {
     "name": "stdout",
     "output_type": "stream",
     "text": [
      "Max retries reached. Could not fetch data.\n"
     ]
    },
    {
     "name": "stderr",
     "output_type": "stream",
     "text": [
      "Processing Instances:   7%|▋         | 14591/213170 [2:56:02<42:18:35,  1.30it/s] "
     ]
    },
    {
     "name": "stdout",
     "output_type": "stream",
     "text": [
      "Error: 'age'. Retrying after 2 seconds...\n",
      "Error: 'age'. Retrying after 2 seconds...\n",
      "Error: 'age'. Retrying after 2 seconds...\n"
     ]
    },
    {
     "name": "stderr",
     "output_type": "stream",
     "text": [
      "Processing Instances:   7%|▋         | 14592/213170 [2:56:13<197:00:43,  3.57s/it]"
     ]
    },
    {
     "name": "stdout",
     "output_type": "stream",
     "text": [
      "Max retries reached. Could not fetch data.\n"
     ]
    },
    {
     "name": "stderr",
     "output_type": "stream",
     "text": [
      "Processing Instances:   7%|▋         | 14735/213170 [2:57:37<30:18:08,  1.82it/s] "
     ]
    },
    {
     "name": "stdout",
     "output_type": "stream",
     "text": [
      "Error: 'age'. Retrying after 2 seconds...\n",
      "Error: 'age'. Retrying after 2 seconds...\n",
      "Error: 'age'. Retrying after 2 seconds...\n"
     ]
    },
    {
     "name": "stderr",
     "output_type": "stream",
     "text": [
      "Processing Instances:   7%|▋         | 14736/213170 [2:57:48<189:08:03,  3.43s/it]"
     ]
    },
    {
     "name": "stdout",
     "output_type": "stream",
     "text": [
      "Max retries reached. Could not fetch data.\n"
     ]
    },
    {
     "name": "stderr",
     "output_type": "stream",
     "text": [
      "Processing Instances:   7%|▋         | 14820/213170 [2:58:36<32:45:25,  1.68it/s] "
     ]
    },
    {
     "name": "stdout",
     "output_type": "stream",
     "text": [
      "Error: 'age'. Retrying after 2 seconds...\n",
      "Error: 'age'. Retrying after 2 seconds...\n",
      "Error: 'age'. Retrying after 2 seconds...\n"
     ]
    },
    {
     "name": "stderr",
     "output_type": "stream",
     "text": [
      "Processing Instances:   7%|▋         | 14821/213170 [2:58:46<189:58:33,  3.45s/it]"
     ]
    },
    {
     "name": "stdout",
     "output_type": "stream",
     "text": [
      "Max retries reached. Could not fetch data.\n"
     ]
    },
    {
     "name": "stderr",
     "output_type": "stream",
     "text": [
      "Processing Instances:   7%|▋         | 15295/213170 [3:03:42<41:09:04,  1.34it/s] "
     ]
    },
    {
     "name": "stdout",
     "output_type": "stream",
     "text": [
      "Error: 'age'. Retrying after 2 seconds...\n",
      "Error: 'age'. Retrying after 2 seconds...\n",
      "Error: 'age'. Retrying after 2 seconds...\n"
     ]
    },
    {
     "name": "stderr",
     "output_type": "stream",
     "text": [
      "Processing Instances:   7%|▋         | 15296/213170 [3:03:52<195:32:31,  3.56s/it]"
     ]
    },
    {
     "name": "stdout",
     "output_type": "stream",
     "text": [
      "Max retries reached. Could not fetch data.\n"
     ]
    },
    {
     "name": "stderr",
     "output_type": "stream",
     "text": [
      "Processing Instances:   7%|▋         | 15431/213170 [3:05:17<32:51:06,  1.67it/s] "
     ]
    },
    {
     "name": "stdout",
     "output_type": "stream",
     "text": [
      "Error: 'age'. Retrying after 2 seconds...\n",
      "Error: 'age'. Retrying after 2 seconds...\n",
      "Error: 'age'. Retrying after 2 seconds...\n"
     ]
    },
    {
     "name": "stderr",
     "output_type": "stream",
     "text": [
      "Processing Instances:   7%|▋         | 15432/213170 [3:05:27<189:43:53,  3.45s/it]"
     ]
    },
    {
     "name": "stdout",
     "output_type": "stream",
     "text": [
      "Max retries reached. Could not fetch data.\n"
     ]
    },
    {
     "name": "stderr",
     "output_type": "stream",
     "text": [
      "Processing Instances:   7%|▋         | 15438/213170 [3:05:32<52:42:43,  1.04it/s] "
     ]
    },
    {
     "name": "stdout",
     "output_type": "stream",
     "text": [
      "Error: 'age'. Retrying after 2 seconds...\n",
      "Error: 'age'. Retrying after 2 seconds...\n",
      "Error: 'age'. Retrying after 2 seconds...\n"
     ]
    },
    {
     "name": "stderr",
     "output_type": "stream",
     "text": [
      "Processing Instances:   7%|▋         | 15439/213170 [3:05:42<203:22:48,  3.70s/it]"
     ]
    },
    {
     "name": "stdout",
     "output_type": "stream",
     "text": [
      "Max retries reached. Could not fetch data.\n"
     ]
    },
    {
     "name": "stderr",
     "output_type": "stream",
     "text": [
      "Processing Instances:   7%|▋         | 15446/213170 [3:05:46<43:44:29,  1.26it/s] "
     ]
    },
    {
     "name": "stdout",
     "output_type": "stream",
     "text": [
      "Error: 'age'. Retrying after 2 seconds...\n",
      "Error: 'age'. Retrying after 2 seconds...\n",
      "Error: 'age'. Retrying after 2 seconds...\n"
     ]
    },
    {
     "name": "stderr",
     "output_type": "stream",
     "text": [
      "Processing Instances:   7%|▋         | 15447/213170 [3:05:56<202:48:17,  3.69s/it]"
     ]
    },
    {
     "name": "stdout",
     "output_type": "stream",
     "text": [
      "Max retries reached. Could not fetch data.\n"
     ]
    },
    {
     "name": "stderr",
     "output_type": "stream",
     "text": [
      "Processing Instances:   7%|▋         | 15495/213170 [3:06:25<30:35:15,  1.80it/s] "
     ]
    },
    {
     "name": "stdout",
     "output_type": "stream",
     "text": [
      "Error: 'age'. Retrying after 2 seconds...\n",
      "Error: 'age'. Retrying after 2 seconds...\n",
      "Error: 'age'. Retrying after 2 seconds...\n"
     ]
    },
    {
     "name": "stderr",
     "output_type": "stream",
     "text": [
      "Processing Instances:   7%|▋         | 15496/213170 [3:06:35<188:14:12,  3.43s/it]"
     ]
    },
    {
     "name": "stdout",
     "output_type": "stream",
     "text": [
      "Max retries reached. Could not fetch data.\n"
     ]
    },
    {
     "name": "stderr",
     "output_type": "stream",
     "text": [
      "Processing Instances:   7%|▋         | 15509/213170 [3:06:44<36:56:31,  1.49it/s] "
     ]
    },
    {
     "name": "stdout",
     "output_type": "stream",
     "text": [
      "Error: 'age'. Retrying after 2 seconds...\n",
      "Error: 'age'. Retrying after 2 seconds...\n",
      "Error: 'age'. Retrying after 2 seconds...\n"
     ]
    },
    {
     "name": "stderr",
     "output_type": "stream",
     "text": [
      "Processing Instances:   7%|▋         | 15510/213170 [3:06:54<192:31:53,  3.51s/it]"
     ]
    },
    {
     "name": "stdout",
     "output_type": "stream",
     "text": [
      "Max retries reached. Could not fetch data.\n"
     ]
    },
    {
     "name": "stderr",
     "output_type": "stream",
     "text": [
      "Processing Instances:   7%|▋         | 15649/213170 [3:08:25<36:10:17,  1.52it/s] "
     ]
    },
    {
     "name": "stdout",
     "output_type": "stream",
     "text": [
      "Error: 'age'. Retrying after 2 seconds...\n",
      "Error: 'age'. Retrying after 2 seconds...\n",
      "Error: 'age'. Retrying after 2 seconds...\n"
     ]
    },
    {
     "name": "stderr",
     "output_type": "stream",
     "text": [
      "Processing Instances:   7%|▋         | 15650/213170 [3:08:36<191:44:11,  3.49s/it]"
     ]
    },
    {
     "name": "stdout",
     "output_type": "stream",
     "text": [
      "Max retries reached. Could not fetch data.\n"
     ]
    },
    {
     "name": "stderr",
     "output_type": "stream",
     "text": [
      "Processing Instances:   7%|▋         | 15682/213170 [3:08:55<29:06:27,  1.88it/s] "
     ]
    },
    {
     "name": "stdout",
     "output_type": "stream",
     "text": [
      "Error: 'age'. Retrying after 2 seconds...\n",
      "Error: 'age'. Retrying after 2 seconds...\n",
      "Error: 'age'. Retrying after 2 seconds...\n"
     ]
    },
    {
     "name": "stderr",
     "output_type": "stream",
     "text": [
      "Processing Instances:   7%|▋         | 15683/213170 [3:09:05<193:21:04,  3.52s/it]"
     ]
    },
    {
     "name": "stdout",
     "output_type": "stream",
     "text": [
      "Max retries reached. Could not fetch data.\n"
     ]
    },
    {
     "name": "stderr",
     "output_type": "stream",
     "text": [
      "Processing Instances:   7%|▋         | 15914/213170 [3:11:33<31:23:13,  1.75it/s] "
     ]
    },
    {
     "name": "stdout",
     "output_type": "stream",
     "text": [
      "Error: 'age'. Retrying after 2 seconds...\n",
      "Error: 'age'. Retrying after 2 seconds...\n",
      "Error: 'age'. Retrying after 2 seconds...\n"
     ]
    },
    {
     "name": "stderr",
     "output_type": "stream",
     "text": [
      "Processing Instances:   7%|▋         | 15915/213170 [3:11:44<194:39:08,  3.55s/it]"
     ]
    },
    {
     "name": "stdout",
     "output_type": "stream",
     "text": [
      "Max retries reached. Could not fetch data.\n"
     ]
    },
    {
     "name": "stderr",
     "output_type": "stream",
     "text": [
      "Processing Instances:   7%|▋         | 15939/213170 [3:11:59<31:16:21,  1.75it/s] "
     ]
    },
    {
     "name": "stdout",
     "output_type": "stream",
     "text": [
      "Error: 'age'. Retrying after 2 seconds...\n",
      "Error: 'age'. Retrying after 2 seconds...\n",
      "Error: 'age'. Retrying after 2 seconds...\n"
     ]
    },
    {
     "name": "stderr",
     "output_type": "stream",
     "text": [
      "Processing Instances:   7%|▋         | 15940/213170 [3:12:10<201:41:41,  3.68s/it]"
     ]
    },
    {
     "name": "stdout",
     "output_type": "stream",
     "text": [
      "Max retries reached. Could not fetch data.\n"
     ]
    },
    {
     "name": "stderr",
     "output_type": "stream",
     "text": [
      "Processing Instances:   8%|▊         | 16244/213170 [3:15:16<28:02:35,  1.95it/s] "
     ]
    },
    {
     "name": "stdout",
     "output_type": "stream",
     "text": [
      "Error: 'age'. Retrying after 2 seconds...\n",
      "Error: 'age'. Retrying after 2 seconds...\n",
      "Error: 'age'. Retrying after 2 seconds...\n"
     ]
    },
    {
     "name": "stderr",
     "output_type": "stream",
     "text": [
      "Processing Instances:   8%|▊         | 16245/213170 [3:15:27<190:39:39,  3.49s/it]"
     ]
    },
    {
     "name": "stdout",
     "output_type": "stream",
     "text": [
      "Max retries reached. Could not fetch data.\n"
     ]
    },
    {
     "name": "stderr",
     "output_type": "stream",
     "text": [
      "Processing Instances:   8%|▊         | 16471/213170 [3:17:39<31:26:49,  1.74it/s] "
     ]
    },
    {
     "name": "stdout",
     "output_type": "stream",
     "text": [
      "Error: 'age'. Retrying after 2 seconds...\n",
      "Error: 'age'. Retrying after 2 seconds...\n",
      "Error: 'age'. Retrying after 2 seconds...\n"
     ]
    },
    {
     "name": "stderr",
     "output_type": "stream",
     "text": [
      "Processing Instances:   8%|▊         | 16472/213170 [3:17:50<187:59:22,  3.44s/it]"
     ]
    },
    {
     "name": "stdout",
     "output_type": "stream",
     "text": [
      "Max retries reached. Could not fetch data.\n",
      "Error: 'age'. Retrying after 2 seconds...\n",
      "Error: 'age'. Retrying after 2 seconds...\n",
      "Error: 'age'. Retrying after 2 seconds...\n"
     ]
    },
    {
     "name": "stderr",
     "output_type": "stream",
     "text": [
      "Processing Instances:   8%|▊         | 16473/213170 [3:18:00<303:37:05,  5.56s/it]"
     ]
    },
    {
     "name": "stdout",
     "output_type": "stream",
     "text": [
      "Max retries reached. Could not fetch data.\n",
      "Error: 'age'. Retrying after 2 seconds...\n",
      "Error: 'age'. Retrying after 2 seconds...\n",
      "Error: 'age'. Retrying after 2 seconds...\n"
     ]
    },
    {
     "name": "stderr",
     "output_type": "stream",
     "text": [
      "Processing Instances:   8%|▊         | 16474/213170 [3:18:10<378:06:14,  6.92s/it]"
     ]
    },
    {
     "name": "stdout",
     "output_type": "stream",
     "text": [
      "Max retries reached. Could not fetch data.\n"
     ]
    },
    {
     "name": "stderr",
     "output_type": "stream",
     "text": [
      "Processing Instances:   8%|▊         | 16601/213170 [3:19:27<31:08:44,  1.75it/s] "
     ]
    },
    {
     "name": "stdout",
     "output_type": "stream",
     "text": [
      "Error: 'age'. Retrying after 2 seconds...\n",
      "Error: 'age'. Retrying after 2 seconds...\n",
      "Error: 'age'. Retrying after 2 seconds...\n"
     ]
    },
    {
     "name": "stderr",
     "output_type": "stream",
     "text": [
      "Processing Instances:   8%|▊         | 16602/213170 [3:19:37<187:43:02,  3.44s/it]"
     ]
    },
    {
     "name": "stdout",
     "output_type": "stream",
     "text": [
      "Max retries reached. Could not fetch data.\n"
     ]
    },
    {
     "name": "stderr",
     "output_type": "stream",
     "text": [
      "Processing Instances:   8%|▊         | 16724/213170 [3:20:46<30:09:30,  1.81it/s] "
     ]
    },
    {
     "name": "stdout",
     "output_type": "stream",
     "text": [
      "Error: 'age'. Retrying after 2 seconds...\n",
      "Error: 'age'. Retrying after 2 seconds...\n",
      "Error: 'age'. Retrying after 2 seconds...\n"
     ]
    },
    {
     "name": "stderr",
     "output_type": "stream",
     "text": [
      "Processing Instances:   8%|▊         | 16725/213170 [3:20:56<189:20:48,  3.47s/it]"
     ]
    },
    {
     "name": "stdout",
     "output_type": "stream",
     "text": [
      "Max retries reached. Could not fetch data.\n"
     ]
    },
    {
     "name": "stderr",
     "output_type": "stream",
     "text": [
      "Processing Instances:   8%|▊         | 16788/213170 [3:21:32<29:30:24,  1.85it/s] "
     ]
    },
    {
     "name": "stdout",
     "output_type": "stream",
     "text": [
      "Error: 'age'. Retrying after 2 seconds...\n",
      "Error: 'age'. Retrying after 2 seconds...\n",
      "Error: 'age'. Retrying after 2 seconds...\n"
     ]
    },
    {
     "name": "stderr",
     "output_type": "stream",
     "text": [
      "Processing Instances:   8%|▊         | 16789/213170 [3:21:42<186:10:54,  3.41s/it]"
     ]
    },
    {
     "name": "stdout",
     "output_type": "stream",
     "text": [
      "Max retries reached. Could not fetch data.\n"
     ]
    },
    {
     "name": "stderr",
     "output_type": "stream",
     "text": [
      "Processing Instances:   8%|▊         | 16955/213170 [3:23:25<36:37:59,  1.49it/s] "
     ]
    },
    {
     "name": "stdout",
     "output_type": "stream",
     "text": [
      "Error: 'age'. Retrying after 2 seconds...\n",
      "Error: 'age'. Retrying after 2 seconds...\n",
      "Error: 'age'. Retrying after 2 seconds...\n"
     ]
    },
    {
     "name": "stderr",
     "output_type": "stream",
     "text": [
      "Processing Instances:   8%|▊         | 16956/213170 [3:23:35<191:04:56,  3.51s/it]"
     ]
    },
    {
     "name": "stdout",
     "output_type": "stream",
     "text": [
      "Max retries reached. Could not fetch data.\n"
     ]
    },
    {
     "name": "stderr",
     "output_type": "stream",
     "text": [
      "Processing Instances:   8%|▊         | 16974/213170 [3:23:45<29:36:44,  1.84it/s] "
     ]
    },
    {
     "name": "stdout",
     "output_type": "stream",
     "text": [
      "Error: 'age'. Retrying after 2 seconds...\n",
      "Error: 'age'. Retrying after 2 seconds...\n",
      "Error: 'age'. Retrying after 2 seconds...\n"
     ]
    },
    {
     "name": "stderr",
     "output_type": "stream",
     "text": [
      "Processing Instances:   8%|▊         | 16975/213170 [3:23:55<186:11:35,  3.42s/it]"
     ]
    },
    {
     "name": "stdout",
     "output_type": "stream",
     "text": [
      "Max retries reached. Could not fetch data.\n"
     ]
    },
    {
     "name": "stderr",
     "output_type": "stream",
     "text": [
      "Processing Instances:   8%|▊         | 16987/213170 [3:24:02<30:38:49,  1.78it/s] "
     ]
    },
    {
     "name": "stdout",
     "output_type": "stream",
     "text": [
      "Error: 'age'. Retrying after 2 seconds...\n",
      "Error: 'age'. Retrying after 2 seconds...\n",
      "Error: 'age'. Retrying after 2 seconds...\n"
     ]
    },
    {
     "name": "stderr",
     "output_type": "stream",
     "text": [
      "Processing Instances:   8%|▊         | 16988/213170 [3:24:13<193:08:31,  3.54s/it]"
     ]
    },
    {
     "name": "stdout",
     "output_type": "stream",
     "text": [
      "Max retries reached. Could not fetch data.\n"
     ]
    },
    {
     "name": "stderr",
     "output_type": "stream",
     "text": [
      "Processing Instances:   8%|▊         | 17011/213170 [3:24:30<41:26:37,  1.31it/s] "
     ]
    },
    {
     "name": "stdout",
     "output_type": "stream",
     "text": [
      "Error: 'age'. Retrying after 2 seconds...\n",
      "Error: 'age'. Retrying after 2 seconds...\n",
      "Error: 'age'. Retrying after 2 seconds...\n"
     ]
    },
    {
     "name": "stderr",
     "output_type": "stream",
     "text": [
      "Processing Instances:   8%|▊         | 17012/213170 [3:24:41<206:26:21,  3.79s/it]"
     ]
    },
    {
     "name": "stdout",
     "output_type": "stream",
     "text": [
      "Max retries reached. Could not fetch data.\n"
     ]
    },
    {
     "name": "stderr",
     "output_type": "stream",
     "text": [
      "Processing Instances:   8%|▊         | 17210/213170 [3:26:48<32:08:57,  1.69it/s] "
     ]
    },
    {
     "name": "stdout",
     "output_type": "stream",
     "text": [
      "Error: 'age'. Retrying after 2 seconds...\n",
      "Error: 'age'. Retrying after 2 seconds...\n",
      "Error: 'age'. Retrying after 2 seconds...\n"
     ]
    },
    {
     "name": "stderr",
     "output_type": "stream",
     "text": [
      "Processing Instances:   8%|▊         | 17211/213170 [3:26:58<187:49:02,  3.45s/it]"
     ]
    },
    {
     "name": "stdout",
     "output_type": "stream",
     "text": [
      "Max retries reached. Could not fetch data.\n"
     ]
    },
    {
     "name": "stderr",
     "output_type": "stream",
     "text": [
      "Processing Instances:   8%|▊         | 17437/213170 [3:29:21<28:25:02,  1.91it/s] "
     ]
    },
    {
     "name": "stdout",
     "output_type": "stream",
     "text": [
      "Error: 'age'. Retrying after 2 seconds...\n",
      "Error: 'age'. Retrying after 2 seconds...\n",
      "Error: 'age'. Retrying after 2 seconds...\n"
     ]
    },
    {
     "name": "stderr",
     "output_type": "stream",
     "text": [
      "Processing Instances:   8%|▊         | 17438/213170 [3:29:31<184:41:49,  3.40s/it]"
     ]
    },
    {
     "name": "stdout",
     "output_type": "stream",
     "text": [
      "Max retries reached. Could not fetch data.\n"
     ]
    },
    {
     "name": "stderr",
     "output_type": "stream",
     "text": [
      "Processing Instances:   8%|▊         | 17627/213170 [3:31:35<34:39:41,  1.57it/s] "
     ]
    },
    {
     "name": "stdout",
     "output_type": "stream",
     "text": [
      "Error: 'age'. Retrying after 2 seconds...\n",
      "Error: 'age'. Retrying after 2 seconds...\n",
      "Error: 'age'. Retrying after 2 seconds...\n"
     ]
    },
    {
     "name": "stderr",
     "output_type": "stream",
     "text": [
      "Processing Instances:   8%|▊         | 17628/213170 [3:31:45<189:00:51,  3.48s/it]"
     ]
    },
    {
     "name": "stdout",
     "output_type": "stream",
     "text": [
      "Max retries reached. Could not fetch data.\n"
     ]
    },
    {
     "name": "stderr",
     "output_type": "stream",
     "text": [
      "Processing Instances:   8%|▊         | 17652/213170 [3:32:00<36:16:14,  1.50it/s] "
     ]
    },
    {
     "name": "stdout",
     "output_type": "stream",
     "text": [
      "Error: 'age'. Retrying after 2 seconds...\n",
      "Error: 'age'. Retrying after 2 seconds...\n",
      "Error: 'age'. Retrying after 2 seconds...\n"
     ]
    },
    {
     "name": "stderr",
     "output_type": "stream",
     "text": [
      "Processing Instances:   8%|▊         | 17653/213170 [3:32:11<196:48:25,  3.62s/it]"
     ]
    },
    {
     "name": "stdout",
     "output_type": "stream",
     "text": [
      "Max retries reached. Could not fetch data.\n"
     ]
    },
    {
     "name": "stderr",
     "output_type": "stream",
     "text": [
      "Processing Instances:   8%|▊         | 17686/213170 [3:32:33<34:00:36,  1.60it/s] "
     ]
    },
    {
     "name": "stdout",
     "output_type": "stream",
     "text": [
      "Error: 'age'. Retrying after 2 seconds...\n",
      "Error: 'age'. Retrying after 2 seconds...\n",
      "Error: 'age'. Retrying after 2 seconds...\n"
     ]
    },
    {
     "name": "stderr",
     "output_type": "stream",
     "text": [
      "Processing Instances:   8%|▊         | 17687/213170 [3:32:43<188:38:58,  3.47s/it]"
     ]
    },
    {
     "name": "stdout",
     "output_type": "stream",
     "text": [
      "Max retries reached. Could not fetch data.\n"
     ]
    },
    {
     "name": "stderr",
     "output_type": "stream",
     "text": [
      "Processing Instances:   8%|▊         | 17794/213170 [3:33:49<27:56:45,  1.94it/s] "
     ]
    },
    {
     "name": "stdout",
     "output_type": "stream",
     "text": [
      "Error: 'age'. Retrying after 2 seconds...\n",
      "Error: 'age'. Retrying after 2 seconds...\n",
      "Error: 'age'. Retrying after 2 seconds...\n"
     ]
    },
    {
     "name": "stderr",
     "output_type": "stream",
     "text": [
      "Processing Instances:   8%|▊         | 17795/213170 [3:33:59<190:20:29,  3.51s/it]"
     ]
    },
    {
     "name": "stdout",
     "output_type": "stream",
     "text": [
      "Max retries reached. Could not fetch data.\n"
     ]
    },
    {
     "name": "stderr",
     "output_type": "stream",
     "text": [
      "Processing Instances:   9%|▊         | 18160/213170 [3:37:37<31:36:11,  1.71it/s] "
     ]
    },
    {
     "name": "stdout",
     "output_type": "stream",
     "text": [
      "Error: 'age'. Retrying after 2 seconds...\n",
      "Error: 'age'. Retrying after 2 seconds...\n",
      "Error: 'age'. Retrying after 2 seconds...\n"
     ]
    },
    {
     "name": "stderr",
     "output_type": "stream",
     "text": [
      "Processing Instances:   9%|▊         | 18161/213170 [3:37:47<186:33:23,  3.44s/it]"
     ]
    },
    {
     "name": "stdout",
     "output_type": "stream",
     "text": [
      "Max retries reached. Could not fetch data.\n"
     ]
    },
    {
     "name": "stderr",
     "output_type": "stream",
     "text": [
      "Processing Instances:   9%|▊         | 18190/213170 [3:38:05<34:58:14,  1.55it/s] "
     ]
    },
    {
     "name": "stdout",
     "output_type": "stream",
     "text": [
      "Error: 'age'. Retrying after 2 seconds...\n",
      "Error: 'age'. Retrying after 2 seconds...\n",
      "Error: 'age'. Retrying after 2 seconds...\n"
     ]
    },
    {
     "name": "stderr",
     "output_type": "stream",
     "text": [
      "Processing Instances:   9%|▊         | 18191/213170 [3:38:15<188:52:09,  3.49s/it]"
     ]
    },
    {
     "name": "stdout",
     "output_type": "stream",
     "text": [
      "Max retries reached. Could not fetch data.\n"
     ]
    },
    {
     "name": "stderr",
     "output_type": "stream",
     "text": [
      "Processing Instances:   9%|▊         | 18193/213170 [3:38:16<111:23:58,  2.06s/it]"
     ]
    },
    {
     "name": "stdout",
     "output_type": "stream",
     "text": [
      "Error: 'age'. Retrying after 2 seconds...\n",
      "Error: 'age'. Retrying after 2 seconds...\n",
      "Error: 'age'. Retrying after 2 seconds...\n"
     ]
    },
    {
     "name": "stderr",
     "output_type": "stream",
     "text": [
      "Processing Instances:   9%|▊         | 18194/213170 [3:38:26<242:23:34,  4.48s/it]"
     ]
    },
    {
     "name": "stdout",
     "output_type": "stream",
     "text": [
      "Max retries reached. Could not fetch data.\n"
     ]
    },
    {
     "name": "stderr",
     "output_type": "stream",
     "text": [
      "Processing Instances:   9%|▊         | 18216/213170 [3:38:41<35:38:59,  1.52it/s] "
     ]
    },
    {
     "name": "stdout",
     "output_type": "stream",
     "text": [
      "Error: 'age'. Retrying after 2 seconds...\n",
      "Error: 'age'. Retrying after 2 seconds...\n",
      "Error: 'age'. Retrying after 2 seconds...\n"
     ]
    },
    {
     "name": "stderr",
     "output_type": "stream",
     "text": [
      "Processing Instances:   9%|▊         | 18217/213170 [3:38:51<189:15:33,  3.49s/it]"
     ]
    },
    {
     "name": "stdout",
     "output_type": "stream",
     "text": [
      "Max retries reached. Could not fetch data.\n"
     ]
    },
    {
     "name": "stderr",
     "output_type": "stream",
     "text": [
      "Processing Instances:   9%|▊         | 18218/213170 [3:38:52<147:01:31,  2.71s/it]"
     ]
    },
    {
     "name": "stdout",
     "output_type": "stream",
     "text": [
      "Error: 'age'. Retrying after 2 seconds...\n",
      "Error: 'age'. Retrying after 2 seconds...\n",
      "Error: 'age'. Retrying after 2 seconds...\n"
     ]
    },
    {
     "name": "stderr",
     "output_type": "stream",
     "text": [
      "Processing Instances:   9%|▊         | 18219/213170 [3:39:02<267:21:23,  4.94s/it]"
     ]
    },
    {
     "name": "stdout",
     "output_type": "stream",
     "text": [
      "Max retries reached. Could not fetch data.\n"
     ]
    },
    {
     "name": "stderr",
     "output_type": "stream",
     "text": [
      "Processing Instances:   9%|▊         | 18517/213170 [3:42:03<29:41:30,  1.82it/s] "
     ]
    },
    {
     "name": "stdout",
     "output_type": "stream",
     "text": [
      "Error: 'age'. Retrying after 2 seconds...\n",
      "Error: 'age'. Retrying after 2 seconds...\n",
      "Error: 'age'. Retrying after 2 seconds...\n"
     ]
    },
    {
     "name": "stderr",
     "output_type": "stream",
     "text": [
      "Processing Instances:   9%|▊         | 18518/213170 [3:42:13<184:46:12,  3.42s/it]"
     ]
    },
    {
     "name": "stdout",
     "output_type": "stream",
     "text": [
      "Max retries reached. Could not fetch data.\n"
     ]
    },
    {
     "name": "stderr",
     "output_type": "stream",
     "text": [
      "Processing Instances:   9%|▊         | 18521/213170 [3:42:15<87:49:38,  1.62s/it] "
     ]
    },
    {
     "name": "stdout",
     "output_type": "stream",
     "text": [
      "Error: 'age'. Retrying after 2 seconds...\n",
      "Error: 'age'. Retrying after 2 seconds...\n",
      "Error: 'age'. Retrying after 2 seconds...\n"
     ]
    },
    {
     "name": "stderr",
     "output_type": "stream",
     "text": [
      "Processing Instances:   9%|▊         | 18522/213170 [3:42:26<231:53:53,  4.29s/it]"
     ]
    },
    {
     "name": "stdout",
     "output_type": "stream",
     "text": [
      "Max retries reached. Could not fetch data.\n"
     ]
    },
    {
     "name": "stderr",
     "output_type": "stream",
     "text": [
      "Processing Instances:   9%|▊         | 18526/213170 [3:42:29<84:21:10,  1.56s/it] "
     ]
    },
    {
     "name": "stdout",
     "output_type": "stream",
     "text": [
      "Error: 'age'. Retrying after 2 seconds...\n",
      "Error: 'age'. Retrying after 2 seconds...\n",
      "Error: 'age'. Retrying after 2 seconds...\n"
     ]
    },
    {
     "name": "stderr",
     "output_type": "stream",
     "text": [
      "Processing Instances:   9%|▊         | 18527/213170 [3:42:39<223:14:24,  4.13s/it]"
     ]
    },
    {
     "name": "stdout",
     "output_type": "stream",
     "text": [
      "Max retries reached. Could not fetch data.\n"
     ]
    },
    {
     "name": "stderr",
     "output_type": "stream",
     "text": [
      "Processing Instances:   9%|▊         | 18596/213170 [3:43:23<45:39:42,  1.18it/s] "
     ]
    },
    {
     "name": "stdout",
     "output_type": "stream",
     "text": [
      "Error: 'age'. Retrying after 2 seconds...\n",
      "Error: 'age'. Retrying after 2 seconds...\n",
      "Error: 'age'. Retrying after 2 seconds...\n"
     ]
    },
    {
     "name": "stderr",
     "output_type": "stream",
     "text": [
      "Processing Instances:   9%|▊         | 18597/213170 [3:43:33<195:53:09,  3.62s/it]"
     ]
    },
    {
     "name": "stdout",
     "output_type": "stream",
     "text": [
      "Max retries reached. Could not fetch data.\n"
     ]
    },
    {
     "name": "stderr",
     "output_type": "stream",
     "text": [
      "Processing Instances:   9%|▉         | 18920/213170 [3:47:02<33:26:49,  1.61it/s] "
     ]
    },
    {
     "name": "stdout",
     "output_type": "stream",
     "text": [
      "Error: 'age'. Retrying after 2 seconds...\n",
      "Error: 'age'. Retrying after 2 seconds...\n",
      "Error: 'age'. Retrying after 2 seconds...\n"
     ]
    },
    {
     "name": "stderr",
     "output_type": "stream",
     "text": [
      "Processing Instances:   9%|▉         | 18921/213170 [3:47:12<193:17:18,  3.58s/it]"
     ]
    },
    {
     "name": "stdout",
     "output_type": "stream",
     "text": [
      "Max retries reached. Could not fetch data.\n"
     ]
    },
    {
     "name": "stderr",
     "output_type": "stream",
     "text": [
      "Processing Instances:   9%|▉         | 18932/213170 [3:47:19<32:55:56,  1.64it/s] "
     ]
    },
    {
     "name": "stdout",
     "output_type": "stream",
     "text": [
      "Error: 'age'. Retrying after 2 seconds...\n",
      "Error: 'age'. Retrying after 2 seconds...\n",
      "Error: 'age'. Retrying after 2 seconds...\n"
     ]
    },
    {
     "name": "stderr",
     "output_type": "stream",
     "text": [
      "Processing Instances:   9%|▉         | 18933/213170 [3:47:29<187:00:11,  3.47s/it]"
     ]
    },
    {
     "name": "stdout",
     "output_type": "stream",
     "text": [
      "Max retries reached. Could not fetch data.\n"
     ]
    },
    {
     "name": "stderr",
     "output_type": "stream",
     "text": [
      "Processing Instances:   9%|▉         | 18977/213170 [3:47:54<29:54:15,  1.80it/s] "
     ]
    },
    {
     "name": "stdout",
     "output_type": "stream",
     "text": [
      "Error: 'age'. Retrying after 2 seconds...\n",
      "Error: 'age'. Retrying after 2 seconds...\n",
      "Error: 'age'. Retrying after 2 seconds...\n"
     ]
    },
    {
     "name": "stderr",
     "output_type": "stream",
     "text": [
      "Processing Instances:   9%|▉         | 18978/213170 [3:48:05<189:38:46,  3.52s/it]"
     ]
    },
    {
     "name": "stdout",
     "output_type": "stream",
     "text": [
      "Max retries reached. Could not fetch data.\n"
     ]
    },
    {
     "name": "stderr",
     "output_type": "stream",
     "text": [
      "Processing Instances:   9%|▉         | 19022/213170 [3:48:32<30:58:23,  1.74it/s] "
     ]
    },
    {
     "name": "stdout",
     "output_type": "stream",
     "text": [
      "Error: 'age'. Retrying after 2 seconds...\n",
      "Error: 'age'. Retrying after 2 seconds...\n",
      "Error: 'age'. Retrying after 2 seconds...\n"
     ]
    },
    {
     "name": "stderr",
     "output_type": "stream",
     "text": [
      "Processing Instances:   9%|▉         | 19023/213170 [3:48:42<191:44:06,  3.56s/it]"
     ]
    },
    {
     "name": "stdout",
     "output_type": "stream",
     "text": [
      "Max retries reached. Could not fetch data.\n"
     ]
    },
    {
     "name": "stderr",
     "output_type": "stream",
     "text": [
      "Processing Instances:   9%|▉         | 19063/213170 [3:49:07<36:56:33,  1.46it/s] "
     ]
    },
    {
     "name": "stdout",
     "output_type": "stream",
     "text": [
      "Error: 'age'. Retrying after 2 seconds...\n",
      "Error: 'age'. Retrying after 2 seconds...\n",
      "Error: 'age'. Retrying after 2 seconds...\n"
     ]
    },
    {
     "name": "stderr",
     "output_type": "stream",
     "text": [
      "Processing Instances:   9%|▉         | 19064/213170 [3:49:17<189:32:06,  3.52s/it]"
     ]
    },
    {
     "name": "stdout",
     "output_type": "stream",
     "text": [
      "Max retries reached. Could not fetch data.\n"
     ]
    },
    {
     "name": "stderr",
     "output_type": "stream",
     "text": [
      "Processing Instances:   9%|▉         | 19073/213170 [3:49:23<37:19:45,  1.44it/s] "
     ]
    },
    {
     "name": "stdout",
     "output_type": "stream",
     "text": [
      "Error: 'age'. Retrying after 2 seconds...\n",
      "Error: 'age'. Retrying after 2 seconds...\n",
      "Error: 'age'. Retrying after 2 seconds...\n"
     ]
    },
    {
     "name": "stderr",
     "output_type": "stream",
     "text": [
      "Processing Instances:   9%|▉         | 19074/213170 [3:49:33<189:32:22,  3.52s/it]"
     ]
    },
    {
     "name": "stdout",
     "output_type": "stream",
     "text": [
      "Max retries reached. Could not fetch data.\n"
     ]
    },
    {
     "name": "stderr",
     "output_type": "stream",
     "text": [
      "Processing Instances:   9%|▉         | 19244/213170 [3:51:22<31:13:46,  1.72it/s] "
     ]
    },
    {
     "name": "stdout",
     "output_type": "stream",
     "text": [
      "Error: 'age'. Retrying after 2 seconds...\n",
      "Error: 'age'. Retrying after 2 seconds...\n",
      "Error: 'age'. Retrying after 2 seconds...\n"
     ]
    },
    {
     "name": "stderr",
     "output_type": "stream",
     "text": [
      "Processing Instances:   9%|▉         | 19245/213170 [3:51:32<185:03:25,  3.44s/it]"
     ]
    },
    {
     "name": "stdout",
     "output_type": "stream",
     "text": [
      "Max retries reached. Could not fetch data.\n"
     ]
    },
    {
     "name": "stderr",
     "output_type": "stream",
     "text": [
      "Processing Instances:   9%|▉         | 19251/213170 [3:51:36<59:56:54,  1.11s/it] "
     ]
    },
    {
     "name": "stdout",
     "output_type": "stream",
     "text": [
      "Error: 'age'. Retrying after 2 seconds...\n",
      "Error: 'age'. Retrying after 2 seconds...\n",
      "Error: 'age'. Retrying after 2 seconds...\n"
     ]
    },
    {
     "name": "stderr",
     "output_type": "stream",
     "text": [
      "Processing Instances:   9%|▉         | 19252/213170 [3:51:46<205:27:01,  3.81s/it]"
     ]
    },
    {
     "name": "stdout",
     "output_type": "stream",
     "text": [
      "Max retries reached. Could not fetch data.\n"
     ]
    },
    {
     "name": "stderr",
     "output_type": "stream",
     "text": [
      "Processing Instances:   9%|▉         | 19264/213170 [3:51:53<37:38:30,  1.43it/s] "
     ]
    },
    {
     "name": "stdout",
     "output_type": "stream",
     "text": [
      "Error: 'age'. Retrying after 2 seconds...\n",
      "Error: 'age'. Retrying after 2 seconds...\n",
      "Error: 'age'. Retrying after 2 seconds...\n"
     ]
    },
    {
     "name": "stderr",
     "output_type": "stream",
     "text": [
      "Processing Instances:   9%|▉         | 19265/213170 [3:52:05<218:34:17,  4.06s/it]"
     ]
    },
    {
     "name": "stdout",
     "output_type": "stream",
     "text": [
      "Max retries reached. Could not fetch data.\n"
     ]
    },
    {
     "name": "stderr",
     "output_type": "stream",
     "text": [
      "Processing Instances:   9%|▉         | 19276/213170 [3:52:12<37:22:19,  1.44it/s] "
     ]
    },
    {
     "name": "stdout",
     "output_type": "stream",
     "text": [
      "Error: 'age'. Retrying after 2 seconds...\n",
      "Error: 'age'. Retrying after 2 seconds...\n",
      "Error: 'age'. Retrying after 2 seconds...\n"
     ]
    },
    {
     "name": "stderr",
     "output_type": "stream",
     "text": [
      "Processing Instances:   9%|▉         | 19277/213170 [3:52:23<196:03:17,  3.64s/it]"
     ]
    },
    {
     "name": "stdout",
     "output_type": "stream",
     "text": [
      "Max retries reached. Could not fetch data.\n"
     ]
    },
    {
     "name": "stderr",
     "output_type": "stream",
     "text": [
      "Processing Instances:   9%|▉         | 19293/213170 [3:52:33<36:18:59,  1.48it/s] "
     ]
    },
    {
     "name": "stdout",
     "output_type": "stream",
     "text": [
      "Error: 'age'. Retrying after 2 seconds...\n",
      "Error: 'age'. Retrying after 2 seconds...\n",
      "Error: 'age'. Retrying after 2 seconds...\n"
     ]
    },
    {
     "name": "stderr",
     "output_type": "stream",
     "text": [
      "Processing Instances:   9%|▉         | 19294/213170 [3:52:44<188:49:50,  3.51s/it]"
     ]
    },
    {
     "name": "stdout",
     "output_type": "stream",
     "text": [
      "Max retries reached. Could not fetch data.\n"
     ]
    },
    {
     "name": "stderr",
     "output_type": "stream",
     "text": [
      "Processing Instances:   9%|▉         | 19372/213170 [3:53:34<30:26:10,  1.77it/s] "
     ]
    },
    {
     "name": "stdout",
     "output_type": "stream",
     "text": [
      "Error: 'age'. Retrying after 2 seconds...\n",
      "Error: 'age'. Retrying after 2 seconds...\n",
      "Error: 'age'. Retrying after 2 seconds...\n"
     ]
    },
    {
     "name": "stderr",
     "output_type": "stream",
     "text": [
      "Processing Instances:   9%|▉         | 19373/213170 [3:53:44<184:50:18,  3.43s/it]"
     ]
    },
    {
     "name": "stdout",
     "output_type": "stream",
     "text": [
      "Max retries reached. Could not fetch data.\n"
     ]
    },
    {
     "name": "stderr",
     "output_type": "stream",
     "text": [
      "Processing Instances:   9%|▉         | 19384/213170 [3:53:52<40:55:18,  1.32it/s] "
     ]
    },
    {
     "name": "stdout",
     "output_type": "stream",
     "text": [
      "Error: 'age'. Retrying after 2 seconds...\n",
      "Error: 'age'. Retrying after 2 seconds...\n",
      "Error: 'age'. Retrying after 2 seconds...\n"
     ]
    },
    {
     "name": "stderr",
     "output_type": "stream",
     "text": [
      "Processing Instances:   9%|▉         | 19385/213170 [3:54:02<192:27:03,  3.58s/it]"
     ]
    },
    {
     "name": "stdout",
     "output_type": "stream",
     "text": [
      "Max retries reached. Could not fetch data.\n"
     ]
    },
    {
     "name": "stderr",
     "output_type": "stream",
     "text": [
      "Processing Instances:   9%|▉         | 19386/213170 [3:54:02<143:07:34,  2.66s/it]"
     ]
    },
    {
     "name": "stdout",
     "output_type": "stream",
     "text": [
      "Error: 'age'. Retrying after 2 seconds...\n",
      "Error: 'age'. Retrying after 2 seconds...\n",
      "Error: 'age'. Retrying after 2 seconds...\n"
     ]
    },
    {
     "name": "stderr",
     "output_type": "stream",
     "text": [
      "Processing Instances:   9%|▉         | 19387/213170 [3:54:13<269:56:22,  5.01s/it]"
     ]
    },
    {
     "name": "stdout",
     "output_type": "stream",
     "text": [
      "Max retries reached. Could not fetch data.\n"
     ]
    },
    {
     "name": "stderr",
     "output_type": "stream",
     "text": [
      "Processing Instances:   9%|▉         | 19434/213170 [3:54:43<34:33:03,  1.56it/s] "
     ]
    },
    {
     "name": "stdout",
     "output_type": "stream",
     "text": [
      "Error: 'age'. Retrying after 2 seconds...\n",
      "Error: 'age'. Retrying after 2 seconds...\n",
      "Error: 'age'. Retrying after 2 seconds...\n"
     ]
    },
    {
     "name": "stderr",
     "output_type": "stream",
     "text": [
      "Processing Instances:   9%|▉         | 19435/213170 [3:54:53<187:28:37,  3.48s/it]"
     ]
    },
    {
     "name": "stdout",
     "output_type": "stream",
     "text": [
      "Max retries reached. Could not fetch data.\n"
     ]
    },
    {
     "name": "stderr",
     "output_type": "stream",
     "text": [
      "Processing Instances:   9%|▉         | 19449/213170 [3:55:01<28:56:55,  1.86it/s] "
     ]
    },
    {
     "name": "stdout",
     "output_type": "stream",
     "text": [
      "Error: 'age'. Retrying after 2 seconds...\n",
      "Error: 'age'. Retrying after 2 seconds...\n",
      "Error: 'age'. Retrying after 2 seconds...\n"
     ]
    },
    {
     "name": "stderr",
     "output_type": "stream",
     "text": [
      "Processing Instances:   9%|▉         | 19450/213170 [3:55:12<196:27:33,  3.65s/it]"
     ]
    },
    {
     "name": "stdout",
     "output_type": "stream",
     "text": [
      "Max retries reached. Could not fetch data.\n"
     ]
    },
    {
     "name": "stderr",
     "output_type": "stream",
     "text": [
      "Processing Instances:   9%|▉         | 19663/213170 [3:57:34<27:38:07,  1.95it/s] "
     ]
    },
    {
     "name": "stdout",
     "output_type": "stream",
     "text": [
      "Error: 'age'. Retrying after 2 seconds...\n",
      "Error: 'age'. Retrying after 2 seconds...\n",
      "Error: 'age'. Retrying after 2 seconds...\n"
     ]
    },
    {
     "name": "stderr",
     "output_type": "stream",
     "text": [
      "Processing Instances:   9%|▉         | 19664/213170 [3:57:44<182:25:59,  3.39s/it]"
     ]
    },
    {
     "name": "stdout",
     "output_type": "stream",
     "text": [
      "Max retries reached. Could not fetch data.\n"
     ]
    },
    {
     "name": "stderr",
     "output_type": "stream",
     "text": [
      "Processing Instances:   9%|▉         | 19754/213170 [3:58:40<35:50:28,  1.50it/s] "
     ]
    },
    {
     "name": "stdout",
     "output_type": "stream",
     "text": [
      "Error: 'age'. Retrying after 2 seconds...\n",
      "Error: 'age'. Retrying after 2 seconds...\n",
      "Error: 'age'. Retrying after 2 seconds...\n"
     ]
    },
    {
     "name": "stderr",
     "output_type": "stream",
     "text": [
      "Processing Instances:   9%|▉         | 19755/213170 [3:58:50<188:06:51,  3.50s/it]"
     ]
    },
    {
     "name": "stdout",
     "output_type": "stream",
     "text": [
      "Max retries reached. Could not fetch data.\n"
     ]
    },
    {
     "name": "stderr",
     "output_type": "stream",
     "text": [
      "Processing Instances:   9%|▉         | 19837/213170 [3:59:41<32:55:08,  1.63it/s] "
     ]
    },
    {
     "name": "stdout",
     "output_type": "stream",
     "text": [
      "Error: 'age'. Retrying after 2 seconds...\n",
      "Error: 'age'. Retrying after 2 seconds...\n",
      "Error: 'age'. Retrying after 2 seconds...\n"
     ]
    },
    {
     "name": "stderr",
     "output_type": "stream",
     "text": [
      "Processing Instances:   9%|▉         | 19838/213170 [3:59:51<188:08:51,  3.50s/it]"
     ]
    },
    {
     "name": "stdout",
     "output_type": "stream",
     "text": [
      "Max retries reached. Could not fetch data.\n"
     ]
    },
    {
     "name": "stderr",
     "output_type": "stream",
     "text": [
      "Processing Instances:   9%|▉         | 19914/213170 [4:00:42<27:54:25,  1.92it/s] "
     ]
    },
    {
     "name": "stdout",
     "output_type": "stream",
     "text": [
      "Error: 'age'. Retrying after 2 seconds...\n",
      "Error: 'age'. Retrying after 2 seconds...\n",
      "Error: 'age'. Retrying after 2 seconds...\n"
     ]
    },
    {
     "name": "stderr",
     "output_type": "stream",
     "text": [
      "Processing Instances:   9%|▉         | 19915/213170 [4:00:53<189:09:46,  3.52s/it]"
     ]
    },
    {
     "name": "stdout",
     "output_type": "stream",
     "text": [
      "Max retries reached. Could not fetch data.\n"
     ]
    },
    {
     "name": "stderr",
     "output_type": "stream",
     "text": [
      "Processing Instances:   9%|▉         | 19937/213170 [4:01:07<31:10:31,  1.72it/s] "
     ]
    },
    {
     "name": "stdout",
     "output_type": "stream",
     "text": [
      "Error: 'age'. Retrying after 2 seconds...\n",
      "Error: 'age'. Retrying after 2 seconds...\n",
      "Error: 'age'. Retrying after 2 seconds...\n"
     ]
    },
    {
     "name": "stderr",
     "output_type": "stream",
     "text": [
      "Processing Instances:   9%|▉         | 19938/213170 [4:01:17<184:47:59,  3.44s/it]"
     ]
    },
    {
     "name": "stdout",
     "output_type": "stream",
     "text": [
      "Max retries reached. Could not fetch data.\n"
     ]
    },
    {
     "name": "stderr",
     "output_type": "stream",
     "text": [
      "Processing Instances:   9%|▉         | 20051/213170 [4:02:30<32:17:08,  1.66it/s] "
     ]
    },
    {
     "name": "stdout",
     "output_type": "stream",
     "text": [
      "Error: 'age'. Retrying after 2 seconds...\n",
      "Error: 'age'. Retrying after 2 seconds...\n",
      "Error: 'age'. Retrying after 2 seconds...\n"
     ]
    },
    {
     "name": "stderr",
     "output_type": "stream",
     "text": [
      "Processing Instances:   9%|▉         | 20052/213170 [4:02:40<185:34:20,  3.46s/it]"
     ]
    },
    {
     "name": "stdout",
     "output_type": "stream",
     "text": [
      "Max retries reached. Could not fetch data.\n"
     ]
    },
    {
     "name": "stderr",
     "output_type": "stream",
     "text": [
      "Processing Instances:   9%|▉         | 20061/213170 [4:02:46<44:47:55,  1.20it/s] "
     ]
    },
    {
     "name": "stdout",
     "output_type": "stream",
     "text": [
      "Error: 'age'. Retrying after 2 seconds...\n",
      "Error: 'age'. Retrying after 2 seconds...\n",
      "Error: 'age'. Retrying after 2 seconds...\n"
     ]
    },
    {
     "name": "stderr",
     "output_type": "stream",
     "text": [
      "Processing Instances:   9%|▉         | 20062/213170 [4:02:56<200:35:28,  3.74s/it]"
     ]
    },
    {
     "name": "stdout",
     "output_type": "stream",
     "text": [
      "Max retries reached. Could not fetch data.\n"
     ]
    },
    {
     "name": "stderr",
     "output_type": "stream",
     "text": [
      "Processing Instances:   9%|▉         | 20088/213170 [4:03:14<44:31:04,  1.20it/s] "
     ]
    },
    {
     "name": "stdout",
     "output_type": "stream",
     "text": [
      "Error: 'age'. Retrying after 2 seconds...\n",
      "Error: 'age'. Retrying after 2 seconds...\n",
      "Error: 'age'. Retrying after 2 seconds...\n"
     ]
    },
    {
     "name": "stderr",
     "output_type": "stream",
     "text": [
      "Processing Instances:   9%|▉         | 20089/213170 [4:03:25<194:29:57,  3.63s/it]"
     ]
    },
    {
     "name": "stdout",
     "output_type": "stream",
     "text": [
      "Max retries reached. Could not fetch data.\n"
     ]
    },
    {
     "name": "stderr",
     "output_type": "stream",
     "text": [
      "Processing Instances:   9%|▉         | 20105/213170 [4:03:35<33:18:21,  1.61it/s] "
     ]
    },
    {
     "name": "stdout",
     "output_type": "stream",
     "text": [
      "Error: 'age'. Retrying after 2 seconds...\n",
      "Error: 'age'. Retrying after 2 seconds...\n",
      "Error: 'age'. Retrying after 2 seconds...\n"
     ]
    },
    {
     "name": "stderr",
     "output_type": "stream",
     "text": [
      "Processing Instances:   9%|▉         | 20106/213170 [4:03:45<192:20:16,  3.59s/it]"
     ]
    },
    {
     "name": "stdout",
     "output_type": "stream",
     "text": [
      "Max retries reached. Could not fetch data.\n"
     ]
    },
    {
     "name": "stderr",
     "output_type": "stream",
     "text": [
      "Processing Instances:   9%|▉         | 20131/213170 [4:04:05<45:13:03,  1.19it/s] "
     ]
    },
    {
     "name": "stdout",
     "output_type": "stream",
     "text": [
      "Error: 'age'. Retrying after 2 seconds...\n",
      "Error: 'age'. Retrying after 2 seconds...\n",
      "Error: 'age'. Retrying after 2 seconds...\n"
     ]
    },
    {
     "name": "stderr",
     "output_type": "stream",
     "text": [
      "Processing Instances:   9%|▉         | 20132/213170 [4:04:15<194:17:48,  3.62s/it]"
     ]
    },
    {
     "name": "stdout",
     "output_type": "stream",
     "text": [
      "Max retries reached. Could not fetch data.\n",
      "Error: 'age'. Retrying after 2 seconds...\n",
      "Error: 'age'. Retrying after 2 seconds...\n",
      "Error: 'age'. Retrying after 2 seconds...\n"
     ]
    },
    {
     "name": "stderr",
     "output_type": "stream",
     "text": [
      "Processing Instances:   9%|▉         | 20133/213170 [4:04:25<298:31:06,  5.57s/it]"
     ]
    },
    {
     "name": "stdout",
     "output_type": "stream",
     "text": [
      "Max retries reached. Could not fetch data.\n"
     ]
    },
    {
     "name": "stderr",
     "output_type": "stream",
     "text": [
      "Processing Instances:   9%|▉         | 20150/213170 [4:04:36<40:44:41,  1.32it/s] "
     ]
    },
    {
     "name": "stdout",
     "output_type": "stream",
     "text": [
      "Error: 'age'. Retrying after 2 seconds...\n",
      "Error: 'age'. Retrying after 2 seconds...\n",
      "Error: 'age'. Retrying after 2 seconds...\n"
     ]
    },
    {
     "name": "stderr",
     "output_type": "stream",
     "text": [
      "Processing Instances:   9%|▉         | 20151/213170 [4:04:47<197:28:05,  3.68s/it]"
     ]
    },
    {
     "name": "stdout",
     "output_type": "stream",
     "text": [
      "Max retries reached. Could not fetch data.\n"
     ]
    },
    {
     "name": "stderr",
     "output_type": "stream",
     "text": [
      "Processing Instances:  10%|▉         | 20353/213170 [4:06:52<33:44:59,  1.59it/s] "
     ]
    },
    {
     "name": "stdout",
     "output_type": "stream",
     "text": [
      "Error: 'age'. Retrying after 2 seconds...\n",
      "Error: 'age'. Retrying after 2 seconds...\n",
      "Error: 'age'. Retrying after 2 seconds...\n"
     ]
    },
    {
     "name": "stderr",
     "output_type": "stream",
     "text": [
      "Processing Instances:  10%|▉         | 20354/213170 [4:07:03<197:12:38,  3.68s/it]"
     ]
    },
    {
     "name": "stdout",
     "output_type": "stream",
     "text": [
      "Max retries reached. Could not fetch data.\n"
     ]
    },
    {
     "name": "stderr",
     "output_type": "stream",
     "text": [
      "Processing Instances:  10%|▉         | 20401/213170 [4:07:33<40:06:01,  1.34it/s] "
     ]
    },
    {
     "name": "stdout",
     "output_type": "stream",
     "text": [
      "Error: 'age'. Retrying after 2 seconds...\n",
      "Error: 'age'. Retrying after 2 seconds...\n",
      "Error: 'age'. Retrying after 2 seconds...\n"
     ]
    },
    {
     "name": "stderr",
     "output_type": "stream",
     "text": [
      "Processing Instances:  10%|▉         | 20402/213170 [4:07:44<196:35:30,  3.67s/it]"
     ]
    },
    {
     "name": "stdout",
     "output_type": "stream",
     "text": [
      "Max retries reached. Could not fetch data.\n"
     ]
    },
    {
     "name": "stderr",
     "output_type": "stream",
     "text": [
      "Processing Instances:  10%|▉         | 20403/213170 [4:07:44<145:56:44,  2.73s/it]"
     ]
    },
    {
     "name": "stdout",
     "output_type": "stream",
     "text": [
      "Error: 'age'. Retrying after 2 seconds...\n",
      "Error: 'age'. Retrying after 2 seconds...\n",
      "Error: 'age'. Retrying after 2 seconds...\n"
     ]
    },
    {
     "name": "stderr",
     "output_type": "stream",
     "text": [
      "Processing Instances:  10%|▉         | 20404/213170 [4:07:55<271:20:59,  5.07s/it]"
     ]
    },
    {
     "name": "stdout",
     "output_type": "stream",
     "text": [
      "Max retries reached. Could not fetch data.\n",
      "Error: 'age'. Retrying after 2 seconds...\n",
      "Error: 'age'. Retrying after 2 seconds...\n",
      "Error: 'age'. Retrying after 2 seconds...\n"
     ]
    },
    {
     "name": "stderr",
     "output_type": "stream",
     "text": [
      "Processing Instances:  10%|▉         | 20405/213170 [4:08:05<360:01:38,  6.72s/it]"
     ]
    },
    {
     "name": "stdout",
     "output_type": "stream",
     "text": [
      "Max retries reached. Could not fetch data.\n"
     ]
    },
    {
     "name": "stderr",
     "output_type": "stream",
     "text": [
      "Processing Instances:  10%|▉         | 20488/213170 [4:09:00<42:46:34,  1.25it/s] "
     ]
    },
    {
     "name": "stdout",
     "output_type": "stream",
     "text": [
      "Error: 'age'. Retrying after 2 seconds...\n",
      "Error: 'age'. Retrying after 2 seconds...\n",
      "Error: 'age'. Retrying after 2 seconds...\n"
     ]
    },
    {
     "name": "stderr",
     "output_type": "stream",
     "text": [
      "Processing Instances:  10%|▉         | 20489/213170 [4:09:10<192:21:52,  3.59s/it]"
     ]
    },
    {
     "name": "stdout",
     "output_type": "stream",
     "text": [
      "Max retries reached. Could not fetch data.\n"
     ]
    },
    {
     "name": "stderr",
     "output_type": "stream",
     "text": [
      "Processing Instances:  10%|▉         | 20491/213170 [4:09:11<108:00:30,  2.02s/it]"
     ]
    },
    {
     "name": "stdout",
     "output_type": "stream",
     "text": [
      "Error: 'age'. Retrying after 2 seconds...\n",
      "Error: 'age'. Retrying after 2 seconds...\n",
      "Error: 'age'. Retrying after 2 seconds...\n"
     ]
    },
    {
     "name": "stderr",
     "output_type": "stream",
     "text": [
      "Processing Instances:  10%|▉         | 20492/213170 [4:09:21<244:23:04,  4.57s/it]"
     ]
    },
    {
     "name": "stdout",
     "output_type": "stream",
     "text": [
      "Max retries reached. Could not fetch data.\n"
     ]
    },
    {
     "name": "stderr",
     "output_type": "stream",
     "text": [
      "Processing Instances:  10%|▉         | 20528/213170 [4:09:47<41:05:59,  1.30it/s] "
     ]
    },
    {
     "name": "stdout",
     "output_type": "stream",
     "text": [
      "Error: 'age'. Retrying after 2 seconds...\n",
      "Error: 'age'. Retrying after 2 seconds...\n",
      "Error: 'age'. Retrying after 2 seconds...\n"
     ]
    },
    {
     "name": "stderr",
     "output_type": "stream",
     "text": [
      "Processing Instances:  10%|▉         | 20529/213170 [4:09:57<190:54:29,  3.57s/it]"
     ]
    },
    {
     "name": "stdout",
     "output_type": "stream",
     "text": [
      "Max retries reached. Could not fetch data.\n"
     ]
    },
    {
     "name": "stderr",
     "output_type": "stream",
     "text": [
      "Processing Instances:  10%|▉         | 20535/213170 [4:10:01<58:47:58,  1.10s/it] "
     ]
    },
    {
     "name": "stdout",
     "output_type": "stream",
     "text": [
      "Error: 'age'. Retrying after 2 seconds...\n",
      "Error: 'age'. Retrying after 2 seconds...\n",
      "Error: 'age'. Retrying after 2 seconds...\n"
     ]
    },
    {
     "name": "stderr",
     "output_type": "stream",
     "text": [
      "Processing Instances:  10%|▉         | 20536/213170 [4:10:11<203:28:28,  3.80s/it]"
     ]
    },
    {
     "name": "stdout",
     "output_type": "stream",
     "text": [
      "Max retries reached. Could not fetch data.\n"
     ]
    },
    {
     "name": "stderr",
     "output_type": "stream",
     "text": [
      "Processing Instances:  10%|▉         | 20558/213170 [4:10:26<27:29:37,  1.95it/s] "
     ]
    },
    {
     "name": "stdout",
     "output_type": "stream",
     "text": [
      "Error: 'age'. Retrying after 2 seconds...\n",
      "Error: 'age'. Retrying after 2 seconds...\n",
      "Error: 'age'. Retrying after 2 seconds...\n"
     ]
    },
    {
     "name": "stderr",
     "output_type": "stream",
     "text": [
      "Processing Instances:  10%|▉         | 20559/213170 [4:10:36<181:38:27,  3.39s/it]"
     ]
    },
    {
     "name": "stdout",
     "output_type": "stream",
     "text": [
      "Max retries reached. Could not fetch data.\n"
     ]
    },
    {
     "name": "stderr",
     "output_type": "stream",
     "text": [
      "Processing Instances:  10%|▉         | 20569/213170 [4:10:43<36:01:15,  1.49it/s] "
     ]
    },
    {
     "name": "stdout",
     "output_type": "stream",
     "text": [
      "Error: 'age'. Retrying after 2 seconds...\n",
      "Error: 'age'. Retrying after 2 seconds...\n",
      "Error: 'age'. Retrying after 2 seconds...\n"
     ]
    },
    {
     "name": "stderr",
     "output_type": "stream",
     "text": [
      "Processing Instances:  10%|▉         | 20570/213170 [4:10:53<193:43:14,  3.62s/it]"
     ]
    },
    {
     "name": "stdout",
     "output_type": "stream",
     "text": [
      "Max retries reached. Could not fetch data.\n",
      "Error: 'age'. Retrying after 2 seconds...\n",
      "Error: 'age'. Retrying after 2 seconds...\n",
      "Error: 'age'. Retrying after 2 seconds...\n"
     ]
    },
    {
     "name": "stderr",
     "output_type": "stream",
     "text": [
      "Processing Instances:  10%|▉         | 20571/213170 [4:11:04<304:10:51,  5.69s/it]"
     ]
    },
    {
     "name": "stdout",
     "output_type": "stream",
     "text": [
      "Max retries reached. Could not fetch data.\n"
     ]
    },
    {
     "name": "stderr",
     "output_type": "stream",
     "text": [
      "Processing Instances:  10%|▉         | 20582/213170 [4:11:11<36:40:05,  1.46it/s] "
     ]
    },
    {
     "name": "stdout",
     "output_type": "stream",
     "text": [
      "Error: 'age'. Retrying after 2 seconds...\n",
      "Error: 'age'. Retrying after 2 seconds...\n",
      "Error: 'age'. Retrying after 2 seconds...\n"
     ]
    },
    {
     "name": "stderr",
     "output_type": "stream",
     "text": [
      "Processing Instances:  10%|▉         | 20583/213170 [4:11:22<194:03:47,  3.63s/it]"
     ]
    },
    {
     "name": "stdout",
     "output_type": "stream",
     "text": [
      "Max retries reached. Could not fetch data.\n"
     ]
    },
    {
     "name": "stderr",
     "output_type": "stream",
     "text": [
      "Processing Instances:  10%|▉         | 20623/213170 [4:11:50<37:29:45,  1.43it/s] "
     ]
    },
    {
     "name": "stdout",
     "output_type": "stream",
     "text": [
      "Error: 'age'. Retrying after 2 seconds...\n",
      "Error: 'age'. Retrying after 2 seconds...\n",
      "Error: 'age'. Retrying after 2 seconds...\n"
     ]
    },
    {
     "name": "stderr",
     "output_type": "stream",
     "text": [
      "Processing Instances:  10%|▉         | 20624/213170 [4:12:00<188:23:57,  3.52s/it]"
     ]
    },
    {
     "name": "stdout",
     "output_type": "stream",
     "text": [
      "Max retries reached. Could not fetch data.\n"
     ]
    },
    {
     "name": "stderr",
     "output_type": "stream",
     "text": [
      "Processing Instances:  10%|▉         | 20629/213170 [4:12:04<63:51:36,  1.19s/it] "
     ]
    },
    {
     "name": "stdout",
     "output_type": "stream",
     "text": [
      "Error: 'age'. Retrying after 2 seconds...\n",
      "Error: 'age'. Retrying after 2 seconds...\n",
      "Error: 'age'. Retrying after 2 seconds...\n"
     ]
    },
    {
     "name": "stderr",
     "output_type": "stream",
     "text": [
      "Processing Instances:  10%|▉         | 20630/213170 [4:12:14<207:05:33,  3.87s/it]"
     ]
    },
    {
     "name": "stdout",
     "output_type": "stream",
     "text": [
      "Max retries reached. Could not fetch data.\n"
     ]
    },
    {
     "name": "stderr",
     "output_type": "stream",
     "text": [
      "Processing Instances:  10%|▉         | 20642/213170 [4:12:21<30:03:33,  1.78it/s] "
     ]
    },
    {
     "name": "stdout",
     "output_type": "stream",
     "text": [
      "Error: 'age'. Retrying after 2 seconds...\n",
      "Error: 'age'. Retrying after 2 seconds...\n",
      "Error: 'age'. Retrying after 2 seconds...\n"
     ]
    },
    {
     "name": "stderr",
     "output_type": "stream",
     "text": [
      "Processing Instances:  10%|▉         | 20643/213170 [4:12:31<183:20:06,  3.43s/it]"
     ]
    },
    {
     "name": "stdout",
     "output_type": "stream",
     "text": [
      "Max retries reached. Could not fetch data.\n"
     ]
    },
    {
     "name": "stderr",
     "output_type": "stream",
     "text": [
      "Processing Instances:  10%|▉         | 20648/213170 [4:12:33<49:52:24,  1.07it/s] "
     ]
    },
    {
     "name": "stdout",
     "output_type": "stream",
     "text": [
      "Error: 'age'. Retrying after 2 seconds...\n",
      "Error: 'age'. Retrying after 2 seconds...\n",
      "Error: 'age'. Retrying after 2 seconds...\n"
     ]
    },
    {
     "name": "stderr",
     "output_type": "stream",
     "text": [
      "Processing Instances:  10%|▉         | 20649/213170 [4:12:43<197:19:00,  3.69s/it]"
     ]
    },
    {
     "name": "stdout",
     "output_type": "stream",
     "text": [
      "Max retries reached. Could not fetch data.\n"
     ]
    },
    {
     "name": "stderr",
     "output_type": "stream",
     "text": [
      "Processing Instances:  10%|▉         | 20665/213170 [4:12:54<35:31:52,  1.50it/s] "
     ]
    },
    {
     "name": "stdout",
     "output_type": "stream",
     "text": [
      "Error: 'age'. Retrying after 2 seconds...\n",
      "Error: 'age'. Retrying after 2 seconds...\n",
      "Error: 'age'. Retrying after 2 seconds...\n"
     ]
    },
    {
     "name": "stderr",
     "output_type": "stream",
     "text": [
      "Processing Instances:  10%|▉         | 20666/213170 [4:13:04<193:10:57,  3.61s/it]"
     ]
    },
    {
     "name": "stdout",
     "output_type": "stream",
     "text": [
      "Max retries reached. Could not fetch data.\n"
     ]
    },
    {
     "name": "stderr",
     "output_type": "stream",
     "text": [
      "Processing Instances:  10%|▉         | 21206/213170 [4:18:42<30:48:52,  1.73it/s] "
     ]
    },
    {
     "name": "stdout",
     "output_type": "stream",
     "text": [
      "Error: 'age'. Retrying after 2 seconds...\n",
      "Error: 'age'. Retrying after 2 seconds...\n",
      "Error: 'age'. Retrying after 2 seconds...\n"
     ]
    },
    {
     "name": "stderr",
     "output_type": "stream",
     "text": [
      "Processing Instances:  10%|▉         | 21207/213170 [4:18:52<183:42:22,  3.45s/it]"
     ]
    },
    {
     "name": "stdout",
     "output_type": "stream",
     "text": [
      "Max retries reached. Could not fetch data.\n"
     ]
    },
    {
     "name": "stderr",
     "output_type": "stream",
     "text": [
      "Processing Instances:  10%|▉         | 21288/213170 [4:19:44<35:53:30,  1.49it/s] "
     ]
    },
    {
     "name": "stdout",
     "output_type": "stream",
     "text": [
      "Error: 'age'. Retrying after 2 seconds...\n",
      "Error: 'age'. Retrying after 2 seconds...\n",
      "Error: 'age'. Retrying after 2 seconds...\n"
     ]
    },
    {
     "name": "stderr",
     "output_type": "stream",
     "text": [
      "Processing Instances:  10%|▉         | 21289/213170 [4:19:54<193:35:34,  3.63s/it]"
     ]
    },
    {
     "name": "stdout",
     "output_type": "stream",
     "text": [
      "Max retries reached. Could not fetch data.\n"
     ]
    },
    {
     "name": "stderr",
     "output_type": "stream",
     "text": [
      "Processing Instances:  10%|█         | 21450/213170 [4:21:37<31:52:04,  1.67it/s] "
     ]
    },
    {
     "name": "stdout",
     "output_type": "stream",
     "text": [
      "Error: 'age'. Retrying after 2 seconds...\n",
      "Error: 'age'. Retrying after 2 seconds...\n",
      "Error: 'age'. Retrying after 2 seconds...\n"
     ]
    },
    {
     "name": "stderr",
     "output_type": "stream",
     "text": [
      "Processing Instances:  10%|█         | 21451/213170 [4:21:48<196:55:44,  3.70s/it]"
     ]
    },
    {
     "name": "stdout",
     "output_type": "stream",
     "text": [
      "Max retries reached. Could not fetch data.\n"
     ]
    },
    {
     "name": "stderr",
     "output_type": "stream",
     "text": [
      "Processing Instances:  10%|█         | 21624/213170 [4:23:35<27:13:34,  1.95it/s] "
     ]
    },
    {
     "name": "stdout",
     "output_type": "stream",
     "text": [
      "Error: 'age'. Retrying after 2 seconds...\n",
      "Error: 'age'. Retrying after 2 seconds...\n",
      "Error: 'age'. Retrying after 2 seconds...\n"
     ]
    },
    {
     "name": "stderr",
     "output_type": "stream",
     "text": [
      "Processing Instances:  10%|█         | 21625/213170 [4:23:46<198:28:34,  3.73s/it]"
     ]
    },
    {
     "name": "stdout",
     "output_type": "stream",
     "text": [
      "Max retries reached. Could not fetch data.\n"
     ]
    },
    {
     "name": "stderr",
     "output_type": "stream",
     "text": [
      "Processing Instances:  10%|█         | 21678/213170 [4:24:21<32:05:12,  1.66it/s] "
     ]
    },
    {
     "name": "stdout",
     "output_type": "stream",
     "text": [
      "Error: 'age'. Retrying after 2 seconds...\n",
      "Error: 'age'. Retrying after 2 seconds...\n",
      "Error: 'age'. Retrying after 2 seconds...\n"
     ]
    },
    {
     "name": "stderr",
     "output_type": "stream",
     "text": [
      "Processing Instances:  10%|█         | 21679/213170 [4:24:31<183:49:31,  3.46s/it]"
     ]
    },
    {
     "name": "stdout",
     "output_type": "stream",
     "text": [
      "Max retries reached. Could not fetch data.\n"
     ]
    },
    {
     "name": "stderr",
     "output_type": "stream",
     "text": [
      "Processing Instances:  10%|█         | 21745/213170 [4:25:13<39:50:01,  1.33it/s] "
     ]
    },
    {
     "name": "stdout",
     "output_type": "stream",
     "text": [
      "Error: 'age'. Retrying after 2 seconds...\n",
      "Error: 'age'. Retrying after 2 seconds...\n",
      "Error: 'age'. Retrying after 2 seconds...\n"
     ]
    },
    {
     "name": "stderr",
     "output_type": "stream",
     "text": [
      "Processing Instances:  10%|█         | 21746/213170 [4:25:23<189:21:24,  3.56s/it]"
     ]
    },
    {
     "name": "stdout",
     "output_type": "stream",
     "text": [
      "Max retries reached. Could not fetch data.\n"
     ]
    },
    {
     "name": "stderr",
     "output_type": "stream",
     "text": [
      "Processing Instances:  10%|█         | 21846/213170 [4:26:28<30:26:42,  1.75it/s] "
     ]
    },
    {
     "name": "stdout",
     "output_type": "stream",
     "text": [
      "Error: 'age'. Retrying after 2 seconds...\n",
      "Error: 'age'. Retrying after 2 seconds...\n",
      "Error: 'age'. Retrying after 2 seconds...\n"
     ]
    },
    {
     "name": "stderr",
     "output_type": "stream",
     "text": [
      "Processing Instances:  10%|█         | 21847/213170 [4:26:38<188:55:24,  3.55s/it]"
     ]
    },
    {
     "name": "stdout",
     "output_type": "stream",
     "text": [
      "Max retries reached. Could not fetch data.\n",
      "Error: 'age'. Retrying after 2 seconds...\n",
      "Error: 'age'. Retrying after 2 seconds...\n",
      "Error: 'age'. Retrying after 2 seconds...\n"
     ]
    },
    {
     "name": "stderr",
     "output_type": "stream",
     "text": [
      "Processing Instances:  10%|█         | 21848/213170 [4:26:48<293:48:23,  5.53s/it]"
     ]
    },
    {
     "name": "stdout",
     "output_type": "stream",
     "text": [
      "Max retries reached. Could not fetch data.\n",
      "Error: 'age'. Retrying after 2 seconds...\n",
      "Error: 'age'. Retrying after 2 seconds...\n",
      "Error: 'age'. Retrying after 2 seconds...\n"
     ]
    },
    {
     "name": "stderr",
     "output_type": "stream",
     "text": [
      "Processing Instances:  10%|█         | 21849/213170 [4:26:58<367:22:58,  6.91s/it]"
     ]
    },
    {
     "name": "stdout",
     "output_type": "stream",
     "text": [
      "Max retries reached. Could not fetch data.\n"
     ]
    },
    {
     "name": "stderr",
     "output_type": "stream",
     "text": [
      "Processing Instances:  10%|█         | 22145/213170 [4:30:06<31:49:50,  1.67it/s] "
     ]
    },
    {
     "name": "stdout",
     "output_type": "stream",
     "text": [
      "Error: 'age'. Retrying after 2 seconds...\n",
      "Error: 'age'. Retrying after 2 seconds...\n",
      "Error: 'age'. Retrying after 2 seconds...\n"
     ]
    },
    {
     "name": "stderr",
     "output_type": "stream",
     "text": [
      "Processing Instances:  10%|█         | 22146/213170 [4:30:16<183:04:07,  3.45s/it]"
     ]
    },
    {
     "name": "stdout",
     "output_type": "stream",
     "text": [
      "Max retries reached. Could not fetch data.\n"
     ]
    },
    {
     "name": "stderr",
     "output_type": "stream",
     "text": [
      "Processing Instances:  10%|█         | 22209/213170 [4:30:55<27:24:30,  1.94it/s] "
     ]
    },
    {
     "name": "stdout",
     "output_type": "stream",
     "text": [
      "Error: 'age'. Retrying after 2 seconds...\n",
      "Error: 'age'. Retrying after 2 seconds...\n",
      "Error: 'age'. Retrying after 2 seconds...\n"
     ]
    },
    {
     "name": "stderr",
     "output_type": "stream",
     "text": [
      "Processing Instances:  10%|█         | 22210/213170 [4:31:05<179:57:57,  3.39s/it]"
     ]
    },
    {
     "name": "stdout",
     "output_type": "stream",
     "text": [
      "Max retries reached. Could not fetch data.\n"
     ]
    },
    {
     "name": "stderr",
     "output_type": "stream",
     "text": [
      "Processing Instances:  11%|█         | 22540/213170 [4:34:31<27:35:34,  1.92it/s] "
     ]
    },
    {
     "name": "stdout",
     "output_type": "stream",
     "text": [
      "Error: 'age'. Retrying after 2 seconds...\n",
      "Error: 'age'. Retrying after 2 seconds...\n",
      "Error: 'age'. Retrying after 2 seconds...\n"
     ]
    },
    {
     "name": "stderr",
     "output_type": "stream",
     "text": [
      "Processing Instances:  11%|█         | 22541/213170 [4:34:42<186:02:48,  3.51s/it]"
     ]
    },
    {
     "name": "stdout",
     "output_type": "stream",
     "text": [
      "Max retries reached. Could not fetch data.\n"
     ]
    },
    {
     "name": "stderr",
     "output_type": "stream",
     "text": [
      "Processing Instances:  11%|█         | 22728/213170 [4:36:40<42:19:32,  1.25it/s] "
     ]
    },
    {
     "name": "stdout",
     "output_type": "stream",
     "text": [
      "Error: 'age'. Retrying after 2 seconds...\n",
      "Error: 'age'. Retrying after 2 seconds...\n",
      "Error: 'age'. Retrying after 2 seconds...\n"
     ]
    },
    {
     "name": "stderr",
     "output_type": "stream",
     "text": [
      "Processing Instances:  11%|█         | 22729/213170 [4:36:50<190:14:31,  3.60s/it]"
     ]
    },
    {
     "name": "stdout",
     "output_type": "stream",
     "text": [
      "Max retries reached. Could not fetch data.\n"
     ]
    },
    {
     "name": "stderr",
     "output_type": "stream",
     "text": [
      "Processing Instances:  11%|█         | 22840/213170 [4:37:57<27:22:12,  1.93it/s] "
     ]
    },
    {
     "name": "stdout",
     "output_type": "stream",
     "text": [
      "Error: 'age'. Retrying after 2 seconds...\n",
      "Error: 'age'. Retrying after 2 seconds...\n",
      "Error: 'age'. Retrying after 2 seconds...\n"
     ]
    },
    {
     "name": "stderr",
     "output_type": "stream",
     "text": [
      "Processing Instances:  11%|█         | 22841/213170 [4:38:08<185:40:57,  3.51s/it]"
     ]
    },
    {
     "name": "stdout",
     "output_type": "stream",
     "text": [
      "Max retries reached. Could not fetch data.\n"
     ]
    },
    {
     "name": "stderr",
     "output_type": "stream",
     "text": [
      "Processing Instances:  11%|█         | 22900/213170 [4:38:46<34:40:38,  1.52it/s] "
     ]
    },
    {
     "name": "stdout",
     "output_type": "stream",
     "text": [
      "Error: 'age'. Retrying after 2 seconds...\n",
      "Error: 'age'. Retrying after 2 seconds...\n",
      "Error: 'age'. Retrying after 2 seconds...\n"
     ]
    },
    {
     "name": "stderr",
     "output_type": "stream",
     "text": [
      "Processing Instances:  11%|█         | 22901/213170 [4:38:56<190:50:59,  3.61s/it]"
     ]
    },
    {
     "name": "stdout",
     "output_type": "stream",
     "text": [
      "Max retries reached. Could not fetch data.\n"
     ]
    },
    {
     "name": "stderr",
     "output_type": "stream",
     "text": [
      "Processing Instances:  11%|█         | 22977/213170 [4:39:44<33:34:31,  1.57it/s] "
     ]
    },
    {
     "name": "stdout",
     "output_type": "stream",
     "text": [
      "Error: 'age'. Retrying after 2 seconds...\n",
      "Error: 'age'. Retrying after 2 seconds...\n",
      "Error: 'age'. Retrying after 2 seconds...\n"
     ]
    },
    {
     "name": "stderr",
     "output_type": "stream",
     "text": [
      "Processing Instances:  11%|█         | 22978/213170 [4:39:54<183:51:45,  3.48s/it]"
     ]
    },
    {
     "name": "stdout",
     "output_type": "stream",
     "text": [
      "Max retries reached. Could not fetch data.\n"
     ]
    },
    {
     "name": "stderr",
     "output_type": "stream",
     "text": [
      "Processing Instances:  11%|█         | 22979/213170 [4:39:55<142:44:22,  2.70s/it]"
     ]
    },
    {
     "name": "stdout",
     "output_type": "stream",
     "text": [
      "Error: 'age'. Retrying after 2 seconds...\n",
      "Error: 'age'. Retrying after 2 seconds...\n",
      "Error: 'age'. Retrying after 2 seconds...\n"
     ]
    },
    {
     "name": "stderr",
     "output_type": "stream",
     "text": [
      "Processing Instances:  11%|█         | 22980/213170 [4:40:05<266:33:14,  5.05s/it]"
     ]
    },
    {
     "name": "stdout",
     "output_type": "stream",
     "text": [
      "Max retries reached. Could not fetch data.\n"
     ]
    },
    {
     "name": "stderr",
     "output_type": "stream",
     "text": [
      "Processing Instances:  11%|█         | 22984/213170 [4:40:08<88:35:22,  1.68s/it] "
     ]
    },
    {
     "name": "stdout",
     "output_type": "stream",
     "text": [
      "Error: 'age'. Retrying after 2 seconds...\n",
      "Error: 'age'. Retrying after 2 seconds...\n",
      "Error: 'age'. Retrying after 2 seconds...\n"
     ]
    },
    {
     "name": "stderr",
     "output_type": "stream",
     "text": [
      "Processing Instances:  11%|█         | 22985/213170 [4:40:18<222:11:00,  4.21s/it]"
     ]
    },
    {
     "name": "stdout",
     "output_type": "stream",
     "text": [
      "Max retries reached. Could not fetch data.\n"
     ]
    },
    {
     "name": "stderr",
     "output_type": "stream",
     "text": [
      "Processing Instances:  11%|█         | 23011/213170 [4:40:35<27:27:11,  1.92it/s] "
     ]
    },
    {
     "name": "stdout",
     "output_type": "stream",
     "text": [
      "Error: 'age'. Retrying after 2 seconds...\n",
      "Error: 'age'. Retrying after 2 seconds...\n",
      "Error: 'age'. Retrying after 2 seconds...\n"
     ]
    },
    {
     "name": "stderr",
     "output_type": "stream",
     "text": [
      "Processing Instances:  11%|█         | 23012/213170 [4:40:45<185:53:49,  3.52s/it]"
     ]
    },
    {
     "name": "stdout",
     "output_type": "stream",
     "text": [
      "Max retries reached. Could not fetch data.\n"
     ]
    },
    {
     "name": "stderr",
     "output_type": "stream",
     "text": [
      "Processing Instances:  11%|█         | 23220/213170 [4:43:01<25:28:13,  2.07it/s] "
     ]
    },
    {
     "name": "stdout",
     "output_type": "stream",
     "text": [
      "Error: 'age'. Retrying after 2 seconds...\n",
      "Error: 'age'. Retrying after 2 seconds...\n",
      "Error: 'age'. Retrying after 2 seconds...\n"
     ]
    },
    {
     "name": "stderr",
     "output_type": "stream",
     "text": [
      "Processing Instances:  11%|█         | 23221/213170 [4:43:11<184:02:15,  3.49s/it]"
     ]
    },
    {
     "name": "stdout",
     "output_type": "stream",
     "text": [
      "Max retries reached. Could not fetch data.\n"
     ]
    },
    {
     "name": "stderr",
     "output_type": "stream",
     "text": [
      "Processing Instances:  11%|█         | 23260/213170 [4:43:35<39:51:26,  1.32it/s] "
     ]
    },
    {
     "name": "stdout",
     "output_type": "stream",
     "text": [
      "Error: 'age'. Retrying after 2 seconds...\n",
      "Error: 'age'. Retrying after 2 seconds...\n",
      "Error: 'age'. Retrying after 2 seconds...\n"
     ]
    },
    {
     "name": "stderr",
     "output_type": "stream",
     "text": [
      "Processing Instances:  11%|█         | 23261/213170 [4:43:45<188:01:54,  3.56s/it]"
     ]
    },
    {
     "name": "stdout",
     "output_type": "stream",
     "text": [
      "Max retries reached. Could not fetch data.\n"
     ]
    },
    {
     "name": "stderr",
     "output_type": "stream",
     "text": [
      "Processing Instances:  11%|█         | 23385/213170 [4:45:01<39:05:06,  1.35it/s] "
     ]
    },
    {
     "name": "stdout",
     "output_type": "stream",
     "text": [
      "Error: 'age'. Retrying after 2 seconds...\n",
      "Error: 'age'. Retrying after 2 seconds...\n",
      "Error: 'age'. Retrying after 2 seconds...\n"
     ]
    },
    {
     "name": "stderr",
     "output_type": "stream",
     "text": [
      "Processing Instances:  11%|█         | 23386/213170 [4:45:11<187:23:06,  3.55s/it]"
     ]
    },
    {
     "name": "stdout",
     "output_type": "stream",
     "text": [
      "Max retries reached. Could not fetch data.\n"
     ]
    },
    {
     "name": "stderr",
     "output_type": "stream",
     "text": [
      "Processing Instances:  11%|█         | 23430/213170 [4:45:39<38:24:09,  1.37it/s] "
     ]
    },
    {
     "name": "stdout",
     "output_type": "stream",
     "text": [
      "Error: 'age'. Retrying after 2 seconds...\n",
      "Error: 'age'. Retrying after 2 seconds...\n",
      "Error: 'age'. Retrying after 2 seconds...\n"
     ]
    },
    {
     "name": "stderr",
     "output_type": "stream",
     "text": [
      "Processing Instances:  11%|█         | 23431/213170 [4:45:49<186:51:37,  3.55s/it]"
     ]
    },
    {
     "name": "stdout",
     "output_type": "stream",
     "text": [
      "Max retries reached. Could not fetch data.\n"
     ]
    },
    {
     "name": "stderr",
     "output_type": "stream",
     "text": [
      "Processing Instances:  11%|█         | 23440/213170 [4:45:54<38:06:30,  1.38it/s] "
     ]
    },
    {
     "name": "stdout",
     "output_type": "stream",
     "text": [
      "Error: 'age'. Retrying after 2 seconds...\n",
      "Error: 'age'. Retrying after 2 seconds...\n",
      "Error: 'age'. Retrying after 2 seconds...\n"
     ]
    },
    {
     "name": "stderr",
     "output_type": "stream",
     "text": [
      "Processing Instances:  11%|█         | 23441/213170 [4:46:05<192:42:34,  3.66s/it]"
     ]
    },
    {
     "name": "stdout",
     "output_type": "stream",
     "text": [
      "Max retries reached. Could not fetch data.\n"
     ]
    },
    {
     "name": "stderr",
     "output_type": "stream",
     "text": [
      "Processing Instances:  11%|█         | 23478/213170 [4:46:29<32:17:25,  1.63it/s] "
     ]
    },
    {
     "name": "stdout",
     "output_type": "stream",
     "text": [
      "Error: 'age'. Retrying after 2 seconds...\n",
      "Error: 'age'. Retrying after 2 seconds...\n",
      "Error: 'age'. Retrying after 2 seconds...\n"
     ]
    },
    {
     "name": "stderr",
     "output_type": "stream",
     "text": [
      "Processing Instances:  11%|█         | 23479/213170 [4:46:40<182:28:32,  3.46s/it]"
     ]
    },
    {
     "name": "stdout",
     "output_type": "stream",
     "text": [
      "Max retries reached. Could not fetch data.\n"
     ]
    },
    {
     "name": "stderr",
     "output_type": "stream",
     "text": [
      "Processing Instances:  11%|█         | 23536/213170 [4:47:17<27:00:16,  1.95it/s] "
     ]
    },
    {
     "name": "stdout",
     "output_type": "stream",
     "text": [
      "Error: 'age'. Retrying after 2 seconds...\n",
      "Error: 'age'. Retrying after 2 seconds...\n",
      "Error: 'age'. Retrying after 2 seconds...\n"
     ]
    },
    {
     "name": "stderr",
     "output_type": "stream",
     "text": [
      "Processing Instances:  11%|█         | 23537/213170 [4:47:28<184:52:48,  3.51s/it]"
     ]
    },
    {
     "name": "stdout",
     "output_type": "stream",
     "text": [
      "Max retries reached. Could not fetch data.\n"
     ]
    },
    {
     "name": "stderr",
     "output_type": "stream",
     "text": [
      "Processing Instances:  11%|█         | 23820/213170 [4:50:22<27:11:57,  1.93it/s] "
     ]
    },
    {
     "name": "stdout",
     "output_type": "stream",
     "text": [
      "Error: 'age'. Retrying after 2 seconds...\n",
      "Error: 'age'. Retrying after 2 seconds...\n",
      "Error: 'age'. Retrying after 2 seconds...\n"
     ]
    },
    {
     "name": "stderr",
     "output_type": "stream",
     "text": [
      "Processing Instances:  11%|█         | 23821/213170 [4:50:32<178:34:47,  3.40s/it]"
     ]
    },
    {
     "name": "stdout",
     "output_type": "stream",
     "text": [
      "Max retries reached. Could not fetch data.\n"
     ]
    },
    {
     "name": "stderr",
     "output_type": "stream",
     "text": [
      "Processing Instances:  11%|█         | 23925/213170 [4:51:32<27:04:19,  1.94it/s] "
     ]
    },
    {
     "name": "stdout",
     "output_type": "stream",
     "text": [
      "Error: 'age'. Retrying after 2 seconds...\n",
      "Error: 'age'. Retrying after 2 seconds...\n",
      "Error: 'age'. Retrying after 2 seconds...\n"
     ]
    },
    {
     "name": "stderr",
     "output_type": "stream",
     "text": [
      "Processing Instances:  11%|█         | 23926/213170 [4:51:42<178:32:49,  3.40s/it]"
     ]
    },
    {
     "name": "stdout",
     "output_type": "stream",
     "text": [
      "Max retries reached. Could not fetch data.\n"
     ]
    },
    {
     "name": "stderr",
     "output_type": "stream",
     "text": [
      "Processing Instances:  11%|█▏        | 24101/213170 [4:53:30<28:16:06,  1.86it/s] "
     ]
    },
    {
     "name": "stdout",
     "output_type": "stream",
     "text": [
      "Error: 'age'. Retrying after 2 seconds...\n",
      "Error: 'age'. Retrying after 2 seconds...\n",
      "Error: 'age'. Retrying after 2 seconds...\n"
     ]
    },
    {
     "name": "stderr",
     "output_type": "stream",
     "text": [
      "Processing Instances:  11%|█▏        | 24102/213170 [4:53:40<179:04:04,  3.41s/it]"
     ]
    },
    {
     "name": "stdout",
     "output_type": "stream",
     "text": [
      "Max retries reached. Could not fetch data.\n"
     ]
    },
    {
     "name": "stderr",
     "output_type": "stream",
     "text": [
      "Processing Instances:  11%|█▏        | 24150/213170 [4:54:10<28:50:48,  1.82it/s] "
     ]
    },
    {
     "name": "stdout",
     "output_type": "stream",
     "text": [
      "Error: 'age'. Retrying after 2 seconds...\n",
      "Error: 'age'. Retrying after 2 seconds...\n",
      "Error: 'age'. Retrying after 2 seconds...\n"
     ]
    },
    {
     "name": "stderr",
     "output_type": "stream",
     "text": [
      "Processing Instances:  11%|█▏        | 24151/213170 [4:54:20<189:11:32,  3.60s/it]"
     ]
    },
    {
     "name": "stdout",
     "output_type": "stream",
     "text": [
      "Max retries reached. Could not fetch data.\n"
     ]
    },
    {
     "name": "stderr",
     "output_type": "stream",
     "text": [
      "Processing Instances:  11%|█▏        | 24189/213170 [4:54:44<36:14:32,  1.45it/s] "
     ]
    },
    {
     "name": "stdout",
     "output_type": "stream",
     "text": [
      "Error: 'age'. Retrying after 2 seconds...\n",
      "Error: 'age'. Retrying after 2 seconds...\n",
      "Error: 'age'. Retrying after 2 seconds...\n"
     ]
    },
    {
     "name": "stderr",
     "output_type": "stream",
     "text": [
      "Processing Instances:  11%|█▏        | 24190/213170 [4:54:55<192:41:54,  3.67s/it]"
     ]
    },
    {
     "name": "stdout",
     "output_type": "stream",
     "text": [
      "Max retries reached. Could not fetch data.\n"
     ]
    },
    {
     "name": "stderr",
     "output_type": "stream",
     "text": [
      "Processing Instances:  11%|█▏        | 24279/213170 [4:55:53<39:44:21,  1.32it/s] "
     ]
    },
    {
     "name": "stdout",
     "output_type": "stream",
     "text": [
      "Error: 'age'. Retrying after 2 seconds...\n",
      "Error: 'age'. Retrying after 2 seconds...\n",
      "Error: 'age'. Retrying after 2 seconds...\n"
     ]
    },
    {
     "name": "stderr",
     "output_type": "stream",
     "text": [
      "Processing Instances:  11%|█▏        | 24280/213170 [4:56:03<186:50:55,  3.56s/it]"
     ]
    },
    {
     "name": "stdout",
     "output_type": "stream",
     "text": [
      "Max retries reached. Could not fetch data.\n"
     ]
    },
    {
     "name": "stderr",
     "output_type": "stream",
     "text": [
      "Processing Instances:  11%|█▏        | 24357/213170 [4:56:53<31:54:53,  1.64it/s] "
     ]
    },
    {
     "name": "stdout",
     "output_type": "stream",
     "text": [
      "Error: 'age'. Retrying after 2 seconds...\n",
      "Error: 'age'. Retrying after 2 seconds...\n",
      "Error: 'age'. Retrying after 2 seconds...\n"
     ]
    },
    {
     "name": "stderr",
     "output_type": "stream",
     "text": [
      "Processing Instances:  11%|█▏        | 24358/213170 [4:57:03<181:32:25,  3.46s/it]"
     ]
    },
    {
     "name": "stdout",
     "output_type": "stream",
     "text": [
      "Max retries reached. Could not fetch data.\n"
     ]
    },
    {
     "name": "stderr",
     "output_type": "stream",
     "text": [
      "Processing Instances:  11%|█▏        | 24457/213170 [4:58:02<30:20:54,  1.73it/s] "
     ]
    },
    {
     "name": "stdout",
     "output_type": "stream",
     "text": [
      "Error: 'age'. Retrying after 2 seconds...\n",
      "Error: 'age'. Retrying after 2 seconds...\n",
      "Error: 'age'. Retrying after 2 seconds...\n"
     ]
    },
    {
     "name": "stderr",
     "output_type": "stream",
     "text": [
      "Processing Instances:  11%|█▏        | 24458/213170 [4:58:13<186:25:37,  3.56s/it]"
     ]
    },
    {
     "name": "stdout",
     "output_type": "stream",
     "text": [
      "Max retries reached. Could not fetch data.\n"
     ]
    },
    {
     "name": "stderr",
     "output_type": "stream",
     "text": [
      "Processing Instances:  12%|█▏        | 24531/213170 [4:59:01<29:29:22,  1.78it/s] "
     ]
    },
    {
     "name": "stdout",
     "output_type": "stream",
     "text": [
      "Error: 'age'. Retrying after 2 seconds...\n",
      "Error: 'age'. Retrying after 2 seconds...\n",
      "Error: 'age'. Retrying after 2 seconds...\n"
     ]
    },
    {
     "name": "stderr",
     "output_type": "stream",
     "text": [
      "Processing Instances:  12%|█▏        | 24532/213170 [4:59:11<179:34:56,  3.43s/it]"
     ]
    },
    {
     "name": "stdout",
     "output_type": "stream",
     "text": [
      "Max retries reached. Could not fetch data.\n"
     ]
    },
    {
     "name": "stderr",
     "output_type": "stream",
     "text": [
      "Processing Instances:  12%|█▏        | 24813/213170 [5:02:16<178:43:13,  3.42s/it]"
     ]
    },
    {
     "name": "stdout",
     "output_type": "stream",
     "text": [
      "Max retries reached. Could not fetch data.\n"
     ]
    },
    {
     "name": "stderr",
     "output_type": "stream",
     "text": [
      "Processing Instances:  12%|█▏        | 24816/213170 [5:02:18<78:45:55,  1.51s/it] "
     ]
    },
    {
     "name": "stdout",
     "output_type": "stream",
     "text": [
      "Error: 'age'. Retrying after 2 seconds...\n",
      "Error: 'age'. Retrying after 2 seconds...\n",
      "Error: 'age'. Retrying after 2 seconds...\n"
     ]
    },
    {
     "name": "stderr",
     "output_type": "stream",
     "text": [
      "Processing Instances:  12%|█▏        | 24817/213170 [5:02:28<214:04:46,  4.09s/it]"
     ]
    },
    {
     "name": "stdout",
     "output_type": "stream",
     "text": [
      "Max retries reached. Could not fetch data.\n"
     ]
    },
    {
     "name": "stderr",
     "output_type": "stream",
     "text": [
      "Processing Instances:  12%|█▏        | 24833/213170 [5:02:38<29:13:06,  1.79it/s] "
     ]
    },
    {
     "name": "stdout",
     "output_type": "stream",
     "text": [
      "Error: 'age'. Retrying after 2 seconds...\n",
      "Error: 'age'. Retrying after 2 seconds...\n",
      "Error: 'age'. Retrying after 2 seconds...\n"
     ]
    },
    {
     "name": "stderr",
     "output_type": "stream",
     "text": [
      "Processing Instances:  12%|█▏        | 24834/213170 [5:02:48<179:09:14,  3.42s/it]"
     ]
    },
    {
     "name": "stdout",
     "output_type": "stream",
     "text": [
      "Max retries reached. Could not fetch data.\n"
     ]
    },
    {
     "name": "stderr",
     "output_type": "stream",
     "text": [
      "Processing Instances:  12%|█▏        | 25279/213170 [5:07:29<28:29:38,  1.83it/s] "
     ]
    },
    {
     "name": "stdout",
     "output_type": "stream",
     "text": [
      "Error: 'age'. Retrying after 2 seconds...\n",
      "Error: 'age'. Retrying after 2 seconds...\n",
      "Error: 'age'. Retrying after 2 seconds...\n"
     ]
    },
    {
     "name": "stderr",
     "output_type": "stream",
     "text": [
      "Processing Instances:  12%|█▏        | 25280/213170 [5:07:39<178:19:01,  3.42s/it]"
     ]
    },
    {
     "name": "stdout",
     "output_type": "stream",
     "text": [
      "Max retries reached. Could not fetch data.\n"
     ]
    },
    {
     "name": "stderr",
     "output_type": "stream",
     "text": [
      "Processing Instances:  12%|█▏        | 25358/213170 [5:08:28<32:48:42,  1.59it/s] "
     ]
    },
    {
     "name": "stdout",
     "output_type": "stream",
     "text": [
      "Error: 'age'. Retrying after 2 seconds...\n",
      "Error: 'age'. Retrying after 2 seconds...\n",
      "Error: 'age'. Retrying after 2 seconds...\n"
     ]
    },
    {
     "name": "stderr",
     "output_type": "stream",
     "text": [
      "Processing Instances:  12%|█▏        | 25359/213170 [5:08:38<181:16:39,  3.47s/it]"
     ]
    },
    {
     "name": "stdout",
     "output_type": "stream",
     "text": [
      "Max retries reached. Could not fetch data.\n"
     ]
    },
    {
     "name": "stderr",
     "output_type": "stream",
     "text": [
      "Processing Instances:  12%|█▏        | 25361/213170 [5:08:39<102:17:42,  1.96s/it]"
     ]
    },
    {
     "name": "stdout",
     "output_type": "stream",
     "text": [
      "Error: 'age'. Retrying after 2 seconds...\n",
      "Error: 'age'. Retrying after 2 seconds...\n",
      "Error: 'age'. Retrying after 2 seconds...\n"
     ]
    },
    {
     "name": "stderr",
     "output_type": "stream",
     "text": [
      "Processing Instances:  12%|█▏        | 25362/213170 [5:08:49<230:17:26,  4.41s/it]"
     ]
    },
    {
     "name": "stdout",
     "output_type": "stream",
     "text": [
      "Max retries reached. Could not fetch data.\n"
     ]
    },
    {
     "name": "stderr",
     "output_type": "stream",
     "text": [
      "Processing Instances:  12%|█▏        | 25386/213170 [5:09:07<35:16:37,  1.48it/s] "
     ]
    },
    {
     "name": "stdout",
     "output_type": "stream",
     "text": [
      "Error: 'age'. Retrying after 2 seconds...\n",
      "Error: 'age'. Retrying after 2 seconds...\n",
      "Error: 'age'. Retrying after 2 seconds...\n"
     ]
    },
    {
     "name": "stderr",
     "output_type": "stream",
     "text": [
      "Processing Instances:  12%|█▏        | 25387/213170 [5:09:17<189:10:34,  3.63s/it]"
     ]
    },
    {
     "name": "stdout",
     "output_type": "stream",
     "text": [
      "Max retries reached. Could not fetch data.\n"
     ]
    },
    {
     "name": "stderr",
     "output_type": "stream",
     "text": [
      "Processing Instances:  12%|█▏        | 25469/213170 [5:10:08<32:43:50,  1.59it/s] "
     ]
    },
    {
     "name": "stdout",
     "output_type": "stream",
     "text": [
      "Error: 'age'. Retrying after 2 seconds...\n",
      "Error: 'age'. Retrying after 2 seconds...\n",
      "Error: 'age'. Retrying after 2 seconds...\n"
     ]
    },
    {
     "name": "stderr",
     "output_type": "stream",
     "text": [
      "Processing Instances:  12%|█▏        | 25470/213170 [5:10:19<181:12:14,  3.48s/it]"
     ]
    },
    {
     "name": "stdout",
     "output_type": "stream",
     "text": [
      "Max retries reached. Could not fetch data.\n"
     ]
    },
    {
     "name": "stderr",
     "output_type": "stream",
     "text": [
      "Processing Instances:  12%|█▏        | 25538/213170 [5:11:04<32:26:44,  1.61it/s] "
     ]
    },
    {
     "name": "stdout",
     "output_type": "stream",
     "text": [
      "Error: 'age'. Retrying after 2 seconds...\n",
      "Error: 'age'. Retrying after 2 seconds...\n",
      "Error: 'age'. Retrying after 2 seconds...\n"
     ]
    },
    {
     "name": "stderr",
     "output_type": "stream",
     "text": [
      "Processing Instances:  12%|█▏        | 25539/213170 [5:11:15<181:03:52,  3.47s/it]"
     ]
    },
    {
     "name": "stdout",
     "output_type": "stream",
     "text": [
      "Max retries reached. Could not fetch data.\n"
     ]
    },
    {
     "name": "stderr",
     "output_type": "stream",
     "text": [
      "Processing Instances:  12%|█▏        | 25847/213170 [5:14:51<31:50:49,  1.63it/s] "
     ]
    },
    {
     "name": "stdout",
     "output_type": "stream",
     "text": [
      "Error: 'age'. Retrying after 2 seconds...\n",
      "Error: 'age'. Retrying after 2 seconds...\n",
      "Error: 'age'. Retrying after 2 seconds...\n"
     ]
    },
    {
     "name": "stderr",
     "output_type": "stream",
     "text": [
      "Processing Instances:  12%|█▏        | 25848/213170 [5:15:02<186:25:22,  3.58s/it]"
     ]
    },
    {
     "name": "stdout",
     "output_type": "stream",
     "text": [
      "Max retries reached. Could not fetch data.\n"
     ]
    },
    {
     "name": "stderr",
     "output_type": "stream",
     "text": [
      "Processing Instances:  12%|█▏        | 25871/213170 [5:15:16<33:17:31,  1.56it/s] "
     ]
    },
    {
     "name": "stdout",
     "output_type": "stream",
     "text": [
      "Error: 'age'. Retrying after 2 seconds...\n",
      "Error: 'age'. Retrying after 2 seconds...\n",
      "Error: 'age'. Retrying after 2 seconds...\n"
     ]
    },
    {
     "name": "stderr",
     "output_type": "stream",
     "text": [
      "Processing Instances:  12%|█▏        | 25872/213170 [5:15:27<187:13:29,  3.60s/it]"
     ]
    },
    {
     "name": "stdout",
     "output_type": "stream",
     "text": [
      "Max retries reached. Could not fetch data.\n"
     ]
    },
    {
     "name": "stderr",
     "output_type": "stream",
     "text": [
      "Processing Instances:  13%|█▎        | 28064/213170 [5:40:47<42:35:03,  1.21it/s] "
     ]
    },
    {
     "name": "stdout",
     "output_type": "stream",
     "text": [
      "Error: 'age'. Retrying after 2 seconds...\n",
      "Error: 'age'. Retrying after 2 seconds...\n",
      "Error: 'age'. Retrying after 2 seconds...\n"
     ]
    },
    {
     "name": "stderr",
     "output_type": "stream",
     "text": [
      "Processing Instances:  13%|█▎        | 28065/213170 [5:40:57<185:48:36,  3.61s/it]"
     ]
    },
    {
     "name": "stdout",
     "output_type": "stream",
     "text": [
      "Max retries reached. Could not fetch data.\n"
     ]
    },
    {
     "name": "stderr",
     "output_type": "stream",
     "text": [
      "Processing Instances:  13%|█▎        | 28099/213170 [5:41:18<29:56:04,  1.72it/s] "
     ]
    },
    {
     "name": "stdout",
     "output_type": "stream",
     "text": [
      "Error: 'age'. Retrying after 2 seconds...\n",
      "Error: 'age'. Retrying after 2 seconds...\n",
      "Error: 'age'. Retrying after 2 seconds...\n"
     ]
    },
    {
     "name": "stderr",
     "output_type": "stream",
     "text": [
      "Processing Instances:  13%|█▎        | 28100/213170 [5:41:28<176:54:53,  3.44s/it]"
     ]
    },
    {
     "name": "stdout",
     "output_type": "stream",
     "text": [
      "Max retries reached. Could not fetch data.\n"
     ]
    },
    {
     "name": "stderr",
     "output_type": "stream",
     "text": [
      "Processing Instances:  13%|█▎        | 28196/213170 [5:42:28<29:47:14,  1.72it/s] "
     ]
    },
    {
     "name": "stdout",
     "output_type": "stream",
     "text": [
      "Error: 'age'. Retrying after 2 seconds...\n",
      "Error: 'age'. Retrying after 2 seconds...\n",
      "Error: 'age'. Retrying after 2 seconds...\n"
     ]
    },
    {
     "name": "stderr",
     "output_type": "stream",
     "text": [
      "Processing Instances:  13%|█▎        | 28197/213170 [5:42:38<182:45:55,  3.56s/it]"
     ]
    },
    {
     "name": "stdout",
     "output_type": "stream",
     "text": [
      "Max retries reached. Could not fetch data.\n"
     ]
    },
    {
     "name": "stderr",
     "output_type": "stream",
     "text": [
      "Processing Instances:  13%|█▎        | 28282/213170 [5:43:31<39:26:02,  1.30it/s] "
     ]
    },
    {
     "name": "stdout",
     "output_type": "stream",
     "text": [
      "Error: 'age'. Retrying after 2 seconds...\n",
      "Error: 'age'. Retrying after 2 seconds...\n",
      "Error: 'age'. Retrying after 2 seconds...\n"
     ]
    },
    {
     "name": "stderr",
     "output_type": "stream",
     "text": [
      "Processing Instances:  13%|█▎        | 28283/213170 [5:43:41<183:38:39,  3.58s/it]"
     ]
    },
    {
     "name": "stdout",
     "output_type": "stream",
     "text": [
      "Max retries reached. Could not fetch data.\n"
     ]
    },
    {
     "name": "stderr",
     "output_type": "stream",
     "text": [
      "Processing Instances:  13%|█▎        | 28405/213170 [5:44:58<29:43:15,  1.73it/s] "
     ]
    },
    {
     "name": "stdout",
     "output_type": "stream",
     "text": [
      "Error: 'age'. Retrying after 2 seconds...\n",
      "Error: 'age'. Retrying after 2 seconds...\n",
      "Error: 'age'. Retrying after 2 seconds...\n"
     ]
    },
    {
     "name": "stderr",
     "output_type": "stream",
     "text": [
      "Processing Instances:  13%|█▎        | 28406/213170 [5:45:08<176:19:42,  3.44s/it]"
     ]
    },
    {
     "name": "stdout",
     "output_type": "stream",
     "text": [
      "Max retries reached. Could not fetch data.\n"
     ]
    },
    {
     "name": "stderr",
     "output_type": "stream",
     "text": [
      "Processing Instances:  14%|█▎        | 28830/213170 [5:49:24<29:11:34,  1.75it/s] "
     ]
    },
    {
     "name": "stdout",
     "output_type": "stream",
     "text": [
      "Error: 'age'. Retrying after 2 seconds...\n",
      "Error: 'age'. Retrying after 2 seconds...\n",
      "Error: 'age'. Retrying after 2 seconds...\n"
     ]
    },
    {
     "name": "stderr",
     "output_type": "stream",
     "text": [
      "Processing Instances:  14%|█▎        | 28831/213170 [5:49:35<182:05:57,  3.56s/it]"
     ]
    },
    {
     "name": "stdout",
     "output_type": "stream",
     "text": [
      "Max retries reached. Could not fetch data.\n"
     ]
    },
    {
     "name": "stderr",
     "output_type": "stream",
     "text": [
      "Processing Instances:  14%|█▎        | 28858/213170 [5:49:51<29:17:48,  1.75it/s] "
     ]
    },
    {
     "name": "stdout",
     "output_type": "stream",
     "text": [
      "Error: 'age'. Retrying after 2 seconds...\n",
      "Error: 'age'. Retrying after 2 seconds...\n",
      "Error: 'age'. Retrying after 2 seconds...\n"
     ]
    },
    {
     "name": "stderr",
     "output_type": "stream",
     "text": [
      "Processing Instances:  14%|█▎        | 28859/213170 [5:50:01<175:55:12,  3.44s/it]"
     ]
    },
    {
     "name": "stdout",
     "output_type": "stream",
     "text": [
      "Max retries reached. Could not fetch data.\n",
      "Error: 'age'. Retrying after 2 seconds...\n",
      "Error: 'age'. Retrying after 2 seconds...\n",
      "Error: 'age'. Retrying after 2 seconds...\n"
     ]
    },
    {
     "name": "stderr",
     "output_type": "stream",
     "text": [
      "Processing Instances:  14%|█▎        | 28860/213170 [5:50:11<278:30:01,  5.44s/it]"
     ]
    },
    {
     "name": "stdout",
     "output_type": "stream",
     "text": [
      "Max retries reached. Could not fetch data.\n"
     ]
    },
    {
     "name": "stderr",
     "output_type": "stream",
     "text": [
      "Processing Instances:  14%|█▎        | 28968/213170 [5:51:22<39:53:24,  1.28it/s] "
     ]
    },
    {
     "name": "stdout",
     "output_type": "stream",
     "text": [
      "Error: 'age'. Retrying after 2 seconds...\n",
      "Error: 'age'. Retrying after 2 seconds...\n",
      "Error: 'age'. Retrying after 2 seconds...\n"
     ]
    },
    {
     "name": "stderr",
     "output_type": "stream",
     "text": [
      "Processing Instances:  14%|█▎        | 28969/213170 [5:51:32<183:12:28,  3.58s/it]"
     ]
    },
    {
     "name": "stdout",
     "output_type": "stream",
     "text": [
      "Max retries reached. Could not fetch data.\n"
     ]
    },
    {
     "name": "stderr",
     "output_type": "stream",
     "text": [
      "Processing Instances:  14%|█▎        | 29065/213170 [5:52:34<37:15:27,  1.37it/s] "
     ]
    },
    {
     "name": "stdout",
     "output_type": "stream",
     "text": [
      "Error: 'age'. Retrying after 2 seconds...\n",
      "Error: 'age'. Retrying after 2 seconds...\n",
      "Error: 'age'. Retrying after 2 seconds...\n"
     ]
    },
    {
     "name": "stderr",
     "output_type": "stream",
     "text": [
      "Processing Instances:  14%|█▎        | 29066/213170 [5:52:44<181:11:21,  3.54s/it]"
     ]
    },
    {
     "name": "stdout",
     "output_type": "stream",
     "text": [
      "Max retries reached. Could not fetch data.\n"
     ]
    },
    {
     "name": "stderr",
     "output_type": "stream",
     "text": [
      "Processing Instances:  14%|█▎        | 29138/213170 [5:53:28<30:25:34,  1.68it/s] "
     ]
    },
    {
     "name": "stdout",
     "output_type": "stream",
     "text": [
      "Error: 'age'. Retrying after 2 seconds...\n",
      "Error: 'age'. Retrying after 2 seconds...\n",
      "Error: 'age'. Retrying after 2 seconds...\n"
     ]
    },
    {
     "name": "stderr",
     "output_type": "stream",
     "text": [
      "Processing Instances:  14%|█▎        | 29139/213170 [5:53:38<176:20:11,  3.45s/it]"
     ]
    },
    {
     "name": "stdout",
     "output_type": "stream",
     "text": [
      "Max retries reached. Could not fetch data.\n"
     ]
    },
    {
     "name": "stderr",
     "output_type": "stream",
     "text": [
      "Processing Instances:  14%|█▎        | 29160/213170 [5:53:51<36:36:59,  1.40it/s] "
     ]
    },
    {
     "name": "stdout",
     "output_type": "stream",
     "text": [
      "Error: 'age'. Retrying after 2 seconds...\n",
      "Error: 'age'. Retrying after 2 seconds...\n",
      "Error: 'age'. Retrying after 2 seconds...\n"
     ]
    },
    {
     "name": "stderr",
     "output_type": "stream",
     "text": [
      "Processing Instances:  14%|█▎        | 29161/213170 [5:54:01<180:54:27,  3.54s/it]"
     ]
    },
    {
     "name": "stdout",
     "output_type": "stream",
     "text": [
      "Max retries reached. Could not fetch data.\n"
     ]
    },
    {
     "name": "stderr",
     "output_type": "stream",
     "text": [
      "Processing Instances:  14%|█▍        | 29745/213170 [5:59:57<30:43:52,  1.66it/s] "
     ]
    },
    {
     "name": "stdout",
     "output_type": "stream",
     "text": [
      "Error: 'age'. Retrying after 2 seconds...\n",
      "Error: 'age'. Retrying after 2 seconds...\n",
      "Error: 'age'. Retrying after 2 seconds...\n"
     ]
    },
    {
     "name": "stderr",
     "output_type": "stream",
     "text": [
      "Processing Instances:  14%|█▍        | 29746/213170 [6:00:07<176:27:24,  3.46s/it]"
     ]
    },
    {
     "name": "stdout",
     "output_type": "stream",
     "text": [
      "Max retries reached. Could not fetch data.\n"
     ]
    },
    {
     "name": "stderr",
     "output_type": "stream",
     "text": [
      "Processing Instances:  14%|█▍        | 29780/213170 [6:00:28<35:19:03,  1.44it/s] "
     ]
    },
    {
     "name": "stdout",
     "output_type": "stream",
     "text": [
      "Error: 'age'. Retrying after 2 seconds...\n",
      "Error: 'age'. Retrying after 2 seconds...\n",
      "Error: 'age'. Retrying after 2 seconds...\n"
     ]
    },
    {
     "name": "stderr",
     "output_type": "stream",
     "text": [
      "Processing Instances:  14%|█▍        | 29781/213170 [6:00:39<179:14:53,  3.52s/it]"
     ]
    },
    {
     "name": "stdout",
     "output_type": "stream",
     "text": [
      "Max retries reached. Could not fetch data.\n"
     ]
    },
    {
     "name": "stderr",
     "output_type": "stream",
     "text": [
      "Processing Instances:  14%|█▍        | 29870/213170 [6:01:35<27:46:35,  1.83it/s] "
     ]
    },
    {
     "name": "stdout",
     "output_type": "stream",
     "text": [
      "Error: 'age'. Retrying after 2 seconds...\n",
      "Error: 'age'. Retrying after 2 seconds...\n",
      "Error: 'age'. Retrying after 2 seconds...\n"
     ]
    },
    {
     "name": "stderr",
     "output_type": "stream",
     "text": [
      "Processing Instances:  14%|█▍        | 29871/213170 [6:01:45<173:48:57,  3.41s/it]"
     ]
    },
    {
     "name": "stdout",
     "output_type": "stream",
     "text": [
      "Max retries reached. Could not fetch data.\n"
     ]
    },
    {
     "name": "stderr",
     "output_type": "stream",
     "text": [
      "Processing Instances:  14%|█▍        | 29877/213170 [6:01:49<47:42:27,  1.07it/s] "
     ]
    },
    {
     "name": "stdout",
     "output_type": "stream",
     "text": [
      "Error: 'age'. Retrying after 2 seconds...\n",
      "Error: 'age'. Retrying after 2 seconds...\n",
      "Error: 'age'. Retrying after 2 seconds...\n"
     ]
    },
    {
     "name": "stderr",
     "output_type": "stream",
     "text": [
      "Processing Instances:  14%|█▍        | 29878/213170 [6:01:59<187:53:17,  3.69s/it]"
     ]
    },
    {
     "name": "stdout",
     "output_type": "stream",
     "text": [
      "Max retries reached. Could not fetch data.\n"
     ]
    },
    {
     "name": "stderr",
     "output_type": "stream",
     "text": [
      "Processing Instances:  14%|█▍        | 29879/213170 [6:02:00<145:12:00,  2.85s/it]"
     ]
    },
    {
     "name": "stdout",
     "output_type": "stream",
     "text": [
      "Error: 'age'. Retrying after 2 seconds...\n",
      "Error: 'age'. Retrying after 2 seconds...\n",
      "Error: 'age'. Retrying after 2 seconds...\n"
     ]
    },
    {
     "name": "stderr",
     "output_type": "stream",
     "text": [
      "Processing Instances:  14%|█▍        | 29880/213170 [6:02:10<256:03:54,  5.03s/it]"
     ]
    },
    {
     "name": "stdout",
     "output_type": "stream",
     "text": [
      "Max retries reached. Could not fetch data.\n"
     ]
    },
    {
     "name": "stderr",
     "output_type": "stream",
     "text": [
      "Processing Instances:  14%|█▍        | 29966/213170 [6:03:04<31:23:19,  1.62it/s] "
     ]
    },
    {
     "name": "stdout",
     "output_type": "stream",
     "text": [
      "Error: 'age'. Retrying after 2 seconds...\n",
      "Error: 'age'. Retrying after 2 seconds...\n",
      "Error: 'age'. Retrying after 2 seconds...\n"
     ]
    },
    {
     "name": "stderr",
     "output_type": "stream",
     "text": [
      "Processing Instances:  14%|█▍        | 29967/213170 [6:03:15<182:32:10,  3.59s/it]"
     ]
    },
    {
     "name": "stdout",
     "output_type": "stream",
     "text": [
      "Max retries reached. Could not fetch data.\n"
     ]
    },
    {
     "name": "stderr",
     "output_type": "stream",
     "text": [
      "Processing Instances:  14%|█▍        | 30133/213170 [6:04:59<27:21:38,  1.86it/s] "
     ]
    },
    {
     "name": "stdout",
     "output_type": "stream",
     "text": [
      "Error: 'age'. Retrying after 2 seconds...\n",
      "Error: 'age'. Retrying after 2 seconds...\n",
      "Error: 'age'. Retrying after 2 seconds...\n"
     ]
    },
    {
     "name": "stderr",
     "output_type": "stream",
     "text": [
      "Processing Instances:  14%|█▍        | 30134/213170 [6:05:09<173:24:00,  3.41s/it]"
     ]
    },
    {
     "name": "stdout",
     "output_type": "stream",
     "text": [
      "Max retries reached. Could not fetch data.\n"
     ]
    },
    {
     "name": "stderr",
     "output_type": "stream",
     "text": [
      "Processing Instances:  14%|█▍        | 30348/213170 [6:07:26<30:30:10,  1.66it/s] "
     ]
    },
    {
     "name": "stdout",
     "output_type": "stream",
     "text": [
      "Error: 'age'. Retrying after 2 seconds...\n",
      "Error: 'age'. Retrying after 2 seconds...\n",
      "Error: 'age'. Retrying after 2 seconds...\n"
     ]
    },
    {
     "name": "stderr",
     "output_type": "stream",
     "text": [
      "Processing Instances:  14%|█▍        | 30349/213170 [6:07:36<175:48:12,  3.46s/it]"
     ]
    },
    {
     "name": "stdout",
     "output_type": "stream",
     "text": [
      "Max retries reached. Could not fetch data.\n"
     ]
    },
    {
     "name": "stderr",
     "output_type": "stream",
     "text": [
      "Processing Instances:  15%|█▍        | 31356/213170 [6:18:10<29:55:03,  1.69it/s] "
     ]
    },
    {
     "name": "stdout",
     "output_type": "stream",
     "text": [
      "Error: 'age'. Retrying after 2 seconds...\n",
      "Error: 'age'. Retrying after 2 seconds...\n",
      "Error: 'age'. Retrying after 2 seconds...\n"
     ]
    },
    {
     "name": "stderr",
     "output_type": "stream",
     "text": [
      "Processing Instances:  15%|█▍        | 31357/213170 [6:18:20<174:07:23,  3.45s/it]"
     ]
    },
    {
     "name": "stdout",
     "output_type": "stream",
     "text": [
      "Max retries reached. Could not fetch data.\n"
     ]
    },
    {
     "name": "stderr",
     "output_type": "stream",
     "text": [
      "Processing Instances:  15%|█▍        | 31716/213170 [6:21:57<30:53:30,  1.63it/s] "
     ]
    },
    {
     "name": "stdout",
     "output_type": "stream",
     "text": [
      "Error: 'age'. Retrying after 2 seconds...\n",
      "Error: 'age'. Retrying after 2 seconds...\n",
      "Error: 'age'. Retrying after 2 seconds...\n"
     ]
    },
    {
     "name": "stderr",
     "output_type": "stream",
     "text": [
      "Processing Instances:  15%|█▍        | 31717/213170 [6:22:07<180:18:24,  3.58s/it]"
     ]
    },
    {
     "name": "stdout",
     "output_type": "stream",
     "text": [
      "Max retries reached. Could not fetch data.\n"
     ]
    },
    {
     "name": "stderr",
     "output_type": "stream",
     "text": [
      "Processing Instances:  15%|█▍        | 31909/213170 [6:24:08<26:57:16,  1.87it/s] "
     ]
    },
    {
     "name": "stdout",
     "output_type": "stream",
     "text": [
      "Error: 'age'. Retrying after 2 seconds...\n",
      "Error: 'age'. Retrying after 2 seconds...\n",
      "Error: 'age'. Retrying after 2 seconds...\n"
     ]
    },
    {
     "name": "stderr",
     "output_type": "stream",
     "text": [
      "Processing Instances:  15%|█▍        | 31910/213170 [6:24:18<174:28:47,  3.47s/it]"
     ]
    },
    {
     "name": "stdout",
     "output_type": "stream",
     "text": [
      "Max retries reached. Could not fetch data.\n"
     ]
    },
    {
     "name": "stderr",
     "output_type": "stream",
     "text": [
      "Processing Instances:  15%|█▍        | 31966/213170 [6:24:53<31:36:17,  1.59it/s] "
     ]
    },
    {
     "name": "stdout",
     "output_type": "stream",
     "text": [
      "Error: 'age'. Retrying after 2 seconds...\n",
      "Error: 'age'. Retrying after 2 seconds...\n",
      "Error: 'age'. Retrying after 2 seconds...\n"
     ]
    },
    {
     "name": "stderr",
     "output_type": "stream",
     "text": [
      "Processing Instances:  15%|█▍        | 31967/213170 [6:25:03<174:39:46,  3.47s/it]"
     ]
    },
    {
     "name": "stdout",
     "output_type": "stream",
     "text": [
      "Max retries reached. Could not fetch data.\n"
     ]
    },
    {
     "name": "stderr",
     "output_type": "stream",
     "text": [
      "Processing Instances:  15%|█▌        | 32169/213170 [6:27:12<31:05:55,  1.62it/s] "
     ]
    },
    {
     "name": "stdout",
     "output_type": "stream",
     "text": [
      "Error: 'age'. Retrying after 2 seconds...\n",
      "Error: 'age'. Retrying after 2 seconds...\n",
      "Error: 'age'. Retrying after 2 seconds...\n"
     ]
    },
    {
     "name": "stderr",
     "output_type": "stream",
     "text": [
      "Processing Instances:  15%|█▌        | 32170/213170 [6:27:22<174:27:39,  3.47s/it]"
     ]
    },
    {
     "name": "stdout",
     "output_type": "stream",
     "text": [
      "Max retries reached. Could not fetch data.\n"
     ]
    },
    {
     "name": "stderr",
     "output_type": "stream",
     "text": [
      "Processing Instances:  15%|█▌        | 32230/213170 [6:27:59<25:42:43,  1.95it/s] "
     ]
    },
    {
     "name": "stdout",
     "output_type": "stream",
     "text": [
      "Error: 'age'. Retrying after 2 seconds...\n",
      "Error: 'age'. Retrying after 2 seconds...\n",
      "Error: 'age'. Retrying after 2 seconds...\n"
     ]
    },
    {
     "name": "stderr",
     "output_type": "stream",
     "text": [
      "Processing Instances:  15%|█▌        | 32231/213170 [6:28:09<176:23:57,  3.51s/it]"
     ]
    },
    {
     "name": "stdout",
     "output_type": "stream",
     "text": [
      "Max retries reached. Could not fetch data.\n"
     ]
    },
    {
     "name": "stderr",
     "output_type": "stream",
     "text": [
      "Processing Instances:  15%|█▌        | 32285/213170 [6:28:44<32:29:53,  1.55it/s] "
     ]
    },
    {
     "name": "stdout",
     "output_type": "stream",
     "text": [
      "Error: 'age'. Retrying after 2 seconds...\n",
      "Error: 'age'. Retrying after 2 seconds...\n",
      "Error: 'age'. Retrying after 2 seconds...\n"
     ]
    },
    {
     "name": "stderr",
     "output_type": "stream",
     "text": [
      "Processing Instances:  15%|█▌        | 32286/213170 [6:28:55<184:37:12,  3.67s/it]"
     ]
    },
    {
     "name": "stdout",
     "output_type": "stream",
     "text": [
      "Max retries reached. Could not fetch data.\n"
     ]
    },
    {
     "name": "stderr",
     "output_type": "stream",
     "text": [
      "Processing Instances:  15%|█▌        | 32317/213170 [6:29:16<34:27:06,  1.46it/s] "
     ]
    },
    {
     "name": "stdout",
     "output_type": "stream",
     "text": [
      "Error: 'age'. Retrying after 2 seconds...\n",
      "Error: 'age'. Retrying after 2 seconds...\n",
      "Error: 'age'. Retrying after 2 seconds...\n"
     ]
    },
    {
     "name": "stderr",
     "output_type": "stream",
     "text": [
      "Processing Instances:  15%|█▌        | 32318/213170 [6:29:27<182:32:20,  3.63s/it]"
     ]
    },
    {
     "name": "stdout",
     "output_type": "stream",
     "text": [
      "Max retries reached. Could not fetch data.\n"
     ]
    },
    {
     "name": "stderr",
     "output_type": "stream",
     "text": [
      "Processing Instances:  15%|█▌        | 32695/213170 [6:33:19<26:54:37,  1.86it/s] "
     ]
    },
    {
     "name": "stdout",
     "output_type": "stream",
     "text": [
      "Error: 'age'. Retrying after 2 seconds...\n",
      "Error: 'age'. Retrying after 2 seconds...\n",
      "Error: 'age'. Retrying after 2 seconds...\n"
     ]
    },
    {
     "name": "stderr",
     "output_type": "stream",
     "text": [
      "Processing Instances:  15%|█▌        | 32696/213170 [6:33:29<170:57:42,  3.41s/it]"
     ]
    },
    {
     "name": "stdout",
     "output_type": "stream",
     "text": [
      "Max retries reached. Could not fetch data.\n"
     ]
    },
    {
     "name": "stderr",
     "output_type": "stream",
     "text": [
      "Processing Instances:  15%|█▌        | 32739/213170 [6:33:56<27:41:31,  1.81it/s] "
     ]
    },
    {
     "name": "stdout",
     "output_type": "stream",
     "text": [
      "Error: 'age'. Retrying after 2 seconds...\n",
      "Error: 'age'. Retrying after 2 seconds...\n",
      "Error: 'age'. Retrying after 2 seconds...\n"
     ]
    },
    {
     "name": "stderr",
     "output_type": "stream",
     "text": [
      "Processing Instances:  15%|█▌        | 32740/213170 [6:34:06<171:20:18,  3.42s/it]"
     ]
    },
    {
     "name": "stdout",
     "output_type": "stream",
     "text": [
      "Max retries reached. Could not fetch data.\n"
     ]
    },
    {
     "name": "stderr",
     "output_type": "stream",
     "text": [
      "Processing Instances:  15%|█▌        | 32856/213170 [6:35:20<31:42:52,  1.58it/s] "
     ]
    },
    {
     "name": "stdout",
     "output_type": "stream",
     "text": [
      "Error: 'age'. Retrying after 2 seconds...\n",
      "Error: 'age'. Retrying after 2 seconds...\n",
      "Error: 'age'. Retrying after 2 seconds...\n"
     ]
    },
    {
     "name": "stderr",
     "output_type": "stream",
     "text": [
      "Processing Instances:  15%|█▌        | 32857/213170 [6:35:31<179:59:49,  3.59s/it]"
     ]
    },
    {
     "name": "stdout",
     "output_type": "stream",
     "text": [
      "Max retries reached. Could not fetch data.\n"
     ]
    },
    {
     "name": "stderr",
     "output_type": "stream",
     "text": [
      "Processing Instances:  15%|█▌        | 32864/213170 [6:35:35<48:54:07,  1.02it/s] "
     ]
    },
    {
     "name": "stdout",
     "output_type": "stream",
     "text": [
      "Error: 'age'. Retrying after 2 seconds...\n",
      "Error: 'age'. Retrying after 2 seconds...\n",
      "Error: 'age'. Retrying after 2 seconds...\n"
     ]
    },
    {
     "name": "stderr",
     "output_type": "stream",
     "text": [
      "Processing Instances:  15%|█▌        | 32865/213170 [6:35:46<192:08:00,  3.84s/it]"
     ]
    },
    {
     "name": "stdout",
     "output_type": "stream",
     "text": [
      "Max retries reached. Could not fetch data.\n"
     ]
    },
    {
     "name": "stderr",
     "output_type": "stream",
     "text": [
      "Processing Instances:  15%|█▌        | 32897/213170 [6:36:07<28:34:15,  1.75it/s] "
     ]
    },
    {
     "name": "stdout",
     "output_type": "stream",
     "text": [
      "Error: 'age'. Retrying after 2 seconds...\n",
      "Error: 'age'. Retrying after 2 seconds...\n",
      "Error: 'age'. Retrying after 2 seconds...\n"
     ]
    },
    {
     "name": "stderr",
     "output_type": "stream",
     "text": [
      "Processing Instances:  15%|█▌        | 32898/213170 [6:36:17<174:12:53,  3.48s/it]"
     ]
    },
    {
     "name": "stdout",
     "output_type": "stream",
     "text": [
      "Max retries reached. Could not fetch data.\n"
     ]
    },
    {
     "name": "stderr",
     "output_type": "stream",
     "text": [
      "Processing Instances:  15%|█▌        | 32899/213170 [6:36:18<129:25:34,  2.58s/it]"
     ]
    },
    {
     "name": "stdout",
     "output_type": "stream",
     "text": [
      "Error: 'age'. Retrying after 2 seconds...\n",
      "Error: 'age'. Retrying after 2 seconds...\n",
      "Error: 'age'. Retrying after 2 seconds...\n"
     ]
    },
    {
     "name": "stderr",
     "output_type": "stream",
     "text": [
      "Processing Instances:  15%|█▌        | 32900/213170 [6:36:28<242:25:00,  4.84s/it]"
     ]
    },
    {
     "name": "stdout",
     "output_type": "stream",
     "text": [
      "Max retries reached. Could not fetch data.\n"
     ]
    },
    {
     "name": "stderr",
     "output_type": "stream",
     "text": [
      "Processing Instances:  15%|█▌        | 32913/213170 [6:36:37<36:14:59,  1.38it/s] "
     ]
    },
    {
     "name": "stdout",
     "output_type": "stream",
     "text": [
      "Error: 'age'. Retrying after 2 seconds...\n",
      "Error: 'age'. Retrying after 2 seconds...\n",
      "Error: 'age'. Retrying after 2 seconds...\n"
     ]
    },
    {
     "name": "stderr",
     "output_type": "stream",
     "text": [
      "Processing Instances:  15%|█▌        | 32914/213170 [6:36:47<177:16:57,  3.54s/it]"
     ]
    },
    {
     "name": "stdout",
     "output_type": "stream",
     "text": [
      "Max retries reached. Could not fetch data.\n"
     ]
    },
    {
     "name": "stderr",
     "output_type": "stream",
     "text": [
      "Processing Instances:  15%|█▌        | 33037/213170 [6:38:08<36:52:26,  1.36it/s] "
     ]
    },
    {
     "name": "stdout",
     "output_type": "stream",
     "text": [
      "Error: 'age'. Retrying after 2 seconds...\n",
      "Error: 'age'. Retrying after 2 seconds...\n",
      "Error: 'age'. Retrying after 2 seconds...\n"
     ]
    },
    {
     "name": "stderr",
     "output_type": "stream",
     "text": [
      "Processing Instances:  15%|█▌        | 33038/213170 [6:38:18<177:46:55,  3.55s/it]"
     ]
    },
    {
     "name": "stdout",
     "output_type": "stream",
     "text": [
      "Max retries reached. Could not fetch data.\n"
     ]
    },
    {
     "name": "stderr",
     "output_type": "stream",
     "text": [
      "Processing Instances:  16%|█▌        | 33151/213170 [6:39:28<26:16:14,  1.90it/s] "
     ]
    },
    {
     "name": "stdout",
     "output_type": "stream",
     "text": [
      "Error: 'age'. Retrying after 2 seconds...\n",
      "Error: 'age'. Retrying after 2 seconds...\n",
      "Error: 'age'. Retrying after 2 seconds...\n"
     ]
    },
    {
     "name": "stderr",
     "output_type": "stream",
     "text": [
      "Processing Instances:  16%|█▌        | 33152/213170 [6:39:38<170:12:50,  3.40s/it]"
     ]
    },
    {
     "name": "stdout",
     "output_type": "stream",
     "text": [
      "Max retries reached. Could not fetch data.\n"
     ]
    },
    {
     "name": "stderr",
     "output_type": "stream",
     "text": [
      "Processing Instances:  16%|█▌        | 33205/213170 [6:40:16<28:05:49,  1.78it/s] "
     ]
    },
    {
     "name": "stdout",
     "output_type": "stream",
     "text": [
      "Error: 'age'. Retrying after 2 seconds...\n",
      "Error: 'age'. Retrying after 2 seconds...\n",
      "Error: 'age'. Retrying after 2 seconds...\n"
     ]
    },
    {
     "name": "stderr",
     "output_type": "stream",
     "text": [
      "Processing Instances:  16%|█▌        | 33206/213170 [6:40:26<177:30:13,  3.55s/it]"
     ]
    },
    {
     "name": "stdout",
     "output_type": "stream",
     "text": [
      "Max retries reached. Could not fetch data.\n"
     ]
    },
    {
     "name": "stderr",
     "output_type": "stream",
     "text": [
      "Processing Instances:  16%|█▌        | 33283/213170 [6:41:17<28:00:42,  1.78it/s] "
     ]
    },
    {
     "name": "stdout",
     "output_type": "stream",
     "text": [
      "Error: 'age'. Retrying after 2 seconds...\n",
      "Error: 'age'. Retrying after 2 seconds...\n",
      "Error: 'age'. Retrying after 2 seconds...\n"
     ]
    },
    {
     "name": "stderr",
     "output_type": "stream",
     "text": [
      "Processing Instances:  16%|█▌        | 33284/213170 [6:41:28<176:53:31,  3.54s/it]"
     ]
    },
    {
     "name": "stdout",
     "output_type": "stream",
     "text": [
      "Max retries reached. Could not fetch data.\n"
     ]
    },
    {
     "name": "stderr",
     "output_type": "stream",
     "text": [
      "Processing Instances:  16%|█▌        | 33848/213170 [6:47:15<26:20:35,  1.89it/s] "
     ]
    },
    {
     "name": "stdout",
     "output_type": "stream",
     "text": [
      "Error: 'age'. Retrying after 2 seconds...\n",
      "Error: 'age'. Retrying after 2 seconds...\n",
      "Error: 'age'. Retrying after 2 seconds...\n"
     ]
    },
    {
     "name": "stderr",
     "output_type": "stream",
     "text": [
      "Processing Instances:  16%|█▌        | 33849/213170 [6:47:26<169:41:37,  3.41s/it]"
     ]
    },
    {
     "name": "stdout",
     "output_type": "stream",
     "text": [
      "Max retries reached. Could not fetch data.\n"
     ]
    },
    {
     "name": "stderr",
     "output_type": "stream",
     "text": [
      "Processing Instances:  16%|█▌        | 34052/213170 [6:49:29<31:30:24,  1.58it/s] "
     ]
    },
    {
     "name": "stdout",
     "output_type": "stream",
     "text": [
      "Error: 'age'. Retrying after 2 seconds...\n",
      "Error: 'age'. Retrying after 2 seconds...\n",
      "Error: 'age'. Retrying after 2 seconds...\n"
     ]
    },
    {
     "name": "stderr",
     "output_type": "stream",
     "text": [
      "Processing Instances:  16%|█▌        | 34053/213170 [6:49:40<172:57:19,  3.48s/it]"
     ]
    },
    {
     "name": "stdout",
     "output_type": "stream",
     "text": [
      "Max retries reached. Could not fetch data.\n"
     ]
    },
    {
     "name": "stderr",
     "output_type": "stream",
     "text": [
      "Processing Instances:  16%|█▌        | 34100/213170 [6:50:07<33:27:52,  1.49it/s] "
     ]
    },
    {
     "name": "stdout",
     "output_type": "stream",
     "text": [
      "Error: 'age'. Retrying after 2 seconds...\n",
      "Error: 'age'. Retrying after 2 seconds...\n",
      "Error: 'age'. Retrying after 2 seconds...\n"
     ]
    },
    {
     "name": "stderr",
     "output_type": "stream",
     "text": [
      "Processing Instances:  16%|█▌        | 34101/213170 [6:50:17<180:10:41,  3.62s/it]"
     ]
    },
    {
     "name": "stdout",
     "output_type": "stream",
     "text": [
      "Max retries reached. Could not fetch data.\n"
     ]
    },
    {
     "name": "stderr",
     "output_type": "stream",
     "text": [
      "Processing Instances:  16%|█▌        | 34129/213170 [6:50:35<27:39:47,  1.80it/s] "
     ]
    },
    {
     "name": "stdout",
     "output_type": "stream",
     "text": [
      "Error: 'age'. Retrying after 2 seconds...\n",
      "Error: 'age'. Retrying after 2 seconds...\n",
      "Error: 'age'. Retrying after 2 seconds...\n"
     ]
    },
    {
     "name": "stderr",
     "output_type": "stream",
     "text": [
      "Processing Instances:  16%|█▌        | 34130/213170 [6:50:46<175:56:14,  3.54s/it]"
     ]
    },
    {
     "name": "stdout",
     "output_type": "stream",
     "text": [
      "Max retries reached. Could not fetch data.\n"
     ]
    },
    {
     "name": "stderr",
     "output_type": "stream",
     "text": [
      "Processing Instances:  16%|█▋        | 34881/213170 [6:58:25<26:57:51,  1.84it/s] "
     ]
    },
    {
     "name": "stdout",
     "output_type": "stream",
     "text": [
      "Error: 'age'. Retrying after 2 seconds...\n",
      "Error: 'age'. Retrying after 2 seconds...\n",
      "Error: 'age'. Retrying after 2 seconds...\n"
     ]
    },
    {
     "name": "stderr",
     "output_type": "stream",
     "text": [
      "Processing Instances:  16%|█▋        | 34882/213170 [6:58:35<169:07:40,  3.42s/it]"
     ]
    },
    {
     "name": "stdout",
     "output_type": "stream",
     "text": [
      "Max retries reached. Could not fetch data.\n"
     ]
    },
    {
     "name": "stderr",
     "output_type": "stream",
     "text": [
      "Processing Instances:  16%|█▋        | 35001/213170 [6:59:49<33:51:49,  1.46it/s] "
     ]
    },
    {
     "name": "stdout",
     "output_type": "stream",
     "text": [
      "Error: 'age'. Retrying after 2 seconds...\n",
      "Error: 'age'. Retrying after 2 seconds...\n",
      "Error: 'age'. Retrying after 2 seconds...\n"
     ]
    },
    {
     "name": "stderr",
     "output_type": "stream",
     "text": [
      "Processing Instances:  16%|█▋        | 35002/213170 [7:00:00<173:59:22,  3.52s/it]"
     ]
    },
    {
     "name": "stdout",
     "output_type": "stream",
     "text": [
      "Max retries reached. Could not fetch data.\n"
     ]
    },
    {
     "name": "stderr",
     "output_type": "stream",
     "text": [
      "Processing Instances:  17%|█▋        | 35317/213170 [7:03:13<40:01:31,  1.23it/s] "
     ]
    },
    {
     "name": "stdout",
     "output_type": "stream",
     "text": [
      "Error: 'age'. Retrying after 2 seconds...\n",
      "Error: 'age'. Retrying after 2 seconds...\n",
      "Error: 'age'. Retrying after 2 seconds...\n"
     ]
    },
    {
     "name": "stderr",
     "output_type": "stream",
     "text": [
      "Processing Instances:  17%|█▋        | 35318/213170 [7:03:23<177:59:39,  3.60s/it]"
     ]
    },
    {
     "name": "stdout",
     "output_type": "stream",
     "text": [
      "Max retries reached. Could not fetch data.\n"
     ]
    },
    {
     "name": "stderr",
     "output_type": "stream",
     "text": [
      "Processing Instances:  17%|█▋        | 35781/213170 [7:08:02<27:48:45,  1.77it/s] "
     ]
    },
    {
     "name": "stdout",
     "output_type": "stream",
     "text": [
      "Error: 'age'. Retrying after 2 seconds...\n",
      "Error: 'age'. Retrying after 2 seconds...\n",
      "Error: 'age'. Retrying after 2 seconds...\n"
     ]
    },
    {
     "name": "stderr",
     "output_type": "stream",
     "text": [
      "Processing Instances:  17%|█▋        | 35782/213170 [7:08:13<168:59:22,  3.43s/it]"
     ]
    },
    {
     "name": "stdout",
     "output_type": "stream",
     "text": [
      "Max retries reached. Could not fetch data.\n"
     ]
    },
    {
     "name": "stderr",
     "output_type": "stream",
     "text": [
      "Processing Instances:  17%|█▋        | 35824/213170 [7:08:39<34:01:42,  1.45it/s] "
     ]
    },
    {
     "name": "stdout",
     "output_type": "stream",
     "text": [
      "Error: 'age'. Retrying after 2 seconds...\n",
      "Error: 'age'. Retrying after 2 seconds...\n",
      "Error: 'age'. Retrying after 2 seconds...\n"
     ]
    },
    {
     "name": "stderr",
     "output_type": "stream",
     "text": [
      "Processing Instances:  17%|█▋        | 35825/213170 [7:08:50<179:02:17,  3.63s/it]"
     ]
    },
    {
     "name": "stdout",
     "output_type": "stream",
     "text": [
      "Max retries reached. Could not fetch data.\n"
     ]
    },
    {
     "name": "stderr",
     "output_type": "stream",
     "text": [
      "Processing Instances:  17%|█▋        | 35828/213170 [7:08:52<86:31:09,  1.76s/it] "
     ]
    },
    {
     "name": "stdout",
     "output_type": "stream",
     "text": [
      "Error: 'age'. Retrying after 2 seconds...\n",
      "Error: 'age'. Retrying after 2 seconds...\n",
      "Error: 'age'. Retrying after 2 seconds...\n"
     ]
    },
    {
     "name": "stderr",
     "output_type": "stream",
     "text": [
      "Processing Instances:  17%|█▋        | 35829/213170 [7:09:02<210:03:01,  4.26s/it]"
     ]
    },
    {
     "name": "stdout",
     "output_type": "stream",
     "text": [
      "Max retries reached. Could not fetch data.\n"
     ]
    },
    {
     "name": "stderr",
     "output_type": "stream",
     "text": [
      "Processing Instances:  17%|█▋        | 35844/213170 [7:09:12<39:14:58,  1.25it/s] "
     ]
    },
    {
     "name": "stdout",
     "output_type": "stream",
     "text": [
      "Error: 'age'. Retrying after 2 seconds...\n",
      "Error: 'age'. Retrying after 2 seconds...\n",
      "Error: 'age'. Retrying after 2 seconds...\n"
     ]
    },
    {
     "name": "stderr",
     "output_type": "stream",
     "text": [
      "Processing Instances:  17%|█▋        | 35845/213170 [7:09:23<182:47:22,  3.71s/it]"
     ]
    },
    {
     "name": "stdout",
     "output_type": "stream",
     "text": [
      "Max retries reached. Could not fetch data.\n"
     ]
    },
    {
     "name": "stderr",
     "output_type": "stream",
     "text": [
      "Processing Instances:  17%|█▋        | 35898/213170 [7:09:59<34:31:35,  1.43it/s] "
     ]
    },
    {
     "name": "stdout",
     "output_type": "stream",
     "text": [
      "Error: 'age'. Retrying after 2 seconds...\n",
      "Error: 'age'. Retrying after 2 seconds...\n",
      "Error: 'age'. Retrying after 2 seconds...\n"
     ]
    },
    {
     "name": "stderr",
     "output_type": "stream",
     "text": [
      "Processing Instances:  17%|█▋        | 35899/213170 [7:10:09<173:37:28,  3.53s/it]"
     ]
    },
    {
     "name": "stdout",
     "output_type": "stream",
     "text": [
      "Max retries reached. Could not fetch data.\n"
     ]
    },
    {
     "name": "stderr",
     "output_type": "stream",
     "text": [
      "Processing Instances:  17%|█▋        | 36036/213170 [7:11:39<32:39:38,  1.51it/s] "
     ]
    },
    {
     "name": "stdout",
     "output_type": "stream",
     "text": [
      "Error: 'age'. Retrying after 2 seconds...\n",
      "Error: 'age'. Retrying after 2 seconds...\n",
      "Error: 'age'. Retrying after 2 seconds...\n"
     ]
    },
    {
     "name": "stderr",
     "output_type": "stream",
     "text": [
      "Processing Instances:  17%|█▋        | 36037/213170 [7:11:49<172:28:03,  3.51s/it]"
     ]
    },
    {
     "name": "stdout",
     "output_type": "stream",
     "text": [
      "Max retries reached. Could not fetch data.\n"
     ]
    },
    {
     "name": "stderr",
     "output_type": "stream",
     "text": [
      "Processing Instances:  17%|█▋        | 36087/213170 [7:12:20<28:08:41,  1.75it/s] "
     ]
    },
    {
     "name": "stdout",
     "output_type": "stream",
     "text": [
      "Error: 'age'. Retrying after 2 seconds...\n",
      "Error: 'age'. Retrying after 2 seconds...\n",
      "Error: 'age'. Retrying after 2 seconds...\n"
     ]
    },
    {
     "name": "stderr",
     "output_type": "stream",
     "text": [
      "Processing Instances:  17%|█▋        | 36088/213170 [7:12:30<174:44:48,  3.55s/it]"
     ]
    },
    {
     "name": "stdout",
     "output_type": "stream",
     "text": [
      "Max retries reached. Could not fetch data.\n"
     ]
    },
    {
     "name": "stderr",
     "output_type": "stream",
     "text": [
      "Processing Instances:  17%|█▋        | 36856/213170 [7:20:20<27:14:00,  1.80it/s] "
     ]
    },
    {
     "name": "stdout",
     "output_type": "stream",
     "text": [
      "Error: 'age'. Retrying after 2 seconds...\n",
      "Error: 'age'. Retrying after 2 seconds...\n",
      "Error: 'age'. Retrying after 2 seconds...\n"
     ]
    },
    {
     "name": "stderr",
     "output_type": "stream",
     "text": [
      "Processing Instances:  17%|█▋        | 36857/213170 [7:20:30<167:37:20,  3.42s/it]"
     ]
    },
    {
     "name": "stdout",
     "output_type": "stream",
     "text": [
      "Max retries reached. Could not fetch data.\n"
     ]
    },
    {
     "name": "stderr",
     "output_type": "stream",
     "text": [
      "Processing Instances:  17%|█▋        | 37174/213170 [7:23:49<26:49:30,  1.82it/s] "
     ]
    },
    {
     "name": "stdout",
     "output_type": "stream",
     "text": [
      "Error: 'age'. Retrying after 2 seconds...\n",
      "Error: 'age'. Retrying after 2 seconds...\n",
      "Error: 'age'. Retrying after 2 seconds...\n"
     ]
    },
    {
     "name": "stderr",
     "output_type": "stream",
     "text": [
      "Processing Instances:  17%|█▋        | 37175/213170 [7:23:59<172:54:31,  3.54s/it]"
     ]
    },
    {
     "name": "stdout",
     "output_type": "stream",
     "text": [
      "Max retries reached. Could not fetch data.\n"
     ]
    },
    {
     "name": "stderr",
     "output_type": "stream",
     "text": [
      "Processing Instances:  18%|█▊        | 37477/213170 [7:27:00<31:52:11,  1.53it/s] "
     ]
    },
    {
     "name": "stdout",
     "output_type": "stream",
     "text": [
      "Error: 'age'. Retrying after 2 seconds...\n",
      "Error: 'age'. Retrying after 2 seconds...\n",
      "Error: 'age'. Retrying after 2 seconds...\n"
     ]
    },
    {
     "name": "stderr",
     "output_type": "stream",
     "text": [
      "Processing Instances:  18%|█▊        | 37478/213170 [7:27:10<170:25:49,  3.49s/it]"
     ]
    },
    {
     "name": "stdout",
     "output_type": "stream",
     "text": [
      "Max retries reached. Could not fetch data.\n"
     ]
    },
    {
     "name": "stderr",
     "output_type": "stream",
     "text": [
      "Processing Instances:  18%|█▊        | 38034/213170 [7:32:48<26:50:07,  1.81it/s] "
     ]
    },
    {
     "name": "stdout",
     "output_type": "stream",
     "text": [
      "Error: 'age'. Retrying after 2 seconds...\n",
      "Error: 'age'. Retrying after 2 seconds...\n",
      "Error: 'age'. Retrying after 2 seconds...\n"
     ]
    },
    {
     "name": "stderr",
     "output_type": "stream",
     "text": [
      "Processing Instances:  18%|█▊        | 38035/213170 [7:32:58<166:37:01,  3.42s/it]"
     ]
    },
    {
     "name": "stdout",
     "output_type": "stream",
     "text": [
      "Max retries reached. Could not fetch data.\n"
     ]
    },
    {
     "name": "stderr",
     "output_type": "stream",
     "text": [
      "Processing Instances:  18%|█▊        | 38131/213170 [7:33:56<29:32:58,  1.65it/s] "
     ]
    },
    {
     "name": "stdout",
     "output_type": "stream",
     "text": [
      "Error: 'age'. Retrying after 2 seconds...\n",
      "Error: 'age'. Retrying after 2 seconds...\n",
      "Error: 'age'. Retrying after 2 seconds...\n"
     ]
    },
    {
     "name": "stderr",
     "output_type": "stream",
     "text": [
      "Processing Instances:  18%|█▊        | 38132/213170 [7:34:06<168:18:52,  3.46s/it]"
     ]
    },
    {
     "name": "stdout",
     "output_type": "stream",
     "text": [
      "Max retries reached. Could not fetch data.\n"
     ]
    },
    {
     "name": "stderr",
     "output_type": "stream",
     "text": [
      "Processing Instances:  18%|█▊        | 38633/213170 [7:39:18<25:07:29,  1.93it/s] "
     ]
    },
    {
     "name": "stdout",
     "output_type": "stream",
     "text": [
      "Error: 'age'. Retrying after 2 seconds...\n",
      "Error: 'age'. Retrying after 2 seconds...\n",
      "Error: 'age'. Retrying after 2 seconds...\n"
     ]
    },
    {
     "name": "stderr",
     "output_type": "stream",
     "text": [
      "Processing Instances:  18%|█▊        | 38634/213170 [7:39:28<164:58:56,  3.40s/it]"
     ]
    },
    {
     "name": "stdout",
     "output_type": "stream",
     "text": [
      "Max retries reached. Could not fetch data.\n"
     ]
    },
    {
     "name": "stderr",
     "output_type": "stream",
     "text": [
      "Processing Instances:  18%|█▊        | 38728/213170 [7:40:29<27:45:12,  1.75it/s] "
     ]
    },
    {
     "name": "stdout",
     "output_type": "stream",
     "text": [
      "Error: 'age'. Retrying after 2 seconds...\n",
      "Error: 'age'. Retrying after 2 seconds...\n",
      "Error: 'age'. Retrying after 2 seconds...\n"
     ]
    },
    {
     "name": "stderr",
     "output_type": "stream",
     "text": [
      "Processing Instances:  18%|█▊        | 38729/213170 [7:40:39<172:06:04,  3.55s/it]"
     ]
    },
    {
     "name": "stdout",
     "output_type": "stream",
     "text": [
      "Max retries reached. Could not fetch data.\n"
     ]
    },
    {
     "name": "stderr",
     "output_type": "stream",
     "text": [
      "Processing Instances:  18%|█▊        | 38791/213170 [7:41:20<31:53:27,  1.52it/s] "
     ]
    },
    {
     "name": "stdout",
     "output_type": "stream",
     "text": [
      "Error: 'age'. Retrying after 2 seconds...\n",
      "Error: 'age'. Retrying after 2 seconds...\n",
      "Error: 'age'. Retrying after 2 seconds...\n"
     ]
    },
    {
     "name": "stderr",
     "output_type": "stream",
     "text": [
      "Processing Instances:  18%|█▊        | 38792/213170 [7:41:30<169:13:17,  3.49s/it]"
     ]
    },
    {
     "name": "stdout",
     "output_type": "stream",
     "text": [
      "Max retries reached. Could not fetch data.\n"
     ]
    },
    {
     "name": "stderr",
     "output_type": "stream",
     "text": [
      "Processing Instances:  18%|█▊        | 38904/213170 [7:42:38<36:37:54,  1.32it/s] "
     ]
    },
    {
     "name": "stdout",
     "output_type": "stream",
     "text": [
      "Error: 'age'. Retrying after 2 seconds...\n",
      "Error: 'age'. Retrying after 2 seconds...\n",
      "Error: 'age'. Retrying after 2 seconds...\n"
     ]
    },
    {
     "name": "stderr",
     "output_type": "stream",
     "text": [
      "Processing Instances:  18%|█▊        | 38905/213170 [7:42:48<172:33:47,  3.56s/it]"
     ]
    },
    {
     "name": "stdout",
     "output_type": "stream",
     "text": [
      "Max retries reached. Could not fetch data.\n"
     ]
    },
    {
     "name": "stderr",
     "output_type": "stream",
     "text": [
      "Processing Instances:  18%|█▊        | 38918/213170 [7:42:56<27:43:45,  1.75it/s] "
     ]
    },
    {
     "name": "stdout",
     "output_type": "stream",
     "text": [
      "Error: 'age'. Retrying after 2 seconds...\n",
      "Error: 'age'. Retrying after 2 seconds...\n",
      "Error: 'age'. Retrying after 2 seconds...\n"
     ]
    },
    {
     "name": "stderr",
     "output_type": "stream",
     "text": [
      "Processing Instances:  18%|█▊        | 38919/213170 [7:43:07<172:07:46,  3.56s/it]"
     ]
    },
    {
     "name": "stdout",
     "output_type": "stream",
     "text": [
      "Max retries reached. Could not fetch data.\n"
     ]
    },
    {
     "name": "stderr",
     "output_type": "stream",
     "text": [
      "Processing Instances:  18%|█▊        | 39060/213170 [7:44:34<30:14:11,  1.60it/s] "
     ]
    },
    {
     "name": "stdout",
     "output_type": "stream",
     "text": [
      "Error: 'age'. Retrying after 2 seconds...\n",
      "Error: 'age'. Retrying after 2 seconds...\n",
      "Error: 'age'. Retrying after 2 seconds...\n"
     ]
    },
    {
     "name": "stderr",
     "output_type": "stream",
     "text": [
      "Processing Instances:  18%|█▊        | 39061/213170 [7:44:44<168:00:45,  3.47s/it]"
     ]
    },
    {
     "name": "stdout",
     "output_type": "stream",
     "text": [
      "Max retries reached. Could not fetch data.\n"
     ]
    },
    {
     "name": "stderr",
     "output_type": "stream",
     "text": [
      "Processing Instances:  18%|█▊        | 39074/213170 [7:44:53<31:50:08,  1.52it/s] "
     ]
    },
    {
     "name": "stdout",
     "output_type": "stream",
     "text": [
      "Error: 'age'. Retrying after 2 seconds...\n",
      "Error: 'age'. Retrying after 2 seconds...\n",
      "Error: 'age'. Retrying after 2 seconds...\n"
     ]
    },
    {
     "name": "stderr",
     "output_type": "stream",
     "text": [
      "Processing Instances:  18%|█▊        | 39075/213170 [7:45:03<169:21:29,  3.50s/it]"
     ]
    },
    {
     "name": "stdout",
     "output_type": "stream",
     "text": [
      "Max retries reached. Could not fetch data.\n"
     ]
    },
    {
     "name": "stderr",
     "output_type": "stream",
     "text": [
      "Processing Instances:  18%|█▊        | 39335/213170 [7:47:41<24:47:40,  1.95it/s] "
     ]
    },
    {
     "name": "stdout",
     "output_type": "stream",
     "text": [
      "Error: 'age'. Retrying after 2 seconds...\n",
      "Error: 'age'. Retrying after 2 seconds...\n",
      "Error: 'age'. Retrying after 2 seconds...\n"
     ]
    },
    {
     "name": "stderr",
     "output_type": "stream",
     "text": [
      "Processing Instances:  18%|█▊        | 39336/213170 [7:47:51<163:44:11,  3.39s/it]"
     ]
    },
    {
     "name": "stdout",
     "output_type": "stream",
     "text": [
      "Max retries reached. Could not fetch data.\n"
     ]
    },
    {
     "name": "stderr",
     "output_type": "stream",
     "text": [
      "Processing Instances:  18%|█▊        | 39417/213170 [7:48:41<31:14:09,  1.55it/s] "
     ]
    },
    {
     "name": "stdout",
     "output_type": "stream",
     "text": [
      "Error: 'age'. Retrying after 2 seconds...\n",
      "Error: 'age'. Retrying after 2 seconds...\n",
      "Error: 'age'. Retrying after 2 seconds...\n"
     ]
    },
    {
     "name": "stderr",
     "output_type": "stream",
     "text": [
      "Processing Instances:  18%|█▊        | 39418/213170 [7:48:51<168:13:47,  3.49s/it]"
     ]
    },
    {
     "name": "stdout",
     "output_type": "stream",
     "text": [
      "Max retries reached. Could not fetch data.\n"
     ]
    },
    {
     "name": "stderr",
     "output_type": "stream",
     "text": [
      "Processing Instances:  18%|█▊        | 39423/213170 [7:48:54<53:59:42,  1.12s/it] "
     ]
    },
    {
     "name": "stdout",
     "output_type": "stream",
     "text": [
      "Error: 'age'. Retrying after 2 seconds...\n",
      "Error: 'age'. Retrying after 2 seconds...\n",
      "Error: 'age'. Retrying after 2 seconds...\n"
     ]
    },
    {
     "name": "stderr",
     "output_type": "stream",
     "text": [
      "Processing Instances:  18%|█▊        | 39424/213170 [7:49:04<184:08:36,  3.82s/it]"
     ]
    },
    {
     "name": "stdout",
     "output_type": "stream",
     "text": [
      "Max retries reached. Could not fetch data.\n"
     ]
    },
    {
     "name": "stderr",
     "output_type": "stream",
     "text": [
      "Processing Instances:  18%|█▊        | 39426/213170 [7:49:06<112:20:38,  2.33s/it]"
     ]
    },
    {
     "name": "stdout",
     "output_type": "stream",
     "text": [
      "Error: 'age'. Retrying after 2 seconds...\n",
      "Error: 'age'. Retrying after 2 seconds...\n",
      "Error: 'age'. Retrying after 2 seconds...\n"
     ]
    },
    {
     "name": "stderr",
     "output_type": "stream",
     "text": [
      "Processing Instances:  18%|█▊        | 39427/213170 [7:49:16<225:08:49,  4.67s/it]"
     ]
    },
    {
     "name": "stdout",
     "output_type": "stream",
     "text": [
      "Max retries reached. Could not fetch data.\n"
     ]
    },
    {
     "name": "stderr",
     "output_type": "stream",
     "text": [
      "Processing Instances:  19%|█▊        | 39438/213170 [7:49:23<39:08:03,  1.23it/s] "
     ]
    },
    {
     "name": "stdout",
     "output_type": "stream",
     "text": [
      "Error: 'age'. Retrying after 2 seconds...\n",
      "Error: 'age'. Retrying after 2 seconds...\n",
      "Error: 'age'. Retrying after 2 seconds...\n"
     ]
    },
    {
     "name": "stderr",
     "output_type": "stream",
     "text": [
      "Processing Instances:  19%|█▊        | 39439/213170 [7:49:34<173:45:42,  3.60s/it]"
     ]
    },
    {
     "name": "stdout",
     "output_type": "stream",
     "text": [
      "Max retries reached. Could not fetch data.\n",
      "Error: 'age'. Retrying after 2 seconds...\n",
      "Error: 'age'. Retrying after 2 seconds...\n",
      "Error: 'age'. Retrying after 2 seconds...\n"
     ]
    },
    {
     "name": "stderr",
     "output_type": "stream",
     "text": [
      "Processing Instances:  19%|█▊        | 39440/213170 [7:49:44<268:15:51,  5.56s/it]"
     ]
    },
    {
     "name": "stdout",
     "output_type": "stream",
     "text": [
      "Max retries reached. Could not fetch data.\n"
     ]
    },
    {
     "name": "stderr",
     "output_type": "stream",
     "text": [
      "Processing Instances:  19%|█▊        | 39766/213170 [7:53:12<31:11:39,  1.54it/s] "
     ]
    },
    {
     "name": "stdout",
     "output_type": "stream",
     "text": [
      "Error: 'age'. Retrying after 2 seconds...\n",
      "Error: 'age'. Retrying after 2 seconds...\n",
      "Error: 'age'. Retrying after 2 seconds...\n"
     ]
    },
    {
     "name": "stderr",
     "output_type": "stream",
     "text": [
      "Processing Instances:  19%|█▊        | 39767/213170 [7:53:23<167:59:31,  3.49s/it]"
     ]
    },
    {
     "name": "stdout",
     "output_type": "stream",
     "text": [
      "Max retries reached. Could not fetch data.\n",
      "Error: 'age'. Retrying after 2 seconds...\n",
      "Error: 'age'. Retrying after 2 seconds...\n",
      "Error: 'age'. Retrying after 2 seconds...\n"
     ]
    },
    {
     "name": "stderr",
     "output_type": "stream",
     "text": [
      "Processing Instances:  19%|█▊        | 39768/213170 [7:53:33<269:13:11,  5.59s/it]"
     ]
    },
    {
     "name": "stdout",
     "output_type": "stream",
     "text": [
      "Max retries reached. Could not fetch data.\n"
     ]
    },
    {
     "name": "stderr",
     "output_type": "stream",
     "text": [
      "Processing Instances:  19%|█▉        | 40134/213170 [7:57:23<26:44:09,  1.80it/s] "
     ]
    },
    {
     "name": "stdout",
     "output_type": "stream",
     "text": [
      "Error: 'age'. Retrying after 2 seconds...\n",
      "Error: 'age'. Retrying after 2 seconds...\n",
      "Error: 'age'. Retrying after 2 seconds...\n"
     ]
    },
    {
     "name": "stderr",
     "output_type": "stream",
     "text": [
      "Processing Instances:  19%|█▉        | 40135/213170 [7:57:33<164:22:43,  3.42s/it]"
     ]
    },
    {
     "name": "stdout",
     "output_type": "stream",
     "text": [
      "Max retries reached. Could not fetch data.\n"
     ]
    },
    {
     "name": "stderr",
     "output_type": "stream",
     "text": [
      "Processing Instances:  19%|█▉        | 40263/213170 [7:58:50<29:20:01,  1.64it/s] "
     ]
    },
    {
     "name": "stdout",
     "output_type": "stream",
     "text": [
      "Error: 'age'. Retrying after 2 seconds...\n",
      "Error: 'age'. Retrying after 2 seconds...\n",
      "Error: 'age'. Retrying after 2 seconds...\n"
     ]
    },
    {
     "name": "stderr",
     "output_type": "stream",
     "text": [
      "Processing Instances:  19%|█▉        | 40264/213170 [7:59:00<166:11:43,  3.46s/it]"
     ]
    },
    {
     "name": "stdout",
     "output_type": "stream",
     "text": [
      "Max retries reached. Could not fetch data.\n"
     ]
    },
    {
     "name": "stderr",
     "output_type": "stream",
     "text": [
      "Processing Instances:  19%|█▉        | 41348/213170 [8:10:10<35:10:01,  1.36it/s] "
     ]
    },
    {
     "name": "stdout",
     "output_type": "stream",
     "text": [
      "Error: 'age'. Retrying after 2 seconds...\n",
      "Error: 'age'. Retrying after 2 seconds...\n",
      "Error: 'age'. Retrying after 2 seconds...\n"
     ]
    },
    {
     "name": "stderr",
     "output_type": "stream",
     "text": [
      "Processing Instances:  19%|█▉        | 41349/213170 [8:10:20<169:28:45,  3.55s/it]"
     ]
    },
    {
     "name": "stdout",
     "output_type": "stream",
     "text": [
      "Max retries reached. Could not fetch data.\n"
     ]
    },
    {
     "name": "stderr",
     "output_type": "stream",
     "text": [
      "Processing Instances:  19%|█▉        | 41480/213170 [8:11:42<27:18:05,  1.75it/s] "
     ]
    },
    {
     "name": "stdout",
     "output_type": "stream",
     "text": [
      "Error: 'age'. Retrying after 2 seconds...\n",
      "Error: 'age'. Retrying after 2 seconds...\n",
      "Error: 'age'. Retrying after 2 seconds...\n"
     ]
    },
    {
     "name": "stderr",
     "output_type": "stream",
     "text": [
      "Processing Instances:  19%|█▉        | 41481/213170 [8:11:53<169:23:07,  3.55s/it]"
     ]
    },
    {
     "name": "stdout",
     "output_type": "stream",
     "text": [
      "Max retries reached. Could not fetch data.\n"
     ]
    },
    {
     "name": "stderr",
     "output_type": "stream",
     "text": [
      "Processing Instances:  20%|█▉        | 41635/213170 [8:13:31<33:06:13,  1.44it/s] "
     ]
    },
    {
     "name": "stdout",
     "output_type": "stream",
     "text": [
      "Error: 'age'. Retrying after 2 seconds...\n",
      "Error: 'age'. Retrying after 2 seconds...\n",
      "Error: 'age'. Retrying after 2 seconds...\n"
     ]
    },
    {
     "name": "stderr",
     "output_type": "stream",
     "text": [
      "Processing Instances:  20%|█▉        | 41636/213170 [8:13:41<167:42:40,  3.52s/it]"
     ]
    },
    {
     "name": "stdout",
     "output_type": "stream",
     "text": [
      "Max retries reached. Could not fetch data.\n"
     ]
    },
    {
     "name": "stderr",
     "output_type": "stream",
     "text": [
      "Processing Instances:  20%|█▉        | 41810/213170 [8:15:30<25:21:15,  1.88it/s] "
     ]
    },
    {
     "name": "stdout",
     "output_type": "stream",
     "text": [
      "Error: 'age'. Retrying after 2 seconds...\n",
      "Error: 'age'. Retrying after 2 seconds...\n",
      "Error: 'age'. Retrying after 2 seconds...\n"
     ]
    },
    {
     "name": "stderr",
     "output_type": "stream",
     "text": [
      "Processing Instances:  20%|█▉        | 41811/213170 [8:15:40<162:16:17,  3.41s/it]"
     ]
    },
    {
     "name": "stdout",
     "output_type": "stream",
     "text": [
      "Max retries reached. Could not fetch data.\n",
      "Error: 'age'. Retrying after 2 seconds...\n",
      "Error: 'age'. Retrying after 2 seconds...\n",
      "Error: 'age'. Retrying after 2 seconds...\n"
     ]
    },
    {
     "name": "stderr",
     "output_type": "stream",
     "text": [
      "Processing Instances:  20%|█▉        | 41812/213170 [8:15:50<258:26:41,  5.43s/it]"
     ]
    },
    {
     "name": "stdout",
     "output_type": "stream",
     "text": [
      "Max retries reached. Could not fetch data.\n"
     ]
    },
    {
     "name": "stderr",
     "output_type": "stream",
     "text": [
      "Processing Instances:  20%|█▉        | 42150/213170 [8:19:10<24:22:06,  1.95it/s] "
     ]
    },
    {
     "name": "stdout",
     "output_type": "stream",
     "text": [
      "Error: 'age'. Retrying after 2 seconds...\n",
      "Error: 'age'. Retrying after 2 seconds...\n",
      "Error: 'age'. Retrying after 2 seconds...\n"
     ]
    },
    {
     "name": "stderr",
     "output_type": "stream",
     "text": [
      "Processing Instances:  20%|█▉        | 42151/213170 [8:19:20<161:12:52,  3.39s/it]"
     ]
    },
    {
     "name": "stdout",
     "output_type": "stream",
     "text": [
      "Max retries reached. Could not fetch data.\n"
     ]
    },
    {
     "name": "stderr",
     "output_type": "stream",
     "text": [
      "Processing Instances:  20%|█▉        | 42214/213170 [8:19:57<29:43:22,  1.60it/s] "
     ]
    },
    {
     "name": "stdout",
     "output_type": "stream",
     "text": [
      "Error: 'age'. Retrying after 2 seconds...\n",
      "Error: 'age'. Retrying after 2 seconds...\n",
      "Error: 'age'. Retrying after 2 seconds...\n"
     ]
    },
    {
     "name": "stderr",
     "output_type": "stream",
     "text": [
      "Processing Instances:  20%|█▉        | 42215/213170 [8:20:07<170:28:00,  3.59s/it]"
     ]
    },
    {
     "name": "stdout",
     "output_type": "stream",
     "text": [
      "Max retries reached. Could not fetch data.\n"
     ]
    },
    {
     "name": "stderr",
     "output_type": "stream",
     "text": [
      "Processing Instances:  20%|█▉        | 42227/213170 [8:20:14<27:57:33,  1.70it/s] "
     ]
    },
    {
     "name": "stdout",
     "output_type": "stream",
     "text": [
      "Error: 'age'. Retrying after 2 seconds...\n",
      "Error: 'age'. Retrying after 2 seconds...\n",
      "Error: 'age'. Retrying after 2 seconds...\n"
     ]
    },
    {
     "name": "stderr",
     "output_type": "stream",
     "text": [
      "Processing Instances:  20%|█▉        | 42228/213170 [8:20:25<163:36:09,  3.45s/it]"
     ]
    },
    {
     "name": "stdout",
     "output_type": "stream",
     "text": [
      "Max retries reached. Could not fetch data.\n"
     ]
    },
    {
     "name": "stderr",
     "output_type": "stream",
     "text": [
      "Processing Instances:  20%|█▉        | 42279/213170 [8:20:54<26:29:42,  1.79it/s] "
     ]
    },
    {
     "name": "stdout",
     "output_type": "stream",
     "text": [
      "Error: 'age'. Retrying after 2 seconds...\n",
      "Error: 'age'. Retrying after 2 seconds...\n",
      "Error: 'age'. Retrying after 2 seconds...\n"
     ]
    },
    {
     "name": "stderr",
     "output_type": "stream",
     "text": [
      "Processing Instances:  20%|█▉        | 42280/213170 [8:21:04<168:12:35,  3.54s/it]"
     ]
    },
    {
     "name": "stdout",
     "output_type": "stream",
     "text": [
      "Max retries reached. Could not fetch data.\n"
     ]
    },
    {
     "name": "stderr",
     "output_type": "stream",
     "text": [
      "Processing Instances:  20%|█▉        | 42303/213170 [8:21:20<25:44:46,  1.84it/s] "
     ]
    },
    {
     "name": "stdout",
     "output_type": "stream",
     "text": [
      "Error: 'age'. Retrying after 2 seconds...\n",
      "Error: 'age'. Retrying after 2 seconds...\n",
      "Error: 'age'. Retrying after 2 seconds...\n"
     ]
    },
    {
     "name": "stderr",
     "output_type": "stream",
     "text": [
      "Processing Instances:  20%|█▉        | 42304/213170 [8:21:30<161:57:36,  3.41s/it]"
     ]
    },
    {
     "name": "stdout",
     "output_type": "stream",
     "text": [
      "Max retries reached. Could not fetch data.\n"
     ]
    },
    {
     "name": "stderr",
     "output_type": "stream",
     "text": [
      "Processing Instances:  20%|█▉        | 42350/213170 [8:21:57<27:03:10,  1.75it/s] "
     ]
    },
    {
     "name": "stdout",
     "output_type": "stream",
     "text": [
      "Error: 'age'. Retrying after 2 seconds...\n",
      "Error: 'age'. Retrying after 2 seconds...\n",
      "Error: 'age'. Retrying after 2 seconds...\n"
     ]
    },
    {
     "name": "stderr",
     "output_type": "stream",
     "text": [
      "Processing Instances:  20%|█▉        | 42351/213170 [8:22:08<163:03:48,  3.44s/it]"
     ]
    },
    {
     "name": "stdout",
     "output_type": "stream",
     "text": [
      "Max retries reached. Could not fetch data.\n"
     ]
    },
    {
     "name": "stderr",
     "output_type": "stream",
     "text": [
      "Processing Instances:  20%|█▉        | 42353/213170 [8:22:09<97:59:50,  2.07s/it] "
     ]
    },
    {
     "name": "stdout",
     "output_type": "stream",
     "text": [
      "Error: 'age'. Retrying after 2 seconds...\n",
      "Error: 'age'. Retrying after 2 seconds...\n",
      "Error: 'age'. Retrying after 2 seconds...\n"
     ]
    },
    {
     "name": "stderr",
     "output_type": "stream",
     "text": [
      "Processing Instances:  20%|█▉        | 42354/213170 [8:22:19<218:03:55,  4.60s/it]"
     ]
    },
    {
     "name": "stdout",
     "output_type": "stream",
     "text": [
      "Max retries reached. Could not fetch data.\n"
     ]
    },
    {
     "name": "stderr",
     "output_type": "stream",
     "text": [
      "Processing Instances:  20%|█▉        | 42363/213170 [8:22:26<40:18:56,  1.18it/s] "
     ]
    },
    {
     "name": "stdout",
     "output_type": "stream",
     "text": [
      "Error: 'age'. Retrying after 2 seconds...\n",
      "Error: 'age'. Retrying after 2 seconds...\n",
      "Error: 'age'. Retrying after 2 seconds...\n"
     ]
    },
    {
     "name": "stderr",
     "output_type": "stream",
     "text": [
      "Processing Instances:  20%|█▉        | 42364/213170 [8:22:36<172:15:37,  3.63s/it]"
     ]
    },
    {
     "name": "stdout",
     "output_type": "stream",
     "text": [
      "Max retries reached. Could not fetch data.\n"
     ]
    },
    {
     "name": "stderr",
     "output_type": "stream",
     "text": [
      "Processing Instances:  20%|██        | 42772/213170 [8:26:46<31:25:58,  1.51it/s] "
     ]
    },
    {
     "name": "stdout",
     "output_type": "stream",
     "text": [
      "Error: 'age'. Retrying after 2 seconds...\n",
      "Error: 'age'. Retrying after 2 seconds...\n",
      "Error: 'age'. Retrying after 2 seconds...\n"
     ]
    },
    {
     "name": "stderr",
     "output_type": "stream",
     "text": [
      "Processing Instances:  20%|██        | 42773/213170 [8:26:56<165:32:20,  3.50s/it]"
     ]
    },
    {
     "name": "stdout",
     "output_type": "stream",
     "text": [
      "Max retries reached. Could not fetch data.\n"
     ]
    },
    {
     "name": "stderr",
     "output_type": "stream",
     "text": [
      "Processing Instances:  20%|██        | 42995/213170 [8:29:15<32:40:52,  1.45it/s] "
     ]
    },
    {
     "name": "stdout",
     "output_type": "stream",
     "text": [
      "Error: 'age'. Retrying after 2 seconds...\n",
      "Error: 'age'. Retrying after 2 seconds...\n",
      "Error: 'age'. Retrying after 2 seconds...\n"
     ]
    },
    {
     "name": "stderr",
     "output_type": "stream",
     "text": [
      "Processing Instances:  20%|██        | 42996/213170 [8:29:25<166:57:58,  3.53s/it]"
     ]
    },
    {
     "name": "stdout",
     "output_type": "stream",
     "text": [
      "Max retries reached. Could not fetch data.\n"
     ]
    },
    {
     "name": "stderr",
     "output_type": "stream",
     "text": [
      "Processing Instances:  20%|██        | 43018/213170 [8:29:38<29:42:13,  1.59it/s] "
     ]
    },
    {
     "name": "stdout",
     "output_type": "stream",
     "text": [
      "Error: 'age'. Retrying after 2 seconds...\n",
      "Error: 'age'. Retrying after 2 seconds...\n",
      "Error: 'age'. Retrying after 2 seconds...\n"
     ]
    },
    {
     "name": "stderr",
     "output_type": "stream",
     "text": [
      "Processing Instances:  20%|██        | 43019/213170 [8:29:48<164:15:59,  3.48s/it]"
     ]
    },
    {
     "name": "stdout",
     "output_type": "stream",
     "text": [
      "Max retries reached. Could not fetch data.\n"
     ]
    },
    {
     "name": "stderr",
     "output_type": "stream",
     "text": [
      "Processing Instances:  20%|██        | 43228/213170 [8:32:01<25:02:34,  1.89it/s] "
     ]
    },
    {
     "name": "stdout",
     "output_type": "stream",
     "text": [
      "Error: 'age'. Retrying after 2 seconds...\n",
      "Error: 'age'. Retrying after 2 seconds...\n",
      "Error: 'age'. Retrying after 2 seconds...\n"
     ]
    },
    {
     "name": "stderr",
     "output_type": "stream",
     "text": [
      "Processing Instances:  20%|██        | 43229/213170 [8:32:11<166:23:39,  3.52s/it]"
     ]
    },
    {
     "name": "stdout",
     "output_type": "stream",
     "text": [
      "Max retries reached. Could not fetch data.\n"
     ]
    },
    {
     "name": "stderr",
     "output_type": "stream",
     "text": [
      "Processing Instances:  20%|██        | 43261/213170 [8:32:32<28:33:38,  1.65it/s] "
     ]
    },
    {
     "name": "stdout",
     "output_type": "stream",
     "text": [
      "Error: 'age'. Retrying after 2 seconds...\n",
      "Error: 'age'. Retrying after 2 seconds...\n",
      "Error: 'age'. Retrying after 2 seconds...\n"
     ]
    },
    {
     "name": "stderr",
     "output_type": "stream",
     "text": [
      "Processing Instances:  20%|██        | 43262/213170 [8:32:42<163:09:58,  3.46s/it]"
     ]
    },
    {
     "name": "stdout",
     "output_type": "stream",
     "text": [
      "Max retries reached. Could not fetch data.\n"
     ]
    },
    {
     "name": "stderr",
     "output_type": "stream",
     "text": [
      "Processing Instances:  20%|██        | 43383/213170 [8:33:57<25:29:09,  1.85it/s] "
     ]
    },
    {
     "name": "stdout",
     "output_type": "stream",
     "text": [
      "Error: 'age'. Retrying after 2 seconds...\n",
      "Error: 'age'. Retrying after 2 seconds...\n",
      "Error: 'age'. Retrying after 2 seconds...\n"
     ]
    },
    {
     "name": "stderr",
     "output_type": "stream",
     "text": [
      "Processing Instances:  20%|██        | 43384/213170 [8:34:07<161:03:45,  3.42s/it]"
     ]
    },
    {
     "name": "stdout",
     "output_type": "stream",
     "text": [
      "Max retries reached. Could not fetch data.\n"
     ]
    },
    {
     "name": "stderr",
     "output_type": "stream",
     "text": [
      "Processing Instances:  20%|██        | 43389/213170 [8:34:09<46:52:40,  1.01it/s] "
     ]
    },
    {
     "name": "stdout",
     "output_type": "stream",
     "text": [
      "Error: 'age'. Retrying after 2 seconds...\n",
      "Error: 'age'. Retrying after 2 seconds...\n",
      "Error: 'age'. Retrying after 2 seconds...\n"
     ]
    },
    {
     "name": "stderr",
     "output_type": "stream",
     "text": [
      "Processing Instances:  20%|██        | 43390/213170 [8:34:20<181:26:46,  3.85s/it]"
     ]
    },
    {
     "name": "stdout",
     "output_type": "stream",
     "text": [
      "Max retries reached. Could not fetch data.\n",
      "Error: 'age'. Retrying after 2 seconds...\n",
      "Error: 'age'. Retrying after 2 seconds...\n",
      "Error: 'age'. Retrying after 2 seconds...\n"
     ]
    },
    {
     "name": "stderr",
     "output_type": "stream",
     "text": [
      "Processing Instances:  20%|██        | 43391/213170 [8:34:30<275:42:25,  5.85s/it]"
     ]
    },
    {
     "name": "stdout",
     "output_type": "stream",
     "text": [
      "Max retries reached. Could not fetch data.\n"
     ]
    },
    {
     "name": "stderr",
     "output_type": "stream",
     "text": [
      "Processing Instances:  20%|██        | 43442/213170 [8:35:01<26:44:20,  1.76it/s] "
     ]
    },
    {
     "name": "stdout",
     "output_type": "stream",
     "text": [
      "Error: 'age'. Retrying after 2 seconds...\n",
      "Error: 'age'. Retrying after 2 seconds...\n",
      "Error: 'age'. Retrying after 2 seconds...\n"
     ]
    },
    {
     "name": "stderr",
     "output_type": "stream",
     "text": [
      "Processing Instances:  20%|██        | 43443/213170 [8:35:12<161:50:09,  3.43s/it]"
     ]
    },
    {
     "name": "stdout",
     "output_type": "stream",
     "text": [
      "Max retries reached. Could not fetch data.\n"
     ]
    },
    {
     "name": "stderr",
     "output_type": "stream",
     "text": [
      "Processing Instances:  20%|██        | 43456/213170 [8:35:20<33:48:05,  1.39it/s] "
     ]
    },
    {
     "name": "stdout",
     "output_type": "stream",
     "text": [
      "Error: 'age'. Retrying after 2 seconds...\n",
      "Error: 'age'. Retrying after 2 seconds...\n",
      "Error: 'age'. Retrying after 2 seconds...\n"
     ]
    },
    {
     "name": "stderr",
     "output_type": "stream",
     "text": [
      "Processing Instances:  20%|██        | 43457/213170 [8:35:31<172:14:28,  3.65s/it]"
     ]
    },
    {
     "name": "stdout",
     "output_type": "stream",
     "text": [
      "Max retries reached. Could not fetch data.\n",
      "Error: 'age'. Retrying after 2 seconds...\n",
      "Error: 'age'. Retrying after 2 seconds...\n",
      "Error: 'age'. Retrying after 2 seconds...\n"
     ]
    },
    {
     "name": "stderr",
     "output_type": "stream",
     "text": [
      "Processing Instances:  20%|██        | 43458/213170 [8:35:41<263:50:07,  5.60s/it]"
     ]
    },
    {
     "name": "stdout",
     "output_type": "stream",
     "text": [
      "Max retries reached. Could not fetch data.\n"
     ]
    },
    {
     "name": "stderr",
     "output_type": "stream",
     "text": [
      "Processing Instances:  20%|██        | 43462/213170 [8:35:44<93:41:08,  1.99s/it] "
     ]
    },
    {
     "name": "stdout",
     "output_type": "stream",
     "text": [
      "Error: 'age'. Retrying after 2 seconds...\n",
      "Error: 'age'. Retrying after 2 seconds...\n",
      "Error: 'age'. Retrying after 2 seconds...\n"
     ]
    },
    {
     "name": "stderr",
     "output_type": "stream",
     "text": [
      "Processing Instances:  20%|██        | 43463/213170 [8:35:55<214:33:32,  4.55s/it]"
     ]
    },
    {
     "name": "stdout",
     "output_type": "stream",
     "text": [
      "Max retries reached. Could not fetch data.\n"
     ]
    },
    {
     "name": "stderr",
     "output_type": "stream",
     "text": [
      "Processing Instances:  20%|██        | 43466/213170 [8:35:57<97:36:33,  2.07s/it] "
     ]
    },
    {
     "name": "stdout",
     "output_type": "stream",
     "text": [
      "Error: 'age'. Retrying after 2 seconds...\n",
      "Error: 'age'. Retrying after 2 seconds...\n",
      "Error: 'age'. Retrying after 2 seconds...\n"
     ]
    },
    {
     "name": "stderr",
     "output_type": "stream",
     "text": [
      "Processing Instances:  20%|██        | 43467/213170 [8:36:07<216:50:10,  4.60s/it]"
     ]
    },
    {
     "name": "stdout",
     "output_type": "stream",
     "text": [
      "Max retries reached. Could not fetch data.\n"
     ]
    },
    {
     "name": "stderr",
     "output_type": "stream",
     "text": [
      "Processing Instances:  20%|██        | 43475/213170 [8:36:14<49:54:00,  1.06s/it] "
     ]
    },
    {
     "name": "stdout",
     "output_type": "stream",
     "text": [
      "Error: 'age'. Retrying after 2 seconds...\n",
      "Error: 'age'. Retrying after 2 seconds...\n",
      "Error: 'age'. Retrying after 2 seconds...\n"
     ]
    },
    {
     "name": "stderr",
     "output_type": "stream",
     "text": [
      "Processing Instances:  20%|██        | 43476/213170 [8:36:24<183:32:09,  3.89s/it]"
     ]
    },
    {
     "name": "stdout",
     "output_type": "stream",
     "text": [
      "Max retries reached. Could not fetch data.\n"
     ]
    },
    {
     "name": "stderr",
     "output_type": "stream",
     "text": [
      "Processing Instances:  20%|██        | 43485/213170 [8:36:30<42:10:32,  1.12it/s] "
     ]
    },
    {
     "name": "stdout",
     "output_type": "stream",
     "text": [
      "Error: 'age'. Retrying after 2 seconds...\n",
      "Error: 'age'. Retrying after 2 seconds...\n",
      "Error: 'age'. Retrying after 2 seconds...\n"
     ]
    },
    {
     "name": "stderr",
     "output_type": "stream",
     "text": [
      "Processing Instances:  20%|██        | 43486/213170 [8:36:41<178:03:33,  3.78s/it]"
     ]
    },
    {
     "name": "stdout",
     "output_type": "stream",
     "text": [
      "Max retries reached. Could not fetch data.\n",
      "Error: 'age'. Retrying after 2 seconds...\n",
      "Error: 'age'. Retrying after 2 seconds...\n",
      "Error: 'age'. Retrying after 2 seconds...\n"
     ]
    },
    {
     "name": "stderr",
     "output_type": "stream",
     "text": [
      "Processing Instances:  20%|██        | 43487/213170 [8:36:52<281:52:46,  5.98s/it]"
     ]
    },
    {
     "name": "stdout",
     "output_type": "stream",
     "text": [
      "Max retries reached. Could not fetch data.\n"
     ]
    },
    {
     "name": "stderr",
     "output_type": "stream",
     "text": [
      "Processing Instances:  20%|██        | 43494/213170 [8:36:56<56:24:12,  1.20s/it] "
     ]
    },
    {
     "name": "stdout",
     "output_type": "stream",
     "text": [
      "Error: 'age'. Retrying after 2 seconds...\n",
      "Error: 'age'. Retrying after 2 seconds...\n",
      "Error: 'age'. Retrying after 2 seconds...\n"
     ]
    },
    {
     "name": "stderr",
     "output_type": "stream",
     "text": [
      "Processing Instances:  20%|██        | 43495/213170 [8:37:07<182:31:10,  3.87s/it]"
     ]
    },
    {
     "name": "stdout",
     "output_type": "stream",
     "text": [
      "Max retries reached. Could not fetch data.\n",
      "Error: 'age'. Retrying after 2 seconds...\n",
      "Error: 'age'. Retrying after 2 seconds...\n",
      "Error: 'age'. Retrying after 2 seconds...\n"
     ]
    },
    {
     "name": "stderr",
     "output_type": "stream",
     "text": [
      "Processing Instances:  20%|██        | 43496/213170 [8:37:17<270:48:56,  5.75s/it]"
     ]
    },
    {
     "name": "stdout",
     "output_type": "stream",
     "text": [
      "Max retries reached. Could not fetch data.\n"
     ]
    },
    {
     "name": "stderr",
     "output_type": "stream",
     "text": [
      "Processing Instances:  20%|██        | 43501/213170 [8:37:21<81:11:53,  1.72s/it] "
     ]
    },
    {
     "name": "stdout",
     "output_type": "stream",
     "text": [
      "Error: 'age'. Retrying after 2 seconds...\n",
      "Error: 'age'. Retrying after 2 seconds...\n",
      "Error: 'age'. Retrying after 2 seconds...\n"
     ]
    },
    {
     "name": "stderr",
     "output_type": "stream",
     "text": [
      "Processing Instances:  20%|██        | 43502/213170 [8:37:32<205:25:47,  4.36s/it]"
     ]
    },
    {
     "name": "stdout",
     "output_type": "stream",
     "text": [
      "Max retries reached. Could not fetch data.\n"
     ]
    },
    {
     "name": "stderr",
     "output_type": "stream",
     "text": [
      "Processing Instances:  20%|██        | 43532/213170 [8:37:54<36:48:25,  1.28it/s] "
     ]
    },
    {
     "name": "stdout",
     "output_type": "stream",
     "text": [
      "Error: 'age'. Retrying after 2 seconds...\n",
      "Error: 'age'. Retrying after 2 seconds...\n",
      "Error: 'age'. Retrying after 2 seconds...\n"
     ]
    },
    {
     "name": "stderr",
     "output_type": "stream",
     "text": [
      "Processing Instances:  20%|██        | 43533/213170 [8:38:05<168:37:30,  3.58s/it]"
     ]
    },
    {
     "name": "stdout",
     "output_type": "stream",
     "text": [
      "Max retries reached. Could not fetch data.\n"
     ]
    },
    {
     "name": "stderr",
     "output_type": "stream",
     "text": [
      "Processing Instances:  20%|██        | 43688/213170 [8:39:48<35:58:09,  1.31it/s] "
     ]
    },
    {
     "name": "stdout",
     "output_type": "stream",
     "text": [
      "Error: 'age'. Retrying after 2 seconds...\n",
      "Error: 'age'. Retrying after 2 seconds...\n",
      "Error: 'age'. Retrying after 2 seconds...\n"
     ]
    },
    {
     "name": "stderr",
     "output_type": "stream",
     "text": [
      "Processing Instances:  20%|██        | 43689/213170 [8:39:58<173:34:32,  3.69s/it]"
     ]
    },
    {
     "name": "stdout",
     "output_type": "stream",
     "text": [
      "Max retries reached. Could not fetch data.\n"
     ]
    },
    {
     "name": "stderr",
     "output_type": "stream",
     "text": [
      "Processing Instances:  21%|██        | 43718/213170 [8:40:19<29:33:15,  1.59it/s] "
     ]
    },
    {
     "name": "stdout",
     "output_type": "stream",
     "text": [
      "Error: 'age'. Retrying after 2 seconds...\n",
      "Error: 'age'. Retrying after 2 seconds...\n",
      "Error: 'age'. Retrying after 2 seconds...\n"
     ]
    },
    {
     "name": "stderr",
     "output_type": "stream",
     "text": [
      "Processing Instances:  21%|██        | 43719/213170 [8:40:29<163:37:12,  3.48s/it]"
     ]
    },
    {
     "name": "stdout",
     "output_type": "stream",
     "text": [
      "Max retries reached. Could not fetch data.\n"
     ]
    },
    {
     "name": "stderr",
     "output_type": "stream",
     "text": [
      "Processing Instances:  21%|██        | 43884/213170 [8:42:10<25:14:38,  1.86it/s] "
     ]
    },
    {
     "name": "stdout",
     "output_type": "stream",
     "text": [
      "Error: 'age'. Retrying after 2 seconds...\n",
      "Error: 'age'. Retrying after 2 seconds...\n",
      "Error: 'age'. Retrying after 2 seconds...\n"
     ]
    },
    {
     "name": "stderr",
     "output_type": "stream",
     "text": [
      "Processing Instances:  21%|██        | 43885/213170 [8:42:20<166:02:46,  3.53s/it]"
     ]
    },
    {
     "name": "stdout",
     "output_type": "stream",
     "text": [
      "Max retries reached. Could not fetch data.\n",
      "Error: 'age'. Retrying after 2 seconds...\n",
      "Error: 'age'. Retrying after 2 seconds...\n",
      "Error: 'age'. Retrying after 2 seconds...\n"
     ]
    },
    {
     "name": "stderr",
     "output_type": "stream",
     "text": [
      "Processing Instances:  21%|██        | 43886/213170 [8:42:31<263:27:56,  5.60s/it]"
     ]
    },
    {
     "name": "stdout",
     "output_type": "stream",
     "text": [
      "Max retries reached. Could not fetch data.\n"
     ]
    },
    {
     "name": "stderr",
     "output_type": "stream",
     "text": [
      "Processing Instances:  21%|██        | 44058/213170 [8:44:17<29:53:27,  1.57it/s] "
     ]
    },
    {
     "name": "stdout",
     "output_type": "stream",
     "text": [
      "Error: 'age'. Retrying after 2 seconds...\n",
      "Error: 'age'. Retrying after 2 seconds...\n",
      "Error: 'age'. Retrying after 2 seconds...\n"
     ]
    },
    {
     "name": "stderr",
     "output_type": "stream",
     "text": [
      "Processing Instances:  21%|██        | 44059/213170 [8:44:27<163:39:34,  3.48s/it]"
     ]
    },
    {
     "name": "stdout",
     "output_type": "stream",
     "text": [
      "Max retries reached. Could not fetch data.\n"
     ]
    },
    {
     "name": "stderr",
     "output_type": "stream",
     "text": [
      "Processing Instances:  21%|██        | 44253/213170 [8:46:32<30:10:41,  1.55it/s] "
     ]
    },
    {
     "name": "stdout",
     "output_type": "stream",
     "text": [
      "Error: 'age'. Retrying after 2 seconds...\n",
      "Error: 'age'. Retrying after 2 seconds...\n",
      "Error: 'age'. Retrying after 2 seconds...\n"
     ]
    },
    {
     "name": "stderr",
     "output_type": "stream",
     "text": [
      "Processing Instances:  21%|██        | 44254/213170 [8:46:43<173:41:20,  3.70s/it]"
     ]
    },
    {
     "name": "stdout",
     "output_type": "stream",
     "text": [
      "Max retries reached. Could not fetch data.\n"
     ]
    },
    {
     "name": "stderr",
     "output_type": "stream",
     "text": [
      "Processing Instances:  21%|██        | 44289/213170 [8:47:04<28:21:48,  1.65it/s] "
     ]
    },
    {
     "name": "stdout",
     "output_type": "stream",
     "text": [
      "Error: 'age'. Retrying after 2 seconds...\n",
      "Error: 'age'. Retrying after 2 seconds...\n",
      "Error: 'age'. Retrying after 2 seconds...\n"
     ]
    },
    {
     "name": "stderr",
     "output_type": "stream",
     "text": [
      "Processing Instances:  21%|██        | 44290/213170 [8:47:15<173:34:00,  3.70s/it]"
     ]
    },
    {
     "name": "stdout",
     "output_type": "stream",
     "text": [
      "Max retries reached. Could not fetch data.\n"
     ]
    },
    {
     "name": "stderr",
     "output_type": "stream",
     "text": [
      "Processing Instances:  21%|██        | 44308/213170 [8:47:25<24:03:11,  1.95it/s] "
     ]
    },
    {
     "name": "stdout",
     "output_type": "stream",
     "text": [
      "Error: 'age'. Retrying after 2 seconds...\n",
      "Error: 'age'. Retrying after 2 seconds...\n",
      "Error: 'age'. Retrying after 2 seconds...\n"
     ]
    },
    {
     "name": "stderr",
     "output_type": "stream",
     "text": [
      "Processing Instances:  21%|██        | 44309/213170 [8:47:35<159:08:37,  3.39s/it]"
     ]
    },
    {
     "name": "stdout",
     "output_type": "stream",
     "text": [
      "Max retries reached. Could not fetch data.\n"
     ]
    },
    {
     "name": "stderr",
     "output_type": "stream",
     "text": [
      "Processing Instances:  21%|██        | 44359/213170 [8:48:08<25:59:19,  1.80it/s] "
     ]
    },
    {
     "name": "stdout",
     "output_type": "stream",
     "text": [
      "Error: 'age'. Retrying after 2 seconds...\n",
      "Error: 'age'. Retrying after 2 seconds...\n",
      "Error: 'age'. Retrying after 2 seconds...\n"
     ]
    },
    {
     "name": "stderr",
     "output_type": "stream",
     "text": [
      "Processing Instances:  21%|██        | 44360/213170 [8:48:18<160:21:39,  3.42s/it]"
     ]
    },
    {
     "name": "stdout",
     "output_type": "stream",
     "text": [
      "Max retries reached. Could not fetch data.\n"
     ]
    },
    {
     "name": "stderr",
     "output_type": "stream",
     "text": [
      "Processing Instances:  21%|██        | 44373/213170 [8:48:27<30:39:17,  1.53it/s] "
     ]
    },
    {
     "name": "stdout",
     "output_type": "stream",
     "text": [
      "Error: 'age'. Retrying after 2 seconds...\n",
      "Error: 'age'. Retrying after 2 seconds...\n",
      "Error: 'age'. Retrying after 2 seconds...\n"
     ]
    },
    {
     "name": "stderr",
     "output_type": "stream",
     "text": [
      "Processing Instances:  21%|██        | 44374/213170 [8:48:37<163:46:07,  3.49s/it]"
     ]
    },
    {
     "name": "stdout",
     "output_type": "stream",
     "text": [
      "Max retries reached. Could not fetch data.\n"
     ]
    },
    {
     "name": "stderr",
     "output_type": "stream",
     "text": [
      "Processing Instances:  21%|██        | 44390/213170 [8:48:49<38:04:22,  1.23it/s] "
     ]
    },
    {
     "name": "stdout",
     "output_type": "stream",
     "text": [
      "Error: 'age'. Retrying after 2 seconds...\n",
      "Error: 'age'. Retrying after 2 seconds...\n",
      "Error: 'age'. Retrying after 2 seconds...\n"
     ]
    },
    {
     "name": "stderr",
     "output_type": "stream",
     "text": [
      "Processing Instances:  21%|██        | 44391/213170 [8:48:59<168:48:56,  3.60s/it]"
     ]
    },
    {
     "name": "stdout",
     "output_type": "stream",
     "text": [
      "Max retries reached. Could not fetch data.\n"
     ]
    },
    {
     "name": "stderr",
     "output_type": "stream",
     "text": [
      "Processing Instances:  21%|██        | 44554/213170 [8:50:46<40:20:27,  1.16it/s] "
     ]
    },
    {
     "name": "stdout",
     "output_type": "stream",
     "text": [
      "Error: 'age'. Retrying after 2 seconds...\n",
      "Error: 'age'. Retrying after 2 seconds...\n",
      "Error: 'age'. Retrying after 2 seconds...\n"
     ]
    },
    {
     "name": "stderr",
     "output_type": "stream",
     "text": [
      "Processing Instances:  21%|██        | 44555/213170 [8:50:56<170:33:26,  3.64s/it]"
     ]
    },
    {
     "name": "stdout",
     "output_type": "stream",
     "text": [
      "Max retries reached. Could not fetch data.\n"
     ]
    },
    {
     "name": "stderr",
     "output_type": "stream",
     "text": [
      "Processing Instances:  21%|██        | 44733/213170 [8:52:50<27:45:01,  1.69it/s] "
     ]
    },
    {
     "name": "stdout",
     "output_type": "stream",
     "text": [
      "Error: 'age'. Retrying after 2 seconds...\n",
      "Error: 'age'. Retrying after 2 seconds...\n",
      "Error: 'age'. Retrying after 2 seconds...\n"
     ]
    },
    {
     "name": "stderr",
     "output_type": "stream",
     "text": [
      "Processing Instances:  21%|██        | 44734/213170 [8:53:01<167:01:55,  3.57s/it]"
     ]
    },
    {
     "name": "stdout",
     "output_type": "stream",
     "text": [
      "Max retries reached. Could not fetch data.\n"
     ]
    },
    {
     "name": "stderr",
     "output_type": "stream",
     "text": [
      "Processing Instances:  21%|██        | 44842/213170 [8:54:06<36:01:24,  1.30it/s] "
     ]
    },
    {
     "name": "stdout",
     "output_type": "stream",
     "text": [
      "Error: 'age'. Retrying after 2 seconds...\n",
      "Error: 'age'. Retrying after 2 seconds...\n",
      "Error: 'age'. Retrying after 2 seconds...\n"
     ]
    },
    {
     "name": "stderr",
     "output_type": "stream",
     "text": [
      "Processing Instances:  21%|██        | 44843/213170 [8:54:16<167:01:47,  3.57s/it]"
     ]
    },
    {
     "name": "stdout",
     "output_type": "stream",
     "text": [
      "Max retries reached. Could not fetch data.\n"
     ]
    },
    {
     "name": "stderr",
     "output_type": "stream",
     "text": [
      "Processing Instances:  21%|██        | 44850/213170 [8:54:21<45:35:33,  1.03it/s] "
     ]
    },
    {
     "name": "stdout",
     "output_type": "stream",
     "text": [
      "Error: 'age'. Retrying after 2 seconds...\n",
      "Error: 'age'. Retrying after 2 seconds...\n",
      "Error: 'age'. Retrying after 2 seconds...\n"
     ]
    },
    {
     "name": "stderr",
     "output_type": "stream",
     "text": [
      "Processing Instances:  21%|██        | 44851/213170 [8:54:31<174:06:20,  3.72s/it]"
     ]
    },
    {
     "name": "stdout",
     "output_type": "stream",
     "text": [
      "Max retries reached. Could not fetch data.\n"
     ]
    },
    {
     "name": "stderr",
     "output_type": "stream",
     "text": [
      "Processing Instances:  21%|██        | 44951/213170 [8:55:37<33:24:35,  1.40it/s] "
     ]
    },
    {
     "name": "stdout",
     "output_type": "stream",
     "text": [
      "Error: 'age'. Retrying after 2 seconds...\n",
      "Error: 'age'. Retrying after 2 seconds...\n",
      "Error: 'age'. Retrying after 2 seconds...\n"
     ]
    },
    {
     "name": "stderr",
     "output_type": "stream",
     "text": [
      "Processing Instances:  21%|██        | 44952/213170 [8:55:47<165:12:47,  3.54s/it]"
     ]
    },
    {
     "name": "stdout",
     "output_type": "stream",
     "text": [
      "Max retries reached. Could not fetch data.\n"
     ]
    },
    {
     "name": "stderr",
     "output_type": "stream",
     "text": [
      "Processing Instances:  21%|██        | 44979/213170 [8:56:06<29:42:38,  1.57it/s] "
     ]
    },
    {
     "name": "stdout",
     "output_type": "stream",
     "text": [
      "Error: 'age'. Retrying after 2 seconds...\n",
      "Error: 'age'. Retrying after 2 seconds...\n",
      "Error: 'age'. Retrying after 2 seconds...\n"
     ]
    },
    {
     "name": "stderr",
     "output_type": "stream",
     "text": [
      "Processing Instances:  21%|██        | 44980/213170 [8:56:16<168:05:35,  3.60s/it]"
     ]
    },
    {
     "name": "stdout",
     "output_type": "stream",
     "text": [
      "Max retries reached. Could not fetch data.\n"
     ]
    },
    {
     "name": "stderr",
     "output_type": "stream",
     "text": [
      "Processing Instances:  21%|██        | 44986/213170 [8:56:20<43:40:04,  1.07it/s] "
     ]
    },
    {
     "name": "stdout",
     "output_type": "stream",
     "text": [
      "Error: 'age'. Retrying after 2 seconds...\n",
      "Error: 'age'. Retrying after 2 seconds...\n",
      "Error: 'age'. Retrying after 2 seconds...\n"
     ]
    },
    {
     "name": "stderr",
     "output_type": "stream",
     "text": [
      "Processing Instances:  21%|██        | 44987/213170 [8:56:30<178:05:08,  3.81s/it]"
     ]
    },
    {
     "name": "stdout",
     "output_type": "stream",
     "text": [
      "Max retries reached. Could not fetch data.\n"
     ]
    },
    {
     "name": "stderr",
     "output_type": "stream",
     "text": [
      "Processing Instances:  21%|██▏       | 45447/213170 [9:01:14<31:47:07,  1.47it/s] "
     ]
    },
    {
     "name": "stdout",
     "output_type": "stream",
     "text": [
      "Error: 'age'. Retrying after 2 seconds...\n",
      "Error: 'age'. Retrying after 2 seconds...\n",
      "Error: 'age'. Retrying after 2 seconds...\n"
     ]
    },
    {
     "name": "stderr",
     "output_type": "stream",
     "text": [
      "Processing Instances:  21%|██▏       | 45448/213170 [9:01:24<163:52:10,  3.52s/it]"
     ]
    },
    {
     "name": "stdout",
     "output_type": "stream",
     "text": [
      "Max retries reached. Could not fetch data.\n"
     ]
    },
    {
     "name": "stderr",
     "output_type": "stream",
     "text": [
      "Processing Instances:  21%|██▏       | 45457/213170 [9:01:31<36:54:53,  1.26it/s] "
     ]
    },
    {
     "name": "stdout",
     "output_type": "stream",
     "text": [
      "Error: 'age'. Retrying after 2 seconds...\n",
      "Error: 'age'. Retrying after 2 seconds...\n",
      "Error: 'age'. Retrying after 2 seconds...\n"
     ]
    },
    {
     "name": "stderr",
     "output_type": "stream",
     "text": [
      "Processing Instances:  21%|██▏       | 45458/213170 [9:01:41<167:26:44,  3.59s/it]"
     ]
    },
    {
     "name": "stdout",
     "output_type": "stream",
     "text": [
      "Max retries reached. Could not fetch data.\n"
     ]
    },
    {
     "name": "stderr",
     "output_type": "stream",
     "text": [
      "Processing Instances:  21%|██▏       | 45604/213170 [9:03:17<34:03:39,  1.37it/s] "
     ]
    },
    {
     "name": "stdout",
     "output_type": "stream",
     "text": [
      "Error: 'age'. Retrying after 2 seconds...\n",
      "Error: 'age'. Retrying after 2 seconds...\n",
      "Error: 'age'. Retrying after 2 seconds...\n"
     ]
    },
    {
     "name": "stderr",
     "output_type": "stream",
     "text": [
      "Processing Instances:  21%|██▏       | 45605/213170 [9:03:27<165:06:51,  3.55s/it]"
     ]
    },
    {
     "name": "stdout",
     "output_type": "stream",
     "text": [
      "Max retries reached. Could not fetch data.\n"
     ]
    },
    {
     "name": "stderr",
     "output_type": "stream",
     "text": [
      "Processing Instances:  21%|██▏       | 45676/213170 [9:04:10<33:25:21,  1.39it/s] "
     ]
    },
    {
     "name": "stdout",
     "output_type": "stream",
     "text": [
      "Error: 'age'. Retrying after 2 seconds...\n",
      "Error: 'age'. Retrying after 2 seconds...\n",
      "Error: 'age'. Retrying after 2 seconds...\n"
     ]
    },
    {
     "name": "stderr",
     "output_type": "stream",
     "text": [
      "Processing Instances:  21%|██▏       | 45677/213170 [9:04:21<169:03:55,  3.63s/it]"
     ]
    },
    {
     "name": "stdout",
     "output_type": "stream",
     "text": [
      "Max retries reached. Could not fetch data.\n"
     ]
    },
    {
     "name": "stderr",
     "output_type": "stream",
     "text": [
      "Processing Instances:  21%|██▏       | 45694/213170 [9:04:32<27:51:41,  1.67it/s] "
     ]
    },
    {
     "name": "stdout",
     "output_type": "stream",
     "text": [
      "Error: 'age'. Retrying after 2 seconds...\n",
      "Error: 'age'. Retrying after 2 seconds...\n",
      "Error: 'age'. Retrying after 2 seconds...\n"
     ]
    },
    {
     "name": "stderr",
     "output_type": "stream",
     "text": [
      "Processing Instances:  21%|██▏       | 45695/213170 [9:04:42<160:34:47,  3.45s/it]"
     ]
    },
    {
     "name": "stdout",
     "output_type": "stream",
     "text": [
      "Max retries reached. Could not fetch data.\n"
     ]
    },
    {
     "name": "stderr",
     "output_type": "stream",
     "text": [
      "Processing Instances:  22%|██▏       | 46324/213170 [9:11:11<26:10:55,  1.77it/s] "
     ]
    },
    {
     "name": "stdout",
     "output_type": "stream",
     "text": [
      "Error: 'age'. Retrying after 2 seconds...\n",
      "Error: 'age'. Retrying after 2 seconds...\n",
      "Error: 'age'. Retrying after 2 seconds...\n"
     ]
    },
    {
     "name": "stderr",
     "output_type": "stream",
     "text": [
      "Processing Instances:  22%|██▏       | 46325/213170 [9:11:21<159:04:12,  3.43s/it]"
     ]
    },
    {
     "name": "stdout",
     "output_type": "stream",
     "text": [
      "Max retries reached. Could not fetch data.\n"
     ]
    },
    {
     "name": "stderr",
     "output_type": "stream",
     "text": [
      "Processing Instances:  22%|██▏       | 46343/213170 [9:11:31<27:09:20,  1.71it/s] "
     ]
    },
    {
     "name": "stdout",
     "output_type": "stream",
     "text": [
      "Error: 'age'. Retrying after 2 seconds...\n",
      "Error: 'age'. Retrying after 2 seconds...\n",
      "Error: 'age'. Retrying after 2 seconds...\n"
     ]
    },
    {
     "name": "stderr",
     "output_type": "stream",
     "text": [
      "Processing Instances:  22%|██▏       | 46344/213170 [9:11:41<164:55:37,  3.56s/it]"
     ]
    },
    {
     "name": "stdout",
     "output_type": "stream",
     "text": [
      "Max retries reached. Could not fetch data.\n"
     ]
    },
    {
     "name": "stderr",
     "output_type": "stream",
     "text": [
      "Processing Instances:  22%|██▏       | 46389/213170 [9:12:08<33:12:46,  1.39it/s] "
     ]
    },
    {
     "name": "stdout",
     "output_type": "stream",
     "text": [
      "Error: 'age'. Retrying after 2 seconds...\n",
      "Error: 'age'. Retrying after 2 seconds...\n",
      "Error: 'age'. Retrying after 2 seconds...\n"
     ]
    },
    {
     "name": "stderr",
     "output_type": "stream",
     "text": [
      "Processing Instances:  22%|██▏       | 46390/213170 [9:12:19<163:44:03,  3.53s/it]"
     ]
    },
    {
     "name": "stdout",
     "output_type": "stream",
     "text": [
      "Max retries reached. Could not fetch data.\n"
     ]
    },
    {
     "name": "stderr",
     "output_type": "stream",
     "text": [
      "Processing Instances:  22%|██▏       | 46970/213170 [9:18:18<31:13:14,  1.48it/s] "
     ]
    },
    {
     "name": "stdout",
     "output_type": "stream",
     "text": [
      "Error: 'age'. Retrying after 2 seconds...\n",
      "Error: 'age'. Retrying after 2 seconds...\n",
      "Error: 'age'. Retrying after 2 seconds...\n"
     ]
    },
    {
     "name": "stderr",
     "output_type": "stream",
     "text": [
      "Processing Instances:  22%|██▏       | 46971/213170 [9:18:28<162:02:47,  3.51s/it]"
     ]
    },
    {
     "name": "stdout",
     "output_type": "stream",
     "text": [
      "Max retries reached. Could not fetch data.\n"
     ]
    },
    {
     "name": "stderr",
     "output_type": "stream",
     "text": [
      "Processing Instances:  22%|██▏       | 46993/213170 [9:18:42<30:35:35,  1.51it/s] "
     ]
    },
    {
     "name": "stdout",
     "output_type": "stream",
     "text": [
      "Error: 'age'. Retrying after 2 seconds...\n",
      "Error: 'age'. Retrying after 2 seconds...\n",
      "Error: 'age'. Retrying after 2 seconds...\n"
     ]
    },
    {
     "name": "stderr",
     "output_type": "stream",
     "text": [
      "Processing Instances:  22%|██▏       | 46994/213170 [9:18:53<167:02:30,  3.62s/it]"
     ]
    },
    {
     "name": "stdout",
     "output_type": "stream",
     "text": [
      "Max retries reached. Could not fetch data.\n"
     ]
    },
    {
     "name": "stderr",
     "output_type": "stream",
     "text": [
      "Processing Instances:  22%|██▏       | 47236/213170 [9:21:23<25:49:30,  1.78it/s] "
     ]
    },
    {
     "name": "stdout",
     "output_type": "stream",
     "text": [
      "Error: 'age'. Retrying after 2 seconds...\n",
      "Error: 'age'. Retrying after 2 seconds...\n",
      "Error: 'age'. Retrying after 2 seconds...\n"
     ]
    },
    {
     "name": "stderr",
     "output_type": "stream",
     "text": [
      "Processing Instances:  22%|██▏       | 47237/213170 [9:21:34<157:58:28,  3.43s/it]"
     ]
    },
    {
     "name": "stdout",
     "output_type": "stream",
     "text": [
      "Max retries reached. Could not fetch data.\n"
     ]
    },
    {
     "name": "stderr",
     "output_type": "stream",
     "text": [
      "Processing Instances:  22%|██▏       | 47258/213170 [9:21:46<24:23:07,  1.89it/s] "
     ]
    },
    {
     "name": "stdout",
     "output_type": "stream",
     "text": [
      "Error: 'age'. Retrying after 2 seconds...\n",
      "Error: 'age'. Retrying after 2 seconds...\n",
      "Error: 'age'. Retrying after 2 seconds...\n"
     ]
    },
    {
     "name": "stderr",
     "output_type": "stream",
     "text": [
      "Processing Instances:  22%|██▏       | 47259/213170 [9:21:56<157:02:11,  3.41s/it]"
     ]
    },
    {
     "name": "stdout",
     "output_type": "stream",
     "text": [
      "Max retries reached. Could not fetch data.\n"
     ]
    },
    {
     "name": "stderr",
     "output_type": "stream",
     "text": [
      "Processing Instances:  22%|██▏       | 47354/213170 [9:22:57<29:04:57,  1.58it/s] "
     ]
    },
    {
     "name": "stdout",
     "output_type": "stream",
     "text": [
      "Error: 'age'. Retrying after 2 seconds...\n",
      "Error: 'age'. Retrying after 2 seconds...\n",
      "Error: 'age'. Retrying after 2 seconds...\n"
     ]
    },
    {
     "name": "stderr",
     "output_type": "stream",
     "text": [
      "Processing Instances:  22%|██▏       | 47355/213170 [9:23:07<160:13:47,  3.48s/it]"
     ]
    },
    {
     "name": "stdout",
     "output_type": "stream",
     "text": [
      "Max retries reached. Could not fetch data.\n"
     ]
    },
    {
     "name": "stderr",
     "output_type": "stream",
     "text": [
      "Processing Instances:  22%|██▏       | 47516/213170 [9:24:52<26:18:54,  1.75it/s] "
     ]
    },
    {
     "name": "stdout",
     "output_type": "stream",
     "text": [
      "Error: 'age'. Retrying after 2 seconds...\n",
      "Error: 'age'. Retrying after 2 seconds...\n",
      "Error: 'age'. Retrying after 2 seconds...\n"
     ]
    },
    {
     "name": "stderr",
     "output_type": "stream",
     "text": [
      "Processing Instances:  22%|██▏       | 47517/213170 [9:25:04<182:03:33,  3.96s/it]"
     ]
    },
    {
     "name": "stdout",
     "output_type": "stream",
     "text": [
      "Max retries reached. Could not fetch data.\n"
     ]
    },
    {
     "name": "stderr",
     "output_type": "stream",
     "text": [
      "Processing Instances:  23%|██▎       | 48293/213170 [9:33:09<32:35:52,  1.40it/s] "
     ]
    },
    {
     "name": "stdout",
     "output_type": "stream",
     "text": [
      "Error: 'age'. Retrying after 2 seconds...\n",
      "Error: 'age'. Retrying after 2 seconds...\n",
      "Error: 'age'. Retrying after 2 seconds...\n"
     ]
    },
    {
     "name": "stderr",
     "output_type": "stream",
     "text": [
      "Processing Instances:  23%|██▎       | 48294/213170 [9:33:19<161:46:40,  3.53s/it]"
     ]
    },
    {
     "name": "stdout",
     "output_type": "stream",
     "text": [
      "Max retries reached. Could not fetch data.\n"
     ]
    },
    {
     "name": "stderr",
     "output_type": "stream",
     "text": [
      "Processing Instances:  23%|██▎       | 48361/213170 [9:34:04<34:44:31,  1.32it/s] "
     ]
    },
    {
     "name": "stdout",
     "output_type": "stream",
     "text": [
      "Error: 'age'. Retrying after 2 seconds...\n",
      "Error: 'age'. Retrying after 2 seconds...\n",
      "Error: 'age'. Retrying after 2 seconds...\n"
     ]
    },
    {
     "name": "stderr",
     "output_type": "stream",
     "text": [
      "Processing Instances:  23%|██▎       | 48362/213170 [9:34:14<163:38:19,  3.57s/it]"
     ]
    },
    {
     "name": "stdout",
     "output_type": "stream",
     "text": [
      "Max retries reached. Could not fetch data.\n"
     ]
    },
    {
     "name": "stderr",
     "output_type": "stream",
     "text": [
      "Processing Instances:  23%|██▎       | 48393/213170 [9:34:35<30:51:45,  1.48it/s] "
     ]
    },
    {
     "name": "stdout",
     "output_type": "stream",
     "text": [
      "Error: 'age'. Retrying after 2 seconds...\n",
      "Error: 'age'. Retrying after 2 seconds...\n",
      "Error: 'age'. Retrying after 2 seconds...\n"
     ]
    },
    {
     "name": "stderr",
     "output_type": "stream",
     "text": [
      "Processing Instances:  23%|██▎       | 48394/213170 [9:34:45<166:19:03,  3.63s/it]"
     ]
    },
    {
     "name": "stdout",
     "output_type": "stream",
     "text": [
      "Max retries reached. Could not fetch data.\n"
     ]
    },
    {
     "name": "stderr",
     "output_type": "stream",
     "text": [
      "Processing Instances:  23%|██▎       | 48778/213170 [9:38:49<27:22:54,  1.67it/s] "
     ]
    },
    {
     "name": "stdout",
     "output_type": "stream",
     "text": [
      "Error: 'age'. Retrying after 2 seconds...\n",
      "Error: 'age'. Retrying after 2 seconds...\n",
      "Error: 'age'. Retrying after 2 seconds...\n"
     ]
    },
    {
     "name": "stderr",
     "output_type": "stream",
     "text": [
      "Processing Instances:  23%|██▎       | 48779/213170 [9:38:59<157:52:52,  3.46s/it]"
     ]
    },
    {
     "name": "stdout",
     "output_type": "stream",
     "text": [
      "Max retries reached. Could not fetch data.\n"
     ]
    },
    {
     "name": "stderr",
     "output_type": "stream",
     "text": [
      "Processing Instances:  23%|██▎       | 48780/213170 [9:39:00<122:45:29,  2.69s/it]"
     ]
    },
    {
     "name": "stdout",
     "output_type": "stream",
     "text": [
      "Error: 'age'. Retrying after 2 seconds...\n",
      "Error: 'age'. Retrying after 2 seconds...\n",
      "Error: 'age'. Retrying after 2 seconds...\n"
     ]
    },
    {
     "name": "stderr",
     "output_type": "stream",
     "text": [
      "Processing Instances:  23%|██▎       | 48781/213170 [9:39:11<229:59:20,  5.04s/it]"
     ]
    },
    {
     "name": "stdout",
     "output_type": "stream",
     "text": [
      "Max retries reached. Could not fetch data.\n"
     ]
    },
    {
     "name": "stderr",
     "output_type": "stream",
     "text": [
      "Processing Instances:  23%|██▎       | 48794/213170 [9:39:19<31:43:13,  1.44it/s] "
     ]
    },
    {
     "name": "stdout",
     "output_type": "stream",
     "text": [
      "Error: 'age'. Retrying after 2 seconds...\n",
      "Error: 'age'. Retrying after 2 seconds...\n",
      "Error: 'age'. Retrying after 2 seconds...\n"
     ]
    },
    {
     "name": "stderr",
     "output_type": "stream",
     "text": [
      "Processing Instances:  23%|██▎       | 48795/213170 [9:39:29<161:03:13,  3.53s/it]"
     ]
    },
    {
     "name": "stdout",
     "output_type": "stream",
     "text": [
      "Max retries reached. Could not fetch data.\n"
     ]
    },
    {
     "name": "stderr",
     "output_type": "stream",
     "text": [
      "Processing Instances:  23%|██▎       | 48802/213170 [9:39:33<36:05:45,  1.26it/s] "
     ]
    },
    {
     "name": "stdout",
     "output_type": "stream",
     "text": [
      "Error: 'age'. Retrying after 2 seconds...\n",
      "Error: 'age'. Retrying after 2 seconds...\n",
      "Error: 'age'. Retrying after 2 seconds...\n"
     ]
    },
    {
     "name": "stderr",
     "output_type": "stream",
     "text": [
      "Processing Instances:  23%|██▎       | 48803/213170 [9:39:44<169:07:02,  3.70s/it]"
     ]
    },
    {
     "name": "stdout",
     "output_type": "stream",
     "text": [
      "Max retries reached. Could not fetch data.\n"
     ]
    },
    {
     "name": "stderr",
     "output_type": "stream",
     "text": [
      "Processing Instances:  23%|██▎       | 48877/213170 [9:40:31<34:00:49,  1.34it/s] "
     ]
    },
    {
     "name": "stdout",
     "output_type": "stream",
     "text": [
      "Error: 'age'. Retrying after 2 seconds...\n",
      "Error: 'age'. Retrying after 2 seconds...\n",
      "Error: 'age'. Retrying after 2 seconds...\n"
     ]
    },
    {
     "name": "stderr",
     "output_type": "stream",
     "text": [
      "Processing Instances:  23%|██▎       | 48878/213170 [9:40:42<167:37:10,  3.67s/it]"
     ]
    },
    {
     "name": "stdout",
     "output_type": "stream",
     "text": [
      "Max retries reached. Could not fetch data.\n"
     ]
    },
    {
     "name": "stderr",
     "output_type": "stream",
     "text": [
      "Processing Instances:  23%|██▎       | 49051/213170 [9:42:30<26:49:21,  1.70it/s] "
     ]
    },
    {
     "name": "stdout",
     "output_type": "stream",
     "text": [
      "Error: 'age'. Retrying after 2 seconds...\n",
      "Error: 'age'. Retrying after 2 seconds...\n",
      "Error: 'age'. Retrying after 2 seconds...\n"
     ]
    },
    {
     "name": "stderr",
     "output_type": "stream",
     "text": [
      "Processing Instances:  23%|██▎       | 49052/213170 [9:42:40<157:34:41,  3.46s/it]"
     ]
    },
    {
     "name": "stdout",
     "output_type": "stream",
     "text": [
      "Max retries reached. Could not fetch data.\n"
     ]
    },
    {
     "name": "stderr",
     "output_type": "stream",
     "text": [
      "Processing Instances:  23%|██▎       | 49086/213170 [9:42:59<23:17:32,  1.96it/s] "
     ]
    },
    {
     "name": "stdout",
     "output_type": "stream",
     "text": [
      "Error: 'age'. Retrying after 2 seconds...\n",
      "Error: 'age'. Retrying after 2 seconds...\n",
      "Error: 'age'. Retrying after 2 seconds...\n"
     ]
    },
    {
     "name": "stderr",
     "output_type": "stream",
     "text": [
      "Processing Instances:  23%|██▎       | 49087/213170 [9:43:09<154:30:40,  3.39s/it]"
     ]
    },
    {
     "name": "stdout",
     "output_type": "stream",
     "text": [
      "Max retries reached. Could not fetch data.\n"
     ]
    },
    {
     "name": "stderr",
     "output_type": "stream",
     "text": [
      "Processing Instances:  23%|██▎       | 49521/213170 [9:47:36<29:25:40,  1.54it/s] "
     ]
    },
    {
     "name": "stdout",
     "output_type": "stream",
     "text": [
      "Error: 'age'. Retrying after 2 seconds...\n",
      "Error: 'age'. Retrying after 2 seconds...\n",
      "Error: 'age'. Retrying after 2 seconds...\n"
     ]
    },
    {
     "name": "stderr",
     "output_type": "stream",
     "text": [
      "Processing Instances:  23%|██▎       | 49522/213170 [9:47:46<158:32:09,  3.49s/it]"
     ]
    },
    {
     "name": "stdout",
     "output_type": "stream",
     "text": [
      "Max retries reached. Could not fetch data.\n"
     ]
    },
    {
     "name": "stderr",
     "output_type": "stream",
     "text": [
      "Processing Instances:  23%|██▎       | 49665/213170 [9:49:13<27:37:55,  1.64it/s] "
     ]
    },
    {
     "name": "stdout",
     "output_type": "stream",
     "text": [
      "Error: 'age'. Retrying after 2 seconds...\n",
      "Error: 'age'. Retrying after 2 seconds...\n",
      "Error: 'age'. Retrying after 2 seconds...\n"
     ]
    },
    {
     "name": "stderr",
     "output_type": "stream",
     "text": [
      "Processing Instances:  23%|██▎       | 49666/213170 [9:49:23<157:11:32,  3.46s/it]"
     ]
    },
    {
     "name": "stdout",
     "output_type": "stream",
     "text": [
      "Max retries reached. Could not fetch data.\n"
     ]
    },
    {
     "name": "stderr",
     "output_type": "stream",
     "text": [
      "Processing Instances:  23%|██▎       | 49746/213170 [9:50:09<23:00:11,  1.97it/s] "
     ]
    },
    {
     "name": "stdout",
     "output_type": "stream",
     "text": [
      "Error: 'age'. Retrying after 2 seconds...\n",
      "Error: 'age'. Retrying after 2 seconds...\n",
      "Error: 'age'. Retrying after 2 seconds...\n"
     ]
    },
    {
     "name": "stderr",
     "output_type": "stream",
     "text": [
      "Processing Instances:  23%|██▎       | 49747/213170 [9:50:20<153:50:12,  3.39s/it]"
     ]
    },
    {
     "name": "stdout",
     "output_type": "stream",
     "text": [
      "Max retries reached. Could not fetch data.\n"
     ]
    },
    {
     "name": "stderr",
     "output_type": "stream",
     "text": [
      "Processing Instances:  23%|██▎       | 49860/213170 [9:51:32<31:41:35,  1.43it/s] "
     ]
    },
    {
     "name": "stdout",
     "output_type": "stream",
     "text": [
      "Error: 'age'. Retrying after 2 seconds...\n",
      "Error: 'age'. Retrying after 2 seconds...\n",
      "Error: 'age'. Retrying after 2 seconds...\n"
     ]
    },
    {
     "name": "stderr",
     "output_type": "stream",
     "text": [
      "Processing Instances:  23%|██▎       | 49861/213170 [9:51:42<159:49:04,  3.52s/it]"
     ]
    },
    {
     "name": "stdout",
     "output_type": "stream",
     "text": [
      "Max retries reached. Could not fetch data.\n"
     ]
    },
    {
     "name": "stderr",
     "output_type": "stream",
     "text": [
      "Processing Instances:  23%|██▎       | 49906/213170 [9:52:10<31:56:47,  1.42it/s] "
     ]
    },
    {
     "name": "stdout",
     "output_type": "stream",
     "text": [
      "Error: 'age'. Retrying after 2 seconds...\n",
      "Error: 'age'. Retrying after 2 seconds...\n",
      "Error: 'age'. Retrying after 2 seconds...\n"
     ]
    },
    {
     "name": "stderr",
     "output_type": "stream",
     "text": [
      "Processing Instances:  23%|██▎       | 49907/213170 [9:52:21<165:21:16,  3.65s/it]"
     ]
    },
    {
     "name": "stdout",
     "output_type": "stream",
     "text": [
      "Max retries reached. Could not fetch data.\n"
     ]
    },
    {
     "name": "stderr",
     "output_type": "stream",
     "text": [
      "Processing Instances:  23%|██▎       | 49925/213170 [9:52:33<24:34:52,  1.84it/s] "
     ]
    },
    {
     "name": "stdout",
     "output_type": "stream",
     "text": [
      "Error: 'age'. Retrying after 2 seconds...\n",
      "Error: 'age'. Retrying after 2 seconds...\n",
      "Error: 'age'. Retrying after 2 seconds...\n"
     ]
    },
    {
     "name": "stderr",
     "output_type": "stream",
     "text": [
      "Processing Instances:  23%|██▎       | 49926/213170 [9:52:43<155:06:19,  3.42s/it]"
     ]
    },
    {
     "name": "stdout",
     "output_type": "stream",
     "text": [
      "Max retries reached. Could not fetch data.\n"
     ]
    },
    {
     "name": "stderr",
     "output_type": "stream",
     "text": [
      "Processing Instances:  23%|██▎       | 49927/213170 [9:52:43<115:33:55,  2.55s/it]"
     ]
    },
    {
     "name": "stdout",
     "output_type": "stream",
     "text": [
      "Error: 'age'. Retrying after 2 seconds...\n",
      "Error: 'age'. Retrying after 2 seconds...\n",
      "Error: 'age'. Retrying after 2 seconds...\n"
     ]
    },
    {
     "name": "stderr",
     "output_type": "stream",
     "text": [
      "Processing Instances:  23%|██▎       | 49928/213170 [9:52:53<218:23:23,  4.82s/it]"
     ]
    },
    {
     "name": "stdout",
     "output_type": "stream",
     "text": [
      "Max retries reached. Could not fetch data.\n"
     ]
    },
    {
     "name": "stderr",
     "output_type": "stream",
     "text": [
      "Processing Instances:  23%|██▎       | 49968/213170 [9:53:22<29:18:28,  1.55it/s] "
     ]
    },
    {
     "name": "stdout",
     "output_type": "stream",
     "text": [
      "Error: 'age'. Retrying after 2 seconds...\n",
      "Error: 'age'. Retrying after 2 seconds...\n",
      "Error: 'age'. Retrying after 2 seconds...\n"
     ]
    },
    {
     "name": "stderr",
     "output_type": "stream",
     "text": [
      "Processing Instances:  23%|██▎       | 49969/213170 [9:53:33<163:15:28,  3.60s/it]"
     ]
    },
    {
     "name": "stdout",
     "output_type": "stream",
     "text": [
      "Max retries reached. Could not fetch data.\n"
     ]
    },
    {
     "name": "stderr",
     "output_type": "stream",
     "text": [
      "Processing Instances:  24%|██▎       | 50172/213170 [9:55:40<35:55:55,  1.26it/s] "
     ]
    },
    {
     "name": "stdout",
     "output_type": "stream",
     "text": [
      "Error: 'age'. Retrying after 2 seconds...\n",
      "Error: 'age'. Retrying after 2 seconds...\n",
      "Error: 'age'. Retrying after 2 seconds...\n"
     ]
    },
    {
     "name": "stderr",
     "output_type": "stream",
     "text": [
      "Processing Instances:  24%|██▎       | 50173/213170 [9:55:50<162:36:15,  3.59s/it]"
     ]
    },
    {
     "name": "stdout",
     "output_type": "stream",
     "text": [
      "Max retries reached. Could not fetch data.\n"
     ]
    },
    {
     "name": "stderr",
     "output_type": "stream",
     "text": [
      "Processing Instances:  24%|██▍       | 50632/213170 [10:00:51<26:01:47,  1.73it/s]"
     ]
    },
    {
     "name": "stdout",
     "output_type": "stream",
     "text": [
      "Error: 'age'. Retrying after 2 seconds...\n",
      "Error: 'age'. Retrying after 2 seconds...\n",
      "Error: 'age'. Retrying after 2 seconds...\n"
     ]
    },
    {
     "name": "stderr",
     "output_type": "stream",
     "text": [
      "Processing Instances:  24%|██▍       | 50633/213170 [10:01:01<155:31:22,  3.44s/it]"
     ]
    },
    {
     "name": "stdout",
     "output_type": "stream",
     "text": [
      "Max retries reached. Could not fetch data.\n"
     ]
    },
    {
     "name": "stderr",
     "output_type": "stream",
     "text": [
      "Processing Instances:  24%|██▍       | 50774/213170 [10:02:32<27:46:19,  1.62it/s] "
     ]
    },
    {
     "name": "stdout",
     "output_type": "stream",
     "text": [
      "Error: 'age'. Retrying after 2 seconds...\n",
      "Error: 'age'. Retrying after 2 seconds...\n",
      "Error: 'age'. Retrying after 2 seconds...\n"
     ]
    },
    {
     "name": "stderr",
     "output_type": "stream",
     "text": [
      "Processing Instances:  24%|██▍       | 50775/213170 [10:02:42<156:12:59,  3.46s/it]"
     ]
    },
    {
     "name": "stdout",
     "output_type": "stream",
     "text": [
      "Max retries reached. Could not fetch data.\n"
     ]
    },
    {
     "name": "stderr",
     "output_type": "stream",
     "text": [
      "Processing Instances:  24%|██▍       | 50870/213170 [10:03:41<31:18:22,  1.44it/s] "
     ]
    },
    {
     "name": "stdout",
     "output_type": "stream",
     "text": [
      "Error: 'age'. Retrying after 2 seconds...\n",
      "Error: 'age'. Retrying after 2 seconds...\n",
      "Error: 'age'. Retrying after 2 seconds...\n"
     ]
    },
    {
     "name": "stderr",
     "output_type": "stream",
     "text": [
      "Processing Instances:  24%|██▍       | 50871/213170 [10:03:51<158:39:17,  3.52s/it]"
     ]
    },
    {
     "name": "stdout",
     "output_type": "stream",
     "text": [
      "Max retries reached. Could not fetch data.\n"
     ]
    },
    {
     "name": "stderr",
     "output_type": "stream",
     "text": [
      "Processing Instances:  24%|██▍       | 50874/213170 [10:03:54<76:23:02,  1.69s/it] "
     ]
    },
    {
     "name": "stdout",
     "output_type": "stream",
     "text": [
      "Error: 'age'. Retrying after 2 seconds...\n",
      "Error: 'age'. Retrying after 2 seconds...\n",
      "Error: 'age'. Retrying after 2 seconds...\n"
     ]
    },
    {
     "name": "stderr",
     "output_type": "stream",
     "text": [
      "Processing Instances:  24%|██▍       | 50875/213170 [10:04:04<190:13:38,  4.22s/it]"
     ]
    },
    {
     "name": "stdout",
     "output_type": "stream",
     "text": [
      "Max retries reached. Could not fetch data.\n"
     ]
    },
    {
     "name": "stderr",
     "output_type": "stream",
     "text": [
      "Processing Instances:  24%|██▍       | 50877/213170 [10:04:06<113:39:55,  2.52s/it]"
     ]
    },
    {
     "name": "stdout",
     "output_type": "stream",
     "text": [
      "Error: 'age'. Retrying after 2 seconds...\n",
      "Error: 'age'. Retrying after 2 seconds...\n",
      "Error: 'age'. Retrying after 2 seconds...\n"
     ]
    },
    {
     "name": "stderr",
     "output_type": "stream",
     "text": [
      "Processing Instances:  24%|██▍       | 50878/213170 [10:04:16<216:12:19,  4.80s/it]"
     ]
    },
    {
     "name": "stdout",
     "output_type": "stream",
     "text": [
      "Max retries reached. Could not fetch data.\n"
     ]
    },
    {
     "name": "stderr",
     "output_type": "stream",
     "text": [
      "Processing Instances:  24%|██▍       | 50888/213170 [10:04:22<34:54:14,  1.29it/s] "
     ]
    },
    {
     "name": "stdout",
     "output_type": "stream",
     "text": [
      "Error: 'age'. Retrying after 2 seconds...\n",
      "Error: 'age'. Retrying after 2 seconds...\n",
      "Error: 'age'. Retrying after 2 seconds...\n"
     ]
    },
    {
     "name": "stderr",
     "output_type": "stream",
     "text": [
      "Processing Instances:  24%|██▍       | 50889/213170 [10:04:33<161:19:13,  3.58s/it]"
     ]
    },
    {
     "name": "stdout",
     "output_type": "stream",
     "text": [
      "Max retries reached. Could not fetch data.\n"
     ]
    },
    {
     "name": "stderr",
     "output_type": "stream",
     "text": [
      "Processing Instances:  24%|██▍       | 50894/213170 [10:04:35<46:19:41,  1.03s/it] "
     ]
    },
    {
     "name": "stdout",
     "output_type": "stream",
     "text": [
      "Error: 'age'. Retrying after 2 seconds...\n",
      "Error: 'age'. Retrying after 2 seconds...\n",
      "Error: 'age'. Retrying after 2 seconds...\n"
     ]
    },
    {
     "name": "stderr",
     "output_type": "stream",
     "text": [
      "Processing Instances:  24%|██▍       | 50895/213170 [10:04:45<169:09:53,  3.75s/it]"
     ]
    },
    {
     "name": "stdout",
     "output_type": "stream",
     "text": [
      "Max retries reached. Could not fetch data.\n"
     ]
    },
    {
     "name": "stderr",
     "output_type": "stream",
     "text": [
      "Processing Instances:  24%|██▍       | 50908/213170 [10:04:55<31:38:42,  1.42it/s] "
     ]
    },
    {
     "name": "stdout",
     "output_type": "stream",
     "text": [
      "Error: 'age'. Retrying after 2 seconds...\n",
      "Error: 'age'. Retrying after 2 seconds...\n",
      "Error: 'age'. Retrying after 2 seconds...\n"
     ]
    },
    {
     "name": "stderr",
     "output_type": "stream",
     "text": [
      "Processing Instances:  24%|██▍       | 50909/213170 [10:05:05<164:09:56,  3.64s/it]"
     ]
    },
    {
     "name": "stdout",
     "output_type": "stream",
     "text": [
      "Max retries reached. Could not fetch data.\n"
     ]
    },
    {
     "name": "stderr",
     "output_type": "stream",
     "text": [
      "Processing Instances:  24%|██▍       | 50937/213170 [10:05:25<29:51:11,  1.51it/s] "
     ]
    },
    {
     "name": "stdout",
     "output_type": "stream",
     "text": [
      "Error: 'age'. Retrying after 2 seconds...\n",
      "Error: 'age'. Retrying after 2 seconds...\n",
      "Error: 'age'. Retrying after 2 seconds...\n"
     ]
    },
    {
     "name": "stderr",
     "output_type": "stream",
     "text": [
      "Processing Instances:  24%|██▍       | 50938/213170 [10:05:35<157:34:02,  3.50s/it]"
     ]
    },
    {
     "name": "stdout",
     "output_type": "stream",
     "text": [
      "Max retries reached. Could not fetch data.\n"
     ]
    },
    {
     "name": "stderr",
     "output_type": "stream",
     "text": [
      "Processing Instances:  24%|██▍       | 50993/213170 [10:06:15<25:44:17,  1.75it/s] "
     ]
    },
    {
     "name": "stdout",
     "output_type": "stream",
     "text": [
      "Error: 'age'. Retrying after 2 seconds...\n",
      "Error: 'age'. Retrying after 2 seconds...\n",
      "Error: 'age'. Retrying after 2 seconds...\n"
     ]
    },
    {
     "name": "stderr",
     "output_type": "stream",
     "text": [
      "Processing Instances:  24%|██▍       | 50994/213170 [10:06:26<154:34:53,  3.43s/it]"
     ]
    },
    {
     "name": "stdout",
     "output_type": "stream",
     "text": [
      "Max retries reached. Could not fetch data.\n"
     ]
    },
    {
     "name": "stderr",
     "output_type": "stream",
     "text": [
      "Processing Instances:  24%|██▍       | 51094/213170 [10:07:31<32:35:10,  1.38it/s] "
     ]
    },
    {
     "name": "stdout",
     "output_type": "stream",
     "text": [
      "Error: 'age'. Retrying after 2 seconds...\n",
      "Error: 'age'. Retrying after 2 seconds...\n",
      "Error: 'age'. Retrying after 2 seconds...\n"
     ]
    },
    {
     "name": "stderr",
     "output_type": "stream",
     "text": [
      "Processing Instances:  24%|██▍       | 51095/213170 [10:07:41<159:27:10,  3.54s/it]"
     ]
    },
    {
     "name": "stdout",
     "output_type": "stream",
     "text": [
      "Max retries reached. Could not fetch data.\n"
     ]
    },
    {
     "name": "stderr",
     "output_type": "stream",
     "text": [
      "Processing Instances:  24%|██▍       | 51383/213170 [10:10:41<29:41:36,  1.51it/s] "
     ]
    },
    {
     "name": "stdout",
     "output_type": "stream",
     "text": [
      "Error: 'age'. Retrying after 2 seconds...\n",
      "Error: 'age'. Retrying after 2 seconds...\n",
      "Error: 'age'. Retrying after 2 seconds...\n"
     ]
    }
   ],
   "source": [
    "age_mapping = subset_get_age(wrong_age_subset)"
   ]
  },
  {
   "cell_type": "code",
   "execution_count": 66,
   "id": "4dcc83d7-34c8-4ff7-a75f-1060e34b1cc7",
   "metadata": {
    "tags": []
   },
   "outputs": [
    {
     "data": {
      "text/plain": [
       "213170"
      ]
     },
     "execution_count": 66,
     "metadata": {},
     "output_type": "execute_result"
    }
   ],
   "source": [
    "len(age_mapping)"
   ]
  },
  {
   "cell_type": "code",
   "execution_count": 74,
   "id": "ad12f0db-2128-423c-84c9-c9a90f120e5d",
   "metadata": {},
   "outputs": [
    {
     "data": {
      "text/html": [
       "<div>\n",
       "<style scoped>\n",
       "    .dataframe tbody tr th:only-of-type {\n",
       "        vertical-align: middle;\n",
       "    }\n",
       "\n",
       "    .dataframe tbody tr th {\n",
       "        vertical-align: top;\n",
       "    }\n",
       "\n",
       "    .dataframe thead th {\n",
       "        text-align: right;\n",
       "    }\n",
       "</style>\n",
       "<table border=\"1\" class=\"dataframe\">\n",
       "  <thead>\n",
       "    <tr style=\"text-align: right;\">\n",
       "      <th></th>\n",
       "      <th>subclass</th>\n",
       "      <th>instance</th>\n",
       "      <th>gender</th>\n",
       "      <th>age</th>\n",
       "      <th>birthYear</th>\n",
       "      <th>publication_year</th>\n",
       "      <th>wikiDataID</th>\n",
       "    </tr>\n",
       "  </thead>\n",
       "  <tbody>\n",
       "    <tr>\n",
       "      <th>417884</th>\n",
       "      <td>Artist</td>\n",
       "      <td>!PAUS3</td>\n",
       "      <td>male</td>\n",
       "      <td>43.0</td>\n",
       "      <td>NaN</td>\n",
       "      <td>2011.0</td>\n",
       "      <td>Q3466056</td>\n",
       "    </tr>\n",
       "    <tr>\n",
       "      <th>417885</th>\n",
       "      <td>Artist</td>\n",
       "      <td>$pacely</td>\n",
       "      <td>male</td>\n",
       "      <td>32.0</td>\n",
       "      <td>NaN</td>\n",
       "      <td>2018.0</td>\n",
       "      <td>Q73507574</td>\n",
       "    </tr>\n",
       "    <tr>\n",
       "      <th>38134</th>\n",
       "      <td>Criminal</td>\n",
       "      <td>%22Baby_Lollipops%22_murder</td>\n",
       "      <td>NaN</td>\n",
       "      <td>63.0</td>\n",
       "      <td>NaN</td>\n",
       "      <td>2023.0</td>\n",
       "      <td>Q64875934</td>\n",
       "    </tr>\n",
       "    <tr>\n",
       "      <th>417886</th>\n",
       "      <td>Artist</td>\n",
       "      <td>%22Bassy%22_Bob_Brockmann</td>\n",
       "      <td>male</td>\n",
       "      <td>62.0</td>\n",
       "      <td>NaN</td>\n",
       "      <td>2013.0</td>\n",
       "      <td>Q13416958</td>\n",
       "    </tr>\n",
       "    <tr>\n",
       "      <th>537884</th>\n",
       "      <td>Politician</td>\n",
       "      <td>%22Big%22_Donnie_MacLeod</td>\n",
       "      <td>male</td>\n",
       "      <td>75.0</td>\n",
       "      <td>NaN</td>\n",
       "      <td>2014.0</td>\n",
       "      <td>Q18645783</td>\n",
       "    </tr>\n",
       "    <tr>\n",
       "      <th>...</th>\n",
       "      <td>...</td>\n",
       "      <td>...</td>\n",
       "      <td>...</td>\n",
       "      <td>...</td>\n",
       "      <td>...</td>\n",
       "      <td>...</td>\n",
       "      <td>...</td>\n",
       "    </tr>\n",
       "    <tr>\n",
       "      <th>102470</th>\n",
       "      <td>Royalty</td>\n",
       "      <td>Ḫarapšili</td>\n",
       "      <td>female</td>\n",
       "      <td>3574.0</td>\n",
       "      <td>NaN</td>\n",
       "      <td>2012.0</td>\n",
       "      <td>Q742087</td>\n",
       "    </tr>\n",
       "    <tr>\n",
       "      <th>102471</th>\n",
       "      <td>Royalty</td>\n",
       "      <td>Ḫattušili_III</td>\n",
       "      <td>male</td>\n",
       "      <td>0.0</td>\n",
       "      <td>NaN</td>\n",
       "      <td>2004.0</td>\n",
       "      <td>Q297588</td>\n",
       "    </tr>\n",
       "    <tr>\n",
       "      <th>26705</th>\n",
       "      <td>Religious</td>\n",
       "      <td>Ṭhānissaro_Bhikkhu</td>\n",
       "      <td>male</td>\n",
       "      <td>75.0</td>\n",
       "      <td>NaN</td>\n",
       "      <td>2006.0</td>\n",
       "      <td>Q7710407</td>\n",
       "    </tr>\n",
       "    <tr>\n",
       "      <th>102472</th>\n",
       "      <td>Royalty</td>\n",
       "      <td>Ỷ_Lan</td>\n",
       "      <td>female</td>\n",
       "      <td>67.0</td>\n",
       "      <td>NaN</td>\n",
       "      <td>2010.0</td>\n",
       "      <td>Q10843033</td>\n",
       "    </tr>\n",
       "    <tr>\n",
       "      <th>102473</th>\n",
       "      <td>Royalty</td>\n",
       "      <td>‘Ulayya_bint_al-Mahdī</td>\n",
       "      <td>NaN</td>\n",
       "      <td>-1.0</td>\n",
       "      <td>NaN</td>\n",
       "      <td>2019.0</td>\n",
       "      <td>NaN</td>\n",
       "    </tr>\n",
       "  </tbody>\n",
       "</table>\n",
       "<p>791004 rows × 7 columns</p>\n",
       "</div>"
      ],
      "text/plain": [
       "          subclass                     instance  gender     age  birthYear  \\\n",
       "417884      Artist                       !PAUS3    male    43.0        NaN   \n",
       "417885      Artist                      $pacely    male    32.0        NaN   \n",
       "38134     Criminal  %22Baby_Lollipops%22_murder     NaN    63.0        NaN   \n",
       "417886      Artist    %22Bassy%22_Bob_Brockmann    male    62.0        NaN   \n",
       "537884  Politician     %22Big%22_Donnie_MacLeod    male    75.0        NaN   \n",
       "...            ...                          ...     ...     ...        ...   \n",
       "102470     Royalty                    Ḫarapšili  female  3574.0        NaN   \n",
       "102471     Royalty                Ḫattušili_III    male     0.0        NaN   \n",
       "26705    Religious           Ṭhānissaro_Bhikkhu    male    75.0        NaN   \n",
       "102472     Royalty                        Ỷ_Lan  female    67.0        NaN   \n",
       "102473     Royalty        ‘Ulayya_bint_al-Mahdī     NaN    -1.0        NaN   \n",
       "\n",
       "        publication_year wikiDataID  \n",
       "417884            2011.0   Q3466056  \n",
       "417885            2018.0  Q73507574  \n",
       "38134             2023.0  Q64875934  \n",
       "417886            2013.0  Q13416958  \n",
       "537884            2014.0  Q18645783  \n",
       "...                  ...        ...  \n",
       "102470            2012.0    Q742087  \n",
       "102471            2004.0    Q297588  \n",
       "26705             2006.0   Q7710407  \n",
       "102472            2010.0  Q10843033  \n",
       "102473            2019.0        NaN  \n",
       "\n",
       "[791004 rows x 7 columns]"
      ]
     },
     "execution_count": 74,
     "metadata": {},
     "output_type": "execute_result"
    }
   ],
   "source": [
    "# Define function to get the correct age using WikidataID\n",
    "def get_correct_age(row, mapping):\n",
    "    key = (row['instance'], row['wikiDataID'])\n",
    "    if row['age'] == 0:\n",
    "        row['age'] = -1      #reassign all age == 0 in the initial df to -1 so that we can distigush distinguish intances with actual age = 0\n",
    "    return mapping.get(key, row['age'])  # Fallback to the original wikiDataID if no mapping is found\n",
    "\n",
    "# Create a copy of df2 to keep the original data intact\n",
    "df3 = df2.copy()\n",
    "\n",
    "# Apply the function to update the 'age' column in the new DataFrame with a progress bar\n",
    "df3['age'] = df3.apply(lambda row: get_correct_age(row, age_mapping), axis=1)\n",
    "\n",
    "# The df3 DataFrame now has the updated 'age' column with fetched data from Wikidata where applicable\n",
    "df3"
   ]
  },
  {
   "cell_type": "code",
   "execution_count": 79,
   "id": "55b6866e-c0ff-49f1-b694-0dc866d15956",
   "metadata": {
    "tags": []
   },
   "outputs": [
    {
     "data": {
      "text/plain": [
       "subclass                 0\n",
       "instance                 0\n",
       "gender               47838\n",
       "age                  58765\n",
       "birthYear           548617\n",
       "publication_year     21780\n",
       "wikiDataID           30995\n",
       "dtype: int64"
      ]
     },
     "execution_count": 79,
     "metadata": {},
     "output_type": "execute_result"
    }
   ],
   "source": [
    "df3.isna().sum()"
   ]
  },
  {
   "cell_type": "code",
   "execution_count": 88,
   "id": "648737c4-3e7a-40a8-b2fb-faa37aeca9f0",
   "metadata": {
    "tags": []
   },
   "outputs": [
    {
     "data": {
      "text/html": [
       "<div>\n",
       "<style scoped>\n",
       "    .dataframe tbody tr th:only-of-type {\n",
       "        vertical-align: middle;\n",
       "    }\n",
       "\n",
       "    .dataframe tbody tr th {\n",
       "        vertical-align: top;\n",
       "    }\n",
       "\n",
       "    .dataframe thead th {\n",
       "        text-align: right;\n",
       "    }\n",
       "</style>\n",
       "<table border=\"1\" class=\"dataframe\">\n",
       "  <thead>\n",
       "    <tr style=\"text-align: right;\">\n",
       "      <th></th>\n",
       "      <th>subclass</th>\n",
       "      <th>instance</th>\n",
       "      <th>gender</th>\n",
       "      <th>age</th>\n",
       "      <th>birthYear</th>\n",
       "      <th>publication_year</th>\n",
       "      <th>wikiDataID</th>\n",
       "    </tr>\n",
       "  </thead>\n",
       "  <tbody>\n",
       "    <tr>\n",
       "      <th>418092</th>\n",
       "      <td>Artist</td>\n",
       "      <td>A_Ge</td>\n",
       "      <td>female</td>\n",
       "      <td>0.0</td>\n",
       "      <td>NaN</td>\n",
       "      <td>2011.0</td>\n",
       "      <td>Q4656945</td>\n",
       "    </tr>\n",
       "    <tr>\n",
       "      <th>74759</th>\n",
       "      <td>Royalty</td>\n",
       "      <td>Abalgamash</td>\n",
       "      <td>male</td>\n",
       "      <td>0.0</td>\n",
       "      <td>NaN</td>\n",
       "      <td>2020.0</td>\n",
       "      <td>Q305264</td>\n",
       "    </tr>\n",
       "    <tr>\n",
       "      <th>102508</th>\n",
       "      <td>Cleric</td>\n",
       "      <td>Abaskhiron_the_Soldier</td>\n",
       "      <td>male</td>\n",
       "      <td>0.0</td>\n",
       "      <td>NaN</td>\n",
       "      <td>2013.0</td>\n",
       "      <td>Q16965864</td>\n",
       "    </tr>\n",
       "    <tr>\n",
       "      <th>102549</th>\n",
       "      <td>Cleric</td>\n",
       "      <td>Abercius_of_Hieropolis</td>\n",
       "      <td>male</td>\n",
       "      <td>0.0</td>\n",
       "      <td>NaN</td>\n",
       "      <td>2007.0</td>\n",
       "      <td>Q319319</td>\n",
       "    </tr>\n",
       "    <tr>\n",
       "      <th>102603</th>\n",
       "      <td>Cleric</td>\n",
       "      <td>Abraham_of_Egypt</td>\n",
       "      <td>male</td>\n",
       "      <td>0.0</td>\n",
       "      <td>NaN</td>\n",
       "      <td>2007.0</td>\n",
       "      <td>Q4055992</td>\n",
       "    </tr>\n",
       "    <tr>\n",
       "      <th>...</th>\n",
       "      <td>...</td>\n",
       "      <td>...</td>\n",
       "      <td>...</td>\n",
       "      <td>...</td>\n",
       "      <td>...</td>\n",
       "      <td>...</td>\n",
       "      <td>...</td>\n",
       "    </tr>\n",
       "    <tr>\n",
       "      <th>102017</th>\n",
       "      <td>Royalty</td>\n",
       "      <td>Zabibe</td>\n",
       "      <td>female</td>\n",
       "      <td>0.0</td>\n",
       "      <td>NaN</td>\n",
       "      <td>2006.0</td>\n",
       "      <td>Q8063479</td>\n",
       "    </tr>\n",
       "    <tr>\n",
       "      <th>102020</th>\n",
       "      <td>Royalty</td>\n",
       "      <td>Zacharias_III_of_Makuria</td>\n",
       "      <td>male</td>\n",
       "      <td>0.0</td>\n",
       "      <td>NaN</td>\n",
       "      <td>2005.0</td>\n",
       "      <td>Q139495</td>\n",
       "    </tr>\n",
       "    <tr>\n",
       "      <th>102200</th>\n",
       "      <td>Royalty</td>\n",
       "      <td>Zhuozi_(Jin)</td>\n",
       "      <td>male</td>\n",
       "      <td>0.0</td>\n",
       "      <td>NaN</td>\n",
       "      <td>2012.0</td>\n",
       "      <td>Q870356</td>\n",
       "    </tr>\n",
       "    <tr>\n",
       "      <th>102304</th>\n",
       "      <td>Royalty</td>\n",
       "      <td>Æthelflæd_of_Damerham</td>\n",
       "      <td>female</td>\n",
       "      <td>0.0</td>\n",
       "      <td>NaN</td>\n",
       "      <td>2007.0</td>\n",
       "      <td>Q4129783</td>\n",
       "    </tr>\n",
       "    <tr>\n",
       "      <th>102471</th>\n",
       "      <td>Royalty</td>\n",
       "      <td>Ḫattušili_III</td>\n",
       "      <td>male</td>\n",
       "      <td>0.0</td>\n",
       "      <td>NaN</td>\n",
       "      <td>2004.0</td>\n",
       "      <td>Q297588</td>\n",
       "    </tr>\n",
       "  </tbody>\n",
       "</table>\n",
       "<p>510 rows × 7 columns</p>\n",
       "</div>"
      ],
      "text/plain": [
       "       subclass                  instance  gender  age  birthYear  \\\n",
       "418092   Artist                      A_Ge  female  0.0        NaN   \n",
       "74759   Royalty                Abalgamash    male  0.0        NaN   \n",
       "102508   Cleric    Abaskhiron_the_Soldier    male  0.0        NaN   \n",
       "102549   Cleric    Abercius_of_Hieropolis    male  0.0        NaN   \n",
       "102603   Cleric          Abraham_of_Egypt    male  0.0        NaN   \n",
       "...         ...                       ...     ...  ...        ...   \n",
       "102017  Royalty                    Zabibe  female  0.0        NaN   \n",
       "102020  Royalty  Zacharias_III_of_Makuria    male  0.0        NaN   \n",
       "102200  Royalty              Zhuozi_(Jin)    male  0.0        NaN   \n",
       "102304  Royalty     Æthelflæd_of_Damerham  female  0.0        NaN   \n",
       "102471  Royalty             Ḫattušili_III    male  0.0        NaN   \n",
       "\n",
       "        publication_year wikiDataID  \n",
       "418092            2011.0   Q4656945  \n",
       "74759             2020.0    Q305264  \n",
       "102508            2013.0  Q16965864  \n",
       "102549            2007.0    Q319319  \n",
       "102603            2007.0   Q4055992  \n",
       "...                  ...        ...  \n",
       "102017            2006.0   Q8063479  \n",
       "102020            2005.0    Q139495  \n",
       "102200            2012.0    Q870356  \n",
       "102304            2007.0   Q4129783  \n",
       "102471            2004.0    Q297588  \n",
       "\n",
       "[510 rows x 7 columns]"
      ]
     },
     "execution_count": 88,
     "metadata": {},
     "output_type": "execute_result"
    }
   ],
   "source": [
    "df3.loc[((df3['age'] == 0) & (df3['wikiDataID'].notna()))]"
   ]
  },
  {
   "cell_type": "code",
   "execution_count": 87,
   "id": "5fdb4790-ffcd-4fc5-be80-99ef1f84d01c",
   "metadata": {
    "tags": []
   },
   "outputs": [
    {
     "data": {
      "text/html": [
       "<div>\n",
       "<style scoped>\n",
       "    .dataframe tbody tr th:only-of-type {\n",
       "        vertical-align: middle;\n",
       "    }\n",
       "\n",
       "    .dataframe tbody tr th {\n",
       "        vertical-align: top;\n",
       "    }\n",
       "\n",
       "    .dataframe thead th {\n",
       "        text-align: right;\n",
       "    }\n",
       "</style>\n",
       "<table border=\"1\" class=\"dataframe\">\n",
       "  <thead>\n",
       "    <tr style=\"text-align: right;\">\n",
       "      <th></th>\n",
       "      <th>subclass</th>\n",
       "      <th>instance</th>\n",
       "      <th>gender</th>\n",
       "      <th>age</th>\n",
       "      <th>birthYear</th>\n",
       "      <th>publication_year</th>\n",
       "      <th>wikiDataID</th>\n",
       "    </tr>\n",
       "  </thead>\n",
       "  <tbody>\n",
       "  </tbody>\n",
       "</table>\n",
       "</div>"
      ],
      "text/plain": [
       "Empty DataFrame\n",
       "Columns: [subclass, instance, gender, age, birthYear, publication_year, wikiDataID]\n",
       "Index: []"
      ]
     },
     "execution_count": 87,
     "metadata": {},
     "output_type": "execute_result"
    }
   ],
   "source": [
    "df3.loc[((df3['age'] == 0) & (df3['wikiDataID'].isna()))]"
   ]
  },
  {
   "cell_type": "code",
   "execution_count": 130,
   "id": "5285a3e6-adde-4048-87c3-59e6f98aec9a",
   "metadata": {
    "tags": []
   },
   "outputs": [
    {
     "data": {
      "text/html": [
       "<div>\n",
       "<style scoped>\n",
       "    .dataframe tbody tr th:only-of-type {\n",
       "        vertical-align: middle;\n",
       "    }\n",
       "\n",
       "    .dataframe tbody tr th {\n",
       "        vertical-align: top;\n",
       "    }\n",
       "\n",
       "    .dataframe thead th {\n",
       "        text-align: right;\n",
       "    }\n",
       "</style>\n",
       "<table border=\"1\" class=\"dataframe\">\n",
       "  <thead>\n",
       "    <tr style=\"text-align: right;\">\n",
       "      <th></th>\n",
       "      <th>subclass</th>\n",
       "      <th>instance</th>\n",
       "      <th>gender</th>\n",
       "      <th>age</th>\n",
       "      <th>birthYear</th>\n",
       "      <th>publication_year</th>\n",
       "      <th>wikiDataID</th>\n",
       "    </tr>\n",
       "  </thead>\n",
       "  <tbody>\n",
       "    <tr>\n",
       "      <th>161666</th>\n",
       "      <td>MilitaryPerson</td>\n",
       "      <td>%60Adnan_%60Uqla</td>\n",
       "      <td>NaN</td>\n",
       "      <td>-1.0</td>\n",
       "      <td>NaN</td>\n",
       "      <td>2019.0</td>\n",
       "      <td>NaN</td>\n",
       "    </tr>\n",
       "    <tr>\n",
       "      <th>347884</th>\n",
       "      <td>OfficeHolder</td>\n",
       "      <td>''Congregatio_Immaculati_Cordis_Mariae''</td>\n",
       "      <td>NaN</td>\n",
       "      <td>-1.0</td>\n",
       "      <td>NaN</td>\n",
       "      <td>NaN</td>\n",
       "      <td>NaN</td>\n",
       "    </tr>\n",
       "    <tr>\n",
       "      <th>26240</th>\n",
       "      <td>Philosopher</td>\n",
       "      <td>'Abd_al-Haqq_al-Dehlawi__1</td>\n",
       "      <td>NaN</td>\n",
       "      <td>-1.0</td>\n",
       "      <td>NaN</td>\n",
       "      <td>NaN</td>\n",
       "      <td>NaN</td>\n",
       "    </tr>\n",
       "    <tr>\n",
       "      <th>161667</th>\n",
       "      <td>MilitaryPerson</td>\n",
       "      <td>'Ali_ibn_Aban_al-Muhallabi</td>\n",
       "      <td>NaN</td>\n",
       "      <td>-1.0</td>\n",
       "      <td>NaN</td>\n",
       "      <td>NaN</td>\n",
       "      <td>NaN</td>\n",
       "    </tr>\n",
       "    <tr>\n",
       "      <th>161668</th>\n",
       "      <td>MilitaryPerson</td>\n",
       "      <td>'Ali_ibn_Muhammad_(Zanj_leader)</td>\n",
       "      <td>NaN</td>\n",
       "      <td>-1.0</td>\n",
       "      <td>NaN</td>\n",
       "      <td>NaN</td>\n",
       "      <td>NaN</td>\n",
       "    </tr>\n",
       "    <tr>\n",
       "      <th>...</th>\n",
       "      <td>...</td>\n",
       "      <td>...</td>\n",
       "      <td>...</td>\n",
       "      <td>...</td>\n",
       "      <td>...</td>\n",
       "      <td>...</td>\n",
       "      <td>...</td>\n",
       "    </tr>\n",
       "    <tr>\n",
       "      <th>102435</th>\n",
       "      <td>Royalty</td>\n",
       "      <td>Şehzade_Sultan</td>\n",
       "      <td>NaN</td>\n",
       "      <td>-1.0</td>\n",
       "      <td>NaN</td>\n",
       "      <td>NaN</td>\n",
       "      <td>NaN</td>\n",
       "    </tr>\n",
       "    <tr>\n",
       "      <th>102441</th>\n",
       "      <td>Royalty</td>\n",
       "      <td>Şemsiruhsar_Hatun</td>\n",
       "      <td>NaN</td>\n",
       "      <td>-1.0</td>\n",
       "      <td>NaN</td>\n",
       "      <td>2014.0</td>\n",
       "      <td>NaN</td>\n",
       "    </tr>\n",
       "    <tr>\n",
       "      <th>217870</th>\n",
       "      <td>MilitaryPerson</td>\n",
       "      <td>Žanis_Bļumbergs</td>\n",
       "      <td>NaN</td>\n",
       "      <td>-1.0</td>\n",
       "      <td>NaN</td>\n",
       "      <td>2020.0</td>\n",
       "      <td>NaN</td>\n",
       "    </tr>\n",
       "    <tr>\n",
       "      <th>217874</th>\n",
       "      <td>MilitaryPerson</td>\n",
       "      <td>Željko_Ražnatović</td>\n",
       "      <td>NaN</td>\n",
       "      <td>-1.0</td>\n",
       "      <td>NaN</td>\n",
       "      <td>2020.0</td>\n",
       "      <td>NaN</td>\n",
       "    </tr>\n",
       "    <tr>\n",
       "      <th>102473</th>\n",
       "      <td>Royalty</td>\n",
       "      <td>‘Ulayya_bint_al-Mahdī</td>\n",
       "      <td>NaN</td>\n",
       "      <td>-1.0</td>\n",
       "      <td>NaN</td>\n",
       "      <td>2019.0</td>\n",
       "      <td>NaN</td>\n",
       "    </tr>\n",
       "  </tbody>\n",
       "</table>\n",
       "<p>24753 rows × 7 columns</p>\n",
       "</div>"
      ],
      "text/plain": [
       "              subclass                                  instance gender  age  \\\n",
       "161666  MilitaryPerson                          %60Adnan_%60Uqla    NaN -1.0   \n",
       "347884    OfficeHolder  ''Congregatio_Immaculati_Cordis_Mariae''    NaN -1.0   \n",
       "26240      Philosopher                'Abd_al-Haqq_al-Dehlawi__1    NaN -1.0   \n",
       "161667  MilitaryPerson                'Ali_ibn_Aban_al-Muhallabi    NaN -1.0   \n",
       "161668  MilitaryPerson           'Ali_ibn_Muhammad_(Zanj_leader)    NaN -1.0   \n",
       "...                ...                                       ...    ...  ...   \n",
       "102435         Royalty                            Şehzade_Sultan    NaN -1.0   \n",
       "102441         Royalty                         Şemsiruhsar_Hatun    NaN -1.0   \n",
       "217870  MilitaryPerson                           Žanis_Bļumbergs    NaN -1.0   \n",
       "217874  MilitaryPerson                         Željko_Ražnatović    NaN -1.0   \n",
       "102473         Royalty                     ‘Ulayya_bint_al-Mahdī    NaN -1.0   \n",
       "\n",
       "        birthYear  publication_year wikiDataID  \n",
       "161666        NaN            2019.0        NaN  \n",
       "347884        NaN               NaN        NaN  \n",
       "26240         NaN               NaN        NaN  \n",
       "161667        NaN               NaN        NaN  \n",
       "161668        NaN               NaN        NaN  \n",
       "...           ...               ...        ...  \n",
       "102435        NaN               NaN        NaN  \n",
       "102441        NaN            2014.0        NaN  \n",
       "217870        NaN            2020.0        NaN  \n",
       "217874        NaN            2020.0        NaN  \n",
       "102473        NaN            2019.0        NaN  \n",
       "\n",
       "[24753 rows x 7 columns]"
      ]
     },
     "execution_count": 130,
     "metadata": {},
     "output_type": "execute_result"
    }
   ],
   "source": [
    "df3.loc[((df3['age'] <=-1) & (df3['wikiDataID'].isna()))] "
   ]
  },
  {
   "cell_type": "markdown",
   "id": "e0c5bbae-38c7-4b2d-a8e1-3da252facce7",
   "metadata": {},
   "source": [
    "#### Rechecking for Age more than 100"
   ]
  },
  {
   "cell_type": "code",
   "execution_count": 92,
   "id": "4cb6d07d-082a-4361-9ff1-f36c6459e718",
   "metadata": {
    "tags": []
   },
   "outputs": [
    {
     "data": {
      "text/html": [
       "<div>\n",
       "<style scoped>\n",
       "    .dataframe tbody tr th:only-of-type {\n",
       "        vertical-align: middle;\n",
       "    }\n",
       "\n",
       "    .dataframe tbody tr th {\n",
       "        vertical-align: top;\n",
       "    }\n",
       "\n",
       "    .dataframe thead th {\n",
       "        text-align: right;\n",
       "    }\n",
       "</style>\n",
       "<table border=\"1\" class=\"dataframe\">\n",
       "  <thead>\n",
       "    <tr style=\"text-align: right;\">\n",
       "      <th></th>\n",
       "      <th>subclass</th>\n",
       "      <th>instance</th>\n",
       "      <th>gender</th>\n",
       "      <th>age</th>\n",
       "      <th>birthYear</th>\n",
       "      <th>publication_year</th>\n",
       "      <th>wikiDataID</th>\n",
       "    </tr>\n",
       "  </thead>\n",
       "  <tbody>\n",
       "    <tr>\n",
       "      <th>28501</th>\n",
       "      <td>Religious</td>\n",
       "      <td>6th_Dalai_Lama</td>\n",
       "      <td>male</td>\n",
       "      <td>341.0</td>\n",
       "      <td>NaN</td>\n",
       "      <td>2004.0</td>\n",
       "      <td>Q25251</td>\n",
       "    </tr>\n",
       "    <tr>\n",
       "      <th>74753</th>\n",
       "      <td>Royalty</td>\n",
       "      <td>A'annepada</td>\n",
       "      <td>male</td>\n",
       "      <td>100.0</td>\n",
       "      <td>NaN</td>\n",
       "      <td>2020.0</td>\n",
       "      <td>Q277645</td>\n",
       "    </tr>\n",
       "    <tr>\n",
       "      <th>28222</th>\n",
       "      <td>Religious</td>\n",
       "      <td>A'isha_bint_Talha</td>\n",
       "      <td>female</td>\n",
       "      <td>100.0</td>\n",
       "      <td>NaN</td>\n",
       "      <td>2006.0</td>\n",
       "      <td>Q4646815</td>\n",
       "    </tr>\n",
       "    <tr>\n",
       "      <th>538089</th>\n",
       "      <td>Politician</td>\n",
       "      <td>A._Andrews</td>\n",
       "      <td>male</td>\n",
       "      <td>206.0</td>\n",
       "      <td>NaN</td>\n",
       "      <td>2012.0</td>\n",
       "      <td>Q4647512</td>\n",
       "    </tr>\n",
       "    <tr>\n",
       "      <th>538102</th>\n",
       "      <td>Politician</td>\n",
       "      <td>A._B._Comfort</td>\n",
       "      <td>male</td>\n",
       "      <td>140.0</td>\n",
       "      <td>NaN</td>\n",
       "      <td>2015.0</td>\n",
       "      <td>Q19560274</td>\n",
       "    </tr>\n",
       "    <tr>\n",
       "      <th>...</th>\n",
       "      <td>...</td>\n",
       "      <td>...</td>\n",
       "      <td>...</td>\n",
       "      <td>...</td>\n",
       "      <td>...</td>\n",
       "      <td>...</td>\n",
       "      <td>...</td>\n",
       "    </tr>\n",
       "    <tr>\n",
       "      <th>102445</th>\n",
       "      <td>Royalty</td>\n",
       "      <td>Şivekar_Sultan</td>\n",
       "      <td>female</td>\n",
       "      <td>389.0</td>\n",
       "      <td>NaN</td>\n",
       "      <td>2020.0</td>\n",
       "      <td>Q25477824</td>\n",
       "    </tr>\n",
       "    <tr>\n",
       "      <th>27207</th>\n",
       "      <td>Religious</td>\n",
       "      <td>Şükrullah</td>\n",
       "      <td>male</td>\n",
       "      <td>100.0</td>\n",
       "      <td>NaN</td>\n",
       "      <td>2013.0</td>\n",
       "      <td>Q16854270</td>\n",
       "    </tr>\n",
       "    <tr>\n",
       "      <th>729002</th>\n",
       "      <td>Politician</td>\n",
       "      <td>Şükrü_Elekdağ</td>\n",
       "      <td>male</td>\n",
       "      <td>100.0</td>\n",
       "      <td>NaN</td>\n",
       "      <td>2011.0</td>\n",
       "      <td>Q4353302</td>\n",
       "    </tr>\n",
       "    <tr>\n",
       "      <th>729054</th>\n",
       "      <td>Politician</td>\n",
       "      <td>Ștefan_Foriș</td>\n",
       "      <td>male</td>\n",
       "      <td>132.0</td>\n",
       "      <td>NaN</td>\n",
       "      <td>2006.0</td>\n",
       "      <td>Q838826</td>\n",
       "    </tr>\n",
       "    <tr>\n",
       "      <th>102470</th>\n",
       "      <td>Royalty</td>\n",
       "      <td>Ḫarapšili</td>\n",
       "      <td>female</td>\n",
       "      <td>3574.0</td>\n",
       "      <td>NaN</td>\n",
       "      <td>2012.0</td>\n",
       "      <td>Q742087</td>\n",
       "    </tr>\n",
       "  </tbody>\n",
       "</table>\n",
       "<p>22811 rows × 7 columns</p>\n",
       "</div>"
      ],
      "text/plain": [
       "          subclass           instance  gender     age  birthYear  \\\n",
       "28501    Religious     6th_Dalai_Lama    male   341.0        NaN   \n",
       "74753      Royalty         A'annepada    male   100.0        NaN   \n",
       "28222    Religious  A'isha_bint_Talha  female   100.0        NaN   \n",
       "538089  Politician         A._Andrews    male   206.0        NaN   \n",
       "538102  Politician      A._B._Comfort    male   140.0        NaN   \n",
       "...            ...                ...     ...     ...        ...   \n",
       "102445     Royalty     Şivekar_Sultan  female   389.0        NaN   \n",
       "27207    Religious          Şükrullah    male   100.0        NaN   \n",
       "729002  Politician      Şükrü_Elekdağ    male   100.0        NaN   \n",
       "729054  Politician       Ștefan_Foriș    male   132.0        NaN   \n",
       "102470     Royalty          Ḫarapšili  female  3574.0        NaN   \n",
       "\n",
       "        publication_year wikiDataID  \n",
       "28501             2004.0     Q25251  \n",
       "74753             2020.0    Q277645  \n",
       "28222             2006.0   Q4646815  \n",
       "538089            2012.0   Q4647512  \n",
       "538102            2015.0  Q19560274  \n",
       "...                  ...        ...  \n",
       "102445            2020.0  Q25477824  \n",
       "27207             2013.0  Q16854270  \n",
       "729002            2011.0   Q4353302  \n",
       "729054            2006.0    Q838826  \n",
       "102470            2012.0    Q742087  \n",
       "\n",
       "[22811 rows x 7 columns]"
      ]
     },
     "execution_count": 92,
     "metadata": {},
     "output_type": "execute_result"
    }
   ],
   "source": [
    "df3.loc[((df3['age'] >= 100) & (df3['wikiDataID'].notna()))]"
   ]
  },
  {
   "cell_type": "code",
   "execution_count": 98,
   "id": "9526fd22-08ee-43bc-a68a-3032c08cf2e9",
   "metadata": {
    "tags": []
   },
   "outputs": [
    {
     "data": {
      "text/plain": [
       "22811"
      ]
     },
     "execution_count": 98,
     "metadata": {},
     "output_type": "execute_result"
    }
   ],
   "source": [
    "age100_subset = df3.loc[((df3['age'] >= 100) & (df3['wikiDataID'].notna())), ['instance', 'wikiDataID', 'age']].values.tolist()\n",
    "len(age100_subset)"
   ]
  },
  {
   "cell_type": "code",
   "execution_count": null,
   "id": "143cd389-67b5-49da-89f4-6e794c8e69ec",
   "metadata": {
    "tags": []
   },
   "outputs": [
    {
     "name": "stderr",
     "output_type": "stream",
     "text": [
      "Processing Instances:   0%|          | 68/22811 [00:41<3:23:15,  1.86it/s]"
     ]
    },
    {
     "name": "stdout",
     "output_type": "stream",
     "text": [
      "Error: 'age'. Retrying after 2 seconds...\n",
      "Error: 'age'. Retrying after 2 seconds...\n",
      "Error: 'age'. Retrying after 2 seconds...\n"
     ]
    },
    {
     "name": "stderr",
     "output_type": "stream",
     "text": [
      "Processing Instances:   0%|          | 69/22811 [00:52<22:20:35,  3.54s/it]"
     ]
    },
    {
     "name": "stdout",
     "output_type": "stream",
     "text": [
      "Max retries reached. Could not fetch data.\n"
     ]
    },
    {
     "name": "stderr",
     "output_type": "stream",
     "text": [
      "Processing Instances:   0%|          | 70/22811 [00:52<16:35:13,  2.63s/it]"
     ]
    },
    {
     "name": "stdout",
     "output_type": "stream",
     "text": [
      "Error: 'age'. Retrying after 2 seconds...\n",
      "Error: 'age'. Retrying after 2 seconds...\n",
      "Error: 'age'. Retrying after 2 seconds...\n"
     ]
    },
    {
     "name": "stderr",
     "output_type": "stream",
     "text": [
      "Processing Instances:   0%|          | 71/22811 [01:02<30:46:27,  4.87s/it]"
     ]
    },
    {
     "name": "stdout",
     "output_type": "stream",
     "text": [
      "Max retries reached. Could not fetch data.\n"
     ]
    },
    {
     "name": "stderr",
     "output_type": "stream",
     "text": [
      "Processing Instances:   0%|          | 95/22811 [01:16<3:24:29,  1.85it/s] "
     ]
    },
    {
     "name": "stdout",
     "output_type": "stream",
     "text": [
      "Error: 'age'. Retrying after 2 seconds...\n",
      "Error: 'age'. Retrying after 2 seconds...\n"
     ]
    }
   ],
   "source": [
    "age100_mapping = subset_get_age(age100_subset, 'age100_processed_instances')"
   ]
  },
  {
   "cell_type": "code",
   "execution_count": 101,
   "id": "303d7ff9-170a-4969-aee9-6966eb321947",
   "metadata": {},
   "outputs": [
    {
     "data": {
      "text/html": [
       "<div>\n",
       "<style scoped>\n",
       "    .dataframe tbody tr th:only-of-type {\n",
       "        vertical-align: middle;\n",
       "    }\n",
       "\n",
       "    .dataframe tbody tr th {\n",
       "        vertical-align: top;\n",
       "    }\n",
       "\n",
       "    .dataframe thead th {\n",
       "        text-align: right;\n",
       "    }\n",
       "</style>\n",
       "<table border=\"1\" class=\"dataframe\">\n",
       "  <thead>\n",
       "    <tr style=\"text-align: right;\">\n",
       "      <th></th>\n",
       "      <th>subclass</th>\n",
       "      <th>instance</th>\n",
       "      <th>gender</th>\n",
       "      <th>age</th>\n",
       "      <th>birthYear</th>\n",
       "      <th>publication_year</th>\n",
       "      <th>wikiDataID</th>\n",
       "    </tr>\n",
       "  </thead>\n",
       "  <tbody>\n",
       "    <tr>\n",
       "      <th>417884</th>\n",
       "      <td>Artist</td>\n",
       "      <td>!PAUS3</td>\n",
       "      <td>male</td>\n",
       "      <td>43.0</td>\n",
       "      <td>NaN</td>\n",
       "      <td>2011.0</td>\n",
       "      <td>Q3466056</td>\n",
       "    </tr>\n",
       "    <tr>\n",
       "      <th>417885</th>\n",
       "      <td>Artist</td>\n",
       "      <td>$pacely</td>\n",
       "      <td>male</td>\n",
       "      <td>32.0</td>\n",
       "      <td>NaN</td>\n",
       "      <td>2018.0</td>\n",
       "      <td>Q73507574</td>\n",
       "    </tr>\n",
       "    <tr>\n",
       "      <th>38134</th>\n",
       "      <td>Criminal</td>\n",
       "      <td>%22Baby_Lollipops%22_murder</td>\n",
       "      <td>NaN</td>\n",
       "      <td>63.0</td>\n",
       "      <td>NaN</td>\n",
       "      <td>2023.0</td>\n",
       "      <td>Q64875934</td>\n",
       "    </tr>\n",
       "    <tr>\n",
       "      <th>417886</th>\n",
       "      <td>Artist</td>\n",
       "      <td>%22Bassy%22_Bob_Brockmann</td>\n",
       "      <td>male</td>\n",
       "      <td>62.0</td>\n",
       "      <td>NaN</td>\n",
       "      <td>2013.0</td>\n",
       "      <td>Q13416958</td>\n",
       "    </tr>\n",
       "    <tr>\n",
       "      <th>537884</th>\n",
       "      <td>Politician</td>\n",
       "      <td>%22Big%22_Donnie_MacLeod</td>\n",
       "      <td>male</td>\n",
       "      <td>75.0</td>\n",
       "      <td>NaN</td>\n",
       "      <td>2014.0</td>\n",
       "      <td>Q18645783</td>\n",
       "    </tr>\n",
       "    <tr>\n",
       "      <th>...</th>\n",
       "      <td>...</td>\n",
       "      <td>...</td>\n",
       "      <td>...</td>\n",
       "      <td>...</td>\n",
       "      <td>...</td>\n",
       "      <td>...</td>\n",
       "      <td>...</td>\n",
       "    </tr>\n",
       "    <tr>\n",
       "      <th>102470</th>\n",
       "      <td>Royalty</td>\n",
       "      <td>Ḫarapšili</td>\n",
       "      <td>female</td>\n",
       "      <td>3574.0</td>\n",
       "      <td>NaN</td>\n",
       "      <td>2012.0</td>\n",
       "      <td>Q742087</td>\n",
       "    </tr>\n",
       "    <tr>\n",
       "      <th>102471</th>\n",
       "      <td>Royalty</td>\n",
       "      <td>Ḫattušili_III</td>\n",
       "      <td>male</td>\n",
       "      <td>-1.0</td>\n",
       "      <td>NaN</td>\n",
       "      <td>2004.0</td>\n",
       "      <td>Q297588</td>\n",
       "    </tr>\n",
       "    <tr>\n",
       "      <th>26705</th>\n",
       "      <td>Religious</td>\n",
       "      <td>Ṭhānissaro_Bhikkhu</td>\n",
       "      <td>male</td>\n",
       "      <td>75.0</td>\n",
       "      <td>NaN</td>\n",
       "      <td>2006.0</td>\n",
       "      <td>Q7710407</td>\n",
       "    </tr>\n",
       "    <tr>\n",
       "      <th>102472</th>\n",
       "      <td>Royalty</td>\n",
       "      <td>Ỷ_Lan</td>\n",
       "      <td>female</td>\n",
       "      <td>67.0</td>\n",
       "      <td>NaN</td>\n",
       "      <td>2010.0</td>\n",
       "      <td>Q10843033</td>\n",
       "    </tr>\n",
       "    <tr>\n",
       "      <th>102473</th>\n",
       "      <td>Royalty</td>\n",
       "      <td>‘Ulayya_bint_al-Mahdī</td>\n",
       "      <td>NaN</td>\n",
       "      <td>-1.0</td>\n",
       "      <td>NaN</td>\n",
       "      <td>2019.0</td>\n",
       "      <td>NaN</td>\n",
       "    </tr>\n",
       "  </tbody>\n",
       "</table>\n",
       "<p>791004 rows × 7 columns</p>\n",
       "</div>"
      ],
      "text/plain": [
       "          subclass                     instance  gender     age  birthYear  \\\n",
       "417884      Artist                       !PAUS3    male    43.0        NaN   \n",
       "417885      Artist                      $pacely    male    32.0        NaN   \n",
       "38134     Criminal  %22Baby_Lollipops%22_murder     NaN    63.0        NaN   \n",
       "417886      Artist    %22Bassy%22_Bob_Brockmann    male    62.0        NaN   \n",
       "537884  Politician     %22Big%22_Donnie_MacLeod    male    75.0        NaN   \n",
       "...            ...                          ...     ...     ...        ...   \n",
       "102470     Royalty                    Ḫarapšili  female  3574.0        NaN   \n",
       "102471     Royalty                Ḫattušili_III    male    -1.0        NaN   \n",
       "26705    Religious           Ṭhānissaro_Bhikkhu    male    75.0        NaN   \n",
       "102472     Royalty                        Ỷ_Lan  female    67.0        NaN   \n",
       "102473     Royalty        ‘Ulayya_bint_al-Mahdī     NaN    -1.0        NaN   \n",
       "\n",
       "        publication_year wikiDataID  \n",
       "417884            2011.0   Q3466056  \n",
       "417885            2018.0  Q73507574  \n",
       "38134             2023.0  Q64875934  \n",
       "417886            2013.0  Q13416958  \n",
       "537884            2014.0  Q18645783  \n",
       "...                  ...        ...  \n",
       "102470            2012.0    Q742087  \n",
       "102471            2004.0    Q297588  \n",
       "26705             2006.0   Q7710407  \n",
       "102472            2010.0  Q10843033  \n",
       "102473            2019.0        NaN  \n",
       "\n",
       "[791004 rows x 7 columns]"
      ]
     },
     "execution_count": 101,
     "metadata": {},
     "output_type": "execute_result"
    }
   ],
   "source": [
    "# Define function to get the correct age using WikidataID\n",
    "def get_correct_age2(row, mapping):\n",
    "    key = (row['instance'], row['wikiDataID'])\n",
    "    return mapping.get(key, row['age'])  # Fallback to the original wikiDataID if no mapping is found\n",
    "\n",
    "# Create a copy of df2 to keep the original data intact\n",
    "df4 = df3.copy()\n",
    "\n",
    "# Apply the function to update the 'age' column in the new DataFrame with a progress bar\n",
    "df4['age'] = df4.apply(lambda row: get_correct_age(row, age100_mapping), axis=1)\n",
    "\n",
    "# The df3 DataFrame now has the updated 'age' column with fetched data from Wikidata where applicable\n",
    "df4"
   ]
  },
  {
   "cell_type": "code",
   "execution_count": 103,
   "id": "753e840c-7f0a-45ff-9e50-20af17195917",
   "metadata": {
    "tags": []
   },
   "outputs": [
    {
     "data": {
      "text/plain": [
       "8910"
      ]
     },
     "execution_count": 103,
     "metadata": {},
     "output_type": "execute_result"
    }
   ],
   "source": [
    "age100_subset = df4.loc[((df4['age'] >= 100) & (df4['wikiDataID'].notna())), ['instance', 'wikiDataID', 'age']].values.tolist()\n",
    "len(age100_subset)"
   ]
  },
  {
   "cell_type": "code",
   "execution_count": 133,
   "id": "04a52e30-1b34-42db-8965-2358dcc3c661",
   "metadata": {
    "tags": []
   },
   "outputs": [
    {
     "data": {
      "text/plain": [
       "subclass                 0\n",
       "instance                 0\n",
       "gender               47838\n",
       "age                  59347\n",
       "birthYear           548617\n",
       "publication_year     21780\n",
       "wikiDataID           30995\n",
       "dtype: int64"
      ]
     },
     "execution_count": 133,
     "metadata": {},
     "output_type": "execute_result"
    }
   ],
   "source": [
    "df4.isna().sum()"
   ]
  },
  {
   "cell_type": "code",
   "execution_count": 134,
   "id": "2e7334f6-0b5a-45ea-a926-65a06f83bf93",
   "metadata": {
    "tags": []
   },
   "outputs": [],
   "source": [
    "# extract the index of \".\" value in the ratings column\n",
    "convert_null_index = df4.loc[df4[\"age\"] <= -1, \"age\"].index"
   ]
  },
  {
   "cell_type": "code",
   "execution_count": 135,
   "id": "3ba0d267-d92c-4bc1-b7c8-b6bbd7ce35e3",
   "metadata": {
    "tags": []
   },
   "outputs": [
    {
     "data": {
      "text/plain": [
       "26043"
      ]
     },
     "execution_count": 135,
     "metadata": {},
     "output_type": "execute_result"
    }
   ],
   "source": [
    "len(convert_null_index)"
   ]
  },
  {
   "cell_type": "code",
   "execution_count": 136,
   "id": "d25893e1-4f54-4c23-a170-e880e2486c38",
   "metadata": {
    "tags": []
   },
   "outputs": [],
   "source": [
    "# change the value of \"-1\" to null/nan\n",
    "df4.loc[convert_null_index, \"age\"] = np.nan"
   ]
  },
  {
   "cell_type": "code",
   "execution_count": 137,
   "id": "fc40109c-8df0-44b0-96ab-e8ab0bd28236",
   "metadata": {
    "tags": []
   },
   "outputs": [
    {
     "data": {
      "text/plain": [
       "subclass                 0\n",
       "instance                 0\n",
       "gender               47838\n",
       "age                  85390\n",
       "birthYear           548617\n",
       "publication_year     21780\n",
       "wikiDataID           30995\n",
       "dtype: int64"
      ]
     },
     "execution_count": 137,
     "metadata": {},
     "output_type": "execute_result"
    }
   ],
   "source": [
    "df4.isna().sum()"
   ]
  },
  {
   "cell_type": "code",
   "execution_count": 139,
   "id": "fa67225b-4721-4fb0-a2b8-a84180c5bf67",
   "metadata": {
    "tags": []
   },
   "outputs": [
    {
     "data": {
      "text/plain": [
       "0"
      ]
     },
     "execution_count": 139,
     "metadata": {},
     "output_type": "execute_result"
    }
   ],
   "source": [
    "check_null_index = df4.loc[df4[\"age\"] <= -1, \"age\"].index\n",
    "len(check_null_index)"
   ]
  },
  {
   "cell_type": "code",
   "execution_count": null,
   "id": "9df73060-f1a0-4d52-ba78-b70b29aa8020",
   "metadata": {},
   "outputs": [],
   "source": []
  }
 ],
 "metadata": {
  "kernelspec": {
   "display_name": "conda_tensorflow2_p310",
   "language": "python",
   "name": "conda_tensorflow2_p310"
  },
  "language_info": {
   "codemirror_mode": {
    "name": "ipython",
    "version": 3
   },
   "file_extension": ".py",
   "mimetype": "text/x-python",
   "name": "python",
   "nbconvert_exporter": "python",
   "pygments_lexer": "ipython3",
   "version": "3.10.14"
  }
 },
 "nbformat": 4,
 "nbformat_minor": 5
}
