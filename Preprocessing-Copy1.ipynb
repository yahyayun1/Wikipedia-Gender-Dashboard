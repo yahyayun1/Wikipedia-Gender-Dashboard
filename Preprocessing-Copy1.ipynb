{
 "cells": [
  {
   "cell_type": "code",
   "execution_count": 1,
   "id": "ddc5c2e0-ed79-4e0f-9b24-9f3b1e8fe5af",
   "metadata": {},
   "outputs": [
    {
     "name": "stdout",
     "output_type": "stream",
     "text": [
      "\u001b[33mWARNING: The directory '/home/jovyan/.cache/pip' or its parent directory is not owned or is not writable by the current user. The cache has been disabled. Check the permissions and owner of that directory. If executing pip with sudo, you should use sudo's -H flag.\u001b[0m\u001b[33m\n",
      "\u001b[0mRequirement already satisfied: pandas in /opt/conda/lib/python3.11/site-packages (2.2.2)\n",
      "Requirement already satisfied: numpy>=1.23.2 in /opt/conda/lib/python3.11/site-packages (from pandas) (2.0.1)\n",
      "Requirement already satisfied: python-dateutil>=2.8.2 in /opt/conda/lib/python3.11/site-packages (from pandas) (2.8.2)\n",
      "Requirement already satisfied: pytz>=2020.1 in /opt/conda/lib/python3.11/site-packages (from pandas) (2023.3.post1)\n",
      "Requirement already satisfied: tzdata>=2022.7 in /opt/conda/lib/python3.11/site-packages (from pandas) (2024.1)\n",
      "Requirement already satisfied: six>=1.5 in /opt/conda/lib/python3.11/site-packages (from python-dateutil>=2.8.2->pandas) (1.16.0)\n"
     ]
    }
   ],
   "source": [
    "!pip install pandas"
   ]
  },
  {
   "cell_type": "code",
   "execution_count": 2,
   "id": "0651c6ca-1db3-41a4-a5da-53ba7d8c8dc8",
   "metadata": {},
   "outputs": [],
   "source": [
    "# import pandas library using alias pd\n",
    "import pandas as pd\n",
    "from SPARQLWrapper import SPARQLWrapper, JSON\n",
    "import numpy as np"
   ]
  },
  {
   "cell_type": "markdown",
   "id": "36651732-cdad-49b8-aea2-7532b9d91bc6",
   "metadata": {},
   "source": [
    "## 1) Data Preparation"
   ]
  },
  {
   "cell_type": "markdown",
   "id": "cfcaa14a-7467-46f5-b304-10f8d0be9d37",
   "metadata": {},
   "source": [
    "#### 1.1 Get List of subclasses and the number of instance for each of them"
   ]
  },
  {
   "cell_type": "code",
   "execution_count": 3,
   "id": "79dc8e64-e304-493d-91c6-4675676d5394",
   "metadata": {},
   "outputs": [],
   "source": [
    "# Initialize SPARQL endpoint\n",
    "dbpedia_sparql = SPARQLWrapper(\"https://dbpedia.org/sparql\")\n",
    "\n",
    "# Define the SPARQL query\n",
    "dbpedia_sparql.setQuery(\"\"\"\n",
    "   SELECT ?subclass (COUNT(DISTINCT ?instance) AS ?count)\n",
    "   WHERE {\n",
    "     ?instance a ?subclass.\n",
    "     ?subclass rdfs:subClassOf dbo:Person.\n",
    "     FILTER (?subclass != dbo:Person)\n",
    "   }\n",
    "   GROUP BY ?subclass\n",
    "   ORDER BY ASC(?count)\n",
    "\"\"\")\n",
    "\n",
    "# Set return format to JSON\n",
    "dbpedia_sparql.setReturnFormat(JSON)\n",
    "\n",
    "# Execute the query and process the results\n",
    "results = dbpedia_sparql.query().convert()\n",
    "\n",
    "subclasses = {}\n",
    "for result in results[\"results\"][\"bindings\"]:\n",
    "    subclass_uri = result[\"subclass\"][\"value\"]\n",
    "    count = result[\"count\"][\"value\"]\n",
    "    subclass = subclass_uri.replace(\"http://dbpedia.org/ontology/\", \"\")\n",
    "    subclasses[subclass] = int(count)  # Convert count to integer"
   ]
  },
  {
   "cell_type": "code",
   "execution_count": 4,
   "id": "1d89a6d4-2705-4b38-9c3f-eb7b0c74eaa7",
   "metadata": {},
   "outputs": [
    {
     "data": {
      "text/plain": [
       "{'Judge': 124,\n",
       " 'Monarch': 245,\n",
       " 'Spy': 261,\n",
       " 'AmericanLeader': 264,\n",
       " 'Pilot': 286,\n",
       " 'HorseTrainer': 355,\n",
       " 'PoliceOfficer': 413,\n",
       " 'Presenter': 670,\n",
       " 'BusinessPerson': 691,\n",
       " 'Astronaut': 738,\n",
       " 'Engineer': 885,\n",
       " 'Chef': 897,\n",
       " 'Youtuber': 900,\n",
       " 'PlayboyPlaymate': 979,\n",
       " 'Economist': 1720,\n",
       " 'Journalist': 1858,\n",
       " 'Model': 2045,\n",
       " 'BeautyQueen': 2987,\n",
       " 'Philosopher': 2987,\n",
       " 'Religious': 4832,\n",
       " 'Architect': 5574,\n",
       " 'Criminal': 6081,\n",
       " 'Noble': 7949,\n",
       " 'Academic': 10663,\n",
       " 'Coach': 10954,\n",
       " 'Royalty': 22720,\n",
       " 'Cleric': 25434,\n",
       " 'SportsManager': 29156,\n",
       " 'MilitaryPerson': 50255,\n",
       " 'Writer': 51821,\n",
       " 'Scientist': 52119,\n",
       " 'OfficeHolder': 66597,\n",
       " 'Artist': 107644,\n",
       " 'Politician': 200848,\n",
       " 'OrganisationMember': 456914,\n",
       " 'Athlete': 578933}"
      ]
     },
     "execution_count": 4,
     "metadata": {},
     "output_type": "execute_result"
    }
   ],
   "source": [
    "subclasses"
   ]
  },
  {
   "cell_type": "code",
   "execution_count": 5,
   "id": "b031fec1-920b-4664-a6f1-6ec4ecb81c77",
   "metadata": {},
   "outputs": [
    {
     "data": {
      "text/plain": [
       "124"
      ]
     },
     "execution_count": 5,
     "metadata": {},
     "output_type": "execute_result"
    }
   ],
   "source": [
    "subclasses.pop(\"Judge\")"
   ]
  },
  {
   "cell_type": "markdown",
   "id": "d3b20633-51cc-4d32-a8f9-6038b83a6347",
   "metadata": {},
   "source": [
    "#### 1.2 Combine Collected Data into a Dataframe"
   ]
  },
  {
   "cell_type": "code",
   "execution_count": 6,
   "id": "ff928f2b-5f80-49ab-87d1-c8030b9735e9",
   "metadata": {},
   "outputs": [
    {
     "name": "stdout",
     "output_type": "stream",
     "text": [
      "Academic/Academiciteration1.csv NOT FOUND\n",
      "Coach/Coachiteration2.csv NOT FOUND\n",
      "Royalty/Royaltyiteration3.csv NOT FOUND\n",
      "Cleric/Clericiteration3.csv NOT FOUND\n",
      "SportsManager/SportsManageriteration3.csv NOT FOUND\n",
      "MilitaryPerson/MilitaryPersoniteration6.csv NOT FOUND\n",
      "Writer/Writeriteration6.csv NOT FOUND\n",
      "Scientist/Scientistiteration7.csv NOT FOUND\n",
      "OfficeHolder/OfficeHolderiteration7.csv NOT FOUND\n",
      "Artist/Artistiteration12.csv NOT FOUND\n",
      "Politician/Politicianiteration20.csv NOT FOUND\n",
      "OrganisationMember/OrganisationMemberiteration0.csv NOT FOUND\n",
      "Athlete/Athleteiteration1.csv NOT FOUND\n"
     ]
    },
    {
     "data": {
      "text/plain": [
       "(979648, 7)"
      ]
     },
     "execution_count": 6,
     "metadata": {},
     "output_type": "execute_result"
    }
   ],
   "source": [
    "import math\n",
    "\n",
    "df = pd.read_csv('Judge.csv')\n",
    "\n",
    "# load the data\n",
    "for subclass, count in subclasses.items():\n",
    "    try:\n",
    "        if count < 10000:\n",
    "            temporary_df = pd.read_csv(f'{subclass}.csv')\n",
    "            df = pd.concat([df, temporary_df], ignore_index=True)\n",
    "        else:\n",
    "            for i in range(0, math.ceil(count / 10000) + 2):\n",
    "                temporary_df = pd.read_csv(f'{subclass}/{subclass}iteration{i}.csv')\n",
    "                df = pd.concat([df, temporary_df], ignore_index=True)\n",
    "    except FileNotFoundError:\n",
    "        print (f'{subclass}/{subclass}iteration{i}.csv NOT FOUND')\n",
    "    \n",
    "df.shape"
   ]
  },
  {
   "cell_type": "code",
   "execution_count": 7,
   "id": "bb527a4e-55f0-42e4-80eb-1ebb4f972be9",
   "metadata": {},
   "outputs": [
    {
     "data": {
      "text/plain": [
       "subclass\n",
       "Athlete            250573\n",
       "Politician         191191\n",
       "Artist             120000\n",
       "OfficeHolder        70000\n",
       "Scientist           70000\n",
       "Writer              60000\n",
       "MilitaryPerson      56218\n",
       "Cleric              30000\n",
       "SportsManager       29192\n",
       "Royalty             27736\n",
       "Coach               10958\n",
       "Academic            10000\n",
       "Noble               10000\n",
       "Philosopher          8875\n",
       "Criminal             7076\n",
       "Architect            5590\n",
       "Religious            4868\n",
       "BeautyQueen          2992\n",
       "Economist            2738\n",
       "Model                2048\n",
       "Journalist           1865\n",
       "PlayboyPlaymate       979\n",
       "Youtuber              901\n",
       "Chef                  899\n",
       "Engineer              891\n",
       "Astronaut             742\n",
       "BusinessPerson        691\n",
       "Presenter             671\n",
       "PoliceOfficer         413\n",
       "HorseTrainer          358\n",
       "Pilot                 286\n",
       "AmericanLeader        265\n",
       "Spy                   261\n",
       "Monarch               247\n",
       "Judge                 124\n",
       "Name: count, dtype: int64"
      ]
     },
     "execution_count": 7,
     "metadata": {},
     "output_type": "execute_result"
    }
   ],
   "source": [
    "# Check if all the subclasses are present in the dataframe to be preprocessed\n",
    "df['subclass'].value_counts()"
   ]
  },
  {
   "cell_type": "code",
   "execution_count": 8,
   "id": "daa8a5ab-c0e3-4546-a12a-f1c44e2f0a34",
   "metadata": {},
   "outputs": [
    {
     "name": "stdout",
     "output_type": "stream",
     "text": [
      "<class 'pandas.core.frame.DataFrame'>\n",
      "RangeIndex: 979648 entries, 0 to 979647\n",
      "Data columns (total 7 columns):\n",
      " #   Column            Non-Null Count   Dtype  \n",
      "---  ------            --------------   -----  \n",
      " 0   subclass          979648 non-null  object \n",
      " 1   instance          979648 non-null  object \n",
      " 2   wikiDataID        948740 non-null  object \n",
      " 3   gender            926522 non-null  object \n",
      " 4   age               979648 non-null  int64  \n",
      " 5   birthYear         250573 non-null  float64\n",
      " 6   publication_year  957813 non-null  float64\n",
      "dtypes: float64(2), int64(1), object(4)\n",
      "memory usage: 52.3+ MB\n"
     ]
    }
   ],
   "source": [
    "df.info()"
   ]
  },
  {
   "cell_type": "markdown",
   "id": "49f9cf5f-c76c-45f3-8b68-08a99f6ce1ea",
   "metadata": {},
   "source": [
    "From above, it can be seen that the wikiDataID, , gender, birthYear and publication_year column has some null values."
   ]
  },
  {
   "cell_type": "markdown",
   "id": "cace1e76-333a-4a51-951a-2f11120327fa",
   "metadata": {},
   "source": [
    "#### 1.3 Removing Duplicated Rows"
   ]
  },
  {
   "cell_type": "code",
   "execution_count": 9,
   "id": "86c1fe98-cfea-473d-a0c7-79d7860d31df",
   "metadata": {},
   "outputs": [
    {
     "data": {
      "text/html": [
       "<div>\n",
       "<style scoped>\n",
       "    .dataframe tbody tr th:only-of-type {\n",
       "        vertical-align: middle;\n",
       "    }\n",
       "\n",
       "    .dataframe tbody tr th {\n",
       "        vertical-align: top;\n",
       "    }\n",
       "\n",
       "    .dataframe thead th {\n",
       "        text-align: right;\n",
       "    }\n",
       "</style>\n",
       "<table border=\"1\" class=\"dataframe\">\n",
       "  <thead>\n",
       "    <tr style=\"text-align: right;\">\n",
       "      <th></th>\n",
       "      <th>subclass</th>\n",
       "      <th>instance</th>\n",
       "      <th>wikiDataID</th>\n",
       "      <th>gender</th>\n",
       "      <th>age</th>\n",
       "      <th>birthYear</th>\n",
       "      <th>publication_year</th>\n",
       "    </tr>\n",
       "  </thead>\n",
       "  <tbody>\n",
       "    <tr>\n",
       "      <th>537892</th>\n",
       "      <td>Politician</td>\n",
       "      <td>100th_Delaware_General_Assembly</td>\n",
       "      <td>Q4546229</td>\n",
       "      <td>NaN</td>\n",
       "      <td>0</td>\n",
       "      <td>NaN</td>\n",
       "      <td>2009.0</td>\n",
       "    </tr>\n",
       "    <tr>\n",
       "      <th>347886</th>\n",
       "      <td>OfficeHolder</td>\n",
       "      <td>100th_Delaware_General_Assembly</td>\n",
       "      <td>Q4546229</td>\n",
       "      <td>NaN</td>\n",
       "      <td>0</td>\n",
       "      <td>NaN</td>\n",
       "      <td>2009.0</td>\n",
       "    </tr>\n",
       "    <tr>\n",
       "      <th>537893</th>\n",
       "      <td>Politician</td>\n",
       "      <td>101st_Delaware_General_Assembly</td>\n",
       "      <td>Q4546348</td>\n",
       "      <td>NaN</td>\n",
       "      <td>0</td>\n",
       "      <td>NaN</td>\n",
       "      <td>2009.0</td>\n",
       "    </tr>\n",
       "    <tr>\n",
       "      <th>347888</th>\n",
       "      <td>OfficeHolder</td>\n",
       "      <td>101st_Delaware_General_Assembly</td>\n",
       "      <td>Q4546348</td>\n",
       "      <td>NaN</td>\n",
       "      <td>0</td>\n",
       "      <td>NaN</td>\n",
       "      <td>2009.0</td>\n",
       "    </tr>\n",
       "    <tr>\n",
       "      <th>537894</th>\n",
       "      <td>Politician</td>\n",
       "      <td>102nd_Delaware_General_Assembly</td>\n",
       "      <td>Q4546419</td>\n",
       "      <td>NaN</td>\n",
       "      <td>0</td>\n",
       "      <td>NaN</td>\n",
       "      <td>2009.0</td>\n",
       "    </tr>\n",
       "    <tr>\n",
       "      <th>...</th>\n",
       "      <td>...</td>\n",
       "      <td>...</td>\n",
       "      <td>...</td>\n",
       "      <td>...</td>\n",
       "      <td>...</td>\n",
       "      <td>...</td>\n",
       "      <td>...</td>\n",
       "    </tr>\n",
       "    <tr>\n",
       "      <th>728981</th>\n",
       "      <td>Politician</td>\n",
       "      <td>Ōyama_Iwao</td>\n",
       "      <td>Q359819</td>\n",
       "      <td>male</td>\n",
       "      <td>74</td>\n",
       "      <td>NaN</td>\n",
       "      <td>2003.0</td>\n",
       "    </tr>\n",
       "    <tr>\n",
       "      <th>217876</th>\n",
       "      <td>MilitaryPerson</td>\n",
       "      <td>Živko_Budimir</td>\n",
       "      <td>Q2478723</td>\n",
       "      <td>male</td>\n",
       "      <td>62</td>\n",
       "      <td>NaN</td>\n",
       "      <td>2011.0</td>\n",
       "    </tr>\n",
       "    <tr>\n",
       "      <th>729044</th>\n",
       "      <td>Politician</td>\n",
       "      <td>Živko_Budimir</td>\n",
       "      <td>Q2478723</td>\n",
       "      <td>male</td>\n",
       "      <td>62</td>\n",
       "      <td>NaN</td>\n",
       "      <td>2011.0</td>\n",
       "    </tr>\n",
       "    <tr>\n",
       "      <th>729047</th>\n",
       "      <td>Politician</td>\n",
       "      <td>Živojin_Mišić</td>\n",
       "      <td>Q1138038</td>\n",
       "      <td>male</td>\n",
       "      <td>66</td>\n",
       "      <td>NaN</td>\n",
       "      <td>2003.0</td>\n",
       "    </tr>\n",
       "    <tr>\n",
       "      <th>217879</th>\n",
       "      <td>MilitaryPerson</td>\n",
       "      <td>Živojin_Mišić</td>\n",
       "      <td>Q1138038</td>\n",
       "      <td>male</td>\n",
       "      <td>66</td>\n",
       "      <td>NaN</td>\n",
       "      <td>2003.0</td>\n",
       "    </tr>\n",
       "  </tbody>\n",
       "</table>\n",
       "<p>134353 rows × 7 columns</p>\n",
       "</div>"
      ],
      "text/plain": [
       "              subclass                         instance wikiDataID gender  \\\n",
       "537892      Politician  100th_Delaware_General_Assembly   Q4546229    NaN   \n",
       "347886    OfficeHolder  100th_Delaware_General_Assembly   Q4546229    NaN   \n",
       "537893      Politician  101st_Delaware_General_Assembly   Q4546348    NaN   \n",
       "347888    OfficeHolder  101st_Delaware_General_Assembly   Q4546348    NaN   \n",
       "537894      Politician  102nd_Delaware_General_Assembly   Q4546419    NaN   \n",
       "...                ...                              ...        ...    ...   \n",
       "728981      Politician                       Ōyama_Iwao    Q359819   male   \n",
       "217876  MilitaryPerson                    Živko_Budimir   Q2478723   male   \n",
       "729044      Politician                    Živko_Budimir   Q2478723   male   \n",
       "729047      Politician                    Živojin_Mišić   Q1138038   male   \n",
       "217879  MilitaryPerson                    Živojin_Mišić   Q1138038   male   \n",
       "\n",
       "        age  birthYear  publication_year  \n",
       "537892    0        NaN            2009.0  \n",
       "347886    0        NaN            2009.0  \n",
       "537893    0        NaN            2009.0  \n",
       "347888    0        NaN            2009.0  \n",
       "537894    0        NaN            2009.0  \n",
       "...     ...        ...               ...  \n",
       "728981   74        NaN            2003.0  \n",
       "217876   62        NaN            2011.0  \n",
       "729044   62        NaN            2011.0  \n",
       "729047   66        NaN            2003.0  \n",
       "217879   66        NaN            2003.0  \n",
       "\n",
       "[134353 rows x 7 columns]"
      ]
     },
     "execution_count": 9,
     "metadata": {},
     "output_type": "execute_result"
    }
   ],
   "source": [
    "duplicated_rows = df[df.duplicated(subset=['instance', 'wikiDataID'], keep=False)].sort_values(by=['instance'])\n",
    "duplicated_rows"
   ]
  },
  {
   "cell_type": "markdown",
   "id": "c273e5c8-8f16-4441-ae3b-9327f2717871",
   "metadata": {},
   "source": [
    "We can see above that there are 134,353 rows that have duplicated instance and wikiDataID, sicne we only need one rows of these duplicated rows, we wil kepp only the first rows of such."
   ]
  },
  {
   "cell_type": "code",
   "execution_count": 10,
   "id": "9b0b7c23-26d8-4faa-9c92-08074df6984b",
   "metadata": {},
   "outputs": [
    {
     "name": "stdout",
     "output_type": "stream",
     "text": [
      "<class 'pandas.core.frame.DataFrame'>\n",
      "Index: 911850 entries, 0 to 979647\n",
      "Data columns (total 7 columns):\n",
      " #   Column            Non-Null Count   Dtype  \n",
      "---  ------            --------------   -----  \n",
      " 0   subclass          911850 non-null  object \n",
      " 1   instance          911850 non-null  object \n",
      " 2   wikiDataID        880999 non-null  object \n",
      " 3   gender            859866 non-null  object \n",
      " 4   age               911850 non-null  int64  \n",
      " 5   birthYear         245539 non-null  float64\n",
      " 6   publication_year  890068 non-null  float64\n",
      "dtypes: float64(2), int64(1), object(4)\n",
      "memory usage: 55.7+ MB\n"
     ]
    }
   ],
   "source": [
    "df1 = df.drop_duplicates(subset=['instance', 'wikiDataID'], keep='first')\n",
    "df1.info()"
   ]
  },
  {
   "cell_type": "code",
   "execution_count": 11,
   "id": "c5cbe50a-9d84-4087-95ec-19736acb3a15",
   "metadata": {},
   "outputs": [
    {
     "data": {
      "text/plain": [
       "np.int64(0)"
      ]
     },
     "execution_count": 11,
     "metadata": {},
     "output_type": "execute_result"
    }
   ],
   "source": [
    "df1.duplicated().sum() "
   ]
  },
  {
   "cell_type": "markdown",
   "id": "14824f1f-fae8-43c3-a612-e762960cdb09",
   "metadata": {},
   "source": [
    "After dropping all the duplicates, we can infer that there are 979648 - 911850 = 67,798 rows that have duplicated insatnce and wikiDataID and have been removed."
   ]
  },
  {
   "cell_type": "code",
   "execution_count": 12,
   "id": "bd9238b6-8eee-4e72-aac5-945257af7fe2",
   "metadata": {},
   "outputs": [
    {
     "data": {
      "text/plain": [
       "np.int64(148921)"
      ]
     },
     "execution_count": 12,
     "metadata": {},
     "output_type": "execute_result"
    }
   ],
   "source": [
    "df1['wikiDataID'].duplicated().sum()"
   ]
  },
  {
   "cell_type": "markdown",
   "id": "82070314-2087-4725-844c-4702dbcb7f32",
   "metadata": {},
   "source": [
    "However, the WikiDataID columns still shows some duplication which should not happpened sicne we have deleted all the duplicates and since wikiDataID is unique. Thus, I think this happened for some error when collecting the data through the API's where two or more same instance might have been represented by mutiple wikiDataID but only on of them is correct"
   ]
  },
  {
   "cell_type": "code",
   "execution_count": 13,
   "id": "7f064a4e-a615-453e-a2ef-ba97387221a0",
   "metadata": {},
   "outputs": [
    {
     "data": {
      "text/html": [
       "<div>\n",
       "<style scoped>\n",
       "    .dataframe tbody tr th:only-of-type {\n",
       "        vertical-align: middle;\n",
       "    }\n",
       "\n",
       "    .dataframe tbody tr th {\n",
       "        vertical-align: top;\n",
       "    }\n",
       "\n",
       "    .dataframe thead th {\n",
       "        text-align: right;\n",
       "    }\n",
       "</style>\n",
       "<table border=\"1\" class=\"dataframe\">\n",
       "  <thead>\n",
       "    <tr style=\"text-align: right;\">\n",
       "      <th></th>\n",
       "      <th>subclass</th>\n",
       "      <th>instance</th>\n",
       "      <th>wikiDataID</th>\n",
       "      <th>gender</th>\n",
       "      <th>age</th>\n",
       "      <th>birthYear</th>\n",
       "      <th>publication_year</th>\n",
       "    </tr>\n",
       "  </thead>\n",
       "  <tbody>\n",
       "    <tr>\n",
       "      <th>41338</th>\n",
       "      <td>Criminal</td>\n",
       "      <td>2016_St._Cloud,_Minnesota_knife_attack</td>\n",
       "      <td>Q42915632</td>\n",
       "      <td>NaN</td>\n",
       "      <td>-8</td>\n",
       "      <td>NaN</td>\n",
       "      <td>2016.0</td>\n",
       "    </tr>\n",
       "    <tr>\n",
       "      <th>41337</th>\n",
       "      <td>Criminal</td>\n",
       "      <td>2016_St._Cloud,_Minnesota_knife_attack</td>\n",
       "      <td>Q26933993</td>\n",
       "      <td>NaN</td>\n",
       "      <td>-8</td>\n",
       "      <td>NaN</td>\n",
       "      <td>2016.0</td>\n",
       "    </tr>\n",
       "    <tr>\n",
       "      <th>349407</th>\n",
       "      <td>OfficeHolder</td>\n",
       "      <td>A._K._Fazlul_Huq</td>\n",
       "      <td>Q3242246</td>\n",
       "      <td>male</td>\n",
       "      <td>89</td>\n",
       "      <td>NaN</td>\n",
       "      <td>2005.0</td>\n",
       "    </tr>\n",
       "    <tr>\n",
       "      <th>349408</th>\n",
       "      <td>OfficeHolder</td>\n",
       "      <td>A._K._Fazlul_Huq</td>\n",
       "      <td>Q9258264</td>\n",
       "      <td>NaN</td>\n",
       "      <td>89</td>\n",
       "      <td>NaN</td>\n",
       "      <td>2005.0</td>\n",
       "    </tr>\n",
       "    <tr>\n",
       "      <th>217955</th>\n",
       "      <td>Writer</td>\n",
       "      <td>A._L._Kennedy</td>\n",
       "      <td>Q278872</td>\n",
       "      <td>female</td>\n",
       "      <td>59</td>\n",
       "      <td>NaN</td>\n",
       "      <td>2004.0</td>\n",
       "    </tr>\n",
       "    <tr>\n",
       "      <th>...</th>\n",
       "      <td>...</td>\n",
       "      <td>...</td>\n",
       "      <td>...</td>\n",
       "      <td>...</td>\n",
       "      <td>...</td>\n",
       "      <td>...</td>\n",
       "      <td>...</td>\n",
       "    </tr>\n",
       "    <tr>\n",
       "      <th>728657</th>\n",
       "      <td>Politician</td>\n",
       "      <td>Éric_Dupond-Moretti</td>\n",
       "      <td>Q93228978</td>\n",
       "      <td>male</td>\n",
       "      <td>63</td>\n",
       "      <td>NaN</td>\n",
       "      <td>2017.0</td>\n",
       "    </tr>\n",
       "    <tr>\n",
       "      <th>728831</th>\n",
       "      <td>Politician</td>\n",
       "      <td>Ömer_Çelik</td>\n",
       "      <td>Q91468051</td>\n",
       "      <td>male</td>\n",
       "      <td>56</td>\n",
       "      <td>NaN</td>\n",
       "      <td>2013.0</td>\n",
       "    </tr>\n",
       "    <tr>\n",
       "      <th>728830</th>\n",
       "      <td>Politician</td>\n",
       "      <td>Ömer_Çelik</td>\n",
       "      <td>Q297516</td>\n",
       "      <td>male</td>\n",
       "      <td>56</td>\n",
       "      <td>NaN</td>\n",
       "      <td>2013.0</td>\n",
       "    </tr>\n",
       "    <tr>\n",
       "      <th>102404</th>\n",
       "      <td>Royalty</td>\n",
       "      <td>Şehzade_Kasım</td>\n",
       "      <td>Q21523791</td>\n",
       "      <td>male</td>\n",
       "      <td>0</td>\n",
       "      <td>NaN</td>\n",
       "      <td>2022.0</td>\n",
       "    </tr>\n",
       "    <tr>\n",
       "      <th>102403</th>\n",
       "      <td>Royalty</td>\n",
       "      <td>Şehzade_Kasım</td>\n",
       "      <td>Q11929686</td>\n",
       "      <td>male</td>\n",
       "      <td>0</td>\n",
       "      <td>NaN</td>\n",
       "      <td>2022.0</td>\n",
       "    </tr>\n",
       "  </tbody>\n",
       "</table>\n",
       "<p>123471 rows × 7 columns</p>\n",
       "</div>"
      ],
      "text/plain": [
       "            subclass                                instance wikiDataID  \\\n",
       "41338       Criminal  2016_St._Cloud,_Minnesota_knife_attack  Q42915632   \n",
       "41337       Criminal  2016_St._Cloud,_Minnesota_knife_attack  Q26933993   \n",
       "349407  OfficeHolder                        A._K._Fazlul_Huq   Q3242246   \n",
       "349408  OfficeHolder                        A._K._Fazlul_Huq   Q9258264   \n",
       "217955        Writer                           A._L._Kennedy    Q278872   \n",
       "...              ...                                     ...        ...   \n",
       "728657    Politician                     Éric_Dupond-Moretti  Q93228978   \n",
       "728831    Politician                              Ömer_Çelik  Q91468051   \n",
       "728830    Politician                              Ömer_Çelik    Q297516   \n",
       "102404       Royalty                           Şehzade_Kasım  Q21523791   \n",
       "102403       Royalty                           Şehzade_Kasım  Q11929686   \n",
       "\n",
       "        gender  age  birthYear  publication_year  \n",
       "41338      NaN   -8        NaN            2016.0  \n",
       "41337      NaN   -8        NaN            2016.0  \n",
       "349407    male   89        NaN            2005.0  \n",
       "349408     NaN   89        NaN            2005.0  \n",
       "217955  female   59        NaN            2004.0  \n",
       "...        ...  ...        ...               ...  \n",
       "728657    male   63        NaN            2017.0  \n",
       "728831    male   56        NaN            2013.0  \n",
       "728830    male   56        NaN            2013.0  \n",
       "102404    male    0        NaN            2022.0  \n",
       "102403    male    0        NaN            2022.0  \n",
       "\n",
       "[123471 rows x 7 columns]"
      ]
     },
     "execution_count": 13,
     "metadata": {},
     "output_type": "execute_result"
    }
   ],
   "source": [
    "duplicated_wikidata = df1[df1.duplicated(subset=['subclass', 'instance'], keep=False)].sort_values(by=['instance'])\n",
    "duplicated_wikidata"
   ]
  },
  {
   "cell_type": "markdown",
   "id": "6aa38501-669e-4f12-b3f3-8606b439625b",
   "metadata": {},
   "source": [
    "After some initial observation, it is found that my intuation is correct, for example the instance Ömer_Çelik have two wikiDataID but only one is correct which is Q297516. Meanwhile, the wikiDataID = Q91468051 associated with him deos not exists. I plan to run a sparql query in wikidata to get the actual wikidataId for each of these instances and replace them in the df"
   ]
  },
  {
   "cell_type": "code",
   "execution_count": 14,
   "id": "6314165e-f01a-4de4-9021-35ca2bf16a7a",
   "metadata": {},
   "outputs": [
    {
     "data": {
      "text/plain": [
       "subclass  instance         \n",
       "Academic  Alan_Martin_Boase                               [Q18917167, Q19258718]\n",
       "          Albert_Elsen                                    [Q59628885, Q19753752]\n",
       "          Andre_Franke                                   [Q67470670, Q114345084]\n",
       "          Andrew_Lambert                                   [Q4757681, Q60103671]\n",
       "          Autumn_Stanley       [Q95682724, Q95680876, Q95637638, Q95336311, Q...\n",
       "                                                     ...                        \n",
       "Writer    Max_Müller                                         [Q60074, Q55068911]\n",
       "          Mbongeni_Ngema                                   [Q10327912, Q6799750]\n",
       "          Mel_Odom_(author)                                 [Q4331780, Q6810802]\n",
       "          Melinda_Metz         [Q22107416, Q238361, Q23780935, Q2375655, Q237...\n",
       "Youtuber  TimTheTatman                                   [Q61789029, Q111584802]\n",
       "Name: wikiDataID, Length: 2625, dtype: object"
      ]
     },
     "execution_count": 14,
     "metadata": {},
     "output_type": "execute_result"
    }
   ],
   "source": [
    "instances_with_multiple_ids = duplicated_wikidata.groupby(['subclass', 'instance'])['wikiDataID'].unique()\n",
    "instances_with_multiple_ids"
   ]
  },
  {
   "cell_type": "code",
   "execution_count": 15,
   "id": "a80eb69f-383d-434b-bb2c-f656a7bec2a5",
   "metadata": {},
   "outputs": [
    {
     "data": {
      "text/html": [
       "<div>\n",
       "<style scoped>\n",
       "    .dataframe tbody tr th:only-of-type {\n",
       "        vertical-align: middle;\n",
       "    }\n",
       "\n",
       "    .dataframe tbody tr th {\n",
       "        vertical-align: top;\n",
       "    }\n",
       "\n",
       "    .dataframe thead th {\n",
       "        text-align: right;\n",
       "    }\n",
       "</style>\n",
       "<table border=\"1\" class=\"dataframe\">\n",
       "  <thead>\n",
       "    <tr style=\"text-align: right;\">\n",
       "      <th></th>\n",
       "      <th>subclass</th>\n",
       "      <th>instance</th>\n",
       "      <th>wikiDataID</th>\n",
       "      <th>gender</th>\n",
       "      <th>age</th>\n",
       "      <th>birthYear</th>\n",
       "      <th>publication_year</th>\n",
       "    </tr>\n",
       "  </thead>\n",
       "  <tbody>\n",
       "    <tr>\n",
       "      <th>417884</th>\n",
       "      <td>Artist</td>\n",
       "      <td>!PAUS3</td>\n",
       "      <td>Q3466056</td>\n",
       "      <td>male</td>\n",
       "      <td>43</td>\n",
       "      <td>NaN</td>\n",
       "      <td>2011.0</td>\n",
       "    </tr>\n",
       "    <tr>\n",
       "      <th>417885</th>\n",
       "      <td>Artist</td>\n",
       "      <td>$pacely</td>\n",
       "      <td>Q73507574</td>\n",
       "      <td>male</td>\n",
       "      <td>32</td>\n",
       "      <td>NaN</td>\n",
       "      <td>2018.0</td>\n",
       "    </tr>\n",
       "    <tr>\n",
       "      <th>38134</th>\n",
       "      <td>Criminal</td>\n",
       "      <td>%22Baby_Lollipops%22_murder</td>\n",
       "      <td>Q64875934</td>\n",
       "      <td>NaN</td>\n",
       "      <td>63</td>\n",
       "      <td>NaN</td>\n",
       "      <td>2023.0</td>\n",
       "    </tr>\n",
       "    <tr>\n",
       "      <th>417886</th>\n",
       "      <td>Artist</td>\n",
       "      <td>%22Bassy%22_Bob_Brockmann</td>\n",
       "      <td>Q13416958</td>\n",
       "      <td>male</td>\n",
       "      <td>62</td>\n",
       "      <td>NaN</td>\n",
       "      <td>2013.0</td>\n",
       "    </tr>\n",
       "    <tr>\n",
       "      <th>537884</th>\n",
       "      <td>Politician</td>\n",
       "      <td>%22Big%22_Donnie_MacLeod</td>\n",
       "      <td>Q18645783</td>\n",
       "      <td>male</td>\n",
       "      <td>75</td>\n",
       "      <td>NaN</td>\n",
       "      <td>2014.0</td>\n",
       "    </tr>\n",
       "    <tr>\n",
       "      <th>...</th>\n",
       "      <td>...</td>\n",
       "      <td>...</td>\n",
       "      <td>...</td>\n",
       "      <td>...</td>\n",
       "      <td>...</td>\n",
       "      <td>...</td>\n",
       "      <td>...</td>\n",
       "    </tr>\n",
       "    <tr>\n",
       "      <th>102470</th>\n",
       "      <td>Royalty</td>\n",
       "      <td>Ḫarapšili</td>\n",
       "      <td>Q742087</td>\n",
       "      <td>female</td>\n",
       "      <td>0</td>\n",
       "      <td>NaN</td>\n",
       "      <td>2012.0</td>\n",
       "    </tr>\n",
       "    <tr>\n",
       "      <th>102471</th>\n",
       "      <td>Royalty</td>\n",
       "      <td>Ḫattušili_III</td>\n",
       "      <td>Q297588</td>\n",
       "      <td>male</td>\n",
       "      <td>0</td>\n",
       "      <td>NaN</td>\n",
       "      <td>2004.0</td>\n",
       "    </tr>\n",
       "    <tr>\n",
       "      <th>26705</th>\n",
       "      <td>Religious</td>\n",
       "      <td>Ṭhānissaro_Bhikkhu</td>\n",
       "      <td>Q7710407</td>\n",
       "      <td>male</td>\n",
       "      <td>75</td>\n",
       "      <td>NaN</td>\n",
       "      <td>2006.0</td>\n",
       "    </tr>\n",
       "    <tr>\n",
       "      <th>102472</th>\n",
       "      <td>Royalty</td>\n",
       "      <td>Ỷ_Lan</td>\n",
       "      <td>Q10843033</td>\n",
       "      <td>female</td>\n",
       "      <td>0</td>\n",
       "      <td>NaN</td>\n",
       "      <td>2010.0</td>\n",
       "    </tr>\n",
       "    <tr>\n",
       "      <th>102473</th>\n",
       "      <td>Royalty</td>\n",
       "      <td>‘Ulayya_bint_al-Mahdī</td>\n",
       "      <td>NaN</td>\n",
       "      <td>NaN</td>\n",
       "      <td>0</td>\n",
       "      <td>NaN</td>\n",
       "      <td>2019.0</td>\n",
       "    </tr>\n",
       "  </tbody>\n",
       "</table>\n",
       "<p>791004 rows × 7 columns</p>\n",
       "</div>"
      ],
      "text/plain": [
       "          subclass                     instance wikiDataID  gender  age  \\\n",
       "417884      Artist                       !PAUS3   Q3466056    male   43   \n",
       "417885      Artist                      $pacely  Q73507574    male   32   \n",
       "38134     Criminal  %22Baby_Lollipops%22_murder  Q64875934     NaN   63   \n",
       "417886      Artist    %22Bassy%22_Bob_Brockmann  Q13416958    male   62   \n",
       "537884  Politician     %22Big%22_Donnie_MacLeod  Q18645783    male   75   \n",
       "...            ...                          ...        ...     ...  ...   \n",
       "102470     Royalty                    Ḫarapšili    Q742087  female    0   \n",
       "102471     Royalty                Ḫattušili_III    Q297588    male    0   \n",
       "26705    Religious           Ṭhānissaro_Bhikkhu   Q7710407    male   75   \n",
       "102472     Royalty                        Ỷ_Lan  Q10843033  female    0   \n",
       "102473     Royalty        ‘Ulayya_bint_al-Mahdī        NaN     NaN    0   \n",
       "\n",
       "        birthYear  publication_year  \n",
       "417884        NaN            2011.0  \n",
       "417885        NaN            2018.0  \n",
       "38134         NaN            2023.0  \n",
       "417886        NaN            2013.0  \n",
       "537884        NaN            2014.0  \n",
       "...           ...               ...  \n",
       "102470        NaN            2012.0  \n",
       "102471        NaN            2004.0  \n",
       "26705         NaN            2006.0  \n",
       "102472        NaN            2010.0  \n",
       "102473        NaN            2019.0  \n",
       "\n",
       "[791004 rows x 7 columns]"
      ]
     },
     "execution_count": 15,
     "metadata": {},
     "output_type": "execute_result"
    }
   ],
   "source": [
    "df2 = df1[~df1.duplicated(subset=['subclass', 'instance'], keep='first')].sort_values(by=['instance'])\n",
    "df2"
   ]
  },
  {
   "cell_type": "code",
   "execution_count": 16,
   "id": "33daa771-b7fd-4f13-b028-7e664eca7d61",
   "metadata": {},
   "outputs": [
    {
     "name": "stdout",
     "output_type": "stream",
     "text": [
      "<class 'pandas.core.frame.DataFrame'>\n",
      "Index: 791004 entries, 417884 to 102473\n",
      "Data columns (total 7 columns):\n",
      " #   Column            Non-Null Count   Dtype  \n",
      "---  ------            --------------   -----  \n",
      " 0   subclass          791004 non-null  object \n",
      " 1   instance          791004 non-null  object \n",
      " 2   wikiDataID        760153 non-null  object \n",
      " 3   gender            743194 non-null  object \n",
      " 4   age               791004 non-null  int64  \n",
      " 5   birthYear         242387 non-null  float64\n",
      " 6   publication_year  769224 non-null  float64\n",
      "dtypes: float64(2), int64(1), object(4)\n",
      "memory usage: 48.3+ MB\n"
     ]
    }
   ],
   "source": [
    "df2.info()"
   ]
  },
  {
   "cell_type": "markdown",
   "id": "8069cdbe-6de2-474e-832f-a2408bb5e5f9",
   "metadata": {},
   "source": [
    "Actual df = 911850, duplicated wikiDataID = 123471, unique wikidataid from the duplicated = 2625; Cleaned df = 911850 - 123471 + 2625 = **791004** which is consistent with the information above."
   ]
  },
  {
   "cell_type": "code",
   "execution_count": 17,
   "id": "ddeed5b2-6eea-4442-9a00-f0483513284e",
   "metadata": {},
   "outputs": [
    {
     "name": "stdout",
     "output_type": "stream",
     "text": [
      "\u001b[33mWARNING: The directory '/home/jovyan/.cache/pip' or its parent directory is not owned or is not writable by the current user. The cache has been disabled. Check the permissions and owner of that directory. If executing pip with sudo, you should use sudo's -H flag.\u001b[0m\u001b[33m\n",
      "\u001b[0mRequirement already satisfied: rdflib in /opt/conda/lib/python3.11/site-packages (7.0.0)\n",
      "Requirement already satisfied: isodate<0.7.0,>=0.6.0 in /opt/conda/lib/python3.11/site-packages (from rdflib) (0.6.1)\n",
      "Requirement already satisfied: pyparsing<4,>=2.1.0 in /opt/conda/lib/python3.11/site-packages (from rdflib) (3.1.2)\n",
      "Requirement already satisfied: six in /opt/conda/lib/python3.11/site-packages (from isodate<0.7.0,>=0.6.0->rdflib) (1.16.0)\n",
      "\u001b[33mWARNING: The directory '/home/jovyan/.cache/pip' or its parent directory is not owned or is not writable by the current user. The cache has been disabled. Check the permissions and owner of that directory. If executing pip with sudo, you should use sudo's -H flag.\u001b[0m\u001b[33m\n",
      "\u001b[0mRequirement already satisfied: SPARQLWrapper in /opt/conda/lib/python3.11/site-packages (2.0.0)\n",
      "Requirement already satisfied: rdflib>=6.1.1 in /opt/conda/lib/python3.11/site-packages (from SPARQLWrapper) (7.0.0)\n",
      "Requirement already satisfied: isodate<0.7.0,>=0.6.0 in /opt/conda/lib/python3.11/site-packages (from rdflib>=6.1.1->SPARQLWrapper) (0.6.1)\n",
      "Requirement already satisfied: pyparsing<4,>=2.1.0 in /opt/conda/lib/python3.11/site-packages (from rdflib>=6.1.1->SPARQLWrapper) (3.1.2)\n",
      "Requirement already satisfied: six in /opt/conda/lib/python3.11/site-packages (from isodate<0.7.0,>=0.6.0->rdflib>=6.1.1->SPARQLWrapper) (1.16.0)\n"
     ]
    }
   ],
   "source": [
    "!pip install rdflib\n",
    "!pip install SPARQLWrapper"
   ]
  },
  {
   "cell_type": "code",
   "execution_count": 24,
   "id": "b7e65560-d99c-4511-b55b-3b76d91c8c96",
   "metadata": {},
   "outputs": [],
   "source": [
    "from SPARQLWrapper import SPARQLWrapper, JSON\n",
    "import time\n",
    "\n",
    "# Initialize the SPARQL wrapper\n",
    "dbpedia_sparql = SPARQLWrapper('https://dbpedia.org/sparql')\n",
    "\n",
    "def get_instance_from_dbpedia(wikidata_id):\n",
    "    # Define the query to get the DBpedia resource URI\n",
    "    query = f\"\"\"\n",
    "    PREFIX owl: <http://www.w3.org/2002/07/owl#>\n",
    "    PREFIX wd: <http://www.wikidata.org/entity/>\n",
    "\n",
    "    SELECT ?instance WHERE {{\n",
    "      ?instance owl:sameAs wd:{wikidata_id}.\n",
    "    }}\n",
    "    \"\"\"\n",
    "    \n",
    "    dbpedia_sparql.setQuery(query)\n",
    "    dbpedia_sparql.setReturnFormat(JSON)\n",
    "    \n",
    "    while True:\n",
    "        try:\n",
    "            # Execute the query and fetch results\n",
    "            results = dbpedia_sparql.query().convert()\n",
    "                \n",
    "            if results[\"results\"][\"bindings\"]:\n",
    "                instance = results[\"results\"][\"bindings\"][0][\"instance\"][\"value\"]\n",
    "                return instance.replace(\"http://dbpedia.org/resource/\", \"\")\n",
    "            else:\n",
    "                return None\n",
    "        \n",
    "        except Exception as e:\n",
    "            print(f\"Error: {e}. Retrying after 2 seconds...\")\n",
    "            time.sleep(2)\n",
    "\n",
    "def get_correct_wikidata_ids(instances_with_multiple_ids):\n",
    "    mapping = {}\n",
    "    for (subclass, instance), ids in instances_with_multiple_ids.items():\n",
    "        for wikidata_id in ids:\n",
    "            name = get_instance_from_dbpedia(wikidata_id)\n",
    "            if instance == name:\n",
    "                mapping[(subclass, instance)] = wikidata_id\n",
    "                break\n",
    "    return mapping\n",
    "\n",
    "# Example usage:\n",
    "# Assuming `instances_with_multiple_ids` is defined somewhere\n",
    "# wikidata_mapping = get_correct_wikidata_ids(instances_with_multiple_ids)\n"
   ]
  },
  {
   "cell_type": "code",
   "execution_count": null,
   "id": "755d069d-b8b3-4f70-80d5-2bcd49443c93",
   "metadata": {},
   "outputs": [
    {
     "name": "stdout",
     "output_type": "stream",
     "text": [
      "Error: Remote end closed connection without response. Retrying after 2 seconds...\n",
      "Error: Remote end closed connection without response. Retrying after 2 seconds...\n",
      "Error: Remote end closed connection without response. Retrying after 2 seconds...\n",
      "Error: Remote end closed connection without response. Retrying after 2 seconds...\n",
      "Error: Remote end closed connection without response. Retrying after 2 seconds...\n",
      "Error: Remote end closed connection without response. Retrying after 2 seconds...\n",
      "Error: Remote end closed connection without response. Retrying after 2 seconds...\n",
      "Error: Remote end closed connection without response. Retrying after 2 seconds...\n",
      "Error: Remote end closed connection without response. Retrying after 2 seconds...\n",
      "Error: Remote end closed connection without response. Retrying after 2 seconds...\n",
      "Error: Remote end closed connection without response. Retrying after 2 seconds...\n",
      "Error: Remote end closed connection without response. Retrying after 2 seconds...\n",
      "Error: Remote end closed connection without response. Retrying after 2 seconds...\n",
      "Error: Remote end closed connection without response. Retrying after 2 seconds...\n",
      "Error: Remote end closed connection without response. Retrying after 2 seconds...\n",
      "Error: Remote end closed connection without response. Retrying after 2 seconds...\n",
      "Error: HTTP Error 503: Service Temporarily Unavailable. Retrying after 2 seconds...\n",
      "Error: HTTP Error 503: Service Temporarily Unavailable. Retrying after 2 seconds...\n",
      "Error: HTTP Error 503: Service Temporarily Unavailable. Retrying after 2 seconds...\n",
      "Error: HTTP Error 503: Service Temporarily Unavailable. Retrying after 2 seconds...\n",
      "Error: HTTP Error 503: Service Temporarily Unavailable. Retrying after 2 seconds...\n",
      "Error: HTTP Error 503: Service Temporarily Unavailable. Retrying after 2 seconds...\n",
      "Error: HTTP Error 503: Service Temporarily Unavailable. Retrying after 2 seconds...\n",
      "Error: HTTP Error 503: Service Temporarily Unavailable. Retrying after 2 seconds...\n",
      "Error: HTTP Error 503: Service Temporarily Unavailable. Retrying after 2 seconds...\n",
      "Error: HTTP Error 503: Service Temporarily Unavailable. Retrying after 2 seconds...\n",
      "Error: HTTP Error 503: Service Temporarily Unavailable. Retrying after 2 seconds...\n",
      "Error: Remote end closed connection without response. Retrying after 2 seconds...\n",
      "Error: Remote end closed connection without response. Retrying after 2 seconds...\n",
      "Error: Remote end closed connection without response. Retrying after 2 seconds...\n",
      "Error: Remote end closed connection without response. Retrying after 2 seconds...\n",
      "Error: Remote end closed connection without response. Retrying after 2 seconds...\n",
      "Error: Remote end closed connection without response. Retrying after 2 seconds...\n",
      "Error: Remote end closed connection without response. Retrying after 2 seconds...\n",
      "Error: Remote end closed connection without response. Retrying after 2 seconds...\n",
      "Error: Remote end closed connection without response. Retrying after 2 seconds...\n",
      "Error: Remote end closed connection without response. Retrying after 2 seconds...\n",
      "Error: Remote end closed connection without response. Retrying after 2 seconds...\n",
      "Error: Remote end closed connection without response. Retrying after 2 seconds...\n",
      "Error: Remote end closed connection without response. Retrying after 2 seconds...\n",
      "Error: Remote end closed connection without response. Retrying after 2 seconds...\n",
      "Error: Remote end closed connection without response. Retrying after 2 seconds...\n",
      "Error: Remote end closed connection without response. Retrying after 2 seconds...\n",
      "Error: Remote end closed connection without response. Retrying after 2 seconds...\n",
      "Error: Remote end closed connection without response. Retrying after 2 seconds...\n"
     ]
    }
   ],
   "source": [
    "wikidata_mapping = get_correct_wikidata_ids(instances_with_multiple_ids)"
   ]
  },
  {
   "cell_type": "code",
   "execution_count": null,
   "id": "23f81eab-8571-4192-8732-2858e881e521",
   "metadata": {},
   "outputs": [],
   "source": [
    "# Define function to get the correct wikiDataID from the mapping\n",
    "def get_correct_wikidata_id(row, mapping):\n",
    "    key = (row['subclass'], row['instance'])\n",
    "    return mapping.get(key, row['wikiDataID'])  # Fallback to the original wikiDataID if no mapping is found\n",
    "\n",
    "# Update df2 with the correct wikiDataID\n",
    "df2['correct_wikiDataID'] = df2.apply(lambda row: get_correct_wikidata_id(row, wikidata_mapping), axis=1)\n",
    "\n",
    "# Drop the old wikiDataID column and rename new column\n",
    "df2 = df2.drop(columns='wikiDataID')\n",
    "df2 = df2.rename(columns={'correct_wikiDataID': 'wikiDataID'})\n",
    "\n",
    "print(\"Updated df2 with Correct WikiDataID:\")\n",
    "print(df2)"
   ]
  },
  {
   "cell_type": "code",
   "execution_count": 59,
   "id": "81f55a1a-1b8e-4621-a457-d20721e8dca6",
   "metadata": {},
   "outputs": [],
   "source": [
    "#### Initial combined dataset (without prerpocessing/cleaning)\n",
    "# df1.to_csv(f\"tryfinal.csv\", index=False)"
   ]
  },
  {
   "cell_type": "markdown",
   "id": "f4582051-f24a-464f-9d00-dfd9047c0b41",
   "metadata": {},
   "source": [
    "## 2) Handling Missing Data "
   ]
  },
  {
   "cell_type": "markdown",
   "id": "296cd241-2449-4ef0-8d40-5f2bc58d0eef",
   "metadata": {},
   "source": [
    "<strong> Identify the Number of Missing Values </strong>"
   ]
  },
  {
   "cell_type": "code",
   "execution_count": 60,
   "id": "6298e72d-3470-462d-a91f-96dca083479e",
   "metadata": {},
   "outputs": [
    {
     "data": {
      "text/plain": [
       "subclass                 0\n",
       "instance                 0\n",
       "wikiDataID           30851\n",
       "gender               51984\n",
       "age                      0\n",
       "birthYear           666311\n",
       "publication_year     21782\n",
       "dtype: int64"
      ]
     },
     "execution_count": 60,
     "metadata": {},
     "output_type": "execute_result"
    }
   ],
   "source": [
    "df1.isna().sum()"
   ]
  },
  {
   "cell_type": "markdown",
   "id": "95723505-259d-4aca-8cbc-3c88412fac2e",
   "metadata": {},
   "source": [
    "#### 2.1 Missing Data: Gender Column"
   ]
  },
  {
   "cell_type": "code",
   "execution_count": 61,
   "id": "aec6aee7-3905-4b3d-af95-e275fdae06be",
   "metadata": {},
   "outputs": [
    {
     "data": {
      "text/plain": [
       "count     859866\n",
       "unique        53\n",
       "top         male\n",
       "freq      708944\n",
       "Name: gender, dtype: object"
      ]
     },
     "execution_count": 61,
     "metadata": {},
     "output_type": "execute_result"
    }
   ],
   "source": [
    "# summarization of Culmen length (mm) before imputation\n",
    "df1[\"gender\"].describe()"
   ]
  },
  {
   "cell_type": "code",
   "execution_count": 62,
   "id": "4e47529d-b957-4a23-99d7-fe8e7b582167",
   "metadata": {},
   "outputs": [
    {
     "data": {
      "text/plain": [
       "gender\n",
       "male                                                                          708944\n",
       "female                                                                        150202\n",
       "trans woman                                                                      346\n",
       "non-binary                                                                       158\n",
       "trans man                                                                         54\n",
       "male organism                                                                     30\n",
       "genderfluid                                                                       17\n",
       "eunuch                                                                            16\n",
       "intersex woman                                                                    15\n",
       "intersex man                                                                      10\n",
       "transgender                                                                        7\n",
       "genderqueer                                                                        7\n",
       "intersex                                                                           6\n",
       "two-spirit                                                                         5\n",
       "transmasculine                                                                     4\n",
       "agender                                                                            4\n",
       "female organism                                                                    4\n",
       "cisgender woman                                                                    2\n",
       "http://www.wikidata.org/.well-known/genid/ed55392f46b48a8d4e291ef9180e510e         1\n",
       "http://www.wikidata.org/.well-known/genid/ae33a05c57f8e7ff5d41b023e32b26c1         1\n",
       "cisgender man                                                                      1\n",
       "http://www.wikidata.org/.well-known/genid/e288f64435fcd74a0889d64ba9b4dc1d         1\n",
       "faʻafafine                                                                         1\n",
       "http://www.wikidata.org/.well-known/genid/9c0b5bebce2d1bff63aa0763b1fa19db         1\n",
       "http://www.wikidata.org/.well-known/genid/3dfdf04289b25e8387ff90360c1dd060         1\n",
       "http://www.wikidata.org/.well-known/genid/ebbbd6599c004380043ea866fa33bab6         1\n",
       "bigender                                                                           1\n",
       "http://www.wikidata.org/.well-known/genid/abb37c6d8954c035e73eca8056d58b38         1\n",
       "http://www.wikidata.org/.well-known/genid/c81a0c81e2ff8efef355d9a5064e4bdc         1\n",
       "http://www.wikidata.org/.well-known/genid/ed31a0d505571ff0c8615201fa02616f         1\n",
       "http://www.wikidata.org/.well-known/genid/dcd4088849cc1d204d645b67b3008c7a         1\n",
       "http://www.wikidata.org/.well-known/genid/874bf8334c4aab0d6cfd74a4932f5098         1\n",
       "http://www.wikidata.org/.well-known/genid/0ed16e7846e740868d3e5737ad936112         1\n",
       "http://www.wikidata.org/.well-known/genid/d27735d84edf04c8d57d567a4d20c85e         1\n",
       "undisclosed gender                                                                 1\n",
       "http://www.wikidata.org/.well-known/genid/9f8243585ab30773bfe29ba80268e985         1\n",
       "http://www.wikidata.org/.well-known/genid/9d3887ab4b162fd91759804f70454f73         1\n",
       "http://www.wikidata.org/.well-known/genid/ec27199998276ba57f7e22b3a24d39bf         1\n",
       "http://www.wikidata.org/.well-known/genid/1bc67f47860f3afd835d8d218683587e         1\n",
       "http://www.wikidata.org/.well-known/genid/ab5d4aedd9ba034e73160849ee80afed         1\n",
       "http://www.wikidata.org/.well-known/genid/393a5bdab2ad4c66773c0a21f70419c0         1\n",
       "http://www.wikidata.org/.well-known/genid/4c6b1394f262a4df9db43434980688a2         1\n",
       "http://www.wikidata.org/.well-known/genid/fff7757c92d3ed448966f80f6f0acaaf         1\n",
       "http://www.wikidata.org/.well-known/genid/c456c9c8f2aadd0bd06995d9ada0e62a         1\n",
       "http://www.wikidata.org/.well-known/genid/7ef2d131e7c47832a556029bb0923d58         1\n",
       "http://www.wikidata.org/.well-known/genid/a74c7cebeef6b8b0f8db0348aeac2066         1\n",
       "http://www.wikidata.org/.well-known/genid/049933859592216ef357052e54bfdeb3         1\n",
       "http://www.wikidata.org/.well-known/genid/508662fab59938313a4eba0de5f03e17         1\n",
       "http://www.wikidata.org/.well-known/genid/edf1b1d1846916eb2c9aaec5da866e29         1\n",
       "http://www.wikidata.org/.well-known/genid/d33b6fa8eb65aeffdf0b5bfa826edebd         1\n",
       "http://www.wikidata.org/.well-known/genid/e3af423ca25239afdec4fdeefa52f34d         1\n",
       "androgynos                                                                         1\n",
       "travesti                                                                           1\n",
       "Name: count, dtype: int64"
      ]
     },
     "execution_count": 62,
     "metadata": {},
     "output_type": "execute_result"
    }
   ],
   "source": [
    "gender_distribution_count = df1[\"gender\"].value_counts()\n",
    "gender_distribution_count"
   ]
  },
  {
   "cell_type": "markdown",
   "id": "0535c5b2-f428-41e2-b7ed-8ce21657a57a",
   "metadata": {},
   "source": [
    "There are 53 unique values for the gender column, with male being the majority gender for the instances. There are also 53,078 instances that are not assigned to a gender which we need to handle later. There are also some unwanted values that can be seem to be starting with a common link which is \"http://www.wikidata.org/.well-known/genid\". We will start by replacing those values (associated to 29 rows) with null before deciding what to do with the null values "
   ]
  },
  {
   "cell_type": "code",
   "execution_count": 63,
   "id": "895c8900-a1bd-499e-b597-96f955e7e703",
   "metadata": {},
   "outputs": [
    {
     "data": {
      "text/plain": [
       "29"
      ]
     },
     "execution_count": 63,
     "metadata": {},
     "output_type": "execute_result"
    }
   ],
   "source": [
    "# Replace NaN values with an empty string temporarily\n",
    "s1 = df1['gender'].fillna('')\n",
    "\n",
    "# Create a boolean mask for unwanted gender values\n",
    "unwanted_gender_mask = s1.str.contains('http://www.wikidata.org/.well-known/genid', regex=False)\n",
    "\n",
    "# Count the unwanted gender values\n",
    "unwanted_gender_count = unwanted_gender_mask.sum()\n",
    "\n",
    "# Replace unwanted gender values with NaN\n",
    "df1.loc[unwanted_gender_mask, 'gender'] = np.nan\n",
    "\n",
    "# Output the count of unwanted gender values\n",
    "unwanted_gender_count"
   ]
  },
  {
   "cell_type": "code",
   "execution_count": 64,
   "id": "57cf990a-3959-4f8f-85f1-274c3b6b9a7a",
   "metadata": {},
   "outputs": [
    {
     "data": {
      "text/plain": [
       "gender\n",
       "male                  708944\n",
       "female                150202\n",
       "trans woman              346\n",
       "non-binary               158\n",
       "trans man                 54\n",
       "male organism             30\n",
       "genderfluid               17\n",
       "eunuch                    16\n",
       "intersex woman            15\n",
       "intersex man              10\n",
       "genderqueer                7\n",
       "transgender                7\n",
       "intersex                   6\n",
       "two-spirit                 5\n",
       "female organism            4\n",
       "transmasculine             4\n",
       "agender                    4\n",
       "cisgender woman            2\n",
       "undisclosed gender         1\n",
       "cisgender man              1\n",
       "faʻafafine                 1\n",
       "bigender                   1\n",
       "androgynos                 1\n",
       "travesti                   1\n",
       "Name: count, dtype: int64"
      ]
     },
     "execution_count": 64,
     "metadata": {},
     "output_type": "execute_result"
    }
   ],
   "source": [
    "gender_distribution_count = df1[\"gender\"].value_counts()\n",
    "gender_distribution_count"
   ]
  },
  {
   "cell_type": "code",
   "execution_count": 65,
   "id": "d312422e-e537-4c73-a69e-efffa26df97a",
   "metadata": {},
   "outputs": [
    {
     "data": {
      "text/plain": [
       "count     859837\n",
       "unique        24\n",
       "top         male\n",
       "freq      708944\n",
       "Name: gender, dtype: object"
      ]
     },
     "execution_count": 65,
     "metadata": {},
     "output_type": "execute_result"
    }
   ],
   "source": [
    "# summarization of Culmen length (mm) before imputation\n",
    "df1[\"gender\"].describe()"
   ]
  },
  {
   "cell_type": "code",
   "execution_count": 66,
   "id": "c1f1fee4-b166-4fa3-aafc-6d8aa2759357",
   "metadata": {},
   "outputs": [
    {
     "data": {
      "text/plain": [
       "52013"
      ]
     },
     "execution_count": 66,
     "metadata": {},
     "output_type": "execute_result"
    }
   ],
   "source": [
    "df1['gender'].isna().sum()"
   ]
  },
  {
   "cell_type": "markdown",
   "id": "d098dd30-d7aa-4668-90b4-1d731b50fe03",
   "metadata": {},
   "source": [
    "#### 2.2 Missing Data: Age Column"
   ]
  },
  {
   "cell_type": "markdown",
   "id": "30b2a563-eb6f-4493-9f91-835212502160",
   "metadata": {},
   "source": [
    "There age column should not have any missing values. However, we will check if the age values make sense."
   ]
  },
  {
   "cell_type": "code",
   "execution_count": 67,
   "id": "737d3b7a-b414-423d-b3c0-e93285d5760f",
   "metadata": {},
   "outputs": [
    {
     "data": {
      "text/plain": [
       "count    911850.000000\n",
       "mean         36.417588\n",
       "std          93.864980\n",
       "min       -3395.000000\n",
       "25%           0.000000\n",
       "50%          46.000000\n",
       "75%          72.000000\n",
       "max        4431.000000\n",
       "Name: age, dtype: float64"
      ]
     },
     "execution_count": 67,
     "metadata": {},
     "output_type": "execute_result"
    }
   ],
   "source": [
    "df1['age'].describe()"
   ]
  },
  {
   "cell_type": "markdown",
   "id": "2fc62a1d-693b-4f0a-94c5-8fe8292080b4",
   "metadata": {},
   "source": [
    "We can see that the minimum value for age is -3395 which is not possible in the real world. Thus, we will inspect further and get all rows with age less than and equal to 0."
   ]
  },
  {
   "cell_type": "code",
   "execution_count": 68,
   "id": "607deb2f-642f-4977-b10a-a853e4f725a7",
   "metadata": {},
   "outputs": [
    {
     "data": {
      "text/plain": [
       "5         0\n",
       "6         0\n",
       "7         0\n",
       "8         0\n",
       "9         0\n",
       "         ..\n",
       "968299    0\n",
       "971260    0\n",
       "972301   -5\n",
       "974442   -8\n",
       "975091    0\n",
       "Name: age, Length: 276088, dtype: int64"
      ]
     },
     "execution_count": 68,
     "metadata": {},
     "output_type": "execute_result"
    }
   ],
   "source": [
    "df1.loc[df1['age'] <= 0, 'age'] "
   ]
  },
  {
   "cell_type": "markdown",
   "id": "3c3cf0ac-233c-4c39-b996-a16ab9c0790f",
   "metadata": {},
   "source": [
    "There are 276,088 rows with age <= 0. We could try using the wikidata api to retrieve the value for age since we have only used dbpedia to retrieve the age before. To do that, we still need the wikiDataID of the instances. Thus, we will make sure that majority of the instances with age<=0 does have wikiDataID as some of them might have null values."
   ]
  },
  {
   "cell_type": "code",
   "execution_count": 69,
   "id": "4f74edaf-e83a-4ad6-ae7a-c8e967873164",
   "metadata": {},
   "outputs": [
    {
     "data": {
      "text/html": [
       "<div>\n",
       "<style scoped>\n",
       "    .dataframe tbody tr th:only-of-type {\n",
       "        vertical-align: middle;\n",
       "    }\n",
       "\n",
       "    .dataframe tbody tr th {\n",
       "        vertical-align: top;\n",
       "    }\n",
       "\n",
       "    .dataframe thead th {\n",
       "        text-align: right;\n",
       "    }\n",
       "</style>\n",
       "<table border=\"1\" class=\"dataframe\">\n",
       "  <thead>\n",
       "    <tr style=\"text-align: right;\">\n",
       "      <th></th>\n",
       "      <th>subclass</th>\n",
       "      <th>instance</th>\n",
       "      <th>wikiDataID</th>\n",
       "      <th>gender</th>\n",
       "      <th>age</th>\n",
       "      <th>birthYear</th>\n",
       "      <th>publication_year</th>\n",
       "    </tr>\n",
       "  </thead>\n",
       "  <tbody>\n",
       "    <tr>\n",
       "      <th>70</th>\n",
       "      <td>Judge</td>\n",
       "      <td>Virendra_Singh_(Lokayukta)</td>\n",
       "      <td>NaN</td>\n",
       "      <td>NaN</td>\n",
       "      <td>0</td>\n",
       "      <td>NaN</td>\n",
       "      <td>2021.0</td>\n",
       "    </tr>\n",
       "    <tr>\n",
       "      <th>71</th>\n",
       "      <td>Judge</td>\n",
       "      <td>Karen_Fort_Hood__US-judge-stub__1</td>\n",
       "      <td>NaN</td>\n",
       "      <td>NaN</td>\n",
       "      <td>0</td>\n",
       "      <td>NaN</td>\n",
       "      <td>NaN</td>\n",
       "    </tr>\n",
       "    <tr>\n",
       "      <th>72</th>\n",
       "      <td>Judge</td>\n",
       "      <td>Kelly_Thompson_(judge)__US-judge-stub__1</td>\n",
       "      <td>NaN</td>\n",
       "      <td>NaN</td>\n",
       "      <td>0</td>\n",
       "      <td>NaN</td>\n",
       "      <td>NaN</td>\n",
       "    </tr>\n",
       "    <tr>\n",
       "      <th>73</th>\n",
       "      <td>Judge</td>\n",
       "      <td>Jonathan_Remington__US-judge-stub__1</td>\n",
       "      <td>NaN</td>\n",
       "      <td>NaN</td>\n",
       "      <td>0</td>\n",
       "      <td>NaN</td>\n",
       "      <td>NaN</td>\n",
       "    </tr>\n",
       "    <tr>\n",
       "      <th>74</th>\n",
       "      <td>Judge</td>\n",
       "      <td>Joseph_W._Nega__US-judge-stub__1</td>\n",
       "      <td>NaN</td>\n",
       "      <td>NaN</td>\n",
       "      <td>0</td>\n",
       "      <td>NaN</td>\n",
       "      <td>NaN</td>\n",
       "    </tr>\n",
       "    <tr>\n",
       "      <th>...</th>\n",
       "      <td>...</td>\n",
       "      <td>...</td>\n",
       "      <td>...</td>\n",
       "      <td>...</td>\n",
       "      <td>...</td>\n",
       "      <td>...</td>\n",
       "      <td>...</td>\n",
       "    </tr>\n",
       "    <tr>\n",
       "      <th>726644</th>\n",
       "      <td>Politician</td>\n",
       "      <td>Stoffel_Botha__Jan_Christoffel_Greyling_Botha__1</td>\n",
       "      <td>NaN</td>\n",
       "      <td>NaN</td>\n",
       "      <td>0</td>\n",
       "      <td>NaN</td>\n",
       "      <td>NaN</td>\n",
       "    </tr>\n",
       "    <tr>\n",
       "      <th>726985</th>\n",
       "      <td>Politician</td>\n",
       "      <td>Sudhanwa_Debbarma__Sudhanwa_Debbarma__1</td>\n",
       "      <td>NaN</td>\n",
       "      <td>NaN</td>\n",
       "      <td>0</td>\n",
       "      <td>NaN</td>\n",
       "      <td>NaN</td>\n",
       "    </tr>\n",
       "    <tr>\n",
       "      <th>727118</th>\n",
       "      <td>Politician</td>\n",
       "      <td>Sugata_Bose__Sugata_Bose__1</td>\n",
       "      <td>NaN</td>\n",
       "      <td>NaN</td>\n",
       "      <td>0</td>\n",
       "      <td>NaN</td>\n",
       "      <td>NaN</td>\n",
       "    </tr>\n",
       "    <tr>\n",
       "      <th>727236</th>\n",
       "      <td>Politician</td>\n",
       "      <td>Sulaiman_Shah__ab_al_Din_Sulaiman_shah_شهاب_ال...</td>\n",
       "      <td>NaN</td>\n",
       "      <td>NaN</td>\n",
       "      <td>0</td>\n",
       "      <td>NaN</td>\n",
       "      <td>NaN</td>\n",
       "    </tr>\n",
       "    <tr>\n",
       "      <th>858315</th>\n",
       "      <td>Athlete</td>\n",
       "      <td>Joe_Royal_(baseball)__Joe_Royal__1</td>\n",
       "      <td>NaN</td>\n",
       "      <td>NaN</td>\n",
       "      <td>0</td>\n",
       "      <td>1912.0</td>\n",
       "      <td>NaN</td>\n",
       "    </tr>\n",
       "  </tbody>\n",
       "</table>\n",
       "<p>24710 rows × 7 columns</p>\n",
       "</div>"
      ],
      "text/plain": [
       "          subclass                                           instance  \\\n",
       "70           Judge                         Virendra_Singh_(Lokayukta)   \n",
       "71           Judge                  Karen_Fort_Hood__US-judge-stub__1   \n",
       "72           Judge           Kelly_Thompson_(judge)__US-judge-stub__1   \n",
       "73           Judge               Jonathan_Remington__US-judge-stub__1   \n",
       "74           Judge                   Joseph_W._Nega__US-judge-stub__1   \n",
       "...            ...                                                ...   \n",
       "726644  Politician   Stoffel_Botha__Jan_Christoffel_Greyling_Botha__1   \n",
       "726985  Politician            Sudhanwa_Debbarma__Sudhanwa_Debbarma__1   \n",
       "727118  Politician                        Sugata_Bose__Sugata_Bose__1   \n",
       "727236  Politician  Sulaiman_Shah__ab_al_Din_Sulaiman_shah_شهاب_ال...   \n",
       "858315     Athlete                 Joe_Royal_(baseball)__Joe_Royal__1   \n",
       "\n",
       "       wikiDataID gender  age  birthYear  publication_year  \n",
       "70            NaN    NaN    0        NaN            2021.0  \n",
       "71            NaN    NaN    0        NaN               NaN  \n",
       "72            NaN    NaN    0        NaN               NaN  \n",
       "73            NaN    NaN    0        NaN               NaN  \n",
       "74            NaN    NaN    0        NaN               NaN  \n",
       "...           ...    ...  ...        ...               ...  \n",
       "726644        NaN    NaN    0        NaN               NaN  \n",
       "726985        NaN    NaN    0        NaN               NaN  \n",
       "727118        NaN    NaN    0        NaN               NaN  \n",
       "727236        NaN    NaN    0        NaN               NaN  \n",
       "858315        NaN    NaN    0     1912.0               NaN  \n",
       "\n",
       "[24710 rows x 7 columns]"
      ]
     },
     "execution_count": 69,
     "metadata": {},
     "output_type": "execute_result"
    }
   ],
   "source": [
    "df1.loc[((df1['age'] <= 0) & (df1['wikiDataID'].isna()))]"
   ]
  },
  {
   "cell_type": "code",
   "execution_count": 70,
   "id": "b799aa34-76f3-4b2e-8523-cb060fe0802c",
   "metadata": {},
   "outputs": [
    {
     "data": {
      "text/html": [
       "<div>\n",
       "<style scoped>\n",
       "    .dataframe tbody tr th:only-of-type {\n",
       "        vertical-align: middle;\n",
       "    }\n",
       "\n",
       "    .dataframe tbody tr th {\n",
       "        vertical-align: top;\n",
       "    }\n",
       "\n",
       "    .dataframe thead th {\n",
       "        text-align: right;\n",
       "    }\n",
       "</style>\n",
       "<table border=\"1\" class=\"dataframe\">\n",
       "  <thead>\n",
       "    <tr style=\"text-align: right;\">\n",
       "      <th></th>\n",
       "      <th>subclass</th>\n",
       "      <th>instance</th>\n",
       "      <th>wikiDataID</th>\n",
       "      <th>gender</th>\n",
       "      <th>age</th>\n",
       "      <th>birthYear</th>\n",
       "      <th>publication_year</th>\n",
       "    </tr>\n",
       "  </thead>\n",
       "  <tbody>\n",
       "    <tr>\n",
       "      <th>5</th>\n",
       "      <td>Judge</td>\n",
       "      <td>Beaumont_Hotham,_2nd_Baron_Hotham</td>\n",
       "      <td>Q18526620</td>\n",
       "      <td>male</td>\n",
       "      <td>0</td>\n",
       "      <td>NaN</td>\n",
       "      <td>2015.0</td>\n",
       "    </tr>\n",
       "    <tr>\n",
       "      <th>6</th>\n",
       "      <td>Judge</td>\n",
       "      <td>Benjamin_Lynde_Sr.</td>\n",
       "      <td>Q4888987</td>\n",
       "      <td>male</td>\n",
       "      <td>0</td>\n",
       "      <td>NaN</td>\n",
       "      <td>2012.0</td>\n",
       "    </tr>\n",
       "    <tr>\n",
       "      <th>7</th>\n",
       "      <td>Judge</td>\n",
       "      <td>Eldena_Bear_Don't_Walk</td>\n",
       "      <td>Q57292677</td>\n",
       "      <td>female</td>\n",
       "      <td>0</td>\n",
       "      <td>NaN</td>\n",
       "      <td>2018.0</td>\n",
       "    </tr>\n",
       "    <tr>\n",
       "      <th>8</th>\n",
       "      <td>Judge</td>\n",
       "      <td>Eleanor_Nisperos</td>\n",
       "      <td>Q66828308</td>\n",
       "      <td>female</td>\n",
       "      <td>0</td>\n",
       "      <td>NaN</td>\n",
       "      <td>2019.0</td>\n",
       "    </tr>\n",
       "    <tr>\n",
       "      <th>9</th>\n",
       "      <td>Judge</td>\n",
       "      <td>Elijah_Miller</td>\n",
       "      <td>Q5360957</td>\n",
       "      <td>male</td>\n",
       "      <td>0</td>\n",
       "      <td>NaN</td>\n",
       "      <td>2007.0</td>\n",
       "    </tr>\n",
       "    <tr>\n",
       "      <th>...</th>\n",
       "      <td>...</td>\n",
       "      <td>...</td>\n",
       "      <td>...</td>\n",
       "      <td>...</td>\n",
       "      <td>...</td>\n",
       "      <td>...</td>\n",
       "      <td>...</td>\n",
       "    </tr>\n",
       "    <tr>\n",
       "      <th>968299</th>\n",
       "      <td>Athlete</td>\n",
       "      <td>Walter_Andrews_(cyclist)</td>\n",
       "      <td>Q4531875</td>\n",
       "      <td>male</td>\n",
       "      <td>0</td>\n",
       "      <td>1881.0</td>\n",
       "      <td>2013.0</td>\n",
       "    </tr>\n",
       "    <tr>\n",
       "      <th>971260</th>\n",
       "      <td>Athlete</td>\n",
       "      <td>Wibs_Kautz</td>\n",
       "      <td>Q1528032</td>\n",
       "      <td>male</td>\n",
       "      <td>0</td>\n",
       "      <td>1915.0</td>\n",
       "      <td>2014.0</td>\n",
       "    </tr>\n",
       "    <tr>\n",
       "      <th>972301</th>\n",
       "      <td>Athlete</td>\n",
       "      <td>William_Addison_(chess_player)</td>\n",
       "      <td>Q559497</td>\n",
       "      <td>male</td>\n",
       "      <td>-5</td>\n",
       "      <td>1933.0</td>\n",
       "      <td>2012.0</td>\n",
       "    </tr>\n",
       "    <tr>\n",
       "      <th>974442</th>\n",
       "      <td>Athlete</td>\n",
       "      <td>Willye_White</td>\n",
       "      <td>Q439674</td>\n",
       "      <td>female</td>\n",
       "      <td>-8</td>\n",
       "      <td>1939.0</td>\n",
       "      <td>2006.0</td>\n",
       "    </tr>\n",
       "    <tr>\n",
       "      <th>975091</th>\n",
       "      <td>Athlete</td>\n",
       "      <td>Yoyo_Díaz</td>\n",
       "      <td>Q8059424</td>\n",
       "      <td>male</td>\n",
       "      <td>0</td>\n",
       "      <td>1905.0</td>\n",
       "      <td>2024.0</td>\n",
       "    </tr>\n",
       "  </tbody>\n",
       "</table>\n",
       "<p>251378 rows × 7 columns</p>\n",
       "</div>"
      ],
      "text/plain": [
       "       subclass                           instance wikiDataID  gender  age  \\\n",
       "5         Judge  Beaumont_Hotham,_2nd_Baron_Hotham  Q18526620    male    0   \n",
       "6         Judge                 Benjamin_Lynde_Sr.   Q4888987    male    0   \n",
       "7         Judge             Eldena_Bear_Don't_Walk  Q57292677  female    0   \n",
       "8         Judge                   Eleanor_Nisperos  Q66828308  female    0   \n",
       "9         Judge                      Elijah_Miller   Q5360957    male    0   \n",
       "...         ...                                ...        ...     ...  ...   \n",
       "968299  Athlete           Walter_Andrews_(cyclist)   Q4531875    male    0   \n",
       "971260  Athlete                         Wibs_Kautz   Q1528032    male    0   \n",
       "972301  Athlete     William_Addison_(chess_player)    Q559497    male   -5   \n",
       "974442  Athlete                       Willye_White    Q439674  female   -8   \n",
       "975091  Athlete                          Yoyo_Díaz   Q8059424    male    0   \n",
       "\n",
       "        birthYear  publication_year  \n",
       "5             NaN            2015.0  \n",
       "6             NaN            2012.0  \n",
       "7             NaN            2018.0  \n",
       "8             NaN            2019.0  \n",
       "9             NaN            2007.0  \n",
       "...           ...               ...  \n",
       "968299     1881.0            2013.0  \n",
       "971260     1915.0            2014.0  \n",
       "972301     1933.0            2012.0  \n",
       "974442     1939.0            2006.0  \n",
       "975091     1905.0            2024.0  \n",
       "\n",
       "[251378 rows x 7 columns]"
      ]
     },
     "execution_count": 70,
     "metadata": {},
     "output_type": "execute_result"
    }
   ],
   "source": [
    "df1.loc[((df1['age'] <= 0) & (df1['wikiDataID'].notna()))]"
   ]
  },
  {
   "cell_type": "code",
   "execution_count": 142,
   "id": "73703ffa-fe87-4dfd-ad06-b067cd001b9c",
   "metadata": {},
   "outputs": [
    {
     "data": {
      "text/plain": [
       "count         944690\n",
       "unique        762928\n",
       "top       Q113501042\n",
       "freq             133\n",
       "Name: wikiDataID, dtype: object"
      ]
     },
     "execution_count": 142,
     "metadata": {},
     "output_type": "execute_result"
    }
   ],
   "source": [
    "df1.loc[df1['wikiDataID'].notna()]['wikiDataID'].describe()"
   ]
  },
  {
   "cell_type": "code",
   "execution_count": null,
   "id": "38e52b76-856e-40ac-95f4-30144602d4f3",
   "metadata": {},
   "outputs": [],
   "source": []
  }
 ],
 "metadata": {
  "kernelspec": {
   "display_name": "Python 3 (ipykernel)",
   "language": "python",
   "name": "python3"
  },
  "language_info": {
   "codemirror_mode": {
    "name": "ipython",
    "version": 3
   },
   "file_extension": ".py",
   "mimetype": "text/x-python",
   "name": "python",
   "nbconvert_exporter": "python",
   "pygments_lexer": "ipython3",
   "version": "3.11.6"
  }
 },
 "nbformat": 4,
 "nbformat_minor": 5
}
